{
 "cells": [
  {
   "cell_type": "markdown",
   "metadata": {},
   "source": [
    "#### Insert EFS as additional column in metadata"
   ]
  },
  {
   "cell_type": "code",
   "execution_count": 13,
   "metadata": {},
   "outputs": [],
   "source": [
    "RPATH1 <- \"data/GSE67684/processed/metadata/metadata-label_mrd_subtype.tsv\"\n",
    "metadata <- read.table(RPATH1, sep = \"\\t\", header = T)\n",
    "\n",
    "RPATH2 <- \"data/GSE67684/processed/metadata/lab_id.tsv\"\n",
    "id <- read.table(RPATH2, sep = \"\\t\", header = T, row.names = 2)\n",
    "\n",
    "RPATH3 <- \"data/GSE67684/README/survival_data.tsv\"\n",
    "efs <- read.table(RPATH3, sep = \"\\t\", header = T, row.names = 1)"
   ]
  },
  {
   "cell_type": "code",
   "execution_count": 37,
   "metadata": {},
   "outputs": [],
   "source": [
    "lab_id <- as.character(id[rownames(metadata), ])\n",
    "metadata1 <- cbind(metadata, years = efs[lab_id, \"years\"])\n",
    "metadata2 <- metadata1[, c(1:5,8,6,7)]\n",
    "\n",
    "WPATH <- \"data/GSE67684/processed/metadata/pid-mrd_label_efs_subtype.tsv\"\n",
    "write.table(metadata2, WPATH, quote = F, sep = \"\\t\")"
   ]
  }
 ],
 "metadata": {
  "kernelspec": {
   "display_name": "R",
   "language": "R",
   "name": "ir"
  },
  "language_info": {
   "codemirror_mode": "r",
   "file_extension": ".r",
   "mimetype": "text/x-r-source",
   "name": "R",
   "pygments_lexer": "r",
   "version": "3.5.1"
  }
 },
 "nbformat": 4,
 "nbformat_minor": 2
}
