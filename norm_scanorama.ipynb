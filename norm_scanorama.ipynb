{
 "cells": [
  {
   "cell_type": "code",
   "execution_count": 1,
   "metadata": {},
   "outputs": [
    {
     "name": "stderr",
     "output_type": "stream",
     "text": [
      "/home/dblux/anaconda3/envs/r-1/lib/python3.7/site-packages/sklearn/externals/six.py:31: DeprecationWarning: The module is deprecated in version 0.21 and will be removed in version 0.23 since we've dropped support for Python 2.7. Please rely on the official version of six (https://pypi.org/project/six/).\n",
      "  \"(https://pypi.org/project/six/).\", DeprecationWarning)\n"
     ]
    }
   ],
   "source": [
    "import numpy as np\n",
    "import scanorama\n",
    "import scipy.sparse as sparse\n",
    "import pandas as pd"
   ]
  },
  {
   "cell_type": "code",
   "execution_count": 20,
   "metadata": {
    "scrolled": true
   },
   "outputs": [
    {
     "name": "stdout",
     "output_type": "stream",
     "text": [
      "[[10.4429197  10.0894816  10.29571872 10.35757347 10.21380008]\n",
      " [10.72762168 10.59069949 10.57948343 10.76824546 10.61812718]\n",
      " [ 7.00130038  7.06207895  6.61484286  0.          6.58594095]\n",
      " [ 8.97386004  8.79325509  8.88049813  8.91367007  8.8296496 ]\n",
      " [ 0.          0.          0.          0.          0.        ]]\n",
      "(54675, 51)\n"
     ]
    }
   ],
   "source": [
    "num_batches = 6\n",
    "odd_batches = [10,9,9,8,8,7]\n",
    "odd_cutpoints = np.cumsum(odd_batches)[:-1]\n",
    "\n",
    "log_maqc = np.loadtxt(\"data/scanorama/odd_log_maqc.tsv\")\n",
    "print(log_maqc[:5,:5])\n",
    "print(log_maqc.shape)"
   ]
  },
  {
   "cell_type": "code",
   "execution_count": 23,
   "metadata": {},
   "outputs": [
    {
     "name": "stdout",
     "output_type": "stream",
     "text": [
      "(10, 54675)\n",
      "(9, 54675)\n",
      "(9, 54675)\n",
      "(8, 54675)\n",
      "(8, 54675)\n",
      "(7, 54675)\n"
     ]
    }
   ],
   "source": [
    "# Transpose array into samples x genes\n",
    "# list_arr = np.split(np.transpose(log_maqc), num_batches, axis = 0)\n",
    "# When batches are in odd proportions\n",
    "list_arr = np.split(np.transpose(log_maqc), odd_cutpoints, axis = 0)\n",
    "for elem in list_arr:\n",
    "    print(elem.shape)"
   ]
  },
  {
   "cell_type": "code",
   "execution_count": 22,
   "metadata": {
    "scrolled": true
   },
   "outputs": [
    {
     "name": "stdout",
     "output_type": "stream",
     "text": [
      "6\n"
     ]
    }
   ],
   "source": [
    "file = \"data/scanorama/probeset_names.txt\"\n",
    "with open(file, \"r\") as f:\n",
    "    list_genes = f.readlines()\n",
    "\n",
    "list_genes = [gene.strip() for gene in list_genes]\n",
    "# Repeat list of genes for each batch\n",
    "list_list_genes = [list_genes] * num_batches\n",
    "print(len(list_list_genes))"
   ]
  },
  {
   "cell_type": "code",
   "execution_count": 27,
   "metadata": {
    "scrolled": true
   },
   "outputs": [
    {
     "name": "stdout",
     "output_type": "stream",
     "text": [
      "Found 54675 genes among all datasets\n",
      "[[0.         0.88888889 0.         0.875      0.125      0.6       ]\n",
      " [0.         0.         0.77777778 0.22222222 0.44444444 0.57142857]\n",
      " [0.         0.         0.         0.66666667 0.875      0.28571429]\n",
      " [0.         0.         0.         0.         0.25       0.42857143]\n",
      " [0.         0.         0.         0.         0.         0.        ]\n",
      " [0.         0.         0.         0.         0.         0.        ]]\n",
      "Processing datasets (0, 1)\n",
      "Processing datasets (2, 4)\n",
      "Processing datasets (0, 3)\n",
      "Processing datasets (1, 2)\n",
      "Processing datasets (2, 3)\n",
      "Processing datasets (0, 5)\n",
      "Processing datasets (1, 5)\n",
      "Processing datasets (1, 4)\n",
      "Processing datasets (3, 5)\n",
      "Processing datasets (2, 5)\n",
      "Processing datasets (3, 4)\n",
      "Processing datasets (1, 3)\n",
      "Processing datasets (0, 4)\n"
     ]
    }
   ],
   "source": [
    "# # Integration (Returns SVD embeddings)\n",
    "# integrated, genes = scanorama.integrate(list_arr, list_list_genes)\n",
    "\n",
    "# Batch correction.\n",
    "list_corrected_arr, gene_colnames = scanorama.correct(list_arr, list_list_genes, knn = 5)\n",
    "\n",
    "# # Integration and batch correction.\n",
    "# integrated, corrected, genes = scanorama.correct(list_arr, list_list_genes, return_dimred=True)"
   ]
  },
  {
   "cell_type": "code",
   "execution_count": 28,
   "metadata": {},
   "outputs": [
    {
     "name": "stdout",
     "output_type": "stream",
     "text": [
      "(54675, 51)\n",
      "                  0         1         2         3         4\n",
      "1007_s_at  0.006896  0.006615  0.006770  0.006811  0.006735\n",
      "1053_at    0.006670  0.006488  0.006540  0.006646  0.006558\n",
      "117_at     0.006690  0.006808  0.006428  0.002282  0.006499\n",
      "121_at     0.005744  0.005572  0.005656  0.005675  0.005634\n",
      "1255_g_at  0.000024  0.000095  0.000039  0.000064  0.000097\n"
     ]
    }
   ],
   "source": [
    "corrected_arr = sparse.vstack(list_corrected_arr)\n",
    "corrected_arr1 = sparse.csr_matrix.transpose(corrected_arr)\n",
    "print(corrected_arr1.shape)\n",
    "# Replace negative values with 0\n",
    "corrected_arr1[corrected_arr1 < 0] = 0\n",
    "corrected_df = pd.DataFrame(corrected_arr1.toarray())\n",
    "# Name rownames of df with output list from scanorama\n",
    "corrected_df.index = gene_colnames\n",
    "# Rows of genes not ordered the same way as input\n",
    "# Sort rows according to initial rownames\n",
    "corrected_df1 = corrected_df.reindex(list_genes)\n",
    "print(corrected_df1.iloc[:5,:5])"
   ]
  },
  {
   "cell_type": "code",
   "execution_count": 29,
   "metadata": {},
   "outputs": [],
   "source": [
    "corrected_df1.to_csv(\"data/scanorama/scanorama_data_odd_k5.tsv\",\n",
    "                     sep = \"\\t\", header = False)"
   ]
  },
  {
   "cell_type": "code",
   "execution_count": null,
   "metadata": {},
   "outputs": [],
   "source": []
  }
 ],
 "metadata": {
  "kernelspec": {
   "display_name": "Python 3",
   "language": "python",
   "name": "python3"
  },
  "language_info": {
   "codemirror_mode": {
    "name": "ipython",
    "version": 3
   },
   "file_extension": ".py",
   "mimetype": "text/x-python",
   "name": "python",
   "nbconvert_exporter": "python",
   "pygments_lexer": "ipython3",
   "version": "3.7.3"
  }
 },
 "nbformat": 4,
 "nbformat_minor": 2
}
