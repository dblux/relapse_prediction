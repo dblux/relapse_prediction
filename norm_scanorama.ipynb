{
 "cells": [
  {
   "cell_type": "code",
   "execution_count": 1,
   "metadata": {},
   "outputs": [
    {
     "name": "stderr",
     "output_type": "stream",
     "text": [
      "/home/dblux/anaconda3/envs/r-1/lib/python3.7/site-packages/sklearn/externals/six.py:31: DeprecationWarning: The module is deprecated in version 0.21 and will be removed in version 0.23 since we've dropped support for Python 2.7. Please rely on the official version of six (https://pypi.org/project/six/).\n",
      "  \"(https://pypi.org/project/six/).\", DeprecationWarning)\n"
     ]
    }
   ],
   "source": [
    "import numpy as np\n",
    "import scanorama\n",
    "import scipy.sparse as sparse\n",
    "import pandas as pd"
   ]
  },
  {
   "cell_type": "code",
   "execution_count": 7,
   "metadata": {
    "scrolled": true
   },
   "outputs": [
    {
     "name": "stdout",
     "output_type": "stream",
     "text": [
      "[[10.4429197  10.0894816  10.29571872 10.35757347 10.21380008]\n",
      " [10.72762168 10.59069949 10.57948343 10.76824546 10.61812718]\n",
      " [ 7.00130038  7.06207895  6.61484286  0.          6.58594095]\n",
      " [ 8.97386004  8.79325509  8.88049813  8.91367007  8.8296496 ]\n",
      " [ 0.          0.          0.          0.          0.        ]]\n",
      "(54675, 51)\n"
     ]
    }
   ],
   "source": [
    "num_batches = 6\n",
    "odd_batches = [10,9,9,8,8,7]\n",
    "odd_cutpoints = np.cumsum(odd_batches)[:-1]\n",
    "\n",
    "# log_maqc = np.loadtxt(\"data/scanorama/odd_log_maqc.tsv\")\n",
    "print(log_maqc[:5,:5])\n",
    "print(log_maqc.shape)"
   ]
  },
  {
   "cell_type": "code",
   "execution_count": 14,
   "metadata": {},
   "outputs": [
    {
     "name": "stdout",
     "output_type": "stream",
     "text": [
      "6\n",
      "54675\n",
      "54675\n"
     ]
    }
   ],
   "source": [
    "# Transpose array into samples x genes\n",
    "list_arr = np.split(np.transpose(log_maqc), odd_cutpoints, axis = 0)\n",
    "\n",
    "file = \"data/scanorama/probeset_names.txt\"\n",
    "with open(file, \"r\") as f:\n",
    "    list_genes = f.readlines()\n",
    "\n",
    "list_genes = [gene.strip() for gene in list_genes]\n",
    "# Repeat list of genes for each batch\n",
    "list_list_genes = [list_genes] * num_batches\n",
    "print(len(list_list_genes))"
   ]
  },
  {
   "cell_type": "code",
   "execution_count": 15,
   "metadata": {},
   "outputs": [
    {
     "name": "stdout",
     "output_type": "stream",
     "text": [
      "Found 54675 genes among all datasets\n",
      "[[0. 1. 1. 1. 1. 1.]\n",
      " [0. 0. 1. 1. 1. 1.]\n",
      " [0. 0. 0. 1. 1. 1.]\n",
      " [0. 0. 0. 0. 1. 1.]\n",
      " [0. 0. 0. 0. 0. 1.]\n",
      " [0. 0. 0. 0. 0. 0.]]\n",
      "Processing datasets (4, 5)\n",
      "Processing datasets (3, 5)\n",
      "Processing datasets (3, 4)\n",
      "Processing datasets (2, 5)\n",
      "Processing datasets (2, 4)\n",
      "Processing datasets (2, 3)\n",
      "Processing datasets (1, 5)\n",
      "Processing datasets (1, 4)\n",
      "Processing datasets (1, 3)\n",
      "Processing datasets (1, 2)\n",
      "Processing datasets (0, 5)\n",
      "Processing datasets (0, 4)\n",
      "Processing datasets (0, 3)\n",
      "Processing datasets (0, 2)\n",
      "Processing datasets (0, 1)\n"
     ]
    }
   ],
   "source": [
    "# # Integration (Returns SVD embeddings)\n",
    "# integrated, genes = scanorama.integrate(list_arr, list_list_genes)\n",
    "\n",
    "# Batch correction.\n",
    "list_corrected_arr, gene_colnames = scanorama.correct(list_arr, list_list_genes)\n",
    "\n",
    "# # Integration and batch correction.\n",
    "# integrated, corrected, genes = scanorama.correct(list_arr, list_list_genes, return_dimred=True)"
   ]
  },
  {
   "cell_type": "code",
   "execution_count": 20,
   "metadata": {},
   "outputs": [
    {
     "name": "stdout",
     "output_type": "stream",
     "text": [
      "(54675, 51)\n",
      "                  0         1         2         3         4\n",
      "1007_s_at  0.006935  0.006712  0.006841  0.006867  0.006808\n",
      "1053_at    0.006396  0.006276  0.006301  0.006387  0.006324\n",
      "117_at     0.005053  0.005073  0.004856  0.001706  0.004855\n",
      "121_at     0.005670  0.005538  0.005605  0.005618  0.005586\n",
      "1255_g_at  0.000297  0.000293  0.000298  0.000295  0.000299\n"
     ]
    }
   ],
   "source": [
    "corrected_arr = sparse.vstack(list_corrected_arr)\n",
    "corrected_arr1 = sparse.csr_matrix.transpose(corrected_arr)\n",
    "print(corrected_arr1.shape)\n",
    "# Replace negative values with 0\n",
    "corrected_arr1[corrected_arr1 < 0] = 0\n",
    "corrected_df = pd.DataFrame(corrected_arr1.toarray())\n",
    "# Name rownames of df with output list from scanorama\n",
    "corrected_df.index = gene_colnames\n",
    "# Rows of genes not ordered the same way as input\n",
    "# Sort rows according to initial rownames\n",
    "corrected_df1 = corrected_df.reindex(list_genes)\n",
    "print(corrected_df1.iloc[:5,:5])"
   ]
  },
  {
   "cell_type": "code",
   "execution_count": 21,
   "metadata": {},
   "outputs": [],
   "source": [
    "corrected_df1.to_csv(\"data/scanorama/scanorama_data_odd.tsv\",\n",
    "                     sep = \"\\t\", header = False)"
   ]
  }
 ],
 "metadata": {
  "kernelspec": {
   "display_name": "Python 3",
   "language": "python",
   "name": "python3"
  },
  "language_info": {
   "codemirror_mode": {
    "name": "ipython",
    "version": 3
   },
   "file_extension": ".py",
   "mimetype": "text/x-python",
   "name": "python",
   "nbconvert_exporter": "python",
   "pygments_lexer": "ipython3",
   "version": "3.7.3"
  }
 },
 "nbformat": 4,
 "nbformat_minor": 2
}
