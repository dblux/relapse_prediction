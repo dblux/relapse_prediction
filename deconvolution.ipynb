{
 "cells": [
  {
   "cell_type": "code",
   "execution_count": 3,
   "metadata": {},
   "outputs": [
    {
     "name": "stderr",
     "output_type": "stream",
     "text": [
      "\n",
      "Attaching package: ‘dplyr’\n",
      "\n",
      "The following objects are masked from ‘package:stats’:\n",
      "\n",
      "    filter, lag\n",
      "\n",
      "The following objects are masked from ‘package:base’:\n",
      "\n",
      "    intersect, setdiff, setequal, union\n",
      "\n",
      "\n",
      "********************************************************\n",
      "Note: As of version 1.0.0, cowplot does not change the\n",
      "  default ggplot2 theme anymore. To recover the previous\n",
      "  behavior, execute:\n",
      "  theme_set(theme_cowplot())\n",
      "********************************************************\n",
      "\n",
      "Type 'citation(\"pROC\")' for a citation.\n",
      "\n",
      "Attaching package: ‘pROC’\n",
      "\n",
      "The following objects are masked from ‘package:stats’:\n",
      "\n",
      "    cov, smooth, var\n",
      "\n"
     ]
    }
   ],
   "source": [
    "library(dplyr)\n",
    "library(survival)\n",
    "library(reshape2)\n",
    "library(tibble)\n",
    "library(xtable)\n",
    "\n",
    "## Plotting\n",
    "library(ggplot2)\n",
    "library(cowplot)\n",
    "library(pROC)\n",
    "\n",
    "library(RColorBrewer)\n",
    "library(pheatmap)\n",
    "# library(rgl)\n",
    "# library(VennDiagram)\n",
    "# library(UpSetR)\n",
    "# library(Rtsne)\n",
    "# library(dendextend)\n",
    "# library(repr)\n",
    "# options(repr.plot.width=8, repr.plot.height=4)\n",
    "\n",
    "theme_set(theme_bw())"
   ]
  },
  {
   "cell_type": "code",
   "execution_count": 4,
   "metadata": {},
   "outputs": [],
   "source": [
    "source(\"R/calc.R\")\n",
    "source(\"R/misc.R\")\n",
    "source(\"R/normalise.R\")\n",
    "source(\"R/plot.R\")\n",
    "source(\"R/predict.R\")\n",
    "source(\"R/subset.R\")\n",
    "source(\"R/utils.R\")"
   ]
  },
  {
   "cell_type": "markdown",
   "metadata": {},
   "source": [
    "## Import data"
   ]
  },
  {
   "cell_type": "code",
   "execution_count": 5,
   "metadata": {
    "scrolled": false
   },
   "outputs": [
    {
     "name": "stdout",
     "output_type": "stream",
     "text": [
      "  P001_D0   P004_D0   P005_D0   P007_D0   P008_D0   P009_D0 \n",
      " 5.796952  4.123342  3.981577  6.317643  4.841458 11.978124 \n",
      "[1] \"No. of ambiguous and AFFY probesets removed: 10503\"\n",
      "[1] D0 D0 D0 D0 D0 D0\n",
      "Levels: D0 D8 N\n",
      "           D0    D8     N\n",
      "1053_at  TRUE  TRUE  TRUE\n",
      "117_at  FALSE  TRUE  TRUE\n",
      "121_at   TRUE  TRUE  TRUE\n",
      "1294_at  TRUE  TRUE  TRUE\n",
      "1316_at  TRUE  TRUE  TRUE\n",
      "1320_at FALSE FALSE FALSE\n",
      "[1] \"No. of probesets removed = 6321\"\n"
     ]
    }
   ],
   "source": [
    "## Metadata\n",
    "METADATA_RPATH <- \"data/GSE67684/processed/metadata/sid-metadata_v2.tsv\"\n",
    "LABEL_RPATH <- \"data/GSE67684/processed/metadata/pid-metadata_v4.tsv\"\n",
    "BATCH_RPATH <- \"data/GSE67684/processed/metadata/sid-batch.tsv\"\n",
    "\n",
    "metadata_df <- read.table(METADATA_RPATH, sep = \"\\t\")\n",
    "yeoh_batch <- read.table(BATCH_RPATH, sep = \"\\t\", header = T, row.names = 1)\n",
    "yeoh_label <- read.table(LABEL_RPATH, sep = \"\\t\", header = T, row.names = 1)\n",
    "yeoh_label[] <- lapply(yeoh_label, as.factor)\n",
    "\n",
    "## Subset of original data\n",
    "# Removed outliers, patients with timepoints from different batches and batch 5\n",
    "SUBSET_RPATH <- \"data/GSE67684/processed/subset_yeoh.tsv\"\n",
    "raw_yeoh <- read.table(SUBSET_RPATH, sep = \"\\t\")\n",
    "# SCALE->REMOVE->FILTER->LOG\n",
    "scaled_yeoh <- normaliseMeanScaling(raw_yeoh)\n",
    "selected_yeoh <- removeProbesets(scaled_yeoh)\n",
    "data <- log2_transform(filterProbesets(selected_yeoh, 0.7, metadata_df))"
   ]
  },
  {
   "cell_type": "code",
   "execution_count": 6,
   "metadata": {},
   "outputs": [],
   "source": [
    "yeoh_allps <- log2_transform(scaled_yeoh)\n",
    "yeoh_unfltr <- log2_transform(selected_yeoh)"
   ]
  },
  {
   "cell_type": "markdown",
   "metadata": {},
   "source": [
    "#### Day 33"
   ]
  },
  {
   "cell_type": "code",
   "execution_count": 7,
   "metadata": {},
   "outputs": [
    {
     "name": "stdout",
     "output_type": "stream",
     "text": [
      "P001_D33 P006_D33 P007_D33 P008_D33 P009_D33 P010_D33 \n",
      "2.106859 2.132480 1.498776 2.559182 1.576584 2.657973 \n"
     ]
    }
   ],
   "source": [
    "path1 <- \"data/leuk_D33/processed/mas5_filtered.tsv\"\n",
    "path2 <- \"data/GSE67684/processed/metadata/sid-metadata_v1.tsv\"\n",
    "\n",
    "yeoh_d33 <- read.table(path1, sep = \"\\t\", header = T)\n",
    "annot_all <- read.table(path2, sep = \"\\t\", header = T)\n",
    "\n",
    "annot_all[] <- lapply(annot_all, as.factor)\n",
    "annot_all$class_info<- factor(\n",
    "  annot_all$class_info,\n",
    "  levels = c('D0', 'D8', 'D33', 'N')\n",
    ")\n",
    "\n",
    "yeoh_d33_allps <- log2_transform(normaliseMeanScaling(yeoh_d33))\n",
    "# Remove samples that have been curated out of data set\n",
    "# Members that have been curated out are no longer in annot_all\n",
    "missing_samples <- colnames(yeoh_d33_allps)[\n",
    "  !(colnames(yeoh_d33_allps) %in% rownames(annot_all))]\n",
    "# Remove patients from D33 that have been curated out\n",
    "yeoh_d33 <- yeoh_d33_allps[\n",
    "  rownames(data),\n",
    "  !(colnames(yeoh_d33_allps) %in% missing_samples)\n",
    "]"
   ]
  },
  {
   "cell_type": "code",
   "execution_count": 9,
   "metadata": {},
   "outputs": [],
   "source": [
    "# allyeoh <- allyeoh_allps[rownames(data), ]"
   ]
  },
  {
   "cell_type": "markdown",
   "metadata": {},
   "source": [
    "### Commonly used globals"
   ]
  },
  {
   "cell_type": "code",
   "execution_count": 10,
   "metadata": {},
   "outputs": [],
   "source": [
    "COL_LABEL <- c(\"darkolivegreen3\", \"tomato3\")\n",
    "\n",
    "annot <- metadata_df[colnames(data),]\n",
    "Y_annot <- annot[,c(\"batch_info\", \"label\")] # heatmap annot\n",
    "# Y_all <- all_metadata[colnames(data_all),]\n",
    "\n",
    "# List subtypes\n",
    "subtypes9 <- levels(metadata_df$subtype)\n",
    "subtypes7 <- setdiff(subtypes9, c(\"Hypodiploid\", \"Normal\"))\n",
    "subtypes6 <- setdiff(subtypes7, \"Others\")\n",
    "subtypes5 <- setdiff(\n",
    "  subtypes9,\n",
    "  c(\"Hypodiploid\", \"Normal\", \"Hyperdiploid\", \"Others\")\n",
    ")\n",
    "others <- data[, annot$subtype == \"Others\"]\n",
    "others_normal <- data[, annot$subtype %in% c(\"Others\", \"Normal\")]\n",
    "\n",
    "heatmap_annot <- annot[, c(\"batch_info\", \"label\"), drop = F]"
   ]
  },
  {
   "cell_type": "code",
   "execution_count": 11,
   "metadata": {},
   "outputs": [],
   "source": [
    "# Define train/test split\n",
    "sid_mrd_na <- rownames(yeoh_label)[is.na(yeoh_label$d33_mrd)] %>%\n",
    "  rep(each = 2) %>%\n",
    "  paste0(c(\"_D0\", \"_D8\"))\n",
    "\n",
    "sid_alltrain_local <- rownames(annot)[\n",
    "  !(annot$subtype %in% c(\"Hypodiploid\", \"Normal\")) &\n",
    "  !(rownames(annot) %in% sid_mrd_na)\n",
    "]\n",
    "sid_alltrain <- rownames(annot)[\n",
    "  !(annot$subtype %in% c(\"Hypodiploid\", \"Hyperdiploid\", \"Others\", \"Normal\")) &\n",
    "  !(rownames(annot) %in% sid_mrd_na)\n",
    "]\n",
    "sid_train <- rownames(annot)[\n",
    "  annot$batch_info %in% 1:7 &\n",
    "  !(annot$subtype %in% c(\"Hypodiploid\", \"Hyperdiploid\", \"Others\", \"Normal\")) &\n",
    "  !(rownames(annot) %in% sid_mrd_na)\n",
    "]\n",
    "sid_test <- rownames(annot)[\n",
    "  annot$batch_info %in% 8:10 &\n",
    "  !(annot$subtype %in% c(\"Hypodiploid\", \"Hyperdiploid\", \"Others\", \"Normal\")) &\n",
    "  !(rownames(annot) %in% sid_mrd_na)\n",
    "]\n",
    "\n",
    "sid_remission <- rownames(annot)[annot$label == 0]\n",
    "sid_normal <- paste0(\"N0\", c(1,2,4))"
   ]
  },
  {
   "cell_type": "markdown",
   "metadata": {},
   "source": [
    "#### Remove batch effect genes"
   ]
  },
  {
   "cell_type": "code",
   "execution_count": 12,
   "metadata": {
    "scrolled": false
   },
   "outputs": [
    {
     "name": "stdout",
     "output_type": "stream",
     "text": [
      "[1] \"No. of NaNs = 0\"\n"
     ]
    },
    {
     "data": {
      "text/html": [
       "2565"
      ],
      "text/latex": [
       "2565"
      ],
      "text/markdown": [
       "2565"
      ],
      "text/plain": [
       "[1] 2565"
      ]
     },
     "metadata": {},
     "output_type": "display_data"
    }
   ],
   "source": [
    "batch_ps <- identify_batch_features(data, annot, method = 'aov')\n",
    "length(batch_ps)"
   ]
  },
  {
   "cell_type": "markdown",
   "metadata": {},
   "source": [
    "### Plot: Vectors (UMAP)"
   ]
  },
  {
   "cell_type": "code",
   "execution_count": 134,
   "metadata": {},
   "outputs": [],
   "source": [
    "# #' Performs PCA and plots vectors. Assume: 3 normal samples\n",
    "# #' @param X dataframe with features x samples and containing\n",
    "# #' D0, D8 and 3 Normal patients (ordered correctly)\n",
    "# plot_vectors <- function(\n",
    "#   X, metadata_df, pca = T, cex = 3, main = NULL\n",
    "# ) {\n",
    "#   # PCA\n",
    "#   if (pca) {\n",
    "#     pca_obj <- prcomp(t(X), scale = T)\n",
    "#     pca_df <- data.frame(pca_obj$x[,1:2])\n",
    "#     n <- nrow(pca_df)\n",
    "#     d0_pca <- pca_df[1:((n-3) / 2),]\n",
    "#     d8_pca <- pca_df[((n-1) / 2):(n-3),]\n",
    "    \n",
    "#     stopifnot(all(substring(rownames(d0_pca), 1, 4) == substring(rownames(d8_pca), 1, 4)))\n",
    "    \n",
    "#     subtype_pca <- cbind(d0_pca, d8_pca)\n",
    "#     colnames(subtype_pca) <- c(\"start_x\", \"start_y\", \"end_x\", \"end_y\")\n",
    "#     norm_pca <- pca_df[(n-2):n,]\n",
    "    \n",
    "#     # Obtaining batch and class annotations\n",
    "#     label <- as.numeric(metadata_df[rownames(d0_pca), \"label\"]) + 1\n",
    "#     batch <- as.factor(metadata_df[rownames(d0_pca), \"batch_info\"])\n",
    "#     print(label)\n",
    "    \n",
    "#     # Axis labels\n",
    "#     eigenvalues <- (pca_obj$sdev)^2\n",
    "#     var_pc <- eigenvalues[1:4]/sum(eigenvalues)\n",
    "#     pc_labels <- sprintf(\"PC%d (%.2f%%)\", 1:4, var_pc*100)\n",
    "#   } else {\n",
    "#     print(\"No PCA performed!\")\n",
    "#     pca_df <- data.frame(X)\n",
    "#   }\n",
    "  \n",
    "#   scatter_pca <- ggplot(data = subtype_pca) +\n",
    "#     geom_point(aes(x = start_x, y = start_y, colour = batch), shape = 15,\n",
    "#                size = cex, show.legend = T) +\n",
    "#     geom_point(aes(x = end_x, y = end_y, colour = batch), shape = 16,\n",
    "#                size = cex, show.legend = F) +\n",
    "#     geom_segment(aes(x = start_x, y = start_y, xend = end_x, yend = end_y),\n",
    "#                  arrow = arrow(length = unit(0.3, \"cm\")),\n",
    "#                  alpha = 0.5, colour = label) +\n",
    "# #     geom_text(aes(x = PC1_A, y = PC2_A,\n",
    "# #                   label = rownames(subtype_pca)),\n",
    "# #               position = position_nudge(x = 4, y = 2), size = 2.5) +\n",
    "#     geom_point(data = norm_pca, aes(x = PC1, y = PC2),\n",
    "#                size = cex, shape = 17)\n",
    "  \n",
    "#   if (pca) {\n",
    "#     scatter_pca <- scatter_pca +\n",
    "#       xlab(pc_labels[1]) + ylab(pc_labels[2])\n",
    "#   }\n",
    "  \n",
    "#   if (!is.null(main)) {\n",
    "#     scatter_pca <- scatter_pca + labs(title = main)\n",
    "#   }\n",
    "  \n",
    "#   return(scatter_pca)\n",
    "# }"
   ]
  },
  {
   "cell_type": "code",
   "execution_count": 152,
   "metadata": {},
   "outputs": [],
   "source": [
    "# umap_others <- umap(t(others_normal))"
   ]
  },
  {
   "cell_type": "code",
   "execution_count": 129,
   "metadata": {
    "scrolled": true
   },
   "outputs": [
    {
     "name": "stderr",
     "output_type": "stream",
     "text": [
      "Saving 6.67 x 6.67 in image\n"
     ]
    }
   ],
   "source": [
    "# umap_others1 <- cbind(\n",
    "#   x = umap_others$layout,\n",
    "#   Y[rownames(umap_others$layout), ]\n",
    "# )\n",
    "\n",
    "# umap_others2 <- umap_others1[umap_others1$subtype == \"Others\", ]\n",
    "# umap_normal <- umap_others1[umap_others1$subtype == \"Normal\", ]\n",
    "# umap_others3 <- umap_others2[seq_len(nrow(umap_others2) / 2), ]\n",
    "# others_d8 <- umap_others2[seq(nrow(umap_others2) / 2 + 1, nrow(umap_others2)), 1:2]\n",
    "# umap_others4 <- cbind(umap_others3, others_d8)\n",
    "# umap_others4 <- umap_others4[, c(1,2,7,8,3:6)]\n",
    "# colnames(umap_others4)[1:4] <- c(\"start_x\", \"start_y\", \"end_x\", \"end_y\")\n",
    "# umap_others4$batch_info <- as.factor(umap_others4$batch_info)\n",
    "# umap_others4$label <- as.factor(umap_others4$label)\n",
    "# arrow_col <- ifelse(umap_others4$label == 0, \"black\", \"red\")\n",
    "\n",
    "# scatter_pca <- ggplot(data = umap_others4) +\n",
    "#   geom_point(aes(x = start_x, y = start_y, colour = batch_info),\n",
    "#              shape = 15, size = cex, show.legend = T) +\n",
    "#   geom_point(aes(x = end_x, y = end_y, colour = batch_info),\n",
    "#              shape = 16, size = cex, show.legend = F) +\n",
    "#   geom_segment(\n",
    "#     aes(x = start_x, y = start_y, xend = end_x, yend = end_y),\n",
    "#     arrow = arrow(length = unit(0.3, \"cm\")),\n",
    "#     alpha = 0.5,\n",
    "#     color = arrow_col\n",
    "#   ) +\n",
    "#   geom_point(data = umap_normal, aes(x = x.1, y = x.2),\n",
    "#              size = cex, shape = 17)\n",
    "\n",
    "# ggsave(\"~/Dropbox/temp/umap-others.pdf\", scatter_pca)"
   ]
  },
  {
   "cell_type": "markdown",
   "metadata": {},
   "source": [
    "## Plot: Vectors (PCA)"
   ]
  },
  {
   "cell_type": "code",
   "execution_count": 139,
   "metadata": {},
   "outputs": [
    {
     "name": "stdout",
     "output_type": "stream",
     "text": [
      " [1] 1 1 1 2 1 1 1 1 1 1 2 1 1 1 2 1 1 1 1 1 1 1 1 1 2 1 1 1 1 1 2 2 2 2 2 1 2 2\n",
      "[39] 1 2 1 1 1 1 2 2 1 1 1 2 1 1 1 1 1 1 1 2 1 1 1 2 1 1 1 1 1 2 1 2 1 1 1 2 1 1\n",
      "[77] 1 1 2 1 1 1 1 2 1\n"
     ]
    },
    {
     "name": "stderr",
     "output_type": "stream",
     "text": [
      "Saving 6.67 x 6.67 in image\n"
     ]
    }
   ],
   "source": [
    "# pca_all <- plot_vectors(others, Y)\n",
    "# ggsave(\"~/Dropbox/temp/vectors-pca_all.pdf\", pca_all)\n",
    "\n",
    "# others_fltr <- others[!(rownames(others) %in% batch_genes), ]\n",
    "# pca_wo_batch <- plot_vectors(others_fltr, Y)\n",
    "# ggsave(\"~/Dropbox/temp/vectors-pca_wo_batch.pdf\")"
   ]
  },
  {
   "cell_type": "markdown",
   "metadata": {},
   "source": [
    "# Important genes"
   ]
  },
  {
   "cell_type": "markdown",
   "metadata": {},
   "source": [
    "## Plot: Heatmap"
   ]
  },
  {
   "cell_type": "code",
   "execution_count": 13,
   "metadata": {},
   "outputs": [],
   "source": [
    "#' Annotates affymetrix probesets to gene ID of choice\n",
    "#'\n",
    "#' Annotates affymetrix probesets according to platform and gene\n",
    "#' naming convention provided in the annotation file. Option of\n",
    "#' returning vector of annotaions with probesets as names\n",
    "#'\n",
    "#' Removes probesets with no matching ID. If multiple probesets\n",
    "#' map to a single ID, the probeset with the max sum is used.\n",
    "#' @param X data.frame with affy probesets as rownames\n",
    "#' @param file name of the annotation file\n",
    "#' @param ret.annot logical indicating whether to return vector of annotations\n",
    "affy2id <- function(X, file, ret.annot = F) { \n",
    "  # probesets are rownames of dataframe\n",
    "  annot_table <- read.table(\n",
    "    file, sep = \"\\t\", header = T, row.names = 1,\n",
    "    stringsAsFactors = F, strip.white = T\n",
    "  )\n",
    "#   # Filters out ambiguous and AFFY probesets from annot \n",
    "#   fltr_annot <- annot_table[\n",
    "#     grepl(\"[0-9]_at\", rownames(annot_table)) \n",
    "#     & !startsWith(rownames(annot_table), \"A\"),\n",
    "#     , drop = F\n",
    "#   ]\n",
    "  orig_rownames <- annot_table[rownames(X), ]\n",
    "                      \n",
    "  msg_no_id <- sprintf( \n",
    "    \"No. of probesets with no ID removed: %d\\n\", sum(orig_rownames == \"\")\n",
    "  )\n",
    "  cat(msg_no_id)\n",
    "   \n",
    "  # Indices of probe sets with no corresponding ID to be deleted \n",
    "  idx_del <- which(orig_rownames == \"\")\n",
    "   \n",
    "  # Identifies genes that have multiple probesets mapping to it \n",
    "  freq_gene <- table(orig_rownames)\n",
    "  dup_genes <- names(freq_gene[freq_gene > 1])\n",
    "  dup_genes <- setdiff(dup_genes, \"\")\n",
    "  for (gene in dup_genes) {\n",
    "    # subset rows of dataframe with the same id\n",
    "    same_rows <- X[orig_rownames == gene, , drop = F] \n",
    "    # assign numeric indices as rownames \n",
    "    rownames(same_rows) <- which(orig_rownames == gene)\n",
    "    # rows that do not have the maximum sum are deleted \n",
    "    row_del <- as.numeric(\n",
    "      rownames(same_rows)[-which.max(rowSums(same_rows))]\n",
    "    )\n",
    "    # concat with existing list of indices to be deleted \n",
    "    idx_del <- c(idx_del, row_del)\n",
    "  }\n",
    "  \n",
    "  msg_total <- sprintf(\n",
    "    \"Total no. of probesets removed (incl. probesets mapping to same gene): %d\\n\", \n",
    "    length(idx_del)\n",
    "  ) \n",
    "  cat(msg_total)\n",
    "  \n",
    "  # Rows are deleted \n",
    "  X_genes <- X[-idx_del, ]\n",
    "  fltr_rownames <- orig_rownames[-idx_del]\n",
    "  names(fltr_rownames) <- rownames(X)[-idx_del]\n",
    "  # Assigning id to X\n",
    "  rownames(X_genes) <- fltr_rownames\n",
    "  \n",
    "  if (ret.annot) {\n",
    "    orig_rownames[idx_del] <- NA\n",
    "    names(orig_rownames) <- rownames(X)\n",
    "    return(orig_rownames)\n",
    "  }\n",
    "  \n",
    "  X_genes\n",
    "}"
   ]
  },
  {
   "cell_type": "code",
   "execution_count": 950,
   "metadata": {},
   "outputs": [],
   "source": [
    "# # Hierarchical clustering\n",
    "# heatmap_annot <- Y[, c(\"class_info\", \"label\", \"subtype\"), drop = F]\n",
    "# # heatmap_annot$batch_info <- as.double(heatmap_annot$batch_info)\n",
    "\n",
    "# pheatmap(\n",
    "#   yeoh_cd, col = brewer.pal(n = 11, name = \"RdBu\"), # col = brewer.pal(9, \"Blues\"),\n",
    "#   display_numbers = F, legend = T, border_color = NA,\n",
    "#   scale = \"row\",\n",
    "#   cluster_method = \"ward.D2\", cluster_rows = T, cluster_cols = T,\n",
    "# #   cutree_cols = 4,\n",
    "#   annotation_col = heatmap_annot,\n",
    "#   show_colnames = T, show_rownames = T,\n",
    "#   fontsize = 3, cellwidth = 4, cellheight = 4,\n",
    "#   filename = \"~/Dropbox/temp/heatmap-cd.pdf\"\n",
    "# )"
   ]
  },
  {
   "cell_type": "markdown",
   "metadata": {},
   "source": [
    "#### HVGs"
   ]
  },
  {
   "cell_type": "code",
   "execution_count": 1080,
   "metadata": {},
   "outputs": [],
   "source": [
    "# Filtering out low variance genes\n",
    "hvg_cd <- select_hvg(yeoh_cd, 30)\n",
    "pheatmap(\n",
    "  hvg_cd, col = brewer.pal(n = 11, name = \"RdBu\"), # col = brewer.pal(9, \"Blues\"),\n",
    "  display_numbers = F, legend = T, border_color = NA,\n",
    "  scale = \"row\",\n",
    "  cluster_method = \"ward.D2\", cluster_rows = T, cluster_cols = T,\n",
    "#   cutree_cols = 4,\n",
    "  annotation_col = heatmap_annot,\n",
    "  show_colnames = F, show_rownames = T,\n",
    "  fontsize = 12, cellwidth = 4, cellheight = 16,\n",
    "  filename = \"~/Dropbox/temp/heatmap-hvg_cd.pdf\"\n",
    ")"
   ]
  },
  {
   "cell_type": "markdown",
   "metadata": {},
   "source": [
    "#### Literature genes"
   ]
  },
  {
   "cell_type": "code",
   "execution_count": 1118,
   "metadata": {},
   "outputs": [],
   "source": [
    "# # Yeoh et al. (2002)\n",
    "# cd1 <- c('CD2', 'CD3', 'CD8', 'CD10', 'CD19', 'CD22')\n",
    "# # Good et al. (2018)\n",
    "# cd2 <- c('CD24', 'CD34', 'CD38', 'CD19', 'CD179', 'CD127')\n",
    "# cd3 <- c(\n",
    "#   'CD10', 'CD123', 'CD127', 'CD179', 'CD19', 'CD20', 'CD22',\n",
    "#   'CD24', 'CD34', 'CD38', 'CD43', 'CD45', 'CD58', 'CD79b'\n",
    "# )\n",
    "\n",
    "# ## Important CD proteins obtained from Yeoh et al. (2002) and Good et al. (2018)\n",
    "# # lapply(cd3, function(gene) grep(gene, genes1, value = T))\n",
    "# impt_cd <- c(\n",
    "#   'CD2', 'CD3D', 'CD3E', 'CD3G', 'CD8A', 'CD8B',\n",
    "#   'CD19', 'CD22', 'CD24', 'CD34', 'CD38', 'CD58'\n",
    "# )"
   ]
  },
  {
   "cell_type": "code",
   "execution_count": 1137,
   "metadata": {},
   "outputs": [],
   "source": [
    "# # Literature genes\n",
    "# idx_ball <- annot[colnames(yeoh_cd), 'subtype'] != 'T-ALL'\n",
    "# lit_cd_sub <- lit_cd[impt_cd, idx_ball]\n",
    "\n",
    "# heatmap_annot <- annot[, c('subtype', 'class_info', 'label')]\n",
    "# pheatmap(\n",
    "#   lit_cd_sub, col = brewer.pal(n = 11, name = \"RdBu\"), # col = brewer.pal(9, \"Blues\"),\n",
    "#   display_numbers = F, legend = T, border_color = NA,\n",
    "#   scale = \"row\",\n",
    "#   cluster_method = \"ward.D2\", cluster_rows = T, cluster_cols = T,\n",
    "# #   cutree_cols = 4,\n",
    "#   annotation_col = heatmap_annot,\n",
    "#   show_colnames = F, show_rownames = T,\n",
    "#   fontsize = 12, cellwidth = 2, cellheight = 30,\n",
    "#   filename = \"~/Dropbox/temp/heatmap_ball-literature_cd.pdf\"\n",
    "# )"
   ]
  },
  {
   "cell_type": "markdown",
   "metadata": {},
   "source": [
    "# B-cell CD Markers"
   ]
  },
  {
   "cell_type": "code",
   "execution_count": 13,
   "metadata": {
    "scrolled": true
   },
   "outputs": [
    {
     "name": "stdout",
     "output_type": "stream",
     "text": [
      "No. of probesets with no ID removed = 1052\n",
      "Total no. of probesets removed (incl. probesets mapping to same gene): 8762\n"
     ]
    }
   ],
   "source": [
    "NAME_GPL570 <- \"../info/microarray/HG-U133_Plus_2/annot_genesymbol-GPL570.tsv\"\n",
    "ann_allps <- affy2id(yeoh_allps, NAME_GPL570)\n",
    "# ann_allyeoh_allps <- affy2id(allyeoh_allps, NAME_GPL570)"
   ]
  },
  {
   "cell_type": "code",
   "execution_count": 15,
   "metadata": {},
   "outputs": [],
   "source": [
    "# Finalised list of B-cell CD markers (strictly B-cell)\n",
    "strict_bcell <- c('CD19', 'CD38', 'CD72', 'CD79A', 'CD79B')"
   ]
  },
  {
   "cell_type": "markdown",
   "metadata": {},
   "source": [
    "#### CD markers present in microarray data"
   ]
  },
  {
   "cell_type": "code",
   "execution_count": 15,
   "metadata": {},
   "outputs": [],
   "source": [
    "# grep_genes <- grep('^CD[0-9]', rownames(a_allps), value = T)\n",
    "# wrong_genes <- c('CD2BP2', 'CD2AP', 'CD3EAP', 'CD5L', 'CD40LG')\n",
    "# cd_genes <- setdiff(grep_genes, wrong_genes)\n",
    "\n",
    "# yeoh_cd <- a_allps[cd_genes, ]\n",
    "# allyeoh_cd <- a_allyeoh_allps[cd_genes, ] # Includes D33 samples"
   ]
  },
  {
   "cell_type": "code",
   "execution_count": 1528,
   "metadata": {},
   "outputs": [],
   "source": [
    "# # Grabbed from abcam website and Good et al. (2018)\n",
    "# bcell_markers <- c(\n",
    "#   'CD19', 'CD20', 'CD21', 'CD22', 'CD23', 'CD34', 'CD38',\n",
    "#   'CD45R', 'CD72', 'CD74', 'CD79A', 'CD79B', 'CD81', 'CD85',\n",
    "#   'CD139', 'CD361'\n",
    "# )\n",
    "# bmarkers_fltr <- bcell_markers[bcell_markers %in% rownames(yeoh_cd)]"
   ]
  },
  {
   "cell_type": "code",
   "execution_count": 1530,
   "metadata": {},
   "outputs": [],
   "source": [
    "# # Non-specific B-cell CD markers\n",
    "# nonspecific_bmarkers <- c(\n",
    "#   'CD1C', 'CD1D', 'CD2', 'CD5', 'CD6', 'CD11B', 'CD11C', 'CD17',\n",
    "#   'CD19', 'CD20', 'CD21', 'CD22', 'CD23', 'CD24', 'CD25', 'CD26',\n",
    "#   'CD27', 'CD28', 'CD29', 'CD30', 'CD32', 'CD25', 'CD37', 'CD38',\n",
    "#   'CD39', 'CD40', 'CD45RB', 'CD45RC', 'CD49B', 'CD49E', 'CD49F', 'CD72',\n",
    "#   'CD74', 'CD77', 'CD79A', 'CD79B', 'CD84', 'CD85A', 'CD121A', 'CD122',\n",
    "#   'CD127', 'CD130', 'CD134', 'CD135', 'CD150', 'CD152', 'CD162', 'CD166',\n",
    "#   'CD171', 'CD179A', 'CD179B', 'CD180', 'CD184', 'CD185', 'CD186', 'CD197',\n",
    "#   'CD200', 'CD203', 'CD213A2', 'CD224', 'CD225', 'CD229', 'CD232', 'CD252',\n",
    "#   'CD258', 'CD267', 'CD268', 'CD269', 'CD274', 'CD279', 'CD290', 'C300A',\n",
    "#   'CD300C', 'CD305', 'CD307A', 'CD307B', 'CD307C', 'CD307C', 'CD307D', 'CD307E',\n",
    "#   'CD316', 'CD319', 'CD327', 'CD352', 'CD361'\n",
    "# )\n",
    "\n",
    "# nonspecific_fltr <- nonspecific_bmarkers[nonspecific_bmarkers %in% rownames(yeoh_cd)]"
   ]
  },
  {
   "cell_type": "markdown",
   "metadata": {},
   "source": [
    "### Plot: Mean of B-cell markers"
   ]
  },
  {
   "cell_type": "code",
   "execution_count": 16,
   "metadata": {},
   "outputs": [],
   "source": [
    "#' Warning: Handling of zeros and negative values\n",
    "geometric_mean <- function(x, na.rm = T) {\n",
    "  exp(sum(log(x[x > 0]), na.rm = na.rm) / length(x))\n",
    "}"
   ]
  },
  {
   "cell_type": "code",
   "execution_count": 17,
   "metadata": {},
   "outputs": [],
   "source": [
    "# Only B-cell markers and remove T-ALL samples\n",
    "allyeoh_bcell <- ann_allyeoh_allps[\n",
    "  strict_bcell,\n",
    "  annot_all[colnames(ann_allyeoh_allps), 'subtype'] != 'T-ALL'\n",
    "]\n",
    "\n",
    "# Arithmetic mean\n",
    "bcell_arith_mean <- colMeans(allyeoh_bcell)\n",
    "\n",
    "# # Geometric mean\n",
    "# bcell_geom_mean <- apply(bcell_sub1, 2, geometric_mean)\n",
    "\n",
    "bcell_mean <- data.frame(\n",
    "  bcell_mean = bcell_arith_mean,\n",
    "  annot_all[names(bcell_arith_mean), ]\n",
    ")\n",
    "\n",
    "jitter_bcell <- ggplot(\n",
    "  bcell_mean,\n",
    "  aes(x = class_info, y = bcell_mean, fill = label)\n",
    ") +\n",
    "  geom_point(\n",
    "    position = position_jitterdodge(),\n",
    "    alpha = 1, pch = 21, cex = 2.5,\n",
    "    show.legend = F\n",
    "  ) +\n",
    "  facet_wrap(~subtype, nrow = 2) +\n",
    "  scale_fill_manual(values = COL_LABEL) +\n",
    "  ylim(0, 14) +\n",
    "  labs(\n",
    "    x = 'Time point',\n",
    "    y = expression(mu)\n",
    "  )\n",
    "\n",
    "# ggsave('~/Dropbox/temp/CD_mu.pdf',\n",
    "#        jitter_bcell, width = 8, height = 5)"
   ]
  },
  {
   "cell_type": "markdown",
   "metadata": {},
   "source": [
    "#### Plot: CD19"
   ]
  },
  {
   "cell_type": "code",
   "execution_count": 18,
   "metadata": {},
   "outputs": [],
   "source": [
    "# Filter out hypodiploid and T-ALL subtypes\n",
    "idx <- colnames(ann_allyeoh_allps)[\n",
    "  annot_all[colnames(ann_allyeoh_allps), 'subtype'] != 'T-ALL']\n",
    "cd19 <- ann_allyeoh_allps['CD19', idx, drop = F]\n",
    "cd19_y <- data.frame(t(cd19), annot_all[idx, ])\n",
    "\n",
    "jitter_cd19 <- ggplot(\n",
    "  cd19_y,\n",
    "  aes(x = class_info, y = CD19, fill = label)\n",
    ") +\n",
    "  geom_point(\n",
    "    position = position_jitterdodge(),\n",
    "    alpha = 1, pch = 21, cex = 2.5,\n",
    "    show.legend = F\n",
    "  ) +\n",
    "  facet_wrap(~subtype, nrow = 2) +\n",
    "  scale_fill_manual(values = COL_LABEL) +\n",
    "  ylim(0, 14) +\n",
    "  labs(\n",
    "    x = 'Time point'\n",
    "  )\n",
    "\n",
    "# ggsave('~/Dropbox/temp/CD19.pdf',\n",
    "#        jitter_cd19, width = 8, height = 5)"
   ]
  },
  {
   "cell_type": "markdown",
   "metadata": {},
   "source": [
    "### Wilcoxon (paired): D0 v.s. D8"
   ]
  },
  {
   "cell_type": "code",
   "execution_count": 19,
   "metadata": {},
   "outputs": [],
   "source": [
    "test_row <- function(x, f) {\n",
    "  n <- length(x) / 2\n",
    "  f(\n",
    "    x[1:n], x[(n + 1):(n * 2)],\n",
    "    alternative = 'greater',\n",
    "    paired = TRUE,\n",
    "    exact = TRUE\n",
    "  )$p.value\n",
    "}\n",
    "\n",
    "calc_effect_size <- function(X, ret = c('mean_diff', 'cohen')) {\n",
    "  stopifnot(is_paired(X))\n",
    "  ret <- match.arg(ret)\n",
    "  \n",
    "  n <- ncol(X) / 2\n",
    "  diff <- X[, 1:n] - X[, (n + 1):(n * 2)]\n",
    "  mean_diff <- rowMeans(diff)\n",
    "  sd_diff <- apply(diff, 1, sd)\n",
    "  \n",
    "  if (ret == 'cohen') {\n",
    "    return(mean_diff / sd_diff)\n",
    "  } else if (ret == 'mean_diff') {\n",
    "    return(mean_diff)\n",
    "  }\n",
    "}"
   ]
  },
  {
   "cell_type": "code",
   "execution_count": 20,
   "metadata": {
    "scrolled": true
   },
   "outputs": [],
   "source": [
    "idx_ball <- colnames(ann_allps)[\n",
    "  !(annot[colnames(ann_allps), 'subtype'] %in%\n",
    "  c('T-ALL', 'Hypodiploid', 'Normal'))\n",
    "]\n",
    "cd19 <- ann_allps['CD19', idx_ball, drop = F]\n",
    "ball <- rbind(cd19, mean =  bcell_arith_mean[idx_ball])\n",
    "\n",
    "remission <- ball[, annot[colnames(ball), 'label'] == 0]\n",
    "relapse <- ball[, annot[colnames(ball), 'label'] == 1]\n",
    "subtypes_6 <- setdiff(subtypes7, 'T-ALL')\n",
    "\n",
    "info_remission <- vector(\"list\")\n",
    "info_relapse <- vector(\"list\")\n",
    "for (subtype in subtypes_6) {\n",
    "  # Remission\n",
    "  subtype_remission <- remission[\n",
    "    , annot[colnames(remission), 'subtype'] == subtype]\n",
    "  \n",
    "  stopifnot(is_paired(colnames(subtype_remission)))\n",
    "  \n",
    "  pvalues <- apply(subtype_remission, 1, test_row, t.test)\n",
    "  eff_sz <- calc_effect_size(subtype_remission)\n",
    "  n <- ncol(subtype_remission) / 2\n",
    "  subtype_info <- c(pvalues, eff_sz, size = n)\n",
    "  names(subtype_info)[1:4] <- paste(\n",
    "    names(subtype_info)[1:4],\n",
    "    rep(c('pvalue', 'eff'), each = 2),\n",
    "    sep = '-'\n",
    "  )\n",
    "  info_remission <- append(info_remission, list(subtype_info))\n",
    "  \n",
    "  # Relapse\n",
    "  subtype_relapse <- relapse[\n",
    "    , annot[colnames(relapse), 'subtype'] == subtype]\n",
    "  pvalues <- apply(subtype_relapse, 1, test_row, t.test)\n",
    "  eff_sz <- calc_effect_size(subtype_relapse)\n",
    "  n <- ncol(subtype_relapse) / 2\n",
    "  subtype_info <- c(pvalues, eff_sz, size = n)\n",
    "  names(subtype_info)[1:4] <- paste(\n",
    "    names(subtype_info)[1:4],\n",
    "    rep(c('pvalue', 'eff'), each = 2),\n",
    "    sep = '-'\n",
    "  )\n",
    "  info_relapse <- append(info_relapse, list(subtype_info))\n",
    "}\n",
    "\n",
    "tab_remission <- sapply(info_remission, as.vector) %>%\n",
    "  data.frame(row.names = names(subtype_info))\n",
    "colnames(tab_remission) <- subtypes_6\n",
    "\n",
    "tab_relapse <- sapply(info_relapse, as.vector) %>%\n",
    "  data.frame(row.names = names(subtype_info))\n",
    "colnames(tab_relapse) <- subtypes_6"
   ]
  },
  {
   "cell_type": "markdown",
   "metadata": {},
   "source": [
    "### Plot: Paired t-test (CD19)"
   ]
  },
  {
   "cell_type": "code",
   "execution_count": 21,
   "metadata": {
    "scrolled": true
   },
   "outputs": [],
   "source": [
    "# Renamed label column to outcome!\n",
    "annot_all1 <- annot_all\n",
    "colnames(annot_all1)[4] <- 'outcome'\n",
    "levels(annot_all1$outcome) <- c('Remission', 'Relapse')"
   ]
  },
  {
   "cell_type": "code",
   "execution_count": 22,
   "metadata": {},
   "outputs": [],
   "source": [
    "remission_cd19 <- sprintf(\n",
    "  'atop(paste(P == %.2g, \"; \", n == %.0f), \"Effect size = %.2f\")',\n",
    "  tab_remission[1, ],\n",
    "  tab_remission[5, ],\n",
    "  tab_remission[3, ]\n",
    ")\n",
    "relapse_cd19 <- sprintf(\n",
    "  'atop(paste(P == %.2g, \"; \", n == %.0f), \"Effect size = %.2f\")',\n",
    "  tab_relapse[1, ],\n",
    "  tab_relapse[5, ],\n",
    "  tab_relapse[3, ]\n",
    ")\n",
    "\n",
    "# Annotation has to contain facet factors!\n",
    "annot_remission <- data.frame(\n",
    "  annot = remission_cd19,\n",
    "  subtype = colnames(tab_remission),\n",
    "  outcome = 'Remission',\n",
    "  stringsAsFactors = F\n",
    ")\n",
    "annot_relapse <- data.frame(\n",
    "  annot = relapse_cd19,\n",
    "  subtype = colnames(tab_relapse),\n",
    "  outcome = 'Relapse',\n",
    "  stringsAsFactors = F\n",
    ")\n",
    "\n",
    "annot_cd19 <- rbind(annot_remission, annot_relapse)\n",
    "annot_cd19[5, 1] <- sub('e-07', '%*% 10^{-7}', annot_cd19[5, 1])\n",
    "annot_cd19[6, 1] <- sub('e-06', '%*% 10^{-6}', annot_cd19[6, 1])\n",
    "annot_cd19$outcome <- factor(\n",
    "  annot_cd19$outcome,\n",
    "  levels = c('Remission', 'Relapse')\n",
    ")"
   ]
  },
  {
   "cell_type": "code",
   "execution_count": 23,
   "metadata": {
    "scrolled": true
   },
   "outputs": [
    {
     "data": {
      "image/png": "[encoded data removed]",
      "text/plain": [
       "plot without title"
      ]
     },
     "metadata": {},
     "output_type": "display_data"
    }
   ],
   "source": [
    "cd19 <- data.frame(\n",
    "  t(ann_allps['CD19', , drop = F]),\n",
    "  annot_all1[colnames(ann_allps), ],\n",
    "  pid = substring(colnames(ann_allps), 1, 4)\n",
    ")\n",
    "\n",
    "cd19_sub <- cd19[\n",
    "  cd19$class_info %in% c('D0', 'D8') &\n",
    "  !(cd19$subtype %in% c('Hypodiploid', 'T-ALL')), ]\n",
    "\n",
    "ax_paired <- ggplot(cd19_sub, aes(\n",
    "  x = class_info, y = CD19, fill = outcome\n",
    ")) +\n",
    "  facet_grid(outcome ~ subtype) +\n",
    "  geom_point(pch = 21, cex = 2.5, show.legend = F) +\n",
    "  geom_line(\n",
    "    aes(group = pid),\n",
    "    col = 'black', alpha = .6,\n",
    "    show.legend = F\n",
    "  ) +\n",
    "  scale_fill_manual(values = COL_LABEL) +\n",
    "  labs(x = 'Time point') +\n",
    "  ylim(0, 14) +\n",
    "  geom_text(\n",
    "    data = annot_cd19,\n",
    "    x = 1.5, y = 1.5, col = 'black', cex = 3,\n",
    "    aes(label = annot),\n",
    "    parse = T\n",
    "  )\n",
    "ax_paired\n",
    "\n",
    "# ggsave('~/Dropbox/temp/paired-CD19.pdf',\n",
    "#        ax_paired, height = 4, width = 9)"
   ]
  },
  {
   "cell_type": "markdown",
   "metadata": {},
   "source": [
    "### GAPDH"
   ]
  },
  {
   "cell_type": "code",
   "execution_count": 30,
   "metadata": {},
   "outputs": [],
   "source": [
    "annot$label <- as.factor(annot$label)\n",
    "levels(annot$label) <- c(\"Remission\", \"Relapse\")"
   ]
  },
  {
   "cell_type": "code",
   "execution_count": 51,
   "metadata": {
    "scrolled": true
   },
   "outputs": [],
   "source": [
    "# GADPH: Over-expressed in cancer\n",
    "## Filter out hypodiploid and T-ALL subtypes\n",
    "gapdh <- ann_allps[\"GAPDH\", , drop = F]\n",
    "gapdh_y <- data.frame(\n",
    "  t(gapdh),\n",
    "  annot[colnames(ann_allps), ],\n",
    "  pid = substring(colnames(ann_allps), 1, 4)\n",
    ")\n",
    "\n",
    "gapdh_sub <- gapdh_y[\n",
    "  gapdh_y$class_info %in% c('D0', 'D8') &\n",
    "  !(gapdh_y$subtype %in% c('Hypodiploid', 'T-ALL')), \n",
    "]\n",
    "\n",
    "ax_paired <- ggplot(\n",
    "  gapdh_sub,\n",
    "  aes(x = class_info, y = GAPDH, fill = label)\n",
    ") +\n",
    "  facet_grid(label ~ subtype) +\n",
    "  geom_point(pch = 21, cex = 2.5, show.legend = F) +\n",
    "  geom_line(\n",
    "    aes(group = pid),\n",
    "    col = 'black', alpha = .6,\n",
    "    show.legend = F\n",
    "  ) +\n",
    "  scale_fill_manual(values = COL_LABEL) +\n",
    "  labs(x = 'Time point')\n",
    "\n",
    "# ggsave('~/Dropbox/tmp/paired-GAPDH.pdf',\n",
    "#        ax_paired, height = 4, width = 9)"
   ]
  },
  {
   "cell_type": "code",
   "execution_count": 61,
   "metadata": {},
   "outputs": [],
   "source": [
    "gapdh_d0 <- gapdh[, endsWith(colnames(gapdh), \"_D0\")]\n",
    "gapdh_d8 <- gapdh[, endsWith(colnames(gapdh), \"_D8\")]\n",
    "delta <- gapdh_d0 - gapdh_d8\n",
    "names(delta) <- substring(names(delta), 1, 4)"
   ]
  },
  {
   "cell_type": "code",
   "execution_count": 105,
   "metadata": {},
   "outputs": [],
   "source": [
    "delta_y <- data.frame(\n",
    "  t(delta),\n",
    "  yeoh_label[names(delta), c(\"subtype\", \"label\")]\n",
    ")\n",
    "\n",
    "ax_delta <- ggplot(\n",
    "  delta_y,\n",
    "  aes(label, GAPDH, col = label)\n",
    ") +\n",
    "  facet_wrap(~subtype, nrow = 2) +\n",
    "  geom_point(position = position_jitter()) +\n",
    "  scale_color_manual(values = COL_LABEL)\n",
    "\n",
    "ggsave('~/Dropbox/tmp/delta-GAPDH.pdf',\n",
    "       ax_delta, height = 5, width = 9)"
   ]
  },
  {
   "cell_type": "markdown",
   "metadata": {},
   "source": [
    "### Plot: Paired t-test (mu)"
   ]
  },
  {
   "cell_type": "code",
   "execution_count": 24,
   "metadata": {},
   "outputs": [],
   "source": [
    "remission_mu <- sprintf(\n",
    "  'atop(paste(P == %.2g, \"; \", n == %.0f), \"Effect size = %.2f\")',\n",
    "  tab_remission[2, ],\n",
    "  tab_remission[5, ],\n",
    "  tab_remission[4, ]\n",
    ")\n",
    "relapse_mu <- sprintf(\n",
    "  'atop(paste(P == %.2g, \"; \", n == %.0f), \"Effect size = %.2f\")',\n",
    "  tab_relapse[2, ],\n",
    "  tab_relapse[5, ],\n",
    "  tab_relapse[4, ]\n",
    ")\n",
    "\n",
    "annot_remission <- data.frame(\n",
    "  annot = remission_mu,\n",
    "  subtype = colnames(tab_remission),\n",
    "  outcome = 'Remission',\n",
    "  stringsAsFactors = F\n",
    ")\n",
    "\n",
    "annot_relapse <- data.frame(\n",
    "  annot = relapse_mu,\n",
    "  subtype = colnames(tab_relapse),\n",
    "  outcome = 'Relapse',\n",
    "  stringsAsFactors = F\n",
    ")\n",
    "\n",
    "annot_mu <- rbind(annot_remission, annot_relapse)\n",
    "annot_mu[5, 1] <- sub('e-07', '%*% 10^{-7}', annot_mu[5, 1])\n",
    "annot_mu$outcome <- factor(\n",
    "  annot_mu$outcome,\n",
    "  levels = c('Remission', 'Relapse')\n",
    ")"
   ]
  },
  {
   "cell_type": "code",
   "execution_count": 25,
   "metadata": {},
   "outputs": [],
   "source": [
    "bcell_cd <- data.frame(\n",
    "  bcell_mean = bcell_arith_mean,\n",
    "  annot_all1[names(bcell_arith_mean), ],\n",
    "  pid = substring(names(bcell_arith_mean), 1, 4)\n",
    ")\n",
    "\n",
    "cd_sub <- bcell_cd[\n",
    "  bcell_cd$class_info %in% c('D0', 'D8') &\n",
    "  !(bcell_cd$subtype %in% c('Hypodiploid', 'T-ALL')), ]\n",
    "\n",
    "ax_paired <- ggplot(cd_sub, aes(\n",
    "  x = class_info, y = bcell_mean, fill = outcome\n",
    ")) +\n",
    "  facet_grid(outcome ~ subtype) +\n",
    "  geom_point(pch = 21, cex = 2.5, show.legend = F) +\n",
    "  geom_line(\n",
    "    aes(group = pid),\n",
    "    col = 'black', alpha = .6, show.legend = F\n",
    "  ) +\n",
    "  scale_fill_manual(values = COL_LABEL) +\n",
    "  labs(x = 'Time point', y = quote(mu)) +\n",
    "  ylim(0, 14) +\n",
    "  geom_text(\n",
    "    data = annot_mu,\n",
    "    x = 1.5, y = 1.5, col = 'black', cex = 3,\n",
    "    aes(label = annot),\n",
    "    parse = T\n",
    "  )\n",
    "\n",
    "# ggsave('~/Dropbox/temp/paired-mu.pdf', ax_paired,\n",
    "#        height = 4, width = 9)"
   ]
  },
  {
   "cell_type": "code",
   "execution_count": null,
   "metadata": {},
   "outputs": [],
   "source": [
    "# # Selecting D8 and D33 patients\n",
    "# idx <- annot_all[colnames(all_cd), \"class_info\"] %in% c('D8', 'D33')\n",
    "# hvg_cd_d33 <- select_hvg(all_cd[, idx], 30)\n",
    "\n",
    "# heatmap_annot1 <- annot_all[, c('subtype', 'label', 'class_info')]"
   ]
  },
  {
   "cell_type": "markdown",
   "metadata": {},
   "source": [
    "## Plot: Paired D33"
   ]
  },
  {
   "cell_type": "code",
   "execution_count": 252,
   "metadata": {},
   "outputs": [],
   "source": [
    "complete_pid <- substring(\n",
    "  rownames(bcell_mean)[endsWith(rownames(bcell_mean), 'D33')],\n",
    "  1, 4)\n",
    "\n",
    "# Subset only patients that have complete timepoints\n",
    "complete_sid <- rownames(bcell_mean)[\n",
    "  substring(rownames(bcell_mean), 1, 4) %in% pid_complete]"
   ]
  },
  {
   "cell_type": "code",
   "execution_count": 27,
   "metadata": {
    "scrolled": true
   },
   "outputs": [
    {
     "data": {
      "image/png": "[encoded data removed]",
      "text/plain": [
       "plot without title"
      ]
     },
     "metadata": {},
     "output_type": "display_data"
    }
   ],
   "source": [
    "cd19 <- data.frame(\n",
    "  t(ann_allyeoh_allps['CD19', , drop = F]),\n",
    "  annot_all1[colnames(ann_allyeoh_allps), ],\n",
    "  pid = substring(colnames(ann_allyeoh_allps), 1, 4)\n",
    ")\n",
    "\n",
    "complete_cd19 <- cd19[complete_sid, ]\n",
    "\n",
    "complete_cd19_sub <- complete_cd19[\n",
    "  !(complete_cd19$subtype %in% c('Hypodiploid', 'T-ALL')), ]\n",
    "\n",
    "ax_paired <- ggplot(complete_cd19_sub, aes(\n",
    "  x = class_info, y = CD19, fill = outcome\n",
    ")) +\n",
    "  facet_grid(outcome ~ subtype) +\n",
    "  geom_point(pch = 21, cex = 2.5, show.legend = F) +\n",
    "  geom_line(\n",
    "    aes(group = pid),\n",
    "    col = 'black', alpha = .6,\n",
    "    show.legend = F\n",
    "  ) +\n",
    "  scale_fill_manual(values = COL_LABEL) +\n",
    "  labs(x = 'Time point') +\n",
    "  ylim(0, 14)\n",
    "\n",
    "ax_paired\n",
    "\n",
    "# ggsave('~/Dropbox/tmp/paired_d33-cd19.pdf', ax_paired,\n",
    "#       width = 9, height = 4)"
   ]
  },
  {
   "cell_type": "code",
   "execution_count": 381,
   "metadata": {},
   "outputs": [
    {
     "data": {
      "image/png": "[encoded data removed]",
      "text/plain": [
       "plot without title"
      ]
     },
     "metadata": {},
     "output_type": "display_data"
    }
   ],
   "source": [
    "bcell_mu <- data.frame(\n",
    "  bcell_mean = bcell_arith_mean,\n",
    "  annot_all1[names(bcell_arith_mean), ],\n",
    "  pid = substring(names(bcell_arith_mean), 1, 4)\n",
    ")\n",
    "\n",
    "bcell_mu_sub <- bcell_mu[\n",
    "  !(bcell_mu$subtype %in% c('Hypodiploid', 'T-ALL')), ]\n",
    "\n",
    "complete_mu <- bcell_mu[complete_sid, ]\n",
    "\n",
    "complete_mu_sub <- complete_mu[\n",
    "  !(complete_mu$subtype %in% c('Hypodiploid', 'T-ALL')), ]\n",
    "\n",
    "ax_paired <- ggplot(complete_mu_sub, aes(\n",
    "  x = class_info, y = bcell_mean, fill = outcome\n",
    ")) +\n",
    "  facet_grid(outcome ~ subtype) +\n",
    "  geom_point(pch = 21, cex = 2.5, show.legend = F) +\n",
    "  geom_line(\n",
    "    aes(group = pid),\n",
    "    col = 'black', alpha = .6, show.legend = F\n",
    "  ) +\n",
    "  scale_fill_manual(values = COL_LABEL) +\n",
    "  labs(x = 'Time point', y = quote(mu)) +\n",
    "  ylim(0, 14)\n",
    "\n",
    "ax_paired\n",
    "\n",
    "# ggsave('~/Dropbox/tmp/paired_d33-mu.pdf', ax_paired,\n",
    "#        height = 4, width = 9)"
   ]
  },
  {
   "cell_type": "markdown",
   "metadata": {},
   "source": [
    "## Deltas"
   ]
  },
  {
   "cell_type": "markdown",
   "metadata": {},
   "source": [
    "#### CD19"
   ]
  },
  {
   "cell_type": "code",
   "execution_count": 236,
   "metadata": {},
   "outputs": [],
   "source": [
    "d0_cd19 <- complete_cd19_sub[\n",
    "  endsWith(rownames(complete_cd19_sub), '_D0'), 'CD19']\n",
    "d8_cd19 <- complete_cd19_sub[\n",
    "  endsWith(rownames(complete_cd19_sub), '_D8'), 'CD19']\n",
    "d33_cd19 <- complete_cd19_sub[\n",
    "  endsWith(rownames(complete_cd19_sub), '_D33'), 'CD19']"
   ]
  },
  {
   "cell_type": "code",
   "execution_count": 335,
   "metadata": {
    "scrolled": true
   },
   "outputs": [],
   "source": [
    "t_1 <- 8\n",
    "t_2 <- 33 - 8\n",
    "gamma_1 <- d0_cd19 - d8_cd19\n",
    "gamma_2 <- d8_cd19 - d33_cd19\n",
    "delta_1 <- (d0_cd19 - d8_cd19) / t_1\n",
    "delta_2 <- (d8_cd19 - d33_cd19) / t_2\n",
    "\n",
    "delta_cd19 <- data.frame(\n",
    "  gamma_1,\n",
    "  gamma_2,\n",
    "  delta_1,\n",
    "  delta_2,\n",
    "  D0 = d0_cd19,\n",
    "  D8 = d8_cd19,\n",
    "  D33 = d33_cd19\n",
    ")\n",
    "pid <- substring(\n",
    "  rownames(complete_cd19_sub)[\n",
    "    endsWith(rownames(complete_cd19_sub), '_D0')],\n",
    "  1, 4\n",
    ")\n",
    "rownames(delta_cd19) <- pid"
   ]
  },
  {
   "cell_type": "markdown",
   "metadata": {},
   "source": [
    "#### Investigate: Normalising deltas"
   ]
  },
  {
   "cell_type": "code",
   "execution_count": 342,
   "metadata": {
    "scrolled": true
   },
   "outputs": [],
   "source": [
    "delta_cd19$delta_1_D0 <- delta_cd19$delta_1 / delta_cd19$D0\n",
    "delta_cd19$delta_1_D8 <- delta_cd19$delta_1 / delta_cd19$D8\n",
    "delta_cd19$delta_2_D8 <- delta_cd19$delta_2 / delta_cd19$D8\n",
    "delta_cd19$delta_2_D33 <- delta_cd19$delta_2 / delta_cd19$D33\n",
    "\n",
    "delta_cd19$gamma_1_D0 <- delta_cd19$gamma_1 / delta_cd19$D0\n",
    "delta_cd19$gamma_1_D8 <- delta_cd19$gamma_1 / delta_cd19$D8\n",
    "delta_cd19$gamma_2_D8 <- delta_cd19$gamma_2 / delta_cd19$D8\n",
    "delta_cd19$gamma_2_D33 <- delta_cd19$gamma_2 / delta_cd19$D33"
   ]
  },
  {
   "cell_type": "code",
   "execution_count": 343,
   "metadata": {
    "scrolled": false
   },
   "outputs": [
    {
     "name": "stderr",
     "output_type": "stream",
     "text": [
      "Using pid, subtype, label as id variables\n"
     ]
    }
   ],
   "source": [
    "delta_cd19$pid <- rownames(delta_cd19)\n",
    "delta_cd19_y <- cbind(\n",
    "  delta_cd19,\n",
    "  yeoh_label[rownames(delta_cd19), c('subtype', 'label')]\n",
    ")\n",
    "delta_cd19_long <- melt(delta_cd19_y)"
   ]
  },
  {
   "cell_type": "code",
   "execution_count": 271,
   "metadata": {
    "scrolled": true
   },
   "outputs": [],
   "source": [
    "# ax_delta <- ggplot(delta_cd19_long, aes(variable, value, fill = label)) +\n",
    "#   facet_grid(label ~ subtype) +\n",
    "#   geom_point(pch = 21) +\n",
    "#   geom_line(aes(group = pid), alpha = 0.6) +\n",
    "#   scale_fill_manual(values = COL_LABEL)\n",
    "\n",
    "# ggsave('~/Dropbox/tmp/delta2-cd19.pdf', ax_delta,\n",
    "#        width = 9, height = 4)"
   ]
  },
  {
   "cell_type": "markdown",
   "metadata": {},
   "source": [
    "### Rate v.s. Starting / remaining proportion"
   ]
  },
  {
   "cell_type": "code",
   "execution_count": 321,
   "metadata": {},
   "outputs": [],
   "source": [
    "# ax_vs <- ggplot(\n",
    "#   delta_cd19_y,\n",
    "#   aes(x = D33, y = delta_2, fill = label)\n",
    "# ) +\n",
    "#   facet_wrap(~subtype, nrow = 2) +\n",
    "#   geom_point(pch = 21, cex = 3) +\n",
    "#   scale_fill_manual(values = COL_LABEL)\n",
    "\n",
    "# ggsave('~/Dropbox/tmp/delta_2-D33.pdf', ax_vs,\n",
    "#        width = 9 , height = 6)"
   ]
  },
  {
   "cell_type": "code",
   "execution_count": 345,
   "metadata": {},
   "outputs": [],
   "source": [
    "ax_jitter <- ggplot(\n",
    "  delta_cd19_y,\n",
    "  aes(x = label, y = gamma_1_D8, fill = label)\n",
    ") +\n",
    "  facet_wrap(~subtype, nrow = 1) +\n",
    "  geom_point(pch = 21, cex = 2, position = position_jitter(width = .3)) +\n",
    "  scale_fill_manual(values = COL_LABEL)\n",
    "\n",
    "ggsave('~/Dropbox/tmp/jitter-gamma_1_D8.pdf', ax_jitter,\n",
    "       width = 9 , height = 3)"
   ]
  },
  {
   "cell_type": "markdown",
   "metadata": {},
   "source": [
    "#### CD: Mean"
   ]
  },
  {
   "cell_type": "code",
   "execution_count": 354,
   "metadata": {},
   "outputs": [],
   "source": [
    "d0_mu <- complete_mu_sub[\n",
    "  endsWith(rownames(complete_mu_sub), '_D0'),\n",
    "  'bcell_mean']\n",
    "d8_mu <- complete_mu_sub[\n",
    "  endsWith(rownames(complete_mu_sub), '_D8'),\n",
    "  'bcell_mean']\n",
    "d33_mu <- complete_mu_sub[\n",
    "  endsWith(rownames(complete_mu_sub), '_D33'),\n",
    "  'bcell_mean']"
   ]
  },
  {
   "cell_type": "code",
   "execution_count": 360,
   "metadata": {},
   "outputs": [],
   "source": [
    "t_1 <- 8\n",
    "t_2 <- 33 - 8\n",
    "gamma_mu_1 <- d0_mu - d8_mu\n",
    "gamma_mu_2 <- d8_mu - d33_mu\n",
    "delta_mu_1 <- (d0_mu - d8_mu) / t_1\n",
    "delta_mu_2 <- (d8_mu - d33_mu) / t_2\n",
    "\n",
    "delta_mu <- data.frame(\n",
    "  gamma_mu_1,\n",
    "  gamma_mu_2,\n",
    "  delta_mu_1,\n",
    "  delta_mu_2,\n",
    "  D0 = d0_mu,\n",
    "  D8 = d8_mu,\n",
    "  D33 = d33_mu\n",
    ")\n",
    "\n",
    "pid <- substring(\n",
    "  rownames(complete_mu_sub)[\n",
    "    endsWith(rownames(complete_mu_sub), '_D0')],\n",
    "  1, 4\n",
    ")\n",
    "rownames(delta_mu) <- pid"
   ]
  },
  {
   "cell_type": "code",
   "execution_count": 365,
   "metadata": {},
   "outputs": [],
   "source": [
    "delta_mu$delta_1_D0 <- delta_mu$delta_mu_1 / delta_mu$D0\n",
    "delta_mu$delta_1_D8 <- delta_mu$delta_mu_1 / delta_mu$D8\n",
    "delta_mu$delta_2_D8 <- delta_mu$delta_mu_2 / delta_mu$D8\n",
    "delta_mu$delta_2_D33 <- delta_mu$delta_mu_2 / delta_mu$D33\n",
    "\n",
    "delta_mu$gamma_1_D0 <- delta_mu$gamma_mu_1 / delta_mu$D0\n",
    "delta_mu$gamma_1_D8 <- delta_mu$gamma_mu_1 / delta_mu$D8\n",
    "delta_mu$gamma_2_D8 <- delta_mu$gamma_mu_2 / delta_mu$D8\n",
    "delta_mu$gamma_2_D33 <- delta_mu$gamma_mu_2 / delta_mu$D33"
   ]
  },
  {
   "cell_type": "code",
   "execution_count": 366,
   "metadata": {
    "scrolled": true
   },
   "outputs": [
    {
     "name": "stderr",
     "output_type": "stream",
     "text": [
      "Using pid, subtype, label as id variables\n"
     ]
    }
   ],
   "source": [
    "delta_mu$pid <- rownames(delta_mu)\n",
    "delta_mu_y <- cbind(\n",
    "  delta_mu,\n",
    "  yeoh_label[rownames(delta_mu), c('subtype', 'label')])\n",
    "delta_mu_long <- melt(delta_mu_y)"
   ]
  },
  {
   "cell_type": "code",
   "execution_count": 65,
   "metadata": {},
   "outputs": [],
   "source": [
    "# ax_delta <- ggplot(delta_mu_long, aes(variable, value, fill = label)) +\n",
    "#   facet_grid(label ~ subtype) +\n",
    "#   geom_point(pch = 21) +\n",
    "#   geom_line(aes(group = pid), alpha = 0.6) +\n",
    "#   scale_fill_manual(values = COL_LABEL)\n",
    "\n",
    "# ggsave('~/Dropbox/tmp/delta2-mu.pdf', ax_delta,\n",
    "#        width = 9, height = 4)"
   ]
  },
  {
   "cell_type": "code",
   "execution_count": 372,
   "metadata": {},
   "outputs": [],
   "source": [
    "# Jitter plots\n",
    "ax_jitter <- ggplot(\n",
    "  delta_mu_y,\n",
    "  aes(x = label, y = gamma_2_D33, fill = label)\n",
    ") +\n",
    "  facet_wrap(~subtype, nrow = 1) +\n",
    "  geom_point(pch = 21, cex = 2, position = position_jitter(width = .3)) +\n",
    "  scale_fill_manual(values = COL_LABEL)\n",
    "\n",
    "ggsave('~/Dropbox/tmp/jitter_mu-gamma_2_D33.pdf', ax_jitter,\n",
    "       width = 9 , height = 3)"
   ]
  },
  {
   "cell_type": "code",
   "execution_count": 377,
   "metadata": {},
   "outputs": [],
   "source": [
    "# Versus plots\n",
    "ax_vs <- ggplot(\n",
    "  delta_mu_y,\n",
    "  aes(x = D0, y = gamma_mu_1, fill = label)\n",
    ") +\n",
    "  facet_wrap(~subtype, nrow = 2) +\n",
    "  geom_point(pch = 21, cex = 3) +\n",
    "  scale_fill_manual(values = COL_LABEL)\n",
    "\n",
    "ggsave('~/Dropbox/tmp/gamma_mu_1-D0.pdf', ax_vs,\n",
    "       width = 9 , height = 6)"
   ]
  },
  {
   "cell_type": "markdown",
   "metadata": {},
   "source": [
    "#### Compare deltas of remission and relapse"
   ]
  },
  {
   "cell_type": "code",
   "execution_count": 66,
   "metadata": {},
   "outputs": [],
   "source": [
    "ax <- ggplot(delta_cd19_y, aes(label, delta_2, fill = label)) +\n",
    "  facet_wrap(~subtype, nrow = 1) +\n",
    "  geom_point(position = position_jitter(w = .2), pch = 21) +\n",
    "  scale_fill_manual(values = COL_LABEL)\n",
    "\n",
    "ggsave('~/Dropbox/tmp/jitter-delta_cd19.pdf', ax, width = 9, height = 3)"
   ]
  },
  {
   "cell_type": "code",
   "execution_count": 67,
   "metadata": {},
   "outputs": [],
   "source": [
    "ax <- ggplot(delta_mu_y, aes(label, delta_2, fill = label)) +\n",
    "  facet_wrap(~subtype, nrow = 1) +\n",
    "  geom_point(position = position_jitter(w = .2), pch = 21) +\n",
    "  scale_fill_manual(values = COL_LABEL)\n",
    "\n",
    "ggsave('~/Dropbox/tmp/jitter-delta_mu.pdf', ax, width = 9, height = 3)"
   ]
  },
  {
   "cell_type": "markdown",
   "metadata": {},
   "source": [
    "#### All patients"
   ]
  },
  {
   "cell_type": "code",
   "execution_count": 389,
   "metadata": {},
   "outputs": [],
   "source": [
    "d0_mu <- bcell_mu_sub[\n",
    "  endsWith(rownames(bcell_mu_sub), '_D0'),\n",
    "  'bcell_mean']\n",
    "d8_mu <- bcell_mu_sub[\n",
    "  endsWith(rownames(bcell_mu_sub), '_D8'),\n",
    "  'bcell_mean']\n",
    "\n",
    "t_1 <- 8\n",
    "gamma_mu_1 <- d0_mu - d8_mu\n",
    "delta_mu_1 <- (d0_mu - d8_mu) / t_1\n",
    "\n",
    "delta_mu <- data.frame(\n",
    "  gamma_mu_1,\n",
    "  delta_mu_1,\n",
    "  D0 = d0_mu,\n",
    "  D8 = d8_mu\n",
    ")\n",
    "\n",
    "pid <- substring(\n",
    "  rownames(bcell_mu_sub)[\n",
    "    endsWith(rownames(bcell_mu_sub), '_D0')\n",
    "  ], 1, 4\n",
    ")\n",
    "rownames(delta_mu) <- pid\n",
    "\n",
    "delta_mu$delta_1_D0 <- delta_mu$delta_mu_1 / delta_mu$D0\n",
    "delta_mu$delta_1_D8 <- delta_mu$delta_mu_1 / delta_mu$D8\n",
    "\n",
    "delta_mu$gamma_1_D0 <- delta_mu$gamma_mu_1 / delta_mu$D0\n",
    "delta_mu$gamma_1_D8 <- delta_mu$gamma_mu_1 / delta_mu$D8\n",
    "\n",
    "delta_mu$pid <- rownames(delta_mu)\n",
    "delta_mu_y <- cbind(\n",
    "  delta_mu,\n",
    "  yeoh_label[rownames(delta_mu), c('subtype', 'label')]\n",
    ")"
   ]
  },
  {
   "cell_type": "code",
   "execution_count": 399,
   "metadata": {},
   "outputs": [],
   "source": [
    "ax <- ggplot(\n",
    "  delta_mu_y,\n",
    "  aes(label, gamma_1_D0, fill = label)\n",
    ") +\n",
    "  facet_wrap(~subtype, nrow = 1) +\n",
    "  geom_point(position = position_jitter(width = .2), pch = 21) +\n",
    "  scale_fill_manual(values = COL_LABEL)\n",
    "\n",
    "ggsave('~/Dropbox/tmp/jitter_mu_all-gamma_1_D0.pdf', ax,\n",
    "       width = 9, height = 3)"
   ]
  },
  {
   "cell_type": "markdown",
   "metadata": {},
   "source": [
    "## Count: Highly expressed genes"
   ]
  },
  {
   "cell_type": "code",
   "execution_count": 193,
   "metadata": {},
   "outputs": [],
   "source": [
    "complete_data <- allyeoh[\n",
    "  , c(complete_sid, c('N01', 'N02', 'N04'))]\n",
    "threshold <- 12\n",
    "pct <- colSums(complete_data > threshold) / nrow(complete_data)"
   ]
  },
  {
   "cell_type": "code",
   "execution_count": 214,
   "metadata": {},
   "outputs": [
    {
     "name": "stderr",
     "output_type": "stream",
     "text": [
      "geom_path: Each group consists of only one observation. Do you need to adjust\n",
      "the group aesthetic?\n"
     ]
    }
   ],
   "source": [
    "timepoint <- c(\n",
    "  substring(names(pct)[1:(length(pct) - 3)], 6),\n",
    "  rep('D0', 3))\n",
    "\n",
    "high_expr <- data.frame(\n",
    "  pid = substring(names(pct), 1, 4),\n",
    "  timepoint,\n",
    "  annot_all[names(pct), c('subtype', 'label')],\n",
    "  pct\n",
    ")\n",
    "high_expr$timepoint <- factor(\n",
    "  high_expr$timepoint,\n",
    "  levels = c('D0', 'D8', 'D33')\n",
    ")\n",
    "\n",
    "ax_pct <- ggplot(high_expr, aes(timepoint, pct, fill = label)) +\n",
    "  facet_grid(label ~ subtype) +\n",
    "  geom_point(pch = 21) +\n",
    "  geom_line(aes(group = pid), alpha = 0.6) +\n",
    "  scale_fill_manual(values = COL_LABEL)\n",
    "\n",
    "# ggsave('~/Dropbox/tmp/pct-10.pdf', ax_pct, width = 9, height = 4)"
   ]
  },
  {
   "cell_type": "markdown",
   "metadata": {},
   "source": [
    "#### Plot: Single markers"
   ]
  },
  {
   "cell_type": "code",
   "execution_count": 1220,
   "metadata": {},
   "outputs": [],
   "source": [
    "# for (i in seq_len(nrow(bcell_sub1))) {\n",
    "#   cd <- data.frame(\n",
    "#     t(bcell_sub1[i, ]),\n",
    "#     annot_all[colnames(bcell_sub1), ]\n",
    "#   )\n",
    "\n",
    "#   cd_gene <- colnames(cd)[1]\n",
    "#   jitter_cd <- ggplot(\n",
    "#     cd,\n",
    "#     aes_string(x = 'class_info', y = cd_gene, col = 'label')\n",
    "#   ) +\n",
    "#     geom_point(\n",
    "#       position = position_jitterdodge(),\n",
    "#       alpha = 0.6\n",
    "#     ) +\n",
    "#     facet_wrap(~subtype, nrow = 2) +\n",
    "#     scale_color_manual(values = COL_LABEL) +\n",
    "#     ylim(0, 16)\n",
    "\n",
    "#   wpath <- sprintf('~/Dropbox/temp/jitter-%s.pdf', cd_gene)\n",
    "#   ggsave(wpath, jitter_cd, width = 8, height = 5.5)\n",
    "# }"
   ]
  },
  {
   "cell_type": "markdown",
   "metadata": {},
   "source": [
    "#### D33 patients"
   ]
  },
  {
   "cell_type": "code",
   "execution_count": 1081,
   "metadata": {},
   "outputs": [],
   "source": [
    "# Selecting D8 and D33 patients\n",
    "idx <- annot_all[colnames(all_cd), \"class_info\"] %in% c('D8', 'D33')\n",
    "hvg_cd_d33 <- select_hvg(all_cd[, idx], 30)\n",
    "\n",
    "heatmap_annot1 <- annot_all[, c('subtype', 'label', 'class_info')]\n",
    "\n",
    "pheatmap(\n",
    "  hvg_cd_d33, col = brewer.pal(n = 11, name = \"RdBu\"), # col = brewer.pal(9, \"Blues\"),\n",
    "  display_numbers = F, legend = T, border_color = NA,\n",
    "  scale = \"row\",\n",
    "  cluster_method = \"ward.D2\", cluster_rows = T, cluster_cols = T,\n",
    "#   cutree_cols = 4,\n",
    "  annotation_col = heatmap_annot1,\n",
    "  show_colnames = F, show_rownames = T,\n",
    "  fontsize = 12, cellwidth = 4, cellheight = 12,\n",
    "  filename = \"~/Dropbox/temp/heatmap-hvg_cd_d33.pdf\"\n",
    ")"
   ]
  },
  {
   "cell_type": "code",
   "execution_count": 1077,
   "metadata": {},
   "outputs": [],
   "source": [
    "# Selecting D8 and D33 patients\n",
    "idx <- annot_all[colnames(all_cd), \"class_info\"] %in% c('D8', 'D33')\n",
    "lit_cd_d33 <- all_cd[impt_cd, idx]\n",
    "\n",
    "heatmap_annot1 <- annot_all[, c('subtype', 'label', 'class_info')]\n",
    "\n",
    "pheatmap(\n",
    "  lit_cd_d33, col = brewer.pal(n = 11, name = \"RdBu\"), # col = brewer.pal(9, \"Blues\"),\n",
    "  display_numbers = F, legend = T, border_color = NA,\n",
    "  scale = \"row\",\n",
    "  cluster_method = \"ward.D2\", cluster_rows = T, cluster_cols = T,\n",
    "#   cutree_cols = 4,\n",
    "  annotation_col = heatmap_annot1,\n",
    "  show_colnames = F, show_rownames = T,\n",
    "  fontsize = 12, cellwidth = 2, cellheight = 30,\n",
    "  filename = \"~/Dropbox/temp/heatmap-lit_cd_d33.pdf\"\n",
    ")"
   ]
  },
  {
   "cell_type": "code",
   "execution_count": 59,
   "metadata": {},
   "outputs": [],
   "source": [
    "# # Unofficial T-cell markers\n",
    "# t_markers <- c(\n",
    "#   'CD7', 'CD96', 'CD160', 'CD28', 'CD8A', 'CD247',\n",
    "#   'CD6', 'CD1A', 'CD1D', 'CD1E', 'CD3G', 'CD14'\n",
    "# )\n",
    "\n",
    "# avg_tmarker <- colMeans(all_cd[t_markers, ])\n",
    "\n",
    "# # plot against label, mrd\n",
    "# avgt_y <- data.frame(\n",
    "#   avg_tmarker,\n",
    "#   annot_all[names(avg_tmarker), ]\n",
    "# )\n",
    "# head(avgt_y)\n",
    "\n",
    "# jitter_avgt <- ggplot(\n",
    "#   avgt_y,\n",
    "#   aes(x = class_info, y = avg_tmarker, col = label)\n",
    "# ) +\n",
    "#   geom_point(\n",
    "#     position = position_jitterdodge(),\n",
    "#     alpha = 0.6\n",
    "#   ) +\n",
    "#   facet_wrap(~subtype, nrow = 2) +\n",
    "#   scale_color_manual(values = COL_LABEL)\n",
    "\n",
    "# ggsave('~/Dropbox/temp/jitter-t_markers.pdf',\n",
    "#        jitter_avgt, width = 8, height = 4)"
   ]
  },
  {
   "cell_type": "markdown",
   "metadata": {},
   "source": [
    "# CIBERSORT"
   ]
  },
  {
   "cell_type": "code",
   "execution_count": 163,
   "metadata": {},
   "outputs": [],
   "source": [
    "# Output: Annotated non-log expression matrix\n",
    "path <- 'tmp/cibersort-LM22.txt'\n",
    "lm22 <- read.table(path, sep = \"\\t\", header = T, row.names = 1)"
   ]
  },
  {
   "cell_type": "code",
   "execution_count": 90,
   "metadata": {},
   "outputs": [],
   "source": [
    "#' Find similar genes to vector of gene symbols\n",
    "#' @return named list with gene symbols in x as names and\n",
    "#' matching gene symbols in y as values\n",
    "get_similar_genes <- function(x, y) {\n",
    "  # Default value of gene with no match is NULL\n",
    "  matched_genes <- vector(\"list\", length(x))\n",
    "  names(matched_genes) <- x\n",
    "  \n",
    "  idx_notequiv <- !(x %in% y)\n",
    "  not_equiv <- x[idx_notequiv]\n",
    "  idx_mult <- grepl(\"///\", not_equiv)\n",
    "  \n",
    "  matched_singles <- lapply(\n",
    "    not_equiv[!idx_mult],\n",
    "    grep, x = y, value = T\n",
    "  )\n",
    "  names(matched_singles) <- not_equiv[!idx_mult]\n",
    "  matched_singles_fltr <- Filter(\n",
    "    function(x) ifelse(length(x) == 0, F, T),\n",
    "    matched_singles\n",
    "  )\n",
    "\n",
    "  mult_symbols <- lapply(\n",
    "    not_equiv[idx_mult],\n",
    "    function(x) unlist(strsplit(x, \" /// \"))\n",
    "  )\n",
    "  names(mult_symbols) <- not_equiv[idx_mult]\n",
    "  matched_mults <- lapply(\n",
    "    mult_symbols,\n",
    "    function(x) unlist(lapply(x, grep, x = y, value = T))\n",
    "  )\n",
    "  matched_mults_fltr <- Filter(\n",
    "    function(x) ifelse(length(x) == 0, F, T),\n",
    "    matched_mults\n",
    "  )\n",
    "  \n",
    "  # initialise list with equivalent genes\n",
    "  matched_genes[!idx_notequiv] <- x[!idx_notequiv]\n",
    "  # replace similar singles and multiples\n",
    "  matched_genes[names(matched_singles_fltr)] <- matched_singles_fltr\n",
    "  matched_genes[names(matched_mults_fltr)] <- matched_mults_fltr\n",
    "\n",
    "  matched_genes\n",
    "}"
   ]
  },
  {
   "cell_type": "code",
   "execution_count": 131,
   "metadata": {},
   "outputs": [],
   "source": [
    "absent_signature <- rownames(lm22)[\n",
    "  !(rownames(lm22) %in% rownames(ann_allyeoh_allps))]\n",
    "\n",
    "absent_mapping <- get_similar_genes(\n",
    "  absent_signature, rownames(ann_allyeoh_allps))"
   ]
  },
  {
   "cell_type": "code",
   "execution_count": 132,
   "metadata": {},
   "outputs": [],
   "source": [
    "# Remove ambiguous gene (last item in list)\n",
    "# Remove genes with no matching genes\n",
    "absent_mapping <- Filter(function(x) !is.null(x), absent_mapping[1:29])   \n",
    "# First match of multiple is the correct one\n",
    "absent_mapping <- lapply(\n",
    "  absent_mapping,\n",
    "  function(x) ifelse(length(x) > 1, x[1], x)\n",
    ")\n",
    "# Replace ambiguous probe set with lm22 signature in annotated data set\n",
    "rownames(ann_allyeoh_allps)[\n",
    "  match(absent_mapping, rownames(ann_allyeoh_allps))\n",
    "] <- names(absent_mapping)"
   ]
  },
  {
   "cell_type": "code",
   "execution_count": 161,
   "metadata": {},
   "outputs": [],
   "source": [
    "present_genes <- rownames(lm22)[\n",
    "  rownames(lm22) %in% rownames(ann_allyeoh_allps)]\n",
    "# Only select genes that are present in LM22\n",
    "allyeoh_cibersort <- ann_allyeoh_allps[present_genes, ]\n",
    "\n",
    "# Power to 2, aside from 0 values\n",
    "nonlog_cibersort <- allyeoh_cibersort\n",
    "nonlog_cibersort[nonlog_cibersort != 0] <-\n",
    "  (2 ^ nonlog_cibersort)[nonlog_cibersort != 0]\n",
    "nonlog_cibersort <- cbind(\n",
    "  GeneSymbol = rownames(nonlog_cibersort),\n",
    "  nonlog_cibersort\n",
    ")"
   ]
  },
  {
   "cell_type": "code",
   "execution_count": 162,
   "metadata": {},
   "outputs": [],
   "source": [
    "write.table(\n",
    "  nonlog_cibersort,\n",
    "  '~/Dropbox/tmp/data-cibersort.tsv',\n",
    "  quote = F, sep = '\\t', row.names = F\n",
    ")"
   ]
  },
  {
   "cell_type": "markdown",
   "metadata": {},
   "source": [
    "#### CIBERSORT output"
   ]
  },
  {
   "cell_type": "code",
   "execution_count": 187,
   "metadata": {},
   "outputs": [],
   "source": [
    "path1 <- 'tmp/cibersort-output_wo_quantile.txt'\n",
    "path2 <- 'tmp/cibersort-output_quantile.txt'\n",
    "cibersort_wo_quantile <- t(read.table(path1, sep = \"\\t\", header = T, row.names = 1))\n",
    "cibersort_quantile <- t(read.table(path2, sep = \"\\t\", header = T, row.names = 1))"
   ]
  },
  {
   "cell_type": "code",
   "execution_count": 188,
   "metadata": {},
   "outputs": [],
   "source": [
    "cibersort_wo <- cibersort_wo_quantile[1:22, ]\n",
    "cibersort <- cibersort_quantile[1:22, ]\n",
    "heatmap_annot <- annot_all[, 2:4]\n",
    "\n",
    "pheatmap(\n",
    "  cibersort_wo,\n",
    "#   col = brewer.pal(n = 11, name = \"RdBu\"),\n",
    "  col = brewer.pal(9, \"Blues\"),\n",
    "  display_numbers = F, legend = T, border_color = NULL,\n",
    "  cluster_method = \"ward.D2\", cluster_rows = T, cluster_cols = T,\n",
    "  scale = \"none\", show_colnames = F, show_rownames = T,\n",
    "  annotation_col = heatmap_annot,\n",
    "  fontsize = 10, cellwidth = 1, cellheight = 15,\n",
    "  filename = \"~/Dropbox/tmp/heatmap-cibersort_wo.pdf\"\n",
    ")\n",
    "\n",
    "pheatmap(\n",
    "  cibersort,\n",
    "#   col = brewer.pal(n = 11, name = \"RdBu\"),\n",
    "  col = brewer.pal(9, \"Blues\"),\n",
    "  display_numbers = F, legend = T, border_color = NULL,\n",
    "  cluster_method = \"ward.D2\", cluster_rows = T, cluster_cols = T,\n",
    "  scale = \"none\", show_colnames = F, show_rownames = T,\n",
    "  annotation_col = heatmap_annot,\n",
    "  fontsize = 10, cellwidth = 1, cellheight = 15,\n",
    "  filename = \"~/Dropbox/tmp/heatmap-cibersort.pdf\"\n",
    ")"
   ]
  },
  {
   "cell_type": "code",
   "execution_count": 403,
   "metadata": {},
   "outputs": [
    {
     "data": {
      "text/html": [
       "<ol class=list-inline>\n",
       "\t<li>'P013_D0'</li>\n",
       "\t<li>'P016_D0'</li>\n",
       "\t<li>'P017_D0'</li>\n",
       "\t<li>'P018_D0'</li>\n",
       "\t<li>'P019_D0'</li>\n",
       "\t<li>'P024_D0'</li>\n",
       "\t<li>'P026_D0'</li>\n",
       "\t<li>'P027_D0'</li>\n",
       "\t<li>'P028_D0'</li>\n",
       "\t<li>'P029_D0'</li>\n",
       "\t<li>'P036_D0'</li>\n",
       "\t<li>'P037_D0'</li>\n",
       "\t<li>'P038_D0'</li>\n",
       "\t<li>'P039_D0'</li>\n",
       "\t<li>'P041_D0'</li>\n",
       "\t<li>'P042_D0'</li>\n",
       "\t<li>'P043_D0'</li>\n",
       "\t<li>'P046_D0'</li>\n",
       "\t<li>'P048_D0'</li>\n",
       "\t<li>'P049_D0'</li>\n",
       "\t<li>'P050_D0'</li>\n",
       "\t<li>'P051_D0'</li>\n",
       "\t<li>'P053_D0'</li>\n",
       "\t<li>'P057_D0'</li>\n",
       "\t<li>'P058_D0'</li>\n",
       "\t<li>'P060_D0'</li>\n",
       "\t<li>'P061_D0'</li>\n",
       "\t<li>'P062_D0'</li>\n",
       "\t<li>'P063_D0'</li>\n",
       "\t<li>'P064_D0'</li>\n",
       "\t<li>'P065_D0'</li>\n",
       "\t<li>'P067_D0'</li>\n",
       "\t<li>'P070_D0'</li>\n",
       "\t<li>'P073_D0'</li>\n",
       "\t<li>'P075_D0'</li>\n",
       "\t<li>'P076_D0'</li>\n",
       "\t<li>'P078_D0'</li>\n",
       "\t<li>'P080_D0'</li>\n",
       "\t<li>'P081_D0'</li>\n",
       "\t<li>'P082_D0'</li>\n",
       "\t<li>'P083_D0'</li>\n",
       "\t<li>'P084_D0'</li>\n",
       "\t<li>'P085_D0'</li>\n",
       "\t<li>'P086_D0'</li>\n",
       "\t<li>'P087_D0'</li>\n",
       "\t<li>'P088_D0'</li>\n",
       "\t<li>'P092_D0'</li>\n",
       "\t<li>'P093_D0'</li>\n",
       "\t<li>'P094_D0'</li>\n",
       "\t<li>'P013_D8'</li>\n",
       "\t<li>'P016_D8'</li>\n",
       "\t<li>'P017_D8'</li>\n",
       "\t<li>'P018_D8'</li>\n",
       "\t<li>'P019_D8'</li>\n",
       "\t<li>'P024_D8'</li>\n",
       "\t<li>'P026_D8'</li>\n",
       "\t<li>'P027_D8'</li>\n",
       "\t<li>'P028_D8'</li>\n",
       "\t<li>'P029_D8'</li>\n",
       "\t<li>'P036_D8'</li>\n",
       "\t<li>'P037_D8'</li>\n",
       "\t<li>'P038_D8'</li>\n",
       "\t<li>'P039_D8'</li>\n",
       "\t<li>'P041_D8'</li>\n",
       "\t<li>'P042_D8'</li>\n",
       "\t<li>'P043_D8'</li>\n",
       "\t<li>'P046_D8'</li>\n",
       "\t<li>'P048_D8'</li>\n",
       "\t<li>'P049_D8'</li>\n",
       "\t<li>'P050_D8'</li>\n",
       "\t<li>'P051_D8'</li>\n",
       "\t<li>'P053_D8'</li>\n",
       "\t<li>'P057_D8'</li>\n",
       "\t<li>'P058_D8'</li>\n",
       "\t<li>'P060_D8'</li>\n",
       "\t<li>'P061_D8'</li>\n",
       "\t<li>'P062_D8'</li>\n",
       "\t<li>'P063_D8'</li>\n",
       "\t<li>'P064_D8'</li>\n",
       "\t<li>'P065_D8'</li>\n",
       "\t<li>'P067_D8'</li>\n",
       "\t<li>'P070_D8'</li>\n",
       "\t<li>'P073_D8'</li>\n",
       "\t<li>'P075_D8'</li>\n",
       "\t<li>'P076_D8'</li>\n",
       "\t<li>'P078_D8'</li>\n",
       "\t<li>'P080_D8'</li>\n",
       "\t<li>'P081_D8'</li>\n",
       "\t<li>'P082_D8'</li>\n",
       "\t<li>'P083_D8'</li>\n",
       "\t<li>'P084_D8'</li>\n",
       "\t<li>'P085_D8'</li>\n",
       "\t<li>'P086_D8'</li>\n",
       "\t<li>'P087_D8'</li>\n",
       "\t<li>'P088_D8'</li>\n",
       "\t<li>'P092_D8'</li>\n",
       "\t<li>'P093_D8'</li>\n",
       "\t<li>'P094_D8'</li>\n",
       "\t<li>'P013_D33'</li>\n",
       "\t<li>'P016_D33'</li>\n",
       "\t<li>'P017_D33'</li>\n",
       "\t<li>'P018_D33'</li>\n",
       "\t<li>'P019_D33'</li>\n",
       "\t<li>'P024_D33'</li>\n",
       "\t<li>'P026_D33'</li>\n",
       "\t<li>'P027_D33'</li>\n",
       "\t<li>'P028_D33'</li>\n",
       "\t<li>'P029_D33'</li>\n",
       "\t<li>'P036_D33'</li>\n",
       "\t<li>'P037_D33'</li>\n",
       "\t<li>'P038_D33'</li>\n",
       "\t<li>'P039_D33'</li>\n",
       "\t<li>'P041_D33'</li>\n",
       "\t<li>'P042_D33'</li>\n",
       "\t<li>'P043_D33'</li>\n",
       "\t<li>'P046_D33'</li>\n",
       "\t<li>'P048_D33'</li>\n",
       "\t<li>'P049_D33'</li>\n",
       "\t<li>'P050_D33'</li>\n",
       "\t<li>'P051_D33'</li>\n",
       "\t<li>'P053_D33'</li>\n",
       "\t<li>'P057_D33'</li>\n",
       "\t<li>'P058_D33'</li>\n",
       "\t<li>'P060_D33'</li>\n",
       "\t<li>'P061_D33'</li>\n",
       "\t<li>'P062_D33'</li>\n",
       "\t<li>'P063_D33'</li>\n",
       "\t<li>'P064_D33'</li>\n",
       "\t<li>'P065_D33'</li>\n",
       "\t<li>'P067_D33'</li>\n",
       "\t<li>'P070_D33'</li>\n",
       "\t<li>'P073_D33'</li>\n",
       "\t<li>'P075_D33'</li>\n",
       "\t<li>'P076_D33'</li>\n",
       "\t<li>'P078_D33'</li>\n",
       "\t<li>'P080_D33'</li>\n",
       "\t<li>'P081_D33'</li>\n",
       "\t<li>'P082_D33'</li>\n",
       "\t<li>'P083_D33'</li>\n",
       "\t<li>'P084_D33'</li>\n",
       "\t<li>'P085_D33'</li>\n",
       "\t<li>'P086_D33'</li>\n",
       "\t<li>'P087_D33'</li>\n",
       "\t<li>'P088_D33'</li>\n",
       "\t<li>'P092_D33'</li>\n",
       "\t<li>'P093_D33'</li>\n",
       "\t<li>'P094_D33'</li>\n",
       "</ol>\n"
      ],
      "text/latex": [
       "\\begin{enumerate*}\n",
       "\\item 'P013\\_D0'\n",
       "\\item 'P016\\_D0'\n",
       "\\item 'P017\\_D0'\n",
       "\\item 'P018\\_D0'\n",
       "\\item 'P019\\_D0'\n",
       "\\item 'P024\\_D0'\n",
       "\\item 'P026\\_D0'\n",
       "\\item 'P027\\_D0'\n",
       "\\item 'P028\\_D0'\n",
       "\\item 'P029\\_D0'\n",
       "\\item 'P036\\_D0'\n",
       "\\item 'P037\\_D0'\n",
       "\\item 'P038\\_D0'\n",
       "\\item 'P039\\_D0'\n",
       "\\item 'P041\\_D0'\n",
       "\\item 'P042\\_D0'\n",
       "\\item 'P043\\_D0'\n",
       "\\item 'P046\\_D0'\n",
       "\\item 'P048\\_D0'\n",
       "\\item 'P049\\_D0'\n",
       "\\item 'P050\\_D0'\n",
       "\\item 'P051\\_D0'\n",
       "\\item 'P053\\_D0'\n",
       "\\item 'P057\\_D0'\n",
       "\\item 'P058\\_D0'\n",
       "\\item 'P060\\_D0'\n",
       "\\item 'P061\\_D0'\n",
       "\\item 'P062\\_D0'\n",
       "\\item 'P063\\_D0'\n",
       "\\item 'P064\\_D0'\n",
       "\\item 'P065\\_D0'\n",
       "\\item 'P067\\_D0'\n",
       "\\item 'P070\\_D0'\n",
       "\\item 'P073\\_D0'\n",
       "\\item 'P075\\_D0'\n",
       "\\item 'P076\\_D0'\n",
       "\\item 'P078\\_D0'\n",
       "\\item 'P080\\_D0'\n",
       "\\item 'P081\\_D0'\n",
       "\\item 'P082\\_D0'\n",
       "\\item 'P083\\_D0'\n",
       "\\item 'P084\\_D0'\n",
       "\\item 'P085\\_D0'\n",
       "\\item 'P086\\_D0'\n",
       "\\item 'P087\\_D0'\n",
       "\\item 'P088\\_D0'\n",
       "\\item 'P092\\_D0'\n",
       "\\item 'P093\\_D0'\n",
       "\\item 'P094\\_D0'\n",
       "\\item 'P013\\_D8'\n",
       "\\item 'P016\\_D8'\n",
       "\\item 'P017\\_D8'\n",
       "\\item 'P018\\_D8'\n",
       "\\item 'P019\\_D8'\n",
       "\\item 'P024\\_D8'\n",
       "\\item 'P026\\_D8'\n",
       "\\item 'P027\\_D8'\n",
       "\\item 'P028\\_D8'\n",
       "\\item 'P029\\_D8'\n",
       "\\item 'P036\\_D8'\n",
       "\\item 'P037\\_D8'\n",
       "\\item 'P038\\_D8'\n",
       "\\item 'P039\\_D8'\n",
       "\\item 'P041\\_D8'\n",
       "\\item 'P042\\_D8'\n",
       "\\item 'P043\\_D8'\n",
       "\\item 'P046\\_D8'\n",
       "\\item 'P048\\_D8'\n",
       "\\item 'P049\\_D8'\n",
       "\\item 'P050\\_D8'\n",
       "\\item 'P051\\_D8'\n",
       "\\item 'P053\\_D8'\n",
       "\\item 'P057\\_D8'\n",
       "\\item 'P058\\_D8'\n",
       "\\item 'P060\\_D8'\n",
       "\\item 'P061\\_D8'\n",
       "\\item 'P062\\_D8'\n",
       "\\item 'P063\\_D8'\n",
       "\\item 'P064\\_D8'\n",
       "\\item 'P065\\_D8'\n",
       "\\item 'P067\\_D8'\n",
       "\\item 'P070\\_D8'\n",
       "\\item 'P073\\_D8'\n",
       "\\item 'P075\\_D8'\n",
       "\\item 'P076\\_D8'\n",
       "\\item 'P078\\_D8'\n",
       "\\item 'P080\\_D8'\n",
       "\\item 'P081\\_D8'\n",
       "\\item 'P082\\_D8'\n",
       "\\item 'P083\\_D8'\n",
       "\\item 'P084\\_D8'\n",
       "\\item 'P085\\_D8'\n",
       "\\item 'P086\\_D8'\n",
       "\\item 'P087\\_D8'\n",
       "\\item 'P088\\_D8'\n",
       "\\item 'P092\\_D8'\n",
       "\\item 'P093\\_D8'\n",
       "\\item 'P094\\_D8'\n",
       "\\item 'P013\\_D33'\n",
       "\\item 'P016\\_D33'\n",
       "\\item 'P017\\_D33'\n",
       "\\item 'P018\\_D33'\n",
       "\\item 'P019\\_D33'\n",
       "\\item 'P024\\_D33'\n",
       "\\item 'P026\\_D33'\n",
       "\\item 'P027\\_D33'\n",
       "\\item 'P028\\_D33'\n",
       "\\item 'P029\\_D33'\n",
       "\\item 'P036\\_D33'\n",
       "\\item 'P037\\_D33'\n",
       "\\item 'P038\\_D33'\n",
       "\\item 'P039\\_D33'\n",
       "\\item 'P041\\_D33'\n",
       "\\item 'P042\\_D33'\n",
       "\\item 'P043\\_D33'\n",
       "\\item 'P046\\_D33'\n",
       "\\item 'P048\\_D33'\n",
       "\\item 'P049\\_D33'\n",
       "\\item 'P050\\_D33'\n",
       "\\item 'P051\\_D33'\n",
       "\\item 'P053\\_D33'\n",
       "\\item 'P057\\_D33'\n",
       "\\item 'P058\\_D33'\n",
       "\\item 'P060\\_D33'\n",
       "\\item 'P061\\_D33'\n",
       "\\item 'P062\\_D33'\n",
       "\\item 'P063\\_D33'\n",
       "\\item 'P064\\_D33'\n",
       "\\item 'P065\\_D33'\n",
       "\\item 'P067\\_D33'\n",
       "\\item 'P070\\_D33'\n",
       "\\item 'P073\\_D33'\n",
       "\\item 'P075\\_D33'\n",
       "\\item 'P076\\_D33'\n",
       "\\item 'P078\\_D33'\n",
       "\\item 'P080\\_D33'\n",
       "\\item 'P081\\_D33'\n",
       "\\item 'P082\\_D33'\n",
       "\\item 'P083\\_D33'\n",
       "\\item 'P084\\_D33'\n",
       "\\item 'P085\\_D33'\n",
       "\\item 'P086\\_D33'\n",
       "\\item 'P087\\_D33'\n",
       "\\item 'P088\\_D33'\n",
       "\\item 'P092\\_D33'\n",
       "\\item 'P093\\_D33'\n",
       "\\item 'P094\\_D33'\n",
       "\\end{enumerate*}\n"
      ],
      "text/markdown": [
       "1. 'P013_D0'\n",
       "2. 'P016_D0'\n",
       "3. 'P017_D0'\n",
       "4. 'P018_D0'\n",
       "5. 'P019_D0'\n",
       "6. 'P024_D0'\n",
       "7. 'P026_D0'\n",
       "8. 'P027_D0'\n",
       "9. 'P028_D0'\n",
       "10. 'P029_D0'\n",
       "11. 'P036_D0'\n",
       "12. 'P037_D0'\n",
       "13. 'P038_D0'\n",
       "14. 'P039_D0'\n",
       "15. 'P041_D0'\n",
       "16. 'P042_D0'\n",
       "17. 'P043_D0'\n",
       "18. 'P046_D0'\n",
       "19. 'P048_D0'\n",
       "20. 'P049_D0'\n",
       "21. 'P050_D0'\n",
       "22. 'P051_D0'\n",
       "23. 'P053_D0'\n",
       "24. 'P057_D0'\n",
       "25. 'P058_D0'\n",
       "26. 'P060_D0'\n",
       "27. 'P061_D0'\n",
       "28. 'P062_D0'\n",
       "29. 'P063_D0'\n",
       "30. 'P064_D0'\n",
       "31. 'P065_D0'\n",
       "32. 'P067_D0'\n",
       "33. 'P070_D0'\n",
       "34. 'P073_D0'\n",
       "35. 'P075_D0'\n",
       "36. 'P076_D0'\n",
       "37. 'P078_D0'\n",
       "38. 'P080_D0'\n",
       "39. 'P081_D0'\n",
       "40. 'P082_D0'\n",
       "41. 'P083_D0'\n",
       "42. 'P084_D0'\n",
       "43. 'P085_D0'\n",
       "44. 'P086_D0'\n",
       "45. 'P087_D0'\n",
       "46. 'P088_D0'\n",
       "47. 'P092_D0'\n",
       "48. 'P093_D0'\n",
       "49. 'P094_D0'\n",
       "50. 'P013_D8'\n",
       "51. 'P016_D8'\n",
       "52. 'P017_D8'\n",
       "53. 'P018_D8'\n",
       "54. 'P019_D8'\n",
       "55. 'P024_D8'\n",
       "56. 'P026_D8'\n",
       "57. 'P027_D8'\n",
       "58. 'P028_D8'\n",
       "59. 'P029_D8'\n",
       "60. 'P036_D8'\n",
       "61. 'P037_D8'\n",
       "62. 'P038_D8'\n",
       "63. 'P039_D8'\n",
       "64. 'P041_D8'\n",
       "65. 'P042_D8'\n",
       "66. 'P043_D8'\n",
       "67. 'P046_D8'\n",
       "68. 'P048_D8'\n",
       "69. 'P049_D8'\n",
       "70. 'P050_D8'\n",
       "71. 'P051_D8'\n",
       "72. 'P053_D8'\n",
       "73. 'P057_D8'\n",
       "74. 'P058_D8'\n",
       "75. 'P060_D8'\n",
       "76. 'P061_D8'\n",
       "77. 'P062_D8'\n",
       "78. 'P063_D8'\n",
       "79. 'P064_D8'\n",
       "80. 'P065_D8'\n",
       "81. 'P067_D8'\n",
       "82. 'P070_D8'\n",
       "83. 'P073_D8'\n",
       "84. 'P075_D8'\n",
       "85. 'P076_D8'\n",
       "86. 'P078_D8'\n",
       "87. 'P080_D8'\n",
       "88. 'P081_D8'\n",
       "89. 'P082_D8'\n",
       "90. 'P083_D8'\n",
       "91. 'P084_D8'\n",
       "92. 'P085_D8'\n",
       "93. 'P086_D8'\n",
       "94. 'P087_D8'\n",
       "95. 'P088_D8'\n",
       "96. 'P092_D8'\n",
       "97. 'P093_D8'\n",
       "98. 'P094_D8'\n",
       "99. 'P013_D33'\n",
       "100. 'P016_D33'\n",
       "101. 'P017_D33'\n",
       "102. 'P018_D33'\n",
       "103. 'P019_D33'\n",
       "104. 'P024_D33'\n",
       "105. 'P026_D33'\n",
       "106. 'P027_D33'\n",
       "107. 'P028_D33'\n",
       "108. 'P029_D33'\n",
       "109. 'P036_D33'\n",
       "110. 'P037_D33'\n",
       "111. 'P038_D33'\n",
       "112. 'P039_D33'\n",
       "113. 'P041_D33'\n",
       "114. 'P042_D33'\n",
       "115. 'P043_D33'\n",
       "116. 'P046_D33'\n",
       "117. 'P048_D33'\n",
       "118. 'P049_D33'\n",
       "119. 'P050_D33'\n",
       "120. 'P051_D33'\n",
       "121. 'P053_D33'\n",
       "122. 'P057_D33'\n",
       "123. 'P058_D33'\n",
       "124. 'P060_D33'\n",
       "125. 'P061_D33'\n",
       "126. 'P062_D33'\n",
       "127. 'P063_D33'\n",
       "128. 'P064_D33'\n",
       "129. 'P065_D33'\n",
       "130. 'P067_D33'\n",
       "131. 'P070_D33'\n",
       "132. 'P073_D33'\n",
       "133. 'P075_D33'\n",
       "134. 'P076_D33'\n",
       "135. 'P078_D33'\n",
       "136. 'P080_D33'\n",
       "137. 'P081_D33'\n",
       "138. 'P082_D33'\n",
       "139. 'P083_D33'\n",
       "140. 'P084_D33'\n",
       "141. 'P085_D33'\n",
       "142. 'P086_D33'\n",
       "143. 'P087_D33'\n",
       "144. 'P088_D33'\n",
       "145. 'P092_D33'\n",
       "146. 'P093_D33'\n",
       "147. 'P094_D33'\n",
       "\n",
       "\n"
      ],
      "text/plain": [
       "  [1] \"P013_D0\"  \"P016_D0\"  \"P017_D0\"  \"P018_D0\"  \"P019_D0\"  \"P024_D0\" \n",
       "  [7] \"P026_D0\"  \"P027_D0\"  \"P028_D0\"  \"P029_D0\"  \"P036_D0\"  \"P037_D0\" \n",
       " [13] \"P038_D0\"  \"P039_D0\"  \"P041_D0\"  \"P042_D0\"  \"P043_D0\"  \"P046_D0\" \n",
       " [19] \"P048_D0\"  \"P049_D0\"  \"P050_D0\"  \"P051_D0\"  \"P053_D0\"  \"P057_D0\" \n",
       " [25] \"P058_D0\"  \"P060_D0\"  \"P061_D0\"  \"P062_D0\"  \"P063_D0\"  \"P064_D0\" \n",
       " [31] \"P065_D0\"  \"P067_D0\"  \"P070_D0\"  \"P073_D0\"  \"P075_D0\"  \"P076_D0\" \n",
       " [37] \"P078_D0\"  \"P080_D0\"  \"P081_D0\"  \"P082_D0\"  \"P083_D0\"  \"P084_D0\" \n",
       " [43] \"P085_D0\"  \"P086_D0\"  \"P087_D0\"  \"P088_D0\"  \"P092_D0\"  \"P093_D0\" \n",
       " [49] \"P094_D0\"  \"P013_D8\"  \"P016_D8\"  \"P017_D8\"  \"P018_D8\"  \"P019_D8\" \n",
       " [55] \"P024_D8\"  \"P026_D8\"  \"P027_D8\"  \"P028_D8\"  \"P029_D8\"  \"P036_D8\" \n",
       " [61] \"P037_D8\"  \"P038_D8\"  \"P039_D8\"  \"P041_D8\"  \"P042_D8\"  \"P043_D8\" \n",
       " [67] \"P046_D8\"  \"P048_D8\"  \"P049_D8\"  \"P050_D8\"  \"P051_D8\"  \"P053_D8\" \n",
       " [73] \"P057_D8\"  \"P058_D8\"  \"P060_D8\"  \"P061_D8\"  \"P062_D8\"  \"P063_D8\" \n",
       " [79] \"P064_D8\"  \"P065_D8\"  \"P067_D8\"  \"P070_D8\"  \"P073_D8\"  \"P075_D8\" \n",
       " [85] \"P076_D8\"  \"P078_D8\"  \"P080_D8\"  \"P081_D8\"  \"P082_D8\"  \"P083_D8\" \n",
       " [91] \"P084_D8\"  \"P085_D8\"  \"P086_D8\"  \"P087_D8\"  \"P088_D8\"  \"P092_D8\" \n",
       " [97] \"P093_D8\"  \"P094_D8\"  \"P013_D33\" \"P016_D33\" \"P017_D33\" \"P018_D33\"\n",
       "[103] \"P019_D33\" \"P024_D33\" \"P026_D33\" \"P027_D33\" \"P028_D33\" \"P029_D33\"\n",
       "[109] \"P036_D33\" \"P037_D33\" \"P038_D33\" \"P039_D33\" \"P041_D33\" \"P042_D33\"\n",
       "[115] \"P043_D33\" \"P046_D33\" \"P048_D33\" \"P049_D33\" \"P050_D33\" \"P051_D33\"\n",
       "[121] \"P053_D33\" \"P057_D33\" \"P058_D33\" \"P060_D33\" \"P061_D33\" \"P062_D33\"\n",
       "[127] \"P063_D33\" \"P064_D33\" \"P065_D33\" \"P067_D33\" \"P070_D33\" \"P073_D33\"\n",
       "[133] \"P075_D33\" \"P076_D33\" \"P078_D33\" \"P080_D33\" \"P081_D33\" \"P082_D33\"\n",
       "[139] \"P083_D33\" \"P084_D33\" \"P085_D33\" \"P086_D33\" \"P087_D33\" \"P088_D33\"\n",
       "[145] \"P092_D33\" \"P093_D33\" \"P094_D33\""
      ]
     },
     "metadata": {},
     "output_type": "display_data"
    }
   ],
   "source": [
    "complete_sid"
   ]
  },
  {
   "cell_type": "code",
   "execution_count": null,
   "metadata": {},
   "outputs": [],
   "source": [
    "cibersort_wo_bcells <- data.frame(\n",
    "  t(cibersort_wo['B.cells.naive', , drop = F]),\n",
    "  annot_all[colnames(cibersort_wo), ],\n",
    "  pid = substring(colnames(cibersort_wo), 1, 4)\n",
    ")"
   ]
  },
  {
   "cell_type": "code",
   "execution_count": 213,
   "metadata": {},
   "outputs": [],
   "source": [
    "idx <- endsWith(rownames(cibersort_wo_bcells), 'D0') |\n",
    "  endsWith(rownames(cibersort_wo_bcells), 'D8')\n",
    "complete_cibersort_wo <- cibersort_wo_bcells[idx, ]\n",
    "\n",
    "cibersort_wo_bcells_sub <- complete_cibersort_wo[\n",
    "  !(complete_cibersort_wo$subtype %in% c('Hypodiploid', 'T-ALL')), ]\n",
    "\n",
    "ax_paired <- ggplot(\n",
    "  cibersort_wo_bcells_sub,\n",
    "  aes(x = class_info, y = B.cells.naive, fill = label)\n",
    ") +\n",
    "  facet_grid(label ~ subtype) +\n",
    "  geom_point(pch = 21, cex = 2.5, show.legend = F) +\n",
    "  geom_line(\n",
    "    aes(group = pid),\n",
    "    col = 'black', alpha = .6,\n",
    "    show.legend = F\n",
    "  ) +\n",
    "  scale_fill_manual(values = COL_LABEL) +\n",
    "  labs(x = 'Time point') +\n",
    "  ylim(0, 1)\n",
    "\n",
    "# ggsave('~/Dropbox/tmp/paired_bcells-cibersort_wo_quantile.pdf', ax_paired,\n",
    "#       width = 9, height = 4)"
   ]
  },
  {
   "cell_type": "code",
   "execution_count": 407,
   "metadata": {},
   "outputs": [],
   "source": [
    "# D0 - D8 - D33 plots\n",
    "d33_cibersort <- cibersort_wo_bcells[complete_sid, ]\n",
    "d33_cibersort_sub <- d33_cibersort[\n",
    "  !(d33_cibersort$subtype %in% c('Hypodiploid', 'T-ALL')), ]\n",
    "\n",
    "ax_paired <- ggplot(\n",
    "  d33_cibersort_sub,\n",
    "  aes(x = class_info, y = B.cells.naive, fill = label)\n",
    ") +\n",
    "  facet_grid(label ~ subtype) +\n",
    "  geom_point(pch = 21, cex = 2.5, show.legend = F) +\n",
    "  geom_line(\n",
    "    aes(group = pid),\n",
    "    col = 'black', alpha = .6,\n",
    "    show.legend = F\n",
    "  ) +\n",
    "  scale_fill_manual(values = COL_LABEL) +\n",
    "  labs(x = 'Time point') +\n",
    "  ylim(0, 1)\n",
    "\n",
    "ggsave('~/Dropbox/tmp/cibersort-paired_d33.pdf', ax_paired,\n",
    "       width = 9, height = 4)"
   ]
  },
  {
   "cell_type": "code",
   "execution_count": 417,
   "metadata": {},
   "outputs": [
    {
     "data": {
      "image/png": "[encoded data removed]",
      "text/plain": [
       "plot without title"
      ]
     },
     "metadata": {},
     "output_type": "display_data"
    }
   ],
   "source": [
    "deconvolution <- data.frame(\n",
    "  cibersort = cibersort_wo_bcells$B.cells.naive,\n",
    "  mcp = mcp_b\n",
    ")\n",
    "\n",
    "ggplot(\n",
    "  deconvolution,\n",
    "  aes(cibersort, mcp)\n",
    ") +\n",
    "  geom_point()"
   ]
  },
  {
   "cell_type": "markdown",
   "metadata": {},
   "source": [
    "## MCP-counter"
   ]
  },
  {
   "cell_type": "code",
   "execution_count": 7,
   "metadata": {},
   "outputs": [
    {
     "name": "stderr",
     "output_type": "stream",
     "text": [
      "Loading required package: curl\n"
     ]
    }
   ],
   "source": [
    "library(MCPcounter)"
   ]
  },
  {
   "cell_type": "code",
   "execution_count": 54,
   "metadata": {
    "scrolled": true
   },
   "outputs": [
    {
     "name": "stdout",
     "output_type": "stream",
     "text": [
      "P001_D33 P006_D33 P007_D33 P008_D33 P009_D33 P010_D33 \n",
      "2.106859 2.132480 1.498776 2.559182 1.576584 2.657973 \n"
     ]
    }
   ],
   "source": [
    "# path <- \"tmp/mcpcounter_genes.txt\"\n",
    "# mcp_genes <- read.table(path, sep = \"\\t\", header = T)\n",
    "\n",
    "path1 <- \"data/leuk_D33/processed/mas5_filtered.tsv\"\n",
    "path2 <- \"data/GSE67684/processed/metadata/sid-metadata_v1.tsv\"\n",
    "\n",
    "annot_all <- read.table(path2, sep = \"\\t\", header = T)\n",
    "annot_all[] <- lapply(annot_all, as.factor)\n",
    "annot_all$class_info <- factor(\n",
    "  annot_all$class_info,\n",
    "  c('D0', 'D8', 'D33', 'N')\n",
    ") # Re-order levels\n",
    "\n",
    "yeoh_d33 <- read.table(path1, sep = \"\\t\", header = T)\n",
    "yeoh_d33_1 <- log2_transform(normaliseMeanScaling(yeoh_d33))\n",
    "yeoh_all <- cbind(yeoh_allps, yeoh_d33_1)\n",
    "missing_samples <- colnames(yeoh_all)[!(colnames(yeoh_all) %in% rownames(annot_all))]\n",
    "yeoh_all1 <- yeoh_all[, !(colnames(yeoh_all) %in% missing_samples)]\n",
    "\n",
    "mcp_estimate <- MCPcounter.estimate(yeoh_all1, featuresType = \"affy133P2_probesets\")"
   ]
  },
  {
   "cell_type": "code",
   "execution_count": 55,
   "metadata": {},
   "outputs": [],
   "source": [
    "cell_pop <- cbind(\n",
    "  annot_all[colnames(mcp_estimate), c(\"subtype\", \"class_info\", \"label\")],\n",
    "  b_lineage = mcp_estimate[\"B lineage\", ]\n",
    ")\n",
    "cell_pop$class_info <- factor(\n",
    "  cell_pop$class_info,\n",
    "  levels = c(\"D0\", \"D8\", \"D33\", \"N\")\n",
    ")\n",
    "\n",
    "ax_jitter <- ggplot(\n",
    "  cell_pop,\n",
    "  aes(x = class_info, y = b_lineage, fill = label)\n",
    ") +\n",
    "  facet_wrap(~subtype, scales = \"free_x\", nrow = 3) +\n",
    "  geom_point(\n",
    "    position = position_jitterdodge(),\n",
    "    pch = 21, cex = 2.5, show.legend = F\n",
    "  ) +\n",
    "  labs(x = \"Time point\", y = \"MCP-counter scores (B lineage)\") +\n",
    "  scale_fill_manual(values = COL_LABEL)"
   ]
  },
  {
   "cell_type": "code",
   "execution_count": 58,
   "metadata": {},
   "outputs": [],
   "source": [
    "path <- \"~/Dropbox/tmp/jitter-mcp_blineage.pdf\"\n",
    "ggsave(path, ax_jitter, width = 7, height = 7)"
   ]
  },
  {
   "cell_type": "markdown",
   "metadata": {},
   "source": [
    "#### Goh (2019): SPS genes\n",
    "- Super proliferative set\n",
    "- Obtained from intersection of 48 sets of breast cancer signatures"
   ]
  },
  {
   "cell_type": "code",
   "execution_count": 804,
   "metadata": {},
   "outputs": [],
   "source": [
    "GOH_RPATH <- \"data/goh_2019/goh_signatures.tsv\"\n",
    "genes_tab <- read.table(GOH_RPATH, sep = \"\\t\", header = T)\n",
    "goh_genes <- genes_tab[, 1]"
   ]
  },
  {
   "cell_type": "code",
   "execution_count": 809,
   "metadata": {},
   "outputs": [
    {
     "name": "stdout",
     "output_type": "stream",
     "text": [
      "No. of probesets with no ID removed: 1010\n",
      "Total no. of probesets removed (incl. probesets mapping to same gene): 2764\n"
     ]
    }
   ],
   "source": [
    "ENTREZ_GPL570 <- \"../info/microarray/HG-U133_Plus_2/annot_entrez-GPL570.tsv\"\n",
    "entrez_yeoh <- affy2id(yeoh_unfltr, ENTREZ_GPL570)"
   ]
  },
  {
   "cell_type": "code",
   "execution_count": 815,
   "metadata": {},
   "outputs": [],
   "source": [
    "sps_yeoh <- entrez_yeoh[rownames(entrez_yeoh) %in% goh_genes, ]"
   ]
  },
  {
   "cell_type": "code",
   "execution_count": 824,
   "metadata": {},
   "outputs": [],
   "source": [
    "# # All D0 samples\n",
    "# ayeoh_fltr <- ann_yeoh[\n",
    "#   gene_signatures,\n",
    "#   Y[colnames(ann_yeoh), \"class_info\"] == \"D0\"\n",
    "# ]\n",
    "# ayeoh_fltr <- ayeoh_fltr[rowSums(ayeoh_fltr) != 0, ]\n",
    "\n",
    "# heatmap_annot <- Y[, c(\"batch_info\", \"label\", \"subtype\"), drop = F]\n",
    "# heatmap_annot$batch_info <- as.double(heatmap_annot$batch_info)\n",
    "\n",
    "sps_hmap <- pheatmap(\n",
    "  sps_yeoh,\n",
    "  col = brewer.pal(n = 11, name = \"RdBu\"),\n",
    "#   col = brewer.pal(9, \"Blues\"),\n",
    "  display_numbers = F, legend = T, border_color = NULL,\n",
    "  cluster_method = \"ward.D2\", cluster_rows = T, cluster_cols = T,\n",
    "#   cutree_cols = 4,\n",
    "  scale = \"row\", show_colnames = F, show_rownames = F,\n",
    "  annotation_col = Y,\n",
    "  fontsize = 3, cellwidth = 2, cellheight = 5,\n",
    "  filename = \"~/Dropbox/temp/heatmap-sps_signatures.pdf\"\n",
    ")"
   ]
  },
  {
   "cell_type": "markdown",
   "metadata": {},
   "source": [
    "#### Gu (2019): Important genes"
   ]
  },
  {
   "cell_type": "code",
   "execution_count": 45,
   "metadata": {
    "scrolled": true
   },
   "outputs": [],
   "source": [
    "# # rename DUX4 gene\n",
    "# rownames(ann_yeoh)[grepl(\"DUX4\", rownames(ann_yeoh))] <- \"DUX4\"\n",
    "# impt_genes <- c(\"DUX4\", \"PAX5\", \"IKZF1\", \"ERG\", \"IGH\", \"CDKN2A\", \"ZNF384\")\n",
    "# yeoh_impt <- ann_yeoh[impt_genes, ]"
   ]
  },
  {
   "cell_type": "markdown",
   "metadata": {},
   "source": [
    "## B-ALL \"Others\" subtypes\n",
    "- DUX4\n",
    "    - Overexpression of DUX4\n",
    "    - Characterised by recurrent IGH-DUX4 or ERG-DUX4 fusions\n",
    "    - Frequently co-occurring with intragenic ERG deletions\n",
    "- PAX5alt\n",
    "    - PAX5 as a driver mutation\n",
    "    - Commonly have co-deletion of IKZF1 and CDKN2A/B\n",
    "    - If IKZF1 is deleted, poor outcome. Otherwise, excellent prognosis\n",
    "- ETV6-RUNX1-like\n",
    "    - ETV6 and IKZF1 alterations\n",
    "    - IKZF1 alterations did not result in poor prognosis, unlike other cases in B-ALL\n",
    "- ZNF384-like\n",
    "- BCR-ABL1-like\n",
    "    - No CRLF2 rearrangement"
   ]
  },
  {
   "cell_type": "markdown",
   "metadata": {},
   "source": [
    "#### Others (D0)"
   ]
  },
  {
   "cell_type": "code",
   "execution_count": 46,
   "metadata": {},
   "outputs": [],
   "source": [
    "others_d0 <- others[Y[colnames(others), \"class_info\"] == \"D0\"]\n",
    "# exclude batch effect genes\n",
    "others_d0_wo_batch <- others_d0[!(rownames(others_d0) %in% batch_genes), ]\n",
    "others_d0_hvg300 <- select_hvg(others_d0_wo_batch, 300)"
   ]
  },
  {
   "cell_type": "code",
   "execution_count": 47,
   "metadata": {},
   "outputs": [],
   "source": [
    "# # Hierarchical clustering\n",
    "# # heatmap_annot$batch_info <- as.double(heatmap_annot$batch_info)\n",
    "# # DUX4 gene expression is zero for all samples\n",
    "# impt_genes <- t(yeoh_impt[\n",
    "#   rownames(yeoh_impt) != \"DUX4\",\n",
    "#   rownames(heatmap_annot)\n",
    "# ])\n",
    "# annot2 <- cbind(heatmap_annot, impt_genes)\n",
    "\n",
    "# # others_clust <- pheatmap(\n",
    "# #   others_d0_hvg300, col = brewer.pal(n = 11, name = \"RdBu\"), # col = brewer.pal(9, \"Blues\"),\n",
    "# #   display_numbers = F,\n",
    "# #   legend = T, border_color = \"black\", scale = \"row\",\n",
    "# #   cluster_method = \"ward.D2\", cluster_rows = T, cluster_cols = T,\n",
    "# # #   cutree_cols = 4,\n",
    "# #   show_colnames = T, show_rownames = F,\n",
    "# #   annotation_col = annot2,\n",
    "# #   fontsize = 10,\n",
    "# #   cellwidth = 12, cellheight = 2,\n",
    "# #   filename = \"~/Dropbox/temp/heatmap-others_300hvg.pdf\"\n",
    "# # )"
   ]
  },
  {
   "cell_type": "markdown",
   "metadata": {},
   "source": [
    "#### All (D0)"
   ]
  },
  {
   "cell_type": "code",
   "execution_count": 175,
   "metadata": {},
   "outputs": [],
   "source": [
    "# # exclude batch effect genes\n",
    "# d0_wo_batch <- data[\n",
    "#   !(rownames(data) %in% batch_genes),\n",
    "#   Y[colnames(data), \"class_info\"] == \"D0\"\n",
    "# ]\n",
    "# d0_hvg300 <- select_hvg(d0_wo_batch, 500)"
   ]
  },
  {
   "cell_type": "code",
   "execution_count": null,
   "metadata": {},
   "outputs": [],
   "source": [
    "# # hierarchical clustering\n",
    "# # tweak method and distance\n",
    "# heatmap_annot <- Y[, c(\"batch_info\", \"label\", \"subtype\"), drop = F]\n",
    "# # heatmap_annot$batch_info <- as.double(heatmap_annot$batch_info)\n",
    "# # DUX4 gene expression is zero for all samples\n",
    "# impt_genes <- t(yeoh_impt[\n",
    "#   rownames(yeoh_impt) != \"DUX4\",\n",
    "#   rownames(heatmap_annot)\n",
    "# ])\n",
    "# annot2 <- cbind(heatmap_annot, impt_genes)\n",
    "\n",
    "# others_clust <- pheatmap(\n",
    "#   d0_hvg300, col = brewer.pal(n = 11, name = \"RdBu\"), # col = brewer.pal(9, \"Blues\"),\n",
    "#   display_numbers = F,\n",
    "#   legend = T, border_color = \"black\", scale = \"row\",\n",
    "#   cluster_method = \"ward.D2\", cluster_rows = T, cluster_cols = T,\n",
    "# #   cutree_cols = 4,\n",
    "#   show_colnames = T, show_rownames = F,\n",
    "#   annotation_col = heatmap_annot,\n",
    "#   fontsize = 6,\n",
    "#   cellwidth = 8, cellheight = 2,\n",
    "#   filename = \"~/Dropbox/temp/heatmap-d0_300hvg.pdf\"\n",
    "# )\n",
    "\n",
    "# # # Order of PID from hierarchical clustering\n",
    "# # pid_ord <- others_clust$tree_col$labels[others_clust$tree_col$order]\n",
    "# # # retrieve column names of pheatmap\n",
    "# # pid_clusters <- cutree(others_clust$tree_col, k = 4)"
   ]
  },
  {
   "cell_type": "markdown",
   "metadata": {},
   "source": [
    "### Plot: UMAP"
   ]
  },
  {
   "cell_type": "code",
   "execution_count": 255,
   "metadata": {},
   "outputs": [],
   "source": [
    "# exclude batch effect genes\n",
    "d0_wo_batch <- data[\n",
    "  !(rownames(data) %in% batch_genes),\n",
    "  Y[colnames(data), \"class_info\"] == \"D0\"\n",
    "]\n",
    "d0_hvg500 <- select_hvg(d0_wo_batch, 500)"
   ]
  },
  {
   "cell_type": "code",
   "execution_count": 660,
   "metadata": {},
   "outputs": [
    {
     "name": "stdout",
     "output_type": "stream",
     "text": [
      "           UMAP1       UMAP2 subtype label\n",
      "P001_D0 3.264515  0.29340424   T-ALL     0\n",
      "P004_D0 2.678722 -0.52931064   T-ALL     0\n",
      "P005_D0 2.635956 -0.33556299   T-ALL     0\n",
      "P007_D0 2.928077 -0.06792923   T-ALL     1\n",
      "P008_D0 3.365494  0.42612226   T-ALL     0\n",
      "P009_D0 2.613520 -1.36106373   T-ALL     0\n"
     ]
    }
   ],
   "source": [
    "umap_obj <- umap(t(d0_hvg500))\n",
    "umap_d0_hvg500 <- plot_umap(umap_obj, Y, col = \"subtype\", pch = \"label\")\n",
    "# ggsave(\"~/Dropbox/temp/umap-d0_hvg500.pdf\", umap_d0_hvg500, width = 7, height = 4)"
   ]
  },
  {
   "cell_type": "markdown",
   "metadata": {},
   "source": [
    "## Plot: PCA"
   ]
  },
  {
   "cell_type": "code",
   "execution_count": 18,
   "metadata": {},
   "outputs": [],
   "source": [
    "# plot_pca(d0_hvg500, Y, col = \"subtype\")\n",
    "# ggsave(\"~/Dropbox/temp/pca-d0_hvg500.pdf\", pca_d0_hvg500, width = 7, height = 4)"
   ]
  }
 ],
 "metadata": {
  "kernelspec": {
   "display_name": "R",
   "language": "R",
   "name": "ir"
  },
  "language_info": {
   "codemirror_mode": "r",
   "file_extension": ".r",
   "mimetype": "text/x-r-source",
   "name": "R",
   "pygments_lexer": "r",
   "version": "3.5.1"
  }
 },
 "nbformat": 4,
 "nbformat_minor": 2
}
