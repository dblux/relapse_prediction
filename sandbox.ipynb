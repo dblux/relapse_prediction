{
 "cells": [
  {
   "cell_type": "code",
   "execution_count": 325,
   "metadata": {},
   "outputs": [],
   "source": [
    "library(dplyr)\n",
    "library(tidyr)\n",
    "library(tibble)\n",
    "library(xtable)\n",
    "\n",
    "## Plotting\n",
    "library(RColorBrewer)\n",
    "library(ggplot2)\n",
    "library(cowplot)\n",
    "\n",
    "theme_set(theme_bw())"
   ]
  },
  {
   "cell_type": "code",
   "execution_count": 340,
   "metadata": {},
   "outputs": [],
   "source": [
    "source(\"R/calc.R\")\n",
    "source(\"R/misc.R\")\n",
    "source(\"R/normalise.R\")\n",
    "source(\"R/plot.R\")\n",
    "source(\"R/predict.R\")\n",
    "source(\"R/subset.R\")\n",
    "source(\"R/utils.R\")"
   ]
  },
  {
   "cell_type": "markdown",
   "metadata": {},
   "source": [
    "## Import data"
   ]
  },
  {
   "cell_type": "code",
   "execution_count": 9,
   "metadata": {},
   "outputs": [],
   "source": [
    "# Metadata\n",
    "METADATA_SID <- \"data/GSE67684/processed/metadata/sid-metadata_v2.tsv\"\n",
    "METADATA_PID <- \"data/GSE67684/processed/metadata/pid-metadata_v7.tsv\"\n",
    "metadata_sid <- read.table(METADATA_SID, sep = \"\\t\")\n",
    "metadata_pid <- read.table(METADATA_PID, sep = \"\\t\", row.names = 1, quote = '\"')\n",
    "\n",
    "## Data\n",
    "# Removed outliers, patients with timepoints from different batches and batch 5\n",
    "SUBSET_RPATH <- \"data/GSE67684/processed/subset_yeoh.tsv\"\n",
    "raw_yeoh <- read.table(SUBSET_RPATH, sep = \"\\t\")"
   ]
  },
  {
   "cell_type": "code",
   "execution_count": 10,
   "metadata": {},
   "outputs": [
    {
     "name": "stdout",
     "output_type": "stream",
     "text": [
      "  P001_D0   P004_D0   P005_D0   P007_D0   P008_D0   P009_D0 \n",
      " 5.796952  4.123342  3.981577  6.317643  4.841458 11.978124 \n",
      "[1] \"No. of ambiguous and AFFY probesets removed: 10503\"\n",
      "[1] D0 D0 D0 D0 D0 D0\n",
      "Levels: D0 D8 N\n",
      "           D0    D8     N\n",
      "1053_at  TRUE  TRUE  TRUE\n",
      "117_at  FALSE  TRUE  TRUE\n",
      "121_at   TRUE  TRUE  TRUE\n",
      "1294_at  TRUE  TRUE  TRUE\n",
      "1316_at  TRUE  TRUE  TRUE\n",
      "1320_at FALSE FALSE FALSE\n",
      "[1] \"No. of probesets removed = 6321\"\n"
     ]
    }
   ],
   "source": [
    "# Metadata\n",
    "metadata_sid$label <- as.factor(metadata_sid$label)\n",
    "metadata_pid$label <- as.factor(metadata_pid$label)\n",
    "\n",
    "# Scale -> Remove -> Filter -> Log\n",
    "scaled_yeoh <- normaliseMeanScaling(raw_yeoh)\n",
    "selected_yeoh <- removeProbesets(scaled_yeoh)\n",
    "yeoh <- log2_transform(filterProbesets(selected_yeoh, 0.7, metadata_sid))\n",
    "\n",
    "yeoh_allps <- log2_transform(scaled_yeoh)\n",
    "yeoh_unfltr <- log2_transform(selected_yeoh)"
   ]
  },
  {
   "cell_type": "markdown",
   "metadata": {},
   "source": [
    "#### D33"
   ]
  },
  {
   "cell_type": "code",
   "execution_count": 240,
   "metadata": {},
   "outputs": [],
   "source": [
    "path1 <- \"data/leuk_D33/processed/mas5_filtered.tsv\"\n",
    "path2 <- \"data/GSE67684/processed/metadata/sid-metadata_v1.tsv\"\n",
    "\n",
    "yeoh_d33 <- read.table(path1, sep = \"\\t\", header = T)\n",
    "metadata_d33 <- read.table(path2, sep = \"\\t\", header = T)"
   ]
  },
  {
   "cell_type": "code",
   "execution_count": 246,
   "metadata": {},
   "outputs": [
    {
     "name": "stdout",
     "output_type": "stream",
     "text": [
      "P001_D33 P007_D33 P008_D33 P009_D33 P010_D33 P013_D33 \n",
      "61.89674 59.89209 63.48604 57.78878 60.81653 60.31188 \n"
     ]
    }
   ],
   "source": [
    "metadata_d33[] <- lapply(metadata_d33, as.factor)\n",
    "metadata_d33$class_info <- factor(\n",
    "  metadata_d33$class_info,\n",
    "  levels = c(\"D0\", \"D8\", \"D33\", \"N\")\n",
    ")\n",
    "\n",
    "yeoh_d33_allps <- log2_transform(normaliseMeanScaling(yeoh_d33))\n",
    "# Remove samples that have been curated out of data set\n",
    "# Members that have been curated out are no longer in metadata_d33\n",
    "missing_samples <- colnames(yeoh_d33_allps)[\n",
    "  !(colnames(yeoh_d33_allps) %in% rownames(metadata_d33))]\n",
    "# Remove patients from D33 that have been curated out\n",
    "yeoh_d33 <- yeoh_d33_allps[\n",
    "  rownames(yeoh),\n",
    "  !(colnames(yeoh_d33_allps) %in% missing_samples)\n",
    "]"
   ]
  },
  {
   "cell_type": "markdown",
   "metadata": {},
   "source": [
    "### Commonly used globals"
   ]
  },
  {
   "cell_type": "markdown",
   "metadata": {},
   "source": [
    "#### All train set (incl. hyperdiploid, others)\n",
    "- For feature investigation. Remove hypodiploid\n",
    "- Not required in code!\n",
    "\n",
    "#### All train set (excl. hyperdiploid, others)\n",
    "- Does not contain heterogeneous subtypes and MRD NA samples\n",
    "\n",
    "#### Train/test split (excl. hyperdiploid, others)\n",
    "- Test set does not contain heterogeneous subtypes and MRD NA samples\n",
    "- Training set should have the same distribution as test set"
   ]
  },
  {
   "cell_type": "code",
   "execution_count": 13,
   "metadata": {},
   "outputs": [],
   "source": [
    "### GLOBAL VARIABLES\n",
    "metadata <- metadata_sid[colnames(yeoh),]\n",
    "heatmap_metadata <- metadata[, c(\"batch_info\", \"label\"), drop = F]\n",
    "COL_LABEL <- c(\"darkolivegreen3\", \"tomato3\")\n",
    "\n",
    "# List subtypes\n",
    "subtypes9 <- levels(metadata_sid$subtype)\n",
    "subtypes7 <- setdiff(subtypes9, c(\"Hypodiploid\", \"Normal\"))\n",
    "subtypes6 <- setdiff(subtypes7, \"Others\")\n",
    "subtypes5 <- setdiff(\n",
    "  subtypes9,\n",
    "  c(\"Hypodiploid\", \"Normal\", \"Hyperdiploid\", \"Others\")\n",
    ")\n",
    "others <- yeoh[, metadata$subtype == \"Others\"]\n",
    "others_normal <- yeoh[, metadata$subtype %in% c(\"Others\", \"Normal\")]\n",
    "\n",
    "# Define train/test split\n",
    "sid_mrd_na <- rownames(metadata_pid)[is.na(metadata_pid$d33_mrd)] %>%\n",
    "  rep(each = 2) %>%\n",
    "  paste0(c(\"_D0\", \"_D8\"))\n",
    "\n",
    "sid_alltrain_local <- rownames(metadata)[\n",
    "  !(metadata$subtype %in% c(\"Hypodiploid\", \"Normal\")) &\n",
    "  !(rownames(metadata) %in% sid_mrd_na)\n",
    "]\n",
    "sid_alltrain <- rownames(metadata)[\n",
    "  !(metadata$subtype %in% c(\"Hypodiploid\", \"Hyperdiploid\", \"Others\", \"Normal\")) &\n",
    "  !(rownames(metadata) %in% sid_mrd_na)\n",
    "]\n",
    "sid_train <- rownames(metadata)[\n",
    "  metadata$batch_info %in% 1:7 &\n",
    "  !(metadata$subtype %in% c(\"Hypodiploid\", \"Hyperdiploid\", \"Others\", \"Normal\")) &\n",
    "  !(rownames(metadata) %in% sid_mrd_na)\n",
    "]\n",
    "sid_test <- rownames(metadata)[\n",
    "  metadata$batch_info %in% 8:10 &\n",
    "  !(metadata$subtype %in% c(\"Hypodiploid\", \"Hyperdiploid\", \"Others\", \"Normal\")) &\n",
    "  !(rownames(metadata) %in% sid_mrd_na)\n",
    "]\n",
    "\n",
    "sid_remission <- rownames(metadata)[metadata$label == 0]\n",
    "sid_normal <- paste0(\"N0\", c(1,2,4))"
   ]
  },
  {
   "cell_type": "markdown",
   "metadata": {},
   "source": [
    "## Relapse prediction\n",
    "\n",
    "Factors of variation: Timepoint, batch, subtype, remission"
   ]
  },
  {
   "cell_type": "markdown",
   "metadata": {},
   "source": [
    "### Batch features"
   ]
  },
  {
   "cell_type": "markdown",
   "metadata": {},
   "source": [
    "Constant: Timepoint, subtype , remission"
   ]
  },
  {
   "cell_type": "code",
   "execution_count": 14,
   "metadata": {},
   "outputs": [
    {
     "name": "stdout",
     "output_type": "stream",
     "text": [
      "[1] \"No. of NaNs = 0\"\n"
     ]
    },
    {
     "data": {
      "text/html": [
       "2565"
      ],
      "text/latex": [
       "2565"
      ],
      "text/markdown": [
       "2565"
      ],
      "text/plain": [
       "[1] 2565"
      ]
     },
     "metadata": {},
     "output_type": "display_data"
    }
   ],
   "source": [
    "batch_ps <- identify_batch_features(yeoh, metadata, method = 'aov')\n",
    "length(batch_ps)"
   ]
  },
  {
   "cell_type": "markdown",
   "metadata": {},
   "source": [
    "### Drug genes"
   ]
  },
  {
   "cell_type": "markdown",
   "metadata": {},
   "source": [
    "Constant: Subtype, remission"
   ]
  },
  {
   "cell_type": "markdown",
   "metadata": {},
   "source": [
    "### M1: Entire data"
   ]
  },
  {
   "cell_type": "code",
   "execution_count": 20,
   "metadata": {
    "scrolled": true
   },
   "outputs": [
    {
     "name": "stdout",
     "output_type": "stream",
     "text": [
      "No. of NaN values in log-fc = 0\n",
      "No. of probesets excluded by expr threshold = 725\n",
      "No. of features (p-value) = 170\n",
      "No. of features (log2-fc) = 214\n",
      "No. of DE features = 21\n",
      "No. of final features = 14\n",
      "No. of samples in centroid = 5\n",
      "No. of remission samples in training set = 5\n",
      "Prediction complete!\n",
      "\n",
      "No. of NaN values in log-fc = 0\n",
      "No. of probesets excluded by expr threshold = 818\n",
      "No. of features (p-value) = 744\n",
      "No. of features (log2-fc) = 753\n",
      "No. of DE features = 239\n",
      "No. of final features = 164\n",
      "No. of samples in centroid = 5\n",
      "No. of remission samples in training set = 5\n",
      "Prediction complete!\n",
      "\n",
      "No. of NaN values in log-fc = 0\n",
      "No. of probesets excluded by expr threshold = 718\n",
      "No. of features (p-value) = 2508\n",
      "No. of features (log2-fc) = 283\n",
      "No. of DE features = 281\n",
      "No. of final features = 216\n",
      "No. of samples in centroid = 31\n",
      "No. of remission samples in training set = 31\n",
      "Prediction complete!\n",
      "\n",
      "No. of NaN values in log-fc = 0\n",
      "No. of probesets excluded by expr threshold = 487\n",
      "No. of features (p-value) = 614\n",
      "No. of features (log2-fc) = 1031\n",
      "No. of DE features = 262\n",
      "No. of final features = 170\n",
      "No. of samples in centroid = 3\n",
      "No. of remission samples in training set = 3\n",
      "Prediction complete!\n",
      "\n",
      "No. of NaN values in log-fc = 0\n",
      "No. of probesets excluded by expr threshold = 822\n",
      "No. of features (p-value) = 3081\n",
      "No. of features (log2-fc) = 448\n",
      "No. of DE features = 448\n",
      "No. of final features = 342\n",
      "No. of samples in centroid = 63\n",
      "No. of remission samples in training set = 63\n",
      "Prediction complete!\n",
      "\n",
      "No. of NaN values in log-fc = 0\n",
      "No. of probesets excluded by expr threshold = 998\n",
      "No. of features (p-value) = 606\n",
      "No. of features (log2-fc) = 342\n",
      "No. of DE features = 136\n",
      "No. of final features = 110\n",
      "No. of samples in centroid = 8\n",
      "No. of remission samples in training set = 8\n",
      "Prediction complete!\n",
      "\n",
      "No. of NaN values in log-fc = 0\n",
      "No. of probesets excluded by expr threshold = 710\n",
      "No. of features (p-value) = 2765\n",
      "No. of features (log2-fc) = 507\n",
      "No. of DE features = 505\n",
      "No. of final features = 371\n",
      "No. of samples in centroid = 29\n",
      "No. of remission samples in training set = 29\n",
      "Prediction complete!\n",
      "\n"
     ]
    }
   ],
   "source": [
    "X_normal <- yeoh[, sid_normal]\n",
    "list_X_subtypes7 <- lapply(\n",
    "  subtypes7,\n",
    "  function(subtype) {\n",
    "    yeoh[, sid_alltrain_local[metadata_sid[sid_alltrain_local, \"subtype\"] == subtype]]\n",
    "  }\n",
    ")\n",
    "list_obj <- lapply(\n",
    "  list_X_subtypes7,\n",
    "  predict_pipeline,\n",
    "  X_normal,\n",
    "  metadata,\n",
    "  metadata_pid,\n",
    "  batch_ps\n",
    ")\n",
    "names(list_obj) <- subtypes7"
   ]
  },
  {
   "cell_type": "markdown",
   "metadata": {},
   "source": [
    "#### Plot by treatment"
   ]
  },
  {
   "cell_type": "code",
   "execution_count": 21,
   "metadata": {
    "scrolled": true
   },
   "outputs": [],
   "source": [
    "list_X_y <- lapply(list_obj, function(obj) {\n",
    "  cbind(obj$X_y, metadata_pid[rownames(obj$X_y), \"treatment\", drop = FALSE])\n",
    "})\n",
    "boxplots <- lapply(\n",
    "  list_X_y, plot_boxplots_v2,\n",
    "  colour_by = \"treatment\", shape_by = \"label\"\n",
    ")"
   ]
  },
  {
   "cell_type": "code",
   "execution_count": 22,
   "metadata": {
    "scrolled": true
   },
   "outputs": [
    {
     "data": {
      "image/png": "[encoded data removed]",
      "text/plain": [
       "plot without title"
      ]
     },
     "metadata": {},
     "output_type": "display_data"
    }
   ],
   "source": [
    "plot_boxplots_v2(list_X_y[[1]], colour_by = \"treatment\", shape_by = \"label\")"
   ]
  },
  {
   "cell_type": "markdown",
   "metadata": {},
   "source": [
    "#### Save predicted probas"
   ]
  },
  {
   "cell_type": "code",
   "execution_count": 355,
   "metadata": {},
   "outputs": [],
   "source": [
    "# all_probas_d8 <- lapply(unname(list_obj1), function(obj) obj$X_y[\"p_d8\"])\n",
    "# all_p_d8 <- do.call(rbind, all_probas_d8)\n",
    "# write.table(all_p_d8, \"tmp/all_p_d8.tsv\", quote = F, sep = \"\\t\")"
   ]
  },
  {
   "cell_type": "code",
   "execution_count": 356,
   "metadata": {},
   "outputs": [],
   "source": [
    "# all_probas_d33 <- lapply(unname(list_obj1), function(obj) obj$X_y[\"p_d33\"])\n",
    "# all_p_d33 <- do.call(rbind, all_probas_d33)\n",
    "# write.table(all_p_d33, \"tmp/all_p_d33.tsv\", quote = F, sep = \"\\t\")"
   ]
  },
  {
   "cell_type": "markdown",
   "metadata": {},
   "source": [
    "#### Estimate probability using simulated samples\n",
    "- Features are modelled as normal distributions (median, sd)"
   ]
  },
  {
   "cell_type": "code",
   "execution_count": 338,
   "metadata": {},
   "outputs": [],
   "source": [
    "# list_obj2 <- lapply(\n",
    "#   list_X_subtypes7,\n",
    "#   predict_pipeline_v2,\n",
    "#   X_normal, metadata, metadata_pid,\n",
    "#   batch_ps,\n",
    "#   samples = 300\n",
    "# )\n",
    "# names(list_obj2) <- subtypes7"
   ]
  },
  {
   "cell_type": "code",
   "execution_count": 98,
   "metadata": {},
   "outputs": [],
   "source": [
    "# boxplots <- lapply(list_obj1, function(obj) plot_boxplots(obj$X_y))\n",
    "\n",
    "# for (i in seq_len(length(subtypes7))) {\n",
    "#   wpath <- sprintf(\"~/Dropbox/tmp/features_alltrain_simulated-%s.pdf\", subtypes7[i])\n",
    "#   ggsave(wpath, boxplots[[i]], width = 9, height = 2.5)\n",
    "# }"
   ]
  },
  {
   "cell_type": "code",
   "execution_count": 99,
   "metadata": {},
   "outputs": [],
   "source": [
    "# for (i in seq_len(length(subtypes7))) {\n",
    "#   wpath <- sprintf(\"~/Dropbox/tmp/features_treatment-%s.pdf\", subtypes7[i])\n",
    "#   ggsave(wpath, boxplots[[i]], width = 9, height = 2.5)\n",
    "# }"
   ]
  },
  {
   "cell_type": "markdown",
   "metadata": {},
   "source": [
    "## Investigate: Feature values"
   ]
  },
  {
   "cell_type": "code",
   "execution_count": 368,
   "metadata": {},
   "outputs": [
    {
     "name": "stdout",
     "output_type": "stream",
     "text": [
      "No. of NaN values in log-fc = 0\n",
      "No. of probesets excluded by expr threshold = 725\n",
      "No. of features (p-value) = 170\n",
      "No. of features (log2-fc) = 214\n",
      "No. of DE features = 21\n",
      "No. of final features = 14\n",
      "No. of samples in centroid = 5\n",
      "No. of remission samples in training set = 5\n",
      "Prediction complete!\n",
      "\n",
      "No. of NaN values in log-fc = 0\n",
      "No. of probesets excluded by expr threshold = 818\n",
      "No. of features (p-value) = 744\n",
      "No. of features (log2-fc) = 753\n",
      "No. of DE features = 239\n",
      "No. of final features = 164\n",
      "No. of samples in centroid = 5\n",
      "No. of remission samples in training set = 5\n",
      "Prediction complete!\n",
      "\n",
      "No. of NaN values in log-fc = 0\n",
      "No. of probesets excluded by expr threshold = 718\n",
      "No. of features (p-value) = 2508\n",
      "No. of features (log2-fc) = 283\n",
      "No. of DE features = 281\n",
      "No. of final features = 216\n",
      "No. of samples in centroid = 31\n",
      "No. of remission samples in training set = 31\n",
      "Prediction complete!\n",
      "\n",
      "No. of NaN values in log-fc = 0\n",
      "No. of probesets excluded by expr threshold = 487\n",
      "No. of features (p-value) = 614\n",
      "No. of features (log2-fc) = 1031\n",
      "No. of DE features = 262\n",
      "No. of final features = 170\n",
      "No. of samples in centroid = 3\n",
      "No. of remission samples in training set = 3\n",
      "Prediction complete!\n",
      "\n",
      "No. of NaN values in log-fc = 0\n",
      "No. of probesets excluded by expr threshold = 822\n",
      "No. of features (p-value) = 3081\n",
      "No. of features (log2-fc) = 448\n",
      "No. of DE features = 448\n",
      "No. of final features = 342\n",
      "No. of samples in centroid = 63\n",
      "No. of remission samples in training set = 63\n",
      "Prediction complete!\n",
      "\n",
      "No. of NaN values in log-fc = 0\n",
      "No. of probesets excluded by expr threshold = 998\n",
      "No. of features (p-value) = 606\n",
      "No. of features (log2-fc) = 342\n",
      "No. of DE features = 136\n",
      "No. of final features = 110\n",
      "No. of samples in centroid = 8\n",
      "No. of remission samples in training set = 8\n",
      "Prediction complete!\n",
      "\n",
      "No. of NaN values in log-fc = 0\n",
      "No. of probesets excluded by expr threshold = 710\n",
      "No. of features (p-value) = 2765\n",
      "No. of features (log2-fc) = 507\n",
      "No. of DE features = 505\n",
      "No. of final features = 371\n",
      "No. of samples in centroid = 29\n",
      "No. of remission samples in training set = 29\n",
      "Prediction complete!\n",
      "\n"
     ]
    }
   ],
   "source": [
    "features <- c(\"erm1_ratio2\", \"l2norm_ratio2\", \"angle_d0d8_d0normal\", \"log_mrd_d33\")\n",
    "list_obj <- lapply(\n",
    "  list_X_subtypes7,\n",
    "  predict_pipeline,\n",
    "  X_normal,\n",
    "  metadata,\n",
    "  metadata_pid,\n",
    "  batch_ps,\n",
    "  features = features,\n",
    "  direction = c(\"<\", \"<\", \">\", \">\")\n",
    ")\n",
    "names(list_obj) <- subtypes7"
   ]
  },
  {
   "cell_type": "code",
   "execution_count": 369,
   "metadata": {},
   "outputs": [
    {
     "name": "stderr",
     "output_type": "stream",
     "text": [
      "Warning message in wilcox.test.default(list_feat[[1]], list_feat[[2]], exact = T):\n",
      "“cannot compute exact p-value with ties”Warning message in wilcox.test.default(list_feat[[1]], list_feat[[2]], exact = T):\n",
      "“cannot compute exact p-value with ties”Warning message in wilcox.test.default(list_feat[[1]], list_feat[[2]], exact = T):\n",
      "“cannot compute exact p-value with ties”Warning message in wilcox.test.default(list_feat[[1]], list_feat[[2]], exact = T):\n",
      "“cannot compute exact p-value with ties”Warning message in wilcox.test.default(list_feat[[1]], list_feat[[2]], exact = T):\n",
      "“cannot compute exact p-value with ties”Warning message in wilcox.test.default(list_feat[[1]], list_feat[[2]], exact = T):\n",
      "“cannot compute exact p-value with ties”Warning message in wilcox.test.default(list_feat[[1]], list_feat[[2]], exact = T):\n",
      "“cannot compute exact p-value with ties”Warning message in wilcox.test.default(list_feat[[1]], list_feat[[2]], exact = T):\n",
      "“cannot compute exact p-value with ties”Warning message in wilcox.test.default(list_feat[[1]], list_feat[[2]], exact = T):\n",
      "“cannot compute exact p-value with ties”Warning message in wilcox.test.default(list_feat[[1]], list_feat[[2]], exact = T):\n",
      "“cannot compute exact p-value with ties”Warning message in wilcox.test.default(list_feat[[1]], list_feat[[2]], exact = T):\n",
      "“cannot compute exact p-value with ties”Warning message in wilcox.test.default(list_feat[[1]], list_feat[[2]], exact = T):\n",
      "“cannot compute exact p-value with ties”Warning message in wilcox.test.default(list_feat[[1]], list_feat[[2]], exact = T):\n",
      "“cannot compute exact p-value with ties”Warning message in wilcox.test.default(list_feat[[1]], list_feat[[2]], exact = T):\n",
      "“cannot compute exact p-value with ties”Warning message in wilcox.test.default(list_feat[[1]], list_feat[[2]], exact = T):\n",
      "“cannot compute exact p-value with ties”Warning message in wilcox.test.default(list_feat[[1]], list_feat[[2]], exact = T):\n",
      "“cannot compute exact p-value with ties”Warning message in wilcox.test.default(list_feat[[1]], list_feat[[2]], exact = T):\n",
      "“cannot compute exact p-value with ties”"
     ]
    }
   ],
   "source": [
    "list_X_y <- lapply(list_obj, function(obj) obj$X_y)\n",
    "boxplots <- lapply(list_X_y, plot_boxplots, features = features)"
   ]
  },
  {
   "cell_type": "code",
   "execution_count": 370,
   "metadata": {},
   "outputs": [],
   "source": [
    "for (i in seq_len(length(subtypes7))) {\n",
    "  wpath <- sprintf(\"~/Dropbox/tmp/features-%s.pdf\", subtypes7[i])\n",
    "  ggsave(wpath, boxplots[[i]], width = 9, height = 2.5)\n",
    "}"
   ]
  },
  {
   "cell_type": "code",
   "execution_count": 371,
   "metadata": {},
   "outputs": [],
   "source": [
    "list_p_d8 <- lapply(list_obj, function(obj) obj$X_y[\"p_d8\"])\n",
    "p_d8 <- do.call(rbind, unname(list_p_d8))\n",
    "write.table(p_d8, \"tmp/original-p_d8.tsv\", quote = F, sep = \"\\t\")"
   ]
  },
  {
   "cell_type": "code",
   "execution_count": 372,
   "metadata": {},
   "outputs": [],
   "source": [
    "list_p_d33 <- lapply(list_obj, function(obj) obj$X_y[\"p_d33\"])\n",
    "p_d33 <- do.call(rbind, unname(list_p_d33))\n",
    "write.table(p_d33, \"tmp/original-p_d33.tsv\", quote = F, sep = \"\\t\")"
   ]
  },
  {
   "cell_type": "code",
   "execution_count": null,
   "metadata": {},
   "outputs": [],
   "source": []
  },
  {
   "cell_type": "markdown",
   "metadata": {},
   "source": [
    "### Plotting: New features"
   ]
  },
  {
   "cell_type": "code",
   "execution_count": null,
   "metadata": {},
   "outputs": [],
   "source": [
    "list_features <- lapply(\n",
    "  list_X_subtypes7,\n",
    "  predict_pipeline,\n",
    "  X_normal,\n",
    "  metadata,\n",
    "  metadata_pid,\n",
    "  batch_ps,\n",
    "  return_features = TRUE\n",
    ")\n",
    "names(list_features) <- subtypes7"
   ]
  },
  {
   "cell_type": "code",
   "execution_count": 320,
   "metadata": {},
   "outputs": [],
   "source": [
    "angles <- c(\n",
    "  \"angle_LD0_LD8\", \"angle_LD0_LN\", \"angle_LD8_LN\",\n",
    "  \"angle_d0d8_d0normal\", \"angle_d0_d8\", \"angle_d8_normal\",\n",
    "  \"erm1_ratio2\", \"l2norm_ratio2\"\n",
    ")\n",
    "list_angles <- list_features %>%\n",
    "  lapply(subset, select = angles) %>%\n",
    "  lapply(rownames_to_column)\n",
    "\n",
    "subtypes3 <- c(\"BCR-ABL\", \"T-ALL\", \"TEL-AML1\")\n",
    "data_angles <- list_angles %>%\n",
    "  bind_rows(.id = \"subtype\") %>%\n",
    "  cbind(label = metadata_pid[.$rowname, \"label\"]) %>%\n",
    "  subset(subtype %in% subtypes3)"
   ]
  },
  {
   "cell_type": "code",
   "execution_count": 323,
   "metadata": {},
   "outputs": [
    {
     "data": {
      "image/png": "[encoded data removed]",
      "text/plain": [
       "plot without title"
      ]
     },
     "metadata": {},
     "output_type": "display_data"
    }
   ],
   "source": [
    "# Features vs label\n",
    "ax <- ggplot(\n",
    "  data_angles,\n",
    "  aes(\n",
    "    x = label, y = l2norm_ratio2,\n",
    "    color = label, label = rowname\n",
    "  )\n",
    ") +\n",
    "  facet_wrap(~subtype, nrow = 1, scales = \"free\") +\n",
    "  geom_text(cex = 2, show.legend = FALSE) +\n",
    "  scale_color_manual(values = COL_LABEL)\n",
    "\n",
    "ax\n",
    "\n",
    "ggsave(\"~/Dropbox/tmp/arm.pdf\", ax, width = 5, height = 3)"
   ]
  },
  {
   "cell_type": "code",
   "execution_count": 81,
   "metadata": {
    "scrolled": true
   },
   "outputs": [],
   "source": [
    "# Feature vs feature\n",
    "\n",
    "# Treatment progression v.s. remaining deviation\n",
    "ax <- ggplot(\n",
    "  data_angles,\n",
    "  aes(\n",
    "    x = angle_LD0_LN, y = angle_LD0_LD8 / angle_LD0_LN,\n",
    "    color = label, label = rowname\n",
    "  )\n",
    ") +\n",
    "  facet_wrap(~subtype, nrow = 1, scales = \"free\") +\n",
    "  geom_text(cex = 2, show.legend = FALSE) +\n",
    "  scale_color_manual(values = COL_LABEL)\n",
    "\n",
    "ggsave(\"~/Dropbox/tmp/angle1.pdf\", ax, width = 5, height = 3)\n",
    "\n",
    "# Treatment progression (diff) v.s. remaining deviation\n",
    "ax <- ggplot(\n",
    "  data_angles,\n",
    "  aes(\n",
    "    x = angle_LD0_LN, y = (angle_LD0_LN - angle_LD8_LN) / angle_LD0_LN,\n",
    "    color = label, label = rowname\n",
    "  )\n",
    ") +\n",
    "  facet_wrap(~subtype, nrow = 1, scales = \"free\") +\n",
    "  geom_text(cex = 2, show.legend = FALSE) +\n",
    "  scale_color_manual(values = COL_LABEL)\n",
    "\n",
    "ggsave(\"~/Dropbox/tmp/angle2.pdf\", ax, width = 5, height = 3)"
   ]
  },
  {
   "cell_type": "code",
   "execution_count": 313,
   "metadata": {},
   "outputs": [],
   "source": [
    "# TODO: Why is it not equal?\n",
    "# Treatment progression (diff) v.s. remaining deviation\n",
    "ax <- ggplot(\n",
    "  data_angles,\n",
    "  aes(\n",
    "    x = angle_LD8_LN, y = angle_LD0_LD8,\n",
    "    color = label, label = rowname\n",
    "  )\n",
    ") +\n",
    "  facet_wrap(~subtype, nrow = 1, scales = \"free\") +\n",
    "  geom_text(cex = 2, show.legend = FALSE) +\n",
    "  scale_color_manual(values = COL_LABEL)\n",
    "\n",
    "ggsave(\"~/Dropbox/tmp/angle-vs1.pdf\", ax, width = 5, height = 3)"
   ]
  },
  {
   "cell_type": "markdown",
   "metadata": {},
   "source": [
    "## Investigate: Specific patient IDs"
   ]
  },
  {
   "cell_type": "code",
   "execution_count": 82,
   "metadata": {},
   "outputs": [],
   "source": [
    "FILE1 <- \"tmp/pid_relapse_srir-d8.txt\"\n",
    "FILE2 <- \"tmp/pid_relapse_srir-d33.txt\"\n",
    "pid_relapse_d8 <- sort(readLines(FILE1))\n",
    "pid_relapse_d33 <- sort(readLines(FILE2))"
   ]
  },
  {
   "cell_type": "code",
   "execution_count": 83,
   "metadata": {},
   "outputs": [],
   "source": [
    "p_d8 <- read.table(\"tmp/p_d8.tsv\", sep = \"\\t\")\n",
    "p_d33 <- read.table(\"tmp/p_d33.tsv\", sep = \"\\t\")\n",
    "p_tp2 <- read.table(\"tmp/p_tp2.tsv\", sep = \"\\t\")"
   ]
  },
  {
   "cell_type": "code",
   "execution_count": 84,
   "metadata": {
    "scrolled": true
   },
   "outputs": [
    {
     "data": {
      "text/html": [
       "<table>\n",
       "<caption>A data.frame: 4 × 1</caption>\n",
       "<thead>\n",
       "\t<tr><th></th><th scope=col>p_d8</th></tr>\n",
       "\t<tr><th></th><th scope=col>&lt;dbl&gt;</th></tr>\n",
       "</thead>\n",
       "<tbody>\n",
       "\t<tr><th scope=row>P029</th><td>0.2528736</td></tr>\n",
       "\t<tr><th scope=row>P056</th><td>0.2666667</td></tr>\n",
       "\t<tr><th scope=row>P136</th><td>0.2988506</td></tr>\n",
       "\t<tr><th scope=row>P151</th><td>0.4166667</td></tr>\n",
       "</tbody>\n",
       "</table>\n"
      ],
      "text/latex": [
       "A data.frame: 4 × 1\n",
       "\\begin{tabular}{r|l}\n",
       "  & p\\_d8\\\\\n",
       "  & <dbl>\\\\\n",
       "\\hline\n",
       "\tP029 & 0.2528736\\\\\n",
       "\tP056 & 0.2666667\\\\\n",
       "\tP136 & 0.2988506\\\\\n",
       "\tP151 & 0.4166667\\\\\n",
       "\\end{tabular}\n"
      ],
      "text/markdown": [
       "\n",
       "A data.frame: 4 × 1\n",
       "\n",
       "| <!--/--> | p_d8 &lt;dbl&gt; |\n",
       "|---|---|\n",
       "| P029 | 0.2528736 |\n",
       "| P056 | 0.2666667 |\n",
       "| P136 | 0.2988506 |\n",
       "| P151 | 0.4166667 |\n",
       "\n"
      ],
      "text/plain": [
       "     p_d8     \n",
       "P029 0.2528736\n",
       "P056 0.2666667\n",
       "P136 0.2988506\n",
       "P151 0.4166667"
      ]
     },
     "metadata": {},
     "output_type": "display_data"
    },
    {
     "data": {
      "text/html": [
       "<table>\n",
       "<caption>A data.frame: 6 × 1</caption>\n",
       "<thead>\n",
       "\t<tr><th></th><th scope=col>p_d33</th></tr>\n",
       "\t<tr><th></th><th scope=col>&lt;dbl&gt;</th></tr>\n",
       "</thead>\n",
       "<tbody>\n",
       "\t<tr><th scope=row>P007</th><td>0.2812500</td></tr>\n",
       "\t<tr><th scope=row>P034</th><td>0.3017241</td></tr>\n",
       "\t<tr><th scope=row>P056</th><td>0.3000000</td></tr>\n",
       "\t<tr><th scope=row>P094</th><td>0.2672414</td></tr>\n",
       "\t<tr><th scope=row>P136</th><td>0.4741379</td></tr>\n",
       "\t<tr><th scope=row>P151</th><td>0.3750000</td></tr>\n",
       "</tbody>\n",
       "</table>\n"
      ],
      "text/latex": [
       "A data.frame: 6 × 1\n",
       "\\begin{tabular}{r|l}\n",
       "  & p\\_d33\\\\\n",
       "  & <dbl>\\\\\n",
       "\\hline\n",
       "\tP007 & 0.2812500\\\\\n",
       "\tP034 & 0.3017241\\\\\n",
       "\tP056 & 0.3000000\\\\\n",
       "\tP094 & 0.2672414\\\\\n",
       "\tP136 & 0.4741379\\\\\n",
       "\tP151 & 0.3750000\\\\\n",
       "\\end{tabular}\n"
      ],
      "text/markdown": [
       "\n",
       "A data.frame: 6 × 1\n",
       "\n",
       "| <!--/--> | p_d33 &lt;dbl&gt; |\n",
       "|---|---|\n",
       "| P007 | 0.2812500 |\n",
       "| P034 | 0.3017241 |\n",
       "| P056 | 0.3000000 |\n",
       "| P094 | 0.2672414 |\n",
       "| P136 | 0.4741379 |\n",
       "| P151 | 0.3750000 |\n",
       "\n"
      ],
      "text/plain": [
       "     p_d33    \n",
       "P007 0.2812500\n",
       "P034 0.3017241\n",
       "P056 0.3000000\n",
       "P094 0.2672414\n",
       "P136 0.4741379\n",
       "P151 0.3750000"
      ]
     },
     "metadata": {},
     "output_type": "display_data"
    }
   ],
   "source": [
    "p_d8[pid_relapse_d8, , drop = F]\n",
    "p_d33[pid_relapse_d33, , drop = F]"
   ]
  },
  {
   "cell_type": "markdown",
   "metadata": {},
   "source": [
    "#### Relapse patients with good ERM\n",
    "- Only in subtypes BCR-ABL, T-ALL, TEL-AML1"
   ]
  },
  {
   "cell_type": "code",
   "execution_count": 191,
   "metadata": {},
   "outputs": [],
   "source": [
    "features <- c(\n",
    "  \"erm1\", \"l2norm_d0_d8\", \"erm1_ratio2\",\n",
    "  \"l2norm_ratio2\", \"angle_d0d8_d0normal\", \"log_mrd_d33\"\n",
    ")\n",
    "list_V_fltr <- lapply(list_V, subset, select = features)\n",
    "V_fltr <- bind_rows(lapply(list_V_fltr, rownames_to_column), .id = \"subtype\")\n",
    "V_fltr <- cbind(\n",
    "  V_fltr,\n",
    "  label = metadata_pid[V_fltr$rowname, \"label\"]\n",
    ")\n",
    "\n",
    "V1 <-  filter(V_fltr, subtype %in% c(\"BCR-ABL\", \"T-ALL\", \"TEL-AML1\"))"
   ]
  },
  {
   "cell_type": "markdown",
   "metadata": {},
   "source": [
    "### Investigate patients with discrepancy between features"
   ]
  },
  {
   "cell_type": "code",
   "execution_count": 220,
   "metadata": {},
   "outputs": [
    {
     "data": {
      "text/html": [
       "<table>\n",
       "<caption>A data.frame: 8 × 1</caption>\n",
       "<thead>\n",
       "\t<tr><th></th><th scope=col>p_d8</th></tr>\n",
       "\t<tr><th></th><th scope=col>&lt;dbl&gt;</th></tr>\n",
       "</thead>\n",
       "<tbody>\n",
       "\t<tr><th scope=row>P152</th><td>0.1333333</td></tr>\n",
       "\t<tr><th scope=row>P051</th><td>0.6666667</td></tr>\n",
       "\t<tr><th scope=row>P004</th><td>0.6250000</td></tr>\n",
       "\t<tr><th scope=row>P007</th><td>0.2500000</td></tr>\n",
       "\t<tr><th scope=row>P010</th><td>0.1250000</td></tr>\n",
       "\t<tr><th scope=row>P012</th><td>0.3750000</td></tr>\n",
       "\t<tr><th scope=row>P120</th><td>0.8045977</td></tr>\n",
       "\t<tr><th scope=row>P135</th><td>0.7126437</td></tr>\n",
       "</tbody>\n",
       "</table>\n"
      ],
      "text/latex": [
       "A data.frame: 8 × 1\n",
       "\\begin{tabular}{r|l}\n",
       "  & p\\_d8\\\\\n",
       "  & <dbl>\\\\\n",
       "\\hline\n",
       "\tP152 & 0.1333333\\\\\n",
       "\tP051 & 0.6666667\\\\\n",
       "\tP004 & 0.6250000\\\\\n",
       "\tP007 & 0.2500000\\\\\n",
       "\tP010 & 0.1250000\\\\\n",
       "\tP012 & 0.3750000\\\\\n",
       "\tP120 & 0.8045977\\\\\n",
       "\tP135 & 0.7126437\\\\\n",
       "\\end{tabular}\n"
      ],
      "text/markdown": [
       "\n",
       "A data.frame: 8 × 1\n",
       "\n",
       "| <!--/--> | p_d8 &lt;dbl&gt; |\n",
       "|---|---|\n",
       "| P152 | 0.1333333 |\n",
       "| P051 | 0.6666667 |\n",
       "| P004 | 0.6250000 |\n",
       "| P007 | 0.2500000 |\n",
       "| P010 | 0.1250000 |\n",
       "| P012 | 0.3750000 |\n",
       "| P120 | 0.8045977 |\n",
       "| P135 | 0.7126437 |\n",
       "\n"
      ],
      "text/plain": [
       "     p_d8     \n",
       "P152 0.1333333\n",
       "P051 0.6666667\n",
       "P004 0.6250000\n",
       "P007 0.2500000\n",
       "P010 0.1250000\n",
       "P012 0.3750000\n",
       "P120 0.8045977\n",
       "P135 0.7126437"
      ]
     },
     "metadata": {},
     "output_type": "display_data"
    }
   ],
   "source": [
    "# Difference in rank / total number\n",
    "# Rank three features. Rank of 1 means it is more likely to achieve remission\n",
    "list_ranks <- lapply(\n",
    "  list_V_fltr,\n",
    "  function(X) data.frame(\n",
    "    erm = rank(-X$erm1),\n",
    "    arm = rank(-X$l2norm_d0_d8),\n",
    "    theta = rank(X$angle_d0d8_d0normal),\n",
    "    row.names = rownames(X)\n",
    "  )\n",
    ")\n",
    "\n",
    "list_rankdiff <- lapply(\n",
    "  list_ranks,\n",
    "  function(X) {\n",
    "    x <- abs((X$erm - X$theta) / nrow(X))\n",
    "    names(x) <- rownames(X)\n",
    "    x\n",
    "  }\n",
    ")\n",
    "\n",
    "rankdiffs <- do.call(c, unname(list_rankdiff))\n",
    "# hist(rankdiffs, breaks = 20)\n",
    "\n",
    "THRESHOLD <- 0.2\n",
    "pid_discrepancy <- names(rankdiffs)[rankdiffs > THRESHOLD]\n",
    "\n",
    "# Investigating patients with discrepancy between features\n",
    "y1 <- metadata_pid[pid_discrepancy, c(\"subtype\", \"label\")] %>%\n",
    "  subset(!(subtype %in% c(\"Hyperdiploid\", \"Others\")))\n",
    "\n",
    "p_d8[rownames(y1), , drop = FALSE]"
   ]
  },
  {
   "cell_type": "code",
   "execution_count": 222,
   "metadata": {
    "scrolled": true
   },
   "outputs": [
    {
     "data": {
      "text/html": [
       "<table>\n",
       "<caption>A data.frame: 8 × 1</caption>\n",
       "<thead>\n",
       "\t<tr><th></th><th scope=col>p_d8</th></tr>\n",
       "\t<tr><th></th><th scope=col>&lt;dbl&gt;</th></tr>\n",
       "</thead>\n",
       "<tbody>\n",
       "\t<tr><th scope=row>P057</th><td>0.0000000</td></tr>\n",
       "\t<tr><th scope=row>P184</th><td>0.0000000</td></tr>\n",
       "\t<tr><th scope=row>P051</th><td>0.6666667</td></tr>\n",
       "\t<tr><th scope=row>P145</th><td>0.4000000</td></tr>\n",
       "\t<tr><th scope=row>P160</th><td>0.7777778</td></tr>\n",
       "\t<tr><th scope=row>P167</th><td>0.0000000</td></tr>\n",
       "\t<tr><th scope=row>P004</th><td>0.6250000</td></tr>\n",
       "\t<tr><th scope=row>P010</th><td>0.1250000</td></tr>\n",
       "</tbody>\n",
       "</table>\n"
      ],
      "text/latex": [
       "A data.frame: 8 × 1\n",
       "\\begin{tabular}{r|l}\n",
       "  & p\\_d8\\\\\n",
       "  & <dbl>\\\\\n",
       "\\hline\n",
       "\tP057 & 0.0000000\\\\\n",
       "\tP184 & 0.0000000\\\\\n",
       "\tP051 & 0.6666667\\\\\n",
       "\tP145 & 0.4000000\\\\\n",
       "\tP160 & 0.7777778\\\\\n",
       "\tP167 & 0.0000000\\\\\n",
       "\tP004 & 0.6250000\\\\\n",
       "\tP010 & 0.1250000\\\\\n",
       "\\end{tabular}\n"
      ],
      "text/markdown": [
       "\n",
       "A data.frame: 8 × 1\n",
       "\n",
       "| <!--/--> | p_d8 &lt;dbl&gt; |\n",
       "|---|---|\n",
       "| P057 | 0.0000000 |\n",
       "| P184 | 0.0000000 |\n",
       "| P051 | 0.6666667 |\n",
       "| P145 | 0.4000000 |\n",
       "| P160 | 0.7777778 |\n",
       "| P167 | 0.0000000 |\n",
       "| P004 | 0.6250000 |\n",
       "| P010 | 0.1250000 |\n",
       "\n"
      ],
      "text/plain": [
       "     p_d8     \n",
       "P057 0.0000000\n",
       "P184 0.0000000\n",
       "P051 0.6666667\n",
       "P145 0.4000000\n",
       "P160 0.7777778\n",
       "P167 0.0000000\n",
       "P004 0.6250000\n",
       "P010 0.1250000"
      ]
     },
     "metadata": {},
     "output_type": "display_data"
    }
   ],
   "source": [
    "# Difference in rank / total number\n",
    "# Rank three features. Rank of 1 means it is more likely to achieve remission\n",
    "list_ranks <- lapply(\n",
    "  list_V_fltr,\n",
    "  function(X) data.frame(\n",
    "    erm = rank(-X$erm1),\n",
    "    arm = rank(-X$l2norm_d0_d8),\n",
    "    theta = rank(X$angle_d0d8_d0normal),\n",
    "    row.names = rownames(X)\n",
    "  )\n",
    ")\n",
    "\n",
    "list_rankdiff <- lapply(\n",
    "  list_ranks,\n",
    "  function(X) {\n",
    "    x <- abs((X$arm - X$theta) / nrow(X))\n",
    "    names(x) <- rownames(X)\n",
    "    x\n",
    "  }\n",
    ")\n",
    "\n",
    "rankdiffs <- do.call(c, unname(list_rankdiff))\n",
    "# hist(rankdiffs, breaks = 20)\n",
    "\n",
    "THRESHOLD <- 0.4\n",
    "pid_discrepancy <- names(rankdiffs)[rankdiffs > THRESHOLD]\n",
    "\n",
    "# Investigating patients with discrepancy between features\n",
    "y1 <- metadata_pid[pid_discrepancy, c(\"subtype\", \"label\")] %>%\n",
    "  subset(!(subtype %in% c(\"Hyperdiploid\", \"Others\")))\n",
    "\n",
    "p_d8[rownames(y1), , drop = FALSE]"
   ]
  },
  {
   "cell_type": "code",
   "execution_count": 194,
   "metadata": {},
   "outputs": [],
   "source": [
    "V2 <-  filter(V_fltr, subtype %in% c(\"BCR-ABL\", \"E2A-PBX1\", \"T-ALL\", \"MLL\", \"TEL-AML1\"))\n",
    "V3 <-  filter(V_fltr, subtype %in% c(\"BCR-ABL\", \"T-ALL\", \"TEL-AML1\"))"
   ]
  },
  {
   "cell_type": "code",
   "execution_count": 196,
   "metadata": {},
   "outputs": [
    {
     "data": {
      "image/png": "[encoded data removed]",
      "text/plain": [
       "plot without title"
      ]
     },
     "metadata": {},
     "output_type": "display_data"
    }
   ],
   "source": [
    "ax <- ggplot(\n",
    "  V2,\n",
    "  aes(\n",
    "    x = l2norm_d0_d8, y = angle_d0d8_d0normal,\n",
    "    color = label, fill = label,\n",
    "    label = rowname\n",
    "  )\n",
    ") +\n",
    "  facet_wrap(~subtype, nrow = 1, scales = \"free\") +\n",
    "#   geom_point(\n",
    "#     position = position_jitterdodge(),\n",
    "#     pch = 21, cex = 2, show.legend = FALSE\n",
    "#   ) +\n",
    "  geom_text(\n",
    "    cex = 2, show.legend = FALSE\n",
    "  ) +\n",
    "  scale_fill_manual(values = COL_LABEL) +\n",
    "  scale_color_manual(values = COL_LABEL)\n",
    "\n",
    "ax\n",
    "\n",
    "ggsave(\"~/Dropbox/tmp/MRD.pdf\", ax, width = 7, height = 5)"
   ]
  },
  {
   "cell_type": "code",
   "execution_count": 205,
   "metadata": {},
   "outputs": [
    {
     "data": {
      "image/png": "[encoded data removed]",
      "text/plain": [
       "plot without title"
      ]
     },
     "metadata": {},
     "output_type": "display_data"
    }
   ],
   "source": [
    "ax <- ggplot(\n",
    "  V3,\n",
    "  aes(\n",
    "    x = label, y = log_mrd_d33,\n",
    "    color = label, fill = label, label = rowname)\n",
    ") +\n",
    "  facet_wrap(~subtype) +\n",
    "  geom_text(\n",
    "    position = position_jitterdodge(),\n",
    "    cex = 2, show.legend = FALSE\n",
    "  ) +\n",
    "  scale_color_manual(values = COL_LABEL) +\n",
    "  labs(y = \"log(MRD)\")\n",
    "\n",
    "ax\n",
    "\n",
    "ggsave(\"~/Dropbox/tmp/log_mrd.pdf\", ax, width = 5, height = 2.5)"
   ]
  },
  {
   "cell_type": "markdown",
   "metadata": {},
   "source": [
    "#### Individual features"
   ]
  },
  {
   "cell_type": "code",
   "execution_count": 38,
   "metadata": {},
   "outputs": [],
   "source": [
    "list_X_y <- lapply(\n",
    "  list_obj1,\n",
    "  function(obj) rownames_to_column(obj$X_y)\n",
    ")\n",
    "X_y <- bind_rows(list_X_y, .id = \"subtype\")\n",
    "X_y_sub <-  filter(X_y, subtype %in% c(\"BCR-ABL\", \"T-ALL\", \"TEL-AML1\"))"
   ]
  },
  {
   "cell_type": "code",
   "execution_count": 40,
   "metadata": {},
   "outputs": [
    {
     "data": {
      "image/png": "[encoded data removed]",
      "text/plain": [
       "plot without title"
      ]
     },
     "metadata": {},
     "output_type": "display_data"
    }
   ],
   "source": [
    "ax <- ggplot(\n",
    "  X_y_sub,\n",
    "  aes(x = label, y = log_mrd_d33, fill = label)\n",
    ") +\n",
    "  facet_wrap(~subtype) +\n",
    "  geom_point(position = position_jitterdodge(), pch = 21, cex = 2) +\n",
    "  scale_fill_manual(values = COL_LABEL) +\n",
    "  labs(y = \"log(MRD)\")\n",
    "ax\n",
    "\n",
    "# ggsave(\"~/Dropbox/tmp/log_mrd.pdf\", ax, width = 5, height = 2.5)"
   ]
  },
  {
   "cell_type": "code",
   "execution_count": null,
   "metadata": {},
   "outputs": [],
   "source": []
  },
  {
   "cell_type": "code",
   "execution_count": 69,
   "metadata": {},
   "outputs": [
    {
     "data": {
      "text/html": [
       "<table>\n",
       "<caption>A data.frame: 6 × 8</caption>\n",
       "<thead>\n",
       "\t<tr><th></th><th scope=col>subtype</th><th scope=col>erm1_ratio2</th><th scope=col>l2norm_ratio2</th><th scope=col>angle_d0d8_d0normal</th><th scope=col>log_mrd_d33</th><th scope=col>p_d8</th><th scope=col>p_d33</th><th scope=col>label</th></tr>\n",
       "\t<tr><th></th><th scope=col>&lt;chr&gt;</th><th scope=col>&lt;dbl&gt;</th><th scope=col>&lt;dbl&gt;</th><th scope=col>&lt;dbl&gt;</th><th scope=col>&lt;dbl&gt;</th><th scope=col>&lt;dbl&gt;</th><th scope=col>&lt;dbl&gt;</th><th scope=col>&lt;fct&gt;</th></tr>\n",
       "</thead>\n",
       "<tbody>\n",
       "\t<tr><th scope=row>P056</th><td>BCR-ABL </td><td>1.43645701</td><td>1.6113608</td><td>28.33446</td><td>-3.154902</td><td>0.26666667</td><td>0.3000000</td><td>1</td></tr>\n",
       "\t<tr><th scope=row>P007</th><td>T-ALL   </td><td>0.75701293</td><td>0.9710019</td><td>42.59169</td><td>-2.397940</td><td>0.25000000</td><td>0.2812500</td><td>1</td></tr>\n",
       "\t<tr><th scope=row>P151</th><td>T-ALL   </td><td>1.15021746</td><td>1.2218995</td><td>32.29299</td><td>-1.698970</td><td>0.41666667</td><td>0.3750000</td><td>1</td></tr>\n",
       "\t<tr><th scope=row>P034</th><td>TEL-AML1</td><td>0.17666919</td><td>0.5215379</td><td>63.57314</td><td>-4.000000</td><td>0.06896552</td><td>0.3017241</td><td>1</td></tr>\n",
       "\t<tr><th scope=row>P094</th><td>TEL-AML1</td><td>0.02149864</td><td>0.3998272</td><td>81.18984</td><td>-6.000000</td><td>0.02298851</td><td>0.2672414</td><td>1</td></tr>\n",
       "\t<tr><th scope=row>P136</th><td>TEL-AML1</td><td>0.81113048</td><td>1.1008967</td><td>35.89147</td><td>-4.000000</td><td>0.29885057</td><td>0.4741379</td><td>1</td></tr>\n",
       "</tbody>\n",
       "</table>\n"
      ],
      "text/latex": [
       "A data.frame: 6 × 8\n",
       "\\begin{tabular}{r|llllllll}\n",
       "  & subtype & erm1\\_ratio2 & l2norm\\_ratio2 & angle\\_d0d8\\_d0normal & log\\_mrd\\_d33 & p\\_d8 & p\\_d33 & label\\\\\n",
       "  & <chr> & <dbl> & <dbl> & <dbl> & <dbl> & <dbl> & <dbl> & <fct>\\\\\n",
       "\\hline\n",
       "\tP056 & BCR-ABL  & 1.43645701 & 1.6113608 & 28.33446 & -3.154902 & 0.26666667 & 0.3000000 & 1\\\\\n",
       "\tP007 & T-ALL    & 0.75701293 & 0.9710019 & 42.59169 & -2.397940 & 0.25000000 & 0.2812500 & 1\\\\\n",
       "\tP151 & T-ALL    & 1.15021746 & 1.2218995 & 32.29299 & -1.698970 & 0.41666667 & 0.3750000 & 1\\\\\n",
       "\tP034 & TEL-AML1 & 0.17666919 & 0.5215379 & 63.57314 & -4.000000 & 0.06896552 & 0.3017241 & 1\\\\\n",
       "\tP094 & TEL-AML1 & 0.02149864 & 0.3998272 & 81.18984 & -6.000000 & 0.02298851 & 0.2672414 & 1\\\\\n",
       "\tP136 & TEL-AML1 & 0.81113048 & 1.1008967 & 35.89147 & -4.000000 & 0.29885057 & 0.4741379 & 1\\\\\n",
       "\\end{tabular}\n"
      ],
      "text/markdown": [
       "\n",
       "A data.frame: 6 × 8\n",
       "\n",
       "| <!--/--> | subtype &lt;chr&gt; | erm1_ratio2 &lt;dbl&gt; | l2norm_ratio2 &lt;dbl&gt; | angle_d0d8_d0normal &lt;dbl&gt; | log_mrd_d33 &lt;dbl&gt; | p_d8 &lt;dbl&gt; | p_d33 &lt;dbl&gt; | label &lt;fct&gt; |\n",
       "|---|---|---|---|---|---|---|---|---|\n",
       "| P056 | BCR-ABL  | 1.43645701 | 1.6113608 | 28.33446 | -3.154902 | 0.26666667 | 0.3000000 | 1 |\n",
       "| P007 | T-ALL    | 0.75701293 | 0.9710019 | 42.59169 | -2.397940 | 0.25000000 | 0.2812500 | 1 |\n",
       "| P151 | T-ALL    | 1.15021746 | 1.2218995 | 32.29299 | -1.698970 | 0.41666667 | 0.3750000 | 1 |\n",
       "| P034 | TEL-AML1 | 0.17666919 | 0.5215379 | 63.57314 | -4.000000 | 0.06896552 | 0.3017241 | 1 |\n",
       "| P094 | TEL-AML1 | 0.02149864 | 0.3998272 | 81.18984 | -6.000000 | 0.02298851 | 0.2672414 | 1 |\n",
       "| P136 | TEL-AML1 | 0.81113048 | 1.1008967 | 35.89147 | -4.000000 | 0.29885057 | 0.4741379 | 1 |\n",
       "\n"
      ],
      "text/plain": [
       "     subtype  erm1_ratio2 l2norm_ratio2 angle_d0d8_d0normal log_mrd_d33\n",
       "P056 BCR-ABL  1.43645701  1.6113608     28.33446            -3.154902  \n",
       "P007 T-ALL    0.75701293  0.9710019     42.59169            -2.397940  \n",
       "P151 T-ALL    1.15021746  1.2218995     32.29299            -1.698970  \n",
       "P034 TEL-AML1 0.17666919  0.5215379     63.57314            -4.000000  \n",
       "P094 TEL-AML1 0.02149864  0.3998272     81.18984            -6.000000  \n",
       "P136 TEL-AML1 0.81113048  1.1008967     35.89147            -4.000000  \n",
       "     p_d8       p_d33     label\n",
       "P056 0.26666667 0.3000000 1    \n",
       "P007 0.25000000 0.2812500 1    \n",
       "P151 0.41666667 0.3750000 1    \n",
       "P034 0.06896552 0.3017241 1    \n",
       "P094 0.02298851 0.2672414 1    \n",
       "P136 0.29885057 0.4741379 1    "
      ]
     },
     "metadata": {},
     "output_type": "display_data"
    }
   ],
   "source": [
    "# Load relapse patients predicted as SR/IR\n",
    "file <- \"tmp/pid_relapse_srir.txt\"\n",
    "pid <- readLines(file)\n",
    "X_y[pid,]"
   ]
  },
  {
   "cell_type": "code",
   "execution_count": null,
   "metadata": {},
   "outputs": [],
   "source": []
  },
  {
   "cell_type": "markdown",
   "metadata": {},
   "source": [
    "### Identify patients with clonal evolution\n",
    "\n",
    "Relapse patients that show good MRD. Investigating D33 samples"
   ]
  },
  {
   "cell_type": "code",
   "execution_count": 270,
   "metadata": {
    "scrolled": true
   },
   "outputs": [],
   "source": [
    "metadata_clonal <- metadata_pid %>%\n",
    "  subset(\n",
    "    label == 1 & d33_mrd < 0.01 & subtype == \"TEL-AML1\",\n",
    "    select = c(d33_mrd, wk12_mrd, subtype)\n",
    "  )\n",
    "\n",
    "# Only TEL-AML1 has >2 samples\n",
    "pid_telaml1_1 <- rownames(metadata_clonal) %>%\n",
    "  intersect(substring(colnames(yeoh_d33), 1, 4))\n",
    "sid_telaml1_1 <- paste0(pid_telaml1_1, \"_D33\")"
   ]
  },
  {
   "cell_type": "code",
   "execution_count": 271,
   "metadata": {},
   "outputs": [],
   "source": [
    "pid_telaml1_0 <- metadata_pid %>%\n",
    "  subset(subtype == \"TEL-AML1\" & label == 0) %>%\n",
    "  rownames() %>%\n",
    "  intersect(substring(colnames(yeoh_d33), 1, 4))\n",
    "sid_telaml1_0 <- paste0(pid_telaml1_0, \"_D33\")"
   ]
  },
  {
   "cell_type": "code",
   "execution_count": 295,
   "metadata": {},
   "outputs": [],
   "source": [
    "# DE probesets\n",
    "telaml1_0 <- yeoh_d33[, sid_telaml1_0]\n",
    "telaml1_1 <- yeoh_d33[, sid_telaml1_1]\n",
    "\n",
    "pvalues <- calc_univariate(t.test, telaml1_0, telaml1_1)\n",
    "ALPHA <- 0.05\n",
    "ps_ttest <- rownames(yeoh_d33)[pvalues < ALPHA & !is.na(pvalues)]\n",
    "\n",
    "logfc <- calc_logfc(telaml1_0, telaml1_1)\n",
    "ps_logfc <- rownames(yeoh_d33)[logfc > .5]\n",
    "ps_diff <- intersect(ps_ttest, ps_logfc)\n",
    "\n",
    "# Sample IDs\n",
    "pid_telaml1 <- c(pid_telaml1_0, pid_telaml1_1)\n",
    "sid_telaml1 <- paste0(rep(pid_telaml1, each = 3), c(\"_D0\", \"_D8\", \"_D33\"))"
   ]
  },
  {
   "cell_type": "code",
   "execution_count": 296,
   "metadata": {},
   "outputs": [],
   "source": [
    "concat_metadata <- function(ps_diff) {\n",
    "  telaml1 <- cbind(yeoh, yeoh_d33)[ps_diff, sid_telaml1] %>%\n",
    "    rownames_to_column() %>%\n",
    "    gather(key = sid, value = value, -rowname)\n",
    "  X_y <- cbind(\n",
    "    metadata_d33[telaml1$sid, c(\"class_info\", \"label\")],\n",
    "    pid = substring(telaml1$sid, 1, 4),\n",
    "    telaml1\n",
    "  )\n",
    "  X_y\n",
    "}"
   ]
  },
  {
   "cell_type": "code",
   "execution_count": 297,
   "metadata": {},
   "outputs": [],
   "source": [
    "telaml1 <- concat_metadata(ps_diff)"
   ]
  },
  {
   "cell_type": "code",
   "execution_count": 309,
   "metadata": {},
   "outputs": [],
   "source": [
    "ps_ttest <- substring(names(sort(pvalues)), 2)"
   ]
  },
  {
   "cell_type": "code",
   "execution_count": 311,
   "metadata": {},
   "outputs": [],
   "source": [
    "telaml1 <- concat_metadata(ps_ttest[1:10])"
   ]
  },
  {
   "cell_type": "code",
   "execution_count": 312,
   "metadata": {},
   "outputs": [],
   "source": [
    "# Plot out\n",
    "ax <- ggplot(\n",
    "  telaml1,\n",
    "  aes(x = class_info, y = value, group = pid, col = label)\n",
    ") +\n",
    "  facet_grid(label ~ rowname) +\n",
    "  scale_color_manual(values = COL_LABEL) +\n",
    "  geom_line()\n",
    "\n",
    "ggsave(\"~/Dropbox/tmp/evolution_ps1.pdf\", ax, width = 9, height = 3)"
   ]
  },
  {
   "cell_type": "code",
   "execution_count": null,
   "metadata": {},
   "outputs": [],
   "source": [
    "# TO-DO"
   ]
  },
  {
   "cell_type": "markdown",
   "metadata": {},
   "source": [
    "## D8-D33"
   ]
  },
  {
   "cell_type": "code",
   "execution_count": 123,
   "metadata": {},
   "outputs": [],
   "source": [
    "#' Identifies (treatment response genes - batch genes) from D0, D8 samples\n",
    "get_local_genes_pipeline <- function(\n",
    "  X_subtype, X_normal,\n",
    "  metadata, metadata_mrd,\n",
    "  batch_genes = NULL\n",
    ") {\n",
    "  sid_remission <- colnames(X_subtype)[\n",
    "    metadata[colnames(X_subtype), \"label\"] == 0 ]\n",
    "  \n",
    "  getLocalGenes(X_subtype, sid_remission)\n",
    "}"
   ]
  },
  {
   "cell_type": "code",
   "execution_count": 124,
   "metadata": {},
   "outputs": [
    {
     "name": "stdout",
     "output_type": "stream",
     "text": [
      "            P053_D0   P054_D0  P055_D0   P056_D0   P057_D0  P134_D0  P152_D0\n",
      "1053_at    8.691204  7.602195 9.411247  9.242660  8.934701 8.410668 8.619703\n",
      "117_at     0.000000  0.000000 6.464115  0.000000  0.000000 5.075805 6.705585\n",
      "121_at     8.328702  8.478739 8.136448  7.723151  9.359687 7.378248 8.212045\n",
      "1294_at   10.884327 11.614881 9.441801 10.270406 11.136562 9.740906 9.956232\n",
      "1316_at    8.276770  7.841803 5.060726  5.470828  6.801432 8.122399 6.352926\n",
      "160020_at  0.000000  0.000000 0.000000  6.864270  0.000000 7.158413 7.363750\n",
      "           P170_D0   P175_D0   P184_D0   P053_D8   P054_D8  P055_D8  P056_D8\n",
      "1053_at   8.900116  9.169554  9.409609  8.467285  8.381870 8.580089 7.638956\n",
      "117_at    7.109241  5.982598  0.000000  0.000000  6.083772 7.263181 7.605420\n",
      "121_at    8.248110  8.299106  8.345388  8.260321  8.702202 7.735235 7.625789\n",
      "1294_at   9.055452 10.253467 10.323843 10.895341 10.210585 9.240541 9.190876\n",
      "1316_at   7.071496  8.029674  6.288424  9.315711  8.533834 5.141719 6.031292\n",
      "160020_at 7.069130  7.843328  6.977032  0.000000  7.093179 5.605707 6.337554\n",
      "            P057_D8   P134_D8  P152_D8  P170_D8  P175_D8   P184_D8\n",
      "1053_at    8.331604  8.217269 8.754972 8.260528 8.282667  8.344670\n",
      "117_at     0.000000  5.569862 6.755141 6.372084 6.400273  6.032033\n",
      "121_at     9.451267  7.542283 8.181240 8.363898 8.206381  7.112439\n",
      "1294_at   10.859572 10.798052 9.419253 9.379837 9.347756 11.470963\n",
      "1316_at    7.331694  7.008458 7.369014 7.745029 7.409374  8.619804\n",
      "160020_at  0.000000  7.523342 6.901343 7.557714 7.854194  6.527278\n",
      "[1] \"No. of NaN values in log-fc = 0\"\n",
      "[1] \"No. of probesets excluded by expr threshold = 725\"\n",
      "[1] \"No. of features (p-value) = 170\"\n",
      "[1] \"No. of features (log2-fc) = 214\"\n",
      "            P049_D0   P050_D0   P051_D0  P102_D0  P145_D0  P161_D0   P049_D8\n",
      "1053_at    8.759096  8.585282 10.063238 8.615570 8.711922 8.794844  7.918229\n",
      "117_at     0.000000  0.000000  7.863221 7.813058 5.975614 5.482526  7.589973\n",
      "121_at     8.274627  8.381278  9.366301 7.935730 8.774233 8.054868  8.434263\n",
      "1294_at   10.219067 10.595444  9.010948 8.923778 9.193739 9.554016 10.543540\n",
      "1316_at    7.214170  7.868373  6.796639 6.386059 7.603128 6.853392  7.214903\n",
      "160020_at  0.000000  0.000000  0.000000 7.309974 7.598640 7.111944  0.000000\n",
      "           P050_D8  P051_D8  P102_D8  P145_D8  P161_D8\n",
      "1053_at   8.855265 9.909581 8.148026 7.710232 8.124322\n",
      "117_at    0.000000 9.381289 7.451731 6.173750 7.616731\n",
      "121_at    8.135317 9.276165 8.625762 8.498442 8.082009\n",
      "1294_at   9.502391 9.707405 9.737353 8.959002 9.190262\n",
      "1316_at   8.040411 6.951282 7.318620 7.499761 7.785914\n",
      "160020_at 6.917039 7.787893 0.000000 7.198530 7.075633\n",
      "[1] \"No. of NaN values in log-fc = 0\"\n",
      "[1] \"No. of probesets excluded by expr threshold = 818\"\n",
      "[1] \"No. of features (p-value) = 744\"\n",
      "[1] \"No. of features (log2-fc) = 753\"\n",
      "           P037_D0  P038_D0  P039_D0  P040_D0  P041_D0   P043_D0  P044_D0\n",
      "1053_at   9.673490 8.423645 8.296763 8.743939 9.085534  8.786708 8.897991\n",
      "117_at    0.000000 0.000000 0.000000 0.000000 0.000000  5.867670 0.000000\n",
      "121_at    9.233889 0.000000 8.239617 8.388115 8.414085  7.720398 8.913832\n",
      "1294_at   9.734687 9.886040 9.702531 9.125748 8.285402 10.357386 9.652862\n",
      "1316_at   7.162259 8.578890 8.467939 7.382976 9.004389  6.547581 0.000000\n",
      "160020_at 8.465023 6.975849 7.331590 7.426855 7.490068  7.590264 8.148533\n",
      "            P046_D0   P047_D0  P048_D0  P098_D0  P100_D0  P109_D0  P129_D0\n",
      "1053_at    8.117929  8.765268 9.525843 8.673420 9.404751 9.277586 8.206122\n",
      "117_at     6.830392  0.000000 0.000000 0.000000 5.466376 5.088887 0.000000\n",
      "121_at     8.109431  7.649167 8.392843 7.801470 7.402218 8.002298 8.288226\n",
      "1294_at   10.120834 10.040306 9.888510 9.938264 9.617706 9.673268 9.778225\n",
      "1316_at    7.506224  8.937852 6.551902 6.851577 6.770173 6.871983 7.648525\n",
      "160020_at  6.360947  6.729761 7.968069 6.744351 6.831486 8.081728 7.370955\n",
      "           P133_D0  P138_D0  P139_D0  P140_D0  P148_D0  P153_D0  P154_D0\n",
      "1053_at   9.310567 9.140354 9.385898 8.501682 8.581250 9.048545 8.879431\n",
      "117_at    5.486614 0.000000 0.000000 6.811211 0.000000 5.386619 0.000000\n",
      "121_at    8.245098 8.842130 9.229064 8.529872 8.634118 7.750281 8.816633\n",
      "1294_at   9.451218 9.103467 9.273627 9.471597 8.914320 8.925624 9.992594\n",
      "1316_at   7.709278 8.768361 7.981126 8.298913 8.276196 7.307454 7.952530\n",
      "160020_at 7.742818 8.547473 8.190562 7.364524 7.783172 5.976485 6.548768\n",
      "           P155_D0  P157_D0  P159_D0   P162_D0  P164_D0  P169_D0  P176_D0\n",
      "1053_at   7.855960 9.244036 9.015987  8.609591 8.620369 9.326420 9.040411\n",
      "117_at    7.447295 8.646691 0.000000  5.959930 5.340264 0.000000 0.000000\n",
      "121_at    7.400742 7.872159 8.344104  8.416482 7.301748 7.795799 8.019991\n",
      "1294_at   9.795033 8.913678 9.410292 10.021328 9.255183 9.766852 9.253744\n",
      "1316_at   6.154346 7.667020 7.596457  8.029782 8.438073 8.167941 7.380957\n",
      "160020_at 6.024508 6.431012 7.125024  6.814048 6.712285 7.440132 7.344052\n",
      "           P178_D0  P182_D0   P189_D0  P195_D0  P196_D0  P207_D0  P208_D0\n",
      "1053_at   8.655769 8.399875  9.560071 8.645671 8.335803 8.520797 8.831891\n",
      "117_at    7.234948 5.883479  5.657435 0.000000 0.000000 6.251930 0.000000\n",
      "121_at    8.192492 8.079298  7.902482 8.546890 8.087026 8.407084 8.256416\n",
      "1294_at   9.769712 9.452683 10.528271 9.131448 8.950735 8.994552 8.745933\n",
      "1316_at   7.157435 8.232511  6.751439 7.629901 7.804504 7.584110 7.866468\n",
      "160020_at 7.996594 7.304786  6.528667 6.598626 7.532127 5.796173 6.329650\n",
      "           P037_D8   P038_D8  P039_D8  P040_D8  P041_D8  P043_D8  P044_D8\n",
      "1053_at   8.758998  8.076042 8.144621 8.531879 8.400167 8.213646 8.844384\n",
      "117_at    0.000000  0.000000 7.732139 6.771220 0.000000 7.292894 0.000000\n",
      "121_at    9.248671  7.074124 8.197892 8.059251 0.000000 8.168419 0.000000\n",
      "1294_at   9.761727 10.160070 9.443726 9.869542 8.513513 9.690889 9.102788\n",
      "1316_at   6.853570  8.219351 8.290263 7.357205 7.890827 5.527418 6.166350\n",
      "160020_at 8.130851  6.418476 7.062053 7.695262 6.674334 6.698805 7.426910\n",
      "           P046_D8   P047_D8  P048_D8  P098_D8  P100_D8  P109_D8  P129_D8\n",
      "1053_at   7.738392  8.005000 9.310964 9.135613 8.227157 9.037804 8.803192\n",
      "117_at    0.000000  0.000000 5.608895 5.828229 6.168272 0.000000 6.055716\n",
      "121_at    8.265996  0.000000 7.629997 8.124366 7.457870 8.014350 7.882025\n",
      "1294_at   9.660876 10.272061 9.999750 9.736591 9.579440 9.439941 9.845189\n",
      "1316_at   8.185943  8.769144 6.247987 7.091210 6.792960 7.036283 7.757171\n",
      "160020_at 7.172623  0.000000 0.000000 6.182017 6.555559 7.130004 6.249441\n",
      "           P133_D8  P138_D8  P139_D8  P140_D8  P148_D8  P153_D8  P154_D8\n",
      "1053_at   8.789151 9.498146 8.143647 9.028061 8.345336 7.817894 8.236873\n",
      "117_at    5.691479 5.998867 6.376286 8.754328 7.593005 6.700597 0.000000\n",
      "121_at    7.925082 8.603469 7.995586 8.367857 7.970927 8.093188 8.583279\n",
      "1294_at   9.560344 9.495450 9.089131 9.285051 9.029098 9.441327 9.120502\n",
      "1316_at   7.734945 9.243792 7.732916 8.584487 7.504134 7.342724 8.173817\n",
      "160020_at 6.905418 8.360435 6.267509 7.102064 6.634299 6.773239 7.183499\n",
      "           P155_D8  P157_D8  P159_D8  P162_D8  P164_D8  P169_D8  P176_D8\n",
      "1053_at   7.776454 9.039474 8.425025 8.303996 8.615967 8.117473 8.627665\n",
      "117_at    9.004085 5.583809 6.305057 6.331084 5.762483 7.012855 7.809217\n",
      "121_at    7.752767 8.221082 8.385645 7.972107 7.993802 7.983014 7.752064\n",
      "1294_at   9.269494 8.958910 8.858540 9.146601 9.187077 9.169991 9.520915\n",
      "1316_at   7.642581 8.337815 7.993677 8.517533 8.346969 8.146078 7.919074\n",
      "160020_at 7.104753 6.782611 7.106023 6.502800 7.203801 6.789862 7.616429\n",
      "           P178_D8  P182_D8   P189_D8  P195_D8  P196_D8  P207_D8  P208_D8\n",
      "1053_at   8.015732 8.446486  9.282600 7.778999 7.557161 8.374649 8.389582\n",
      "117_at    8.044731 6.072516  0.000000 0.000000 7.950731 7.480065 0.000000\n",
      "121_at    8.747504 8.187655  8.113837 8.177479 8.402016 8.282297 8.576500\n",
      "1294_at   9.389773 8.940123 10.990023 8.882059 9.663087 9.115960 9.549934\n",
      "1316_at   6.705611 8.344058  7.103869 7.988153 7.357611 7.478080 7.800512\n",
      "160020_at 7.600743 7.250555  7.164073 7.082322 7.152755 6.479997 6.133653\n",
      "[1] \"No. of NaN values in log-fc = 0\"\n",
      "[1] \"No. of probesets excluded by expr threshold = 718\"\n",
      "[1] \"No. of features (p-value) = 2508\"\n",
      "[1] \"No. of features (log2-fc) = 283\"\n",
      "           P058_D0  P122_D0  P131_D0  P137_D0  P160_D0  P167_D0   P211_D0\n",
      "1053_at   9.561699 8.914177 8.796335 8.945461 8.837625 9.398778  9.334880\n",
      "117_at    7.193132 5.689602 7.333510 5.727694 6.679650 6.169407  5.536170\n",
      "121_at    8.238379 8.388629 7.264264 8.200549 7.750699 8.261140  8.313659\n",
      "1294_at   9.593264 9.840750 9.481975 9.427582 9.462938 9.177809 10.237740\n",
      "1316_at   5.766977 6.939145 6.625544 6.824758 7.583685 7.609112  7.592854\n",
      "160020_at 6.780152 7.685436 7.197253 7.042533 6.989486 7.534857  0.000000\n",
      "           P058_D8  P122_D8  P131_D8  P137_D8  P160_D8  P167_D8  P211_D8\n",
      "1053_at   8.232567 9.390937 8.664475 9.592997 8.561811 8.475400 8.372872\n",
      "117_at    7.972343 6.845748 7.371392 6.799821 8.780760 7.130038 7.794001\n",
      "121_at    8.025908 8.227784 7.747009 8.726501 8.190645 8.655527 8.282384\n",
      "1294_at   9.243583 9.951515 9.310393 9.509799 9.168975 9.517245 8.723502\n",
      "1316_at   0.000000 7.405855 6.916563 7.373704 8.024196 7.999526 7.254546\n",
      "160020_at 6.483956 7.277859 6.793208 7.011712 7.526613 7.562880 0.000000\n",
      "[1] \"No. of NaN values in log-fc = 0\"\n",
      "[1] \"No. of probesets excluded by expr threshold = 487\"\n",
      "[1] \"No. of features (p-value) = 614\"\n",
      "[1] \"No. of features (log2-fc) = 1031\"\n",
      "            P059_D0  P060_D0   P061_D0   P062_D0   P063_D0  P064_D0   P065_D0\n",
      "1053_at    9.073726 8.441741  9.235718  8.813620  9.678834 9.274894  9.042306\n",
      "117_at     0.000000 5.565865  5.466671  5.761773  7.782970 0.000000  0.000000\n",
      "121_at     8.364947 7.956080  8.180474  8.440870  9.533816 0.000000  0.000000\n",
      "1294_at   10.304092 9.892170 10.214922 10.295956 10.312293 9.924064 10.865468\n",
      "1316_at    8.106282 5.472731  5.406180  6.762245  0.000000 0.000000  7.030565\n",
      "160020_at  6.739904 6.401700  6.674981  7.024566  9.109291 0.000000  8.755747\n",
      "           P066_D0   P067_D0  P068_D0   P070_D0   P071_D0   P072_D0   P073_D0\n",
      "1053_at   8.562595  8.937039 8.491879  9.259578  8.217219  8.277811  9.113466\n",
      "117_at    0.000000  5.570197 0.000000  0.000000  7.332142  0.000000  0.000000\n",
      "121_at    7.393764  8.583258 8.201335  7.990823  0.000000  7.583544  8.694155\n",
      "1294_at   9.803452 10.341257 9.498393 10.798441 10.930386 10.412767 10.695499\n",
      "1316_at   7.612798  8.573639 7.498165  6.826898  7.651766  8.632730  7.963598\n",
      "160020_at 0.000000  0.000000 0.000000  0.000000  6.795652  5.469439  7.026014\n",
      "            P075_D0   P076_D0   P077_D0   P078_D0  P080_D0  P081_D0   P082_D0\n",
      "1053_at    8.514292  9.051791  9.190793  8.583573 8.709871 9.541165  8.729188\n",
      "117_at     0.000000  0.000000  0.000000  5.704141 0.000000 6.286815  0.000000\n",
      "121_at     7.681313  7.694672  7.859869  7.518200 8.155633 8.171635  8.789291\n",
      "1294_at   11.150828 10.843729 10.230170 10.262363 9.556374 8.759965 10.721458\n",
      "1316_at    8.121740  8.321257  7.491586  7.357512 8.229007 6.483634  8.272328\n",
      "160020_at  0.000000  0.000000  6.844442  0.000000 6.180472 7.443934  8.329748\n",
      "            P083_D0   P084_D0   P085_D0  P086_D0   P087_D0   P089_D0   P090_D0\n",
      "1053_at    8.846178  8.799857  9.197908 8.771126  9.663714  8.461535  8.264873\n",
      "117_at     0.000000  0.000000  0.000000 7.904828  0.000000  0.000000  0.000000\n",
      "121_at     9.333625  8.223809  7.821730 7.892766  9.563688  7.842882  7.536053\n",
      "1294_at   11.374403 10.077962 10.297883 9.810413 10.611139 10.384170 10.343709\n",
      "1316_at    7.870258  8.111549  7.791890 5.834234  0.000000  7.446704  8.646357\n",
      "160020_at  7.682443  0.000000  6.255715 6.427968  7.604603  6.453472  7.158545\n",
      "            P091_D0  P092_D0   P093_D0  P097_D0   P101_D0   P104_D0  P105_D0\n",
      "1053_at    8.837351 8.468038  7.868763 8.412159  9.098127  8.947484 8.082360\n",
      "117_at     0.000000 5.788478  0.000000 6.774092  0.000000  0.000000 7.254658\n",
      "121_at     8.214999 8.636280  0.000000 7.892087  8.472189  7.742356 8.063004\n",
      "1294_at   10.339719 9.884981 11.187349 9.948509 10.259336 10.594314 9.322890\n",
      "1316_at    7.641983 6.162915  8.161378 6.731075  7.158395  7.141177 6.279123\n",
      "160020_at  6.487834 0.000000  7.383969 6.874389  7.642427  6.656475 7.486790\n",
      "           P108_D0   P111_D0  P119_D0  P123_D0  P125_D0   P126_D0   P128_D0\n",
      "1053_at   8.389752  9.066382 8.126762 7.480154 9.531734 10.487937  9.665814\n",
      "117_at    6.736293  6.430316 7.542859 6.390578 5.844466  0.000000  6.607564\n",
      "121_at    8.115588  8.119663 8.161824 7.876666 7.842225  8.620778  8.608019\n",
      "1294_at   9.211043 10.396022 8.639385 9.441233 9.785931 10.340082 10.038558\n",
      "1316_at   7.925405  7.093919 6.938122 6.797834 8.051883  7.200729  7.645696\n",
      "160020_at 7.430025  8.131187 7.220641 7.450694 6.614249  8.669965  8.000080\n",
      "            P130_D0  P132_D0  P141_D0  P142_D0  P143_D0   P144_D0  P149_D0\n",
      "1053_at    8.416548 8.525179 8.928819 8.857959 8.297339  9.464787 8.704504\n",
      "117_at     0.000000 6.333580 0.000000 0.000000 0.000000  0.000000 0.000000\n",
      "121_at     8.068317 8.394623 8.261118 8.169418 8.507345  8.413377 8.232787\n",
      "1294_at   10.022321 8.849069 9.182037 9.962707 9.602214 10.213372 9.861985\n",
      "1316_at    7.062431 6.348613 7.347928 7.722052 6.558409  7.749641 7.558497\n",
      "160020_at  8.448891 7.526021 6.770941 8.578705 9.819074  7.579177 7.662102\n",
      "            P150_D0  P158_D0  P163_D0  P171_D0   P173_D0   P174_D0   P177_D0\n",
      "1053_at    8.938331 8.817526 8.604314 8.160586  8.205731  9.069299  8.458757\n",
      "117_at     0.000000 6.383752 7.075503 6.286073  0.000000  0.000000  6.641561\n",
      "121_at     8.171842 7.758868 8.638070 8.125970  8.046786  8.796795  7.820420\n",
      "1294_at   10.787734 9.560018 8.997006 9.671859 10.191158 10.224225 10.191657\n",
      "1316_at    7.675247 7.234906 7.367930 7.179934  7.755291  8.049622  7.310045\n",
      "160020_at  7.134446 6.647067 7.368295 7.769920  8.080537  9.884837  8.013979\n",
      "            P179_D0  P180_D0  P181_D0   P187_D0   P191_D0  P192_D0  P193_D0\n",
      "1053_at    8.799132 8.992187 8.557418  9.303213  8.915946 9.291388 8.837219\n",
      "117_at     0.000000 0.000000 7.149702  7.490273  6.391464 0.000000 5.585731\n",
      "121_at     8.607898 8.620817 7.767617  8.241144  7.854817 7.843490 8.483177\n",
      "1294_at   10.103593 9.538333 9.560369 10.156029 10.541230 9.298509 8.944507\n",
      "1316_at    8.000448 7.137502 6.816231  6.106585  6.209009 7.775666 7.812115\n",
      "160020_at  7.933675 7.261094 6.813951  8.293211  7.017450 6.826600 6.466078\n",
      "           P194_D0   P197_D0   P199_D0   P200_D0   P201_D0  P202_D0   P203_D0\n",
      "1053_at   9.182893  7.737153  9.183032  9.514755  8.717840 8.664016  9.362298\n",
      "117_at    5.629534  0.000000  0.000000  5.099248  5.880019 0.000000  5.158884\n",
      "121_at    8.276646  8.631797  8.680261  9.071408  8.409781 8.387778  8.562332\n",
      "1294_at   9.484048 10.860398 10.466874 10.486094 10.889684 9.987311 10.242630\n",
      "1316_at   7.231673  7.157601  6.619510  6.755808  7.699733 6.604200  7.596589\n",
      "160020_at 6.508525  6.874678  7.658581  7.677017  0.000000 6.781069  7.008578\n",
      "           P204_D0   P205_D0  P206_D0  P209_D0   P210_D0  P212_D0  P213_D0\n",
      "1053_at   8.240263  8.607282 8.488894 9.012410  8.683006 8.594283 7.894103\n",
      "117_at    5.959816  0.000000 0.000000 0.000000  0.000000 0.000000 8.022009\n",
      "121_at    8.327070  8.336408 8.643659 8.550709  8.703973 7.811759 8.107364\n",
      "1294_at   9.021712 10.347865 9.754610 8.922678 10.108574 9.374841 9.789421\n",
      "1316_at   6.908564  7.135573 7.619558 6.834723  7.100159 7.997366 7.137212\n",
      "160020_at 7.145415  6.970858 0.000000 0.000000  7.112159 6.800287 7.481015\n",
      "           P215_D0   P216_D0  P217_D0  P218_D0  P219_D0  P220_D0   P059_D8\n",
      "1053_at   9.148380  9.036409 9.185318 9.291117 8.349938 9.320105  8.045575\n",
      "117_at    5.309606  5.863822 0.000000 0.000000 0.000000 6.736965  0.000000\n",
      "121_at    8.205302  8.396473 8.612186 8.443043 8.571404 8.574759  7.735099\n",
      "1294_at   9.986534 10.466444 8.891046 9.603396 9.124473 9.078720 10.404872\n",
      "1316_at   8.046807  7.288323 7.655471 7.427943 6.858279 7.064089  7.747095\n",
      "160020_at 7.015019  0.000000 6.533092 6.376333 6.917967 8.283093  6.624351\n",
      "           P060_D8  P061_D8  P062_D8   P063_D8  P064_D8   P065_D8  P066_D8\n",
      "1053_at   8.285482 7.425893 8.027445  8.812249 8.332914  8.403557 8.151461\n",
      "117_at    6.955922 8.240075 7.898296  0.000000 7.827049  0.000000 7.598246\n",
      "121_at    7.698564 7.877627 7.833178  9.428257 9.197609  8.750256 7.755483\n",
      "1294_at   9.716942 9.726646 9.732656 10.135617 9.977101 10.015358 9.331825\n",
      "1316_at   5.879462 5.799785 6.099406  0.000000 0.000000  6.477750 7.268757\n",
      "160020_at 0.000000 0.000000 6.435894  8.253507 0.000000  8.275624 0.000000\n",
      "            P067_D8  P068_D8   P070_D8   P071_D8   P072_D8   P073_D8   P075_D8\n",
      "1053_at    7.150095 8.160428  7.801895  7.567767  7.860405  7.885578  7.528478\n",
      "117_at     7.626284 0.000000  9.631443  0.000000  0.000000  7.036752  0.000000\n",
      "121_at     9.335574 8.660011  8.120997  8.196752  8.679390  8.786166  0.000000\n",
      "1294_at   10.246179 9.650992 10.044142 10.794310 10.510270 10.706672 11.248366\n",
      "1316_at    7.471866 7.973567  7.272971  7.176613  7.457323  7.677220  9.010023\n",
      "160020_at  0.000000 0.000000  0.000000  7.248466  0.000000  0.000000  0.000000\n",
      "           P076_D8   P077_D8   P078_D8  P080_D8  P081_D8  P082_D8   P083_D8\n",
      "1053_at   7.493312  8.728109  8.284596 8.938260 8.423881 7.820770  8.344738\n",
      "117_at    8.575764  6.784269  7.821633 0.000000 6.831175 6.858438  6.737075\n",
      "121_at    8.099906  7.979512  8.122676 0.000000 8.631224 8.685413  0.000000\n",
      "1294_at   9.739068 11.318832 10.499853 9.128360 9.499338 9.743564 10.333850\n",
      "1316_at   7.977318  8.217805  7.348206 8.993975 7.892548 7.574181  8.044616\n",
      "160020_at 0.000000  0.000000  0.000000 6.834160 7.283634 7.199642  7.080409\n",
      "           P084_D8  P085_D8  P086_D8  P087_D8   P089_D8   P090_D8   P091_D8\n",
      "1053_at   8.068574 7.973760 8.359343 9.033480  8.410052  8.415946  7.974510\n",
      "117_at    0.000000 7.590631 8.656559 0.000000  6.340270  6.037047  6.424056\n",
      "121_at    8.218958 0.000000 8.112976 9.490160  8.090813  8.113240  7.780763\n",
      "1294_at   9.502661 9.375520 9.756882 9.799547 10.320527 10.398767 10.484506\n",
      "1316_at   8.517945 7.746975 6.126725 7.219907  8.085239  7.700825  7.922660\n",
      "160020_at 0.000000 6.492290 7.093059 0.000000  0.000000  6.693304  0.000000\n",
      "           P092_D8   P093_D8  P097_D8  P101_D8  P104_D8  P105_D8  P108_D8\n",
      "1053_at   7.966803  7.297570 7.797506 7.824208 8.539310 8.632967 8.297732\n",
      "117_at    7.097289  0.000000 8.466276 7.197796 7.688772 7.185324 7.911469\n",
      "121_at    8.377711  7.675023 7.910969 8.059895 7.939474 8.052321 8.455795\n",
      "1294_at   9.398939 11.512433 9.588525 9.484204 9.869596 8.963359 9.436651\n",
      "1316_at   5.405988  8.984397 6.805165 8.181190 6.921918 7.057403 7.109318\n",
      "160020_at 6.876653  0.000000 7.083395 6.531643 6.876372 7.046440 6.972853\n",
      "            P111_D8  P119_D8  P123_D8  P125_D8  P126_D8  P128_D8  P130_D8\n",
      "1053_at    9.071352 8.302909 8.751954 8.947901 8.225106 9.484251 7.837575\n",
      "117_at     6.320263 8.719862 7.135563 0.000000 7.814378 7.501891 0.000000\n",
      "121_at     8.258270 7.591144 7.915633 8.284486 8.732502 8.907273 8.372088\n",
      "1294_at   10.303169 9.182049 9.146126 9.618691 8.579391 9.760586 9.375606\n",
      "1316_at    7.318555 6.844491 6.634201 7.598810 7.425017 8.081543 6.691143\n",
      "160020_at  7.352815 6.520908 7.361304 7.394844 7.154635 7.054755 7.777549\n",
      "           P132_D8  P141_D8  P142_D8  P143_D8  P144_D8  P149_D8  P150_D8\n",
      "1053_at   8.045245 8.617700 9.034534 8.021045 8.909122 8.489442 7.427215\n",
      "117_at    0.000000 6.279423 6.682510 0.000000 7.337052 6.252980 6.895318\n",
      "121_at    8.705383 8.568577 8.571421 8.388107 8.121304 8.278105 8.125503\n",
      "1294_at   8.778552 9.031237 9.130780 9.714768 9.066397 8.843371 9.747594\n",
      "1316_at   7.148281 7.579353 8.130814 7.020949 7.362187 7.655757 7.620091\n",
      "160020_at 6.494242 7.553457 7.657098 9.968657 6.266090 7.415325 7.448984\n",
      "           P158_D8  P163_D8   P171_D8  P173_D8   P174_D8   P177_D8  P179_D8\n",
      "1053_at   9.079021 8.509630  8.258388 8.849114  8.699062  8.445823 8.728465\n",
      "117_at    5.838740 7.709381  5.912334 7.561023  6.934324  7.486477 5.731191\n",
      "121_at    7.907324 8.213355  8.070365 8.063582  8.679862  8.532483 7.931224\n",
      "1294_at   9.482397 8.617627 10.661434 9.967671 10.188746 10.321002 9.973887\n",
      "1316_at   7.119318 7.661674  7.361056 7.833692  7.885936  7.808050 9.184530\n",
      "160020_at 7.433817 6.867304  7.172806 0.000000  8.729395  7.509508 6.907703\n",
      "           P180_D8  P181_D8   P187_D8   P191_D8  P192_D8  P193_D8  P194_D8\n",
      "1053_at   7.838540 8.308280  9.075962  8.950394 7.930783 8.697910 8.703326\n",
      "117_at    6.910796 8.243404  8.769858  7.095854 7.812479 8.774410 6.443282\n",
      "121_at    8.548310 8.306546  7.936003  8.435239 8.535604 8.490508 8.063064\n",
      "1294_at   9.341254 9.078521 10.598386 10.511837 9.663977 8.970130 8.490302\n",
      "1316_at   7.536668 7.530291  5.832146  6.989448 7.774717 7.686680 7.095788\n",
      "160020_at 7.369918 7.051687  7.779666  7.201522 0.000000 6.890407 6.839054\n",
      "            P197_D8  P199_D8   P200_D8  P201_D8  P202_D8  P203_D8  P204_D8\n",
      "1053_at    7.948309 8.303853  9.082326 7.750965 8.416760 8.568430 8.354415\n",
      "117_at     0.000000 5.221501  0.000000 8.186790 5.700442 6.081563 6.085981\n",
      "121_at     8.437790 8.533300  8.573939 8.398741 8.566636 8.410954 8.394132\n",
      "1294_at   10.215012 9.479483 10.576883 9.962230 9.323821 9.134401 8.645760\n",
      "1316_at    7.204071 7.033306  6.659695 7.113453 7.259145 7.205320 6.963539\n",
      "160020_at  0.000000 6.840289  0.000000 6.517513 7.043793 6.634300 6.785678\n",
      "           P205_D8  P206_D8  P209_D8  P210_D8  P212_D8  P213_D8  P215_D8\n",
      "1053_at   8.223480 8.348666 8.276280 8.357684 8.229703 7.664965 7.973334\n",
      "117_at    6.571525 6.812780 0.000000 0.000000 7.090158 7.086048 7.802563\n",
      "121_at    8.970074 8.649041 8.882740 8.624470 8.773914 8.200218 8.261848\n",
      "1294_at   9.223804 9.293850 9.667994 9.403513 9.638276 9.142553 8.439189\n",
      "1316_at   8.060295 7.180683 7.132424 7.388669 7.862056 7.387235 7.802659\n",
      "160020_at 6.587480 0.000000 0.000000 6.831214 6.747435 6.867783 0.000000\n",
      "           P216_D8  P217_D8  P218_D8  P219_D8  P220_D8\n",
      "1053_at   8.849982 9.000787 8.243989 8.060047 8.587631\n",
      "117_at    7.507686 6.861997 6.676754 6.526353 6.812180\n",
      "121_at    8.471604 8.778694 8.150925 9.028403 8.226022\n",
      "1294_at   9.091813 9.142127 9.096620 9.496342 9.302925\n",
      "1316_at   7.026737 7.876092 7.370036 7.214679 7.018754\n",
      "160020_at 6.327059 0.000000 6.237073 0.000000 8.264662\n",
      "[1] \"No. of NaN values in log-fc = 0\"\n",
      "[1] \"No. of probesets excluded by expr threshold = 822\"\n",
      "[1] \"No. of features (p-value) = 3081\"\n",
      "[1] \"No. of features (log2-fc) = 448\"\n",
      "            P001_D0   P004_D0  P005_D0  P007_D0  P008_D0  P010_D0   P012_D0\n",
      "1053_at    8.098560  8.609167 8.038063 8.744067 8.515193 9.912007  9.502641\n",
      "117_at     0.000000  0.000000 0.000000 0.000000 0.000000 0.000000  0.000000\n",
      "121_at     8.392954  8.354024 7.740483 8.202988 7.942706 8.401889  8.121323\n",
      "1294_at   10.694515 10.265677 9.916525 9.722362 9.117614 9.397744 10.080864\n",
      "1316_at    6.862347  5.880970 6.433487 7.595181 6.156123 0.000000  7.442050\n",
      "160020_at  6.973848  6.380955 0.000000 0.000000 0.000000 0.000000  7.282848\n",
      "           P103_D0  P116_D0  P151_D0  P001_D8   P004_D8  P005_D8   P007_D8\n",
      "1053_at   8.660733 7.545997 9.310015 8.405450  7.668070 7.905531  7.871203\n",
      "117_at    0.000000 8.829317 0.000000 7.776793  6.770387 8.800227  7.885736\n",
      "121_at    8.200330 8.782991 7.896488 8.322252  7.408725 8.041825  8.623827\n",
      "1294_at   9.731796 9.137997 8.501104 9.135009 10.282623 9.527088 10.581878\n",
      "1316_at   8.121912 7.755258 6.417509 7.821819  6.710316 6.262052  7.224255\n",
      "160020_at 7.359456 7.652484 6.559299 0.000000  0.000000 0.000000  6.687918\n",
      "           P008_D8  P010_D8   P012_D8   P103_D8  P116_D8  P151_D8\n",
      "1053_at   7.452767 8.997083  8.217311  7.835683 8.608132 8.652770\n",
      "117_at    6.752566 0.000000  0.000000  5.716139 6.540135 6.337572\n",
      "121_at    8.049243 9.265019  8.464810  8.624641 8.352979 7.976114\n",
      "1294_at   9.650097 9.050778 10.243337 10.075471 9.376000 8.958482\n",
      "1316_at   7.433714 6.802206  7.850728  7.719153 7.308199 6.822747\n",
      "160020_at 0.000000 7.740705  7.261184  7.852770 7.195952 6.694580\n",
      "[1] \"No. of NaN values in log-fc = 0\"\n",
      "[1] \"No. of probesets excluded by expr threshold = 998\"\n",
      "[1] \"No. of features (p-value) = 606\"\n",
      "[1] \"No. of features (log2-fc) = 342\"\n",
      "            P013_D0   P014_D0   P015_D0   P016_D0   P017_D0   P018_D0   P019_D0\n",
      "1053_at    9.031814  8.916080  8.298239  8.938703  9.194197  8.997203  9.434141\n",
      "117_at     0.000000  6.587880  6.488525  6.253900  6.312477  0.000000  0.000000\n",
      "121_at     0.000000  8.207149  8.412210  7.885155  7.636402  9.540622  8.065589\n",
      "1294_at   10.658451 10.184146 10.342065 10.165002 10.457385 10.920163 11.222972\n",
      "1316_at    7.625943  6.248643  6.042248  5.583220  5.813268  0.000000  6.466768\n",
      "160020_at  7.549393  6.910427  6.973198  6.578494  6.348203  0.000000  7.969937\n",
      "            P022_D0   P023_D0   P024_D0   P025_D0   P026_D0   P027_D0   P028_D0\n",
      "1053_at    8.744594  8.056498  8.559033  7.928784  7.861063  8.815542  9.258538\n",
      "117_at     0.000000  6.998956  0.000000  0.000000  0.000000  0.000000  0.000000\n",
      "121_at     8.155807  8.153390  7.606519  8.553857  8.579095  8.572986  8.776958\n",
      "1294_at   10.941756 10.655733 11.032879 10.958426 10.930593 11.074201 10.936953\n",
      "1316_at    7.933003  8.570289  8.842756  7.967866  7.442726  7.745296  8.281138\n",
      "160020_at  6.687915  0.000000  0.000000  0.000000  0.000000  0.000000  0.000000\n",
      "            P029_D0   P031_D0   P032_D0   P033_D0   P034_D0   P035_D0   P036_D0\n",
      "1053_at    9.561350  9.770970  9.753512  9.775792  8.326060  8.133010  8.824888\n",
      "117_at     0.000000  0.000000  0.000000  0.000000  0.000000  0.000000  0.000000\n",
      "121_at     8.483540  9.454935  8.887019  9.016039  8.512485  8.333762  7.448565\n",
      "1294_at   10.384054 10.771730 10.730588 10.374083 11.040474 11.209435 10.648448\n",
      "1316_at    7.172016  0.000000  7.166904  0.000000  6.679863  8.461680  7.689733\n",
      "160020_at  7.477668  8.285531  0.000000  8.078849  6.671586  7.780393  6.543956\n",
      "            P094_D0   P099_D0   P106_D0   P120_D0   P121_D0   P127_D0  P135_D0\n",
      "1053_at    9.220662  9.225458  9.070368  8.781509  8.607939  9.293464 8.423412\n",
      "117_at     0.000000  0.000000  0.000000  0.000000  7.646375  0.000000 0.000000\n",
      "121_at     8.778153  7.828877  7.926305  8.329798  7.838955  8.022026 7.951875\n",
      "1294_at   10.564604 10.241930 10.177659 10.445116 10.241572 10.649216 9.963102\n",
      "1316_at    6.881168  6.779996  6.539624  7.083573  7.410092  6.125767 7.240298\n",
      "160020_at  7.661913  7.527210  8.058961  7.728457  6.265604  7.832334 7.774397\n",
      "           P136_D0  P147_D0   P156_D0   P165_D0   P166_D0   P172_D0   P013_D8\n",
      "1053_at   8.813242 8.596758  8.575230  9.261272  8.580264  8.979691  9.089706\n",
      "117_at    0.000000 0.000000  6.569564  0.000000  0.000000  0.000000  0.000000\n",
      "121_at    7.607922 8.422409  8.363434  8.631314  8.593107  8.290506  0.000000\n",
      "1294_at   9.482545 9.887751 10.173943 10.175391 10.265770 10.941610 10.084887\n",
      "1316_at   8.216854 7.881805  7.468701  8.222619  7.814204  7.084594  7.260595\n",
      "160020_at 7.162995 7.444563  8.119580  7.847681  8.198188  8.015701  0.000000\n",
      "           P014_D8  P015_D8   P016_D8  P017_D8   P018_D8   P019_D8   P022_D8\n",
      "1053_at   8.186788 8.643278  9.247503 7.671569  9.116342  9.796867  8.007226\n",
      "117_at    7.962300 7.008844  6.284752 8.853008  0.000000  0.000000  0.000000\n",
      "121_at    8.281453 8.032342  7.647992 8.109108  9.157021  8.648567  8.138437\n",
      "1294_at   9.328887 9.549934 10.179426 9.421686 10.970625 11.286344 10.785831\n",
      "1316_at   5.867932 6.302879  5.514157 5.544970  6.830135  7.219373  7.045392\n",
      "160020_at 6.672667 6.169477  6.673519 6.165062  8.579138  8.315581  7.109321\n",
      "            P023_D8   P024_D8   P025_D8   P026_D8   P027_D8   P028_D8  P029_D8\n",
      "1053_at    8.204968  7.663667  8.147063  8.950995  7.869298  9.134279 8.734416\n",
      "117_at     0.000000  6.319781  0.000000  0.000000  7.264552  0.000000 6.118315\n",
      "121_at     8.203925  7.639656  7.963735  7.783981  9.099036  8.830655 8.559412\n",
      "1294_at   10.358834 10.427655 10.756256 11.168283 10.975448 10.740981 9.655818\n",
      "1316_at    6.827422  7.713795  6.828674  6.792574  7.519319  7.886684 6.910686\n",
      "160020_at  0.000000  0.000000  8.030379  0.000000  0.000000  7.778737 7.843510\n",
      "           P031_D8   P032_D8  P033_D8   P034_D8   P035_D8   P036_D8   P094_D8\n",
      "1053_at   9.464763  9.748310 8.963423  8.590998  8.806724  8.445394  9.346338\n",
      "117_at    0.000000  0.000000 0.000000  0.000000  0.000000  0.000000  0.000000\n",
      "121_at    9.805066  8.847967 9.069498  8.075774  8.463694  7.723687  8.872042\n",
      "1294_at   9.075928 10.333061 9.401982 10.924426 10.964011 10.509104 10.540815\n",
      "1316_at   0.000000  7.052051 6.996083  7.328913  7.580769  7.447804  6.114678\n",
      "160020_at 7.939874  0.000000 0.000000  6.920495  0.000000  7.197675  7.537417\n",
      "           P099_D8  P106_D8  P120_D8  P121_D8  P127_D8  P135_D8  P136_D8\n",
      "1053_at   8.829511 8.268267 8.540785 8.190058 8.029041 8.645471 8.821086\n",
      "117_at    7.295289 7.438728 7.406695 6.966118 7.029444 6.327216 5.999034\n",
      "121_at    7.330618 8.275574 7.908508 8.341424 8.665453 8.573423 8.326813\n",
      "1294_at   9.261590 8.876953 9.502455 9.248981 9.274500 9.721368 9.689938\n",
      "1316_at   6.215938 6.843446 6.719098 6.797327 7.145282 8.074832 8.328516\n",
      "160020_at 6.510270 7.375216 6.456654 6.949062 7.296984 7.080220 7.093067\n",
      "           P147_D8  P156_D8  P165_D8  P166_D8   P172_D8\n",
      "1053_at   8.377494 8.293652 8.291241 7.420507  8.752826\n",
      "117_at    7.573976 6.512485 9.413776 9.977889  6.470444\n",
      "121_at    8.450265 8.404058 8.200912 8.784835  8.427314\n",
      "1294_at   9.444928 9.800747 9.441122 9.399280 10.092899\n",
      "1316_at   7.778009 7.575565 7.486209 7.844395  7.456326\n",
      "160020_at 6.858562 7.396511 7.422382 7.213736  7.368683\n",
      "[1] \"No. of NaN values in log-fc = 0\"\n",
      "[1] \"No. of probesets excluded by expr threshold = 710\"\n",
      "[1] \"No. of features (p-value) = 2765\"\n",
      "[1] \"No. of features (log2-fc) = 507\"\n"
     ]
    }
   ],
   "source": [
    "X_normal <- data[, sid_normal]\n",
    "list_X_subtypes7 <- lapply(\n",
    "  subtypes7,\n",
    "  function(subtype) data[,\n",
    "    sid_alltrain_local[Y[sid_alltrain_local, \"subtype\"] == subtype]\n",
    "  ]\n",
    ")\n",
    "list_genes <- lapply(\n",
    "  list_X_subtypes7,\n",
    "  get_local_genes_pipeline,\n",
    "  X_normal, Y, yeoh_label,\n",
    "  batch_genes\n",
    ")\n",
    "names(list_genes) <- subtypes7"
   ]
  },
  {
   "cell_type": "code",
   "execution_count": 188,
   "metadata": {
    "scrolled": true
   },
   "outputs": [],
   "source": [
    "# D0-D33 data set\n",
    "pid_pairs <- substring(colnames(yeoh_d33), 1, 4)\n",
    "# Not in hypodiploid or normal\n",
    "# Has to have MRD value\n",
    "pid_pairs_fltr <- pid_pairs[\n",
    "  !(yeoh_label[pid_pairs, 'subtype'] %in% c('Hypodiploid', 'Normal', 'MLL')) &\n",
    "  !is.na(yeoh_label[pid_pairs, 'd33_mrd'])\n",
    "]"
   ]
  },
  {
   "cell_type": "code",
   "execution_count": 198,
   "metadata": {
    "scrolled": false
   },
   "outputs": [
    {
     "name": "stdout",
     "output_type": "stream",
     "text": [
      "% latex table generated in R 3.5.1 by xtable 1.8-4 package\n",
      "% Fri Sep 10 02:43:10 2021\n",
      "\\begin{table}[ht]\n",
      "\\centering\n",
      "\\begin{tabular}{rrr}\n",
      "  \\hline\n",
      " & 0 & 1 \\\\ \n",
      "  \\hline\n",
      "BCR-ABL &   1 &   1 \\\\ \n",
      "  E2A-PBX1 &   3 &   0 \\\\ \n",
      "  Hyperdiploid &   6 &   1 \\\\ \n",
      "  Hypodiploid &   0 &   0 \\\\ \n",
      "  MLL &   0 &   0 \\\\ \n",
      "  Others &  17 &   5 \\\\ \n",
      "  T-ALL &   3 &   1 \\\\ \n",
      "  TEL-AML1 &   9 &   3 \\\\ \n",
      "   \\hline\n",
      "\\end{tabular}\n",
      "\\end{table}\n"
     ]
    }
   ],
   "source": [
    "metadata_sid_pairs <- yeoh_label[pid_pairs_fltr, ]\n",
    "print(xtable(table(metadata_sid_pairs$subtype, metadata_sid_pairs$label)))"
   ]
  },
  {
   "cell_type": "code",
   "execution_count": 201,
   "metadata": {},
   "outputs": [],
   "source": [
    "sid_pairs <- c(\n",
    "  paste0(pid_pairs_fltr, '_D8'),\n",
    "  paste0(pid_pairs_fltr, '_D33')\n",
    ")\n",
    "d0_d33 <- cbind(data, yeoh_d33)[, sid_pairs]"
   ]
  },
  {
   "cell_type": "code",
   "execution_count": 202,
   "metadata": {},
   "outputs": [],
   "source": [
    "#' ASSUMPTION: X_train is filtered of NA MRD values and contains all features!\n",
    "#' @param X_train dataframe of training set (incl. MRD) with patients x features\n",
    "#' @param Y dataframe of metadata with samples x info\n",
    "#' @param bigpos_names vector of feature names where bigger is positive\n",
    "#' @param smallpos_names vector of feature names where smaller is positive\n",
    "#' @param X_test dataframe of test set (incl. MRD)\n",
    "predict_plot_d8_d33 <- function(X_train, Y,\n",
    "                         bigpos_names,\n",
    "                         smallpos_names,\n",
    "                         X_test = NULL) {  \n",
    "  # If test set is present, predict test set\n",
    "  if (is.null(X_test)) {\n",
    "    X_predict <- X_train\n",
    "  } else {\n",
    "    X_predict <- X_test\n",
    "  }\n",
    "  \n",
    "  p_remission_x <- calc_p_remission_x(\n",
    "    X_train, Y,\n",
    "    bigpos_names,\n",
    "    smallpos_names,\n",
    "    X_predict\n",
    "  )\n",
    "  proba <- p_remission_x # OPTION!\n",
    "  \n",
    "  # Select features\n",
    "  X_fltr_train <- X_train[, c(bigpos_names, smallpos_names)]\n",
    "  X_fltr_predict <- X_predict[, c(bigpos_names, smallpos_names)]\n",
    "  \n",
    "  # Select p(remission|x)\n",
    "  p <- proba[, \"p\", drop = F] # OPTION!\n",
    "  colnames(p) <- \"p_rem\"\n",
    "  # Concatenate features and probabilities\n",
    "  X_y <- cbind(\n",
    "    X_fltr_predict,\n",
    "    p,\n",
    "    label = proba$label\n",
    "  )\n",
    "  \n",
    "  X_y$mrd <- log10(X_y$mrd) # log-transform mrd\n",
    "  colnames(X_y)[colnames(X_y) == \"mrd\"] <- \"log_mrd\"\n",
    "\n",
    "  long_X_y <- melt(X_y, id = \"label\", variable.name = \"feature\")             \n",
    "  \n",
    "  FEAT_ORDER <- c(\n",
    "    \"erm1_ratio2\", \"l2norm_ratio2\",\n",
    "    \"angle_d0d8_d0normal\", \"log_mrd\", \"p_rem\"\n",
    "  )\n",
    "  FEAT_LABS <- c(\n",
    "    \"'ERM Ratio'\", \"'ARM Ratio'\", \"theta\",\n",
    "    \"log[10](MRD)\", \"paste('P(Remission|', bold(x), ')')\"\n",
    "  )\n",
    "  long_X_y$feature <- factor(\n",
    "    long_X_y$feature,\n",
    "    levels = FEAT_ORDER,\n",
    "    labels = FEAT_LABS\n",
    "  ) # Reorder levels\n",
    "\n",
    "  ##### PLOTS #####\n",
    "  ax_jitter <- ggplot(\n",
    "    long_X_y,\n",
    "    aes(x = feature, y = value, colour = label)\n",
    "  ) +\n",
    "    geom_boxplot(alpha = 0, show.legend = F) +\n",
    "    geom_point(position = position_jitterdodge(),\n",
    "               cex = 2, show.legend = F) +\n",
    "    scale_color_manual(values = COL_LABEL) +\n",
    "    facet_wrap(\n",
    "      ~feature,\n",
    "      nrow = 1, scales = \"free\",\n",
    "      labeller = label_parsed\n",
    "    ) +\n",
    "    theme(\n",
    "      axis.title.x = element_blank(),\n",
    "      axis.text.x = element_blank(),\n",
    "      axis.title.y = element_blank(),\n",
    "      legend.position = \"none\"\n",
    "    )\n",
    "  \n",
    "  # Jitter plot: p-value label\n",
    "  # Both group sizes must be > 1\n",
    "  if (length(table(X_y$label)) > 1 && min(table(X_y$label)) > 1) {\n",
    "    list_p_rem <- split(X_y$p_rem, X_y$label)\n",
    "    \n",
    "    try({\n",
    "      ttest <- t.test(list_p_rem[[1]], list_p_rem[[2]])\n",
    "      p_lab <- sprintf(\"p = %.3f\", ttest$p.value)\n",
    "      \n",
    "      ann_text <- data.frame(\n",
    "        feature = factor(\n",
    "          FEAT_ORDER[5],\n",
    "          levels = FEAT_ORDER,\n",
    "          labels = FEAT_LABS\n",
    "        ),\n",
    "        value = Inf,\n",
    "        lab =  p_lab\n",
    "      )\n",
    "\n",
    "      ax_jitter <- ax_jitter +\n",
    "        geom_text(data = ann_text,\n",
    "                  aes(x = feature, y = value, label = lab),\n",
    "                  size = 3, colour = \"black\",\n",
    "                  vjust = 3, hjust = -0.1)\n",
    "      })\n",
    "  }\n",
    "  \n",
    "  ## Plot: Parallel coordinates - Pct\n",
    "  proba1 <- proba[, !(colnames(proba) == \"p_wo_mrd\")]\n",
    "  long_proba <- melt(proba1, id = c(\"pid\", \"label\"),\n",
    "                    variable.name = \"feature\")\n",
    "             \n",
    "  ax_parallel <- ggplot(long_proba,\n",
    "                        aes(feature, value, colour = label, group = pid)) +\n",
    "    geom_line(show.legend = F) +\n",
    "    scale_color_manual(values = COL_LABEL)\n",
    "  \n",
    "  ## PLOT: CDF\n",
    "  emp_cdf <- ggplot(proba, aes(x = p, colour = label)) +\n",
    "    stat_ecdf(show.legend = F) +\n",
    "    scale_color_manual(values = COL_LABEL)\n",
    "  \n",
    "  ## PLOT: RELATIVE RISK & ODDS RATIO\n",
    "  p_sorted <- proba[order(proba$p),]\n",
    "  p_sorted$label <- as.numeric(as.character(p_sorted$label))\n",
    "  p_sorted$total_le <- rank(p_sorted$p, ties.method = \"max\")\n",
    "  p_sorted$total_g <- nrow(p_sorted) - p_sorted$total_le\n",
    "  p_sorted$relapse_le <- sapply(p_sorted$total_le,\n",
    "                                function(i) sum(p_sorted$label[1:i]))\n",
    "  p_sorted$relapse_g <- sum(p_sorted$label) - p_sorted$relapse_le\n",
    "  \n",
    "  p_sorted <- within(\n",
    "    p_sorted,\n",
    "    relative_risk <- (relapse_le/total_le) / (relapse_g/total_g)\n",
    "  )\n",
    "  \n",
    "  p_sorted <- within(\n",
    "    p_sorted,\n",
    "    odds_ratio <- (relapse_le/(total_le-relapse_le)) / (relapse_g/(total_g-relapse_g))\n",
    "  )\n",
    "                                 \n",
    "  ax_rr_or <- ggplot(p_sorted) +\n",
    "    geom_step(aes(p, relative_risk, colour = \"RR\"), direction = \"hv\") + \n",
    "    geom_step(aes(p, odds_ratio, colour = \"OR\"), direction = \"hv\") +\n",
    "    scale_color_manual(\"\",\n",
    "                       breaks = c(\"RR\", \"OR\"),\n",
    "                       values = c(\"RR\" = \"orange\", \"OR\" = \"steelblue3\")) +\n",
    "    theme(axis.title.y = element_blank())\n",
    "  \n",
    "  ## Plot: ROC\n",
    "  # ERM1 evaluated is not from global GSS model\n",
    "  proba_x <- cbind(proba, erm = X_predict$erm1, d33_mrd = X_predict$mrd) # subset mrd\n",
    "                                \n",
    "  x_names <- c(\"p\", \"erm\", \"d33_mrd\")\n",
    "  # WARNING: Change bigger.positive according to features!\n",
    "  bigger.positive <- c(F, T, F) # bigger means relapse\n",
    "  \n",
    "  # ROC can only be plotted when there are both positive and negative samples\n",
    "  if (all(table(proba_x$label) != 0)) {\n",
    "    ax_roc <- plot_roc(proba_x, \"label\", x_names)\n",
    "    # Able to plot ROC\n",
    "    ax2 <- plot_grid(ax_parallel, ax_roc,\n",
    "                     ncol = 2, rel_widths = c(1.8, 1))\n",
    "  } else{\n",
    "    ax2 <- ax_parallel # unable to plot ROC\n",
    "  }\n",
    "  \n",
    "  # Plot: MRD v.s. Risk of relapse\n",
    "  mrd_p <- ggplot(proba_x) +\n",
    "    geom_point(aes(p, log10(d33_mrd), colour = label),\n",
    "               cex = 3, show.legend = F) +\n",
    "    scale_color_manual(values = COL_LABEL)\n",
    "                                \n",
    "  ax1 <- plot_grid(ax_jitter, mrd_p,\n",
    "                   ncol = 2, rel_widths = c(2.8, 1))\n",
    "  \n",
    "  fig <- plot_grid(ax1, ax2, nrow = 2)\n",
    "  \n",
    "  list(\n",
    "    p_rem = p,\n",
    "    P = proba,\n",
    "    X_y = X_y,\n",
    "    plot = fig\n",
    "  )\n",
    "}"
   ]
  },
  {
   "cell_type": "code",
   "execution_count": 204,
   "metadata": {},
   "outputs": [],
   "source": [
    "#' Does not perform PCA transform on data\n",
    "#' Used to predict relapse for all subtypes\n",
    "#' X df containing all subtypes of patients in arg: pid and normal patients\n",
    "#' @param pid vector of pid belonging to both D0 and D8 patients (identically ordered)\n",
    "#' @return list containing prediction plot and vector coordinates\n",
    "predict_pipeline_d8_d33 <- function(\n",
    "  subtype, X, X_normal,\n",
    "  annot, annot_mrd,\n",
    "  batch_genes = NULL\n",
    ") {\n",
    "  X_subtype <- X[, annot[colnames(X), 'subtype'] == subtype]\n",
    "  \n",
    "  sid_remission <- colnames(X_subtype)[\n",
    "    annot[colnames(X_subtype), \"label\"] == 0\n",
    "  ]\n",
    "  \n",
    "  class_genes <- list_genes[[subtype]]\n",
    "  \n",
    "  if (is.null(batch_genes)) {\n",
    "    selected_genes <- class_genes\n",
    "  } else {\n",
    "    selected_genes <- setdiff(class_genes, batch_genes)\n",
    "  }\n",
    "  \n",
    "  print(c(\"No. of selected genes = \", length(class_genes)))\n",
    "  print(c(\"No. of final genes = \", length(selected_genes)))\n",
    "  \n",
    "  # Subtype and normal samples\n",
    "  response <- t(X_subtype[selected_genes, ])\n",
    "  normal <- t(X_normal[selected_genes, ])\n",
    "  \n",
    "  # Collate MRD results as well\n",
    "  V <- compute_features(response, normal, colnames(X_subtype), sid_remission)\n",
    "  V$mrd <- annot_mrd[rownames(V), \"d33_mrd\"]\n",
    "  \n",
    "  prediction_obj <- predict_plot_d8_d33(\n",
    "    V, annot,                             \n",
    "    bigpos_names = \"angle_d0d8_d0normal\",\n",
    "    smallpos_names = c(\"erm1_ratio2\", \"l2norm_ratio2\", \"mrd\")\n",
    "  )\n",
    "  \n",
    "  return(V)\n",
    "}"
   ]
  },
  {
   "cell_type": "code",
   "execution_count": 215,
   "metadata": {
    "scrolled": true
   },
   "outputs": [
    {
     "name": "stdout",
     "output_type": "stream",
     "text": [
      "[1] \"No. of selected genes = \" \"21\"                      \n",
      "[1] \"No. of final genes = \" \"14\"                   \n",
      "[1] \"P053_D8\" \"P057_D8\"\n",
      "[1] \"NO. OF SAMPLES IN CENTROID: 1\"\n"
     ]
    },
    {
     "name": "stderr",
     "output_type": "stream",
     "text": [
      "Setting levels: control = 0, case = 1\n",
      "Setting direction: controls > cases\n",
      "Setting levels: control = 0, case = 1\n",
      "Setting direction: controls > cases\n",
      "Setting levels: control = 0, case = 1\n",
      "Setting direction: controls < cases\n",
      "Coordinate system already present. Adding new coordinate system, which will replace the existing one.\n"
     ]
    },
    {
     "name": "stdout",
     "output_type": "stream",
     "text": [
      "[1] \"No. of selected genes = \" \"239\"                     \n",
      "[1] \"No. of final genes = \" \"164\"                  \n",
      "[1] \"P049_D8\" \"P050_D8\" \"P051_D8\"\n",
      "[1] \"NO. OF SAMPLES IN CENTROID: 3\"\n",
      "[1] \"No. of selected genes = \" \"281\"                     \n",
      "[1] \"No. of final genes = \" \"216\"                  \n",
      "[1] \"P037_D8\" \"P038_D8\" \"P039_D8\" \"P041_D8\" \"P043_D8\" \"P046_D8\" \"P048_D8\"\n",
      "[1] \"NO. OF SAMPLES IN CENTROID: 6\"\n"
     ]
    },
    {
     "name": "stderr",
     "output_type": "stream",
     "text": [
      "Setting levels: control = 0, case = 1\n",
      "Setting direction: controls < cases\n",
      "Setting levels: control = 0, case = 1\n",
      "Setting direction: controls < cases\n",
      "Setting levels: control = 0, case = 1\n",
      "Setting direction: controls < cases\n",
      "Coordinate system already present. Adding new coordinate system, which will replace the existing one.\n"
     ]
    },
    {
     "name": "stdout",
     "output_type": "stream",
     "text": [
      "[1] \"No. of selected genes = \" \"448\"                     \n",
      "[1] \"No. of final genes = \" \"342\"                  \n",
      " [1] \"P060_D8\" \"P061_D8\" \"P062_D8\" \"P063_D8\" \"P064_D8\" \"P065_D8\" \"P067_D8\"\n",
      " [8] \"P070_D8\" \"P073_D8\" \"P075_D8\" \"P076_D8\" \"P078_D8\" \"P080_D8\" \"P081_D8\"\n",
      "[15] \"P082_D8\" \"P083_D8\" \"P084_D8\" \"P085_D8\" \"P086_D8\" \"P087_D8\" \"P092_D8\"\n",
      "[22] \"P093_D8\"\n",
      "[1] \"NO. OF SAMPLES IN CENTROID: 17\"\n"
     ]
    },
    {
     "name": "stderr",
     "output_type": "stream",
     "text": [
      "Setting levels: control = 0, case = 1\n",
      "Setting direction: controls > cases\n",
      "Setting levels: control = 0, case = 1\n",
      "Setting direction: controls > cases\n",
      "Setting levels: control = 0, case = 1\n",
      "Setting direction: controls < cases\n",
      "Coordinate system already present. Adding new coordinate system, which will replace the existing one.\n"
     ]
    },
    {
     "name": "stdout",
     "output_type": "stream",
     "text": [
      "[1] \"No. of selected genes = \" \"136\"                     \n",
      "[1] \"No. of final genes = \" \"110\"                  \n",
      "[1] \"P001_D8\" \"P007_D8\" \"P008_D8\" \"P010_D8\"\n",
      "[1] \"NO. OF SAMPLES IN CENTROID: 3\"\n"
     ]
    },
    {
     "name": "stderr",
     "output_type": "stream",
     "text": [
      "Setting levels: control = 0, case = 1\n",
      "Setting direction: controls > cases\n",
      "Setting levels: control = 0, case = 1\n",
      "Setting direction: controls > cases\n",
      "Setting levels: control = 0, case = 1\n",
      "Setting direction: controls < cases\n",
      "Coordinate system already present. Adding new coordinate system, which will replace the existing one.\n"
     ]
    },
    {
     "name": "stdout",
     "output_type": "stream",
     "text": [
      "[1] \"No. of selected genes = \" \"505\"                     \n",
      "[1] \"No. of final genes = \" \"371\"                  \n",
      " [1] \"P013_D8\" \"P016_D8\" \"P017_D8\" \"P018_D8\" \"P019_D8\" \"P024_D8\" \"P026_D8\"\n",
      " [8] \"P027_D8\" \"P028_D8\" \"P029_D8\" \"P036_D8\" \"P094_D8\"\n",
      "[1] \"NO. OF SAMPLES IN CENTROID: 9\"\n"
     ]
    },
    {
     "name": "stderr",
     "output_type": "stream",
     "text": [
      "Setting levels: control = 0, case = 1\n",
      "Setting direction: controls < cases\n",
      "Setting levels: control = 0, case = 1\n",
      "Setting direction: controls < cases\n",
      "Setting levels: control = 0, case = 1\n",
      "Setting direction: controls < cases\n",
      "Coordinate system already present. Adding new coordinate system, which will replace the existing one.\n"
     ]
    }
   ],
   "source": [
    "subtypes6 <- setdiff(subtypes7, 'MLL')\n",
    "X_normal <- data[, sid_normal]\n",
    "\n",
    "list_results <- lapply(\n",
    "  subtypes6,\n",
    "  predict_pipeline_d8_d33,\n",
    "  d0_d33, X_normal, annot_all, yeoh_label,\n",
    "  batch_genes\n",
    ")\n",
    "names(list_results) <- subtypes6"
   ]
  },
  {
   "cell_type": "markdown",
   "metadata": {},
   "source": [
    "- Hyperdiploid: Relapse D33 sample was close to normal but D8 sample was far away -> Good response from D8-D33\n"
   ]
  },
  {
   "cell_type": "code",
   "execution_count": 257,
   "metadata": {},
   "outputs": [
    {
     "data": {
      "image/png": "[encoded data removed]",
      "text/plain": [
       "plot without title"
      ]
     },
     "metadata": {},
     "output_type": "display_data"
    }
   ],
   "source": [
    "# TO-DO: Return D8-D33 ERM, D33-N distances, D8-N distances\n",
    "# Plot pair-wise plots of the above\n",
    "v_hyperdiploid <- list_results[['TEL-AML1']]\n",
    "v_y <- cbind(\n",
    "  v_hyperdiploid,\n",
    "  yeoh_label[rownames(v_hyperdiploid), ]\n",
    ")\n",
    "\n",
    "ax1 <- ggplot(v_y, aes(erm1_ratio2, d8_normal_proj, fill = label)) +\n",
    "  geom_point(pch = 21, cex = 3) +\n",
    "  scale_fill_manual(values = COL_LABEL)\n",
    "\n",
    "ax2 <- ggplot(v_y, aes(erm1_ratio2, erm1, fill = label)) +\n",
    "  geom_point(pch = 21, cex = 3) +\n",
    "  scale_fill_manual(values = COL_LABEL)\n",
    "\n",
    "ax3 <- ggplot(v_y, aes(d8_normal_proj, d0_normal_proj, fill = label)) +\n",
    "  geom_point(pch = 21, cex = 3) +\n",
    "  scale_fill_manual(values = COL_LABEL)\n",
    "\n",
    "plot_grid(ax1, ax2, ax3, nrow = 1)\n",
    "# D33-N distances correlated with CD19 expression level of D33?"
   ]
  },
  {
   "cell_type": "code",
   "execution_count": 194,
   "metadata": {},
   "outputs": [
    {
     "name": "stderr",
     "output_type": "stream",
     "text": [
      "Warning message in wilcox.test.default(list_feat[[1]], list_feat[[2]], exact = T):\n",
      "“cannot compute exact p-value with ties”Warning message in wilcox.test.default(list_feat[[1]], list_feat[[2]], exact = T):\n",
      "“cannot compute exact p-value with ties”Warning message in wilcox.test.default(list_feat[[1]], list_feat[[2]], exact = T):\n",
      "“cannot compute exact p-value with ties”Warning message in wilcox.test.default(list_feat[[1]], list_feat[[2]], exact = T):\n",
      "“cannot compute exact p-value with ties”"
     ]
    }
   ],
   "source": [
    "## M1: Entire data (with Hyperdiploid, Others)\n",
    "list_feat_boxplots <- lapply(list_results, function(obj) plot_boxplots(obj$X_y))\n",
    "names(list_feat_boxplots) <- subtypes6\n",
    "\n",
    "for (subtype in subtypes6) {\n",
    "  wpath <- sprintf(\"~/Dropbox/tmp/d0_d33-%s.pdf\", subtype)\n",
    "  ggsave(wpath, list_feat_boxplots[[subtype]],\n",
    "         width = 7, height = 2.3)\n",
    "}"
   ]
  },
  {
   "cell_type": "markdown",
   "metadata": {},
   "source": [
    "### Plot boxplots of features"
   ]
  },
  {
   "cell_type": "code",
   "execution_count": 26,
   "metadata": {},
   "outputs": [
    {
     "name": "stdout",
     "output_type": "stream",
     "text": [
      "  label treatment_type             feature    value\n",
      "1     0            BMT angle_d0d8_d0normal 19.30266\n",
      "2     0             HR angle_d0d8_d0normal 14.60372\n",
      "3     0            BMT angle_d0d8_d0normal 40.11626\n",
      "4     1             HR angle_d0d8_d0normal 28.33446\n",
      "5     1            BMT angle_d0d8_d0normal 64.26825\n",
      "6     1             HR angle_d0d8_d0normal 53.41166\n"
     ]
    },
    {
     "name": "stderr",
     "output_type": "stream",
     "text": [
      "Warning message in wilcox.test.default(list_feat[[1]], list_feat[[2]], exact = T):\n",
      "“cannot compute exact p-value with ties”Warning message in wilcox.test.default(list_feat[[1]], list_feat[[2]], exact = T):\n",
      "“cannot compute exact p-value with ties”"
     ]
    },
    {
     "name": "stdout",
     "output_type": "stream",
     "text": [
      "  label treatment_type             feature    value\n",
      "1     0             SR angle_d0d8_d0normal 42.50210\n",
      "2     0             SR angle_d0d8_d0normal 28.47382\n",
      "3     0             IR angle_d0d8_d0normal 33.15841\n",
      "4     1             SR angle_d0d8_d0normal 77.99727\n",
      "5     0             SR angle_d0d8_d0normal 32.41103\n",
      "6     0             SR angle_d0d8_d0normal 29.78878\n",
      "  label treatment_type             feature    value\n",
      "1     0             IR angle_d0d8_d0normal 41.73178\n",
      "2     1             IR angle_d0d8_d0normal 50.76522\n",
      "3     0             SR angle_d0d8_d0normal 46.81432\n",
      "4     0             SR angle_d0d8_d0normal 52.80239\n",
      "5     0             IR angle_d0d8_d0normal 32.49134\n",
      "6     0             SR angle_d0d8_d0normal 31.99495\n"
     ]
    },
    {
     "name": "stderr",
     "output_type": "stream",
     "text": [
      "Warning message in wilcox.test.default(list_feat[[1]], list_feat[[2]], exact = T):\n",
      "“cannot compute exact p-value with ties”Warning message in wilcox.test.default(list_feat[[1]], list_feat[[2]], exact = T):\n",
      "“cannot compute exact p-value with ties”"
     ]
    },
    {
     "name": "stdout",
     "output_type": "stream",
     "text": [
      "  label treatment_type             feature    value\n",
      "1     0             IR angle_d0d8_d0normal 35.84321\n",
      "2     1             HR angle_d0d8_d0normal 40.90082\n",
      "3     1             HR angle_d0d8_d0normal 51.77312\n",
      "4     1             HR angle_d0d8_d0normal 48.53450\n",
      "5     0             HR angle_d0d8_d0normal 34.30453\n",
      "6     1            BMT angle_d0d8_d0normal 37.42251\n"
     ]
    },
    {
     "name": "stderr",
     "output_type": "stream",
     "text": [
      "Warning message in wilcox.test.default(list_feat[[1]], list_feat[[2]], exact = T):\n",
      "“cannot compute exact p-value with ties”Warning message in wilcox.test.default(list_feat[[1]], list_feat[[2]], exact = T):\n",
      "“cannot compute exact p-value with ties”"
     ]
    },
    {
     "name": "stdout",
     "output_type": "stream",
     "text": [
      "  label treatment_type             feature    value\n",
      "1     0             IR angle_d0d8_d0normal 51.72514\n",
      "2     0             IR angle_d0d8_d0normal 33.58666\n",
      "3     0             IR angle_d0d8_d0normal 21.11545\n",
      "4     1             SR angle_d0d8_d0normal 36.43210\n",
      "5     0             HR angle_d0d8_d0normal 52.41036\n",
      "6     0             SR angle_d0d8_d0normal 46.95497\n"
     ]
    },
    {
     "name": "stderr",
     "output_type": "stream",
     "text": [
      "Warning message in wilcox.test.default(list_feat[[1]], list_feat[[2]], exact = T):\n",
      "“cannot compute exact p-value with ties”Warning message in wilcox.test.default(list_feat[[1]], list_feat[[2]], exact = T):\n",
      "“cannot compute exact p-value with ties”"
     ]
    },
    {
     "name": "stdout",
     "output_type": "stream",
     "text": [
      "  label treatment_type             feature    value\n",
      "1     0             IR angle_d0d8_d0normal 24.74263\n",
      "2     0             HR angle_d0d8_d0normal 30.05835\n",
      "3     0             SR angle_d0d8_d0normal 25.96107\n",
      "4     1             HR angle_d0d8_d0normal 42.59169\n",
      "5     0             IR angle_d0d8_d0normal 21.92089\n",
      "6     0             HR angle_d0d8_d0normal 51.81245\n"
     ]
    },
    {
     "name": "stderr",
     "output_type": "stream",
     "text": [
      "Warning message in wilcox.test.default(list_feat[[1]], list_feat[[2]], exact = T):\n",
      "“cannot compute exact p-value with ties”Warning message in wilcox.test.default(list_feat[[1]], list_feat[[2]], exact = T):\n",
      "“cannot compute exact p-value with ties”"
     ]
    },
    {
     "name": "stdout",
     "output_type": "stream",
     "text": [
      "  label treatment_type             feature    value\n",
      "1     0             SR angle_d0d8_d0normal 32.17983\n",
      "2     0             SR angle_d0d8_d0normal 39.77896\n",
      "3     0             IR angle_d0d8_d0normal 45.93771\n",
      "4     0             SR angle_d0d8_d0normal 49.05885\n",
      "5     0             SR angle_d0d8_d0normal 33.22928\n",
      "6     0             HR angle_d0d8_d0normal 65.35109\n"
     ]
    },
    {
     "name": "stderr",
     "output_type": "stream",
     "text": [
      "Warning message in wilcox.test.default(list_feat[[1]], list_feat[[2]], exact = T):\n",
      "“cannot compute exact p-value with ties”Warning message in wilcox.test.default(list_feat[[1]], list_feat[[2]], exact = T):\n",
      "“cannot compute exact p-value with ties”"
     ]
    }
   ],
   "source": [
    "## M1: Entire data (with Hyperdiploid, Others)\n",
    "boxplots <- lapply(list_obj1, function(obj) plot_boxplots1(obj$X_y))"
   ]
  },
  {
   "cell_type": "code",
   "execution_count": 57,
   "metadata": {},
   "outputs": [],
   "source": [
    "for (i in seq_len(length(subtypes7))) {\n",
    "  wpath <- sprintf(\"~/Dropbox/tmp/_alltrain_wilcox-%s.pdf\", subtypes7[i])\n",
    "  ggsave(wpath, list_feat_boxplots[[i]],\n",
    "         width = 7, height = 2.3)\n",
    "}"
   ]
  },
  {
   "cell_type": "markdown",
   "metadata": {},
   "source": [
    "### Overall ROC\n",
    "- Estimating probability of remission by calculating percentage of samples in training set with a worse score\n",
    "- Subtype specific model during estimation\n",
    "- Combine probability predictions into an overall ROC curve"
   ]
  },
  {
   "cell_type": "markdown",
   "metadata": {},
   "source": [
    "### Table of pAUC values (FPR = 0, 0.2)"
   ]
  },
  {
   "cell_type": "code",
   "execution_count": 126,
   "metadata": {},
   "outputs": [
    {
     "name": "stdout",
     "output_type": "stream",
     "text": [
      "              0  1\n",
      "BCR-ABL       5  5\n",
      "E2A-PBX1      5  1\n",
      "Hyperdiploid 31  4\n",
      "MLL           3  4\n",
      "Others       63 20\n",
      "T-ALL         8  2\n",
      "TEL-AML1     29  5\n"
     ]
    }
   ],
   "source": [
    "# Metadata of table pAUC values\n",
    "# Remission samples lie on the FPR\n",
    "roc_metadata <- t(sapply(\n",
    "  list_X_y,\n",
    "  function(X) table(yeoh_label[rownames(X), \"label\"])\n",
    "))\n",
    "rownames(roc_metadata) <- subtypes\n",
    "print(roc_metadata)"
   ]
  },
  {
   "cell_type": "code",
   "execution_count": 100,
   "metadata": {
    "scrolled": true
   },
   "outputs": [
    {
     "name": "stderr",
     "output_type": "stream",
     "text": [
      "Setting levels: control = 0, case = 1\n",
      "Setting direction: controls < cases\n",
      "Setting levels: control = 0, case = 1\n",
      "Setting direction: controls > cases\n",
      "Setting levels: control = 0, case = 1\n",
      "Setting direction: controls > cases\n",
      "Setting levels: control = 0, case = 1\n",
      "Setting direction: controls < cases\n",
      "Setting levels: control = 0, case = 1\n",
      "Setting direction: controls > cases\n",
      "Setting levels: control = 0, case = 1\n",
      "Setting direction: controls > cases\n",
      "Warning message in auc.roc(roc, ...):\n",
      "“Partial AUC correction not defined for ROC curves below the diagonal.”Setting levels: control = 0, case = 1\n",
      "Setting direction: controls < cases\n",
      "Setting levels: control = 0, case = 1\n",
      "Setting direction: controls > cases\n",
      "Setting levels: control = 0, case = 1\n",
      "Setting direction: controls > cases\n",
      "Setting levels: control = 0, case = 1\n",
      "Setting direction: controls < cases\n",
      "Warning message in auc.roc(roc, ...):\n",
      "“Partial AUC correction not defined for ROC curves below the diagonal.”Setting levels: control = 0, case = 1\n",
      "Setting direction: controls > cases\n",
      "Setting levels: control = 0, case = 1\n",
      "Setting direction: controls > cases\n",
      "Setting levels: control = 0, case = 1\n",
      "Setting direction: controls < cases\n",
      "Setting levels: control = 0, case = 1\n",
      "Setting direction: controls > cases\n",
      "Setting levels: control = 0, case = 1\n",
      "Setting direction: controls > cases\n",
      "Setting levels: control = 0, case = 1\n",
      "Setting direction: controls < cases\n",
      "Setting levels: control = 0, case = 1\n",
      "Setting direction: controls > cases\n",
      "Setting levels: control = 0, case = 1\n",
      "Setting direction: controls > cases\n",
      "Setting levels: control = 0, case = 1\n",
      "Setting direction: controls < cases\n",
      "Setting levels: control = 0, case = 1\n",
      "Setting direction: controls > cases\n",
      "Setting levels: control = 0, case = 1\n",
      "Setting direction: controls > cases\n",
      "Setting levels: control = 0, case = 1\n",
      "Setting direction: controls < cases\n",
      "Setting levels: control = 0, case = 1\n",
      "Setting direction: controls > cases\n",
      "Setting levels: control = 0, case = 1\n",
      "Setting direction: controls > cases\n",
      "Setting levels: control = 0, case = 1\n",
      "Setting direction: controls < cases\n",
      "Setting levels: control = 0, case = 1\n",
      "Setting direction: controls > cases\n",
      "Setting levels: control = 0, case = 1\n",
      "Setting direction: controls > cases\n",
      "Setting levels: control = 0, case = 1\n",
      "Setting direction: controls < cases\n",
      "Setting levels: control = 0, case = 1\n",
      "Setting direction: controls > cases\n",
      "Setting levels: control = 0, case = 1\n",
      "Setting direction: controls > cases\n",
      "Setting levels: control = 0, case = 1\n",
      "Setting direction: controls < cases\n",
      "Setting levels: control = 0, case = 1\n",
      "Setting direction: controls > cases\n",
      "Setting levels: control = 0, case = 1\n",
      "Setting direction: controls > cases\n",
      "Setting levels: control = 0, case = 1\n",
      "Setting direction: controls < cases\n",
      "Warning message in auc.roc(roc, ...):\n",
      "“Partial AUC correction not defined for ROC curves below the diagonal.”Setting levels: control = 0, case = 1\n",
      "Setting direction: controls > cases\n",
      "Setting levels: control = 0, case = 1\n",
      "Setting direction: controls < cases\n",
      "Warning message in auc.roc(roc, ...):\n",
      "“Partial AUC correction not defined for ROC curves below the diagonal.”Setting levels: control = 0, case = 1\n",
      "Setting direction: controls < cases\n",
      "Setting levels: control = 0, case = 1\n",
      "Setting direction: controls > cases\n",
      "Setting levels: control = 0, case = 1\n",
      "Setting direction: controls > cases\n",
      "Setting levels: control = 0, case = 1\n",
      "Setting direction: controls < cases\n",
      "Setting levels: control = 0, case = 1\n",
      "Setting direction: controls > cases\n",
      "Setting levels: control = 0, case = 1\n",
      "Setting direction: controls > cases\n"
     ]
    }
   ],
   "source": [
    "feats <- c(\n",
    "  \"angle_d0d8_d0normal\", \"erm1_ratio2\", \"l2norm_ratio2\",\n",
    "  \"log_mrd\", \"p_rem\", \"global_erm\"\n",
    ")\n",
    "\n",
    "list_rocs <- lapply(\n",
    "  list_X_y,\n",
    "  plot_roc,\n",
    "  response = \"label\",\n",
    "  predictor = feats,\n",
    "  pauc.limits = c(1, 0.8),\n",
    "  pauc.axis = \"specificity\",\n",
    "  return.auc = T,\n",
    ")"
   ]
  },
  {
   "cell_type": "code",
   "execution_count": 101,
   "metadata": {},
   "outputs": [],
   "source": [
    "list_rocplots <- lapply(list_rocs, function(obj) obj$plot)\n",
    "list_aucs <- lapply(list_rocs, function(obj) obj$auc)"
   ]
  },
  {
   "cell_type": "code",
   "execution_count": 453,
   "metadata": {},
   "outputs": [
    {
     "name": "stdout",
     "output_type": "stream",
     "text": [
      "[1] \"~/Dropbox/temp/roc-BCR-ABL.pdf\"\n",
      "[1] \"~/Dropbox/temp/roc-E2A-PBX1.pdf\"\n",
      "[1] \"~/Dropbox/temp/roc-Hyperdiploid.pdf\"\n",
      "[1] \"~/Dropbox/temp/roc-MLL.pdf\"\n",
      "[1] \"~/Dropbox/temp/roc-Others.pdf\"\n",
      "[1] \"~/Dropbox/temp/roc-T-ALL.pdf\"\n",
      "[1] \"~/Dropbox/temp/roc-TEL-AML1.pdf\"\n"
     ]
    }
   ],
   "source": [
    "# for (i in seq_along(list_rocplots)) {\n",
    "#   wpath <- sprintf(\"~/Dropbox/temp/roc-%s.pdf\", subtypes[i])\n",
    "#   print(wpath)\n",
    "#   ggsave(wpath, list_rocplots[[i]], width = 6, height = 6)\n",
    "# }"
   ]
  },
  {
   "cell_type": "code",
   "execution_count": 107,
   "metadata": {},
   "outputs": [
    {
     "name": "stdout",
     "output_type": "stream",
     "text": [
      "                 p_rem   log_mrd global_erm\n",
      "BCR-ABL      0.7777778 0.8888889         NA\n",
      "E2A-PBX1     1.0000000        NA  1.0000000\n",
      "Hyperdiploid 0.6330645 0.7222222  0.6102151\n",
      "MLL          1.0000000 0.7222222  0.5833333\n",
      "Others       0.5017637 0.6710317  0.5194004\n",
      "T-ALL        0.7395833        NA         NA\n",
      "TEL-AML1     0.7394636 0.5905492  0.6628352\n",
      "% latex table generated in R 3.5.1 by xtable 1.8-4 package\n",
      "% Fri Mar 12 15:18:47 2021\n",
      "\\begin{table}[ht]\n",
      "\\centering\n",
      "\\begin{tabular}{rrrr}\n",
      "  \\hline\n",
      " & p\\_rem & log\\_mrd & global\\_erm \\\\ \n",
      "  \\hline\n",
      "BCR-ABL & 0.778 & 0.889 &  \\\\ \n",
      "  E2A-PBX1 & 1.000 &  & 1.000 \\\\ \n",
      "  Hyperdiploid & 0.633 & 0.722 & 0.610 \\\\ \n",
      "  MLL & 1.000 & 0.722 & 0.583 \\\\ \n",
      "  Others & 0.502 & 0.671 & 0.519 \\\\ \n",
      "  T-ALL & 0.740 &  &  \\\\ \n",
      "  TEL-AML1 & 0.739 & 0.591 & 0.663 \\\\ \n",
      "   \\hline\n",
      "\\end{tabular}\n",
      "\\end{table}\n"
     ]
    }
   ],
   "source": [
    "names(list_aucs) <- subtypes\n",
    "auc_tab <- do.call(rbind, list_aucs)\n",
    "print(auc_tab[, c(5,4,6)])\n",
    "print(xtable(auc_tab[, c(5,4,6)], digits = 3))"
   ]
  },
  {
   "cell_type": "markdown",
   "metadata": {},
   "source": [
    "### Test data (w Hyper, Others)"
   ]
  },
  {
   "cell_type": "code",
   "execution_count": 454,
   "metadata": {},
   "outputs": [],
   "source": [
    "# Concatenate global ERM to X_y\n",
    "# OPTION: list_obj1 created with variant function predict_plot\n",
    "list_X_y <- lapply(\n",
    "  list_obj,\n",
    "  function(obj, global_erm) {\n",
    "    cbind(obj$X_y,\n",
    "          global_erm = global_erm[rownames(obj$X_y), ])\n",
    "  },\n",
    "  global_erm_test1\n",
    ")"
   ]
  },
  {
   "cell_type": "code",
   "execution_count": 519,
   "metadata": {
    "scrolled": true
   },
   "outputs": [
    {
     "name": "stdout",
     "output_type": "stream",
     "text": [
      "                feature    value       lab\n",
      "log_mrd    log[10](MRD) -4.00000 p = 0.097\n",
      "global_erm 'Global ERM' 56.07634 p = 0.815\n",
      "                                       feature    value       lab\n",
      "log_mrd                           log[10](MRD) -5.00000 p = 0.161\n",
      "global_erm                        'Global ERM' 87.29912 p = 0.176\n",
      "p_rem      paste('P(Remission|', bold(x), ')')  0.92500 p = 0.369\n",
      "                                       feature      value       lab\n",
      "log_mrd                           log[10](MRD) -5.0000000 p = 0.004\n",
      "global_erm                        'Global ERM' 98.3373024 p = 0.271\n",
      "p_rem      paste('P(Remission|', bold(x), ')')  0.8076923 p = 0.679\n"
     ]
    }
   ],
   "source": [
    "list_boxplots <- lapply(list_X_y, plot_boxplot)\n",
    "for (i in seq_len(length(subtypes))) {\n",
    "  wpath <- sprintf(\"~/Dropbox/temp/features_test-%s.pdf\",\n",
    "                   subtypes[i])\n",
    "  ggsave(wpath, list_boxplots[[i]],\n",
    "         width = 10, height = 3)\n",
    "}"
   ]
  },
  {
   "cell_type": "markdown",
   "metadata": {},
   "source": [
    "#### Relapse prediction (Hyperdiploid)"
   ]
  },
  {
   "cell_type": "code",
   "execution_count": 738,
   "metadata": {
    "scrolled": true
   },
   "outputs": [
    {
     "name": "stdout",
     "output_type": "stream",
     "text": [
      "[1] \"No. of NaN values in log-fc = 0\"\n",
      "[1] \"No. of probesets excluded by expr threshold = 715\"\n",
      "[1] \"No. of features (p-value) = 2592\"\n",
      "[1] \"No. of features (log2-fc) = 285\"\n",
      "[1] \"No. of selected genes = \" \"284\"                     \n",
      "[1] \"No. of final genes = \" \"217\"                  \n",
      " [1] \"P037_D0\" \"P038_D0\" \"P039_D0\" \"P040_D0\" \"P041_D0\" \"P042_D0\" \"P043_D0\"\n",
      " [8] \"P044_D0\" \"P046_D0\" \"P047_D0\" \"P048_D0\" \"P098_D0\" \"P100_D0\" \"P109_D0\"\n",
      "[15] \"P115_D0\" \"P129_D0\" \"P133_D0\" \"P138_D0\" \"P139_D0\" \"P140_D0\" \"P148_D0\"\n",
      "[22] \"P153_D0\" \"P154_D0\" \"P155_D0\" \"P157_D0\" \"P159_D0\" \"P162_D0\" \"P164_D0\"\n",
      "[29] \"P169_D0\" \"P176_D0\" \"P178_D0\" \"P182_D0\" \"P183_D0\" \"P189_D0\" \"P195_D0\"\n",
      "[36] \"P196_D0\" \"P207_D0\" \"P208_D0\" \"P037_D8\" \"P038_D8\" \"P039_D8\" \"P040_D8\"\n",
      "[43] \"P041_D8\" \"P042_D8\" \"P043_D8\" \"P044_D8\" \"P046_D8\" \"P047_D8\" \"P048_D8\"\n",
      "[50] \"P098_D8\" \"P100_D8\" \"P109_D8\" \"P115_D8\" \"P129_D8\" \"P133_D8\" \"P138_D8\"\n",
      "[57] \"P139_D8\" \"P140_D8\" \"P148_D8\" \"P153_D8\" \"P154_D8\" \"P155_D8\" \"P157_D8\"\n",
      "[64] \"P159_D8\" \"P162_D8\" \"P164_D8\" \"P169_D8\" \"P176_D8\" \"P178_D8\" \"P182_D8\"\n",
      "[71] \"P183_D8\" \"P189_D8\" \"P195_D8\" \"P196_D8\" \"P207_D8\" \"P208_D8\"\n",
      "[1] \"N01\" \"N02\" \"N04\"\n"
     ]
    },
    {
     "name": "stderr",
     "output_type": "stream",
     "text": [
      "Warning message:\n",
      "“Removed 1 rows containing missing values (geom_path).”Warning message:\n",
      "“Removed 1 rows containing missing values (geom_path).”Warning message:\n",
      "“Removed 3 rows containing missing values (geom_path).”Warning message:\n",
      "“Removed 3 rows containing missing values (geom_point).”"
     ]
    },
    {
     "name": "stdout",
     "output_type": "stream",
     "text": [
      " [1] 1 2 1 1 1 1 1 1 1 1 1 1 1 1 2 2 1 1 1 1 1 1 1 1 1 1 1 2 1 1 1 1 1 2 1 1 1 1\n"
     ]
    }
   ],
   "source": [
    "subtype <- \"Hyperdiploid\"\n",
    "wpath1 <- \"~/Dropbox/temp/vectors_label-Hyperdiploid.pdf\"\n",
    "pid_subtype <- rownames(Y)[Y$subtype == subtype]\n",
    "avg_p <- predict_relapse(pid_subtype, data, pid_remission, metadata_df,\n",
    "                         batch_genes = batch_genes,\n",
    "                         wpath1 = wpath1)"
   ]
  },
  {
   "cell_type": "markdown",
   "metadata": {},
   "source": [
    "#### Plot x v.s. TPR"
   ]
  },
  {
   "cell_type": "code",
   "execution_count": null,
   "metadata": {},
   "outputs": [],
   "source": [
    "plot_tpr1 <- function(x, name, col){\n",
    "  sort_x <- sort(x)\n",
    "  rank_x <- rank(sort_x, ties.method = \"max\")\n",
    "  TPR <- rank_x / length(x)\n",
    "  plot(TPR, sort_x, ylab = name, col = col, type = \"l\")\n",
    "}\n",
    "\n",
    "\n",
    "plot_tpr2 <- function(x, col){\n",
    "  sort_x <- sort(x)\n",
    "  rank_x <- rank(sort_x, ties.method = \"max\")\n",
    "  TPR <- rank_x / length(x)\n",
    "  lines(TPR, sort_x, col = col, type = \"l\")\n",
    "}\n",
    "\n",
    "cols <- ggplot_palette(4)\n",
    "features <- c(\"ERM\", \"p\", \"p (w/o MRD)\", \"-log10(MRD)\")\n",
    "\n",
    "pdf(\"~/Dropbox/temp/tpr_x.pdf\", 6, 6)\n",
    "plot_tpr1(normaliseMinmax(p_y_sub$erm1), \"x\", cols[1])\n",
    "plot_tpr2(p_y_sub$p, cols[2])\n",
    "plot_tpr2(p_y_sub$p_wo, cols[3])\n",
    "plot_tpr2(normaliseMinmax(-log10(p_y_sub$d33_mrd)), cols[4])\n",
    "legend(\"topleft\", legend = features, col = cols, lwd=2)\n",
    "dev.off()"
   ]
  },
  {
   "cell_type": "markdown",
   "metadata": {},
   "source": [
    "### Plot odds ratio"
   ]
  },
  {
   "cell_type": "code",
   "execution_count": 12,
   "metadata": {},
   "outputs": [],
   "source": [
    "plot_odds_ratio <- function(P) {\n",
    "  COL_LABEL <- c(\"darkolivegreen3\", \"tomato3\")\n",
    "  \n",
    "  odds_prior <- table(P$label)[2] / table(P$label)[1] # rel/rem\n",
    "  FEATURES <- c(\"erm1_ratio2\", \"l2norm_ratio2\",\n",
    "                \"mrd\", \"angle_d0d8_d0normal\")\n",
    "  P_REM <- P[, FEATURES]\n",
    "  \n",
    "  compute_odds_ratio <- function(X, odds_prior) {\n",
    "    (1-X) / (X * odds_prior)\n",
    "  }\n",
    "\n",
    "  odds_ratio <- data.matrix(compute_odds_ratio(P_REM, odds_prior))\n",
    "  odds_ratio[is.infinite(odds_ratio)] <-\n",
    "    max(odds_ratio[!is.infinite(odds_ratio)]) * 2 # replace with max * 2\n",
    "  data <- cbind(\n",
    "    P[, c(\"pid\", \"label\")],\n",
    "    odds_ratio\n",
    "  )\n",
    "\n",
    "  long_data <- melt(data, id.vars = c(\"pid\", \"label\"))\n",
    "  \n",
    "  ggplot(long_data, aes(x = label, y = value, colour = label)) +\n",
    "    geom_point(position = position_jitter(height = 0), cex = 3) +\n",
    "    facet_wrap(~variable, nrow = 1, scales = \"free_x\") +\n",
    "    scale_color_manual(values = COL_LABEL)\n",
    "}"
   ]
  },
  {
   "cell_type": "code",
   "execution_count": 520,
   "metadata": {},
   "outputs": [],
   "source": [
    "list_odds_ratio <- lapply(list_obj1, function(obj) plot_odds_ratio(obj$P))\n",
    "for (i in seq_along(list_odds_ratio)) {\n",
    "  wpath <- sprintf(\"~/Dropbox/temp/OR-%s.pdf\", subtypes[i])\n",
    "  ggsave(wpath, list_odds_ratio[[i]], width = 8, height = 3)\n",
    "}"
   ]
  },
  {
   "cell_type": "code",
   "execution_count": null,
   "metadata": {},
   "outputs": [],
   "source": []
  },
  {
   "cell_type": "markdown",
   "metadata": {},
   "source": [
    "### TODO\n",
    "\n",
    "- Calculate new features\n",
    "    - Identify subtypes that did not give good results\n",
    "- Identify resistance genes (using D33 samples)\n",
    "- Hyperdiploid - Average chr expression\n"
   ]
  },
  {
   "cell_type": "code",
   "execution_count": null,
   "metadata": {},
   "outputs": [],
   "source": []
  }
 ],
 "metadata": {
  "kernelspec": {
   "display_name": "R",
   "language": "R",
   "name": "ir"
  },
  "language_info": {
   "codemirror_mode": "r",
   "file_extension": ".r",
   "mimetype": "text/x-r-source",
   "name": "R",
   "pygments_lexer": "r",
   "version": "3.5.1"
  }
 },
 "nbformat": 4,
 "nbformat_minor": 2
}
