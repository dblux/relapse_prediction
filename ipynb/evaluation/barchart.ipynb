{
 "cells": [
  {
   "cell_type": "code",
   "execution_count": 460,
   "metadata": {
    "scrolled": true
   },
   "outputs": [],
   "source": [
    "library(dplyr)\n",
    "library(reshape2)\n",
    "library(tibble)\n",
    "library(xtable)\n",
    "\n",
    "## Plotting\n",
    "library(ggplot2)\n",
    "library(cowplot)\n",
    "library(RColorBrewer)\n",
    "\n",
    "theme_set(theme_bw())"
   ]
  },
  {
   "cell_type": "code",
   "execution_count": 461,
   "metadata": {},
   "outputs": [],
   "source": [
    "source(\"../../R/calc.R\")\n",
    "source(\"../../R/misc.R\")\n",
    "source(\"../../R/normalise.R\")\n",
    "source(\"../../R/plot.R\")\n",
    "source(\"../../R/predict.R\")\n",
    "source(\"../../R/subset.R\")\n",
    "source(\"../../R/utils.R\")"
   ]
  },
  {
   "cell_type": "markdown",
   "metadata": {},
   "source": [
    "## Import data"
   ]
  },
  {
   "cell_type": "code",
   "execution_count": 462,
   "metadata": {},
   "outputs": [],
   "source": [
    "# Metadata\n",
    "METADATA_SID <- \"../../data/GSE67684/processed/metadata/sid-metadata_v2.tsv\"\n",
    "METADATA_PID <- \"../../data/GSE67684/processed/metadata/pid-metadata_v7.tsv\"\n",
    "metadata_sid <- read.table(METADATA_SID, sep = \"\\t\")\n",
    "metadata_pid <- read.table(METADATA_PID, sep = \"\\t\", row.names = 1, quote = '\"')\n",
    "\n",
    "## Data\n",
    "# Removed outliers, patients with timepoints from different batches and batch 5\n",
    "SUBSET_RPATH <- \"../../data/GSE67684/processed/subset_yeoh.tsv\"\n",
    "raw_yeoh <- read.table(SUBSET_RPATH, sep = \"\\t\")"
   ]
  },
  {
   "cell_type": "code",
   "execution_count": 463,
   "metadata": {},
   "outputs": [
    {
     "name": "stdout",
     "output_type": "stream",
     "text": [
      "  P001_D0   P004_D0   P005_D0   P007_D0   P008_D0   P009_D0 \n",
      " 5.796952  4.123342  3.981577  6.317643  4.841458 11.978124 \n",
      "[1] \"No. of ambiguous and AFFY probesets removed: 10503\"\n",
      "[1] D0 D0 D0 D0 D0 D0\n",
      "Levels: D0 D8 N\n",
      "           D0    D8     N\n",
      "1053_at  TRUE  TRUE  TRUE\n",
      "117_at  FALSE  TRUE  TRUE\n",
      "121_at   TRUE  TRUE  TRUE\n",
      "1294_at  TRUE  TRUE  TRUE\n",
      "1316_at  TRUE  TRUE  TRUE\n",
      "1320_at FALSE FALSE FALSE\n",
      "[1] \"No. of probesets removed = 6321\"\n"
     ]
    }
   ],
   "source": [
    "# Metadata\n",
    "metadata_sid$label <- as.factor(metadata_sid$label)\n",
    "metadata_pid$label <- as.factor(metadata_pid$label)\n",
    "\n",
    "# SCALE->REMOVE->FILTER->LOG\n",
    "scaled_yeoh <- normaliseMeanScaling(raw_yeoh)\n",
    "selected_yeoh <- removeProbesets(scaled_yeoh)\n",
    "yeoh <- log2_transform(filterProbesets(selected_yeoh, 0.7, metadata_sid))\n",
    "\n",
    "# All features\n",
    "yeoh_allps <- log2_transform(scaled_yeoh)\n",
    "yeoh_unfltr <- log2_transform(selected_yeoh)"
   ]
  },
  {
   "cell_type": "code",
   "execution_count": 464,
   "metadata": {},
   "outputs": [],
   "source": [
    "### GLOBAL VARIABLES\n",
    "metadata <- metadata_sid[colnames(yeoh),]\n",
    "heatmap_metadata <- metadata[, c(\"batch_info\", \"label\"), drop = F]\n",
    "COL_LABEL <- c(\"darkolivegreen3\", \"tomato3\")\n",
    "\n",
    "# List subtypes\n",
    "subtypes9 <- levels(metadata_sid$subtype)\n",
    "subtypes7 <- setdiff(subtypes9, c(\"Hypodiploid\", \"Normal\"))\n",
    "subtypes6 <- setdiff(subtypes7, \"Others\")\n",
    "subtypes5 <- setdiff(\n",
    "  subtypes9,\n",
    "  c(\"Hypodiploid\", \"Normal\", \"Hyperdiploid\", \"Others\")\n",
    ")\n",
    "others <- yeoh[, metadata$subtype == \"Others\"]\n",
    "others_normal <- yeoh[, metadata$subtype %in% c(\"Others\", \"Normal\")]\n",
    "\n",
    "# Define train/test split\n",
    "sid_mrd_na <- rownames(metadata_pid)[is.na(metadata_pid$d33_mrd)] %>%\n",
    "  rep(each = 2) %>%\n",
    "  paste0(c(\"_D0\", \"_D8\"))\n",
    "\n",
    "sid_alltrain_local <- rownames(metadata)[\n",
    "  !(metadata$subtype %in% c(\"Hypodiploid\", \"Normal\")) &\n",
    "  !(rownames(metadata) %in% sid_mrd_na)\n",
    "]\n",
    "sid_alltrain <- rownames(metadata)[\n",
    "  !(metadata$subtype %in% c(\"Hypodiploid\", \"Hyperdiploid\", \"Others\", \"Normal\")) &\n",
    "  !(rownames(metadata) %in% sid_mrd_na)\n",
    "]\n",
    "sid_train <- rownames(metadata)[\n",
    "  metadata$batch_info %in% 1:7 &\n",
    "  !(metadata$subtype %in% c(\"Hypodiploid\", \"Hyperdiploid\", \"Others\", \"Normal\")) &\n",
    "  !(rownames(metadata) %in% sid_mrd_na)\n",
    "]\n",
    "sid_test <- rownames(metadata)[\n",
    "  metadata$batch_info %in% 8:10 &\n",
    "  !(metadata$subtype %in% c(\"Hypodiploid\", \"Hyperdiploid\", \"Others\", \"Normal\")) &\n",
    "  !(rownames(metadata) %in% sid_mrd_na)\n",
    "]\n",
    "\n",
    "sid_remission <- rownames(metadata)[metadata$label == 0]\n",
    "sid_normal <- paste0(\"N0\", c(1,2,4))"
   ]
  },
  {
   "cell_type": "markdown",
   "metadata": {},
   "source": [
    "## Evaluation - Scoring table\n",
    "Predictions at 3 different timepoints (incorporate MRD if information is available at time point)\n",
    "1. D8 (Probability estimation without MRD)\n",
    "2. D33 (\" with D33 MRD)\n",
    "3. Long-term (\" with D33 and W12 MRD)\n",
    "\n",
    "Evaluation:\n",
    "1. According to final treatment arm\n",
    "2. According to treatment at prediction timepoint (viz. D8, D33, TP2)"
   ]
  },
  {
   "cell_type": "code",
   "execution_count": 465,
   "metadata": {},
   "outputs": [],
   "source": [
    "RPATH <- \"../../data/evaluation/evaluation_table.txt\"\n",
    "scoring_table <- read.table(RPATH, header = T, sep = \"\\t\")\n",
    "rownames(scoring_table) <- paste0(\n",
    "  scoring_table$treatment,\n",
    "  scoring_table$label,\n",
    "  scoring_table$prediction\n",
    ")"
   ]
  },
  {
   "cell_type": "code",
   "execution_count": 466,
   "metadata": {},
   "outputs": [],
   "source": [
    "# Import predictions\n",
    "p_d8 <- read.table(\"../../tmp/p_d8.tsv\", sep = \"\\t\")\n",
    "p_d33 <- read.table(\"../../tmp/p_d33.tsv\", sep = \"\\t\")\n",
    "p_tp2 <- read.table(\"../../tmp/p_tp2.tsv\", sep = \"\\t\")"
   ]
  },
  {
   "cell_type": "markdown",
   "metadata": {},
   "source": [
    "### Evaluation: According to final treatment arm"
   ]
  },
  {
   "cell_type": "code",
   "execution_count": 467,
   "metadata": {},
   "outputs": [],
   "source": [
    "#' Assign risk level and score based on probability predictions\n",
    "#'\n",
    "#' @param proba dataframe consisting of prediction probabilities\n",
    "#' @param metadata dataframe of patient metadata\n",
    "#' @param score_type character indicating column name to use for score\n",
    "#' @param treatment_current character vector of current treatment to add to prediction dataframe\n",
    "score_predictions <- function(\n",
    "  proba, metadata,\n",
    "  scoring_table, score_type,\n",
    "  treatment_current = NULL\n",
    ") {\n",
    "  proba$treatment <- as.character(metadata[rownames(proba), \"treatment\"])\n",
    "  proba$treatment[proba$treatment %in% c(\"HR1\", \"HR2\", \"BMT\")] <- \"HR\"\n",
    "  proba$label <- metadata[rownames(proba), \"label\"]\n",
    "  proba$prediction <- \"IR\"\n",
    "  proba$prediction[proba[1] > 0.5] <- \"SR\"\n",
    "  proba$prediction[proba[1] <= 0.25] <- \"HR\"\n",
    "  \n",
    "  if (is.null(treatment_current)) {\n",
    "    # Scoring predictions\n",
    "    row_idx <- paste0(\n",
    "      proba$treatment,\n",
    "      proba$label,\n",
    "      proba$prediction\n",
    "    )\n",
    "    proba$score <- scoring_table[row_idx, score_type]\n",
    "  } else{\n",
    "    proba <- add_column(proba, treatment_current, .after = \"treatment\")\n",
    "    # Scoring predictions\n",
    "    row_idx <- paste0(\n",
    "      proba$treatment_current,\n",
    "      proba$label,\n",
    "      proba$prediction\n",
    "    )\n",
    "    proba$score <- scoring_table[row_idx, score_type]\n",
    "  }\n",
    "  \n",
    "  # Change levels only after scoring\n",
    "  levels(proba$label) <- c(\"Remission\", \"Relapse\")\n",
    "  risk_levels <- c(\"SR\", \"IR\", \"HR\")\n",
    "  proba$prediction <- factor(\n",
    "    proba$prediction, levels = risk_levels, ordered = TRUE\n",
    "  )\n",
    "  proba$treatment <- factor(\n",
    "    proba$treatment, levels = risk_levels, ordered = TRUE\n",
    "  )\n",
    "  \n",
    "  proba\n",
    "}"
   ]
  },
  {
   "cell_type": "code",
   "execution_count": 468,
   "metadata": {},
   "outputs": [],
   "source": [
    "pred_d8 <- score_predictions(p_d8, metadata_pid, scoring_table, \"score_3\")\n",
    "pred_d33 <- score_predictions(p_d33, metadata_pid, scoring_table, \"score_3\")\n",
    "pred_tp2 <- score_predictions(p_tp2, metadata_pid, scoring_table, \"score_3\")"
   ]
  },
  {
   "cell_type": "markdown",
   "metadata": {},
   "source": [
    "## Perfect classifier"
   ]
  },
  {
   "cell_type": "code",
   "execution_count": 469,
   "metadata": {},
   "outputs": [],
   "source": [
    "pred_perfect <- pred_d33[-1]\n",
    "pred_perfect$prediction <- ifelse(\n",
    "  pred_perfect$label == 'Remission', 'SR', 'HR'\n",
    ")\n",
    "row_idx <- paste0(\n",
    "  pred_perfect$treatment,\n",
    "  as.numeric(pred_perfect$label) - 1,\n",
    "  pred_perfect$prediction\n",
    ")\n",
    "score_type <- 'score_3'\n",
    "pred_perfect$score <- scoring_table[row_idx, score_type]\n",
    "\n",
    "risk_levels <- c(\"SR\", \"IR\", \"HR\")\n",
    "pred_perfect$prediction <- factor(\n",
    "  pred_perfect$prediction, levels = risk_levels, ordered = TRUE\n",
    ")"
   ]
  },
  {
   "cell_type": "code",
   "execution_count": 470,
   "metadata": {},
   "outputs": [],
   "source": [
    "pred_treatment <- pred_d33[-1]\n",
    "pred_treatment$prediction <- pred_treatment$treatment\n",
    "row_idx <- paste0(\n",
    "  pred_treatment$treatment,\n",
    "  as.numeric(pred_treatment$label) - 1,\n",
    "  pred_treatment$prediction\n",
    ")\n",
    "score_type <- 'score_3'\n",
    "pred_treatment$score <- scoring_table[row_idx, score_type]\n",
    "\n",
    "risk_levels <- c(\"SR\", \"IR\", \"HR\")\n",
    "pred_treatment$prediction <- factor(\n",
    "  pred_treatment$prediction, levels = risk_levels, ordered = TRUE\n",
    ")"
   ]
  },
  {
   "cell_type": "markdown",
   "metadata": {},
   "source": [
    "### Checking patient metadata\n",
    "- Patients with NA D33 MRD excluded for both D8 and D33 scoring"
   ]
  },
  {
   "cell_type": "markdown",
   "metadata": {},
   "source": [
    "#### Theoretical scores if treatment levels were used as prediction\n",
    "\n",
    "| Outcome | HR | IR | SR |\n",
    "| --- | --- | --- | --- |\n",
    "| Remission | 1 | 1 | 1 |\n",
    "| Relapse | 1 | 0 | 0 |"
   ]
  },
  {
   "cell_type": "code",
   "execution_count": 471,
   "metadata": {
    "scrolled": true
   },
   "outputs": [
    {
     "data": {
      "image/png": "[encoded data removed]",
      "text/plain": [
       "plot without title"
      ]
     },
     "metadata": {},
     "output_type": "display_data"
    }
   ],
   "source": [
    "barchart_d8 <- plot_barchart(\n",
    "  pred_d8, \"Day 8 Classifier\",\n",
    "  treatment = \"treatment\", ylim = c(0, 40)\n",
    ")\n",
    "barchart_d8\n",
    "\n",
    "file <- '~/Dropbox/tmp/barchart-d8.eps'\n",
    "ggsave(file, barchart_d8, device = 'eps', width = 3.5, height = 3.5)"
   ]
  },
  {
   "cell_type": "code",
   "execution_count": 472,
   "metadata": {},
   "outputs": [
    {
     "data": {
      "image/png": "[encoded data removed]",
      "text/plain": [
       "plot without title"
      ]
     },
     "metadata": {},
     "output_type": "display_data"
    }
   ],
   "source": [
    "barchart_d33 <- plot_barchart(\n",
    "  pred_d33, \"Day 33 Classifier\",\n",
    "  treatment = \"treatment\", ylim = c(0, 40)\n",
    ")\n",
    "barchart_d33\n",
    "\n",
    "file <- '~/Dropbox/tmp/barchart-d33.eps' \n",
    "ggsave(file, barchart_d33, device = 'eps', width = 3.5, height = 3.5)"
   ]
  },
  {
   "cell_type": "code",
   "execution_count": 346,
   "metadata": {
    "scrolled": false
   },
   "outputs": [],
   "source": [
    "# barchart_tp2 <- plot_barchart(pred_tp2, \"Week 12\", treatment = \"treatment\")\n",
    "# barchart_tp2\n",
    "\n",
    "# file <- \"~/Dropbox/tmp/barchart_final-wk12.pdf\"\n",
    "# ggsave(file, barchart_tp2, width = 3.5, height = 3.5)"
   ]
  },
  {
   "cell_type": "code",
   "execution_count": 473,
   "metadata": {
    "scrolled": true
   },
   "outputs": [
    {
     "data": {
      "image/png": "[encoded data removed]",
      "text/plain": [
       "plot without title"
      ]
     },
     "metadata": {},
     "output_type": "display_data"
    }
   ],
   "source": [
    "barchart_perfect <- plot_barchart(\n",
    "  pred_perfect, \"Hypothetical Classifier\",\n",
    "  treatment = \"treatment\", ylim = c(0, 40)\n",
    ")\n",
    "barchart_perfect\n",
    "\n",
    "file <- \"~/Dropbox/tmp/barchart-perfect.eps\"\n",
    "ggsave(file, barchart_perfect, device = 'eps', width = 3.5, height = 3.5)"
   ]
  },
  {
   "cell_type": "markdown",
   "metadata": {},
   "source": [
    "### Evaluation: According to treatment at prediction timepoint\n",
    "1. D8 (Treatment: All IR)\n",
    "2. D33 (Treatment: IR or HR1)"
   ]
  },
  {
   "cell_type": "code",
   "execution_count": 93,
   "metadata": {},
   "outputs": [],
   "source": [
    "# Evaluation at D8 (All IR)\n",
    "treatment_d8 <- rep(\"IR\", nrow(p_d8))\n",
    "\n",
    "pred_current_d8 <- score_predictions(\n",
    "  p_d8, metadata_pid, scoring_table, \"score_3\", treatment_d8\n",
    ")"
   ]
  },
  {
   "cell_type": "code",
   "execution_count": 94,
   "metadata": {},
   "outputs": [],
   "source": [
    "# Evaluation at D33 (IR / HR1)\n",
    "# INFO: P184 has NA treatment but undergoes BMT\n",
    "# Remove patients with treatment_processed: NA\n",
    "treatment_d33 <- as.character(\n",
    "  metadata_pid[rownames(p_d33), \"treatment_processed\"]\n",
    ")\n",
    "is_na <- is.na(treatment_d33)\n",
    "treatment_d33 <- treatment_d33[!is_na]\n",
    "\n",
    "treatment_d33[treatment_d33 == \"SR\"] <- \"IR\"\n",
    "treatment_d33[treatment_d33 == \"HR2\"] <- \"IR\"\n",
    "treatment_d33[treatment_d33 == \"HR1\"] <- \"HR\"\n",
    "\n",
    "pred_current_d33 <- score_predictions(\n",
    "  p_d33[!is_na, , drop = F], metadata_pid, scoring_table, \"score_3\", treatment_d33\n",
    ")"
   ]
  },
  {
   "cell_type": "code",
   "execution_count": 99,
   "metadata": {},
   "outputs": [
    {
     "data": {
      "text/html": [
       "<table>\n",
       "<caption>A data.frame: 8 × 6</caption>\n",
       "<thead>\n",
       "\t<tr><th></th><th scope=col>p_d8</th><th scope=col>treatment</th><th scope=col>treatment_current</th><th scope=col>label</th><th scope=col>prediction</th><th scope=col>score</th></tr>\n",
       "\t<tr><th></th><th scope=col>&lt;dbl&gt;</th><th scope=col>&lt;chr&gt;</th><th scope=col>&lt;chr&gt;</th><th scope=col>&lt;fct&gt;</th><th scope=col>&lt;chr&gt;</th><th scope=col>&lt;int&gt;</th></tr>\n",
       "</thead>\n",
       "<tbody>\n",
       "\t<tr><th scope=row>P010</th><td>0.12500000</td><td>HR</td><td>IR</td><td>Remission</td><td>HR</td><td>0</td></tr>\n",
       "\t<tr><th scope=row>P016</th><td>0.13793103</td><td>SR</td><td>IR</td><td>Remission</td><td>HR</td><td>0</td></tr>\n",
       "\t<tr><th scope=row>P018</th><td>0.06896552</td><td>HR</td><td>IR</td><td>Remission</td><td>HR</td><td>0</td></tr>\n",
       "\t<tr><th scope=row>P022</th><td>0.16091954</td><td>SR</td><td>IR</td><td>Remission</td><td>HR</td><td>0</td></tr>\n",
       "\t<tr><th scope=row>P023</th><td>0.17241379</td><td>IR</td><td>IR</td><td>Remission</td><td>HR</td><td>0</td></tr>\n",
       "\t<tr><th scope=row>P026</th><td>0.13793103</td><td>IR</td><td>IR</td><td>Remission</td><td>HR</td><td>0</td></tr>\n",
       "\t<tr><th scope=row>P028</th><td>0.19540230</td><td>IR</td><td>IR</td><td>Remission</td><td>HR</td><td>0</td></tr>\n",
       "\t<tr><th scope=row>P032</th><td>0.11494253</td><td>HR</td><td>IR</td><td>Remission</td><td>HR</td><td>0</td></tr>\n",
       "</tbody>\n",
       "</table>\n"
      ],
      "text/latex": [
       "A data.frame: 8 × 6\n",
       "\\begin{tabular}{r|llllll}\n",
       "  & p\\_d8 & treatment & treatment\\_current & label & prediction & score\\\\\n",
       "  & <dbl> & <chr> & <chr> & <fct> & <chr> & <int>\\\\\n",
       "\\hline\n",
       "\tP010 & 0.12500000 & HR & IR & Remission & HR & 0\\\\\n",
       "\tP016 & 0.13793103 & SR & IR & Remission & HR & 0\\\\\n",
       "\tP018 & 0.06896552 & HR & IR & Remission & HR & 0\\\\\n",
       "\tP022 & 0.16091954 & SR & IR & Remission & HR & 0\\\\\n",
       "\tP023 & 0.17241379 & IR & IR & Remission & HR & 0\\\\\n",
       "\tP026 & 0.13793103 & IR & IR & Remission & HR & 0\\\\\n",
       "\tP028 & 0.19540230 & IR & IR & Remission & HR & 0\\\\\n",
       "\tP032 & 0.11494253 & HR & IR & Remission & HR & 0\\\\\n",
       "\\end{tabular}\n"
      ],
      "text/markdown": [
       "\n",
       "A data.frame: 8 × 6\n",
       "\n",
       "| <!--/--> | p_d8 &lt;dbl&gt; | treatment &lt;chr&gt; | treatment_current &lt;chr&gt; | label &lt;fct&gt; | prediction &lt;chr&gt; | score &lt;int&gt; |\n",
       "|---|---|---|---|---|---|---|\n",
       "| P010 | 0.12500000 | HR | IR | Remission | HR | 0 |\n",
       "| P016 | 0.13793103 | SR | IR | Remission | HR | 0 |\n",
       "| P018 | 0.06896552 | HR | IR | Remission | HR | 0 |\n",
       "| P022 | 0.16091954 | SR | IR | Remission | HR | 0 |\n",
       "| P023 | 0.17241379 | IR | IR | Remission | HR | 0 |\n",
       "| P026 | 0.13793103 | IR | IR | Remission | HR | 0 |\n",
       "| P028 | 0.19540230 | IR | IR | Remission | HR | 0 |\n",
       "| P032 | 0.11494253 | HR | IR | Remission | HR | 0 |\n",
       "\n"
      ],
      "text/plain": [
       "     p_d8       treatment treatment_current label     prediction score\n",
       "P010 0.12500000 HR        IR                Remission HR         0    \n",
       "P016 0.13793103 SR        IR                Remission HR         0    \n",
       "P018 0.06896552 HR        IR                Remission HR         0    \n",
       "P022 0.16091954 SR        IR                Remission HR         0    \n",
       "P023 0.17241379 IR        IR                Remission HR         0    \n",
       "P026 0.13793103 IR        IR                Remission HR         0    \n",
       "P028 0.19540230 IR        IR                Remission HR         0    \n",
       "P032 0.11494253 HR        IR                Remission HR         0    "
      ]
     },
     "metadata": {},
     "output_type": "display_data"
    }
   ],
   "source": [
    "pred_current_d8 %>%\n",
    "  subset(score == 0 & label == 'Remission')"
   ]
  },
  {
   "cell_type": "code",
   "execution_count": 95,
   "metadata": {},
   "outputs": [
    {
     "data": {
      "image/png": "[encoded data removed]",
      "text/plain": [
       "plot without title"
      ]
     },
     "metadata": {},
     "output_type": "display_data"
    }
   ],
   "source": [
    "barchart_d8 <- plot_barchart(\n",
    "  pred_current_d8, \"Day 8\", treatment = \"treatment_current\", ylim = c(0, 50)\n",
    ")\n",
    "barchart_d8\n",
    "\n",
    "file <- \"~/Dropbox/tmp/barchart_current-d8.pdf\" \n",
    "# ggsave(file, barchart_d8, width = 3.5, height = 3.5)"
   ]
  },
  {
   "cell_type": "code",
   "execution_count": 96,
   "metadata": {},
   "outputs": [
    {
     "data": {
      "image/png": "[encoded data removed]",
      "text/plain": [
       "plot without title"
      ]
     },
     "metadata": {},
     "output_type": "display_data"
    }
   ],
   "source": [
    "barchart_d33 <- plot_barchart(\n",
    "  pred_current_d33, \"Day 33\", treatment = \"treatment_current\", ylim = c(0, 50)\n",
    ")\n",
    "barchart_d33\n",
    "\n",
    "file <- \"~/Dropbox/tmp/barchart_current-d33.pdf\"\n",
    "# ggsave(file, barchart_d33, width = 3.5, height = 3.5)"
   ]
  },
  {
   "cell_type": "code",
   "execution_count": 97,
   "metadata": {},
   "outputs": [],
   "source": [
    "barchart_tp2 <- plot_barchart(pred_tp2, \"Week 12\", treatment = \"treatment\" , ylim = c(0, 50))\n",
    "file <- \"~/Dropbox/tmp/barchart_current-wk12.pdf\"\n",
    "# ggsave(file, barchart_tp2, width = 3.5, height = 3.5)"
   ]
  },
  {
   "cell_type": "markdown",
   "metadata": {},
   "source": [
    "### Investigation\n",
    "- More concerned with relapse patients that have a score of 0\n",
    "    - We recommend de-escalation in these patients which eventually relapse\n",
    "- Less concerned with remission patients with a score of 0\n",
    "- Prediction of SR/IR probably because of favourable ERM\n",
    "- Not concerned with their final treatment and score"
   ]
  },
  {
   "cell_type": "code",
   "execution_count": 58,
   "metadata": {},
   "outputs": [
    {
     "data": {
      "text/html": [
       "<table>\n",
       "<caption>A data.frame: 17 × 5</caption>\n",
       "<thead>\n",
       "\t<tr><th></th><th scope=col>d33_mrd</th><th scope=col>treatment_raw</th><th scope=col>subtype</th><th scope=col>BMT</th><th scope=col>label</th></tr>\n",
       "\t<tr><th></th><th scope=col>&lt;dbl&gt;</th><th scope=col>&lt;fct&gt;</th><th scope=col>&lt;fct&gt;</th><th scope=col>&lt;lgl&gt;</th><th scope=col>&lt;fct&gt;</th></tr>\n",
       "</thead>\n",
       "<tbody>\n",
       "\t<tr><th scope=row>P034</th><td>0.000100</td><td>SR           </td><td>TEL-AML1    </td><td>TRUE</td><td>1</td></tr>\n",
       "\t<tr><th scope=row>P053</th><td>0.000100</td><td>HR (Oncogene)</td><td>BCR-ABL     </td><td>TRUE</td><td>0</td></tr>\n",
       "\t<tr><th scope=row>P055</th><td>0.000100</td><td>HR (Oncogene)</td><td>BCR-ABL     </td><td>TRUE</td><td>0</td></tr>\n",
       "\t<tr><th scope=row>P057</th><td>1.000000</td><td>HR           </td><td>BCR-ABL     </td><td>TRUE</td><td>1</td></tr>\n",
       "\t<tr><th scope=row>P088</th><td>0.003000</td><td>HR           </td><td>Hypodiploid </td><td>TRUE</td><td>1</td></tr>\n",
       "\t<tr><th scope=row>P097</th><td>0.008000</td><td>IR           </td><td>Others      </td><td>TRUE</td><td>1</td></tr>\n",
       "\t<tr><th scope=row>P152</th><td>0.300000</td><td>HR           </td><td>BCR-ABL     </td><td>TRUE</td><td>1</td></tr>\n",
       "\t<tr><th scope=row>P167</th><td>0.000100</td><td>HR (Oncogene)</td><td>MLL         </td><td>TRUE</td><td>1</td></tr>\n",
       "\t<tr><th scope=row>P170</th><td>0.002000</td><td>HR (Oncogene)</td><td>BCR-ABL     </td><td>TRUE</td><td>0</td></tr>\n",
       "\t<tr><th scope=row>P175</th><td>0.000100</td><td>HR (Oncogene)</td><td>BCR-ABL     </td><td>TRUE</td><td>0</td></tr>\n",
       "\t<tr><th scope=row>P184</th><td>1.000000</td><td>NA           </td><td>BCR-ABL     </td><td>TRUE</td><td>1</td></tr>\n",
       "\t<tr><th scope=row>P186</th><td>0.236000</td><td>NA           </td><td>BCR-ABL     </td><td>TRUE</td><td>0</td></tr>\n",
       "\t<tr><th scope=row>P187</th><td>1.000000</td><td>NA           </td><td>Others      </td><td>TRUE</td><td>0</td></tr>\n",
       "\t<tr><th scope=row>P189</th><td>0.258000</td><td>NA           </td><td>Hyperdiploid</td><td>TRUE</td><td>1</td></tr>\n",
       "\t<tr><th scope=row>P191</th><td>0.000100</td><td>NA           </td><td>Others      </td><td>TRUE</td><td>1</td></tr>\n",
       "\t<tr><th scope=row>P206</th><td>0.000001</td><td>IR (CNS)     </td><td>Others      </td><td>TRUE</td><td>1</td></tr>\n",
       "\t<tr><th scope=row>P220</th><td>0.005000</td><td>HR           </td><td>Others      </td><td>TRUE</td><td>0</td></tr>\n",
       "</tbody>\n",
       "</table>\n"
      ],
      "text/latex": [
       "A data.frame: 17 × 5\n",
       "\\begin{tabular}{r|lllll}\n",
       "  & d33\\_mrd & treatment\\_raw & subtype & BMT & label\\\\\n",
       "  & <dbl> & <fct> & <fct> & <lgl> & <fct>\\\\\n",
       "\\hline\n",
       "\tP034 & 0.000100 & SR            & TEL-AML1     & TRUE & 1\\\\\n",
       "\tP053 & 0.000100 & HR (Oncogene) & BCR-ABL      & TRUE & 0\\\\\n",
       "\tP055 & 0.000100 & HR (Oncogene) & BCR-ABL      & TRUE & 0\\\\\n",
       "\tP057 & 1.000000 & HR            & BCR-ABL      & TRUE & 1\\\\\n",
       "\tP088 & 0.003000 & HR            & Hypodiploid  & TRUE & 1\\\\\n",
       "\tP097 & 0.008000 & IR            & Others       & TRUE & 1\\\\\n",
       "\tP152 & 0.300000 & HR            & BCR-ABL      & TRUE & 1\\\\\n",
       "\tP167 & 0.000100 & HR (Oncogene) & MLL          & TRUE & 1\\\\\n",
       "\tP170 & 0.002000 & HR (Oncogene) & BCR-ABL      & TRUE & 0\\\\\n",
       "\tP175 & 0.000100 & HR (Oncogene) & BCR-ABL      & TRUE & 0\\\\\n",
       "\tP184 & 1.000000 & NA            & BCR-ABL      & TRUE & 1\\\\\n",
       "\tP186 & 0.236000 & NA            & BCR-ABL      & TRUE & 0\\\\\n",
       "\tP187 & 1.000000 & NA            & Others       & TRUE & 0\\\\\n",
       "\tP189 & 0.258000 & NA            & Hyperdiploid & TRUE & 1\\\\\n",
       "\tP191 & 0.000100 & NA            & Others       & TRUE & 1\\\\\n",
       "\tP206 & 0.000001 & IR (CNS)      & Others       & TRUE & 1\\\\\n",
       "\tP220 & 0.005000 & HR            & Others       & TRUE & 0\\\\\n",
       "\\end{tabular}\n"
      ],
      "text/markdown": [
       "\n",
       "A data.frame: 17 × 5\n",
       "\n",
       "| <!--/--> | d33_mrd &lt;dbl&gt; | treatment_raw &lt;fct&gt; | subtype &lt;fct&gt; | BMT &lt;lgl&gt; | label &lt;fct&gt; |\n",
       "|---|---|---|---|---|---|\n",
       "| P034 | 0.000100 | SR            | TEL-AML1     | TRUE | 1 |\n",
       "| P053 | 0.000100 | HR (Oncogene) | BCR-ABL      | TRUE | 0 |\n",
       "| P055 | 0.000100 | HR (Oncogene) | BCR-ABL      | TRUE | 0 |\n",
       "| P057 | 1.000000 | HR            | BCR-ABL      | TRUE | 1 |\n",
       "| P088 | 0.003000 | HR            | Hypodiploid  | TRUE | 1 |\n",
       "| P097 | 0.008000 | IR            | Others       | TRUE | 1 |\n",
       "| P152 | 0.300000 | HR            | BCR-ABL      | TRUE | 1 |\n",
       "| P167 | 0.000100 | HR (Oncogene) | MLL          | TRUE | 1 |\n",
       "| P170 | 0.002000 | HR (Oncogene) | BCR-ABL      | TRUE | 0 |\n",
       "| P175 | 0.000100 | HR (Oncogene) | BCR-ABL      | TRUE | 0 |\n",
       "| P184 | 1.000000 | NA            | BCR-ABL      | TRUE | 1 |\n",
       "| P186 | 0.236000 | NA            | BCR-ABL      | TRUE | 0 |\n",
       "| P187 | 1.000000 | NA            | Others       | TRUE | 0 |\n",
       "| P189 | 0.258000 | NA            | Hyperdiploid | TRUE | 1 |\n",
       "| P191 | 0.000100 | NA            | Others       | TRUE | 1 |\n",
       "| P206 | 0.000001 | IR (CNS)      | Others       | TRUE | 1 |\n",
       "| P220 | 0.005000 | HR            | Others       | TRUE | 0 |\n",
       "\n"
      ],
      "text/plain": [
       "     d33_mrd  treatment_raw subtype      BMT  label\n",
       "P034 0.000100 SR            TEL-AML1     TRUE 1    \n",
       "P053 0.000100 HR (Oncogene) BCR-ABL      TRUE 0    \n",
       "P055 0.000100 HR (Oncogene) BCR-ABL      TRUE 0    \n",
       "P057 1.000000 HR            BCR-ABL      TRUE 1    \n",
       "P088 0.003000 HR            Hypodiploid  TRUE 1    \n",
       "P097 0.008000 IR            Others       TRUE 1    \n",
       "P152 0.300000 HR            BCR-ABL      TRUE 1    \n",
       "P167 0.000100 HR (Oncogene) MLL          TRUE 1    \n",
       "P170 0.002000 HR (Oncogene) BCR-ABL      TRUE 0    \n",
       "P175 0.000100 HR (Oncogene) BCR-ABL      TRUE 0    \n",
       "P184 1.000000 NA            BCR-ABL      TRUE 1    \n",
       "P186 0.236000 NA            BCR-ABL      TRUE 0    \n",
       "P187 1.000000 NA            Others       TRUE 0    \n",
       "P189 0.258000 NA            Hyperdiploid TRUE 1    \n",
       "P191 0.000100 NA            Others       TRUE 1    \n",
       "P206 0.000001 IR (CNS)      Others       TRUE 1    \n",
       "P220 0.005000 HR            Others       TRUE 0    "
      ]
     },
     "metadata": {},
     "output_type": "display_data"
    }
   ],
   "source": [
    "metadata_pid %>%\n",
    "  subset(BMT == TRUE, select = c(d33_mrd, treatment_raw, subtype, BMT, label))"
   ]
  },
  {
   "cell_type": "code",
   "execution_count": 55,
   "metadata": {},
   "outputs": [
    {
     "name": "stdout",
     "output_type": "stream",
     "text": [
      "          p_d8 treatment   label prediction scores\n",
      "P056 0.2666667        HR Relapse         IR      0\n",
      "P151 0.4166667        HR Relapse         IR      0\n",
      "P029 0.2528736        IR Relapse         IR      0\n",
      "P136 0.2988506        SR Relapse         IR      1\n",
      "         p_d33 treatment   label prediction scores\n",
      "P056 0.3000000        HR Relapse         IR      0\n",
      "P007 0.2812500        HR Relapse         IR      0\n",
      "P151 0.3750000        HR Relapse         IR      0\n",
      "P034 0.3017241        HR Relapse         IR      0\n",
      "P094 0.2672414        SR Relapse         IR      1\n",
      "P136 0.4741379        SR Relapse         IR      1\n"
     ]
    }
   ],
   "source": [
    "# Subsetting relapse patients predicted as IR/SR\n",
    "pred_d8_sub <- pred_d8 %>%\n",
    "  subset(label == \"Relapse\" & prediction %in% c(\"SR\", \"IR\"))\n",
    "print(pred_d8_sub)\n",
    "\n",
    "pred_d33_sub <- pred_d33 %>%\n",
    "  subset(label == \"Relapse\" & prediction %in% c(\"SR\", \"IR\"))\n",
    "print(pred_d33_sub)\n",
    "\n",
    "pid_relapse_d8 <- rownames(pred_d8_sub)\n",
    "writeLines(pid_relapse_d8, \"../../tmp/pid_relapse_srir-d8.txt\")\n",
    "\n",
    "pid_relapse <- rownames(pred_d33_sub)\n",
    "writeLines(pid_relapse, \"../../tmp/pid_relapse_srir-d33.txt\")"
   ]
  },
  {
   "cell_type": "code",
   "execution_count": 54,
   "metadata": {},
   "outputs": [
    {
     "data": {
      "text/html": [
       "<table>\n",
       "<caption>A data.frame: 4 × 2</caption>\n",
       "<thead>\n",
       "\t<tr><th></th><th scope=col>subtype</th><th scope=col>treatment</th></tr>\n",
       "\t<tr><th></th><th scope=col>&lt;fct&gt;</th><th scope=col>&lt;fct&gt;</th></tr>\n",
       "</thead>\n",
       "<tbody>\n",
       "\t<tr><th scope=row>P056</th><td>BCR-ABL </td><td>HR1</td></tr>\n",
       "\t<tr><th scope=row>P151</th><td>T-ALL   </td><td>HR2</td></tr>\n",
       "\t<tr><th scope=row>P029</th><td>TEL-AML1</td><td>IR </td></tr>\n",
       "\t<tr><th scope=row>P136</th><td>TEL-AML1</td><td>SR </td></tr>\n",
       "</tbody>\n",
       "</table>\n"
      ],
      "text/latex": [
       "A data.frame: 4 × 2\n",
       "\\begin{tabular}{r|ll}\n",
       "  & subtype & treatment\\\\\n",
       "  & <fct> & <fct>\\\\\n",
       "\\hline\n",
       "\tP056 & BCR-ABL  & HR1\\\\\n",
       "\tP151 & T-ALL    & HR2\\\\\n",
       "\tP029 & TEL-AML1 & IR \\\\\n",
       "\tP136 & TEL-AML1 & SR \\\\\n",
       "\\end{tabular}\n"
      ],
      "text/markdown": [
       "\n",
       "A data.frame: 4 × 2\n",
       "\n",
       "| <!--/--> | subtype &lt;fct&gt; | treatment &lt;fct&gt; |\n",
       "|---|---|---|\n",
       "| P056 | BCR-ABL  | HR1 |\n",
       "| P151 | T-ALL    | HR2 |\n",
       "| P029 | TEL-AML1 | IR  |\n",
       "| P136 | TEL-AML1 | SR  |\n",
       "\n"
      ],
      "text/plain": [
       "     subtype  treatment\n",
       "P056 BCR-ABL  HR1      \n",
       "P151 T-ALL    HR2      \n",
       "P029 TEL-AML1 IR       \n",
       "P136 TEL-AML1 SR       "
      ]
     },
     "metadata": {},
     "output_type": "display_data"
    }
   ],
   "source": [
    "metadata_pid[rownames(pred_d8_sub), c(\"subtype\", \"treatment\")]"
   ]
  },
  {
   "cell_type": "code",
   "execution_count": null,
   "metadata": {},
   "outputs": [],
   "source": [
    "# metadata_sub <- subset(\n",
    "#   metadata_pid,\n",
    "#   treatment == \"BMT\",\n",
    "#   c(\"subtype\", \"treatment_raw\", \"treatment_processed\", \"treatment\")\n",
    "# )\n",
    "# print(metadata_sub)"
   ]
  },
  {
   "cell_type": "code",
   "execution_count": null,
   "metadata": {},
   "outputs": [],
   "source": [
    "# x_d8 <- subset(p_d8, scores == 1)\n",
    "# pid_1 <- rownames(x_d8)\n",
    "# print(x_d8)\n",
    "# metadata_pid1[pid_1, \"treatment\", drop = F]"
   ]
  },
  {
   "cell_type": "code",
   "execution_count": null,
   "metadata": {},
   "outputs": [],
   "source": [
    "# x_d33 <- subset(p_d33, scores == 1)\n",
    "# pid_1 <- rownames(x_d33)\n",
    "# print(x_d33)\n",
    "# metadata_pid1[pid_1, \"treatment\", drop = F]"
   ]
  },
  {
   "cell_type": "markdown",
   "metadata": {},
   "source": [
    "### Subsetting patients evaluated in scoring scheme"
   ]
  },
  {
   "cell_type": "code",
   "execution_count": 82,
   "metadata": {},
   "outputs": [
    {
     "data": {
      "text/html": [
       "<table>\n",
       "<caption>A grouped_df: 9 × 3</caption>\n",
       "<thead>\n",
       "\t<tr><th scope=col>treatment</th><th scope=col>label</th><th scope=col>n</th></tr>\n",
       "\t<tr><th scope=col>&lt;fct&gt;</th><th scope=col>&lt;fct&gt;</th><th scope=col>&lt;int&gt;</th></tr>\n",
       "</thead>\n",
       "<tbody>\n",
       "\t<tr><td>BMT</td><td>0</td><td> 4</td></tr>\n",
       "\t<tr><td>HR1</td><td>0</td><td> 7</td></tr>\n",
       "\t<tr><td>IR </td><td>0</td><td>14</td></tr>\n",
       "\t<tr><td>SR </td><td>0</td><td>25</td></tr>\n",
       "\t<tr><td>BMT</td><td>1</td><td> 5</td></tr>\n",
       "\t<tr><td>HR1</td><td>1</td><td> 5</td></tr>\n",
       "\t<tr><td>HR2</td><td>1</td><td> 2</td></tr>\n",
       "\t<tr><td>IR </td><td>1</td><td> 2</td></tr>\n",
       "\t<tr><td>SR </td><td>1</td><td> 3</td></tr>\n",
       "</tbody>\n",
       "</table>\n"
      ],
      "text/latex": [
       "A grouped_df: 9 × 3\n",
       "\\begin{tabular}{r|lll}\n",
       " treatment & label & n\\\\\n",
       " <fct> & <fct> & <int>\\\\\n",
       "\\hline\n",
       "\t BMT & 0 &  4\\\\\n",
       "\t HR1 & 0 &  7\\\\\n",
       "\t IR  & 0 & 14\\\\\n",
       "\t SR  & 0 & 25\\\\\n",
       "\t BMT & 1 &  5\\\\\n",
       "\t HR1 & 1 &  5\\\\\n",
       "\t HR2 & 1 &  2\\\\\n",
       "\t IR  & 1 &  2\\\\\n",
       "\t SR  & 1 &  3\\\\\n",
       "\\end{tabular}\n"
      ],
      "text/markdown": [
       "\n",
       "A grouped_df: 9 × 3\n",
       "\n",
       "| treatment &lt;fct&gt; | label &lt;fct&gt; | n &lt;int&gt; |\n",
       "|---|---|---|\n",
       "| BMT | 0 |  4 |\n",
       "| HR1 | 0 |  7 |\n",
       "| IR  | 0 | 14 |\n",
       "| SR  | 0 | 25 |\n",
       "| BMT | 1 |  5 |\n",
       "| HR1 | 1 |  5 |\n",
       "| HR2 | 1 |  2 |\n",
       "| IR  | 1 |  2 |\n",
       "| SR  | 1 |  3 |\n",
       "\n"
      ],
      "text/plain": [
       "  treatment label n \n",
       "1 BMT       0      4\n",
       "2 HR1       0      7\n",
       "3 IR        0     14\n",
       "4 SR        0     25\n",
       "5 BMT       1      5\n",
       "6 HR1       1      5\n",
       "7 HR2       1      2\n",
       "8 IR        1      2\n",
       "9 SR        1      3"
      ]
     },
     "metadata": {},
     "output_type": "display_data"
    }
   ],
   "source": [
    "y1 <- metadata_pid[rownames(pred_d8), ]\n",
    "y2 <- y1 %>%\n",
    "  select(c('d33_mrd', 'treatment', 'label')) %>%\n",
    "  arrange(label, treatment)\n",
    "\n",
    "# print(y2)\n",
    "# print(nrow(y2))\n",
    "\n",
    "y1 %>%\n",
    "  select(label, treatment) %>%\n",
    "  group_by(treatment, label) %>%\n",
    "  summarise(n = n()) %>%\n",
    "  arrange(label, treatment)"
   ]
  },
  {
   "cell_type": "code",
   "execution_count": 102,
   "metadata": {},
   "outputs": [
    {
     "data": {
      "text/html": [
       "<table>\n",
       "<caption>A data.frame: 14 × 4</caption>\n",
       "<thead>\n",
       "\t<tr><th></th><th scope=col>subtype</th><th scope=col>d33_mrd</th><th scope=col>treatment</th><th scope=col>label</th></tr>\n",
       "\t<tr><th></th><th scope=col>&lt;fct&gt;</th><th scope=col>&lt;dbl&gt;</th><th scope=col>&lt;fct&gt;</th><th scope=col>&lt;fct&gt;</th></tr>\n",
       "</thead>\n",
       "<tbody>\n",
       "\t<tr><th scope=row>P007</th><td>T-ALL       </td><td>4e-03</td><td>HR2</td><td>1</td></tr>\n",
       "\t<tr><th scope=row>P075</th><td>Others      </td><td>9e-01</td><td>HR2</td><td>1</td></tr>\n",
       "\t<tr><th scope=row>P101</th><td>Others      </td><td>4e-01</td><td>HR2</td><td>1</td></tr>\n",
       "\t<tr><th scope=row>P104</th><td>Others      </td><td>4e-01</td><td>HR2</td><td>1</td></tr>\n",
       "\t<tr><th scope=row>P111</th><td>Others      </td><td>3e-02</td><td>HR2</td><td>1</td></tr>\n",
       "\t<tr><th scope=row>P149</th><td>Others      </td><td>3e-01</td><td>HR2</td><td>1</td></tr>\n",
       "\t<tr><th scope=row>P151</th><td>T-ALL       </td><td>2e-02</td><td>HR2</td><td>1</td></tr>\n",
       "\t<tr><th scope=row>P158</th><td>Others      </td><td>2e-02</td><td>HR2</td><td>0</td></tr>\n",
       "\t<tr><th scope=row>P164</th><td>Hyperdiploid</td><td>5e-01</td><td>HR2</td><td>1</td></tr>\n",
       "\t<tr><th scope=row>P177</th><td>Others      </td><td>4e-02</td><td>HR2</td><td>0</td></tr>\n",
       "\t<tr><th scope=row>P179</th><td>Others      </td><td>5e-02</td><td>HR2</td><td>1</td></tr>\n",
       "\t<tr><th scope=row>P200</th><td>Others      </td><td>9e-01</td><td>HR2</td><td>1</td></tr>\n",
       "\t<tr><th scope=row>P214</th><td>Others      </td><td>   NA</td><td>HR2</td><td>1</td></tr>\n",
       "\t<tr><th scope=row>P219</th><td>Others      </td><td>4e-04</td><td>HR2</td><td>1</td></tr>\n",
       "</tbody>\n",
       "</table>\n"
      ],
      "text/latex": [
       "A data.frame: 14 × 4\n",
       "\\begin{tabular}{r|llll}\n",
       "  & subtype & d33\\_mrd & treatment & label\\\\\n",
       "  & <fct> & <dbl> & <fct> & <fct>\\\\\n",
       "\\hline\n",
       "\tP007 & T-ALL        & 4e-03 & HR2 & 1\\\\\n",
       "\tP075 & Others       & 9e-01 & HR2 & 1\\\\\n",
       "\tP101 & Others       & 4e-01 & HR2 & 1\\\\\n",
       "\tP104 & Others       & 4e-01 & HR2 & 1\\\\\n",
       "\tP111 & Others       & 3e-02 & HR2 & 1\\\\\n",
       "\tP149 & Others       & 3e-01 & HR2 & 1\\\\\n",
       "\tP151 & T-ALL        & 2e-02 & HR2 & 1\\\\\n",
       "\tP158 & Others       & 2e-02 & HR2 & 0\\\\\n",
       "\tP164 & Hyperdiploid & 5e-01 & HR2 & 1\\\\\n",
       "\tP177 & Others       & 4e-02 & HR2 & 0\\\\\n",
       "\tP179 & Others       & 5e-02 & HR2 & 1\\\\\n",
       "\tP200 & Others       & 9e-01 & HR2 & 1\\\\\n",
       "\tP214 & Others       &    NA & HR2 & 1\\\\\n",
       "\tP219 & Others       & 4e-04 & HR2 & 1\\\\\n",
       "\\end{tabular}\n"
      ],
      "text/markdown": [
       "\n",
       "A data.frame: 14 × 4\n",
       "\n",
       "| <!--/--> | subtype &lt;fct&gt; | d33_mrd &lt;dbl&gt; | treatment &lt;fct&gt; | label &lt;fct&gt; |\n",
       "|---|---|---|---|---|\n",
       "| P007 | T-ALL        | 4e-03 | HR2 | 1 |\n",
       "| P075 | Others       | 9e-01 | HR2 | 1 |\n",
       "| P101 | Others       | 4e-01 | HR2 | 1 |\n",
       "| P104 | Others       | 4e-01 | HR2 | 1 |\n",
       "| P111 | Others       | 3e-02 | HR2 | 1 |\n",
       "| P149 | Others       | 3e-01 | HR2 | 1 |\n",
       "| P151 | T-ALL        | 2e-02 | HR2 | 1 |\n",
       "| P158 | Others       | 2e-02 | HR2 | 0 |\n",
       "| P164 | Hyperdiploid | 5e-01 | HR2 | 1 |\n",
       "| P177 | Others       | 4e-02 | HR2 | 0 |\n",
       "| P179 | Others       | 5e-02 | HR2 | 1 |\n",
       "| P200 | Others       | 9e-01 | HR2 | 1 |\n",
       "| P214 | Others       |    NA | HR2 | 1 |\n",
       "| P219 | Others       | 4e-04 | HR2 | 1 |\n",
       "\n"
      ],
      "text/plain": [
       "     subtype      d33_mrd treatment label\n",
       "P007 T-ALL        4e-03   HR2       1    \n",
       "P075 Others       9e-01   HR2       1    \n",
       "P101 Others       4e-01   HR2       1    \n",
       "P104 Others       4e-01   HR2       1    \n",
       "P111 Others       3e-02   HR2       1    \n",
       "P149 Others       3e-01   HR2       1    \n",
       "P151 T-ALL        2e-02   HR2       1    \n",
       "P158 Others       2e-02   HR2       0    \n",
       "P164 Hyperdiploid 5e-01   HR2       1    \n",
       "P177 Others       4e-02   HR2       0    \n",
       "P179 Others       5e-02   HR2       1    \n",
       "P200 Others       9e-01   HR2       1    \n",
       "P214 Others          NA   HR2       1    \n",
       "P219 Others       4e-04   HR2       1    "
      ]
     },
     "metadata": {},
     "output_type": "display_data"
    }
   ],
   "source": [
    "metadata_pid %>%\n",
    "  subset(\n",
    "    treatment == 'HR2',\n",
    "    c('subtype', 'd33_mrd', 'treatment', 'label')\n",
    "  )"
   ]
  },
  {
   "cell_type": "code",
   "execution_count": 94,
   "metadata": {
    "scrolled": true
   },
   "outputs": [
    {
     "data": {
      "text/html": [
       "<table>\n",
       "<caption>A data.frame: 23 × 4</caption>\n",
       "<thead>\n",
       "\t<tr><th scope=col>subtype</th><th scope=col>d33_mrd</th><th scope=col>treatment</th><th scope=col>label</th></tr>\n",
       "\t<tr><th scope=col>&lt;fct&gt;</th><th scope=col>&lt;dbl&gt;</th><th scope=col>&lt;fct&gt;</th><th scope=col>&lt;fct&gt;</th></tr>\n",
       "</thead>\n",
       "<tbody>\n",
       "\t<tr><td>BCR-ABL </td><td>1e-04</td><td>BMT</td><td>0</td></tr>\n",
       "\t<tr><td>BCR-ABL </td><td>1e-04</td><td>BMT</td><td>0</td></tr>\n",
       "\t<tr><td>BCR-ABL </td><td>2e-03</td><td>BMT</td><td>0</td></tr>\n",
       "\t<tr><td>BCR-ABL </td><td>1e-04</td><td>BMT</td><td>0</td></tr>\n",
       "\t<tr><td>BCR-ABL </td><td>7e-03</td><td>HR1</td><td>0</td></tr>\n",
       "\t<tr><td>MLL     </td><td>2e-04</td><td>HR1</td><td>0</td></tr>\n",
       "\t<tr><td>T-ALL   </td><td>8e-02</td><td>HR1</td><td>0</td></tr>\n",
       "\t<tr><td>T-ALL   </td><td>1e-04</td><td>HR1</td><td>0</td></tr>\n",
       "\t<tr><td>T-ALL   </td><td>3e-02</td><td>HR1</td><td>0</td></tr>\n",
       "\t<tr><td>TEL-AML1</td><td>1e-04</td><td>HR1</td><td>0</td></tr>\n",
       "\t<tr><td>TEL-AML1</td><td>1e-04</td><td>HR1</td><td>0</td></tr>\n",
       "\t<tr><td>BCR-ABL </td><td>1e+00</td><td>BMT</td><td>1</td></tr>\n",
       "\t<tr><td>BCR-ABL </td><td>3e-01</td><td>BMT</td><td>1</td></tr>\n",
       "\t<tr><td>BCR-ABL </td><td>1e+00</td><td>BMT</td><td>1</td></tr>\n",
       "\t<tr><td>MLL     </td><td>1e-04</td><td>BMT</td><td>1</td></tr>\n",
       "\t<tr><td>TEL-AML1</td><td>1e-04</td><td>BMT</td><td>1</td></tr>\n",
       "\t<tr><td>BCR-ABL </td><td>7e-04</td><td>HR1</td><td>1</td></tr>\n",
       "\t<tr><td>BCR-ABL </td><td>9e-02</td><td>HR1</td><td>1</td></tr>\n",
       "\t<tr><td>MLL     </td><td>2e-02</td><td>HR1</td><td>1</td></tr>\n",
       "\t<tr><td>MLL     </td><td>1e-02</td><td>HR1</td><td>1</td></tr>\n",
       "\t<tr><td>MLL     </td><td>3e-04</td><td>HR1</td><td>1</td></tr>\n",
       "\t<tr><td>T-ALL   </td><td>4e-03</td><td>HR2</td><td>1</td></tr>\n",
       "\t<tr><td>T-ALL   </td><td>2e-02</td><td>HR2</td><td>1</td></tr>\n",
       "</tbody>\n",
       "</table>\n"
      ],
      "text/latex": [
       "A data.frame: 23 × 4\n",
       "\\begin{tabular}{r|llll}\n",
       " subtype & d33\\_mrd & treatment & label\\\\\n",
       " <fct> & <dbl> & <fct> & <fct>\\\\\n",
       "\\hline\n",
       "\t BCR-ABL  & 1e-04 & BMT & 0\\\\\n",
       "\t BCR-ABL  & 1e-04 & BMT & 0\\\\\n",
       "\t BCR-ABL  & 2e-03 & BMT & 0\\\\\n",
       "\t BCR-ABL  & 1e-04 & BMT & 0\\\\\n",
       "\t BCR-ABL  & 7e-03 & HR1 & 0\\\\\n",
       "\t MLL      & 2e-04 & HR1 & 0\\\\\n",
       "\t T-ALL    & 8e-02 & HR1 & 0\\\\\n",
       "\t T-ALL    & 1e-04 & HR1 & 0\\\\\n",
       "\t T-ALL    & 3e-02 & HR1 & 0\\\\\n",
       "\t TEL-AML1 & 1e-04 & HR1 & 0\\\\\n",
       "\t TEL-AML1 & 1e-04 & HR1 & 0\\\\\n",
       "\t BCR-ABL  & 1e+00 & BMT & 1\\\\\n",
       "\t BCR-ABL  & 3e-01 & BMT & 1\\\\\n",
       "\t BCR-ABL  & 1e+00 & BMT & 1\\\\\n",
       "\t MLL      & 1e-04 & BMT & 1\\\\\n",
       "\t TEL-AML1 & 1e-04 & BMT & 1\\\\\n",
       "\t BCR-ABL  & 7e-04 & HR1 & 1\\\\\n",
       "\t BCR-ABL  & 9e-02 & HR1 & 1\\\\\n",
       "\t MLL      & 2e-02 & HR1 & 1\\\\\n",
       "\t MLL      & 1e-02 & HR1 & 1\\\\\n",
       "\t MLL      & 3e-04 & HR1 & 1\\\\\n",
       "\t T-ALL    & 4e-03 & HR2 & 1\\\\\n",
       "\t T-ALL    & 2e-02 & HR2 & 1\\\\\n",
       "\\end{tabular}\n"
      ],
      "text/markdown": [
       "\n",
       "A data.frame: 23 × 4\n",
       "\n",
       "| subtype &lt;fct&gt; | d33_mrd &lt;dbl&gt; | treatment &lt;fct&gt; | label &lt;fct&gt; |\n",
       "|---|---|---|---|\n",
       "| BCR-ABL  | 1e-04 | BMT | 0 |\n",
       "| BCR-ABL  | 1e-04 | BMT | 0 |\n",
       "| BCR-ABL  | 2e-03 | BMT | 0 |\n",
       "| BCR-ABL  | 1e-04 | BMT | 0 |\n",
       "| BCR-ABL  | 7e-03 | HR1 | 0 |\n",
       "| MLL      | 2e-04 | HR1 | 0 |\n",
       "| T-ALL    | 8e-02 | HR1 | 0 |\n",
       "| T-ALL    | 1e-04 | HR1 | 0 |\n",
       "| T-ALL    | 3e-02 | HR1 | 0 |\n",
       "| TEL-AML1 | 1e-04 | HR1 | 0 |\n",
       "| TEL-AML1 | 1e-04 | HR1 | 0 |\n",
       "| BCR-ABL  | 1e+00 | BMT | 1 |\n",
       "| BCR-ABL  | 3e-01 | BMT | 1 |\n",
       "| BCR-ABL  | 1e+00 | BMT | 1 |\n",
       "| MLL      | 1e-04 | BMT | 1 |\n",
       "| TEL-AML1 | 1e-04 | BMT | 1 |\n",
       "| BCR-ABL  | 7e-04 | HR1 | 1 |\n",
       "| BCR-ABL  | 9e-02 | HR1 | 1 |\n",
       "| MLL      | 2e-02 | HR1 | 1 |\n",
       "| MLL      | 1e-02 | HR1 | 1 |\n",
       "| MLL      | 3e-04 | HR1 | 1 |\n",
       "| T-ALL    | 4e-03 | HR2 | 1 |\n",
       "| T-ALL    | 2e-02 | HR2 | 1 |\n",
       "\n"
      ],
      "text/plain": [
       "   subtype  d33_mrd treatment label\n",
       "1  BCR-ABL  1e-04   BMT       0    \n",
       "2  BCR-ABL  1e-04   BMT       0    \n",
       "3  BCR-ABL  2e-03   BMT       0    \n",
       "4  BCR-ABL  1e-04   BMT       0    \n",
       "5  BCR-ABL  7e-03   HR1       0    \n",
       "6  MLL      2e-04   HR1       0    \n",
       "7  T-ALL    8e-02   HR1       0    \n",
       "8  T-ALL    1e-04   HR1       0    \n",
       "9  T-ALL    3e-02   HR1       0    \n",
       "10 TEL-AML1 1e-04   HR1       0    \n",
       "11 TEL-AML1 1e-04   HR1       0    \n",
       "12 BCR-ABL  1e+00   BMT       1    \n",
       "13 BCR-ABL  3e-01   BMT       1    \n",
       "14 BCR-ABL  1e+00   BMT       1    \n",
       "15 MLL      1e-04   BMT       1    \n",
       "16 TEL-AML1 1e-04   BMT       1    \n",
       "17 BCR-ABL  7e-04   HR1       1    \n",
       "18 BCR-ABL  9e-02   HR1       1    \n",
       "19 MLL      2e-02   HR1       1    \n",
       "20 MLL      1e-02   HR1       1    \n",
       "21 MLL      3e-04   HR1       1    \n",
       "22 T-ALL    4e-03   HR2       1    \n",
       "23 T-ALL    2e-02   HR2       1    "
      ]
     },
     "metadata": {},
     "output_type": "display_data"
    }
   ],
   "source": [
    "y1 %>%\n",
    "  subset(\n",
    "    treatment %in% c('HR1', 'HR2', 'BMT'),\n",
    "    c('subtype', 'd33_mrd', 'treatment', 'label')\n",
    "  ) %>%\n",
    "  arrange(label, treatment)"
   ]
  },
  {
   "cell_type": "markdown",
   "metadata": {},
   "source": [
    "# Contentious cases\n",
    "- CCR patients that can be de-escalated\n",
    "    - Show that probability corresponds to low MRD\n",
    "- Relapse patients that may benefit from lower intensity (unable to handle HR)"
   ]
  },
  {
   "cell_type": "code",
   "execution_count": 391,
   "metadata": {},
   "outputs": [],
   "source": [
    "options(repr.plot.width = 8, repr.plot.height = 4)"
   ]
  },
  {
   "cell_type": "code",
   "execution_count": 458,
   "metadata": {},
   "outputs": [
    {
     "name": "stderr",
     "output_type": "stream",
     "text": [
      "Warning message:\n",
      "“Removed 5 rows containing missing values (geom_point).”"
     ]
    },
    {
     "data": {
      "image/png": "[encoded data removed]",
      "text/plain": [
       "plot without title"
      ]
     },
     "metadata": {},
     "output_type": "display_data"
    }
   ],
   "source": [
    "metadata_eval <- metadata_pid[\n",
    "  rownames(p_d8),\n",
    "  c('subtype','treatment', 'd33_mrd', 'wk12_mrd', 'label')\n",
    "]\n",
    "eval_d8 <- cbind(p_d8, metadata_eval)\n",
    "eval_ccr <- eval_d8 %>%\n",
    "  subset(\n",
    "    label == 0 & treatment %in% c('BMT', 'HR1', 'HR2')\n",
    "  )\n",
    "\n",
    "ax1 <- ggplot(eval_ccr) +\n",
    "  geom_point(\n",
    "    aes(p_d8, log10(d33_mrd), shape = treatment),\n",
    "    color = 'red', cex = 3, alpha = .7, show.legend = FALSE\n",
    "  ) +\n",
    "  xlim(c(0, 1))\n",
    "\n",
    "ax2 <- ggplot(eval_ccr) +\n",
    "  geom_point(\n",
    "    aes(p_d8, log10(wk12_mrd), shape = treatment),\n",
    "    color = 'red', cex = 3, alpha = .7, show.legend = TRUE\n",
    "  ) +\n",
    "  xlim(c(0, 1))\n",
    "\n",
    "fig <- plot_grid(ax1, ax2)\n",
    "fig\n",
    "# ggsave('~/Dropbox/tmp/relapse.pdf', fig, width = 6, height = 3)"
   ]
  },
  {
   "cell_type": "code",
   "execution_count": 459,
   "metadata": {
    "scrolled": true
   },
   "outputs": [
    {
     "data": {
      "text/html": [
       "<table>\n",
       "<caption>A data.frame: 11 × 6</caption>\n",
       "<thead>\n",
       "\t<tr><th></th><th scope=col>p_d8</th><th scope=col>subtype</th><th scope=col>treatment</th><th scope=col>d33_mrd</th><th scope=col>wk12_mrd</th><th scope=col>label</th></tr>\n",
       "\t<tr><th></th><th scope=col>&lt;dbl&gt;</th><th scope=col>&lt;fct&gt;</th><th scope=col>&lt;fct&gt;</th><th scope=col>&lt;dbl&gt;</th><th scope=col>&lt;dbl&gt;</th><th scope=col>&lt;fct&gt;</th></tr>\n",
       "</thead>\n",
       "<tbody>\n",
       "\t<tr><th scope=row>P053</th><td>0.73333333</td><td>BCR-ABL </td><td>BMT</td><td>1e-04</td><td>1e-08</td><td>0</td></tr>\n",
       "\t<tr><th scope=row>P054</th><td>0.73333333</td><td>BCR-ABL </td><td>HR1</td><td>7e-03</td><td>   NA</td><td>0</td></tr>\n",
       "\t<tr><th scope=row>P055</th><td>0.33333333</td><td>BCR-ABL </td><td>BMT</td><td>1e-04</td><td>1e-08</td><td>0</td></tr>\n",
       "\t<tr><th scope=row>P170</th><td>0.86666667</td><td>BCR-ABL </td><td>BMT</td><td>2e-03</td><td>   NA</td><td>0</td></tr>\n",
       "\t<tr><th scope=row>P175</th><td>0.33333333</td><td>BCR-ABL </td><td>BMT</td><td>1e-04</td><td>1e-08</td><td>0</td></tr>\n",
       "\t<tr><th scope=row>P160</th><td>0.88888889</td><td>MLL     </td><td>HR1</td><td>2e-04</td><td>   NA</td><td>0</td></tr>\n",
       "\t<tr><th scope=row>P004</th><td>0.50000000</td><td>T-ALL   </td><td>HR1</td><td>8e-02</td><td>   NA</td><td>0</td></tr>\n",
       "\t<tr><th scope=row>P010</th><td>0.12500000</td><td>T-ALL   </td><td>HR1</td><td>1e-04</td><td>   NA</td><td>0</td></tr>\n",
       "\t<tr><th scope=row>P103</th><td>0.33333333</td><td>T-ALL   </td><td>HR1</td><td>3e-02</td><td>1e-06</td><td>0</td></tr>\n",
       "\t<tr><th scope=row>P018</th><td>0.06896552</td><td>TEL-AML1</td><td>HR1</td><td>1e-04</td><td>1e-08</td><td>0</td></tr>\n",
       "\t<tr><th scope=row>P032</th><td>0.11494253</td><td>TEL-AML1</td><td>HR1</td><td>1e-04</td><td>1e-08</td><td>0</td></tr>\n",
       "</tbody>\n",
       "</table>\n"
      ],
      "text/latex": [
       "A data.frame: 11 × 6\n",
       "\\begin{tabular}{r|llllll}\n",
       "  & p\\_d8 & subtype & treatment & d33\\_mrd & wk12\\_mrd & label\\\\\n",
       "  & <dbl> & <fct> & <fct> & <dbl> & <dbl> & <fct>\\\\\n",
       "\\hline\n",
       "\tP053 & 0.73333333 & BCR-ABL  & BMT & 1e-04 & 1e-08 & 0\\\\\n",
       "\tP054 & 0.73333333 & BCR-ABL  & HR1 & 7e-03 &    NA & 0\\\\\n",
       "\tP055 & 0.33333333 & BCR-ABL  & BMT & 1e-04 & 1e-08 & 0\\\\\n",
       "\tP170 & 0.86666667 & BCR-ABL  & BMT & 2e-03 &    NA & 0\\\\\n",
       "\tP175 & 0.33333333 & BCR-ABL  & BMT & 1e-04 & 1e-08 & 0\\\\\n",
       "\tP160 & 0.88888889 & MLL      & HR1 & 2e-04 &    NA & 0\\\\\n",
       "\tP004 & 0.50000000 & T-ALL    & HR1 & 8e-02 &    NA & 0\\\\\n",
       "\tP010 & 0.12500000 & T-ALL    & HR1 & 1e-04 &    NA & 0\\\\\n",
       "\tP103 & 0.33333333 & T-ALL    & HR1 & 3e-02 & 1e-06 & 0\\\\\n",
       "\tP018 & 0.06896552 & TEL-AML1 & HR1 & 1e-04 & 1e-08 & 0\\\\\n",
       "\tP032 & 0.11494253 & TEL-AML1 & HR1 & 1e-04 & 1e-08 & 0\\\\\n",
       "\\end{tabular}\n"
      ],
      "text/markdown": [
       "\n",
       "A data.frame: 11 × 6\n",
       "\n",
       "| <!--/--> | p_d8 &lt;dbl&gt; | subtype &lt;fct&gt; | treatment &lt;fct&gt; | d33_mrd &lt;dbl&gt; | wk12_mrd &lt;dbl&gt; | label &lt;fct&gt; |\n",
       "|---|---|---|---|---|---|---|\n",
       "| P053 | 0.73333333 | BCR-ABL  | BMT | 1e-04 | 1e-08 | 0 |\n",
       "| P054 | 0.73333333 | BCR-ABL  | HR1 | 7e-03 |    NA | 0 |\n",
       "| P055 | 0.33333333 | BCR-ABL  | BMT | 1e-04 | 1e-08 | 0 |\n",
       "| P170 | 0.86666667 | BCR-ABL  | BMT | 2e-03 |    NA | 0 |\n",
       "| P175 | 0.33333333 | BCR-ABL  | BMT | 1e-04 | 1e-08 | 0 |\n",
       "| P160 | 0.88888889 | MLL      | HR1 | 2e-04 |    NA | 0 |\n",
       "| P004 | 0.50000000 | T-ALL    | HR1 | 8e-02 |    NA | 0 |\n",
       "| P010 | 0.12500000 | T-ALL    | HR1 | 1e-04 |    NA | 0 |\n",
       "| P103 | 0.33333333 | T-ALL    | HR1 | 3e-02 | 1e-06 | 0 |\n",
       "| P018 | 0.06896552 | TEL-AML1 | HR1 | 1e-04 | 1e-08 | 0 |\n",
       "| P032 | 0.11494253 | TEL-AML1 | HR1 | 1e-04 | 1e-08 | 0 |\n",
       "\n"
      ],
      "text/plain": [
       "     p_d8       subtype  treatment d33_mrd wk12_mrd label\n",
       "P053 0.73333333 BCR-ABL  BMT       1e-04   1e-08    0    \n",
       "P054 0.73333333 BCR-ABL  HR1       7e-03      NA    0    \n",
       "P055 0.33333333 BCR-ABL  BMT       1e-04   1e-08    0    \n",
       "P170 0.86666667 BCR-ABL  BMT       2e-03      NA    0    \n",
       "P175 0.33333333 BCR-ABL  BMT       1e-04   1e-08    0    \n",
       "P160 0.88888889 MLL      HR1       2e-04      NA    0    \n",
       "P004 0.50000000 T-ALL    HR1       8e-02      NA    0    \n",
       "P010 0.12500000 T-ALL    HR1       1e-04      NA    0    \n",
       "P103 0.33333333 T-ALL    HR1       3e-02   1e-06    0    \n",
       "P018 0.06896552 TEL-AML1 HR1       1e-04   1e-08    0    \n",
       "P032 0.11494253 TEL-AML1 HR1       1e-04   1e-08    0    "
      ]
     },
     "metadata": {},
     "output_type": "display_data"
    }
   ],
   "source": [
    "eval_ccr"
   ]
  },
  {
   "cell_type": "code",
   "execution_count": null,
   "metadata": {},
   "outputs": [],
   "source": []
  }
 ],
 "metadata": {
  "kernelspec": {
   "display_name": "R",
   "language": "R",
   "name": "ir"
  },
  "language_info": {
   "codemirror_mode": "r",
   "file_extension": ".r",
   "mimetype": "text/x-r-source",
   "name": "R",
   "pygments_lexer": "r",
   "version": "3.5.1"
  }
 },
 "nbformat": 4,
 "nbformat_minor": 2
}
