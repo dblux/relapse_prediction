{
 "cells": [
  {
   "cell_type": "code",
   "execution_count": 10,
   "metadata": {
    "scrolled": true
   },
   "outputs": [
    {
     "name": "stderr",
     "output_type": "stream",
     "text": [
      "\n",
      "********************************************************\n",
      "Note: As of version 1.0.0, cowplot does not change the\n",
      "  default ggplot2 theme anymore. To recover the previous\n",
      "  behavior, execute:\n",
      "  theme_set(theme_cowplot())\n",
      "********************************************************\n",
      "\n"
     ]
    }
   ],
   "source": [
    "library(dplyr)\n",
    "library(tibble)\n",
    "library(reshape2)\n",
    "library(xtable)\n",
    "\n",
    "library(RColorBrewer)\n",
    "library(ggplot2)\n",
    "library(cowplot)\n",
    "\n",
    "theme_set(theme_bw())"
   ]
  },
  {
   "cell_type": "code",
   "execution_count": 63,
   "metadata": {},
   "outputs": [],
   "source": [
    "source(\"../R/calc.R\")\n",
    "source(\"../R/misc.R\")\n",
    "source(\"../R/normalise.R\")\n",
    "source(\"../R/plot.R\")\n",
    "source(\"../R/predict.R\")\n",
    "source(\"../R/subset.R\")\n",
    "source(\"../R/utils.R\")"
   ]
  },
  {
   "cell_type": "markdown",
   "metadata": {},
   "source": [
    "## Import data"
   ]
  },
  {
   "cell_type": "code",
   "execution_count": 4,
   "metadata": {
    "scrolled": false
   },
   "outputs": [
    {
     "name": "stdout",
     "output_type": "stream",
     "text": [
      "  P001_D0   P004_D0   P005_D0   P007_D0   P008_D0   P009_D0 \n",
      " 5.796952  4.123342  3.981577  6.317643  4.841458 11.978124 \n",
      "[1] \"No. of ambiguous and AFFY probesets removed: 10503\"\n",
      "[1] D0 D0 D0 D0 D0 D0\n",
      "Levels: D0 D8 N\n",
      "           D0    D8     N\n",
      "1053_at  TRUE  TRUE  TRUE\n",
      "117_at  FALSE  TRUE  TRUE\n",
      "121_at   TRUE  TRUE  TRUE\n",
      "1294_at  TRUE  TRUE  TRUE\n",
      "1316_at  TRUE  TRUE  TRUE\n",
      "1320_at FALSE FALSE FALSE\n",
      "[1] \"No. of probesets removed = 6321\"\n"
     ]
    }
   ],
   "source": [
    "### ANNOTATIONS\n",
    "METADATA_SID <- \"../data/GSE67684/processed/metadata/sid-metadata_v2.tsv\"\n",
    "METADATA_PID <- \"../data/GSE67684/processed/metadata/pid-metadata_v7.tsv\"\n",
    "\n",
    "metadata_sid <- read.table(METADATA_SID, sep = \"\\t\")\n",
    "metadata_pid <- read.table(METADATA_PID, sep = \"\\t\", row.names = 1, quote = '\"')\n",
    "metadata_pid$label <- as.factor(metadata_pid$label)\n",
    "\n",
    "### DATA\n",
    "# Removed outliers, patients with timepoints from different batches and batch 5\n",
    "SUBSET_RPATH <- \"../data/GSE67684/processed/subset_yeoh.tsv\"\n",
    "raw_yeoh <- read.table(SUBSET_RPATH, sep = \"\\t\")\n",
    "# SCALE->REMOVE->FILTER->LOG\n",
    "scaled_yeoh <- normaliseMeanScaling(raw_yeoh)\n",
    "selected_yeoh <- removeProbesets(scaled_yeoh)\n",
    "yeoh <- log2_transform(filterProbesets(selected_yeoh, 0.7, metadata_sid))\n",
    "\n",
    "yeoh_allps <- log2_transform(scaled_yeoh)\n",
    "yeoh_unfltr <- log2_transform(selected_yeoh)"
   ]
  },
  {
   "cell_type": "markdown",
   "metadata": {},
   "source": [
    "### Commonly used globals"
   ]
  },
  {
   "cell_type": "markdown",
   "metadata": {},
   "source": [
    "#### All train set (incl. hyperdiploid, others)\n",
    "- For feature investigation. Remove hypodiploid\n",
    "- Not required in code!\n",
    "\n",
    "#### All train set (excl. hyperdiploid, others)\n",
    "- Does not contain heterogeneous subtypes and MRD NA samples\n",
    "\n",
    "#### Train/test split (excl. hyperdiploid, others)\n",
    "- Test set does not contain heterogeneous subtypes and MRD NA samples\n",
    "- Training set should have the same distribution as test set"
   ]
  },
  {
   "cell_type": "code",
   "execution_count": 5,
   "metadata": {},
   "outputs": [],
   "source": [
    "### GLOBAL VARIABLES\n",
    "metadata <- metadata_sid[colnames(yeoh),]\n",
    "heatmap_metadata <- metadata[, c(\"batch_info\", \"label\"), drop = F]\n",
    "COL_LABEL <- c(\"darkolivegreen3\", \"tomato3\")\n",
    "\n",
    "# List subtypes\n",
    "subtypes9 <- levels(metadata_sid$subtype)\n",
    "subtypes7 <- setdiff(subtypes9, c(\"Hypodiploid\", \"Normal\"))\n",
    "subtypes6 <- setdiff(subtypes7, \"Others\")\n",
    "subtypes5 <- setdiff(\n",
    "  subtypes9,\n",
    "  c(\"Hypodiploid\", \"Normal\", \"Hyperdiploid\", \"Others\")\n",
    ")\n",
    "others <- yeoh[, metadata$subtype == \"Others\"]\n",
    "others_normal <- yeoh[, metadata$subtype %in% c(\"Others\", \"Normal\")]\n",
    "\n",
    "# Define train/test split\n",
    "sid_mrd_na <- rownames(metadata_pid)[is.na(metadata_pid$d33_mrd)] %>%\n",
    "  rep(each = 2) %>%\n",
    "  paste0(c(\"_D0\", \"_D8\"))\n",
    "\n",
    "sid_alltrain_local <- rownames(metadata)[\n",
    "  !(metadata$subtype %in% c(\"Hypodiploid\", \"Normal\")) &\n",
    "  !(rownames(metadata) %in% sid_mrd_na)\n",
    "]\n",
    "sid_alltrain <- rownames(metadata)[\n",
    "  !(metadata$subtype %in% c(\"Hypodiploid\", \"Hyperdiploid\", \"Others\", \"Normal\")) &\n",
    "  !(rownames(metadata) %in% sid_mrd_na)\n",
    "]\n",
    "sid_train <- rownames(metadata)[\n",
    "  metadata$batch_info %in% 1:7 &\n",
    "  !(metadata$subtype %in% c(\"Hypodiploid\", \"Hyperdiploid\", \"Others\", \"Normal\")) &\n",
    "  !(rownames(metadata) %in% sid_mrd_na)\n",
    "]\n",
    "sid_test <- rownames(metadata)[\n",
    "  metadata$batch_info %in% 8:10 &\n",
    "  !(metadata$subtype %in% c(\"Hypodiploid\", \"Hyperdiploid\", \"Others\", \"Normal\")) &\n",
    "  !(rownames(metadata) %in% sid_mrd_na)\n",
    "]\n",
    "\n",
    "sid_remission <- rownames(metadata)[metadata$label == 0]\n",
    "sid_normal <- paste0(\"N0\", c(1,2,4))"
   ]
  },
  {
   "cell_type": "markdown",
   "metadata": {},
   "source": [
    "### Train/test split: Patients distribution"
   ]
  },
  {
   "cell_type": "code",
   "execution_count": 379,
   "metadata": {
    "scrolled": true
   },
   "outputs": [
    {
     "name": "stdout",
     "output_type": "stream",
     "text": [
      "% latex table generated in R 3.5.1 by xtable 1.8-4 package\n",
      "% Wed May 26 00:37:42 2021\n",
      "\\begin{table}[ht]\n",
      "\\centering\n",
      "\\begin{tabular}{rrr}\n",
      "  \\hline\n",
      " & 0 & 1 \\\\ \n",
      "  \\hline\n",
      "BCR-ABL &   4 &   5 \\\\ \n",
      "  E2A-PBX1 &   3 &   0 \\\\ \n",
      "  Hyperdiploid &   0 &   0 \\\\ \n",
      "  Hypodiploid &   0 &   0 \\\\ \n",
      "  MLL &   2 &   2 \\\\ \n",
      "  Normal &   0 &   0 \\\\ \n",
      "  Others &   0 &   0 \\\\ \n",
      "  T-ALL &   7 &   1 \\\\ \n",
      "  TEL-AML1 &  20 &   4 \\\\ \n",
      "   \\hline\n",
      "\\end{tabular}\n",
      "\\end{table}\n",
      "% latex table generated in R 3.5.1 by xtable 1.8-4 package\n",
      "% Wed May 26 00:37:42 2021\n",
      "\\begin{table}[ht]\n",
      "\\centering\n",
      "\\begin{tabular}{rrr}\n",
      "  \\hline\n",
      " & 0 & 1 \\\\ \n",
      "  \\hline\n",
      "BCR-ABL &   1 &   0 \\\\ \n",
      "  E2A-PBX1 &   2 &   1 \\\\ \n",
      "  Hyperdiploid &   0 &   0 \\\\ \n",
      "  Hypodiploid &   0 &   0 \\\\ \n",
      "  MLL &   1 &   2 \\\\ \n",
      "  Normal &   0 &   0 \\\\ \n",
      "  Others &   0 &   0 \\\\ \n",
      "  T-ALL &   1 &   1 \\\\ \n",
      "  TEL-AML1 &   9 &   1 \\\\ \n",
      "   \\hline\n",
      "\\end{tabular}\n",
      "\\end{table}\n"
     ]
    }
   ],
   "source": [
    "# # TODO: Do not evaluate to heterogeneous subtypes\n",
    "# train_distr <- table(\n",
    "#   Y[sid_train, \"subtype\"],\n",
    "#   Y[sid_train, \"label\"]\n",
    "# )/2\n",
    "# test_distr <- table(\n",
    "#   Y[sid_test, \"subtype\"],\n",
    "#   Y[sid_test, \"label\"]\n",
    "# )/2\n",
    "\n",
    "# # # Transfer all relapse samples to test set\n",
    "# # test_distr[, 2]<- test_distr[, 2] + train_distr[, 2]\n",
    "# # train_distr[, 2] <- 0\n",
    "\n",
    "# print(xtable(train_distr, display = rep(\"d\", 3)))\n",
    "# print(xtable(test_distr, display = rep(\"d\", 3)))"
   ]
  },
  {
   "cell_type": "markdown",
   "metadata": {},
   "source": [
    "## Relapse prediction"
   ]
  },
  {
   "cell_type": "markdown",
   "metadata": {},
   "source": [
    "Factors of variation: Timepoint, batch, subtype, remission"
   ]
  },
  {
   "cell_type": "markdown",
   "metadata": {},
   "source": [
    "### Batch genes"
   ]
  },
  {
   "cell_type": "markdown",
   "metadata": {},
   "source": [
    "Constant: Timepoint, subtype , remission"
   ]
  },
  {
   "cell_type": "code",
   "execution_count": 6,
   "metadata": {},
   "outputs": [
    {
     "name": "stdout",
     "output_type": "stream",
     "text": [
      "[1] \"No. of NaNs = 0\"\n"
     ]
    },
    {
     "data": {
      "text/html": [
       "2565"
      ],
      "text/latex": [
       "2565"
      ],
      "text/markdown": [
       "2565"
      ],
      "text/plain": [
       "[1] 2565"
      ]
     },
     "metadata": {},
     "output_type": "display_data"
    }
   ],
   "source": [
    "batch_ps <- identify_batch_features(yeoh, metadata, method = 'aov')\n",
    "length(batch_ps)"
   ]
  },
  {
   "cell_type": "markdown",
   "metadata": {},
   "source": [
    "### Drug genes"
   ]
  },
  {
   "cell_type": "markdown",
   "metadata": {},
   "source": [
    "Constant: Subtype, remission"
   ]
  },
  {
   "cell_type": "markdown",
   "metadata": {},
   "source": [
    "### M1: Entire data"
   ]
  },
  {
   "cell_type": "code",
   "execution_count": 7,
   "metadata": {},
   "outputs": [],
   "source": [
    "# list_subtype_sids <- lapply(\n",
    "#   subtypes7,\n",
    "#   function(subtype) {\n",
    "#     sid_alltrain_local[metadata_sid[sid_alltrain_local, \"subtype\"] == subtype]\n",
    "#   }\n",
    "# )"
   ]
  },
  {
   "cell_type": "code",
   "execution_count": 38,
   "metadata": {
    "scrolled": false
   },
   "outputs": [
    {
     "name": "stdout",
     "output_type": "stream",
     "text": [
      "[1] \"No. of NaN values in log-fc = 0\"\n",
      "[1] \"No. of probesets excluded by expr threshold = 725\"\n",
      "[1] \"No. of features (p-value) = 170\"\n",
      "[1] \"No. of features (log2-fc) = 214\"\n",
      "No. of features selected = 21\n",
      "No. of final genes = 14\n",
      "No. of samples in centroid = 5\n",
      "No. of remission samples in training set = 5\n",
      "[1] \"No. of NaN values in log-fc = 0\"\n",
      "[1] \"No. of probesets excluded by expr threshold = 818\"\n",
      "[1] \"No. of features (p-value) = 744\"\n",
      "[1] \"No. of features (log2-fc) = 753\"\n",
      "No. of features selected = 239\n",
      "No. of final genes = 164\n",
      "No. of samples in centroid = 5\n",
      "No. of remission samples in training set = 5\n",
      "[1] \"No. of NaN values in log-fc = 0\"\n",
      "[1] \"No. of probesets excluded by expr threshold = 718\"\n",
      "[1] \"No. of features (p-value) = 2508\"\n",
      "[1] \"No. of features (log2-fc) = 283\"\n",
      "No. of features selected = 281\n",
      "No. of final genes = 216\n",
      "No. of samples in centroid = 31\n",
      "No. of remission samples in training set = 31\n",
      "[1] \"No. of NaN values in log-fc = 0\"\n",
      "[1] \"No. of probesets excluded by expr threshold = 487\"\n",
      "[1] \"No. of features (p-value) = 614\"\n",
      "[1] \"No. of features (log2-fc) = 1031\"\n",
      "No. of features selected = 262\n",
      "No. of final genes = 170\n",
      "No. of samples in centroid = 3\n",
      "No. of remission samples in training set = 3\n",
      "[1] \"No. of NaN values in log-fc = 0\"\n",
      "[1] \"No. of probesets excluded by expr threshold = 822\"\n",
      "[1] \"No. of features (p-value) = 3081\"\n",
      "[1] \"No. of features (log2-fc) = 448\"\n",
      "No. of features selected = 448\n",
      "No. of final genes = 342\n",
      "No. of samples in centroid = 63\n",
      "No. of remission samples in training set = 63\n",
      "[1] \"No. of NaN values in log-fc = 0\"\n",
      "[1] \"No. of probesets excluded by expr threshold = 998\"\n",
      "[1] \"No. of features (p-value) = 606\"\n",
      "[1] \"No. of features (log2-fc) = 342\"\n",
      "No. of features selected = 136\n",
      "No. of final genes = 110\n",
      "No. of samples in centroid = 8\n",
      "No. of remission samples in training set = 8\n",
      "[1] \"No. of NaN values in log-fc = 0\"\n",
      "[1] \"No. of probesets excluded by expr threshold = 710\"\n",
      "[1] \"No. of features (p-value) = 2765\"\n",
      "[1] \"No. of features (log2-fc) = 507\"\n",
      "No. of features selected = 505\n",
      "No. of final genes = 371\n",
      "No. of samples in centroid = 29\n",
      "No. of remission samples in training set = 29\n"
     ]
    }
   ],
   "source": [
    "X_normal <- yeoh[, sid_normal]\n",
    "list_X_subtypes7 <- lapply(\n",
    "  subtypes7,\n",
    "  function(subtype) {\n",
    "    yeoh[, sid_alltrain_local[metadata_sid[sid_alltrain_local, \"subtype\"] == subtype]]\n",
    "  }\n",
    ")\n",
    "list_obj <- lapply(\n",
    "  list_X_subtypes7,\n",
    "  predict_pipeline,\n",
    "  X_normal,\n",
    "  metadata,\n",
    "  metadata_pid,\n",
    "  batch_ps\n",
    ")\n",
    "names(list_obj) <- subtypes7"
   ]
  },
  {
   "cell_type": "markdown",
   "metadata": {},
   "source": [
    "### Plot boxplots (comparing labels)"
   ]
  },
  {
   "cell_type": "code",
   "execution_count": 39,
   "metadata": {},
   "outputs": [
    {
     "name": "stderr",
     "output_type": "stream",
     "text": [
      "Warning message in wilcox.test.default(list_feat[[1]], list_feat[[2]], exact = T):\n",
      "“cannot compute exact p-value with ties”Warning message in wilcox.test.default(list_feat[[1]], list_feat[[2]], exact = T):\n",
      "“cannot compute exact p-value with ties”Warning message in wilcox.test.default(list_feat[[1]], list_feat[[2]], exact = T):\n",
      "“cannot compute exact p-value with ties”Warning message in wilcox.test.default(list_feat[[1]], list_feat[[2]], exact = T):\n",
      "“cannot compute exact p-value with ties”Warning message in wilcox.test.default(list_feat[[1]], list_feat[[2]], exact = T):\n",
      "“cannot compute exact p-value with ties”Warning message in wilcox.test.default(list_feat[[1]], list_feat[[2]], exact = T):\n",
      "“cannot compute exact p-value with ties”Warning message in wilcox.test.default(list_feat[[1]], list_feat[[2]], exact = T):\n",
      "“cannot compute exact p-value with ties”Warning message in wilcox.test.default(list_feat[[1]], list_feat[[2]], exact = T):\n",
      "“cannot compute exact p-value with ties”Warning message in wilcox.test.default(list_feat[[1]], list_feat[[2]], exact = T):\n",
      "“cannot compute exact p-value with ties”Warning message in wilcox.test.default(list_feat[[1]], list_feat[[2]], exact = T):\n",
      "“cannot compute exact p-value with ties”Warning message in wilcox.test.default(list_feat[[1]], list_feat[[2]], exact = T):\n",
      "“cannot compute exact p-value with ties”Warning message in wilcox.test.default(list_feat[[1]], list_feat[[2]], exact = T):\n",
      "“cannot compute exact p-value with ties”Warning message in wilcox.test.default(list_feat[[1]], list_feat[[2]], exact = T):\n",
      "“cannot compute exact p-value with ties”Warning message in wilcox.test.default(list_feat[[1]], list_feat[[2]], exact = T):\n",
      "“cannot compute exact p-value with ties”Warning message in wilcox.test.default(list_feat[[1]], list_feat[[2]], exact = T):\n",
      "“cannot compute exact p-value with ties”Warning message in wilcox.test.default(list_feat[[1]], list_feat[[2]], exact = T):\n",
      "“cannot compute exact p-value with ties”Warning message in wilcox.test.default(list_feat[[1]], list_feat[[2]], exact = T):\n",
      "“cannot compute exact p-value with ties”"
     ]
    }
   ],
   "source": [
    "list_X_y <- lapply(list_obj, function(obj) obj$X_y)\n",
    "boxplots <- lapply(list_X_y, plot_boxplots)"
   ]
  },
  {
   "cell_type": "code",
   "execution_count": 40,
   "metadata": {
    "scrolled": true
   },
   "outputs": [
    {
     "data": {
      "image/png": "[encoded data removed]",
      "text/plain": [
       "plot without title"
      ]
     },
     "metadata": {},
     "output_type": "display_data"
    }
   ],
   "source": [
    "boxplots[[1]]"
   ]
  },
  {
   "cell_type": "markdown",
   "metadata": {},
   "source": [
    "### Plot boxplots (comparing treatments)"
   ]
  },
  {
   "cell_type": "code",
   "execution_count": 41,
   "metadata": {},
   "outputs": [],
   "source": [
    "list_X_y1 <- lapply(\n",
    "  list_obj,\n",
    "  function(obj) cbind(obj$X_y, metadata_pid[rownames(obj$X_y), \"treatment\", drop = FALSE])\n",
    ")\n",
    "boxplots_treatment <- lapply(list_X_y1, plot_boxplots_v2, colour_by = \"treatment\", shape_by = \"label\")"
   ]
  },
  {
   "cell_type": "code",
   "execution_count": 42,
   "metadata": {
    "scrolled": true
   },
   "outputs": [
    {
     "data": {
      "image/png": "[encoded data removed]",
      "text/plain": [
       "plot without title"
      ]
     },
     "metadata": {},
     "output_type": "display_data"
    }
   ],
   "source": [
    "boxplots_treatment[[1]]"
   ]
  },
  {
   "cell_type": "markdown",
   "metadata": {},
   "source": [
    "### Save probabilities"
   ]
  },
  {
   "cell_type": "code",
   "execution_count": 103,
   "metadata": {},
   "outputs": [],
   "source": [
    "list_p_d8 <- lapply(list_obj, function(obj) obj$X_y[\"p_d8\"])\n",
    "p_d8 <- do.call(rbind, unname(list_p_d8))"
   ]
  },
  {
   "cell_type": "code",
   "execution_count": 104,
   "metadata": {},
   "outputs": [],
   "source": [
    "list_p_d33 <- lapply(list_obj, function(obj) obj$X_y[\"p_d33\"])\n",
    "p_d33 <- do.call(rbind, unname(list_p_d33))"
   ]
  },
  {
   "cell_type": "code",
   "execution_count": null,
   "metadata": {},
   "outputs": [],
   "source": [
    "# write.table(p_d8, \"../tmp/p_d8.tsv\", quote = F, sep = \"\\t\")\n",
    "# write.table(p_d33, \"../tmp/p_d33.tsv\", quote = F, sep = \"\\t\")"
   ]
  },
  {
   "cell_type": "markdown",
   "metadata": {},
   "source": [
    "#### Estimate probability using simulated samples\n",
    "- Features are modelled as normal distributions (median, sd)"
   ]
  },
  {
   "cell_type": "code",
   "execution_count": 338,
   "metadata": {},
   "outputs": [],
   "source": [
    "# list_obj2 <- lapply(\n",
    "#   list_X_subtypes7,\n",
    "#   predict_pipeline,\n",
    "#   X_normal,\n",
    "#   metadata, metadata_pid,\n",
    "#   batch_ps,\n",
    "#   samples = 300\n",
    "# )\n",
    "# names(list_obj2) <- subtypes7"
   ]
  },
  {
   "cell_type": "code",
   "execution_count": 98,
   "metadata": {},
   "outputs": [],
   "source": [
    "# boxplots <- lapply(list_obj1, function(obj) plot_boxplots(obj$X_y))\n",
    "\n",
    "# for (i in seq_len(length(subtypes7))) {\n",
    "#   wpath <- sprintf(\"~/Dropbox/tmp/features_alltrain_simulated-%s.pdf\", subtypes7[i])\n",
    "#   ggsave(wpath, boxplots[[i]], width = 9, height = 2.5)\n",
    "# }"
   ]
  },
  {
   "cell_type": "code",
   "execution_count": 99,
   "metadata": {},
   "outputs": [],
   "source": [
    "# for (i in seq_len(length(subtypes7))) {\n",
    "#   wpath <- sprintf(\"~/Dropbox/tmp/features_treatment-%s.pdf\", subtypes7[i])\n",
    "#   ggsave(wpath, boxplots[[i]], width = 9, height = 2.5)\n",
    "# }"
   ]
  },
  {
   "cell_type": "markdown",
   "metadata": {},
   "source": [
    "### Overall ROC\n",
    "- Estimating probability of remission by calculating percentage of samples in training set with a worse score\n",
    "- Subtype specific model during estimation\n",
    "- Combine probability predictions into an overall ROC curve"
   ]
  },
  {
   "cell_type": "markdown",
   "metadata": {},
   "source": [
    "### M1: Train/test"
   ]
  },
  {
   "cell_type": "markdown",
   "metadata": {},
   "source": [
    "### M1: Test set 1 (w/o Hyp, Others)"
   ]
  },
  {
   "cell_type": "code",
   "execution_count": 56,
   "metadata": {
    "scrolled": true
   },
   "outputs": [],
   "source": [
    "names(list_X_subtypes7) <- subtypes7\n",
    "list_X_subtypes5 <- list_X_subtypes7[subtypes5]"
   ]
  },
  {
   "cell_type": "code",
   "execution_count": 78,
   "metadata": {
    "scrolled": true
   },
   "outputs": [
    {
     "name": "stdout",
     "output_type": "stream",
     "text": [
      "No. of NaN values in log-fc = 0\n",
      "No. of probesets excluded by expr threshold = 760\n",
      "No. of features (p-value) = 132\n",
      "No. of features (log2-fc) = 326\n",
      "No. of DE features = 24\n",
      "No. of final features = 18\n",
      "No. of samples in centroid = 5\n",
      "No. of remission samples in training set = 4\n",
      "No. of remission samples in training set = 4\n",
      "Prediction complete!\n",
      "\n",
      "No. of NaN values in log-fc = 0\n",
      "No. of probesets excluded by expr threshold = 1105\n",
      "No. of features (p-value) = 356\n",
      "No. of features (log2-fc) = 813\n",
      "No. of DE features = 123\n",
      "No. of final features = 79\n",
      "No. of samples in centroid = 5\n",
      "No. of remission samples in training set = 3\n",
      "No. of remission samples in training set = 3\n",
      "Prediction complete!\n",
      "\n",
      "No. of NaN values in log-fc = 0\n",
      "No. of probesets excluded by expr threshold = 384\n",
      "No. of features (p-value) = 459\n",
      "No. of features (log2-fc) = 1281\n",
      "No. of DE features = 164\n",
      "No. of final features = 109\n",
      "No. of samples in centroid = 3\n",
      "No. of remission samples in training set = 2\n",
      "No. of remission samples in training set = 2\n",
      "Prediction complete!\n",
      "\n",
      "No. of NaN values in log-fc = 0\n",
      "No. of probesets excluded by expr threshold = 1033\n",
      "No. of features (p-value) = 488\n",
      "No. of features (log2-fc) = 400\n",
      "No. of DE features = 114\n",
      "No. of final features = 100\n",
      "No. of samples in centroid = 8\n",
      "No. of remission samples in training set = 7\n",
      "No. of remission samples in training set = 7\n",
      "Prediction complete!\n",
      "\n",
      "No. of NaN values in log-fc = 0\n",
      "No. of probesets excluded by expr threshold = 817\n",
      "No. of features (p-value) = 1963\n",
      "No. of features (log2-fc) = 335\n",
      "No. of DE features = 325\n",
      "No. of final features = 243\n",
      "No. of samples in centroid = 29\n",
      "No. of remission samples in training set = 20\n",
      "No. of remission samples in training set = 20\n",
      "Prediction complete!\n",
      "\n"
     ]
    }
   ],
   "source": [
    "list_train_test <- lapply(\n",
    "  list_X_subtypes5,\n",
    "  predict_pipeline,\n",
    "  X_normal,\n",
    "  metadata,\n",
    "  metadata_pid,\n",
    "  batch_ps,\n",
    "  sid_train_test = list(sid_train, sid_test)\n",
    ")"
   ]
  },
  {
   "cell_type": "markdown",
   "metadata": {},
   "source": [
    "### Save probabilities"
   ]
  },
  {
   "cell_type": "code",
   "execution_count": 100,
   "metadata": {},
   "outputs": [],
   "source": [
    "list_p_d8_train <- lapply(list_train_test, function(obj) obj$train$X_y[\"p_d8\"])\n",
    "p_d8_train <- do.call(rbind, unname(list_p_d8_train))\n",
    "\n",
    "list_p_d8_test <- lapply(list_train_test, function(obj) obj$test$X_y[\"p_d8\"])\n",
    "p_d8_test <- do.call(rbind, unname(list_p_d8_test))\n",
    "                         \n",
    "list_p_d33_train <- lapply(list_train_test, function(obj) obj$train$X_y[\"p_d33\"])\n",
    "p_d33_train <- do.call(rbind, unname(list_p_d33_train))\n",
    "\n",
    "list_p_d33_test <- lapply(list_train_test, function(obj) obj$test$X_y[\"p_d33\"])\n",
    "p_d33_test <- do.call(rbind, unname(list_p_d33_test))"
   ]
  },
  {
   "cell_type": "code",
   "execution_count": 102,
   "metadata": {},
   "outputs": [],
   "source": [
    "write.table(p_d8_train, \"../tmp/p_d8-train.tsv\", quote = F, sep = \"\\t\")\n",
    "write.table(p_d8_test, \"../tmp/p_d8-test.tsv\", quote = F, sep = \"\\t\")\n",
    "\n",
    "write.table(p_d33_train, \"../tmp/p_d33-train.tsv\", quote = F, sep = \"\\t\")\n",
    "write.table(p_d33_test, \"../tmp/p_d33-test.tsv\", quote = F, sep = \"\\t\")"
   ]
  }
 ],
 "metadata": {
  "kernelspec": {
   "display_name": "R",
   "language": "R",
   "name": "ir"
  },
  "language_info": {
   "codemirror_mode": "r",
   "file_extension": ".r",
   "mimetype": "text/x-r-source",
   "name": "R",
   "pygments_lexer": "r",
   "version": "3.5.1"
  }
 },
 "nbformat": 4,
 "nbformat_minor": 2
}
