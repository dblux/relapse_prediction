{
 "cells": [
  {
   "cell_type": "code",
   "execution_count": 210,
   "metadata": {
    "scrolled": true
   },
   "outputs": [],
   "source": [
    "library(dplyr)\n",
    "library(tibble)\n",
    "library(tidyr)\n",
    "library(umap)\n",
    "\n",
    "library(RColorBrewer)\n",
    "library(ggplot2)\n",
    "library(cowplot)\n",
    "theme_set(theme_bw())"
   ]
  },
  {
   "cell_type": "code",
   "execution_count": 68,
   "metadata": {},
   "outputs": [],
   "source": [
    "options(repr.plot.width = 8, repr.plot.height = 4)"
   ]
  },
  {
   "cell_type": "code",
   "execution_count": 209,
   "metadata": {},
   "outputs": [
    {
     "name": "stdout",
     "output_type": "stream",
     "text": [
      "Sourced file: ../R/calc.R\n",
      "Sourced file: ../R/misc.R\n",
      "Sourced file: ../R/normalise.R\n",
      "Sourced file: ../R/plot.R\n",
      "Sourced file: ../R/predict.R\n",
      "Sourced file: ../R/subset.R\n",
      "Sourced file: ../R/utils.R\n"
     ]
    }
   ],
   "source": [
    "# source files\n",
    "src_files <- list.files('../R', full.names = TRUE)\n",
    "for (f in src_files) {\n",
    "  source(f)\n",
    "  cat(sprintf('Sourced file: %s\\n', f))\n",
    "}"
   ]
  },
  {
   "cell_type": "markdown",
   "metadata": {},
   "source": [
    "## Import data"
   ]
  },
  {
   "cell_type": "code",
   "execution_count": 4,
   "metadata": {},
   "outputs": [],
   "source": [
    "# Metadata\n",
    "METADATA_SID <- \"../data/GSE67684/processed/metadata/sid-metadata_v2.tsv\"\n",
    "METADATA_PID <- \"../data/GSE67684/processed/metadata/pid-metadata_v7.tsv\"\n",
    "metadata_sid <- read.table(METADATA_SID, sep = \"\\t\")\n",
    "metadata_pid <- read.table(METADATA_PID, sep = \"\\t\", row.names = 1, quote = '\"')\n",
    "\n",
    "## Data\n",
    "# Removed outliers, patients with timepoints from different batches and batch 5\n",
    "SUBSET_RPATH <- \"../data/GSE67684/processed/subset_yeoh.tsv\"\n",
    "raw_yeoh <- read.table(SUBSET_RPATH, sep = \"\\t\")"
   ]
  },
  {
   "cell_type": "code",
   "execution_count": 90,
   "metadata": {
    "scrolled": true
   },
   "outputs": [
    {
     "name": "stdout",
     "output_type": "stream",
     "text": [
      "  P001_D0   P004_D0   P005_D0   P007_D0   P008_D0   P009_D0 \n",
      " 5.796952  4.123342  3.981577  6.317643  4.841458 11.978124 \n",
      "[1] \"No. of ambiguous and AFFY probesets removed: 10503\"\n",
      "[1] D0 D0 D0 D0 D0 D0\n",
      "Levels: D0 D8 N\n",
      "           D0    D8     N\n",
      "1053_at  TRUE  TRUE  TRUE\n",
      "117_at  FALSE  TRUE  TRUE\n",
      "121_at   TRUE  TRUE  TRUE\n",
      "1294_at  TRUE  TRUE  TRUE\n",
      "1316_at  TRUE  TRUE  TRUE\n",
      "1320_at FALSE FALSE FALSE\n",
      "[1] \"No. of probesets removed = 6321\"\n"
     ]
    }
   ],
   "source": [
    "# Metadata\n",
    "metadata_sid$label <- as.factor(metadata_sid$label)\n",
    "levels(metadata_sid$label) <- c('Remission', 'Relapse')\n",
    "metadata_sid$batch_info <- as.factor(metadata_sid$batch_info) \n",
    "metadata_pid$label <- as.factor(metadata_pid$label)\n",
    "levels(metadata_pid$label) <- c('Remission', 'Relapse')\n",
    "\n",
    "# SCALE->REMOVE->FILTER->LOG\n",
    "scaled_yeoh <- normaliseMeanScaling(raw_yeoh)\n",
    "selected_yeoh <- removeProbesets(scaled_yeoh)\n",
    "yeoh <- log2_transform(filterProbesets(selected_yeoh, 0.7, metadata_sid))\n",
    "\n",
    "# All features\n",
    "yeoh_allps <- log2_transform(scaled_yeoh)\n",
    "yeoh_unfltr <- log2_transform(selected_yeoh)"
   ]
  },
  {
   "cell_type": "markdown",
   "metadata": {},
   "source": [
    "### Commonly used globals"
   ]
  },
  {
   "cell_type": "markdown",
   "metadata": {},
   "source": [
    "#### All train set (incl. hyperdiploid, others)\n",
    "- For feature investigation. Remove hypodiploid\n",
    "- Not required in code!\n",
    "\n",
    "#### All train set (excl. hyperdiploid, others)\n",
    "- Does not contain heterogeneous subtypes and MRD NA samples\n",
    "\n",
    "#### Train/test split (excl. hyperdiploid, others)\n",
    "- Test set does not contain heterogeneous subtypes and MRD NA samples\n",
    "- Training set should have the same distribution as test set"
   ]
  },
  {
   "cell_type": "code",
   "execution_count": 91,
   "metadata": {},
   "outputs": [],
   "source": [
    "### GLOBAL VARIABLES\n",
    "metadata <- metadata_sid[colnames(yeoh),]\n",
    "heatmap_metadata <- metadata[, c(\"batch_info\", \"label\"), drop = F]\n",
    "COL_LABEL <- c(\"darkolivegreen3\", \"tomato3\")\n",
    "names(COL_LABEL) <- c('Remission', 'Relapse')\n",
    "\n",
    "# List subtypes\n",
    "subtypes9 <- levels(metadata_sid$subtype)\n",
    "subtypes7 <- setdiff(subtypes9, c(\"Hypodiploid\", \"Normal\"))\n",
    "subtypes6 <- setdiff(subtypes7, \"Others\")\n",
    "subtypes5 <- setdiff(\n",
    "  subtypes9,\n",
    "  c(\"Hypodiploid\", \"Normal\", \"Hyperdiploid\", \"Others\")\n",
    ")\n",
    "others <- yeoh[, metadata$subtype == \"Others\"]\n",
    "others_normal <- yeoh[, metadata$subtype %in% c(\"Others\", \"Normal\")]\n",
    "\n",
    "# Define train/test split\n",
    "sid_mrd_na <- rownames(metadata_pid)[is.na(metadata_pid$d33_mrd)] %>%\n",
    "  rep(each = 2) %>%\n",
    "  paste0(c(\"_D0\", \"_D8\"))\n",
    "\n",
    "sid_alltrain_local <- rownames(metadata)[\n",
    "  !(metadata$subtype %in% c(\"Hypodiploid\", \"Normal\")) &\n",
    "  !(rownames(metadata) %in% sid_mrd_na)\n",
    "]\n",
    "sid_alltrain <- rownames(metadata)[\n",
    "  !(metadata$subtype %in% c(\"Hypodiploid\", \"Hyperdiploid\", \"Others\", \"Normal\")) &\n",
    "  !(rownames(metadata) %in% sid_mrd_na)\n",
    "]\n",
    "sid_train <- rownames(metadata)[\n",
    "  metadata$batch_info %in% 1:7 &\n",
    "  !(metadata$subtype %in% c(\"Hypodiploid\", \"Hyperdiploid\", \"Others\", \"Normal\")) &\n",
    "  !(rownames(metadata) %in% sid_mrd_na)\n",
    "]\n",
    "sid_test <- rownames(metadata)[\n",
    "  metadata$batch_info %in% 8:10 &\n",
    "  !(metadata$subtype %in% c(\"Hypodiploid\", \"Hyperdiploid\", \"Others\", \"Normal\")) &\n",
    "  !(rownames(metadata) %in% sid_mrd_na)\n",
    "]\n",
    "\n",
    "sid_remission <- rownames(metadata)[metadata$label == 'Remission']\n",
    "sid_normal <- paste0(\"N0\", c(1,2,4))"
   ]
  },
  {
   "cell_type": "markdown",
   "metadata": {},
   "source": [
    "## Affy mean scaling\n",
    "\n",
    "## Removal of batch 3"
   ]
  },
  {
   "cell_type": "code",
   "execution_count": 193,
   "metadata": {},
   "outputs": [],
   "source": [
    "# is_affy <- startsWith(rownames(raw_yeoh), 'AFFX')\n",
    "# lg_affy <- log2_transform(raw_yeoh[is_affy, ])\n",
    "# # hist(rowSums(lg_affy), breaks = 20)\n",
    "\n",
    "# # selecting affy probesets with high expression (positive controls)\n",
    "# idx_affy <- rownames(lg_affy)[rowSums(lg_affy) > 1000]\n",
    "# raw_affy <- raw_yeoh[idx_affy, ]\n",
    "\n",
    "# # affy mean scaling\n",
    "# mean_affy <- colSums(raw_affy) / colSums(raw_affy != 0)\n",
    "# scale_factor <- 500 / mean_affy\n",
    "# affyms_yeoh <- sweep(raw_yeoh, 2, scale_factor, `*`)"
   ]
  },
  {
   "cell_type": "code",
   "execution_count": 194,
   "metadata": {
    "scrolled": true
   },
   "outputs": [
    {
     "name": "stdout",
     "output_type": "stream",
     "text": [
      "[1] \"No. of ambiguous and AFFY probesets removed: 10503\"\n",
      "[1] D0 D0 D0 D0 D0 D0\n",
      "Levels: D0 D8 N\n",
      "           D0    D8     N\n",
      "1053_at  TRUE  TRUE  TRUE\n",
      "117_at  FALSE  TRUE  TRUE\n",
      "121_at   TRUE  TRUE  TRUE\n",
      "1294_at  TRUE  TRUE  TRUE\n",
      "1316_at  TRUE  TRUE  TRUE\n",
      "1320_at FALSE FALSE FALSE\n",
      "[1] \"No. of probesets removed = 6321\"\n"
     ]
    }
   ],
   "source": [
    "# log_affyms_yeoh <- affyms_yeoh %>%\n",
    "#   removeProbesets() %>%\n",
    "#   filterProbesets(0.7, metadata_sid) %>%\n",
    "#   log2_transform()\n",
    "\n",
    "# # no features with missing values\n",
    "# log_affyms_nozero_yeoh <- log_affyms_yeoh[rowSums(log_affyms_yeoh == 0) == 0, ]"
   ]
  },
  {
   "cell_type": "markdown",
   "metadata": {},
   "source": [
    "### Train/test split: Patients distribution"
   ]
  },
  {
   "cell_type": "code",
   "execution_count": 14,
   "metadata": {
    "scrolled": true
   },
   "outputs": [],
   "source": [
    "# # TODO: Do not evaluate to heterogeneous subtypes\n",
    "# train_distr <- table(\n",
    "#   Y[sid_train, \"subtype\"],\n",
    "#   Y[sid_train, \"label\"]\n",
    "# )/2\n",
    "# test_distr <- table(\n",
    "#   Y[sid_test, \"subtype\"],\n",
    "#   Y[sid_test, \"label\"]\n",
    "# )/2\n",
    "\n",
    "# # # Transfer all relapse samples to test set\n",
    "# # test_distr[, 2]<- test_distr[, 2] + train_distr[, 2]\n",
    "# # train_distr[, 2] <- 0\n",
    "\n",
    "# print(xtable(train_distr, display = rep(\"d\", 3)))\n",
    "# print(xtable(test_distr, display = rep(\"d\", 3)))"
   ]
  },
  {
   "cell_type": "markdown",
   "metadata": {},
   "source": [
    "## Relapse prediction\n",
    "\n",
    "Factors of variation: Timepoint, batch, subtype, remission"
   ]
  },
  {
   "cell_type": "markdown",
   "metadata": {},
   "source": [
    "### Batch genes\n",
    "\n",
    "Constant: Timepoint, subtype , remission"
   ]
  },
  {
   "cell_type": "code",
   "execution_count": 92,
   "metadata": {},
   "outputs": [
    {
     "name": "stdout",
     "output_type": "stream",
     "text": [
      "[1] \"No. of NaNs = 0\"\n"
     ]
    },
    {
     "data": {
      "text/html": [
       "2565"
      ],
      "text/latex": [
       "2565"
      ],
      "text/markdown": [
       "2565"
      ],
      "text/plain": [
       "[1] 2565"
      ]
     },
     "metadata": {},
     "output_type": "display_data"
    }
   ],
   "source": [
    "batch_ps <- identify_batch_features(yeoh, metadata, method = 'aov')\n",
    "length(batch_ps)"
   ]
  },
  {
   "cell_type": "code",
   "execution_count": 25,
   "metadata": {},
   "outputs": [
    {
     "name": "stdout",
     "output_type": "stream",
     "text": [
      "[1] \"No. of NaNs = 0\"\n"
     ]
    },
    {
     "data": {
      "text/html": [
       "3166"
      ],
      "text/latex": [
       "3166"
      ],
      "text/markdown": [
       "3166"
      ],
      "text/plain": [
       "[1] 3166"
      ]
     },
     "metadata": {},
     "output_type": "display_data"
    }
   ],
   "source": [
    "batch_ps1 <- identify_batch_features(log_affyms_yeoh, metadata, method = 'aov')\n",
    "length(batch_ps1)"
   ]
  },
  {
   "cell_type": "code",
   "execution_count": 75,
   "metadata": {},
   "outputs": [
    {
     "name": "stdout",
     "output_type": "stream",
     "text": [
      "[1] \"No. of NaNs = 0\"\n"
     ]
    },
    {
     "data": {
      "text/html": [
       "2812"
      ],
      "text/latex": [
       "2812"
      ],
      "text/markdown": [
       "2812"
      ],
      "text/plain": [
       "[1] 2812"
      ]
     },
     "metadata": {},
     "output_type": "display_data"
    }
   ],
   "source": [
    "batch_ps2 <- identify_batch_features(log_affyms_nobatch3, metadata, method = 'aov')\n",
    "length(batch_ps2)"
   ]
  },
  {
   "cell_type": "markdown",
   "metadata": {},
   "source": [
    "### Drug genes"
   ]
  },
  {
   "cell_type": "markdown",
   "metadata": {},
   "source": [
    "Constant: Subtype, remission"
   ]
  },
  {
   "cell_type": "markdown",
   "metadata": {},
   "source": [
    "### M1: Entire data"
   ]
  },
  {
   "cell_type": "code",
   "execution_count": 195,
   "metadata": {},
   "outputs": [
    {
     "name": "stdout",
     "output_type": "stream",
     "text": [
      "No. of NaN values in log-fc = 0\n",
      "No. of probesets excluded by expr threshold = 264\n",
      "No. of features (p-value) = 108\n",
      "No. of features (log2-fc) = 23\n",
      "No. of DE features = 3\n",
      "No. of final features = 3\n",
      "No. of samples in centroid = 4\n",
      "P055_D8 has a negative comp_LN_D8N!\n",
      " P056_D8 has a negative comp_LN_D8N!\n",
      " P057_D8 has a negative comp_LN_D8N!\n",
      " P170_D8 has a negative comp_LN_D8N!\n",
      " P175_D8 has a negative comp_LN_D8N!\n",
      " P184_D8 has a negative comp_LN_D8N!\n",
      "No. of remission samples in training set = 4\n",
      "Prediction complete!\n",
      "\n",
      "No. of NaN values in log-fc = 0\n",
      "No. of probesets excluded by expr threshold = 320\n",
      "No. of features (p-value) = 210\n",
      "No. of features (log2-fc) = 93\n",
      "No. of DE features = 49\n",
      "No. of final features = 49\n",
      "No. of samples in centroid = 4\n",
      "P161_D8 has a negative comp_LN_D8N!\n",
      "No. of remission samples in training set = 4\n",
      "Prediction complete!\n",
      "\n",
      "No. of NaN values in log-fc = 0\n",
      "No. of probesets excluded by expr threshold = 270\n",
      "No. of features (p-value) = 756\n",
      "No. of features (log2-fc) = 20\n",
      "No. of DE features = 20\n",
      "No. of final features = 20\n",
      "No. of samples in centroid = 27\n",
      "No. of remission samples in training set = 27\n",
      "Prediction complete!\n",
      "\n",
      "No. of NaN values in log-fc = 0\n",
      "No. of probesets excluded by expr threshold = 243\n",
      "No. of features (p-value) = 472\n",
      "No. of features (log2-fc) = 311\n",
      "No. of DE features = 189\n",
      "No. of final features = 189\n",
      "No. of samples in centroid = 3\n",
      "P122_D8 has a negative comp_LN_D8N!\n",
      " P137_D8 has a negative comp_LN_D8N!\n",
      " P211_D8 has a negative comp_LN_D8N!\n",
      "No. of remission samples in training set = 3\n",
      "Prediction complete!\n",
      "\n",
      "No. of NaN values in log-fc = 0\n",
      "No. of probesets excluded by expr threshold = 320\n",
      "No. of features (p-value) = 1100\n",
      "No. of features (log2-fc) = 44\n",
      "No. of DE features = 44\n",
      "No. of final features = 44\n",
      "No. of samples in centroid = 56\n",
      "P070_D8 has a negative comp_LN_D8N!\n",
      " P071_D8 has a negative comp_LN_D8N!\n",
      " P076_D8 has a negative comp_LN_D8N!\n",
      " P078_D8 has a negative comp_LN_D8N!\n",
      " P087_D8 has a negative comp_LN_D8N!\n",
      " P126_D8 has a negative comp_LN_D8N!\n",
      " P128_D8 has a negative comp_LN_D8N!\n",
      " P204_D8 has a negative comp_LN_D8N!\n",
      " P206_D8 has a negative comp_LN_D8N!\n",
      " P215_D8 has a negative comp_LN_D8N!\n",
      " P217_D8 has a negative comp_LN_D8N!\n",
      "No. of remission samples in training set = 56\n",
      "Prediction complete!\n",
      "\n",
      "No. of NaN values in log-fc = 0\n",
      "No. of probesets excluded by expr threshold = 379\n",
      "No. of features (p-value) = 138\n",
      "No. of features (log2-fc) = 30\n",
      "No. of DE features = 17\n",
      "No. of final features = 17\n",
      "No. of samples in centroid = 4\n",
      "P005_D8 has a negative comp_LN_D8N!\n",
      "No. of remission samples in training set = 4\n",
      "Prediction complete!\n",
      "\n",
      "No. of NaN values in log-fc = 0\n",
      "No. of probesets excluded by expr threshold = 329\n",
      "No. of features (p-value) = 988\n",
      "No. of features (log2-fc) = 55\n",
      "No. of DE features = 55\n",
      "No. of final features = 55\n",
      "No. of samples in centroid = 27\n",
      "P147_D8 has a negative comp_LN_D8N!\n",
      "No. of remission samples in training set = 27\n",
      "Prediction complete!\n",
      "\n"
     ]
    }
   ],
   "source": [
    "# Affy mean scaling - No batch 3 and no features with missing values\n",
    "# Without removing batch effect ps\n",
    "log_affyms_nozero_nobatch3 <- subset_cols(\n",
    "  log_affyms_nozero_yeoh, metadata_sid,\n",
    "  batch_info != 3 & !(colnames(log_affyms_nozero_yeoh) %in% sid_mrd_na)\n",
    ")\n",
    "X_normal <- log_affyms_nozero_nobatch3[, sid_normal]\n",
    "\n",
    "list_X_subtypes7 <- lapply(subtypes7, function(s) {\n",
    "  log_affyms_nozero_nobatch3[\n",
    "    , metadata_sid[colnames(log_affyms_nozero_nobatch3), \"subtype\"] == s]\n",
    "})\n",
    "affyms_nobatch3_nozero_woBE <- lapply(\n",
    "  list_X_subtypes7,\n",
    "  predict_pipeline,\n",
    "  X_normal,\n",
    "  metadata_sid,\n",
    "  metadata_pid\n",
    ")\n",
    "names(affyms_nobatch3_nozero_woBE) <- subtypes7"
   ]
  },
  {
   "cell_type": "code",
   "execution_count": 187,
   "metadata": {},
   "outputs": [
    {
     "name": "stdout",
     "output_type": "stream",
     "text": [
      "No. of NaN values in log-fc = 0\n",
      "No. of probesets excluded by expr threshold = 3427\n",
      "No. of features (p-value) = 284\n",
      "No. of features (log2-fc) = 100\n",
      "No. of DE features = 20\n",
      "No. of final features = 20\n",
      "No. of samples in centroid = 4\n",
      "P055_D8 has a negative comp_LN_D8N!\n",
      " P170_D8 has a negative comp_LN_D8N!\n",
      "No. of remission samples in training set = 4\n",
      "Prediction complete!\n",
      "\n",
      "No. of NaN values in log-fc = 0\n",
      "No. of probesets excluded by expr threshold = 3559\n",
      "No. of features (p-value) = 517\n",
      "No. of features (log2-fc) = 338\n",
      "No. of DE features = 104\n",
      "No. of final features = 104\n",
      "No. of samples in centroid = 4\n",
      "P161_D8 has a negative comp_LN_D8N!\n",
      "No. of remission samples in training set = 4\n",
      "Prediction complete!\n",
      "\n",
      "No. of NaN values in log-fc = 0\n",
      "No. of probesets excluded by expr threshold = 3455\n",
      "No. of features (p-value) = 2422\n",
      "No. of features (log2-fc) = 109\n",
      "No. of DE features = 109\n",
      "No. of final features = 109\n",
      "No. of samples in centroid = 27\n",
      "No. of remission samples in training set = 27\n",
      "Prediction complete!\n",
      "\n",
      "No. of NaN values in log-fc = 0\n",
      "No. of probesets excluded by expr threshold = 3321\n",
      "No. of features (p-value) = 1067\n",
      "No. of features (log2-fc) = 669\n",
      "No. of DE features = 316\n",
      "No. of final features = 316\n",
      "No. of samples in centroid = 3\n",
      "No. of remission samples in training set = 3\n",
      "Prediction complete!\n",
      "\n",
      "No. of NaN values in log-fc = 0\n",
      "No. of probesets excluded by expr threshold = 3632\n",
      "No. of features (p-value) = 3491\n",
      "No. of features (log2-fc) = 192\n",
      "No. of DE features = 192\n",
      "No. of final features = 192\n",
      "No. of samples in centroid = 56\n",
      "P087_D8 has a negative comp_LN_D8N!\n",
      " P128_D8 has a negative comp_LN_D8N!\n",
      " P204_D8 has a negative comp_LN_D8N!\n",
      " P215_D8 has a negative comp_LN_D8N!\n",
      " P217_D8 has a negative comp_LN_D8N!\n",
      "No. of remission samples in training set = 56\n",
      "Prediction complete!\n",
      "\n",
      "No. of NaN values in log-fc = 0\n",
      "No. of probesets excluded by expr threshold = 3768\n",
      "No. of features (p-value) = 287\n",
      "No. of features (log2-fc) = 114\n",
      "No. of DE features = 49\n",
      "No. of final features = 49\n",
      "No. of samples in centroid = 4\n",
      "P005_D8 has a negative comp_LN_D8N!\n",
      "No. of remission samples in training set = 4\n",
      "Prediction complete!\n",
      "\n",
      "No. of NaN values in log-fc = 0\n",
      "No. of probesets excluded by expr threshold = 3579\n",
      "No. of features (p-value) = 3211\n",
      "No. of features (log2-fc) = 235\n",
      "No. of DE features = 235\n",
      "No. of final features = 235\n",
      "No. of samples in centroid = 27\n",
      "No. of remission samples in training set = 27\n",
      "Prediction complete!\n",
      "\n"
     ]
    }
   ],
   "source": [
    "# Affy mean scaling - No batch 3\n",
    "# With or without removing batch effect ps\n",
    "log_affyms_nobatch3 <- subset_cols(\n",
    "  log_affyms_yeoh, metadata_sid,\n",
    "  batch_info != 3 & !(colnames(log_affyms_yeoh) %in% sid_mrd_na)\n",
    ")\n",
    "X_normal <- log_affyms_nobatch3[, sid_normal]\n",
    "\n",
    "list_X_subtypes7 <- lapply(subtypes7, function(s) {\n",
    "  log_affyms_nobatch3[\n",
    "    , metadata_sid[colnames(log_affyms_nobatch3), \"subtype\"] == s]\n",
    "})\n",
    "affyms_nobatch3_woBE <- lapply(\n",
    "  list_X_subtypes7,\n",
    "  predict_pipeline,\n",
    "  X_normal,\n",
    "  metadata_sid,\n",
    "  metadata_pid\n",
    ")\n",
    "names(affyms_nobatch3_woBE) <- subtypes7"
   ]
  },
  {
   "cell_type": "code",
   "execution_count": 27,
   "metadata": {
    "scrolled": true
   },
   "outputs": [
    {
     "name": "stdout",
     "output_type": "stream",
     "text": [
      "No. of NaN values in log-fc = 0\n",
      "No. of probesets excluded by expr threshold = 3403\n",
      "No. of features (p-value) = 108\n",
      "No. of features (log2-fc) = 82\n",
      "No. of DE features = 10\n",
      "No. of final features = 4\n",
      "No. of samples in centroid = 5\n",
      "No. of remission samples in training set = 5\n",
      "Prediction complete!\n",
      "\n",
      "No. of NaN values in log-fc = 0\n",
      "No. of probesets excluded by expr threshold = 3430\n",
      "No. of features (p-value) = 748\n",
      "No. of features (log2-fc) = 340\n",
      "No. of DE features = 157\n",
      "No. of final features = 109\n",
      "No. of samples in centroid = 5\n",
      "No. of remission samples in training set = 5\n",
      "Prediction complete!\n",
      "\n",
      "No. of NaN values in log-fc = 0\n",
      "No. of probesets excluded by expr threshold = 3414\n",
      "No. of features (p-value) = 2448\n",
      "No. of features (log2-fc) = 98\n",
      "No. of DE features = 98\n",
      "No. of final features = 82\n",
      "No. of samples in centroid = 31\n",
      "No. of remission samples in training set = 31\n",
      "Prediction complete!\n",
      "\n",
      "No. of NaN values in log-fc = 0\n",
      "No. of probesets excluded by expr threshold = 3321\n",
      "No. of features (p-value) = 1067\n",
      "No. of features (log2-fc) = 669\n",
      "No. of DE features = 316\n",
      "No. of final features = 121\n",
      "No. of samples in centroid = 3\n",
      "No. of remission samples in training set = 3\n",
      "Prediction complete!\n",
      "\n",
      "No. of NaN values in log-fc = 0\n",
      "No. of probesets excluded by expr threshold = 3577\n",
      "No. of features (p-value) = 3397\n",
      "No. of features (log2-fc) = 187\n",
      "No. of DE features = 187\n",
      "No. of final features = 136\n",
      "No. of samples in centroid = 63\n",
      "No. of remission samples in training set = 63\n",
      "Prediction complete!\n",
      "\n",
      "No. of NaN values in log-fc = 0\n",
      "No. of probesets excluded by expr threshold = 3343\n",
      "No. of features (p-value) = 546\n",
      "No. of features (log2-fc) = 126\n",
      "No. of DE features = 73\n",
      "No. of final features = 58\n",
      "No. of samples in centroid = 8\n",
      "No. of remission samples in training set = 8\n",
      "Prediction complete!\n",
      "\n",
      "No. of NaN values in log-fc = 0\n",
      "No. of probesets excluded by expr threshold = 3532\n",
      "No. of features (p-value) = 3172\n",
      "No. of features (log2-fc) = 218\n",
      "No. of DE features = 218\n",
      "No. of final features = 145\n",
      "No. of samples in centroid = 29\n",
      "No. of remission samples in training set = 29\n",
      "Prediction complete!\n",
      "\n"
     ]
    }
   ],
   "source": [
    "# Affy mean scaling - All samples\n",
    "X_normal <- log_affyms_yeoh[, sid_normal]\n",
    "list_X_subtypes7 <- lapply(subtypes7, function(subtype) {\n",
    "  log_affyms_yeoh[\n",
    "    , sid_alltrain_local[metadata_sid[sid_alltrain_local, \"subtype\"] == subtype]]\n",
    "})\n",
    "\n",
    "list_obj1 <- lapply(\n",
    "  list_X_subtypes7,\n",
    "  predict_pipeline,\n",
    "  X_normal,\n",
    "  metadata,\n",
    "  metadata_pid,\n",
    "  batch_ps1\n",
    ")\n",
    "names(list_obj1) <- subtypes7"
   ]
  },
  {
   "cell_type": "code",
   "execution_count": 16,
   "metadata": {},
   "outputs": [],
   "source": [
    "# list_subtype_sids <- lapply(\n",
    "#   subtypes7,\n",
    "#   function(subtype) {\n",
    "#     sid_alltrain_local[metadata_sid[sid_alltrain_local, \"subtype\"] == subtype]\n",
    "#   }\n",
    "# )"
   ]
  },
  {
   "cell_type": "code",
   "execution_count": 118,
   "metadata": {
    "scrolled": false
   },
   "outputs": [
    {
     "name": "stdout",
     "output_type": "stream",
     "text": [
      "No. of NaN values in log-fc = 0\n",
      "No. of probesets excluded by expr threshold = 725\n",
      "No. of features (p-value) = 170\n",
      "No. of features (log2-fc) = 214\n",
      "No. of DE features = 21\n",
      "No. of final features = 14\n",
      "No. of samples in centroid = 5\n",
      "P152_D8 has a negative comp_LN_D8N!\n",
      " P170_D8 has a negative comp_LN_D8N!\n",
      "No. of remission samples in training set = 5\n",
      "Prediction complete!\n",
      "\n",
      "No. of NaN values in log-fc = 0\n",
      "No. of probesets excluded by expr threshold = 818\n",
      "No. of features (p-value) = 744\n",
      "No. of features (log2-fc) = 753\n",
      "No. of DE features = 239\n",
      "No. of final features = 164\n",
      "No. of samples in centroid = 5\n",
      "P161_D8 has a negative comp_LN_D8N!\n",
      "No. of remission samples in training set = 5\n",
      "Prediction complete!\n",
      "\n",
      "No. of NaN values in log-fc = 0\n",
      "No. of probesets excluded by expr threshold = 718\n",
      "No. of features (p-value) = 2508\n",
      "No. of features (log2-fc) = 283\n",
      "No. of DE features = 281\n",
      "No. of final features = 216\n",
      "No. of samples in centroid = 31\n",
      "No. of remission samples in training set = 31\n",
      "Prediction complete!\n",
      "\n",
      "No. of NaN values in log-fc = 0\n",
      "No. of probesets excluded by expr threshold = 487\n",
      "No. of features (p-value) = 614\n",
      "No. of features (log2-fc) = 1031\n",
      "No. of DE features = 262\n",
      "No. of final features = 170\n",
      "No. of samples in centroid = 3\n",
      "No. of remission samples in training set = 3\n",
      "Prediction complete!\n",
      "\n",
      "No. of NaN values in log-fc = 0\n",
      "No. of probesets excluded by expr threshold = 822\n",
      "No. of features (p-value) = 3081\n",
      "No. of features (log2-fc) = 448\n",
      "No. of DE features = 448\n",
      "No. of final features = 342\n",
      "No. of samples in centroid = 63\n",
      "No. of remission samples in training set = 63\n",
      "Prediction complete!\n",
      "\n",
      "No. of NaN values in log-fc = 0\n",
      "No. of probesets excluded by expr threshold = 998\n",
      "No. of features (p-value) = 606\n",
      "No. of features (log2-fc) = 342\n",
      "No. of DE features = 136\n",
      "No. of final features = 110\n",
      "No. of samples in centroid = 8\n",
      "P005_D8 has a negative comp_LN_D8N!\n",
      "No. of remission samples in training set = 8\n",
      "Prediction complete!\n",
      "\n",
      "No. of NaN values in log-fc = 0\n",
      "No. of probesets excluded by expr threshold = 710\n",
      "No. of features (p-value) = 2765\n",
      "No. of features (log2-fc) = 507\n",
      "No. of DE features = 505\n",
      "No. of final features = 371\n",
      "No. of samples in centroid = 29\n",
      "No. of remission samples in training set = 29\n",
      "Prediction complete!\n",
      "\n"
     ]
    }
   ],
   "source": [
    "X_normal <- yeoh[, sid_normal]\n",
    "list_X_subtypes7 <- lapply(\n",
    "  subtypes7,\n",
    "  function(subtype) {\n",
    "    yeoh[, sid_alltrain_local[metadata_sid[sid_alltrain_local, \"subtype\"] == subtype]]\n",
    "  }\n",
    ")\n",
    "list_obj <- lapply(\n",
    "  list_X_subtypes7,\n",
    "  predict_pipeline,\n",
    "  X_normal,\n",
    "  metadata,\n",
    "  metadata_pid,\n",
    "  batch_ps\n",
    ")\n",
    "names(list_obj) <- subtypes7"
   ]
  },
  {
   "cell_type": "markdown",
   "metadata": {},
   "source": [
    "### Plot boxplots (comparing labels)"
   ]
  },
  {
   "cell_type": "code",
   "execution_count": null,
   "metadata": {},
   "outputs": [],
   "source": [
    "list_X_y <- lapply(list_obj, function(obj) obj$X_y)\n",
    "boxplots <- lapply(list_X_y, plot_boxplot, fill = 'label', p.value = FALSE)\n",
    "names(boxplots) <- subtypes7"
   ]
  },
  {
   "cell_type": "code",
   "execution_count": 562,
   "metadata": {},
   "outputs": [],
   "source": [
    "for (subtype in subtypes7) {\n",
    "  file <- sprintf('~/Dropbox/tmp/boxplot-%s.pdf', subtype)\n",
    "  ggsave(file, boxplots[[subtype]], width = 9.5, height = 2.5)\n",
    "}"
   ]
  },
  {
   "cell_type": "code",
   "execution_count": null,
   "metadata": {},
   "outputs": [],
   "source": []
  },
  {
   "cell_type": "code",
   "execution_count": 207,
   "metadata": {},
   "outputs": [],
   "source": [
    "# Affy mean scaling - No batch 3\n",
    "list_X_y <- lapply(affyms_nobatch3_nozero_woBE, function(obj) obj$X_y)\n",
    "boxplots <- lapply(list_X_y, plot_boxplot, fill = 'label', p.value = FALSE)\n",
    "names(boxplots) <- subtypes7"
   ]
  },
  {
   "cell_type": "code",
   "execution_count": null,
   "metadata": {},
   "outputs": [],
   "source": [
    "for (subtype in subtypes7) {\n",
    "  file <- sprintf('~/Dropbox/tmp/boxplot_affyms_nobatch3_nozero-%s.pdf', subtype)\n",
    "  ggsave(file, boxplots[[subtype]], width = 9.5, height = 2.5)\n",
    "}"
   ]
  },
  {
   "cell_type": "markdown",
   "metadata": {},
   "source": [
    "### Calculate effect size\n",
    "#### Cohen's d (assuming unequal variance)\n",
    "$ d = \\frac{x_1 - x_2}{s} $, $ s = \\sqrt{\\frac{s_1^2 + s_2^2}{2}} $"
   ]
  },
  {
   "cell_type": "code",
   "execution_count": 188,
   "metadata": {},
   "outputs": [],
   "source": [
    "list_X_y <- lapply(affyms_nobatch3_woBE, function(obj) obj$X_y)\n",
    "boxplots <- lapply(list_X_y, plot_boxplot, fill = 'label', p.value = FALSE)\n",
    "names(boxplots) <- subtypes7"
   ]
  },
  {
   "cell_type": "markdown",
   "metadata": {},
   "source": [
    "### Save probabilities (w/o heterogeneous subtypes)"
   ]
  },
  {
   "cell_type": "code",
   "execution_count": 68,
   "metadata": {},
   "outputs": [],
   "source": [
    "list_p_d8 <- lapply(list_obj, function(obj) obj$X_y[\"p_d8\"])\n",
    "p_d8 <- do.call(rbind, unname(list_p_d8[subtypes5]))"
   ]
  },
  {
   "cell_type": "code",
   "execution_count": 69,
   "metadata": {},
   "outputs": [],
   "source": [
    "list_p_d33 <- lapply(list_obj, function(obj) obj$X_y[\"p_d33\"])\n",
    "p_d33 <- do.call(rbind, unname(list_p_d33[subtypes5]))"
   ]
  },
  {
   "cell_type": "code",
   "execution_count": 70,
   "metadata": {},
   "outputs": [],
   "source": [
    "write.table(p_d8, \"../tmp/p_d8.tsv\", quote = F, sep = \"\\t\")\n",
    "write.table(p_d33, \"../tmp/p_d33.tsv\", quote = F, sep = \"\\t\")"
   ]
  },
  {
   "cell_type": "markdown",
   "metadata": {},
   "source": [
    "## Plot: Relapse OR HR v.s. Remission AND NOT HR\n",
    "- Change label column"
   ]
  },
  {
   "cell_type": "code",
   "execution_count": 134,
   "metadata": {},
   "outputs": [],
   "source": [
    "add_treatment <- function(obj, metadata_pid) {\n",
    "  # Adds column - required_treatment: {non-intensive, intensive}\n",
    "  X_y <- obj$X_y\n",
    "  treatment <- as.character(metadata_pid[rownames(X_y), 'treatment_processed'])\n",
    "  names(treatment) <- rownames(X_y)\n",
    "  treatment <- treatment[!is.na(treatment)] # remove NA values in treatment\n",
    "  consolidated_treatment <- treatment\n",
    "  idx <- consolidated_treatment %in% c('HR1', 'HR2')\n",
    "  consolidated_treatment[idx] <- 'HR'\n",
    "  consolidated_treatment[!idx] <- 'SR/IR'\n",
    "  required_treatment <- factor(\n",
    "    'Non-intensive',\n",
    "    levels = c('Non-intensive', 'Intensive')\n",
    "  )\n",
    "  pid_info <- data.frame(\n",
    "    treatment,\n",
    "    consolidated_treatment,\n",
    "    label = X_y[names(treatment), 'label'],\n",
    "    required_treatment = required_treatment\n",
    "  )\n",
    "  idx_intensive <- pid_info$label == 'Relapse' | pid_info$consolidated_treatment == 'HR'\n",
    "  pid_info$required_treatment[idx_intensive] <- 'Intensive'\n",
    "  \n",
    "  X_y <- X_y[rownames(pid_info), ] # remove patients with treatment NA values\n",
    "  X_y$treatment <- pid_info$treatment\n",
    "  X_y$required_treatment <- pid_info$required_treatment # add column to X_y\n",
    "  \n",
    "  return(X_y)\n",
    "}"
   ]
  },
  {
   "cell_type": "code",
   "execution_count": 671,
   "metadata": {
    "scrolled": true
   },
   "outputs": [
    {
     "name": "stderr",
     "output_type": "stream",
     "text": [
      "Warning message in wilcox.test.default(x1, x2, exact = T):\n",
      "“cannot compute exact p-value with ties”Warning message in wilcox.test.default(x1, x2, exact = T):\n",
      "“cannot compute exact p-value with ties”Warning message in wilcox.test.default(x1, x2, exact = T):\n",
      "“cannot compute exact p-value with ties”Warning message in wilcox.test.default(x1, x2, exact = T):\n",
      "“cannot compute exact p-value with ties”Warning message in wilcox.test.default(x1, x2, exact = T):\n",
      "“cannot compute exact p-value with ties”Warning message in wilcox.test.default(x1, x2, exact = T):\n",
      "“cannot compute exact p-value with ties”Warning message in wilcox.test.default(x1, x2, exact = T):\n",
      "“cannot compute exact p-value with ties”Warning message in wilcox.test.default(x1, x2, exact = T):\n",
      "“cannot compute exact p-value with ties”Warning message in wilcox.test.default(x1, x2, exact = T):\n",
      "“cannot compute exact p-value with ties”Warning message in wilcox.test.default(x1, x2, exact = T):\n",
      "“cannot compute exact p-value with ties”Warning message in wilcox.test.default(x1, x2, exact = T):\n",
      "“cannot compute exact p-value with ties”Warning message in wilcox.test.default(x1, x2, exact = T):\n",
      "“cannot compute exact p-value with ties”Warning message in wilcox.test.default(x1, x2, exact = T):\n",
      "“cannot compute exact p-value with ties”"
     ]
    }
   ],
   "source": [
    "list_X_y1 <- lapply(list_obj, add_treatment, metadata_pid)\n",
    "\n",
    "boxplots1 <- lapply(\n",
    "  list_X_y1, plot_boxplot,\n",
    "  group = 'required_treatment', fill = 'label', pch = 'treatment'\n",
    ")"
   ]
  },
  {
   "cell_type": "code",
   "execution_count": 137,
   "metadata": {},
   "outputs": [],
   "source": [
    "# Affy mean scaling\n",
    "list_X_y1 <- lapply(list_obj2, add_treatment, metadata_pid)\n",
    "\n",
    "boxplots1 <- lapply(\n",
    "  list_X_y1, plot_boxplot,\n",
    "  group = 'required_treatment', fill = 'label', pch = 'treatment', p.value = FALSE\n",
    ")"
   ]
  },
  {
   "cell_type": "code",
   "execution_count": 140,
   "metadata": {},
   "outputs": [
    {
     "data": {
      "text/plain": [
       "$Others\n"
      ]
     },
     "metadata": {},
     "output_type": "display_data"
    },
    {
     "data": {
      "image/png": "[encoded data removed]",
      "text/plain": [
       "plot without title"
      ]
     },
     "metadata": {},
     "output_type": "display_data"
    }
   ],
   "source": [
    "boxplots1['Others']"
   ]
  },
  {
   "cell_type": "code",
   "execution_count": 672,
   "metadata": {},
   "outputs": [],
   "source": [
    "for (subtype in subtypes7) {\n",
    "  file <- sprintf('~/Dropbox/tmp/boxplot_newlabel-%s.pdf', subtype)\n",
    "  ggsave(file, boxplots1[[subtype]], width = 9.5, height = 2.5)\n",
    "}"
   ]
  },
  {
   "cell_type": "markdown",
   "metadata": {},
   "source": [
    "### Estimate probabilities (with Wk12 MRD)"
   ]
  },
  {
   "cell_type": "code",
   "execution_count": 59,
   "metadata": {},
   "outputs": [
    {
     "name": "stdout",
     "output_type": "stream",
     "text": [
      "No. of NaN values in log-fc = 0\n",
      "No. of probesets excluded by expr threshold = 725\n",
      "No. of features (p-value) = 170\n",
      "No. of features (log2-fc) = 214\n",
      "No. of DE features = 21\n",
      "No. of final features = 14\n",
      "No. of samples in centroid = 5\n",
      "Omitted patients: P054!\n",
      " Omitted patients: P134!\n",
      " Omitted patients: P170!\n",
      " Omitted patients: P184!\n",
      "No. of remission samples in training set = 3\n",
      "Prediction complete!\n",
      "\n",
      "No. of NaN values in log-fc = 0\n",
      "No. of probesets excluded by expr threshold = 818\n",
      "No. of features (p-value) = 744\n",
      "No. of features (log2-fc) = 753\n",
      "No. of DE features = 239\n",
      "No. of final features = 164\n",
      "No. of samples in centroid = 5\n",
      "No. of remission samples in training set = 5\n",
      "Prediction complete!\n",
      "\n",
      "No. of NaN values in log-fc = 0\n",
      "No. of probesets excluded by expr threshold = 718\n",
      "No. of features (p-value) = 2508\n",
      "No. of features (log2-fc) = 283\n",
      "No. of DE features = 281\n",
      "No. of final features = 216\n",
      "No. of samples in centroid = 31\n",
      "Omitted patients: P038!\n",
      " Omitted patients: P041!\n",
      " Omitted patients: P046!\n",
      " Omitted patients: P048!\n",
      " Omitted patients: P138!\n",
      " Omitted patients: P139!\n",
      " Omitted patients: P189!\n",
      " Omitted patients: P208!\n",
      "No. of remission samples in training set = 25\n",
      "Prediction complete!\n",
      "\n",
      "No. of NaN values in log-fc = 0\n",
      "No. of probesets excluded by expr threshold = 487\n",
      "No. of features (p-value) = 614\n",
      "No. of features (log2-fc) = 1031\n",
      "No. of DE features = 262\n",
      "No. of final features = 170\n",
      "No. of samples in centroid = 3\n",
      "Omitted patients: P160!\n",
      "No. of remission samples in training set = 2\n",
      "Prediction complete!\n",
      "\n",
      "No. of NaN values in log-fc = 0\n",
      "No. of probesets excluded by expr threshold = 822\n",
      "No. of features (p-value) = 3081\n",
      "No. of features (log2-fc) = 448\n",
      "No. of DE features = 448\n",
      "No. of final features = 342\n",
      "No. of samples in centroid = 63\n",
      "Omitted patients: P062!\n",
      " Omitted patients: P065!\n",
      " Omitted patients: P066!\n",
      " Omitted patients: P070!\n",
      " Omitted patients: P073!\n",
      " Omitted patients: P081!\n",
      " Omitted patients: P082!\n",
      " Omitted patients: P084!\n",
      " Omitted patients: P086!\n",
      " Omitted patients: P093!\n",
      " Omitted patients: P097!\n",
      " Omitted patients: P141!\n",
      " Omitted patients: P149!\n",
      " Omitted patients: P163!\n",
      " Omitted patients: P174!\n",
      " Omitted patients: P187!\n",
      " Omitted patients: P191!\n",
      " Omitted patients: P205!\n",
      " Omitted patients: P209!\n",
      "No. of remission samples in training set = 52\n",
      "Prediction complete!\n",
      "\n",
      "No. of NaN values in log-fc = 0\n",
      "No. of probesets excluded by expr threshold = 998\n",
      "No. of features (p-value) = 606\n",
      "No. of features (log2-fc) = 342\n",
      "No. of DE features = 136\n",
      "No. of final features = 110\n",
      "No. of samples in centroid = 8\n",
      "Omitted patients: P004!\n",
      " Omitted patients: P010!\n",
      "No. of remission samples in training set = 6\n",
      "Prediction complete!\n",
      "\n",
      "No. of NaN values in log-fc = 0\n",
      "No. of probesets excluded by expr threshold = 710\n",
      "No. of features (p-value) = 2765\n",
      "No. of features (log2-fc) = 507\n",
      "No. of DE features = 505\n",
      "No. of final features = 371\n",
      "No. of samples in centroid = 29\n",
      "Omitted patients: P023!\n",
      " Omitted patients: P028!\n",
      " Omitted patients: P135!\n",
      " Omitted patients: P136!\n",
      "No. of remission samples in training set = 26\n",
      "Prediction complete!\n",
      "\n"
     ]
    }
   ],
   "source": [
    "X_normal <- yeoh[, sid_normal]\n",
    "list_X_subtypes7 <- lapply(\n",
    "  subtypes7,\n",
    "  function(subtype) {\n",
    "    yeoh[, sid_alltrain_local[metadata_sid[sid_alltrain_local, \"subtype\"] == subtype]]\n",
    "  }\n",
    ")\n",
    "list_obj1 <- lapply(\n",
    "  list_X_subtypes7,\n",
    "  predict_pipeline,\n",
    "  X_normal,\n",
    "  metadata,\n",
    "  metadata_pid,\n",
    "  batch_ps,\n",
    "  include_tp2 = TRUE\n",
    ")\n",
    "names(list_obj1) <- subtypes7"
   ]
  },
  {
   "cell_type": "code",
   "execution_count": 71,
   "metadata": {},
   "outputs": [],
   "source": [
    "list_p_tp2 <- lapply(list_obj1, function(obj) obj$X_y[\"p_tp2\"])\n",
    "p_tp2 <- do.call(rbind, unname(list_p_tp2[subtypes5]))"
   ]
  },
  {
   "cell_type": "code",
   "execution_count": 72,
   "metadata": {},
   "outputs": [],
   "source": [
    "write.table(p_tp2, \"../tmp/p_tp2.tsv\", quote = F, sep = \"\\t\")"
   ]
  },
  {
   "cell_type": "markdown",
   "metadata": {},
   "source": [
    "#### Estimate probability using simulated samples\n",
    "- Features are modelled as normal distributions (median, sd)"
   ]
  },
  {
   "cell_type": "code",
   "execution_count": 338,
   "metadata": {},
   "outputs": [],
   "source": [
    "# list_obj2 <- lapply(\n",
    "#   list_X_subtypes7,\n",
    "#   predict_pipeline,\n",
    "#   X_normal,\n",
    "#   metadata, metadata_pid,\n",
    "#   batch_ps,\n",
    "#   samples = 300\n",
    "# )\n",
    "# names(list_obj2) <- subtypes7"
   ]
  },
  {
   "cell_type": "markdown",
   "metadata": {},
   "source": [
    "### Overall ROC\n",
    "- Estimating probability of remission by calculating percentage of samples in training set with a worse score\n",
    "- Subtype specific model during estimation\n",
    "- Combine probability predictions into an overall ROC curve"
   ]
  },
  {
   "cell_type": "markdown",
   "metadata": {},
   "source": [
    "### M1: Train/test"
   ]
  },
  {
   "cell_type": "markdown",
   "metadata": {},
   "source": [
    "### M1: Test set 1 (w/o Hyp, Others)"
   ]
  },
  {
   "cell_type": "code",
   "execution_count": 36,
   "metadata": {
    "scrolled": true
   },
   "outputs": [],
   "source": [
    "names(list_X_subtypes7) <- subtypes7\n",
    "list_X_subtypes5 <- list_X_subtypes7[subtypes5]"
   ]
  },
  {
   "cell_type": "code",
   "execution_count": 37,
   "metadata": {
    "scrolled": true
   },
   "outputs": [
    {
     "name": "stdout",
     "output_type": "stream",
     "text": [
      "No. of NaN values in log-fc = 0\n",
      "No. of probesets excluded by expr threshold = 760\n",
      "No. of features (p-value) = 132\n",
      "No. of features (log2-fc) = 326\n",
      "No. of DE features = 24\n",
      "No. of final features = 18\n",
      "No. of samples in centroid = 4\n",
      "No. of remission samples in training set = 4\n",
      "No. of remission samples in training set = 4\n",
      "Prediction complete!\n",
      "\n",
      "No. of NaN values in log-fc = 0\n",
      "No. of probesets excluded by expr threshold = 1105\n",
      "No. of features (p-value) = 356\n",
      "No. of features (log2-fc) = 813\n",
      "No. of DE features = 123\n",
      "No. of final features = 79\n",
      "No. of samples in centroid = 3\n",
      "No. of remission samples in training set = 3\n",
      "No. of remission samples in training set = 3\n",
      "Prediction complete!\n",
      "\n",
      "No. of NaN values in log-fc = 0\n",
      "No. of probesets excluded by expr threshold = 384\n",
      "No. of features (p-value) = 459\n",
      "No. of features (log2-fc) = 1281\n",
      "No. of DE features = 164\n",
      "No. of final features = 109\n",
      "No. of samples in centroid = 2\n",
      "No. of remission samples in training set = 2\n",
      "No. of remission samples in training set = 2\n",
      "Prediction complete!\n",
      "\n",
      "No. of NaN values in log-fc = 0\n",
      "No. of probesets excluded by expr threshold = 1033\n",
      "No. of features (p-value) = 488\n",
      "No. of features (log2-fc) = 400\n",
      "No. of DE features = 114\n",
      "No. of final features = 100\n",
      "No. of samples in centroid = 7\n",
      "No. of remission samples in training set = 7\n",
      "No. of remission samples in training set = 7\n",
      "Prediction complete!\n",
      "\n",
      "No. of NaN values in log-fc = 0\n",
      "No. of probesets excluded by expr threshold = 817\n",
      "No. of features (p-value) = 1963\n",
      "No. of features (log2-fc) = 335\n",
      "No. of DE features = 325\n",
      "No. of final features = 243\n",
      "No. of samples in centroid = 20\n",
      "No. of remission samples in training set = 20\n",
      "No. of remission samples in training set = 20\n",
      "Prediction complete!\n",
      "\n"
     ]
    }
   ],
   "source": [
    "list_train_test <- lapply(\n",
    "  list_X_subtypes5,\n",
    "  predict_pipeline,\n",
    "  X_normal,\n",
    "  metadata,\n",
    "  metadata_pid,\n",
    "  batch_ps,\n",
    "  sid_train_test = list(sid_train, sid_test)\n",
    ")"
   ]
  },
  {
   "cell_type": "markdown",
   "metadata": {},
   "source": [
    "### Save probabilities"
   ]
  },
  {
   "cell_type": "code",
   "execution_count": 39,
   "metadata": {},
   "outputs": [],
   "source": [
    "# list_p_d8_train <- lapply(list_train_test, function(obj) obj$train$X_y[\"p_d8\"])\n",
    "# p_d8_train <- do.call(rbind, unname(list_p_d8_train))\n",
    "\n",
    "# list_p_d8_test <- lapply(list_train_test, function(obj) obj$test$X_y[\"p_d8\"])\n",
    "# p_d8_test <- do.call(rbind, unname(list_p_d8_test))\n",
    "                         \n",
    "list_p_d33_train <- lapply(list_train_test, function(obj) obj$train$X_y[\"p_d33\"])\n",
    "p_d33_train <- do.call(rbind, unname(list_p_d33_train))\n",
    "\n",
    "list_p_d33_test <- lapply(list_train_test, function(obj) obj$test$X_y[\"p_d33\"])\n",
    "p_d33_test <- do.call(rbind, unname(list_p_d33_test))"
   ]
  },
  {
   "cell_type": "code",
   "execution_count": 40,
   "metadata": {},
   "outputs": [],
   "source": [
    "# write.table(p_d8_train, \"../tmp/p_d8-train.tsv\", quote = F, sep = \"\\t\")\n",
    "# write.table(p_d8_test, \"../tmp/p_d8-test.tsv\", quote = F, sep = \"\\t\")\n",
    "\n",
    "write.table(p_d33_train, \"../tmp/p_d33-train.tsv\", quote = F, sep = \"\\t\")\n",
    "write.table(p_d33_test, \"../tmp/p_d33-test.tsv\", quote = F, sep = \"\\t\")"
   ]
  },
  {
   "cell_type": "code",
   "execution_count": null,
   "metadata": {},
   "outputs": [],
   "source": []
  },
  {
   "cell_type": "markdown",
   "metadata": {},
   "source": [
    "## TEL-AML\n",
    "- Demonstrate removal of batch effect probesets"
   ]
  },
  {
   "cell_type": "code",
   "execution_count": 566,
   "metadata": {},
   "outputs": [],
   "source": [
    "#' Does not perform PCA transform on data\n",
    "#' Used to predict relapse for all subtypes\n",
    "#' X df containing all subtypes of patients in arg: pid and normal patients\n",
    "#' @param pid vector of pid belonging to both D0 and D8 patients (identically ordered)\n",
    "#' @param sid_train_test list of length 2 in the form of (sid_train, sid_test)\n",
    "#' @return list containing prediction plot and vector coordinates\n",
    "get_class_genes <- function(\n",
    "  X_subtype,\n",
    "  X_normal,\n",
    "  metadata_sid,\n",
    "  metadata_pid,\n",
    "  sid_train_test = NULL,\n",
    "  features = c(\n",
    "    \"erm1_ratio2\", \"l2norm_ratio2\",\n",
    "    \"angle_LD0_LD8_ratio2\", \"log_mrd_d33\"\n",
    "  ),\n",
    "  direction = c(\"<\", \"<\", \"<\", \">\")\n",
    ") {\n",
    "  if (!is.null(sid_train_test)) {\n",
    "    stopifnot(length(sid_train_test) == 2)\n",
    "    sid_train <- intersect(sid_train_test[[1]], colnames(X_subtype))\n",
    "    sid_test <- intersect(sid_train_test[[2]], colnames(X_subtype))\n",
    "    # assert that D0 and D8 samples match\n",
    "    stopifnot(is_paired(sid_train))\n",
    "    stopifnot(is_paired(sid_test))\n",
    "  }\n",
    "  sid_remission <- colnames(X_subtype)[\n",
    "    metadata_sid[colnames(X_subtype), \"label\"] == 'Remission'\n",
    "  ]\n",
    "  # Feature selection\n",
    "  # Identify DE features between D0 and D8 samples\n",
    "  if (!is.null(sid_train_test)) {\n",
    "    class_genes <- identify_DE(\n",
    "      X_subtype[, sid_train, drop = FALSE],\n",
    "      sid_remission\n",
    "    )\n",
    "  } else {\n",
    "    class_genes <- identify_DE(X_subtype, sid_remission)\n",
    "  }\n",
    "  \n",
    "  class_genes\n",
    "}"
   ]
  },
  {
   "cell_type": "code",
   "execution_count": 567,
   "metadata": {},
   "outputs": [],
   "source": [
    "names(list_X_subtypes7) <- subtypes7\n",
    "telaml1 <- list_X_subtypes7[['TEL-AML1']]"
   ]
  },
  {
   "cell_type": "code",
   "execution_count": 568,
   "metadata": {},
   "outputs": [
    {
     "name": "stdout",
     "output_type": "stream",
     "text": [
      "No. of NaN values in log-fc = 0\n",
      "No. of probesets excluded by expr threshold = 710\n",
      "No. of features (p-value) = 2765\n",
      "No. of features (log2-fc) = 507\n"
     ]
    }
   ],
   "source": [
    "telaml1_ps <- get_class_genes(telaml1, X_normal, metadata, metadata_pid)\n",
    "selected_ps <- setdiff(telaml1_ps, batch_ps)"
   ]
  },
  {
   "cell_type": "code",
   "execution_count": 608,
   "metadata": {},
   "outputs": [],
   "source": [
    "ax_top_pc1 <- ggplot_top_pc(\n",
    "  telaml1[telaml1_ps, ], metadata, x_axis = 'batch_info',\n",
    "  cex = 2.5, color = 'batch_info', pch = 'class_info'\n",
    ") +\n",
    "  labs(x = 'Batch', col = 'Batch', pch = 'Time point')\n",
    "\n",
    "ax_top_pc2 <- ggplot_top_pc(\n",
    "  telaml1[selected_ps, ], metadata, x_axis = 'batch_info',\n",
    "  cex = 2.5, color = 'batch_info', pch = 'class_info'\n",
    ") +\n",
    "  labs(x = 'Batch', col = 'Batch', pch = 'Time point')"
   ]
  },
  {
   "cell_type": "code",
   "execution_count": 609,
   "metadata": {},
   "outputs": [
    {
     "data": {
      "image/png": "[encoded data removed]",
      "text/plain": [
       "plot without title"
      ]
     },
     "metadata": {},
     "output_type": "display_data"
    }
   ],
   "source": [
    "ax_top_pc1"
   ]
  },
  {
   "cell_type": "code",
   "execution_count": 611,
   "metadata": {},
   "outputs": [],
   "source": [
    "file1 <- '~/Dropbox/tmp/top_pc-telaml1_before.pdf'\n",
    "file2 <- '~/Dropbox/tmp/top_pc-telaml1_after.pdf'\n",
    "ggsave(file1, ax_top_pc1, width = 8, height = 4)\n",
    "ggsave(file2, ax_top_pc2, width = 8, height = 4)"
   ]
  },
  {
   "cell_type": "code",
   "execution_count": 204,
   "metadata": {},
   "outputs": [],
   "source": [
    "ax_pca1 <- ggplot_pca(\n",
    "  telaml1[telaml1_ps, ], metadata, cex = 2.5,\n",
    "  col = 'batch_info', pch = 'class_info'\n",
    ") +\n",
    "  labs(col = 'Batch', pch = 'Time point')\n",
    "ax_pca2 <- ggplot_pca(\n",
    "  telaml1[selected_ps, ], metadata, cex = 2.5,\n",
    "  col = 'batch_info', pch = 'class_info'\n",
    ") +\n",
    "  labs(col = 'Batch', pch = 'Time point')"
   ]
  },
  {
   "cell_type": "code",
   "execution_count": null,
   "metadata": {},
   "outputs": [],
   "source": [
    "file1 <- '~/Dropbox/tmp/pca-telaml1_before.pdf'\n",
    "file2 <- '~/Dropbox/tmp/pca-telaml1_after.pdf'\n",
    "ggsave(file1, ax_pca1, width = 4.5, height = 3.5)\n",
    "ggsave(file2, ax_pca2, width = 4.5, height = 3.5)"
   ]
  },
  {
   "cell_type": "code",
   "execution_count": 205,
   "metadata": {},
   "outputs": [],
   "source": [
    "ax_umap1 <- ggplot_umap(\n",
    "  telaml1[telaml1_ps, ], metadata, cex = 2.5,\n",
    "  col = 'batch_info', pch = 'class_info'\n",
    ") +\n",
    "  labs(col = 'Batch', pch = 'Time point')\n",
    "ax_umap2 <- ggplot_umap(\n",
    "  telaml1[selected_ps, ], metadata, cex = 2.5,\n",
    "  col = 'batch_info', pch = 'class_info'\n",
    ") +\n",
    "  labs(col = 'Batch', pch = 'Time point')"
   ]
  },
  {
   "cell_type": "code",
   "execution_count": 206,
   "metadata": {},
   "outputs": [],
   "source": [
    "file1 <- '~/Dropbox/tmp/umap-telaml1_before.pdf'\n",
    "file2 <- '~/Dropbox/tmp/umap-telaml1_after.pdf'\n",
    "ggsave(file1, ax_umap1, width = 4.5, height = 3.5)\n",
    "ggsave(file2, ax_umap2, width = 4.5, height = 3.5)"
   ]
  },
  {
   "cell_type": "markdown",
   "metadata": {},
   "source": [
    "# DUX4"
   ]
  },
  {
   "cell_type": "raw",
   "metadata": {},
   "source": [
    "PID_DUX4 <- \"../tmp/pid-DUX4.txt\"\n",
    "pid_dux4 <- readLines(PID_DUX4)\n",
    "sid_dux4 <- get_sid(pid_dux4)\n",
    "\n",
    "# metadata_sid1 <- metadata_sid\n",
    "# levels(metadata_sid1$subtype) <- c(levels(metadata_sid1$subtype), \"DUX4\")\n",
    "# metadata_sid1[sid_dux4, \"subtype\"] <- \"DUX4\""
   ]
  },
  {
   "cell_type": "raw",
   "metadata": {},
   "source": [
    "X_normal <- yeoh[, sid_normal]\n",
    "X_subtype <- yeoh[, sid_dux4]\n",
    "obj <- predict_pipeline(X_subtype, X_normal, metadata, metadata_pid, batch_ps)"
   ]
  },
  {
   "cell_type": "code",
   "execution_count": 676,
   "metadata": {},
   "outputs": [],
   "source": [
    "add_treatment <- function(obj, metadata_pid) {\n",
    "  # Adds column - required_treatment: {non-intensive, intensive}\n",
    "  X_y <- obj$X_y\n",
    "  treatment <- as.character(metadata_pid[rownames(X_y), 'treatment_processed'])\n",
    "  names(treatment) <- rownames(X_y)\n",
    "  treatment <- treatment[!is.na(treatment)] # remove NA values in treatment\n",
    "  consolidated_treatment <- treatment\n",
    "  idx <- consolidated_treatment %in% c('HR1', 'HR2')\n",
    "  consolidated_treatment[idx] <- 'HR'\n",
    "  consolidated_treatment[!idx] <- 'SR/IR'\n",
    "  required_treatment <- factor(\n",
    "    'Non-intensive',\n",
    "    levels = c('Non-intensive', 'Intensive')\n",
    "  )\n",
    "  pid_info <- data.frame(\n",
    "    treatment,\n",
    "    consolidated_treatment,\n",
    "    label = X_y[names(treatment), 'label'],\n",
    "    required_treatment = required_treatment\n",
    "  )\n",
    "  idx_intensive <- pid_info$label == 'Relapse' | pid_info$consolidated_treatment == 'HR'\n",
    "  pid_info$required_treatment[idx_intensive] <- 'Intensive'\n",
    "  \n",
    "  X_y <- X_y[rownames(pid_info), ] # remove patients with treatment NA values\n",
    "  X_y$treatment <- pid_info$treatment\n",
    "  X_y$required_treatment <- pid_info$required_treatment # add column to X_y\n",
    "  \n",
    "  return(X_y)\n",
    "}"
   ]
  },
  {
   "cell_type": "code",
   "execution_count": 704,
   "metadata": {},
   "outputs": [
    {
     "data": {
      "text/html": [
       "<table>\n",
       "<caption>A data.frame: 6 × 9</caption>\n",
       "<thead>\n",
       "\t<tr><th></th><th scope=col>erm1_ratio2</th><th scope=col>l2norm_ratio2</th><th scope=col>angle_LD0_LD8_ratio2</th><th scope=col>log_mrd_d33</th><th scope=col>p_d8</th><th scope=col>p_d33</th><th scope=col>label</th><th scope=col>treatment</th><th scope=col>required_treatment</th></tr>\n",
       "\t<tr><th></th><th scope=col>&lt;dbl&gt;</th><th scope=col>&lt;dbl&gt;</th><th scope=col>&lt;dbl&gt;</th><th scope=col>&lt;dbl&gt;</th><th scope=col>&lt;dbl&gt;</th><th scope=col>&lt;dbl&gt;</th><th scope=col>&lt;fct&gt;</th><th scope=col>&lt;fct&gt;</th><th scope=col>&lt;fct&gt;</th></tr>\n",
       "</thead>\n",
       "<tbody>\n",
       "\t<tr><th scope=row>P060</th><td> 2.2609633</td><td>1.3974799</td><td>0.5436946</td><td>-3.69897</td><td>0.3333333</td><td>0.4473684</td><td>Remission</td><td>IR </td><td>Non-intensive</td></tr>\n",
       "\t<tr><th scope=row>P063</th><td> 0.6173321</td><td>0.9174787</td><td>0.4324256</td><td>-3.00000</td><td>0.1052632</td><td>0.1973684</td><td>Remission</td><td>HR1</td><td>Intensive    </td></tr>\n",
       "\t<tr><th scope=row>P071</th><td> 5.0548792</td><td>1.4634860</td><td>0.6214487</td><td>-2.69897</td><td>0.5263158</td><td>0.5000000</td><td>Remission</td><td>IR </td><td>Non-intensive</td></tr>\n",
       "\t<tr><th scope=row>P073</th><td> 2.3434004</td><td>1.3656135</td><td>0.6268032</td><td>-3.30103</td><td>0.3859649</td><td>0.4210526</td><td>Remission</td><td>IR </td><td>Non-intensive</td></tr>\n",
       "\t<tr><th scope=row>P076</th><td>36.4452859</td><td>2.6607007</td><td>1.1706164</td><td>-3.69897</td><td>1.0000000</td><td>0.9473684</td><td>Remission</td><td>IR </td><td>Non-intensive</td></tr>\n",
       "\t<tr><th scope=row>P077</th><td> 2.5821853</td><td>1.4311605</td><td>0.6603660</td><td>-2.69897</td><td>0.4736842</td><td>0.4605263</td><td>Remission</td><td>HR1</td><td>Intensive    </td></tr>\n",
       "</tbody>\n",
       "</table>\n"
      ],
      "text/latex": [
       "A data.frame: 6 × 9\n",
       "\\begin{tabular}{r|lllllllll}\n",
       "  & erm1\\_ratio2 & l2norm\\_ratio2 & angle\\_LD0\\_LD8\\_ratio2 & log\\_mrd\\_d33 & p\\_d8 & p\\_d33 & label & treatment & required\\_treatment\\\\\n",
       "  & <dbl> & <dbl> & <dbl> & <dbl> & <dbl> & <dbl> & <fct> & <fct> & <fct>\\\\\n",
       "\\hline\n",
       "\tP060 &  2.2609633 & 1.3974799 & 0.5436946 & -3.69897 & 0.3333333 & 0.4473684 & Remission & IR  & Non-intensive\\\\\n",
       "\tP063 &  0.6173321 & 0.9174787 & 0.4324256 & -3.00000 & 0.1052632 & 0.1973684 & Remission & HR1 & Intensive    \\\\\n",
       "\tP071 &  5.0548792 & 1.4634860 & 0.6214487 & -2.69897 & 0.5263158 & 0.5000000 & Remission & IR  & Non-intensive\\\\\n",
       "\tP073 &  2.3434004 & 1.3656135 & 0.6268032 & -3.30103 & 0.3859649 & 0.4210526 & Remission & IR  & Non-intensive\\\\\n",
       "\tP076 & 36.4452859 & 2.6607007 & 1.1706164 & -3.69897 & 1.0000000 & 0.9473684 & Remission & IR  & Non-intensive\\\\\n",
       "\tP077 &  2.5821853 & 1.4311605 & 0.6603660 & -2.69897 & 0.4736842 & 0.4605263 & Remission & HR1 & Intensive    \\\\\n",
       "\\end{tabular}\n"
      ],
      "text/markdown": [
       "\n",
       "A data.frame: 6 × 9\n",
       "\n",
       "| <!--/--> | erm1_ratio2 &lt;dbl&gt; | l2norm_ratio2 &lt;dbl&gt; | angle_LD0_LD8_ratio2 &lt;dbl&gt; | log_mrd_d33 &lt;dbl&gt; | p_d8 &lt;dbl&gt; | p_d33 &lt;dbl&gt; | label &lt;fct&gt; | treatment &lt;fct&gt; | required_treatment &lt;fct&gt; |\n",
       "|---|---|---|---|---|---|---|---|---|---|\n",
       "| P060 |  2.2609633 | 1.3974799 | 0.5436946 | -3.69897 | 0.3333333 | 0.4473684 | Remission | IR  | Non-intensive |\n",
       "| P063 |  0.6173321 | 0.9174787 | 0.4324256 | -3.00000 | 0.1052632 | 0.1973684 | Remission | HR1 | Intensive     |\n",
       "| P071 |  5.0548792 | 1.4634860 | 0.6214487 | -2.69897 | 0.5263158 | 0.5000000 | Remission | IR  | Non-intensive |\n",
       "| P073 |  2.3434004 | 1.3656135 | 0.6268032 | -3.30103 | 0.3859649 | 0.4210526 | Remission | IR  | Non-intensive |\n",
       "| P076 | 36.4452859 | 2.6607007 | 1.1706164 | -3.69897 | 1.0000000 | 0.9473684 | Remission | IR  | Non-intensive |\n",
       "| P077 |  2.5821853 | 1.4311605 | 0.6603660 | -2.69897 | 0.4736842 | 0.4605263 | Remission | HR1 | Intensive     |\n",
       "\n"
      ],
      "text/plain": [
       "     erm1_ratio2 l2norm_ratio2 angle_LD0_LD8_ratio2 log_mrd_d33 p_d8     \n",
       "P060  2.2609633  1.3974799     0.5436946            -3.69897    0.3333333\n",
       "P063  0.6173321  0.9174787     0.4324256            -3.00000    0.1052632\n",
       "P071  5.0548792  1.4634860     0.6214487            -2.69897    0.5263158\n",
       "P073  2.3434004  1.3656135     0.6268032            -3.30103    0.3859649\n",
       "P076 36.4452859  2.6607007     1.1706164            -3.69897    1.0000000\n",
       "P077  2.5821853  1.4311605     0.6603660            -2.69897    0.4736842\n",
       "     p_d33     label     treatment required_treatment\n",
       "P060 0.4473684 Remission IR        Non-intensive     \n",
       "P063 0.1973684 Remission HR1       Intensive         \n",
       "P071 0.5000000 Remission IR        Non-intensive     \n",
       "P073 0.4210526 Remission IR        Non-intensive     \n",
       "P076 0.9473684 Remission IR        Non-intensive     \n",
       "P077 0.4605263 Remission HR1       Intensive         "
      ]
     },
     "metadata": {},
     "output_type": "display_data"
    }
   ],
   "source": [
    "X_y <- add_treatment(obj, metadata_pid)\n",
    "head(X_y)"
   ]
  },
  {
   "cell_type": "code",
   "execution_count": 743,
   "metadata": {
    "scrolled": true
   },
   "outputs": [
    {
     "name": "stderr",
     "output_type": "stream",
     "text": [
      "Warning message in wilcox.test.default(x1, x2, exact = T):\n",
      "“cannot compute exact p-value with ties”Warning message in wilcox.test.default(x1, x2, exact = T):\n",
      "“cannot compute exact p-value with ties”Warning message in wilcox.test.default(x1, x2, exact = T):\n",
      "“cannot compute exact p-value with ties”"
     ]
    }
   ],
   "source": [
    "ax <- plot_boxplot(X_y, group = 'label', fill = 'label')\n",
    "file <- \"~/Dropbox/tmp/boxplot_outcome-DUX4.pdf\"\n",
    "ggsave(file, ax, width = 9.5, height = 2.5)"
   ]
  }
 ],
 "metadata": {
  "kernelspec": {
   "display_name": "R",
   "language": "R",
   "name": "ir"
  },
  "language_info": {
   "codemirror_mode": "r",
   "file_extension": ".r",
   "mimetype": "text/x-r-source",
   "name": "R",
   "pygments_lexer": "r",
   "version": "3.5.1"
  }
 },
 "nbformat": 4,
 "nbformat_minor": 2
}
