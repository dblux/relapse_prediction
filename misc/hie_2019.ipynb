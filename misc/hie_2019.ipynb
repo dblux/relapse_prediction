{
 "cells": [
  {
   "cell_type": "code",
   "execution_count": 1,
   "metadata": {},
   "outputs": [],
   "source": [
    "import numpy as np\n",
    "from scipy.sparse import csr_matrix"
   ]
  },
  {
   "cell_type": "code",
   "execution_count": 58,
   "metadata": {},
   "outputs": [],
   "source": [
    "def load_mtx(dname):\n",
    "    with open(dname + '/matrix.mtx', 'r') as f:\n",
    "        while True:\n",
    "            header = f.readline()\n",
    "            if not header.startswith('%'):\n",
    "                break\n",
    "        header = header.rstrip().split()\n",
    "        n_genes, n_cells = int(header[0]), int(header[1])\n",
    "\n",
    "        data, i, j = [], [], []\n",
    "        for line in f:\n",
    "            fields = line.rstrip().split()\n",
    "            data.append(float(fields[2]))\n",
    "            i.append(int(fields[1])-1)\n",
    "            j.append(int(fields[0])-1)\n",
    "        X = csr_matrix((data, (i, j)), shape=(n_cells, n_genes))\n",
    "\n",
    "    genes = []\n",
    "    with open(dname + '/genes.tsv', 'r') as f:\n",
    "        for line in f:\n",
    "            fields = line.rstrip().split()\n",
    "            genes.append(fields[1])\n",
    "    assert(len(genes) == n_genes)\n",
    "\n",
    "    return X, np.array(genes)"
   ]
  },
  {
   "cell_type": "code",
   "execution_count": 59,
   "metadata": {},
   "outputs": [],
   "source": [
    "t293_raw, t293_genes = load_mtx(\"data/scanorama/data/293t_jurkat/293t\")"
   ]
  },
  {
   "cell_type": "code",
   "execution_count": 76,
   "metadata": {},
   "outputs": [],
   "source": [
    "?print"
   ]
  }
 ],
 "metadata": {
  "kernelspec": {
   "display_name": "Python 3",
   "language": "python",
   "name": "python3"
  },
  "language_info": {
   "codemirror_mode": {
    "name": "ipython",
    "version": 3
   },
   "file_extension": ".py",
   "mimetype": "text/x-python",
   "name": "python",
   "nbconvert_exporter": "python",
   "pygments_lexer": "ipython3",
   "version": "3.7.3"
  }
 },
 "nbformat": 4,
 "nbformat_minor": 2
}
