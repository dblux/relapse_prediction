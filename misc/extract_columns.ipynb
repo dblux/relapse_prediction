{
 "cells": [
  {
   "cell_type": "code",
   "execution_count": 5,
   "metadata": {},
   "outputs": [],
   "source": [
    "with open(\"coreComplexes.txt\") as f:\n",
    "    content = f.readlines()\n",
    "cnt = 0\n",
    "fw = open(\"entrezId1.txt\", 'w')\n",
    "for line in content:\n",
    "    data = line.strip().split(\"\\t\")\n",
    "#     print(len(data), data[0], data[6])\n",
    "    fw.write(\"%s\\t%s\\t%s\\n\" % (data[0],data[2],data[6]))\n",
    "fw.close()"
   ]
  },
  {
   "cell_type": "code",
   "execution_count": null,
   "metadata": {},
   "outputs": [],
   "source": []
  }
 ],
 "metadata": {
  "kernelspec": {
   "display_name": "Python 3",
   "language": "python",
   "name": "python3"
  },
  "language_info": {
   "codemirror_mode": {
    "name": "ipython",
    "version": 3
   },
   "file_extension": ".py",
   "mimetype": "text/x-python",
   "name": "python",
   "nbconvert_exporter": "python",
   "pygments_lexer": "ipython3",
   "version": "3.7.3"
  }
 },
 "nbformat": 4,
 "nbformat_minor": 2
}
