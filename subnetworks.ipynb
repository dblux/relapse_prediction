{
 "cells": [
  {
   "cell_type": "code",
   "execution_count": 2,
   "metadata": {},
   "outputs": [
    {
     "name": "stderr",
     "output_type": "stream",
     "text": [
      "\n",
      "Attaching package: ‘igraph’\n",
      "\n",
      "The following object is masked from ‘package:tibble’:\n",
      "\n",
      "    as_data_frame\n",
      "\n",
      "The following objects are masked from ‘package:stats’:\n",
      "\n",
      "    decompose, spectrum\n",
      "\n",
      "The following object is masked from ‘package:base’:\n",
      "\n",
      "    union\n",
      "\n",
      "\n",
      "********************************************************\n",
      "Note: As of version 1.0.0, cowplot does not change the\n",
      "  default ggplot2 theme anymore. To recover the previous\n",
      "  behavior, execute:\n",
      "  theme_set(theme_cowplot())\n",
      "********************************************************\n",
      "\n",
      "Type 'citation(\"pROC\")' for a citation.\n",
      "\n",
      "Attaching package: ‘pROC’\n",
      "\n",
      "The following objects are masked from ‘package:stats’:\n",
      "\n",
      "    cov, smooth, var\n",
      "\n"
     ]
    }
   ],
   "source": [
    "### library(reshape2)\n",
    "library(tibble)\n",
    "library(igraph)\n",
    "library(xtable)\n",
    "\n",
    "## Plotting\n",
    "library(RColorBrewer)\n",
    "library(ggplot2)\n",
    "library(cowplot)\n",
    "# library(rgl)\n",
    "library(pROC)\n",
    "\n",
    "library(umap)\n",
    "library(pheatmap)\n",
    "# library(VennDiagram)\n",
    "# library(UpSetR)\n",
    "# library(Rtsne)\n",
    "# library(dendextend)\n",
    "# library(repr)\n",
    "options(repr.plot.width=8, repr.plot.height=4)\n",
    "\n",
    "theme_set(theme_bw())"
   ]
  },
  {
   "cell_type": "code",
   "execution_count": 3,
   "metadata": {},
   "outputs": [],
   "source": [
    "source(\"R/calc.R\")\n",
    "source(\"R/misc.R\")\n",
    "source(\"R/normalise.R\")\n",
    "source(\"R/plot.R\")\n",
    "source(\"R/predict.R\")\n",
    "source(\"R/subset.R\")\n",
    "source(\"R/utils.R\")"
   ]
  },
  {
   "cell_type": "markdown",
   "metadata": {},
   "source": [
    "## Import data"
   ]
  },
  {
   "cell_type": "code",
   "execution_count": 4,
   "metadata": {},
   "outputs": [
    {
     "name": "stdout",
     "output_type": "stream",
     "text": [
      "  P001_D0   P004_D0   P005_D0   P007_D0   P008_D0   P009_D0 \n",
      " 5.796952  4.123342  3.981577  6.317643  4.841458 11.978124 \n",
      "[1] \"No. of ambiguous and AFFY probesets removed: 10503\"\n",
      "[1] D0 D0 D0 D0 D0 D0\n",
      "Levels: D0 D8 N\n",
      "           D0    D8     N\n",
      "1053_at  TRUE  TRUE  TRUE\n",
      "117_at  FALSE  TRUE  TRUE\n",
      "121_at   TRUE  TRUE  TRUE\n",
      "1294_at  TRUE  TRUE  TRUE\n",
      "1316_at  TRUE  TRUE  TRUE\n",
      "1320_at FALSE FALSE FALSE\n",
      "[1] \"No. of probesets removed = 6321\"\n"
     ]
    }
   ],
   "source": [
    "## Metadata\n",
    "METADATA_RPATH <- \"data/GSE67684/processed/metadata/sid-metadata_v2.tsv\"\n",
    "LABEL_RPATH <- \"data/GSE67684/processed/metadata/pid-metadata_v4.tsv\"\n",
    "BATCH_RPATH <- \"data/GSE67684/processed/metadata/sid-batch.tsv\"\n",
    "\n",
    "metadata_df <- read.table(METADATA_RPATH, sep = \"\\t\")\n",
    "yeoh_batch <- read.table(BATCH_RPATH, sep = \"\\t\", header = T, row.names = 1)\n",
    "yeoh_label <- read.table(LABEL_RPATH, sep = \"\\t\", header = T, row.names = 1)\n",
    "yeoh_label[] <- lapply(yeoh_label, as.factor)\n",
    "\n",
    "## Subset of original data\n",
    "# Removed outliers, patients with timepoints from different batches and batch 5\n",
    "SUBSET_RPATH <- \"data/GSE67684/processed/subset_yeoh.tsv\"\n",
    "raw_yeoh <- read.table(SUBSET_RPATH, sep = \"\\t\")\n",
    "# SCALE->REMOVE->FILTER->LOG\n",
    "scaled_yeoh <- normaliseMeanScaling(raw_yeoh)\n",
    "selected_yeoh <- removeProbesets(scaled_yeoh)\n",
    "data <- log2_transform(filterProbesets(selected_yeoh, 0.7, metadata_df))"
   ]
  },
  {
   "cell_type": "markdown",
   "metadata": {},
   "source": [
    "#### Data\n",
    "- 405 samples (201 D0, 201 D8,3 N)\n",
    "- Originally 210 patients\n",
    "- Removed 2 outliers, 7 different batches"
   ]
  },
  {
   "cell_type": "code",
   "execution_count": 5,
   "metadata": {},
   "outputs": [
    {
     "name": "stdout",
     "output_type": "stream",
     "text": [
      "P001_D33 P006_D33 P007_D33 P008_D33 P009_D33 P010_D33 \n",
      "2.106859 2.132480 1.498776 2.559182 1.576584 2.657973 \n"
     ]
    }
   ],
   "source": [
    "path1 <- \"data/leuk_D33/processed/mas5_filtered.tsv\"\n",
    "path2 <- \"data/GSE67684/processed/metadata/sid-metadata_v1.tsv\"\n",
    "\n",
    "yeoh_d33 <- read.table(path1, sep = \"\\t\", header = T)\n",
    "annot_all <- read.table(path2, sep = \"\\t\", header = T)\n",
    "\n",
    "annot_all[] <- lapply(annot_all, as.factor)\n",
    "yeoh_d33_allps <- log2_transform(normaliseMeanScaling(yeoh_d33))\n",
    "# Remove samples that have been curated out of data set\n",
    "# Members that have been curated out are no longer in annot_all\n",
    "missing_samples <- colnames(yeoh_d33_allps)[\n",
    "  !(colnames(yeoh_d33_allps) %in% rownames(annot_all))]\n",
    "# Remove patients from D33 that have been curated out\n",
    "yeoh_d33 <- yeoh_d33_allps[\n",
    "  rownames(data),\n",
    "  !(colnames(yeoh_d33_allps) %in% missing_samples)\n",
    "]"
   ]
  },
  {
   "cell_type": "code",
   "execution_count": 6,
   "metadata": {},
   "outputs": [],
   "source": [
    "annot_all$class_info <- factor(\n",
    "  annot_all$class_info,\n",
    "  levels = c('D0', 'D8', 'D33', 'N')\n",
    ")"
   ]
  },
  {
   "cell_type": "code",
   "execution_count": 7,
   "metadata": {},
   "outputs": [],
   "source": [
    "COL_LABEL <- c(\"darkolivegreen3\", \"tomato3\")\n",
    "\n",
    "annot <- metadata_df[colnames(data),]\n",
    "annot[] <- lapply(annot, as.factor)\n",
    "\n",
    "# List subtypes\n",
    "subtypes9 <- levels(metadata_df$subtype)\n",
    "subtypes7 <- setdiff(subtypes9, c(\"Hypodiploid\", \"Normal\"))\n",
    "subtypes5 <- setdiff(\n",
    "  subtypes9,\n",
    "  c(\"Hypodiploid\", \"Normal\", \"Hyperdiploid\", \"Others\")\n",
    ")"
   ]
  },
  {
   "cell_type": "code",
   "execution_count": 8,
   "metadata": {},
   "outputs": [],
   "source": [
    "# Define train/test split\n",
    "sid_mrd_na <- rownames(yeoh_label)[is.na(yeoh_label$d33_mrd)] %>%\n",
    "  rep(each = 2) %>%\n",
    "  paste0(c(\"_D0\", \"_D8\"))\n",
    "\n",
    "sid_alltrain_local <- rownames(annot)[\n",
    "  !(annot$subtype %in% c(\"Hypodiploid\", \"Normal\")) &\n",
    "  !(rownames(annot) %in% sid_mrd_na)\n",
    "]\n",
    "sid_alltrain <- rownames(annot)[\n",
    "  !(annot$subtype %in% c(\"Hypodiploid\", \"Hyperdiploid\", \"Others\", \"Normal\")) &\n",
    "  !(rownames(annot) %in% sid_mrd_na)\n",
    "]\n",
    "sid_train <- rownames(annot)[\n",
    "  annot$batch_info %in% 1:7 &\n",
    "  !(annot$subtype %in% c(\"Hypodiploid\", \"Hyperdiploid\", \"Others\", \"Normal\")) &\n",
    "  !(rownames(annot) %in% sid_mrd_na)\n",
    "]\n",
    "sid_test <- rownames(annot)[\n",
    "  annot$batch_info %in% 8:10 &\n",
    "  !(annot$subtype %in% c(\"Hypodiploid\", \"Hyperdiploid\", \"Others\", \"Normal\")) &\n",
    "  !(rownames(annot) %in% sid_mrd_na)\n",
    "]\n",
    "\n",
    "sid_remission <- rownames(annot)[annot$label == 0]\n",
    "sid_normal <- paste0(\"N0\", c(1,2,4))"
   ]
  },
  {
   "cell_type": "markdown",
   "metadata": {},
   "source": [
    "### Subnetworks"
   ]
  },
  {
   "cell_type": "code",
   "execution_count": 9,
   "metadata": {},
   "outputs": [
    {
     "name": "stdout",
     "output_type": "stream",
     "text": [
      "Top 0.05 of expressed genes are assigned GFS scores of 1\n",
      "Genes below the top 0.60 of expressed genes are assigned GFS scores of 0\n",
      "No. of probesets with no ID removed: 160\n",
      "Total no. of probesets removed (incl. probesets mapping to same gene): 746\n"
     ]
    }
   ],
   "source": [
    "# 1. Removes affymetrix ambiguous and control probesets\n",
    "# 2. Map probesets to IDs\n",
    "# Removes one-to-many probesets and probesets with no ID\n",
    "# Selects maximum if two probesets match to same gene\n",
    "# CHECK: What microarray platform is the data from?\n",
    "data_gfs <- normaliseGFS(data, lower = .6)\n",
    "ENTREZ_GPL570 <- \"../info/microarray/HG-U133_Plus_2/annot_entrez-GPL570.tsv\"\n",
    "# entrez_data <- affy2id(data, ENTREZ_GPL570)\n",
    "entrez_gfs <- affy2id(data_gfs, ENTREZ_GPL570)\n",
    "\n",
    "## SYMBOL_GPL570 <- \"../info/microarray/HG-U133_Plus_2/annot_genesymbol-GPL570.tsv\"\n",
    "## symbol_yeoh <- affy2id(data_yeoh, SYMBOL_GPL570)"
   ]
  },
  {
   "cell_type": "code",
   "execution_count": 10,
   "metadata": {},
   "outputs": [],
   "source": [
    "## Import NEA subnetworks\n",
    "NEA_RPATH <- paste0(\"../diff_expr/data/subnetwork/nea-hsa/\",\n",
    "                    \"ovarian_cancer/geneset-nea_kegg_ovarian.tsv\")\n",
    "nea_df <- read.table(NEA_RPATH, sep = \"\\t\", header = T, stringsAsFactors = F)\n",
    "subnetwork_nea <- split(as.character(nea_df$gene_id), nea_df$subnetwork_id)"
   ]
  },
  {
   "cell_type": "code",
   "execution_count": 11,
   "metadata": {},
   "outputs": [],
   "source": [
    "#' Calculates QPSP profiles of samples\n",
    "#' Rownames of X has to be the same annotation type as list of network vectors\n",
    "#' @param X dataframe of discrete GFS-transformed expression data with\n",
    "#' features in rows and samples in columns\n",
    "#' @param list_complex list of vectors that contain components of networks\n",
    "#' @return dataframe of QPSP profiles\n",
    "calc_qpsp <- function(X, list_complex) {\n",
    "  idx <- sapply(list_complex, function(x) all(x %in% rownames(X)))\n",
    "  \n",
    "  if (anyNA(idx))\n",
    "    stop(\"NA present in index\")\n",
    "  \n",
    "  # List of complexes with all IDs present\n",
    "  complete_complexes <- list_complex[idx]\n",
    "\n",
    "  .col_qpsp <- function(col) {\n",
    "    sapply(complete_complexes, function(ids) mean(col[ids]))\n",
    "  }\n",
    "           \n",
    "  data.frame(apply(X, 2, .col_qpsp))\n",
    "}"
   ]
  },
  {
   "cell_type": "code",
   "execution_count": 12,
   "metadata": {},
   "outputs": [],
   "source": [
    "qpsp_nea <- calc_qpsp(entrez_gfs, subnetwork_nea)"
   ]
  },
  {
   "cell_type": "code",
   "execution_count": 17,
   "metadata": {},
   "outputs": [],
   "source": [
    "# write.table(qpsp_nea, 'tmp/nea_gfs.tsv', quote = F, sep = '\\t')"
   ]
  },
  {
   "cell_type": "markdown",
   "metadata": {},
   "source": [
    "### Plots"
   ]
  },
  {
   "cell_type": "code",
   "execution_count": 154,
   "metadata": {},
   "outputs": [],
   "source": [
    "## Subsetting data\n",
    "d0_qpsp <- qpsp_nea[, annot[colnames(qpsp_nea), 'class_info'] == 'D0']\n",
    "d0_hyper <- d0_qpsp[,\n",
    "  annot[colnames(d0_qpsp), 'subtype'] == 'Hyperdiploid']\n",
    "d0_others <- d0_qpsp[,\n",
    "  annot[colnames(d0_qpsp), 'subtype'] == 'Others']\n",
    "\n",
    "qpsp_hvg <- select_hvg(qpsp_nea, 100)\n",
    "d0_qpsp_hvg <- qpsp_hvg[, annot[colnames(qpsp_hvg), 'class_info'] == 'D0']\n",
    "d0_hyper_hvg <- d0_qpsp_hvg[,\n",
    "  annot[colnames(d0_qpsp_hvg), 'subtype'] == 'Hyperdiploid']"
   ]
  },
  {
   "cell_type": "code",
   "execution_count": 155,
   "metadata": {},
   "outputs": [],
   "source": [
    "# # Colour settings\n",
    "# # set1_colours <- ggplot_palette(9)\n",
    "# set1_colours <- brewer.pal(n = 9, name = \"Set1\")\n",
    "# names(set1_colours) <- rev(levels(annot$subtype))\n",
    "# annot_colours <- list(subtype = set1_colours) \n",
    "\n",
    "# pheatmap(\n",
    "#   qpsp_hvg,\n",
    "# #   col = brewer.pal(n = 11, name = \"RdBu\"),\n",
    "#   col = brewer.pal(9, \"Blues\"),\n",
    "#   display_numbers = F, legend = T, border_color = NULL,\n",
    "#   cluster_method = \"complete\", cluster_rows = T, cluster_cols = T,\n",
    "#   clustering_distance_rows = \"euclidean\", clustering_distance_cols = \"euclidean\",\n",
    "#   scale = \"none\", show_colnames = F, show_rownames = F,\n",
    "#   annotation_col = annot, annotation_colors = annot_colours,\n",
    "#   fontsize = 6, cellwidth = 2, cellheight = 3,\n",
    "#   filename = \"~/Dropbox/tmp/heatmap-qpsp_hvg100.pdf\"\n",
    "# )"
   ]
  },
  {
   "cell_type": "code",
   "execution_count": 156,
   "metadata": {
    "scrolled": true
   },
   "outputs": [],
   "source": [
    "# umap_obj <- umap(t(d0_hyper))\n",
    "# ax <- plot_umap(umap_obj, annot, col = 'subtype')\n",
    "\n",
    "ax <- plot_pca(d0_hyper, annot, col = 'subtype', pch = 'label')\n",
    "ggsave('~/Dropbox/tmp/qpsp_pca-d0_hyperdiploid.pdf', ax, width = 9, heigh = 5)"
   ]
  },
  {
   "cell_type": "code",
   "execution_count": 147,
   "metadata": {},
   "outputs": [],
   "source": [
    "#' @param X dataframe with features as rows and samples as columns\n",
    "#' @param annot dataframe of annotation with samples as rows\n",
    "#' @param newdata dataframe of data to be predicted by prcomp object\n",
    "#' @param ... optional arguments are passed to aes_string in ggplot\n",
    "plot_pca <- function(X, annot, cex = 2, newdata = NULL, ...) {\n",
    "  # PCA\n",
    "  pca_obj <- prcomp(t(X))\n",
    "  Z <- data.frame(pca_obj$x[, 1:3])\n",
    "  eigenvalues <- (pca_obj$sdev)^2\n",
    "  var_pc <- eigenvalues[1:3]/sum(eigenvalues)\n",
    "  pc_labels <- sprintf(\"PC%d (%.2f%%)\", 1:3, var_pc*100)\n",
    "\n",
    "  # Projects newdata into PCA space\n",
    "  if (!is.null(newdata)) {\n",
    "    Z_new <- predict(pca_obj, newdata = t(newdata))[, 1:3]\n",
    "    # Remove duplicate rows\n",
    "    Z_new <- Z_new[!(rownames(Z_new) %in% rownames(Z)), ]\n",
    "    Z <- rbind(Z, Z_new)\n",
    "  }\n",
    "\n",
    "  # concat with annotations\n",
    "  annot_cols <- unlist(list(...))\n",
    "  annot1 <- annot[rownames(Z), annot_cols, drop = F]\n",
    "  Z_annot <- cbind(Z, annot1)\n",
    "\n",
    "  ggplot(Z_annot, aes_string(x = \"PC1\", y = \"PC2\", ...)) +\n",
    "    geom_point(cex = cex) +\n",
    "    labs(x = pc_labels[1], y = pc_labels[2]) +\n",
    "    geom_vline(xintercept = 0, color = \"black\", alpha = 0.5) +\n",
    "    geom_hline(yintercept = 0, color = \"black\", alpha = 0.5)\n",
    "}"
   ]
  },
  {
   "cell_type": "code",
   "execution_count": 158,
   "metadata": {},
   "outputs": [],
   "source": [
    "ax <- plot_pca(d0_others, annot, newdata = d0_qpsp, col = 'subtype')\n",
    "ggsave('~/Dropbox/tmp/qpsp_pca-d0_others_project.pdf', ax, width = 9, height = 5)"
   ]
  },
  {
   "cell_type": "markdown",
   "metadata": {},
   "source": [
    "#### Only half of the KEGG ids are represented in the data"
   ]
  },
  {
   "cell_type": "code",
   "execution_count": null,
   "metadata": {},
   "outputs": [],
   "source": [
    "# ## Import KEGG pathways\n",
    "# KEGG_RPATH <- \"../info/KEGG/kegg-human_allpathway_genes.tsv\"\n",
    "# kegg_df <- read.table(KEGG_RPATH, sep = \"\\t\", header = T, stringsAsFactors = F)\n",
    "# kegg_df$Pathway <- substring(kegg_df$Pathway, 6)\n",
    "# list_kegg <- split(kegg_df$Entrez.Gene.ID, kegg_df$Pathway)"
   ]
  },
  {
   "cell_type": "code",
   "execution_count": null,
   "metadata": {},
   "outputs": [],
   "source": [
    "# # kegg_size <- sapply(subnetwork_pwapi, length)\n",
    "# # kegg_hit <- sapply(subnetwork_pwapi,\n",
    "# #                    function(ids) sum(ids %in% rownames(araw)))\n",
    "\n",
    "# ## Only include the IDs represented in the data\n",
    "# incomplete_kegg <- lapply(list_kegg,\n",
    "#                           function(ids) ids[ids %in% rownames(araw)])\n",
    "# kegg_size <- sapply(incomplete_kegg, length)\n",
    "# SIZE <- 5\n",
    "# incomplete_kegg_sub <- incomplete_kegg[kegg_size > SIZE]\n",
    "# kegg_size1 <- sapply(incomplete_kegg_sub, length)"
   ]
  },
  {
   "cell_type": "code",
   "execution_count": null,
   "metadata": {},
   "outputs": [],
   "source": [
    "# ## Import pathwayAPI\n",
    "# PWAPI_RPATH <- \"../info/pathwayAPI/pwapi_id_human-filtered_entrez.tsv\"\n",
    "# pwapi_df <- read.table(PWAPI_RPATH, sep = \"\\t\", header = T, stringsAsFactors = F)\n",
    "# list_pwapi <- split(pwapi_df[,2:3], pwapi_df$pathway_id)\n",
    "# subnetwork_pwapi <- lapply(list_pwapi,\n",
    "#                            function(X) unique(as.numeric(data.matrix(X))))"
   ]
  },
  {
   "cell_type": "code",
   "execution_count": null,
   "metadata": {},
   "outputs": [],
   "source": [
    "# pwapi_size <- sapply(subnetwork_pwapi, length)\n",
    "# pwapi_hit <- sapply(subnetwork_pwapi,\n",
    "#                     function(ids) sum(ids %in% rownames(araw)))\n",
    "\n",
    "# ## Only include the IDs represented in the data in pathwayAPI\n",
    "# subnetwork_pwapi_sub <- lapply(subnetwork_pwapi,\n",
    "#                                 function(ids) ids[ids %in% rownames(araw)])\n",
    "# pwapi_size1 <- sapply(subnetwork_pwapi_sub, length)\n",
    "# SIZE <- 5\n",
    "# subnetwork_pwapi_sub1 <- subnetwork_pwapi_sub[pwapi_size1 > SIZE]\n",
    "# pwapi_size2 <- sapply(subnetwork_pwapi_sub1, length)\n",
    "# print(cbind(pwapi_hit[pwapi_size1 > SIZE], pwapi_size2))"
   ]
  },
  {
   "cell_type": "code",
   "execution_count": null,
   "metadata": {},
   "outputs": [],
   "source": []
  },
  {
   "cell_type": "markdown",
   "metadata": {},
   "source": [
    "## Subnetworks"
   ]
  },
  {
   "cell_type": "code",
   "execution_count": null,
   "metadata": {},
   "outputs": [],
   "source": [
    "# ## NEA - GFS\n",
    "# file <- 'tmp/nea_gfs.tsv'\n",
    "# raw_nea <- read.table(file, sep = \"\\t\", header = T, row.names = 1)\n",
    "# nea_fltr <- remove_rows(raw_nea, sum(row) == 0)"
   ]
  },
  {
   "cell_type": "code",
   "execution_count": null,
   "metadata": {},
   "outputs": [],
   "source": [
    "# # Subnetworks are resistant to batch effects\n",
    "# batch_subnetworks <- identify_batch_features(nea_fltr, annot, method = 'aov')\n",
    "# length(batch_subnetworks)"
   ]
  },
  {
   "cell_type": "code",
   "execution_count": null,
   "metadata": {},
   "outputs": [],
   "source": [
    "# # Prediction (Drug genes) --------------------------------------------\n",
    "# ## Drug responsive genes\n",
    "# #' @param X_subtype df of patients from a specific subtype (D0 followed by D8)\n",
    "# select_subnetworks <- function(\n",
    "#   X_subtype, sid_remission,\n",
    "#   alpha = 0.05, N = 50\n",
    "# ) {\n",
    "#   sid <- intersect(sid_remission, colnames(X_subtype))\n",
    "#   X_subtype_remission <- X_subtype[, sid, drop = F]\n",
    "#   n_pairs <- ncol(X_subtype_remission) / 2\n",
    "  \n",
    "#   if (!is_paired(X_subtype_remission))\n",
    "#     stop(\"Patient IDs are not paired..\")\n",
    "  \n",
    "#   # P-value\n",
    "#   pvalue <- calc_ttest(X_subtype_remission, n_pairs, is_paired = T) # nan values!\n",
    "#   features <- names(pvalue)[pvalue < alpha & !is.na(pvalue)]\n",
    "  \n",
    "#   return(features)\n",
    "# }"
   ]
  },
  {
   "cell_type": "code",
   "execution_count": null,
   "metadata": {},
   "outputs": [],
   "source": [
    "#' Does not perform PCA transform on data\n",
    "#' Used to predict relapse for all subtypes\n",
    "#' X df containing all subtypes of patients in arg: pid and normal patients\n",
    "#' @param pid vector of pid belonging to both D0 and D8 patients (identically ordered)\n",
    "#' @return list containing prediction plot and vector coordinates\n",
    "predict_subnetwork <- function(\n",
    "  subtype, list_X, X_normal,\n",
    "  metadata, metadata_mrd,\n",
    "  batch_features = NULL,\n",
    "  save.rds = FALSE\n",
    ") {\n",
    "  X_subtype <- list_X[[subtype]]\n",
    "  \n",
    "  sid_remission <- colnames(X_subtype)[\n",
    "    metadata[colnames(X_subtype), \"label\"] == 0\n",
    "  ]\n",
    "  \n",
    "  class_features <- select_subnetworks(X_subtype, sid_remission)\n",
    "  if (is.null(batch_features)) {\n",
    "    selected_genes <- class_features\n",
    "  } else {\n",
    "    selected_genes <- setdiff(class_features, batch_features)\n",
    "  }\n",
    "  \n",
    "  print(c(\"No. of selected genes = \", length(class_features)))\n",
    "  print(c(\"No. of final genes = \", length(selected_genes)))\n",
    "  \n",
    "  # Subtype and normal samples\n",
    "  response <- t(X_subtype[selected_genes, ])\n",
    "  normal <- t(X_normal[selected_genes, ])\n",
    "  \n",
    "  if (save.rds) {\n",
    "    file <- sprintf('tmp/subnetworks-%s.RDS', subtype) \n",
    "    saveRDS(list(response, normal), file)\n",
    "  }\n",
    "  \n",
    "  # Collate MRD results as well\n",
    "  V <- compute_features(response, normal, colnames(X_subtype), sid_remission)\n",
    "  V$mrd <- metadata_mrd[rownames(V), \"d33_mrd\"]\n",
    "\n",
    "  prediction_obj <- predict_plot(\n",
    "    V, metadata,                             \n",
    "    bigpos_names = \"angle_d0d8_d0normal\",\n",
    "    smallpos_names = c(\"erm1_ratio2\", \"l2norm_ratio2\", \"mrd\")\n",
    "  )\n",
    "  \n",
    "  return(prediction_obj)\n",
    "}"
   ]
  },
  {
   "cell_type": "code",
   "execution_count": null,
   "metadata": {},
   "outputs": [],
   "source": [
    "X_normal <- nea_fltr[, sid_normal]\n",
    "list_X_subtypes7 <- lapply(\n",
    "  subtypes7,\n",
    "  function(subtype) nea_fltr[,\n",
    "    sid_alltrain_local[annot[sid_alltrain_local, \"subtype\"] == subtype]\n",
    "  ]\n",
    ")\n",
    "names(list_X_subtypes7) <- subtypes7\n",
    "\n",
    "list_obj1 <- lapply(\n",
    "  subtypes7,\n",
    "  predict_subnetwork,\n",
    "  list_X_subtypes7,\n",
    "  X_normal, annot, yeoh_label,\n",
    "  save.rds = FALSE\n",
    ")"
   ]
  },
  {
   "cell_type": "code",
   "execution_count": null,
   "metadata": {},
   "outputs": [],
   "source": [
    "list_boxplots <- lapply(list_obj1, function(obj) obj$plot)\n",
    "names(list_boxplots) <- subtypes7"
   ]
  },
  {
   "cell_type": "code",
   "execution_count": null,
   "metadata": {},
   "outputs": [],
   "source": [
    "for (subtype in subtypes7) {\n",
    "  wpath <- sprintf('~/Dropbox/tmp/nea_gfs-%s.pdf', subtype)\n",
    "  ggsave(wpath, list_boxplots[[subtype]], width = 9, height = 2.5)\n",
    "}"
   ]
  },
  {
   "cell_type": "markdown",
   "metadata": {},
   "source": [
    "### Concatenate subnetwork features"
   ]
  },
  {
   "cell_type": "code",
   "execution_count": null,
   "metadata": {},
   "outputs": [],
   "source": [
    "# Save scaled subnetwork values to concatenate with probeset values\n",
    "# Unit scaling of each row\n",
    "scaled_nea <- t(scale(t(nea_fltr)))\n",
    "\n",
    "X_normal <- scaled_nea[, sid_normal]\n",
    "list_X_subtypes7 <- lapply(\n",
    "  subtypes7,\n",
    "  function(subtype) scaled_nea[,\n",
    "    sid_alltrain_local[metadata_sid[sid_alltrain_local, \"subtype\"] == subtype]\n",
    "  ]\n",
    ")\n",
    "names(list_X_subtypes7) <- subtypes7\n",
    "list_obj1 <- lapply(\n",
    "  subtypes7,\n",
    "  predict_subnetwork,\n",
    "  list_X_subtypes7,\n",
    "  X_normal, metadata_sid, yeoh_label,\n",
    "  save.rds = TRUE\n",
    ")"
   ]
  },
  {
   "cell_type": "code",
   "execution_count": null,
   "metadata": {},
   "outputs": [],
   "source": [
    "#' Concatenates probesets with subnetworks\n",
    "#'\n",
    "#' Does not perform PCA transform on data\n",
    "#' Used to predict relapse for all subtypes\n",
    "#' X df containing all subtypes of patients in arg: pid and normal patients\n",
    "#'\n",
    "#' @param pid vector of pid belonging to both D0 and D8 patients (identically ordered)\n",
    "#' @return list containing prediction plot and vector coordinates\n",
    "predict_concat <- function(\n",
    "  subtype, list_X, X_normal,\n",
    "  metadata, metadata_mrd,\n",
    "  batch_genes = NULL\n",
    ") {\n",
    "  X_subtype <- list_X[[subtype]]\n",
    "  sid_remission <- colnames(X_subtype)[\n",
    "    metadata[colnames(X_subtype), \"label\"] == 0\n",
    "  ]\n",
    "  # Scaled features will fail selection by getLocalGenes due to expression threshold\n",
    "  class_genes <- select_subnetworks(X_subtype, sid_remission)\n",
    "  \n",
    "  if (is.null(batch_genes)) {\n",
    "    selected_genes <- class_genes\n",
    "  } else {\n",
    "    selected_genes <- setdiff(class_genes, batch_genes)\n",
    "  }\n",
    "  \n",
    "  cat(sprintf(\"No. of selected genes = %d\\n\", length(class_genes)))\n",
    "  cat(sprintf(\"No. of final genes = %d\\n\", length(selected_genes)))\n",
    "  \n",
    "  file <- sprintf('tmp/subnetworks-%s.RDS', subtype)\n",
    "  subnetworks <- readRDS(file)\n",
    "  \n",
    "  # Subtype and normal samples\n",
    "  response <- cbind(\n",
    "    t(X_subtype[selected_genes, ]),\n",
    "    subnetworks[[1]]\n",
    "  )\n",
    "  normal <- cbind(\n",
    "    t(X_normal[selected_genes, ]),\n",
    "    subnetworks[[2]]\n",
    "  )\n",
    "\n",
    "  \n",
    "  # Collate MRD results as well\n",
    "  V <- compute_features(response, normal, colnames(X_subtype), sid_remission)\n",
    "  V$mrd <- metadata_mrd[rownames(V), \"d33_mrd\"]\n",
    "  \n",
    "  prediction_obj <- predict_plot(\n",
    "    V, metadata,                             \n",
    "    bigpos_names = \"angle_d0d8_d0normal\",\n",
    "    smallpos_names = c(\"erm1_ratio2\", \"l2norm_ratio2\", \"mrd\")\n",
    "  )\n",
    "  \n",
    "  return(prediction_obj)\n",
    "}"
   ]
  },
  {
   "cell_type": "code",
   "execution_count": null,
   "metadata": {},
   "outputs": [],
   "source": [
    "# Unit scaling of each row\n",
    "data_scaled <- t(scale(t(data)))\n",
    "\n",
    "X_normal <- data_scaled[, sid_normal]\n",
    "list_X_subtypes7 <- lapply(\n",
    "  subtypes7,\n",
    "  function(subtype, sid) data_scaled[, sid[metadata_sid[sid, \"subtype\"] == subtype]],\n",
    "  sid_alltrain_local\n",
    ")\n",
    "names(list_X_subtypes7) <- subtypes7\n",
    "\n",
    "list_obj1 <- lapply(\n",
    "  subtypes7,\n",
    "  predict_concat,\n",
    "  list_X_subtypes7,\n",
    "  X_normal, metadata_sid, yeoh_label,\n",
    "  batch_ps\n",
    ")"
   ]
  },
  {
   "cell_type": "code",
   "execution_count": null,
   "metadata": {},
   "outputs": [],
   "source": [
    "list_boxplots <- lapply(list_obj1, function(obj) obj$plot)\n",
    "names(list_boxplots) <- subtypes7\n",
    "for (subtype in subtypes7) {\n",
    "  wpath <- sprintf('~/Dropbox/tmp/concat_features-%s.pdf', subtype)\n",
    "  ggsave(wpath, list_boxplots[[subtype]], width = 9, height = 2.5)\n",
    "}"
   ]
  },
  {
   "cell_type": "code",
   "execution_count": null,
   "metadata": {},
   "outputs": [],
   "source": [
    "# Ablation test: Scaled probesets only\n",
    "# Unit scaling of each row\n",
    "data_scaled <- t(scale(t(data)))\n",
    "X_normal <- data_scaled[, sid_normal]\n",
    "list_X_subtypes7 <- lapply(\n",
    "  subtypes7,\n",
    "  function(subtype, sid) data_scaled[, sid[metadata_sid[sid, \"subtype\"] == subtype]],\n",
    "  sid_alltrain_local\n",
    ")\n",
    "names(list_X_subtypes7) <- subtypes7\n",
    "\n",
    "list_obj1 <- lapply(\n",
    "  subtypes7,\n",
    "  predict_subnetwork,\n",
    "  list_X_subtypes7,\n",
    "  X_normal, metadata_sid, yeoh_label,\n",
    "  batch_ps,\n",
    "  save.rds = FALSE\n",
    ")"
   ]
  },
  {
   "cell_type": "code",
   "execution_count": null,
   "metadata": {},
   "outputs": [],
   "source": [
    "list_boxplots <- lapply(list_obj1, function(obj) obj$plot)\n",
    "names(list_boxplots) <- subtypes7\n",
    "for (subtype in subtypes7) {\n",
    "  wpath <- sprintf('~/Dropbox/tmp/scaled_pval-%s.pdf', subtype)\n",
    "  ggsave(wpath, list_boxplots[[subtype]], width = 9, height = 2.5)\n",
    "}"
   ]
  },
  {
   "cell_type": "markdown",
   "metadata": {},
   "source": [
    "### Plot: DE subnetworks"
   ]
  },
  {
   "cell_type": "code",
   "execution_count": null,
   "metadata": {},
   "outputs": [],
   "source": [
    "X_normal <- nea_fltr[, sid_normal]\n",
    "list_X_subtypes7 <- lapply(\n",
    "  subtypes7,\n",
    "  function(subtype) nea_fltr[,\n",
    "    sid_alltrain_local[metadata_sid[sid_alltrain_local, \"subtype\"] == subtype]\n",
    "  ]\n",
    ")\n",
    "names(list_X_subtypes7) <- subtypes7\n",
    "\n",
    "list_obj1 <- lapply(\n",
    "  subtypes7,\n",
    "  predict_subnetwork,\n",
    "  list_X_subtypes7,\n",
    "  X_normal, metadata_sid, yeoh_label,\n",
    "  save.rds = TRUE\n",
    ")"
   ]
  },
  {
   "cell_type": "code",
   "execution_count": null,
   "metadata": {},
   "outputs": [],
   "source": [
    "list_differential_subnetworks <- list()\n",
    "for (subtype in subtypes7) {\n",
    "  file <- sprintf('tmp/subnetworks-%s.RDS', subtype) \n",
    "  obj <- readRDS(file)\n",
    "  list_differential_subnetworks[[subtype]] <- colnames(obj[[1]])\n",
    "}\n",
    "differential_subnetworks <- unique(do.call(c, list_differential_subnetworks))"
   ]
  },
  {
   "cell_type": "code",
   "execution_count": null,
   "metadata": {},
   "outputs": [],
   "source": [
    "d0_nea_differential <- nea_fltr[\n",
    "  differential_subnetworks,\n",
    "  metadata_sid[colnames(nea_fltr), 'class_info'] == 'D0'\n",
    "]\n",
    "umap_obj <- umap(t(d0_nea_differential))\n",
    "ax_umap <- ggplot_umap(umap_obj, metadata_sid, col = 'subtype')\n",
    "ggsave('~/Dropbox/tmp/umap-differential_nea.pdf',\n",
    "       ax_umap, width = 9, height = 5)"
   ]
  },
  {
   "cell_type": "code",
   "execution_count": null,
   "metadata": {},
   "outputs": [],
   "source": [
    "ggplot_pca(d0_nea_differential, metadata_sid, col = 'subtype')"
   ]
  },
  {
   "cell_type": "markdown",
   "metadata": {},
   "source": [
    "## Subnetworks"
   ]
  },
  {
   "cell_type": "code",
   "execution_count": null,
   "metadata": {},
   "outputs": [],
   "source": [
    "# 1. Removes affymetrix ambiguous and control probesets\n",
    "# 2. Map probesets to IDs\n",
    "# Removes one-to-many probesets and probesets with no ID\n",
    "# Selects maximum if two probesets match to same gene\n",
    "# CHECK: What microarray platform is the data from?\n",
    "ENTREZ_GPL570 <- \"../info/microarray/HG-U133_Plus_2/annot_entrez-GPL570.tsv\"\n",
    "entrez_data <- affy2id(data, ENTREZ_GPL570)\n",
    "\n",
    "## SYMBOL_GPL570 <- \"../info/microarray/HG-U133_Plus_2/annot_genesymbol-GPL570.tsv\"\n",
    "## symbol_yeoh <- affy2id(data_yeoh, SYMBOL_GPL570)"
   ]
  },
  {
   "cell_type": "code",
   "execution_count": null,
   "metadata": {},
   "outputs": [],
   "source": [
    "# Calculate individual D0-N magnitude (normal centroid)\n",
    "normal <- entrez_data[, startsWith(colnames(entrez_data), \"N\")]\n",
    "D0 <- entrez_data[, endsWith(colnames(entrez_data), \"D0\")]\n",
    "D8 <- entrez_data[, endsWith(colnames(entrez_data), \"D8\")]"
   ]
  },
  {
   "cell_type": "markdown",
   "metadata": {},
   "source": [
    "#### Unfiltered data"
   ]
  },
  {
   "cell_type": "code",
   "execution_count": null,
   "metadata": {},
   "outputs": [],
   "source": [
    "raw_data <- log2_transform(selected_yeoh)\n",
    "araw <- affy2id(raw_data, ENTREZ_GPL570)\n",
    "lidx1 <- sapply(subnetwork_nea,\n",
    "                function(ids) all(ids %in% rownames(araw)))\n",
    "subnetwork2 <- subnetwork_nea[lidx1]\n",
    "print(length(subnetwork2))\n",
    "                \n",
    "# Calculate individual D0-N magnitude (normal centroid)\n",
    "normal_raw <- araw[, startsWith(colnames(araw), \"N\")]\n",
    "D0_raw <- araw[, endsWith(colnames(araw), \"D0\")]\n",
    "D8_raw <- araw[, endsWith(colnames(araw), \"D8\")]"
   ]
  },
  {
   "cell_type": "code",
   "execution_count": null,
   "metadata": {},
   "outputs": [],
   "source": [
    "## Import NEA subnetworks\n",
    "NEA_RPATH <- paste0(\"../diff_expr/data/subnetwork/nea-hsa/\",\n",
    "                    \"ovarian_cancer/geneset-nea_kegg_ovarian.tsv\")\n",
    "nea_df <- read.table(NEA_RPATH, sep = \"\\t\", header = T, stringsAsFactors = F)\n",
    "subnetwork_nea <- split(as.character(nea_df$gene_id), nea_df$subnetwork_id)"
   ]
  },
  {
   "cell_type": "code",
   "execution_count": null,
   "metadata": {},
   "outputs": [],
   "source": [
    "# Filter out subnetworks with genes that are missing in the data\n",
    "lidx <- sapply(subnetwork_nea,\n",
    "               function(ids) all(ids %in% rownames(entrez_data)))\n",
    "nea_fltr <- subnetwork_nea[lidx]\n",
    "               \n",
    "lidx1 <- sapply(subnetwork_nea,\n",
    "               function(ids) all(ids %in% rownames(araw)))\n",
    "nea_unfltr <- subnetwork_nea[lidx1]"
   ]
  },
  {
   "cell_type": "markdown",
   "metadata": {},
   "source": [
    "#### Only half of the KEGG ids are represented in the data"
   ]
  },
  {
   "cell_type": "code",
   "execution_count": null,
   "metadata": {},
   "outputs": [],
   "source": [
    "## Import KEGG pathways\n",
    "KEGG_RPATH <- \"../info/KEGG/kegg-human_allpathway_genes.tsv\"\n",
    "kegg_df <- read.table(KEGG_RPATH, sep = \"\\t\", header = T, stringsAsFactors = F)\n",
    "kegg_df$Pathway <- substring(kegg_df$Pathway, 6)\n",
    "list_kegg <- split(kegg_df$Entrez.Gene.ID, kegg_df$Pathway)"
   ]
  },
  {
   "cell_type": "code",
   "execution_count": null,
   "metadata": {},
   "outputs": [],
   "source": [
    "# kegg_size <- sapply(subnetwork_pwapi, length)\n",
    "# kegg_hit <- sapply(subnetwork_pwapi,\n",
    "#                    function(ids) sum(ids %in% rownames(araw)))\n",
    "\n",
    "## Only include the IDs represented in the data\n",
    "incomplete_kegg <- lapply(list_kegg,\n",
    "                          function(ids) ids[ids %in% rownames(araw)])\n",
    "kegg_size <- sapply(incomplete_kegg, length)\n",
    "SIZE <- 5\n",
    "incomplete_kegg_sub <- incomplete_kegg[kegg_size > SIZE]\n",
    "kegg_size1 <- sapply(incomplete_kegg_sub, length)"
   ]
  },
  {
   "cell_type": "code",
   "execution_count": null,
   "metadata": {},
   "outputs": [],
   "source": [
    "## Import pathwayAPI\n",
    "PWAPI_RPATH <- \"../info/pathwayAPI/pwapi_id_human-filtered_entrez.tsv\"\n",
    "pwapi_df <- read.table(PWAPI_RPATH, sep = \"\\t\", header = T, stringsAsFactors = F)\n",
    "list_pwapi <- split(pwapi_df[,2:3], pwapi_df$pathway_id)\n",
    "subnetwork_pwapi <- lapply(list_pwapi,\n",
    "                           function(X) unique(as.numeric(data.matrix(X))))"
   ]
  },
  {
   "cell_type": "code",
   "execution_count": null,
   "metadata": {},
   "outputs": [],
   "source": [
    "pwapi_size <- sapply(subnetwork_pwapi, length)\n",
    "pwapi_hit <- sapply(subnetwork_pwapi,\n",
    "                    function(ids) sum(ids %in% rownames(araw)))\n",
    "\n",
    "## Only include the IDs represented in the data in pathwayAPI\n",
    "subnetwork_pwapi_sub <- lapply(subnetwork_pwapi,\n",
    "                                function(ids) ids[ids %in% rownames(araw)])\n",
    "pwapi_size1 <- sapply(subnetwork_pwapi_sub, length)\n",
    "SIZE <- 5\n",
    "subnetwork_pwapi_sub1 <- subnetwork_pwapi_sub[pwapi_size1 > SIZE]\n",
    "pwapi_size2 <- sapply(subnetwork_pwapi_sub1, length)\n",
    "print(cbind(pwapi_hit[pwapi_size1 > SIZE], pwapi_size2))"
   ]
  },
  {
   "cell_type": "markdown",
   "metadata": {},
   "source": [
    "#### Subnetwork deltas (D0-N)\n",
    "- Comparing variance of subnetwork deltas was not conclusive\n",
    "- Means of the random sample seem to have a larger proportion of higher mean subnetworks"
   ]
  },
  {
   "cell_type": "markdown",
   "metadata": {},
   "source": [
    "- Sum of deltas (D0-D8) is not a good feature\n",
    "- Percentage of sum of deltas is not a good feature\n",
    "    - Does not take into account the sign of the logfc\n",
    "    - Does not consider individual subnetwork\n",
    "- Percentage of each subnetwork\n",
    "    - Filter out subnetwork that has delta_D0N of less than threshold?"
   ]
  },
  {
   "cell_type": "code",
   "execution_count": null,
   "metadata": {},
   "outputs": [],
   "source": [
    "#' @param ids vector of gene IDs belonging to a subnetwork\n",
    "#' @param X dataframe of expr values at D0\n",
    "#' @param Y vector or dataframe of expr values at specific timepoint\n",
    "#' @return vector of deltas of patients of a particular subnetwork\n",
    "calc_subnetwork_delta <- function(ids, X, Y) {\n",
    "  if(is.numeric(ids)) # how to handle factor?\n",
    "    ids <- as.character(ids)\n",
    "  \n",
    "  if (is.vector(Y)) {\n",
    "    logfc <- Y[ids] - X[ids,]\n",
    "  } else {\n",
    "    stopifnot(substring(colnames(X),1,4) ==\n",
    "              substring(colnames(Y),1,4))\n",
    "    logfc <- Y[ids,] - X[ids,]\n",
    "  }\n",
    "  return(colMeans(abs(logfc)))\n",
    "}"
   ]
  },
  {
   "cell_type": "markdown",
   "metadata": {},
   "source": [
    "#### Filtered data - NEA"
   ]
  },
  {
   "cell_type": "code",
   "execution_count": null,
   "metadata": {},
   "outputs": [],
   "source": [
    "norm_centroid <- rowMeans(normal)\n",
    "\n",
    "delta_D0N <- data.frame(t(sapply(nea_fltr,\n",
    "                                 calc_subnetwork_delta,\n",
    "                                 D0, norm_centroid)))\n",
    "delta_D0D8 <- data.frame(t(sapply(nea_fltr,\n",
    "                                  calc_subnetwork_delta,\n",
    "                                  D0, D8)))"
   ]
  },
  {
   "cell_type": "code",
   "execution_count": null,
   "metadata": {},
   "outputs": [],
   "source": [
    "subtype <- subtypes[[1]]\n",
    "print(subtype)\n",
    "delta_D0N_1 <- delta_D0N[\n",
    "  , Y[colnames(delta_D0N), \"subtype\"] == subtype\n",
    "]\n",
    "delta_D0D8_1 <- delta_D0D8[\n",
    "  , Y[colnames(delta_D0D8), \"subtype\"] == subtype\n",
    "]\n",
    "\n",
    "stopifnot(substring(colnames(delta_D0N_1),1,4) ==\n",
    "          substring(colnames(delta_D0D8_1),1,4))\n",
    "\n",
    "mu_delta <- apply(delta_D0N_1, 1, mean)\n",
    "var_delta <- apply(delta_D0N_1, 1, var)\n",
    "# plot(mu_delta, var_delta)\n",
    "\n",
    "THRESHOLD <- 3\n",
    "idx_subnetwork <- names(mu_delta)[mu_delta > THRESHOLD]\n",
    "print(length(idx_subnetwork))\n",
    "delta_D0D8_2 <- delta_D0D8_1[idx_subnetwork, ]\n",
    "delta_D0N_2 <- delta_D0N_1[idx_subnetwork, ]\n",
    "\n",
    "# print(colnames(delta_D0D8_1)[\n",
    "#   Y[colnames(delta_D0D8_1), \"label\"] == 1\n",
    "# ])\n",
    "\n",
    "pct_delta <- colMeans(delta_D0D8_2) / colMeans(delta_D0N_2)\n",
    "\n",
    "par(mfrow=c(1,3))\n",
    "plot(colMeans(delta_D0N_2), col = Y[names(pct_delta), \"label\"] + 1)\n",
    "plot(colMeans(delta_D0D8_2), col = Y[names(pct_delta), \"label\"] + 1)\n",
    "plot(pct_delta, col = Y[names(pct_delta), \"label\"] + 1)"
   ]
  },
  {
   "cell_type": "code",
   "execution_count": null,
   "metadata": {},
   "outputs": [],
   "source": [
    "plotPCA2D(raw_delta_D0D8_1, Y)"
   ]
  },
  {
   "cell_type": "markdown",
   "metadata": {},
   "source": [
    "#### Unfiltered data - NEA"
   ]
  },
  {
   "cell_type": "code",
   "execution_count": null,
   "metadata": {},
   "outputs": [],
   "source": [
    "norm_centroid1 <- rowMeans(normal_raw)\n",
    "\n",
    "raw_delta_D0N <- data.frame(t(sapply(nea_unfltr,\n",
    "                                 calc_subnetwork_delta,\n",
    "                                 D0_raw, norm_centroid1)))\n",
    "raw_delta_D0D8 <- data.frame(t(sapply(nea_unfltr,\n",
    "                                  calc_subnetwork_delta,\n",
    "                                  D0_raw, D8_raw)))"
   ]
  },
  {
   "cell_type": "code",
   "execution_count": null,
   "metadata": {},
   "outputs": [],
   "source": [
    "for (subtype in subtypes) {\n",
    "  print(subtype)\n",
    "  raw_delta_D0N_1 <- raw_delta_D0N[\n",
    "    , Y[colnames(raw_delta_D0N), \"subtype\"] == subtype\n",
    "  ]\n",
    "  raw_delta_D0D8_1 <- raw_delta_D0D8[\n",
    "    , Y[colnames(raw_delta_D0D8), \"subtype\"] == subtype\n",
    "  ]\n",
    "\n",
    "  stopifnot(substring(colnames(raw_delta_D0N_1),1,4) ==\n",
    "            substring(colnames(raw_delta_D0D8_1),1,4))\n",
    "\n",
    "  mu_delta <- apply(raw_delta_D0N_1, 1, mean)\n",
    "  var_delta <- apply(raw_delta_D0N_1, 1, var)\n",
    "  # plot(mu_delta, var_delta)\n",
    "  THRESHOLD <- 3\n",
    "  idx_subnetwork <- names(mu_delta)[mu_delta > THRESHOLD]\n",
    "\n",
    "  ## Selecting subnetworks with significant dysregulation\n",
    "  raw_delta_D0D8_2 <- raw_delta_D0D8_1[idx_subnetwork, ]\n",
    "  raw_delta_D0N_2 <- raw_delta_D0N_1[idx_subnetwork, ]\n",
    "\n",
    "  # print(colnames(delta_D0D8_1)[\n",
    "  #   Y[colnames(delta_D0D8_1), \"label\"] == 1\n",
    "  # ])\n",
    "\n",
    "  pct_delta <- raw_delta_D0D8_2 / raw_delta_D0N_2\n",
    "  \n",
    "  #   pct_delta_rem <- pct_delta[, Y[colnames(pct_delta), \"label\"] == 0]\n",
    "#   mean_pct <- rowMeans(pct_delta_rem)\n",
    "#   PCT <- 0.7\n",
    "#   nea_responsive <- names(mean_pct)[mean_pct > PCT]\n",
    "#   print(length(nea_responsive))\n",
    "#   pct_delta_responsive <- colMeans(pct_delta[nea_responsive, ])\n",
    "\n",
    "  fpath <- sprintf(\"~/Dropbox/temp/delta-%s.pdf\", subtype)\n",
    "  pdf(fpath, 7, 3)\n",
    "  par(mfrow=c(1,3))\n",
    "  plot(colMeans(raw_delta_D0N_2),\n",
    "       col = Y[names(pct_delta), \"label\"] + 1,\n",
    "       ylab = \"mean(delta_D0N)\",\n",
    "       pch = 16, cex = 1.5)\n",
    "  plot(colMeans(raw_delta_D0D8_2),\n",
    "       col = Y[names(pct_delta), \"label\"] + 1,\n",
    "       ylab = \"mean(delta_D0D8)\",\n",
    "       pch = 16, cex = 1.5)\n",
    "  plot(colMeans(pct_delta),\n",
    "       col = Y[names(pct_delta), \"label\"] + 1,\n",
    "       ylab = \"mean(pct_delta)\",\n",
    "       pch = 16, cex = 1.5)\n",
    "#   plot(pct_delta_responsive,\n",
    "#        col = Y[names(pct_delta), \"label\"] + 1,\n",
    "#        ylab = \"mean_responsive(pct_delta)\")\n",
    "  dev.off()\n",
    "  \n",
    "  ## Relapse prediction\n",
    "  pid_subtype <- rownames(Y)[Y$subtype == subtype]\n",
    "  feat <- predict_relapse(pid_subtype, data, pid_remission, Y,\n",
    "                          batch_genes = batch_genes)  \n",
    "  \n",
    "  fpath <- sprintf(\"~/Dropbox/temp/delta_corr-%s.pdf\", subtype)\n",
    "  pdf(fpath, 7, 3)\n",
    "  par(mfrow=c(1,3))\n",
    "  plot(colMeans(pct_delta), feat[, \"erm1_ratio2\"],\n",
    "       col = Y[names(pct_delta), \"label\"] + 1,\n",
    "       ylab = \"erm_ratio\",\n",
    "       pch = 16, cex = 1.5)\n",
    "  plot(colMeans(pct_delta), feat[, \"l2norm_ratio2\"],\n",
    "       col = Y[names(pct_delta), \"label\"] + 1,\n",
    "       ylab = \"l2norm_ratio\",\n",
    "       pch = 16, cex = 1.5)\n",
    "  plot(colMeans(pct_delta), feat[, \"angle_d0d8_normal\"],\n",
    "       col = Y[names(pct_delta), \"label\"] + 1,\n",
    "       ylab = \"angle_d0d8_normal\",\n",
    "       pch = 16, cex = 1.5)\n",
    "  dev.off()\n",
    "}"
   ]
  },
  {
   "cell_type": "code",
   "execution_count": null,
   "metadata": {},
   "outputs": [],
   "source": [
    "subtype <- subtypes[[1]]\n",
    "print(subtype)\n",
    "raw_delta_D0N_1 <- raw_delta_D0N[\n",
    "  , Y[colnames(raw_delta_D0N), \"subtype\"] == subtype\n",
    "]\n",
    "raw_delta_D0D8_1 <- raw_delta_D0D8[\n",
    "  , Y[colnames(raw_delta_D0D8), \"subtype\"] == subtype\n",
    "]\n",
    "\n",
    "stopifnot(substring(colnames(raw_delta_D0N_1),1,4) ==\n",
    "          substring(colnames(raw_delta_D0D8_1),1,4))\n",
    "\n",
    "mu_delta <- apply(raw_delta_D0N_1, 1, mean)\n",
    "var_delta <- apply(raw_delta_D0N_1, 1, var)\n",
    "# plot(mu_delta, var_delta)\n",
    "THRESHOLD <- 3\n",
    "idx_subnetwork <- names(mu_delta)[mu_delta > THRESHOLD]\n",
    "print(length(idx_subnetwork))\n",
    "\n",
    "## Selecting subnetworks with significant dysregulation\n",
    "raw_delta_D0D8_2 <- raw_delta_D0D8_1[idx_subnetwork, ]\n",
    "raw_delta_D0N_2 <- raw_delta_D0N_1[idx_subnetwork, ]\n",
    "\n",
    "# print(colnames(delta_D0D8_1)[\n",
    "#   Y[colnames(delta_D0D8_1), \"label\"] == 1\n",
    "# ])\n",
    "\n",
    "pct_delta <- raw_delta_D0D8_2 / raw_delta_D0N_2\n",
    "pct_delta1 <- colMeans(raw_delta_D0D8_2) / colMeans(raw_delta_D0N_2)"
   ]
  },
  {
   "cell_type": "code",
   "execution_count": null,
   "metadata": {},
   "outputs": [],
   "source": [
    "subtype <- subtypes[[2]]\n",
    "print(subtype)\n",
    "raw_delta_D0N_1 <- raw_delta_D0N[, Y[colnames(raw_delta_D0N), \"subtype\"] == subtype]\n",
    "raw_delta_D0D8_1 <- raw_delta_D0D8[, Y[colnames(raw_delta_D0D8), \"subtype\"] == subtype]\n",
    "\n",
    "stopifnot(substring(colnames(delta_D0N_1),1,4) ==\n",
    "          substring(colnames(delta_D0D8_1),1,4))\n",
    "\n",
    "# pct_delta <- delta_D0D8_1 / delta_D0N_1\n",
    "# print(Y[colnames(pct_delta), \"label\"])\n",
    "# plot(pct_delta, col = Y[names(pct_delta), \"label\"] + 1)"
   ]
  },
  {
   "cell_type": "markdown",
   "metadata": {},
   "source": [
    "#### Unfiltered data - PathwayAPI"
   ]
  },
  {
   "cell_type": "code",
   "execution_count": null,
   "metadata": {},
   "outputs": [],
   "source": [
    "norm_centroid1 <- rowMeans(normal_raw)\n",
    "\n",
    "pwapi_delta_D0N <- data.frame(t(sapply(subnetwork_pwapi_sub1,\n",
    "                                       calc_subnetwork_delta,\n",
    "                                       D0_raw, norm_centroid1)))\n",
    "pwapi_delta_D0D8 <- data.frame(t(sapply(subnetwork_pwapi_sub1,\n",
    "                                        calc_subnetwork_delta,\n",
    "                                        D0_raw, D8_raw)))"
   ]
  },
  {
   "cell_type": "code",
   "execution_count": null,
   "metadata": {},
   "outputs": [],
   "source": [
    "subtype <- subtypes[[4]]\n",
    "print(subtype)\n",
    "pwapi_delta_D0N_1 <- pwapi_delta_D0N[\n",
    "  , Y[colnames(pwapi_delta_D0N), \"subtype\"] == subtype\n",
    "]\n",
    "pwapi_delta_D0D8_1 <- pwapi_delta_D0D8[\n",
    "  , Y[colnames(pwapi_delta_D0D8), \"subtype\"] == subtype\n",
    "]"
   ]
  },
  {
   "cell_type": "code",
   "execution_count": null,
   "metadata": {},
   "outputs": [],
   "source": [
    "stopifnot(substring(colnames(pwapi_delta_D0N_1),1,4) ==\n",
    "          substring(colnames(pwapi_delta_D0D8_1),1,4))\n",
    "\n",
    "pwapi_mu_delta <- apply(pwapi_delta_D0N_1, 1, mean)\n",
    "pwapi_var_delta <- apply(pwapi_delta_D0N_1, 1, var)\n",
    "# plot(pwapi_mu_delta, pwapi_var_delta)\n",
    "\n",
    "THRESHOLD <- 2.5\n",
    "idx_subnetwork3 <- names(pwapi_mu_delta)[pwapi_mu_delta > THRESHOLD]\n",
    "pwapi_delta_D0D8_2 <- pwapi_delta_D0D8_1[idx_subnetwork3, ]\n",
    "pwapi_delta_D0N_2 <- pwapi_delta_D0N_1[idx_subnetwork3, ]\n",
    "\n",
    "# print(colnames(pwapi_delta_D0D8_1)[\n",
    "#   Y[colnames(pwapi_delta_D0D8_1), \"label\"] == 1\n",
    "# ])\n",
    "\n",
    "pct_delta <- pwapi_delta_D0D8_2 / pwapi_delta_D0N_2\n",
    "\n",
    "plot(colMeans(pct_delta), col = Y[names(pct_delta), \"label\"] + 1)"
   ]
  },
  {
   "cell_type": "markdown",
   "metadata": {},
   "source": [
    "#### Unfiltered data - KEGG"
   ]
  },
  {
   "cell_type": "code",
   "execution_count": null,
   "metadata": {},
   "outputs": [],
   "source": [
    "norm_centroid1 <- rowMeans(normal_raw)\n",
    "\n",
    "kegg_delta_D0N <- data.frame(t(sapply(incomplete_kegg_sub,\n",
    "                                       calc_subnetwork_delta,\n",
    "                                       D0_raw, norm_centroid1)))\n",
    "kegg_delta_D0D8 <- data.frame(t(sapply(incomplete_kegg_sub,\n",
    "                                        calc_subnetwork_delta,\n",
    "                                        D0_raw, D8_raw)))"
   ]
  },
  {
   "cell_type": "code",
   "execution_count": null,
   "metadata": {},
   "outputs": [],
   "source": [
    "subtype <- subtypes[[7]]\n",
    "print(subtype)\n",
    "kegg_delta_D0N_1 <- kegg_delta_D0N[\n",
    "  , Y[colnames(kegg_delta_D0N), \"subtype\"] == subtype\n",
    "]\n",
    "kegg_delta_D0D8_1 <- kegg_delta_D0D8[\n",
    "  , Y[colnames(kegg_delta_D0D8), \"subtype\"] == subtype\n",
    "]"
   ]
  },
  {
   "cell_type": "code",
   "execution_count": null,
   "metadata": {},
   "outputs": [],
   "source": [
    "stopifnot(substring(colnames(kegg_delta_D0N_1),1,4) ==\n",
    "          substring(colnames(kegg_delta_D0D8_1),1,4))\n",
    "\n",
    "kegg_mu_delta <- apply(kegg_delta_D0N_1, 1, mean)\n",
    "kegg_var_delta <- apply(kegg_delta_D0N_1, 1, var)\n",
    "plot(kegg_mu_delta, kegg_var_delta)\n",
    "\n",
    "THRESHOLD <- 2\n",
    "idx_subnetwork4 <- names(kegg_mu_delta)[kegg_mu_delta > THRESHOLD]\n",
    "kegg_delta_D0D8_2 <- kegg_delta_D0D8_1[idx_subnetwork4, ]\n",
    "kegg_delta_D0N_2 <- kegg_delta_D0N_1[idx_subnetwork4, ]\n",
    "\n",
    "# print(colnames(kegg_delta_D0D8_1)[\n",
    "#   Y[colnames(kegg_delta_D0D8_1), \"label\"] == 1\n",
    "# ])\n",
    "\n",
    "pct_delta <- kegg_delta_D0D8_2 / kegg_delta_D0N_2\n",
    "\n",
    "plot(colMeans(pct_delta), col = Y[names(pct_delta), \"label\"] + 1)"
   ]
  },
  {
   "cell_type": "markdown",
   "metadata": {},
   "source": [
    "#### Misc"
   ]
  },
  {
   "cell_type": "code",
   "execution_count": null,
   "metadata": {},
   "outputs": [],
   "source": [
    "## Distribution of subnetwork sizes\n",
    "subnetwork_sizes <- sapply(subnetwork_nea, length)\n",
    "print(table(subnetwork_sizes))\n",
    "\n",
    "## Representation of gene IDs in data\n",
    "all_ids <- unlist(subnetwork_nea)\n",
    "print(head(sort(names(table(all_ids)))))\n",
    "print(head(sort(rownames(entrez_data))))"
   ]
  }
 ],
 "metadata": {
  "kernelspec": {
   "display_name": "R",
   "language": "R",
   "name": "ir"
  },
  "language_info": {
   "codemirror_mode": "r",
   "file_extension": ".r",
   "mimetype": "text/x-r-source",
   "name": "R",
   "pygments_lexer": "r",
   "version": "3.5.1"
  }
 },
 "nbformat": 4,
 "nbformat_minor": 2
}
