{
 "cells": [
  {
   "cell_type": "code",
   "execution_count": 9,
   "metadata": {},
   "outputs": [],
   "source": [
    "### library(reshape2)\n",
    "library(tibble)\n",
    "library(igraph)\n",
    "library(xtable)\n",
    "\n",
    "## Plotting\n",
    "library(RColorBrewer)\n",
    "library(ggplot2)\n",
    "library(cowplot)\n",
    "# library(rgl)\n",
    "library(pROC)\n",
    "\n",
    "library(umap)\n",
    "library(pheatmap)\n",
    "# library(VennDiagram)\n",
    "# library(UpSetR)\n",
    "# library(Rtsne)\n",
    "# library(dendextend)\n",
    "# library(repr)\n",
    "options(repr.plot.width=8, repr.plot.height=4)\n",
    "\n",
    "theme_set(theme_bw())\n",
    "\n",
    "## Custom\n",
    "source(\"../functions.R\")"
   ]
  },
  {
   "cell_type": "markdown",
   "metadata": {},
   "source": [
    "## Import data"
   ]
  },
  {
   "cell_type": "code",
   "execution_count": 11,
   "metadata": {},
   "outputs": [
    {
     "name": "stdout",
     "output_type": "stream",
     "text": [
      "  P001_D0   P004_D0   P005_D0   P007_D0   P008_D0   P009_D0 \n",
      " 5.796952  4.123342  3.981577  6.317643  4.841458 11.978124 \n",
      "[1] \"No. of ambiguous and AFFY probesets removed: 10503\"\n",
      "[1] D0 D0 D0 D0 D0 D0\n",
      "Levels: D0 D8 N\n",
      "           D0    D8     N\n",
      "1053_at  TRUE  TRUE  TRUE\n",
      "117_at  FALSE  TRUE  TRUE\n",
      "121_at   TRUE  TRUE  TRUE\n",
      "1294_at  TRUE  TRUE  TRUE\n",
      "1316_at  TRUE  TRUE  TRUE\n",
      "1320_at FALSE FALSE FALSE\n",
      "[1] \"No. of probesets removed = 6321\"\n"
     ]
    }
   ],
   "source": [
    "## Metadata\n",
    "METADATA_RPATH <- \"data/GSE67684/processed/metadata/sid-metadata_v2.tsv\"\n",
    "LABEL_RPATH <- \"data/GSE67684/processed/metadata/pid-metadata_v4.tsv\"\n",
    "BATCH_RPATH <- \"data/GSE67684/processed/metadata/sid-batch.tsv\"\n",
    "\n",
    "metadata_df <- read.table(METADATA_RPATH, sep = \"\\t\")\n",
    "yeoh_batch <- read.table(BATCH_RPATH, sep = \"\\t\", header = T, row.names = 1)\n",
    "yeoh_label <- read.table(LABEL_RPATH, sep = \"\\t\", header = T, row.names = 1)\n",
    "yeoh_label[] <- lapply(yeoh_label, as.factor)\n",
    "\n",
    "## Subset of original data\n",
    "# Removed outliers, patients with timepoints from different batches and batch 5\n",
    "SUBSET_RPATH <- \"data/GSE67684/processed/subset_yeoh.tsv\"\n",
    "raw_yeoh <- read.table(SUBSET_RPATH, sep = \"\\t\")\n",
    "# SCALE->REMOVE->FILTER->LOG\n",
    "scaled_yeoh <- normaliseMeanScaling(raw_yeoh)\n",
    "selected_yeoh <- removeProbesets(scaled_yeoh)\n",
    "data <- log2_transform(filterProbesets(selected_yeoh, 0.7, metadata_df))"
   ]
  },
  {
   "cell_type": "code",
   "execution_count": 12,
   "metadata": {},
   "outputs": [
    {
     "name": "stdout",
     "output_type": "stream",
     "text": [
      "P001_D33 P006_D33 P007_D33 P008_D33 P009_D33 P010_D33 \n",
      "2.106859 2.132480 1.498776 2.559182 1.576584 2.657973 \n"
     ]
    }
   ],
   "source": [
    "path1 <- \"data/leuk_D33/processed/mas5_filtered.tsv\"\n",
    "path2 <- \"data/GSE67684/processed/metadata/sid-metadata_v1.tsv\"\n",
    "\n",
    "yeoh_d33 <- read.table(path1, sep = \"\\t\", header = T)\n",
    "annot_all <- read.table(path2, sep = \"\\t\", header = T)\n",
    "\n",
    "annot_all[] <- lapply(annot_all, as.factor)\n",
    "yeoh_d33_allps <- log2_transform(normaliseMeanScaling(yeoh_d33))\n",
    "# Remove samples that have been curated out of data set\n",
    "# Members that have been curated out are no longer in annot_all\n",
    "missing_samples <- colnames(yeoh_d33_allps)[\n",
    "  !(colnames(yeoh_d33_allps) %in% rownames(annot_all))]\n",
    "# Remove patients from D33 that have been curated out\n",
    "yeoh_d33 <- yeoh_d33_allps[\n",
    "  rownames(data),\n",
    "  !(colnames(yeoh_d33_allps) %in% missing_samples)\n",
    "]"
   ]
  },
  {
   "cell_type": "code",
   "execution_count": 13,
   "metadata": {},
   "outputs": [],
   "source": [
    "annot_all$class_info <- factor(\n",
    "  annot_all$class_info,\n",
    "  levels = c('D0', 'D8', 'D33', 'N')\n",
    ")"
   ]
  },
  {
   "cell_type": "code",
   "execution_count": 14,
   "metadata": {},
   "outputs": [],
   "source": [
    "COL_LABEL <- c(\"darkolivegreen3\", \"tomato3\")\n",
    "\n",
    "annot <- metadata_df[colnames(data),]\n",
    "annot[] <- lapply(annot, as.factor)\n",
    "\n",
    "# List subtypes\n",
    "subtypes9 <- levels(metadata_df$subtype)\n",
    "subtypes7 <- setdiff(subtypes9, c(\"Hypodiploid\", \"Normal\"))\n",
    "subtypes5 <- setdiff(\n",
    "  subtypes9,\n",
    "  c(\"Hypodiploid\", \"Normal\", \"Hyperdiploid\", \"Others\")\n",
    ")"
   ]
  },
  {
   "cell_type": "code",
   "execution_count": 15,
   "metadata": {},
   "outputs": [],
   "source": [
    "# Define train/test split\n",
    "sid_mrd_na <- rownames(yeoh_label)[is.na(yeoh_label$d33_mrd)] %>%\n",
    "  rep(each = 2) %>%\n",
    "  paste0(c(\"_D0\", \"_D8\"))\n",
    "\n",
    "sid_alltrain_local <- rownames(annot)[\n",
    "  !(annot$subtype %in% c(\"Hypodiploid\", \"Normal\")) &\n",
    "  !(rownames(annot) %in% sid_mrd_na)\n",
    "]\n",
    "sid_alltrain <- rownames(annot)[\n",
    "  !(annot$subtype %in% c(\"Hypodiploid\", \"Hyperdiploid\", \"Others\", \"Normal\")) &\n",
    "  !(rownames(annot) %in% sid_mrd_na)\n",
    "]\n",
    "sid_train <- rownames(annot)[\n",
    "  annot$batch_info %in% 1:7 &\n",
    "  !(annot$subtype %in% c(\"Hypodiploid\", \"Hyperdiploid\", \"Others\", \"Normal\")) &\n",
    "  !(rownames(annot) %in% sid_mrd_na)\n",
    "]\n",
    "sid_test <- rownames(annot)[\n",
    "  annot$batch_info %in% 8:10 &\n",
    "  !(annot$subtype %in% c(\"Hypodiploid\", \"Hyperdiploid\", \"Others\", \"Normal\")) &\n",
    "  !(rownames(annot) %in% sid_mrd_na)\n",
    "]\n",
    "\n",
    "sid_remission <- rownames(annot)[annot$label == 0]\n",
    "sid_normal <- paste0(\"N0\", c(1,2,4))"
   ]
  },
  {
   "cell_type": "code",
   "execution_count": 16,
   "metadata": {},
   "outputs": [],
   "source": [
    "#' Annotates affymetrix probesets to gene ID of choice\n",
    "#'\n",
    "#' Annotates affymetrix probesets according to platform and gene\n",
    "#' naming convention provided in the annotation file. Option of\n",
    "#' returning vector of annotaions with probesets as names\n",
    "#'\n",
    "#' Removes probesets with no matching ID. If multiple probesets\n",
    "#' map to a single ID, the probeset with the max sum is used.\n",
    "#' @param X data.frame with affy probesets as rownames\n",
    "#' @param file name of the annotation file\n",
    "#' @param ret.annot logical indicating whether to return vector of annotations\n",
    "affy2id <- function(X, file, ret.annot = F) { \n",
    "  # probesets are rownames of dataframe\n",
    "  annot_table <- read.table(\n",
    "    file, sep = \"\\t\", header = T, row.names = 1,\n",
    "    stringsAsFactors = F, strip.white = T\n",
    "  )\n",
    "#   # Filters out ambiguous and AFFY probesets from annot \n",
    "#   fltr_annot <- annot_table[\n",
    "#     grepl(\"[0-9]_at\", rownames(annot_table)) \n",
    "#     & !startsWith(rownames(annot_table), \"A\"),\n",
    "#     , drop = F\n",
    "#   ]\n",
    "  orig_rownames <- annot_table[rownames(X), ]\n",
    "                      \n",
    "  msg_no_id <- sprintf( \n",
    "    \"No. of probesets with no ID removed: %d\\n\", sum(orig_rownames == \"\")\n",
    "  )\n",
    "  cat(msg_no_id)\n",
    "   \n",
    "  # Indices of probe sets with no corresponding ID to be deleted \n",
    "  idx_del <- which(orig_rownames == \"\")\n",
    "   \n",
    "  # Identifies genes that have multiple probesets mapping to it \n",
    "  freq_gene <- table(orig_rownames)\n",
    "  dup_genes <- names(freq_gene[freq_gene > 1])\n",
    "  dup_genes <- setdiff(dup_genes, \"\")\n",
    "  for (gene in dup_genes) {\n",
    "    # subset rows of dataframe with the same id\n",
    "    same_rows <- X[orig_rownames == gene, , drop = F] \n",
    "    # assign numeric indices as rownames \n",
    "    rownames(same_rows) <- which(orig_rownames == gene)\n",
    "    # rows that do not have the maximum sum are deleted \n",
    "    row_del <- as.numeric(\n",
    "      rownames(same_rows)[-which.max(rowSums(same_rows))]\n",
    "    )\n",
    "    # concat with existing list of indices to be deleted \n",
    "    idx_del <- c(idx_del, row_del)\n",
    "  }\n",
    "  \n",
    "  msg_total <- sprintf(\n",
    "    \"Total no. of probesets removed (incl. probesets mapping to same gene): %d\\n\", \n",
    "    length(idx_del)\n",
    "  ) \n",
    "  cat(msg_total)\n",
    "  \n",
    "  # Rows are deleted \n",
    "  X_genes <- X[-idx_del, ]\n",
    "  fltr_rownames <- orig_rownames[-idx_del]\n",
    "  names(fltr_rownames) <- rownames(X)[-idx_del]\n",
    "  # Assigning id to X\n",
    "  rownames(X_genes) <- fltr_rownames\n",
    "  \n",
    "  if (ret.annot) {\n",
    "    orig_rownames[idx_del] <- NA\n",
    "    names(orig_rownames) <- rownames(X)\n",
    "    return(orig_rownames)\n",
    "  }\n",
    "  \n",
    "  X_genes\n",
    "}"
   ]
  },
  {
   "cell_type": "markdown",
   "metadata": {},
   "source": [
    "### Subnetworks"
   ]
  },
  {
   "cell_type": "code",
   "execution_count": 17,
   "metadata": {},
   "outputs": [
    {
     "name": "stdout",
     "output_type": "stream",
     "text": [
      "Top 0.05 of expressed genes are assigned GFS scores of 1\n",
      "Genes below the top 0.15 of expressed genes are assigned GFS scores of 0\n",
      "No. of probesets with no ID removed: 160\n",
      "Total no. of probesets removed (incl. probesets mapping to same gene): 746\n"
     ]
    }
   ],
   "source": [
    "# 1. Removes affymetrix ambiguous and control probesets\n",
    "# 2. Map probesets to IDs\n",
    "# Removes one-to-many probesets and probesets with no ID\n",
    "# Selects maximum if two probesets match to same gene\n",
    "# CHECK: What microarray platform is the data from?\n",
    "data_gfs <- normaliseGFS(data)\n",
    "ENTREZ_GPL570 <- \"../info/microarray/HG-U133_Plus_2/annot_entrez-GPL570.tsv\"\n",
    "# entrez_data <- affy2id(data, ENTREZ_GPL570)\n",
    "entrez_gfs <- affy2id(data_gfs, ENTREZ_GPL570)\n",
    "\n",
    "## SYMBOL_GPL570 <- \"../info/microarray/HG-U133_Plus_2/annot_genesymbol-GPL570.tsv\"\n",
    "## symbol_yeoh <- affy2id(data_yeoh, SYMBOL_GPL570)"
   ]
  },
  {
   "cell_type": "code",
   "execution_count": 18,
   "metadata": {},
   "outputs": [],
   "source": [
    "## Import NEA subnetworks\n",
    "NEA_RPATH <- paste0(\"../diff_expr/data/subnetwork/nea-hsa/\",\n",
    "                    \"ovarian_cancer/geneset-nea_kegg_ovarian.tsv\")\n",
    "nea_df <- read.table(NEA_RPATH, sep = \"\\t\", header = T, stringsAsFactors = F)\n",
    "subnetwork_nea <- split(as.character(nea_df$gene_id), nea_df$subnetwork_id)"
   ]
  },
  {
   "cell_type": "code",
   "execution_count": 19,
   "metadata": {},
   "outputs": [],
   "source": [
    "#' Calculates QPSP profiles of samples\n",
    "#' Rownames of X has to be the same annotation type as list of network vectors\n",
    "#' @param X dataframe of discrete GFS-transformed expression data with\n",
    "#' features in rows and samples in columns\n",
    "#' @param list_complex list of vectors that contain components of networks\n",
    "#' @return dataframe of QPSP profiles\n",
    "calc_qpsp <- function(X, list_complex) {\n",
    "  idx <- sapply(list_complex, function(x) all(x %in% rownames(X)))\n",
    "  \n",
    "  if (anyNA(idx))\n",
    "    stop(\"NA present in index\")\n",
    "  \n",
    "  # List of complexes with all IDs present\n",
    "  complete_complexes <- list_complex[idx]\n",
    "\n",
    "  .col_qpsp <- function(col) {\n",
    "    sapply(complete_complexes, function(ids) mean(col[ids]))\n",
    "  }\n",
    "           \n",
    "  data.frame(apply(X, 2, .col_qpsp))\n",
    "}"
   ]
  },
  {
   "cell_type": "code",
   "execution_count": 20,
   "metadata": {},
   "outputs": [],
   "source": [
    "qpsp_nea <- calc_qpsp(entrez_gfs, subnetwork_nea)"
   ]
  },
  {
   "cell_type": "code",
   "execution_count": 22,
   "metadata": {},
   "outputs": [],
   "source": [
    "write.table(qpsp_nea, 'tmp/nea_gfs.tsv', quote = F, sep = '\\t')"
   ]
  },
  {
   "cell_type": "markdown",
   "metadata": {},
   "source": [
    "### Plots"
   ]
  },
  {
   "cell_type": "code",
   "execution_count": 154,
   "metadata": {},
   "outputs": [],
   "source": [
    "## Subsetting data\n",
    "d0_qpsp <- qpsp_nea[, annot[colnames(qpsp_nea), 'class_info'] == 'D0']\n",
    "d0_hyper <- d0_qpsp[,\n",
    "  annot[colnames(d0_qpsp), 'subtype'] == 'Hyperdiploid']\n",
    "d0_others <- d0_qpsp[,\n",
    "  annot[colnames(d0_qpsp), 'subtype'] == 'Others']\n",
    "\n",
    "qpsp_hvg <- select_hvg(qpsp_nea, 100)\n",
    "d0_qpsp_hvg <- qpsp_hvg[, annot[colnames(qpsp_hvg), 'class_info'] == 'D0']\n",
    "d0_hyper_hvg <- d0_qpsp_hvg[,\n",
    "  annot[colnames(d0_qpsp_hvg), 'subtype'] == 'Hyperdiploid']"
   ]
  },
  {
   "cell_type": "code",
   "execution_count": 155,
   "metadata": {},
   "outputs": [],
   "source": [
    "# # Colour settings\n",
    "# # set1_colours <- ggplot_palette(9)\n",
    "# set1_colours <- brewer.pal(n = 9, name = \"Set1\")\n",
    "# names(set1_colours) <- rev(levels(annot$subtype))\n",
    "# annot_colours <- list(subtype = set1_colours) \n",
    "\n",
    "# pheatmap(\n",
    "#   qpsp_hvg,\n",
    "# #   col = brewer.pal(n = 11, name = \"RdBu\"),\n",
    "#   col = brewer.pal(9, \"Blues\"),\n",
    "#   display_numbers = F, legend = T, border_color = NULL,\n",
    "#   cluster_method = \"complete\", cluster_rows = T, cluster_cols = T,\n",
    "#   clustering_distance_rows = \"euclidean\", clustering_distance_cols = \"euclidean\",\n",
    "#   scale = \"none\", show_colnames = F, show_rownames = F,\n",
    "#   annotation_col = annot, annotation_colors = annot_colours,\n",
    "#   fontsize = 6, cellwidth = 2, cellheight = 3,\n",
    "#   filename = \"~/Dropbox/tmp/heatmap-qpsp_hvg100.pdf\"\n",
    "# )"
   ]
  },
  {
   "cell_type": "code",
   "execution_count": 156,
   "metadata": {
    "scrolled": true
   },
   "outputs": [],
   "source": [
    "# umap_obj <- umap(t(d0_hyper))\n",
    "# ax <- plot_umap(umap_obj, annot, col = 'subtype')\n",
    "\n",
    "ax <- plot_pca(d0_hyper, annot, col = 'subtype', pch = 'label')\n",
    "ggsave('~/Dropbox/tmp/qpsp_pca-d0_hyperdiploid.pdf', ax, width = 9, heigh = 5)"
   ]
  },
  {
   "cell_type": "code",
   "execution_count": 147,
   "metadata": {},
   "outputs": [],
   "source": [
    "#' @param X dataframe with features as rows and samples as columns\n",
    "#' @param annot dataframe of annotation with samples as rows\n",
    "#' @param newdata dataframe of data to be predicted by prcomp object\n",
    "#' @param ... optional arguments are passed to aes_string in ggplot\n",
    "plot_pca <- function(X, annot, cex = 2, newdata = NULL, ...) {\n",
    "  # PCA\n",
    "  pca_obj <- prcomp(t(X))\n",
    "  Z <- data.frame(pca_obj$x[, 1:3])\n",
    "  eigenvalues <- (pca_obj$sdev)^2\n",
    "  var_pc <- eigenvalues[1:3]/sum(eigenvalues)\n",
    "  pc_labels <- sprintf(\"PC%d (%.2f%%)\", 1:3, var_pc*100)\n",
    "\n",
    "  # Projects newdata into PCA space\n",
    "  if (!is.null(newdata)) {\n",
    "    Z_new <- predict(pca_obj, newdata = t(newdata))[, 1:3]\n",
    "    # Remove duplicate rows\n",
    "    Z_new <- Z_new[!(rownames(Z_new) %in% rownames(Z)), ]\n",
    "    Z <- rbind(Z, Z_new)\n",
    "  }\n",
    "\n",
    "  # concat with annotations\n",
    "  annot_cols <- unlist(list(...))\n",
    "  annot1 <- annot[rownames(Z), annot_cols, drop = F]\n",
    "  Z_annot <- cbind(Z, annot1)\n",
    "\n",
    "  ggplot(Z_annot, aes_string(x = \"PC1\", y = \"PC2\", ...)) +\n",
    "    geom_point(cex = cex) +\n",
    "    labs(x = pc_labels[1], y = pc_labels[2]) +\n",
    "    geom_vline(xintercept = 0, color = \"black\", alpha = 0.5) +\n",
    "    geom_hline(yintercept = 0, color = \"black\", alpha = 0.5)\n",
    "}"
   ]
  },
  {
   "cell_type": "code",
   "execution_count": 158,
   "metadata": {},
   "outputs": [],
   "source": [
    "ax <- plot_pca(d0_others, annot, newdata = d0_qpsp, col = 'subtype')\n",
    "ggsave('~/Dropbox/tmp/qpsp_pca-d0_others_project.pdf', ax, width = 9, height = 5)"
   ]
  },
  {
   "cell_type": "markdown",
   "metadata": {},
   "source": [
    "#### Only half of the KEGG ids are represented in the data"
   ]
  },
  {
   "cell_type": "code",
   "execution_count": null,
   "metadata": {},
   "outputs": [],
   "source": [
    "# ## Import KEGG pathways\n",
    "# KEGG_RPATH <- \"../info/KEGG/kegg-human_allpathway_genes.tsv\"\n",
    "# kegg_df <- read.table(KEGG_RPATH, sep = \"\\t\", header = T, stringsAsFactors = F)\n",
    "# kegg_df$Pathway <- substring(kegg_df$Pathway, 6)\n",
    "# list_kegg <- split(kegg_df$Entrez.Gene.ID, kegg_df$Pathway)"
   ]
  },
  {
   "cell_type": "code",
   "execution_count": null,
   "metadata": {},
   "outputs": [],
   "source": [
    "# # kegg_size <- sapply(subnetwork_pwapi, length)\n",
    "# # kegg_hit <- sapply(subnetwork_pwapi,\n",
    "# #                    function(ids) sum(ids %in% rownames(araw)))\n",
    "\n",
    "# ## Only include the IDs represented in the data\n",
    "# incomplete_kegg <- lapply(list_kegg,\n",
    "#                           function(ids) ids[ids %in% rownames(araw)])\n",
    "# kegg_size <- sapply(incomplete_kegg, length)\n",
    "# SIZE <- 5\n",
    "# incomplete_kegg_sub <- incomplete_kegg[kegg_size > SIZE]\n",
    "# kegg_size1 <- sapply(incomplete_kegg_sub, length)"
   ]
  },
  {
   "cell_type": "code",
   "execution_count": null,
   "metadata": {},
   "outputs": [],
   "source": [
    "# ## Import pathwayAPI\n",
    "# PWAPI_RPATH <- \"../info/pathwayAPI/pwapi_id_human-filtered_entrez.tsv\"\n",
    "# pwapi_df <- read.table(PWAPI_RPATH, sep = \"\\t\", header = T, stringsAsFactors = F)\n",
    "# list_pwapi <- split(pwapi_df[,2:3], pwapi_df$pathway_id)\n",
    "# subnetwork_pwapi <- lapply(list_pwapi,\n",
    "#                            function(X) unique(as.numeric(data.matrix(X))))"
   ]
  },
  {
   "cell_type": "code",
   "execution_count": null,
   "metadata": {},
   "outputs": [],
   "source": [
    "# pwapi_size <- sapply(subnetwork_pwapi, length)\n",
    "# pwapi_hit <- sapply(subnetwork_pwapi,\n",
    "#                     function(ids) sum(ids %in% rownames(araw)))\n",
    "\n",
    "# ## Only include the IDs represented in the data in pathwayAPI\n",
    "# subnetwork_pwapi_sub <- lapply(subnetwork_pwapi,\n",
    "#                                 function(ids) ids[ids %in% rownames(araw)])\n",
    "# pwapi_size1 <- sapply(subnetwork_pwapi_sub, length)\n",
    "# SIZE <- 5\n",
    "# subnetwork_pwapi_sub1 <- subnetwork_pwapi_sub[pwapi_size1 > SIZE]\n",
    "# pwapi_size2 <- sapply(subnetwork_pwapi_sub1, length)\n",
    "# print(cbind(pwapi_hit[pwapi_size1 > SIZE], pwapi_size2))"
   ]
  }
 ],
 "metadata": {
  "kernelspec": {
   "display_name": "R",
   "language": "R",
   "name": "ir"
  },
  "language_info": {
   "codemirror_mode": "r",
   "file_extension": ".r",
   "mimetype": "text/x-r-source",
   "name": "R",
   "pygments_lexer": "r",
   "version": "3.5.1"
  }
 },
 "nbformat": 4,
 "nbformat_minor": 2
}
