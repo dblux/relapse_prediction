{
 "cells": [
  {
   "cell_type": "code",
   "execution_count": 1,
   "metadata": {},
   "outputs": [
    {
     "name": "stderr",
     "output_type": "stream",
     "text": [
      "\n",
      "********************************************************\n",
      "Note: As of version 1.0.0, cowplot does not change the\n",
      "  default ggplot2 theme anymore. To recover the previous\n",
      "  behavior, execute:\n",
      "  theme_set(theme_cowplot())\n",
      "********************************************************\n",
      "\n",
      "Type 'citation(\"pROC\")' for a citation.\n",
      "\n",
      "Attaching package: ‘pROC’\n",
      "\n",
      "The following objects are masked from ‘package:stats’:\n",
      "\n",
      "    cov, smooth, var\n",
      "\n",
      "\n",
      "Attaching package: ‘dplyr’\n",
      "\n",
      "The following objects are masked from ‘package:stats’:\n",
      "\n",
      "    filter, lag\n",
      "\n",
      "The following objects are masked from ‘package:base’:\n",
      "\n",
      "    intersect, setdiff, setequal, union\n",
      "\n"
     ]
    }
   ],
   "source": [
    "library(survival)\n",
    "library(reshape2)\n",
    "library(tibble)\n",
    "library(xtable)\n",
    "\n",
    "## Plotting\n",
    "library(RColorBrewer)\n",
    "library(ggplot2)\n",
    "library(cowplot)\n",
    "library(pheatmap)\n",
    "library(pROC)\n",
    "library(umap)\n",
    "\n",
    "# library(rgl)\n",
    "# library(VennDiagram)\n",
    "# library(UpSetR)\n",
    "# library(Rtsne)\n",
    "# library(dendextend)\n",
    "# library(repr)\n",
    "# options(repr.plot.width=8, repr.plot.height=4)\n",
    "\n",
    "theme_set(theme_bw())\n",
    "\n",
    "## Custom\n",
    "source(\"../functions.R\")"
   ]
  },
  {
   "cell_type": "code",
   "execution_count": 2,
   "metadata": {},
   "outputs": [],
   "source": [
    "# FUNCTIONS ---------------------------------------------------------------\n",
    "#' Get column names in same order as pheatmap plot\n",
    "#' @param obj pheatmap object\n",
    "get_colnames <- function(obj) {\n",
    "  obj$tree_col$labels[obj$tree_col$order]\n",
    "}\n",
    "\n",
    "#' Get row names in same order as pheatmap plot\n",
    "#' @param obj pheatmap object\n",
    "get_rownames <- function(obj) {\n",
    "  obj$tree_row$labels[obj$tree_row$order]\n",
    "}"
   ]
  },
  {
   "cell_type": "markdown",
   "metadata": {},
   "source": [
    "## Import data"
   ]
  },
  {
   "cell_type": "code",
   "execution_count": 141,
   "metadata": {
    "scrolled": false
   },
   "outputs": [
    {
     "name": "stdout",
     "output_type": "stream",
     "text": [
      "  P001_D0   P004_D0   P005_D0   P007_D0   P008_D0   P009_D0 \n",
      " 5.796952  4.123342  3.981577  6.317643  4.841458 11.978124 \n",
      "[1] \"No. of ambiguous and AFFY probesets removed: 10503\"\n",
      "[1] D0 D0 D0 D0 D0 D0\n",
      "Levels: D0 D8 N\n",
      "           D0    D8     N\n",
      "1053_at  TRUE  TRUE  TRUE\n",
      "117_at  FALSE  TRUE  TRUE\n",
      "121_at   TRUE  TRUE  TRUE\n",
      "1294_at  TRUE  TRUE  TRUE\n",
      "1316_at  TRUE  TRUE  TRUE\n",
      "1320_at FALSE FALSE FALSE\n",
      "[1] \"No. of probesets removed = 6321\"\n"
     ]
    }
   ],
   "source": [
    "## Metadata\n",
    "METADATA_RPATH <- \"data/GSE67684/processed/metadata/sid-metadata_v2.tsv\"\n",
    "LABEL_RPATH <- \"data/GSE67684/processed/metadata/pid-metadata_v4.tsv\"\n",
    "BATCH_RPATH <- \"data/GSE67684/processed/metadata/sid-batch.tsv\"\n",
    "\n",
    "metadata_df <- read.table(METADATA_RPATH, sep = \"\\t\")\n",
    "yeoh_batch <- read.table(BATCH_RPATH, sep = \"\\t\", header = T, row.names = 1)\n",
    "yeoh_label <- read.table(LABEL_RPATH, sep = \"\\t\", header = T, row.names = 1)\n",
    "yeoh_label[] <- lapply(yeoh_label, as.factor)\n",
    "\n",
    "## Subset of original data\n",
    "# Removed outliers, patients with timepoints from different batches and batch 5\n",
    "SUBSET_RPATH <- \"data/GSE67684/processed/subset_yeoh.tsv\"\n",
    "raw_yeoh <- read.table(SUBSET_RPATH, sep = \"\\t\")\n",
    "# SCALE->REMOVE->FILTER->LOG\n",
    "scaled_yeoh <- normaliseMeanScaling(raw_yeoh)\n",
    "selected_yeoh <- removeProbesets(scaled_yeoh)\n",
    "data <- log2_transform(filterProbesets(selected_yeoh, 0.7, metadata_df))"
   ]
  },
  {
   "cell_type": "code",
   "execution_count": 5,
   "metadata": {},
   "outputs": [],
   "source": [
    "yeoh_allps <- log2_transform(scaled_yeoh)\n",
    "yeoh_unfltr <- log2_transform(selected_yeoh)"
   ]
  },
  {
   "cell_type": "markdown",
   "metadata": {},
   "source": [
    "#### Day 33"
   ]
  },
  {
   "cell_type": "code",
   "execution_count": 6,
   "metadata": {},
   "outputs": [
    {
     "name": "stdout",
     "output_type": "stream",
     "text": [
      "P001_D33 P006_D33 P007_D33 P008_D33 P009_D33 P010_D33 \n",
      "2.106859 2.132480 1.498776 2.559182 1.576584 2.657973 \n"
     ]
    }
   ],
   "source": [
    "path1 <- \"data/leuk_D33/processed/mas5_filtered.tsv\"\n",
    "path2 <- \"data/GSE67684/processed/metadata/sid-metadata_v1.tsv\"\n",
    "\n",
    "yeoh_d33 <- read.table(path1, sep = \"\\t\", header = T)\n",
    "annot_all <- read.table(path2, sep = \"\\t\", header = T)\n",
    "\n",
    "annot_all[] <- lapply(annot_all, as.factor)\n",
    "yeoh_d33_allps <- log2_transform(normaliseMeanScaling(yeoh_d33))\n",
    "# Remove samples that have been curated out of data set\n",
    "# Members that have been curated out are no longer in annot_all\n",
    "missing_samples <- colnames(yeoh_d33_allps)[\n",
    "  !(colnames(yeoh_d33_allps) %in% rownames(annot_all))]\n",
    "# Remove patients from D33 that have been curated out\n",
    "yeoh_d33 <- yeoh_d33_allps[\n",
    "  rownames(data),\n",
    "  !(colnames(yeoh_d33_allps) %in% missing_samples)\n",
    "]"
   ]
  },
  {
   "cell_type": "markdown",
   "metadata": {},
   "source": [
    "### Commonly used globals"
   ]
  },
  {
   "cell_type": "code",
   "execution_count": 7,
   "metadata": {},
   "outputs": [],
   "source": [
    "COL_LABEL <- c(\"darkolivegreen3\", \"tomato3\")\n",
    "\n",
    "annot <- metadata_df[colnames(data),]\n",
    "Y_annot <- annot[,c(\"batch_info\", \"label\")] # heatmap annot\n",
    "# Y_all <- all_metadata[colnames(data_all),]\n",
    "\n",
    "# List subtypes\n",
    "subtypes9 <- levels(metadata_df$subtype)\n",
    "subtypes7 <- setdiff(subtypes9, c(\"Hypodiploid\", \"Normal\"))\n",
    "subtypes6 <- setdiff(subtypes7, \"Others\")\n",
    "subtypes5 <- setdiff(\n",
    "  subtypes9,\n",
    "  c(\"Hypodiploid\", \"Normal\", \"Hyperdiploid\", \"Others\")\n",
    ")\n",
    "others <- data[, annot$subtype == \"Others\"]\n",
    "others_normal <- data[, annot$subtype %in% c(\"Others\", \"Normal\")]\n",
    "\n",
    "heatmap_annot <- annot[, c(\"batch_info\", \"label\"), drop = F]"
   ]
  },
  {
   "cell_type": "code",
   "execution_count": 8,
   "metadata": {},
   "outputs": [],
   "source": [
    "# Define train/test split\n",
    "sid_mrd_na <- rownames(yeoh_label)[is.na(yeoh_label$d33_mrd)] %>%\n",
    "  rep(each = 2) %>%\n",
    "  paste0(c(\"_D0\", \"_D8\"))\n",
    "\n",
    "sid_alltrain_local <- rownames(annot)[\n",
    "  !(annot$subtype %in% c(\"Hypodiploid\", \"Normal\")) &\n",
    "  !(rownames(annot) %in% sid_mrd_na)\n",
    "]\n",
    "sid_alltrain <- rownames(annot)[\n",
    "  !(annot$subtype %in% c(\"Hypodiploid\", \"Hyperdiploid\", \"Others\", \"Normal\")) &\n",
    "  !(rownames(annot) %in% sid_mrd_na)\n",
    "]\n",
    "sid_train <- rownames(annot)[\n",
    "  annot$batch_info %in% 1:7 &\n",
    "  !(annot$subtype %in% c(\"Hypodiploid\", \"Hyperdiploid\", \"Others\", \"Normal\")) &\n",
    "  !(rownames(annot) %in% sid_mrd_na)\n",
    "]\n",
    "sid_test <- rownames(annot)[\n",
    "  annot$batch_info %in% 8:10 &\n",
    "  !(annot$subtype %in% c(\"Hypodiploid\", \"Hyperdiploid\", \"Others\", \"Normal\")) &\n",
    "  !(rownames(annot) %in% sid_mrd_na)\n",
    "]\n",
    "\n",
    "sid_remission <- rownames(annot)[annot$label == 0]\n",
    "sid_normal <- paste0(\"N0\", c(1,2,4))"
   ]
  },
  {
   "cell_type": "markdown",
   "metadata": {},
   "source": [
    "# Identify batch effect probesets"
   ]
  },
  {
   "cell_type": "code",
   "execution_count": 121,
   "metadata": {
    "scrolled": true
   },
   "outputs": [
    {
     "name": "stdout",
     "output_type": "stream",
     "text": [
      "[1] \"No. of NaNs = 16\"\n"
     ]
    },
    {
     "data": {
      "text/html": [
       "2565"
      ],
      "text/latex": [
       "2565"
      ],
      "text/markdown": [
       "2565"
      ],
      "text/plain": [
       "[1] 2565"
      ]
     },
     "metadata": {},
     "output_type": "display_data"
    }
   ],
   "source": [
    "batch_ps <- identify_batch_features(data, annot, method = 'aov')\n",
    "length(batch_ps)"
   ]
  },
  {
   "cell_type": "code",
   "execution_count": 11,
   "metadata": {},
   "outputs": [
    {
     "name": "stdout",
     "output_type": "stream",
     "text": [
      "[1] \"No. of NaNs = 5061\"\n"
     ]
    },
    {
     "data": {
      "text/html": [
       "7504"
      ],
      "text/latex": [
       "7504"
      ],
      "text/markdown": [
       "7504"
      ],
      "text/plain": [
       "[1] 7504"
      ]
     },
     "metadata": {},
     "output_type": "display_data"
    }
   ],
   "source": [
    "batch_allps <- identify_batch_features(yeoh_allps, annot, method = 'aov')\n",
    "length(batch_allps)"
   ]
  },
  {
   "cell_type": "markdown",
   "metadata": {},
   "source": [
    "### Plot: Vectors (UMAP)"
   ]
  },
  {
   "cell_type": "code",
   "execution_count": 152,
   "metadata": {},
   "outputs": [],
   "source": [
    "# umap_others <- umap(t(others_normal))"
   ]
  },
  {
   "cell_type": "code",
   "execution_count": 129,
   "metadata": {
    "scrolled": true
   },
   "outputs": [
    {
     "name": "stderr",
     "output_type": "stream",
     "text": [
      "Saving 6.67 x 6.67 in image\n"
     ]
    }
   ],
   "source": [
    "# umap_others1 <- cbind(\n",
    "#   x = umap_others$layout,\n",
    "#   Y[rownames(umap_others$layout), ]\n",
    "# )\n",
    "\n",
    "# umap_others2 <- umap_others1[umap_others1$subtype == \"Others\", ]\n",
    "# umap_normal <- umap_others1[umap_others1$subtype == \"Normal\", ]\n",
    "# umap_others3 <- umap_others2[seq_len(nrow(umap_others2) / 2), ]\n",
    "# others_d8 <- umap_others2[seq(nrow(umap_others2) / 2 + 1, nrow(umap_others2)), 1:2]\n",
    "# umap_others4 <- cbind(umap_others3, others_d8)\n",
    "# umap_others4 <- umap_others4[, c(1,2,7,8,3:6)]\n",
    "# colnames(umap_others4)[1:4] <- c(\"start_x\", \"start_y\", \"end_x\", \"end_y\")\n",
    "# umap_others4$batch_info <- as.factor(umap_others4$batch_info)\n",
    "# umap_others4$label <- as.factor(umap_others4$label)\n",
    "# arrow_col <- ifelse(umap_others4$label == 0, \"black\", \"red\")\n",
    "\n",
    "# scatter_pca <- ggplot(data = umap_others4) +\n",
    "#   geom_point(aes(x = start_x, y = start_y, colour = batch_info),\n",
    "#              shape = 15, size = cex, show.legend = T) +\n",
    "#   geom_point(aes(x = end_x, y = end_y, colour = batch_info),\n",
    "#              shape = 16, size = cex, show.legend = F) +\n",
    "#   geom_segment(\n",
    "#     aes(x = start_x, y = start_y, xend = end_x, yend = end_y),\n",
    "#     arrow = arrow(length = unit(0.3, \"cm\")),\n",
    "#     alpha = 0.5,\n",
    "#     color = arrow_col\n",
    "#   ) +\n",
    "#   geom_point(data = umap_normal, aes(x = x.1, y = x.2),\n",
    "#              size = cex, shape = 17)\n",
    "\n",
    "# ggsave(\"~/Dropbox/temp/umap-others.pdf\", scatter_pca)"
   ]
  },
  {
   "cell_type": "markdown",
   "metadata": {},
   "source": [
    "## Plot: Vectors (PCA)"
   ]
  },
  {
   "cell_type": "code",
   "execution_count": 139,
   "metadata": {},
   "outputs": [
    {
     "name": "stdout",
     "output_type": "stream",
     "text": [
      " [1] 1 1 1 2 1 1 1 1 1 1 2 1 1 1 2 1 1 1 1 1 1 1 1 1 2 1 1 1 1 1 2 2 2 2 2 1 2 2\n",
      "[39] 1 2 1 1 1 1 2 2 1 1 1 2 1 1 1 1 1 1 1 2 1 1 1 2 1 1 1 1 1 2 1 2 1 1 1 2 1 1\n",
      "[77] 1 1 2 1 1 1 1 2 1\n"
     ]
    },
    {
     "name": "stderr",
     "output_type": "stream",
     "text": [
      "Saving 6.67 x 6.67 in image\n"
     ]
    }
   ],
   "source": [
    "# pca_all <- plot_vectors(others, Y)\n",
    "# ggsave(\"~/Dropbox/temp/vectors-pca_all.pdf\", pca_all)\n",
    "\n",
    "# others_fltr <- others[!(rownames(others) %in% batch_genes), ]\n",
    "# pca_wo_batch <- plot_vectors(others_fltr, Y)\n",
    "# ggsave(\"~/Dropbox/temp/vectors-pca_wo_batch.pdf\")"
   ]
  },
  {
   "cell_type": "markdown",
   "metadata": {},
   "source": [
    "# Important genes"
   ]
  },
  {
   "cell_type": "markdown",
   "metadata": {},
   "source": [
    "## Plot: Heatmap"
   ]
  },
  {
   "cell_type": "code",
   "execution_count": 16,
   "metadata": {},
   "outputs": [
    {
     "name": "stdout",
     "output_type": "stream",
     "text": [
      "No. of probesets with no ID removed: 1052\n",
      "Total no. of probesets removed (incl. probesets mapping to same gene): 8762\n",
      "No. of probesets with no ID removed: 1052\n",
      "Total no. of probesets removed (incl. probesets mapping to same gene): 8762\n"
     ]
    }
   ],
   "source": [
    "# NAME_GPL570 <- \"../info/microarray/HG-U133_Plus_2/annot_genesymbol-GPL570.tsv\"\n",
    "# a_yeoh <- affy2id(yeoh_allps, NAME_GPL570)\n",
    "# gene_mapping <- affy2id(yeoh_allps, NAME_GPL570, ret.annot = T)"
   ]
  },
  {
   "cell_type": "code",
   "execution_count": 45,
   "metadata": {},
   "outputs": [],
   "source": [
    "# # Selecting CD marker genes\n",
    "# grep_genes <- grep('^CD[0-9]', rownames(a_yeoh), value = T)\n",
    "# wrong_genes <- c('CD2BP2', 'CD2AP', 'CD3EAP', 'CD5L', 'CD40LG')\n",
    "# cd_genes <- setdiff(grep_genes, wrong_genes)\n",
    "\n",
    "# yeoh_cd <- a_yeoh[cd_genes, ]\n",
    "# # all_cd <- ann_yeoh2[cd_genes, ] # Includes D33 samples\n",
    "\n",
    "# # Rename genes with multiple names\n",
    "# rename_genes <- c('CD8B', 'CD68', 'CD302')\n",
    "# for (gene in rename_genes) {\n",
    "#   rownames(yeoh_cd)[grep(gene, rownames(yeoh_cd))] <- gene\n",
    "# }\n",
    "# # for (gene in rename_genes) {\n",
    "# #   rownames(all_cd)[grep(gene, rownames(all_cd))] <- gene\n",
    "# # }"
   ]
  },
  {
   "cell_type": "markdown",
   "metadata": {},
   "source": [
    "## B-ALL \"Others\" subtypes\n",
    "- DUX4\n",
    "    - Overexpression of DUX4\n",
    "    - Characterised by recurrent IGH-DUX4 or ERG-DUX4 fusions\n",
    "    - Frequently co-occurring with intragenic ERG deletions\n",
    "- PAX5alt\n",
    "    - PAX5 as a driver mutation\n",
    "    - Commonly have co-deletion of IKZF1 and CDKN2A/B\n",
    "    - If IKZF1 is deleted, poor outcome. Otherwise, excellent prognosis\n",
    "- ETV6-RUNX1-like\n",
    "    - ETV6 and IKZF1 alterations\n",
    "    - IKZF1 alterations did not result in poor prognosis, unlike other cases in B-ALL\n",
    "- ZNF384-like\n",
    "- BCR-ABL1-like\n",
    "    - No CRLF2 rearrangement"
   ]
  },
  {
   "cell_type": "markdown",
   "metadata": {},
   "source": [
    "### Plot: UMAP"
   ]
  },
  {
   "cell_type": "code",
   "execution_count": 255,
   "metadata": {},
   "outputs": [],
   "source": [
    "# exclude batch effect genes\n",
    "d0_wo_batch <- data[\n",
    "  !(rownames(data) %in% batch_genes),\n",
    "  Y[colnames(data), \"class_info\"] == \"D0\"\n",
    "]\n",
    "d0_hvg500 <- select_hvg(d0_wo_batch, 500)"
   ]
  },
  {
   "cell_type": "code",
   "execution_count": 660,
   "metadata": {
    "scrolled": true
   },
   "outputs": [
    {
     "name": "stdout",
     "output_type": "stream",
     "text": [
      "           UMAP1       UMAP2 subtype label\n",
      "P001_D0 3.264515  0.29340424   T-ALL     0\n",
      "P004_D0 2.678722 -0.52931064   T-ALL     0\n",
      "P005_D0 2.635956 -0.33556299   T-ALL     0\n",
      "P007_D0 2.928077 -0.06792923   T-ALL     1\n",
      "P008_D0 3.365494  0.42612226   T-ALL     0\n",
      "P009_D0 2.613520 -1.36106373   T-ALL     0\n"
     ]
    }
   ],
   "source": [
    "umap_obj <- umap(t(d0_hvg500))\n",
    "umap_d0_hvg500 <- plot_umap(umap_obj, Y, col = \"subtype\", pch = \"label\")\n",
    "# ggsave(\"~/Dropbox/temp/umap-d0_hvg500.pdf\", umap_d0_hvg500, width = 7, height = 4)"
   ]
  },
  {
   "cell_type": "markdown",
   "metadata": {},
   "source": [
    "## Plot: PCA"
   ]
  },
  {
   "cell_type": "code",
   "execution_count": 18,
   "metadata": {},
   "outputs": [],
   "source": [
    "# plot_pca(d0_hvg500, Y, col = \"subtype\")\n",
    "# ggsave(\"~/Dropbox/temp/pca-d0_hvg500.pdf\", pca_d0_hvg500, width = 7, height = 4)"
   ]
  },
  {
   "cell_type": "markdown",
   "metadata": {},
   "source": [
    "# Identify novel subtypes in B-Others"
   ]
  },
  {
   "cell_type": "markdown",
   "metadata": {},
   "source": [
    "#### Original figures:\n",
    "- Batch effect ps: data\n",
    "- Annotated data: yeoh_unfltr\n",
    "- Gene mapping: yeoh_unfltr"
   ]
  },
  {
   "cell_type": "markdown",
   "metadata": {},
   "source": [
    "## Yeoh (2002): Subtype gene signatures"
   ]
  },
  {
   "cell_type": "code",
   "execution_count": 14,
   "metadata": {},
   "outputs": [
    {
     "name": "stdout",
     "output_type": "stream",
     "text": [
      "No. of probesets with no ID removed: 130\n",
      "Total no. of probesets removed (incl. probesets mapping to same gene): 714\n",
      "No. of probesets with no ID removed: 819\n",
      "Total no. of probesets removed (incl. probesets mapping to same gene): 2559\n",
      "No. of probesets with no ID removed: 1052\n",
      "Total no. of probesets removed (incl. probesets mapping to same gene): 8762\n"
     ]
    }
   ],
   "source": [
    "NAME_GPL570 <- \"../info/microarray/HG-U133_Plus_2/annot_genesymbol-GPL570.tsv\"\n",
    "a_data <- affy2id(data, NAME_GPL570)\n",
    "a_unfltr <- affy2id(yeoh_unfltr, NAME_GPL570)\n",
    "a_allps <- affy2id(yeoh_allps, NAME_GPL570)"
   ]
  },
  {
   "cell_type": "code",
   "execution_count": 15,
   "metadata": {
    "scrolled": true
   },
   "outputs": [
    {
     "name": "stdout",
     "output_type": "stream",
     "text": [
      "No. of probesets with no ID removed: 819\n",
      "Total no. of probesets removed (incl. probesets mapping to same gene): 2559\n",
      "No. of probesets with no ID removed: 1052\n",
      "Total no. of probesets removed (incl. probesets mapping to same gene): 8762\n"
     ]
    }
   ],
   "source": [
    "gene_mapping1 <- affy2id(yeoh_unfltr, NAME_GPL570, ret.annot = T)\n",
    "gene_mapping2 <- affy2id(yeoh_allps, NAME_GPL570, ret.annot = T)"
   ]
  },
  {
   "cell_type": "code",
   "execution_count": 16,
   "metadata": {
    "scrolled": true
   },
   "outputs": [],
   "source": [
    "PS_RPATH1 <- \"data/yeoh_2002/README/chi_square_probesets/combined.tsv\"\n",
    "PS_RPATH2 <- \"../info/microarray/HG-U95Av2/HG_U95Av2-GEO_annot.tsv\"\n",
    "\n",
    "# Gene signatures selected by chi2 feature selection in Yeoh (2002)\n",
    "ps_info <- read.table(\n",
    "  PS_RPATH1, sep = \"\\t\", header = T,\n",
    "  quote = \"\", na.strings = \" \", stringsAsFactors = F\n",
    ")\n",
    "# Affy95 probeset annotations\n",
    "u95av2_annot <- read.table(\n",
    "  PS_RPATH2, sep = \"\\t\", header = T,\n",
    "  row.names = 1, stringsAsFactors = F\n",
    ")"
   ]
  },
  {
   "cell_type": "code",
   "execution_count": 17,
   "metadata": {},
   "outputs": [],
   "source": [
    "# Gene signatures from Yeoh (2002)\n",
    "chisq_ps <- ps_info$affymetrix # [grepl(\"[gis]_at\", ps_info$affymetrix)]\n",
    "chisq_genes <- u95av2_annot[chisq_ps, \"Gene.Symbol\"]\n",
    "chisq_genes <- unique(chisq_genes)"
   ]
  },
  {
   "cell_type": "code",
   "execution_count": 18,
   "metadata": {},
   "outputs": [
    {
     "name": "stdout",
     "output_type": "stream",
     "text": [
      "[1] 9047\n"
     ]
    }
   ],
   "source": [
    "# Get all GPL570 probesets without batch effect probesets\n",
    "batch_genes <- gene_mapping2[batch_allps]\n",
    "batch_genes <- batch_genes[!(is.na(batch_genes))]\n",
    "nonbatch_genes <- setdiff(rownames(a_allps), batch_genes)"
   ]
  },
  {
   "cell_type": "code",
   "execution_count": 19,
   "metadata": {},
   "outputs": [],
   "source": [
    "#' Find similar genes to vector of gene symbols\n",
    "#' @return named list with gene symbols in x as names and\n",
    "#' matching gene symbols in y as values\n",
    "get_similar_genes <- function(x, y) {\n",
    "  # Default value of gene with no match is NULL\n",
    "  matched_genes <- vector(\"list\", length(x))\n",
    "  names(matched_genes) <- x\n",
    "  \n",
    "  idx_notequiv <- !(x %in% y)\n",
    "  not_equiv <- x[idx_notequiv]\n",
    "  idx_mult <- grepl(\"///\", not_equiv)\n",
    "  \n",
    "  matched_singles <- lapply(\n",
    "    not_equiv[!idx_mult],\n",
    "    grep, x = y, value = T\n",
    "  )\n",
    "  names(matched_singles) <- not_equiv[!idx_mult]\n",
    "  matched_singles_fltr <- Filter(\n",
    "    function(x) ifelse(length(x) == 0, F, T),\n",
    "    matched_singles\n",
    "  )\n",
    "\n",
    "  mult_symbols <- lapply(\n",
    "    not_equiv[idx_mult],\n",
    "    function(x) unlist(strsplit(x, \" /// \"))\n",
    "  )\n",
    "  names(mult_symbols) <- not_equiv[idx_mult]\n",
    "  matched_mults <- lapply(\n",
    "    mult_symbols,\n",
    "    function(x) unlist(lapply(x, grep, x = y, value = T))\n",
    "  )\n",
    "  matched_mults_fltr <- Filter(\n",
    "    function(x) ifelse(length(x) == 0, F, T),\n",
    "    matched_mults\n",
    "  )\n",
    "  \n",
    "  # initialise list with equivalent genes\n",
    "  matched_genes[!idx_notequiv] <- x[!idx_notequiv]\n",
    "  # replace similar singles and multiples\n",
    "  matched_genes[names(matched_singles_fltr)] <- matched_singles_fltr\n",
    "  matched_genes[names(matched_mults_fltr)] <- matched_mults_fltr\n",
    "\n",
    "  matched_genes\n",
    "}"
   ]
  },
  {
   "cell_type": "code",
   "execution_count": 20,
   "metadata": {},
   "outputs": [],
   "source": [
    "matched_genes <- get_similar_genes(chisq_genes, nonbatch_genes)\n",
    "matched_genes <- Filter(function(x) !is.null(x), matched_genes)\n",
    "similar_genes <- matched_genes[!(names(matched_genes) == matched_genes)]\n",
    "\n",
    "del_genes <- names(similar_genes)[-c(5, 6, 8, 11)]\n",
    "mod_genes <- names(similar_genes)[c(5, 6, 8, 11)]\n",
    "\n",
    "# Keep all genes with multiple mappings\n",
    "matched_genes_fltr <- matched_genes[!(names(matched_genes) %in% del_genes)]\n",
    "gene_signatures <- unique(do.call(c, matched_genes_fltr))"
   ]
  },
  {
   "cell_type": "code",
   "execution_count": 23,
   "metadata": {},
   "outputs": [],
   "source": [
    "# All D0 samples\n",
    "ayeoh_fltr <- a_allps[\n",
    "  gene_signatures,\n",
    "  annot[colnames(a_allps), \"class_info\"] == \"D0\"\n",
    "]\n",
    "# ayeoh_fltr <- ayeoh_fltr[rowSums(ayeoh_fltr) != 0, ]"
   ]
  },
  {
   "cell_type": "code",
   "execution_count": 24,
   "metadata": {},
   "outputs": [],
   "source": [
    "# Select top 50 HVG from signatures\n",
    "ayeoh_fltr1 <- select_hvg(ayeoh_fltr, 50)"
   ]
  },
  {
   "cell_type": "code",
   "execution_count": 55,
   "metadata": {},
   "outputs": [],
   "source": [
    "# Heatmap settings\n",
    "heatmap_annot <- annot[, \"subtype\", drop = F]\n",
    "colnames(heatmap_annot) <- \"Subtype\"\n",
    "\n",
    "# set1_colours <- ggplot_palette(9)\n",
    "set1_colours <- brewer.pal(n = 9, name = \"Set1\")\n",
    "names(set1_colours) <- rev(levels(heatmap_annot$Subtype))\n",
    "annot_colours <- list(Subtype = set1_colours) "
   ]
  },
  {
   "cell_type": "code",
   "execution_count": 58,
   "metadata": {},
   "outputs": [],
   "source": [
    "yeoh2002_hclust <- pheatmap(\n",
    "  ayeoh_fltr1,\n",
    "  col = brewer.pal(n = 11, name = \"RdBu\"),\n",
    "  display_numbers = F, legend = T, border_color = NULL,\n",
    "  cluster_method = \"complete\", cluster_rows = T, cluster_cols = T,\n",
    "  clustering_distance_rows = \"euclidean\", clustering_distance_cols = \"euclidean\",\n",
    "  scale = \"row\", show_colnames = F, show_rownames = F,\n",
    "  annotation = heatmap_annot, annotation_colors = annot_colours,\n",
    "  fontsize = 12, cellwidth = 2.5, cellheight = 3.5,\n",
    "  filename = \"~/Dropbox/tmp/heatmap-yeoh_signature.pdf\"\n",
    ")"
   ]
  },
  {
   "cell_type": "code",
   "execution_count": 26,
   "metadata": {},
   "outputs": [],
   "source": [
    "# pid <- get_colnames(yeoh2002_hclust)\n",
    "# pid_subtype <- annot[pid, 'subtype']\n",
    "# names(pid_subtype) <- pid\n",
    "# which(names(pid_subtype) == 'P092_D0')\n",
    "# which(names(pid_subtype) == 'P203_D0')\n",
    "# pid_subtype[73:94]"
   ]
  },
  {
   "cell_type": "markdown",
   "metadata": {},
   "source": [
    "#### Confirm DUX4 genes"
   ]
  },
  {
   "cell_type": "code",
   "execution_count": 869,
   "metadata": {},
   "outputs": [],
   "source": [
    "# top50_hvg_sig <- get_rownames(all_signatures1)\n",
    "# dux4_genes <- top50_hvg_sig[26:32]\n",
    "# chisq_genes1 <- u95av2_annot[chisq_ps, \"Gene.Symbol\", drop = F]"
   ]
  },
  {
   "cell_type": "code",
   "execution_count": 874,
   "metadata": {},
   "outputs": [
    {
     "name": "stdout",
     "output_type": "stream",
     "text": [
      "[1] \"31892_at\" \"994_at\"   \"995_g_at\" \"37542_at\" \"36029_at\" \"41708_at\" \"1664_at\" \n",
      "[8] \"1731_at\"  \"33037_at\"\n"
     ]
    }
   ],
   "source": [
    "# dux4_ps <- rownames(chisq_genes1)[chisq_genes1$Gene.Symbol %in% dux4_genes]\n",
    "# print(dux4_ps)"
   ]
  },
  {
   "cell_type": "code",
   "execution_count": 886,
   "metadata": {},
   "outputs": [],
   "source": [
    "# rpath <- \"data/yeoh_2002/README/chi_square_probesets/novel.txt\"\n",
    "# novel_ps <- read.table(\n",
    "#   rpath, sep = \"\\t\", row.names = 2,\n",
    "#   stringsAsFactors = F, quote = \"\",\n",
    "# )"
   ]
  },
  {
   "cell_type": "markdown",
   "metadata": {},
   "source": [
    "#### Plot: UMAP"
   ]
  },
  {
   "cell_type": "code",
   "execution_count": 44,
   "metadata": {
    "scrolled": true
   },
   "outputs": [
    {
     "data": {
      "image/png": "[encoded data removed]",
      "text/plain": [
       "plot without title"
      ]
     },
     "metadata": {},
     "output_type": "display_data"
    }
   ],
   "source": [
    "umap_obj <- umap(t(ayeoh_fltr1))\n",
    "umap_ayeoh_fltr <- plot_umap(\n",
    "  umap_obj, annot,\n",
    "  cex = 1.5, alpha = .7, color = 'subtype'\n",
    ") +\n",
    "  labs(col = \"subtype\")\n",
    "\n",
    "wpath <- \"~/Dropbox/temp/umap-yeoh_signature.pdf\"\n",
    "# ggsave(wpath, umap_ayeoh_fltr, width = 6, height = 3)\n",
    "\n",
    "umap_ayeoh_fltr"
   ]
  },
  {
   "cell_type": "markdown",
   "metadata": {},
   "source": [
    "#### Identify DUX4 patients"
   ]
  },
  {
   "cell_type": "code",
   "execution_count": 45,
   "metadata": {},
   "outputs": [
    {
     "name": "stdout",
     "output_type": "stream",
     "text": [
      " [1] \"P060_D0\" \"P063_D0\" \"P071_D0\" \"P073_D0\" \"P076_D0\" \"P077_D0\" \"P083_D0\"\n",
      " [8] \"P087_D0\" \"P090_D0\" \"P092_D0\" \"P105_D0\" \"P108_D0\" \"P111_D0\" \"P123_D0\"\n",
      "[15] \"P143_D0\" \"P173_D0\" \"P174_D0\" \"P177_D0\" \"P201_D0\" \"P203_D0\" \"P212_D0\"\n",
      "[22] \"P215_D0\"\n"
     ]
    }
   ],
   "source": [
    "# DUX4 cluster (w/ E2A-PBX1)\n",
    "z_umap <- umap_obj$layout\n",
    "others_cluster <- z_umap[z_umap[, 2] > 4, ]\n",
    "\n",
    "subtype_others_cluster <- annot[rownames(others_cluster), , drop = F]\n",
    "dux4_subtype <- subtype_others_cluster[\n",
    "  subtype_others_cluster$subtype == \"Others\", , drop = F]\n",
    "sid_dux4_cluster <- rownames(dux4_subtype)\n",
    "print(sid_dux4_cluster)"
   ]
  },
  {
   "cell_type": "code",
   "execution_count": 284,
   "metadata": {},
   "outputs": [
    {
     "data": {
      "text/html": [
       "<ol class=list-inline>\n",
       "\t<li>'P092_D0'</li>\n",
       "\t<li>'P108_D0'</li>\n",
       "\t<li>'P060_D0'</li>\n",
       "\t<li>'P212_D0'</li>\n",
       "\t<li>'P105_D0'</li>\n",
       "\t<li>'P215_D0'</li>\n",
       "\t<li>'P173_D0'</li>\n",
       "\t<li>'P143_D0'</li>\n",
       "\t<li>'P174_D0'</li>\n",
       "\t<li>'P071_D0'</li>\n",
       "\t<li>'P201_D0'</li>\n",
       "\t<li>'P083_D0'</li>\n",
       "\t<li>'P076_D0'</li>\n",
       "\t<li>'P087_D0'</li>\n",
       "\t<li>'P063_D0'</li>\n",
       "\t<li>'P111_D0'</li>\n",
       "\t<li>'P073_D0'</li>\n",
       "\t<li>'P077_D0'</li>\n",
       "\t<li>'P090_D0'</li>\n",
       "\t<li>'P177_D0'</li>\n",
       "\t<li>'P203_D0'</li>\n",
       "</ol>\n"
      ],
      "text/latex": [
       "\\begin{enumerate*}\n",
       "\\item 'P092\\_D0'\n",
       "\\item 'P108\\_D0'\n",
       "\\item 'P060\\_D0'\n",
       "\\item 'P212\\_D0'\n",
       "\\item 'P105\\_D0'\n",
       "\\item 'P215\\_D0'\n",
       "\\item 'P173\\_D0'\n",
       "\\item 'P143\\_D0'\n",
       "\\item 'P174\\_D0'\n",
       "\\item 'P071\\_D0'\n",
       "\\item 'P201\\_D0'\n",
       "\\item 'P083\\_D0'\n",
       "\\item 'P076\\_D0'\n",
       "\\item 'P087\\_D0'\n",
       "\\item 'P063\\_D0'\n",
       "\\item 'P111\\_D0'\n",
       "\\item 'P073\\_D0'\n",
       "\\item 'P077\\_D0'\n",
       "\\item 'P090\\_D0'\n",
       "\\item 'P177\\_D0'\n",
       "\\item 'P203\\_D0'\n",
       "\\end{enumerate*}\n"
      ],
      "text/markdown": [
       "1. 'P092_D0'\n",
       "2. 'P108_D0'\n",
       "3. 'P060_D0'\n",
       "4. 'P212_D0'\n",
       "5. 'P105_D0'\n",
       "6. 'P215_D0'\n",
       "7. 'P173_D0'\n",
       "8. 'P143_D0'\n",
       "9. 'P174_D0'\n",
       "10. 'P071_D0'\n",
       "11. 'P201_D0'\n",
       "12. 'P083_D0'\n",
       "13. 'P076_D0'\n",
       "14. 'P087_D0'\n",
       "15. 'P063_D0'\n",
       "16. 'P111_D0'\n",
       "17. 'P073_D0'\n",
       "18. 'P077_D0'\n",
       "19. 'P090_D0'\n",
       "20. 'P177_D0'\n",
       "21. 'P203_D0'\n",
       "\n",
       "\n"
      ],
      "text/plain": [
       " [1] \"P092_D0\" \"P108_D0\" \"P060_D0\" \"P212_D0\" \"P105_D0\" \"P215_D0\" \"P173_D0\"\n",
       " [8] \"P143_D0\" \"P174_D0\" \"P071_D0\" \"P201_D0\" \"P083_D0\" \"P076_D0\" \"P087_D0\"\n",
       "[15] \"P063_D0\" \"P111_D0\" \"P073_D0\" \"P077_D0\" \"P090_D0\" \"P177_D0\" \"P203_D0\""
      ]
     },
     "metadata": {},
     "output_type": "display_data"
    }
   ],
   "source": [
    "# Colnames from hclust\n",
    "hclust_colnames <- get_colnames(yeoh2002_hclust)\n",
    "sid_hclust <- hclust_colnames[73:94]\n",
    "sid_dux4_hclust <- sid_hclust[annot[sid_hclust, \"subtype\"] == 'Others']\n",
    "sid_dux4_hclust"
   ]
  },
  {
   "cell_type": "code",
   "execution_count": 286,
   "metadata": {},
   "outputs": [
    {
     "name": "stdout",
     "output_type": "stream",
     "text": [
      "[1] 22\n",
      "[1] 21\n",
      " [1] \"P060_D0\" \"P063_D0\" \"P071_D0\" \"P073_D0\" \"P076_D0\" \"P077_D0\" \"P083_D0\"\n",
      " [8] \"P087_D0\" \"P090_D0\" \"P092_D0\" \"P105_D0\" \"P108_D0\" \"P111_D0\" \"P143_D0\"\n",
      "[15] \"P173_D0\" \"P174_D0\" \"P177_D0\" \"P201_D0\" \"P203_D0\" \"P212_D0\" \"P215_D0\"\n"
     ]
    }
   ],
   "source": [
    "print(length(sid_dux4_cluster))\n",
    "print(length(sid_dux4_hclust))\n",
    "\n",
    "sid_dux4_d0 <- intersect(sid_dux4_cluster, sid_dux4_hclust)\n",
    "sid_dux4_d8 <- paste0(substring(sid_dux4_d0, 1, 4), \"_D8\")\n",
    "sid_dux4 <- c(sid_dux4_d0, sid_dux4_d8)\n",
    "print(sid_dux4_d0)"
   ]
  },
  {
   "cell_type": "markdown",
   "metadata": {},
   "source": [
    "### Identify TEL-AML1-like patients"
   ]
  },
  {
   "cell_type": "code",
   "execution_count": 105,
   "metadata": {},
   "outputs": [],
   "source": [
    "z_umap <- umap_obj$layout\n",
    "# TEL-AML1 cluster\n",
    "telaml1_cluster <- z_umap[z_umap[, 2] < -5, ]\n",
    "subtype_telaml1_cluster <- annot[rownames(telaml1_cluster), \"subtype\", drop = F]\n",
    "telaml1_like <- subtype_telaml1_cluster[\n",
    "  subtype_telaml1_cluster$subtype == \"Others\", , drop = F]\n",
    "sid_telaml1_like_d0 <- rownames(telaml1_like)"
   ]
  },
  {
   "cell_type": "code",
   "execution_count": 95,
   "metadata": {},
   "outputs": [],
   "source": [
    "# Order of PID from hierarchical clustering\n",
    "ordered_colnames <- annot[get_colnames(yeoh2002_hclust), \"subtype\"]\n",
    "names(ordered_colnames) <- get_colnames(yeoh2002_hclust)\n",
    "sid_telaml1_hclust <- names(ordered_colnames)[95:145]\n",
    "\n",
    "# All the patients present in the UMAP cluster cluster together in hclust\n",
    "# sum(sid_telaml1_like %in% sid_telaml1_hclust)\n",
    "# length(sid_telaml1_like)"
   ]
  },
  {
   "cell_type": "markdown",
   "metadata": {},
   "source": [
    "#### Identify BCR-ABL-like patients"
   ]
  },
  {
   "cell_type": "code",
   "execution_count": 54,
   "metadata": {},
   "outputs": [],
   "source": [
    "# Naive row-wise two-sample t-test for every probe\n",
    "# Does a t-test between every row of matrices a and b\n",
    "# Arguments: Dataframe with both clases, size of class A, ...\n",
    "#' @param paired logical indicating whether X contains paired data or not\n",
    "calc_univariate <- function(\n",
    "  FUN, X, Y = NULL, n = NULL, paired = FALSE, \n",
    "  flag = \"p.value\"\n",
    ") {\n",
    "  if (paired) {\n",
    "    # Y and n can be both NULL    \n",
    "    n <- ncol(X) / 2\n",
    "  }\n",
    "  \n",
    "  if (!is.null(Y)){\n",
    "    if (!is.data.frame(X) | !is.data.frame(Y))\n",
    "      stop(\"Type error: Both X and Y have to be of class data.frame.\")\n",
    "    list_htest <- mapply(FUN, data.frame(t(X)), data.frame(t(Y)), SIMPLIFY = F)\n",
    "  } else if(!is.null(n)) {\n",
    "    print(n)\n",
    "    list_htest <- apply(\n",
    "      X, 1,\n",
    "      function(x) FUN(x[1:n], x[-(1:n)], paired = paired)\n",
    "    )\n",
    "  } else {\n",
    "    stop(\"If paired is FALSE either Y or n must be provided.\")   \n",
    "  }\n",
    "  \n",
    "  if (flag == \"p.value\") {\n",
    "    return(sapply(list_htest, function(obj) obj$p.value))\n",
    "  } else if (flag == \"statistic\") {\n",
    "    return(sapply(list_htest, function(obj) obj$statistic))\n",
    "  } else {\n",
    "    return(list_htest)\n",
    "  }\n",
    "}\n"
   ]
  },
  {
   "cell_type": "code",
   "execution_count": 202,
   "metadata": {},
   "outputs": [],
   "source": [
    "# # Remove batch effect ps\n",
    "# d0_fltr <- data[\n",
    "#   !(rownames(data) %in% batch_ps),\n",
    "#   Y[colnames(data), \"class_info\"] == \"D0\"\n",
    "# ]\n",
    "\n",
    "# ALPHA <- .01\n",
    "# M <- 50\n",
    "# # Feature selection: For each of the 6 subtypes\n",
    "# all_ps <- data.frame()\n",
    "# for (subtype in subtypes6) {\n",
    "#   idx_subtype <- Y[colnames(d0_fltr), \"subtype\"] == subtype\n",
    "#   d0_subtype <- d0_fltr[, idx_subtype]\n",
    "#   d0_rest <- d0_fltr[, !idx_subtype]\n",
    "#   row_pvalue <- calc_univariate(wilcox.test, d0_subtype, d0_rest)\n",
    "  \n",
    "#   idx_num <- which(rank(row_pvalue) <= M)\n",
    "#   sig_ps <- rownames(d0_fltr)[idx_num] # OPTION: Top M\n",
    "# #   sig_ps <- rownames(d0_fltr)[row_pvalue < ALPHA]   # OPTION: pvalue\n",
    "  \n",
    "#   subtype_ps <- data.frame(probesets = sig_ps, subtype = subtype)\n",
    "#   all_ps <- rbind(all_ps, subtype_ps)\n",
    "# }\n",
    "# all_ps$probesets <- as.character(all_ps$probesets)"
   ]
  },
  {
   "cell_type": "code",
   "execution_count": 192,
   "metadata": {},
   "outputs": [],
   "source": [
    "# ps_bcrabl <- all_ps$probesets[all_ps$subtype == \"BCR-ABL\"] # OPTION!\n",
    "# d0_fltr1 <- d0_fltr[ps_bcrabl, ]\n",
    "# d0_fltr2 <- select_hvg(d0_fltr1, 150)\n",
    "\n",
    "# heatmap_annot1 <- Y[, c(\"subtype\", \"batch_info\", \"label\")]\n",
    "# heatmap_annot1$batch_info <- as.numeric(as.character(heatmap_annot1$batch_info))\n",
    "# heatmap_annot1$label <- as.numeric(as.character(heatmap_annot1$label))\n",
    "\n",
    "# hm <- pheatmap(\n",
    "#   d0_fltr1,\n",
    "#   col = brewer.pal(n = 11, name = \"RdBu\"),\n",
    "# #   col = brewer.pal(9, \"Blues\"),\n",
    "#   display_numbers = F, legend = T, border_color = NULL,\n",
    "#   cluster_method = \"complete\", cluster_rows = T, cluster_cols = T,\n",
    "#   clustering_distance_rows = \"euclidean\", clustering_distance_cols = \"euclidean\",\n",
    "# #   cutree_cols = 4,\n",
    "#   scale = \"row\", show_colnames = T, show_rownames = F,\n",
    "#   annotation_col = heatmap_annot1,\n",
    "#   fontsize = 6, cellwidth = 7, cellheight = 10,\n",
    "#   filename = \"~/Dropbox/temp/heatmap-d0_ttest_bcrabl.pdf\"\n",
    "# )"
   ]
  },
  {
   "cell_type": "markdown",
   "metadata": {},
   "source": [
    "### Identify BCR-ABL-like patients (high expression genes)"
   ]
  },
  {
   "cell_type": "code",
   "execution_count": 506,
   "metadata": {},
   "outputs": [],
   "source": [
    "# Remove batch effect ps\n",
    "d0_fltr <- data[\n",
    "  !(rownames(data) %in% batch_ps),\n",
    "  Y[colnames(data), \"class_info\"] == \"D0\"\n",
    "]\n",
    "\n",
    "# Feature selection: BCR-ABL only\n",
    "idx_subtype <- Y[colnames(d0_fltr), \"subtype\"] == \"BCR-ABL\"\n",
    "d0_subtype <- d0_fltr[, idx_subtype]\n",
    "d0_rest <- d0_fltr[, !idx_subtype]\n",
    "row_pvalue <- calc_univariate(wilcox.test, d0_subtype, d0_rest)\n",
    "names(row_pvalue) <- substring(names(row_pvalue), 2)\n",
    "\n",
    "# Select highly expressed probesets in BCR-ABL\n",
    "EXPR <- 6\n",
    "mu_bcrabl <- rowMeans(d0_subtype)\n",
    "ps_high <- names(mu_bcrabl)[mu_bcrabl > EXPR]\n",
    "pvalue_fltr <- row_pvalue[ps_high]\n",
    "\n",
    "M <- 300\n",
    "ps_bcrabl <- names(pvalue_fltr)[rank(pvalue_fltr) <= M]"
   ]
  },
  {
   "cell_type": "code",
   "execution_count": 512,
   "metadata": {},
   "outputs": [],
   "source": [
    "# Wilcoxon - Top 300 pvalue\n",
    "d0_fltr_heg <- d0_fltr[ps_bcrabl, ]\n",
    "pheatmap(\n",
    "  d0_fltr_heg,\n",
    "  col = brewer.pal(n = 11, name = \"RdBu\"),\n",
    "#   col = brewer.pal(9, \"Blues\"),\n",
    "  display_numbers = F, legend = T, border_color = NULL,\n",
    "  cluster_method = \"complete\", cluster_rows = T, cluster_cols = T,\n",
    "  clustering_distance_rows = \"euclidean\", clustering_distance_cols = \"euclidean\",\n",
    "#   cutree_cols = 4,\n",
    "  scale = \"row\", show_colnames = T, show_rownames = F,\n",
    "  annotation_col = heatmap_annot1,\n",
    "  fontsize = 6, cellwidth = 7, cellheight = 2,\n",
    "  filename = \"~/Dropbox/temp/heatmap-heg_wilcox300_bcrabl.pdf\"\n",
    ")"
   ]
  },
  {
   "cell_type": "code",
   "execution_count": 463,
   "metadata": {
    "scrolled": true
   },
   "outputs": [],
   "source": [
    "# d0_fltr2 <- select_hvg(d0_fltr1, 150)\n",
    "\n",
    "obj <- umap(t(d0_fltr_heg))\n",
    "ax_umap <- plot_umap(obj, Y, col = \"subtype\")\n",
    "wpath <- \"~/Dropbox/temp/umap-heg_wilcox300_bcrabl.pdf\"\n",
    "ggsave(wpath, ax_umap, width = 7, height = 4)"
   ]
  },
  {
   "cell_type": "code",
   "execution_count": 464,
   "metadata": {
    "scrolled": true
   },
   "outputs": [
    {
     "data": {
      "image/png": "[encoded data removed]",
      "text/plain": [
       "plot without title"
      ]
     },
     "metadata": {},
     "output_type": "display_data"
    }
   ],
   "source": [
    "THRESHOLD1 <- -2.4\n",
    "THRESHOLD2 <- -0.3\n",
    "\n",
    "ax_umap +\n",
    "  geom_vline(xintercept = THRESHOLD1) +\n",
    "  geom_hline(yintercept = THRESHOLD2)"
   ]
  },
  {
   "cell_type": "code",
   "execution_count": 465,
   "metadata": {},
   "outputs": [],
   "source": [
    "z_umap <- obj$layout\n",
    "sid <- rownames(z_umap)[z_umap[, 1] < THRESHOLD1 & z_umap[, 2] < THRESHOLD2]\n",
    "sid_bcrabl_like_d0 <- sid[Y[sid, \"subtype\"] == \"Others\"]\n",
    "sid_bcrabl_like_d8 <- paste0(substring(sid_bcrabl_like_d0, 1, 4), \"_D8\")\n",
    "sid_bcrabl_like <- c(sid_bcrabl_like_d0, sid_bcrabl_like_d8)"
   ]
  },
  {
   "cell_type": "markdown",
   "metadata": {},
   "source": [
    "#### Identify TEL-AML1 outlier"
   ]
  },
  {
   "cell_type": "code",
   "execution_count": 470,
   "metadata": {},
   "outputs": [],
   "source": [
    "# Remove batch effect ps\n",
    "d0_fltr <- data[\n",
    "  !(rownames(data) %in% batch_ps),\n",
    "  Y[colnames(data), \"class_info\"] == \"D0\"\n",
    "]\n",
    "\n",
    "ALPHA <- .01\n",
    "M <- 50\n",
    "# Feature selection: For each of the 6 subtypes\n",
    "all_ps <- data.frame()\n",
    "for (subtype in subtypes6) {\n",
    "  idx_subtype <- Y[colnames(d0_fltr), \"subtype\"] == subtype\n",
    "  d0_subtype <- d0_fltr[, idx_subtype]\n",
    "  d0_rest <- d0_fltr[, !idx_subtype]\n",
    "  row_pvalue <- calc_univariate(wilcox.test, d0_subtype, d0_rest)\n",
    "  \n",
    "  idx_num <- which(rank(row_pvalue) <= M)\n",
    "  sig_ps <- rownames(d0_fltr)[idx_num] # OPTION: Top M\n",
    "#   sig_ps <- rownames(d0_fltr)[row_pvalue < ALPHA]   # OPTION: pvalue\n",
    "  \n",
    "  subtype_ps <- data.frame(probesets = sig_ps, subtype = subtype)\n",
    "  all_ps <- rbind(all_ps, subtype_ps)\n",
    "}\n",
    "all_ps$probesets <- as.character(all_ps$probesets)"
   ]
  },
  {
   "cell_type": "code",
   "execution_count": 478,
   "metadata": {},
   "outputs": [],
   "source": [
    "d0_fltr1 <- d0_fltr[all_ps$probesets, ]\n",
    "umap_obj <- umap(t(d0_fltr1))\n",
    "ax_umap <- plot_umap(umap_obj, Y, col = 'subtype')\n",
    "ggsave('~/Dropbox/temp/umap-d0_wilcox.pdf', ax_umap, width = 7, height = 4)"
   ]
  },
  {
   "cell_type": "code",
   "execution_count": 479,
   "metadata": {},
   "outputs": [
    {
     "data": {
      "text/html": [
       "'P023_D0'"
      ],
      "text/latex": [
       "'P023\\_D0'"
      ],
      "text/markdown": [
       "'P023_D0'"
      ],
      "text/plain": [
       "[1] \"P023_D0\""
      ]
     },
     "metadata": {},
     "output_type": "display_data"
    }
   ],
   "source": [
    "z_umap <- umap_obj$layout\n",
    "sid <- rownames(z_umap)[z_umap[, 1] > -1]\n",
    "sid_outlier <- sid[Y[sid, 'subtype'] == 'TEL-AML1']\n",
    "sid_outlier"
   ]
  },
  {
   "cell_type": "markdown",
   "metadata": {},
   "source": [
    "#### Identify BCR-ABL-like patients"
   ]
  },
  {
   "cell_type": "code",
   "execution_count": 356,
   "metadata": {},
   "outputs": [
    {
     "data": {
      "image/png": "[encoded data removed]",
      "text/plain": [
       "plot without title"
      ]
     },
     "metadata": {},
     "output_type": "display_data"
    }
   ],
   "source": [
    "# M <- 300\n",
    "# ps_bcrabl <- names(row_pvalue)[rank(row_pvalue) <= M]\n",
    "# d0_fltr1 <- d0_fltr[ps_bcrabl, ]\n",
    "\n",
    "# hmap <- pheatmap(\n",
    "#   d0_fltr1,\n",
    "#   col = brewer.pal(n = 11, name = \"RdBu\"),\n",
    "# #   col = brewer.pal(9, \"Blues\"),\n",
    "#   display_numbers = F, legend = T, border_color = NULL,\n",
    "#   cluster_method = \"complete\", cluster_rows = T, cluster_cols = T,\n",
    "#   clustering_distance_rows = \"euclidean\", clustering_distance_cols = \"euclidean\",\n",
    "# #   cutree_cols = 4,\n",
    "#   scale = \"row\", show_colnames = T, show_rownames = F,\n",
    "#   annotation_col = heatmap_annot1,\n",
    "#   fontsize = 6, cellwidth = 7, cellheight = 3,\n",
    "  \n",
    "# )"
   ]
  },
  {
   "cell_type": "code",
   "execution_count": 394,
   "metadata": {},
   "outputs": [
    {
     "data": {
      "image/png": "[encoded data removed]",
      "text/plain": [
       "plot without title"
      ]
     },
     "metadata": {},
     "output_type": "display_data"
    }
   ],
   "source": [
    "obj <- umap(t(d0_fltr1))\n",
    "ax_umap <- plot_umap(obj, Y, cex = 1, col = \"subtype\")\n",
    "\n",
    "THRESHOLD <- -2.45\n",
    "ax_umap + geom_hline(yintercept = THRESHOLD)\n",
    "\n",
    "sid_fltr <- rownames(obj$layout)[obj$layout[, 2] < THRESHOLD]\n",
    "sid_bcrabl_like_d0 <- sid_fltr[Y[sid_fltr, \"subtype\"] == \"Others\"]\n",
    "\n",
    "hmap_colnames <- get_colnames(hmap)\n",
    "# which(hmap_colnames %in% sid_others)\n",
    "sid_bcrabl_like_d8 <- paste0(substring(sid_bcrabl_like_d0, 1, 4), \"_D8\")\n",
    "sid_bcrabl_like_all <- c(sid_bcrabl_like_d0, sid_bcrabl_like_d8)"
   ]
  },
  {
   "cell_type": "code",
   "execution_count": 400,
   "metadata": {},
   "outputs": [
    {
     "data": {
      "image/png": "[encoded data removed]",
      "text/plain": [
       "plot without title"
      ]
     },
     "metadata": {},
     "output_type": "display_data"
    }
   ],
   "source": [
    "# Plot UMAP of BCR-ABL and BCR-ABL-like\n",
    "idx_bcrabl_d0 <- Y[colnames(data), \"subtype\"] == \"BCR-ABL\" &\n",
    "  Y[colnames(data), \"class_info\"] == \"D0\"\n",
    "\n",
    "sid_bcrabl_d0 <- colnames(data)[idx_bcrabl_d0]\n",
    "sid_d0 <- c(sid_bcrabl_d0, sid_bcrabl_like_d0)\n",
    "\n",
    "all_bcrabl <- select_hvg(data[, sid_d0], 300)\n",
    "obj <- umap(t(all_bcrabl))\n",
    "# plot_umap(obj, Y, col = \"subtype\")\n",
    "plot_pca(all_bcrabl, Y, col = \"subtype\")"
   ]
  },
  {
   "cell_type": "markdown",
   "metadata": {},
   "source": [
    "#### Use BCR-ABL signature from Yeoh et al. (2002)"
   ]
  },
  {
   "cell_type": "code",
   "execution_count": 76,
   "metadata": {},
   "outputs": [],
   "source": [
    "PS_RPATH1 <- \"data/yeoh_2002/README/chi_square_probesets/BCR-ABL.txt\"\n",
    "PS_RPATH2 <- \"../info/microarray/HG-U95Av2/HG_U95Av2-GEO_annot.tsv\"\n",
    "# Gene signatures selected by chi2 feature selection in Yeoh (2002)\n",
    "ps_bcrabl_info <- read.table(\n",
    "  PS_RPATH1, sep = \"\\t\", header = F,\n",
    "  quote = \"\", na.strings = \" \", stringsAsFactors = F\n",
    ")\n",
    "# Affy95 probeset annotations\n",
    "u95av2_annot <- read.table(\n",
    "  PS_RPATH2, sep = \"\\t\", header = T,\n",
    "  row.names = 1, stringsAsFactors = F\n",
    ")"
   ]
  },
  {
   "cell_type": "code",
   "execution_count": null,
   "metadata": {},
   "outputs": [],
   "source": [
    "# Matched annotations\n",
    "gene_symbols <- affy2id(yeoh_unfltr, NAME_GPL570, ret.annot = T)"
   ]
  },
  {
   "cell_type": "code",
   "execution_count": 91,
   "metadata": {},
   "outputs": [],
   "source": [
    "ps_bcrabl <- ps_bcrabl_info[, 2]\n",
    "genes_bcrabl <- u95av2_annot[ps_bcrabl, \"Gene.Symbol\"]\n",
    "genes_bcrabl_1 <- genes_bcrabl[genes_bcrabl %in% gene_symbols]\n",
    "\n",
    "# Remove batch effect genes\n",
    "batch_genes <- gene_symbols[batch_ps]\n",
    "batch_genes <- batch_genes[!(is.na(batch_genes))]\n",
    "nonbatch_genes <- setdiff(rownames(ann_yeoh), batch_genes)\n",
    "genes_bcrabl_2 <- setdiff(genes_bcrabl_1, nonbatch_genes)"
   ]
  },
  {
   "cell_type": "code",
   "execution_count": 106,
   "metadata": {},
   "outputs": [],
   "source": [
    "hmap <- pheatmap(\n",
    "  ann_yeoh[genes_bcrabl_2, endsWith(colnames(ann_yeoh), \"_D0\")],\n",
    "  col = brewer.pal(n = 11, name = \"RdBu\"),\n",
    "#   col = brewer.pal(9, \"Blues\"),\n",
    "  display_numbers = F, legend = T, border_color = NULL,\n",
    "  cluster_method = \"complete\", cluster_rows = T, cluster_cols = T,\n",
    "  clustering_distance_rows = \"euclidean\", clustering_distance_cols = \"euclidean\",\n",
    "#   cutree_cols = 4,\n",
    "  scale = \"row\", show_colnames = T, show_rownames = F,\n",
    "  annotation_col = heatmap_annot1,\n",
    "  fontsize = 6, cellwidth = 7, cellheight = 40,\n",
    "  filename = \"~/Dropbox/temp/heatmap-d0_bcrabl_yeoh1.pdf\"\n",
    ")"
   ]
  },
  {
   "cell_type": "markdown",
   "metadata": {},
   "source": [
    "# Latest"
   ]
  },
  {
   "cell_type": "code",
   "execution_count": 34,
   "metadata": {},
   "outputs": [],
   "source": [
    "# exclude batch effect genes\n",
    "d0_wo_batch <- data[\n",
    "  !(rownames(data) %in% batch_ps),\n",
    "  annot[colnames(data), 'class_info'] == 'D0'\n",
    "]\n",
    "d0_others <- d0_wo_batch[\n",
    "  , annot[colnames(d0_wo_batch), 'subtype'] == 'Others']\n",
    "\n",
    "hvg <- select_hvg(d0_others, 300, ret.genes = T)\n",
    "umap_obj <- umap(t(d0_wo_batch[hvg, ]))\n",
    "ax <- plot_umap(umap_obj, annot, color = 'subtype')\n",
    "ggsave('~/Dropbox/tmp/umap-others_hvg500.pdf', ax,\n",
    "       width = 9, height = 5)\n",
    "# plot_pca(d0_wo_batch[hvg, ], annot, color = 'subtype')"
   ]
  },
  {
   "cell_type": "markdown",
   "metadata": {},
   "source": [
    "## Plot: Boxplots"
   ]
  },
  {
   "cell_type": "code",
   "execution_count": 102,
   "metadata": {},
   "outputs": [],
   "source": [
    "#' Plots boxplot of features, p_rem WITHOUT global ERM\n",
    "#' Provides p-values from wilcoxon rank-sum test\n",
    "plot_boxplots <- function(X_y) {\n",
    "  FEAT_ORDER <- c(\n",
    "    \"erm1_ratio2\", \"l2norm_ratio2\", \"angle_d0d8_d0normal\",\n",
    "    \"log_mrd\", \"p_rem\"\n",
    "  )\n",
    "  FEAT_LABS <- c(\n",
    "    \"'ERM Ratio'\", \"'ARM Ratio'\", \"theta\",\n",
    "    \"log[10](MRD)\", \"paste('P(Remission|', bold(x), ', s)')\"\n",
    "  )\n",
    "  \n",
    "  long_X_y <- melt(X_y, id = \"label\", variable.name = \"feature\")\n",
    "  # Reorder levels and label features\n",
    "  long_X_y$feature <- factor(\n",
    "    long_X_y$feature,\n",
    "    levels = FEAT_ORDER,\n",
    "    labels = FEAT_LABS\n",
    "  )\n",
    "  levels(long_X_y$label) <- c(\"Remission\", \"Relapse\")\n",
    "  \n",
    "  ax_jitter <- ggplot(\n",
    "    long_X_y,\n",
    "    aes(x = label, y = value)\n",
    "  ) +\n",
    "    geom_boxplot(\n",
    "      aes(group = label),\n",
    "      col = \"black\", alpha = 0,\n",
    "      show.legend = F\n",
    "    ) +\n",
    "    geom_point(\n",
    "      aes(fill = label),\n",
    "      position = position_jitterdodge(jitter.width = 1),\n",
    "      cex = 2.5, pch = 21, alpha = 1,\n",
    "      col = \"black\", show.legend = F\n",
    "    ) +\n",
    "    scale_fill_manual(values = COL_LABEL) +\n",
    "    facet_wrap(\n",
    "      ~feature,\n",
    "      nrow = 1, scales = \"free\",\n",
    "      labeller = label_parsed\n",
    "    ) +\n",
    "    theme(\n",
    "      axis.title.x = element_blank(),\n",
    "      axis.text.x = element_text(angle = 15),\n",
    "      axis.title.y = element_blank(),\n",
    "      legend.position = \"none\"\n",
    "    )\n",
    "  \n",
    "  # Jitter plot: p-value label\n",
    "  # Both group sizes must be > 1\n",
    "  if (length(table(X_y$label)) > 1 && min(table(X_y$label)) > 1) {\n",
    "    p_labs <- sapply(\n",
    "      FEAT_ORDER,\n",
    "      function(idx) {\n",
    "        list_feat <- split(X_y[, idx], X_y$label)\n",
    "        tryCatch(\n",
    "          {\n",
    "            htest <- wilcox.test(\n",
    "              list_feat[[1]], list_feat[[2]], exact  = T\n",
    "            )\n",
    "            sprintf(\"p = %.3f\", htest$p.value)\n",
    "          },\n",
    "          error = function(err) {\n",
    "            print(err)\n",
    "            return(err)\n",
    "          }\n",
    "        )\n",
    "      }\n",
    "    )\n",
    "    \n",
    "    ann_text <- data.frame(\n",
    "      feature = factor(\n",
    "        FEAT_ORDER,\n",
    "        levels = FEAT_ORDER,\n",
    "        labels = FEAT_LABS\n",
    "      ),\n",
    "      value = c(\n",
    "        max(X_y[FEAT_ORDER[1]]),\n",
    "        max(X_y[FEAT_ORDER[2]]),\n",
    "        min(X_y[FEAT_ORDER[3]]),        \n",
    "        min(X_y[FEAT_ORDER[4]]),\n",
    "        max(X_y[FEAT_ORDER[5]])\n",
    "      ),\n",
    "      lab = p_labs\n",
    "    )\n",
    "    ann_text <- na.omit(ann_text)\n",
    "    print(ann_text$feature)\n",
    "\n",
    "    ax_jitter <- ax_jitter +\n",
    "      geom_text(\n",
    "        data = ann_text,\n",
    "        aes(x = 1.5, y = value, label = lab),\n",
    "        size = 3, # colour = \"black\",\n",
    "        hjust = 0\n",
    "      )\n",
    "  }\n",
    "  \n",
    "  ax_jitter\n",
    "}"
   ]
  },
  {
   "cell_type": "markdown",
   "metadata": {},
   "source": [
    "### Evaluate with DUX4 (all train)"
   ]
  },
  {
   "cell_type": "code",
   "execution_count": 304,
   "metadata": {},
   "outputs": [
    {
     "name": "stdout",
     "output_type": "stream",
     "text": [
      "[1] \"No. of NaN values in log-fc = 0\"\n",
      "[1] \"No. of probesets excluded by expr threshold = 772\"\n",
      "[1] \"No. of features (p-value) = 2564\"\n",
      "[1] \"No. of features (log2-fc) = 679\"\n",
      "[1] \"No. of selected genes = \" \"660\"                     \n",
      "[1] \"No. of final genes = \" \"480\"                  \n",
      " [1] \"P060_D0\" \"P063_D0\" \"P071_D0\" \"P073_D0\" \"P076_D0\" \"P077_D0\" \"P083_D0\"\n",
      " [8] \"P087_D0\" \"P090_D0\" \"P092_D0\" \"P105_D0\" \"P108_D0\" \"P111_D0\" \"P143_D0\"\n",
      "[15] \"P173_D0\" \"P174_D0\" \"P177_D0\" \"P201_D0\" \"P203_D0\" \"P212_D0\" \"P215_D0\"\n",
      "[1] \"NO. OF SAMPLES IN CENTROID: 19\"\n"
     ]
    }
   ],
   "source": [
    "X_dux4 <- data[, sid_dux4]\n",
    "X_normal <- data[, sid_normal]\n",
    "dux4_pred <- predict_pipeline(\n",
    "  X_dux4, X_normal,\n",
    "  annot, yeoh_label,\n",
    "  batch_ps\n",
    ")"
   ]
  },
  {
   "cell_type": "code",
   "execution_count": 306,
   "metadata": {},
   "outputs": [
    {
     "name": "stderr",
     "output_type": "stream",
     "text": [
      "Warning message in wilcox.test.default(list_feat[[1]], list_feat[[2]], exact = T):\n",
      "“cannot compute exact p-value with ties”Warning message in wilcox.test.default(list_feat[[1]], list_feat[[2]], exact = T):\n",
      "“cannot compute exact p-value with ties”"
     ]
    },
    {
     "name": "stdout",
     "output_type": "stream",
     "text": [
      "[1] 'ERM Ratio'                           \n",
      "[2] 'ARM Ratio'                           \n",
      "[3] theta                                 \n",
      "[4] log[10](MRD)                          \n",
      "[5] paste('P(Remission|', bold(x), ', s)')\n",
      "5 Levels: 'ERM Ratio' 'ARM Ratio' theta ... paste('P(Remission|', bold(x), ', s)')\n"
     ]
    },
    {
     "data": {
      "image/png": "[encoded data removed]",
      "text/plain": [
       "plot without title"
      ]
     },
     "metadata": {},
     "output_type": "display_data"
    }
   ],
   "source": [
    "plot_boxplots(dux4_pred$X_y)"
   ]
  },
  {
   "cell_type": "code",
   "execution_count": 103,
   "metadata": {},
   "outputs": [],
   "source": [
    "#' Predict each subtype with train/test split\n",
    "#' ASSUME: sid_train and sid_test contain no patients with NA MRD values\n",
    "#' @param subtype string indicating subtype\n",
    "predict_pipeline_test <- function(\n",
    "  sid_subtype, X_normal,\n",
    "  metadata, metadata_mrd,\n",
    "  sid_train, sid_test,\n",
    "  batch_genes,\n",
    "  sid_remission, sid_normal, X\n",
    ") {  \n",
    "  sid_subtype_train <- intersect(sid_subtype, sid_train)\n",
    "  sid_subtype_test <- intersect(sid_subtype, sid_test)\n",
    "  \n",
    "  subtype_train <- X[, sid_train, drop = F]\n",
    "  subtype_test <- X[, sid_test, drop = F]\n",
    "  \n",
    "  ## Feature selection using train set\n",
    "  class_genes <- getLocalGenes(subtype_train, sid_remission)\n",
    "  selected_genes <- setdiff(class_genes, batch_genes)\n",
    "  \n",
    "  print(c(\"No. of class genes = \", length(class_genes)))\n",
    "  print(c(\"No. of selected genes = \", length(selected_genes)))\n",
    "  \n",
    "  # Subtype and normal samples\n",
    "  response <- t(X[selected_genes, sid_subtype, drop = F])\n",
    "  normal <- t(X[selected_genes, sid_normal, drop = F])\n",
    "  \n",
    "  # Compute features on both train and test\n",
    "  V <- compute_features(response, normal, sid_train, sid_remission)\n",
    "  V$mrd <- metadata_mrd[rownames(V), \"d33_mrd\"] # append column\n",
    "  \n",
    "  print(sid_subtype_train)\n",
    "  print(sid_subtype_test)\n",
    "  if (!(is_paired(sid_subtype_train)))\n",
    "    stop(\"sample ids are not paired\")\n",
    "  if (!(is_paired(sid_subtype_test)))\n",
    "    stop(\"sample ids are not paired\")\n",
    "  \n",
    "  pid_subtype_train <- unique(substring(sid_subtype_train, 1, 4))\n",
    "  pid_subtype_test <- unique(substring(sid_subtype_test, 1, 4))\n",
    "  \n",
    "  V_train <- V[pid_subtype_train, , drop = F ]\n",
    "  V_test <- V[pid_subtype_test, , drop = F ]\n",
    "  \n",
    "  obj_train <- predict_plot(\n",
    "    V_train, metadata,                             \n",
    "    bigpos_names = \"angle_d0d8_d0normal\",\n",
    "    smallpos_names = c(\"erm1_ratio2\", \"l2norm_ratio2\", \"mrd\")\n",
    "  )\n",
    "  \n",
    "  obj_test <- predict_plot(\n",
    "    V_train, metadata,                             \n",
    "    bigpos_names = \"angle_d0d8_d0normal\",\n",
    "    smallpos_names = c(\"erm1_ratio2\", \"l2norm_ratio2\", \"mrd\"),\n",
    "    V_test\n",
    "  )\n",
    "  \n",
    "  list(train = obj_train, test = obj_test)\n",
    "}"
   ]
  },
  {
   "cell_type": "markdown",
   "metadata": {},
   "source": [
    "#### Train: TEL-AML1, Test: TEL-AML1-like"
   ]
  },
  {
   "cell_type": "code",
   "execution_count": 145,
   "metadata": {},
   "outputs": [],
   "source": [
    "# Remove P095 which has NA MRD value\n",
    "sid_telaml1_like_d0 <- setdiff(sid_telaml1_like_d0, 'P095_D0')\n",
    "\n",
    "sid_telaml1_like_d8 <- sub(\"D0\", \"D8\", sid_telaml1_like_d0)\n",
    "sid_telaml1_like <- c(sid_telaml1_like_d0, sid_telaml1_like_d8)\n",
    "\n",
    "sid_telaml1 <- sid_alltrain_local[\n",
    "  annot[sid_alltrain_local, \"subtype\"] == \"TEL-AML1\"]\n",
    "sid_all <- c(sid_telaml1, sid_telaml1_like)\n",
    "sid_all <- sort_sid(sid_all)"
   ]
  },
  {
   "cell_type": "code",
   "execution_count": 146,
   "metadata": {},
   "outputs": [
    {
     "name": "stdout",
     "output_type": "stream",
     "text": [
      "[1] \"No. of NaN values in log-fc = 0\"\n",
      "[1] \"No. of probesets excluded by expr threshold = 710\"\n",
      "[1] \"No. of features (p-value) = 2765\"\n",
      "[1] \"No. of features (log2-fc) = 507\"\n",
      "[1] \"No. of class genes = \" \"505\"                  \n",
      "[1] \"No. of selected genes = \" \"371\"                     \n",
      " [1] \"P013_D0\" \"P014_D0\" \"P015_D0\" \"P016_D0\" \"P017_D0\" \"P018_D0\" \"P019_D0\"\n",
      " [8] \"P022_D0\" \"P023_D0\" \"P024_D0\" \"P025_D0\" \"P026_D0\" \"P027_D0\" \"P028_D0\"\n",
      "[15] \"P029_D0\" \"P031_D0\" \"P032_D0\" \"P033_D0\" \"P034_D0\" \"P035_D0\" \"P036_D0\"\n",
      "[22] \"P094_D0\" \"P099_D0\" \"P106_D0\" \"P120_D0\" \"P121_D0\" \"P126_D0\" \"P127_D0\"\n",
      "[29] \"P130_D0\" \"P135_D0\" \"P136_D0\" \"P147_D0\" \"P150_D0\" \"P156_D0\" \"P165_D0\"\n",
      "[36] \"P166_D0\" \"P171_D0\" \"P172_D0\" \"P187_D0\" \"P191_D0\" \"P197_D0\" \"P199_D0\"\n",
      "[43] \"P210_D0\" \"P213_D0\" \"P216_D0\"\n",
      "[1] \"NO. OF SAMPLES IN CENTROID: 29\"\n",
      " [1] \"P013_D0\" \"P014_D0\" \"P015_D0\" \"P016_D0\" \"P017_D0\" \"P018_D0\" \"P019_D0\"\n",
      " [8] \"P022_D0\" \"P023_D0\" \"P024_D0\" \"P025_D0\" \"P026_D0\" \"P027_D0\" \"P028_D0\"\n",
      "[15] \"P029_D0\" \"P031_D0\" \"P032_D0\" \"P033_D0\" \"P034_D0\" \"P035_D0\" \"P036_D0\"\n",
      "[22] \"P094_D0\" \"P099_D0\" \"P106_D0\" \"P120_D0\" \"P121_D0\" \"P127_D0\" \"P135_D0\"\n",
      "[29] \"P136_D0\" \"P147_D0\" \"P156_D0\" \"P165_D0\" \"P166_D0\" \"P172_D0\" \"P013_D8\"\n",
      "[36] \"P014_D8\" \"P015_D8\" \"P016_D8\" \"P017_D8\" \"P018_D8\" \"P019_D8\" \"P022_D8\"\n",
      "[43] \"P023_D8\" \"P024_D8\" \"P025_D8\" \"P026_D8\" \"P027_D8\" \"P028_D8\" \"P029_D8\"\n",
      "[50] \"P031_D8\" \"P032_D8\" \"P033_D8\" \"P034_D8\" \"P035_D8\" \"P036_D8\" \"P094_D8\"\n",
      "[57] \"P099_D8\" \"P106_D8\" \"P120_D8\" \"P121_D8\" \"P127_D8\" \"P135_D8\" \"P136_D8\"\n",
      "[64] \"P147_D8\" \"P156_D8\" \"P165_D8\" \"P166_D8\" \"P172_D8\"\n",
      " [1] \"P126_D0\" \"P130_D0\" \"P150_D0\" \"P171_D0\" \"P187_D0\" \"P191_D0\" \"P197_D0\"\n",
      " [8] \"P199_D0\" \"P210_D0\" \"P213_D0\" \"P216_D0\" \"P126_D8\" \"P130_D8\" \"P150_D8\"\n",
      "[15] \"P171_D8\" \"P187_D8\" \"P191_D8\" \"P197_D8\" \"P199_D8\" \"P210_D8\" \"P213_D8\"\n",
      "[22] \"P216_D8\"\n"
     ]
    }
   ],
   "source": [
    "X_normal <- data[, sid_normal]\n",
    "telaml1_like_test <- predict_pipeline_test(\n",
    "  sid_all,\n",
    "  X_normal, annot, yeoh_label,\n",
    "  sid_telaml1, sid_telaml1_like,\n",
    "  batch_ps,\n",
    "  sid_remission, sid_normal, data\n",
    ")"
   ]
  },
  {
   "cell_type": "code",
   "execution_count": 149,
   "metadata": {
    "scrolled": true
   },
   "outputs": [],
   "source": [
    "ax <- telaml1_like_test$test$plot\n",
    "wpath <- '~/Dropbox/tmp/features_test-telaml1_like.pdf'\n",
    "ggsave(wpath, ax, width = 8, height = 2.5)"
   ]
  },
  {
   "cell_type": "markdown",
   "metadata": {},
   "source": [
    "#### All train: TEL-AML1 & TEL-AML-like"
   ]
  },
  {
   "cell_type": "code",
   "execution_count": 150,
   "metadata": {},
   "outputs": [
    {
     "name": "stdout",
     "output_type": "stream",
     "text": [
      "[1] \"No. of NaN values in log-fc = 0\"\n",
      "[1] \"No. of probesets excluded by expr threshold = 733\"\n",
      "[1] \"No. of features (p-value) = 2663\"\n",
      "[1] \"No. of features (log2-fc) = 458\"\n",
      "[1] \"No. of selected genes = \" \"458\"                     \n",
      "[1] \"No. of final genes = \" \"349\"                  \n",
      " [1] \"P013_D0\" \"P014_D0\" \"P015_D0\" \"P016_D0\" \"P017_D0\" \"P018_D0\" \"P019_D0\"\n",
      " [8] \"P022_D0\" \"P023_D0\" \"P024_D0\" \"P025_D0\" \"P026_D0\" \"P027_D0\" \"P028_D0\"\n",
      "[15] \"P029_D0\" \"P031_D0\" \"P032_D0\" \"P033_D0\" \"P034_D0\" \"P035_D0\" \"P036_D0\"\n",
      "[22] \"P094_D0\" \"P099_D0\" \"P106_D0\" \"P120_D0\" \"P121_D0\" \"P126_D0\" \"P127_D0\"\n",
      "[29] \"P130_D0\" \"P135_D0\" \"P136_D0\" \"P147_D0\" \"P150_D0\" \"P156_D0\" \"P165_D0\"\n",
      "[36] \"P166_D0\" \"P171_D0\" \"P172_D0\" \"P187_D0\" \"P191_D0\" \"P197_D0\" \"P199_D0\"\n",
      "[43] \"P210_D0\" \"P213_D0\" \"P216_D0\"\n",
      "[1] \"NO. OF SAMPLES IN CENTROID: 39\"\n"
     ]
    }
   ],
   "source": [
    "all_telaml1 <- data[, sid_all]\n",
    "X_normal <- data[, sid_normal]\n",
    "all_telaml1 <- predict_pipeline(\n",
    "  all_telaml1, X_normal,\n",
    "  annot, yeoh_label,\n",
    "  batch_ps\n",
    ")"
   ]
  },
  {
   "cell_type": "code",
   "execution_count": 153,
   "metadata": {
    "scrolled": true
   },
   "outputs": [],
   "source": [
    "ax <- all_telaml1$plot\n",
    "wpath <- \"~/Dropbox/tmp/features_alltrain-telaml1.pdf\"\n",
    "ggsave(wpath, ax, width = 8, height = 2.5)"
   ]
  },
  {
   "cell_type": "markdown",
   "metadata": {},
   "source": [
    "#### Train: BCR-ABL, Test: BCR-ABL-like"
   ]
  },
  {
   "cell_type": "code",
   "execution_count": 466,
   "metadata": {},
   "outputs": [
    {
     "name": "stdout",
     "output_type": "stream",
     "text": [
      " [1] \"P053_D0\" \"P054_D0\" \"P055_D0\" \"P056_D0\" \"P057_D0\" \"P075_D0\" \"P097_D0\"\n",
      " [8] \"P134_D0\" \"P152_D0\" \"P170_D0\" \"P175_D0\" \"P184_D0\" \"P200_D0\" \"P202_D0\"\n",
      "[15] \"P053_D8\" \"P054_D8\" \"P055_D8\" \"P056_D8\" \"P057_D8\" \"P075_D8\" \"P097_D8\"\n",
      "[22] \"P134_D8\" \"P152_D8\" \"P170_D8\" \"P175_D8\" \"P184_D8\" \"P200_D8\" \"P202_D8\"\n"
     ]
    }
   ],
   "source": [
    "# Plot UMAP of BCR-ABL and BCR-ABL-like\n",
    "idx_bcrabl <- Y[colnames(data), \"subtype\"] == \"BCR-ABL\" &\n",
    "  colnames(data) %in% sid_alltrain\n",
    "\n",
    "sid_bcrabl <- colnames(data)[idx_bcrabl]\n",
    "sid_all <- sort_sid(c(sid_bcrabl, sid_bcrabl_like))\n",
    "print(sid_all)\n",
    "\n",
    "# all_bcrabl_hvg300 <- select_hvg(data[, sid_all], 300)\n",
    "\n",
    "# umap_obj <- umap(t(all_bcrabl_hvg300))\n",
    "# plot_umap(umap_obj, Y, col = 'subtype')"
   ]
  },
  {
   "cell_type": "code",
   "execution_count": 467,
   "metadata": {},
   "outputs": [
    {
     "name": "stdout",
     "output_type": "stream",
     "text": [
      "[1] \"No. of NaN values in log-fc = 0\"\n",
      "[1] \"No. of probesets excluded by expr threshold = 725\"\n",
      "[1] \"No. of features (p-value) = 170\"\n",
      "[1] \"No. of features (log2-fc) = 214\"\n",
      "[1] \"No. of class genes = \" \"21\"                   \n",
      "[1] \"No. of selected genes = \" \"14\"                      \n",
      " [1] \"P053_D0\" \"P054_D0\" \"P055_D0\" \"P056_D0\" \"P057_D0\" \"P075_D0\" \"P097_D0\"\n",
      " [8] \"P134_D0\" \"P152_D0\" \"P170_D0\" \"P175_D0\" \"P184_D0\" \"P200_D0\" \"P202_D0\"\n",
      "[1] \"NO. OF SAMPLES IN CENTROID: 5\"\n",
      " [1] \"P053_D0\" \"P054_D0\" \"P055_D0\" \"P056_D0\" \"P057_D0\" \"P134_D0\" \"P152_D0\"\n",
      " [8] \"P170_D0\" \"P175_D0\" \"P184_D0\" \"P053_D8\" \"P054_D8\" \"P055_D8\" \"P056_D8\"\n",
      "[15] \"P057_D8\" \"P134_D8\" \"P152_D8\" \"P170_D8\" \"P175_D8\" \"P184_D8\"\n",
      "[1] \"P075_D0\" \"P097_D0\" \"P200_D0\" \"P202_D0\" \"P075_D8\" \"P097_D8\" \"P200_D8\"\n",
      "[8] \"P202_D8\"\n"
     ]
    }
   ],
   "source": [
    "X_normal <- data[, sid_normal]\n",
    "prediction <- predict_pipeline_test(\n",
    "  sid_all,\n",
    "  X_normal, Y, yeoh_label,\n",
    "  sid_bcrabl, sid_bcrabl_like,\n",
    "  batch_ps,\n",
    "  sid_remission, sid_normal, data\n",
    ")"
   ]
  },
  {
   "cell_type": "code",
   "execution_count": 468,
   "metadata": {},
   "outputs": [],
   "source": [
    "feat_bcrabl <- prediction$train$plot\n",
    "wpath <- \"~/Dropbox/temp/features-heg_bcrabl.pdf\"\n",
    "ggsave(wpath, feat_bcrabl, width = 8, height = 2.5)"
   ]
  },
  {
   "cell_type": "code",
   "execution_count": 469,
   "metadata": {},
   "outputs": [],
   "source": [
    "feat_bcrabl_like <- prediction$test$plot\n",
    "wpath <- \"~/Dropbox/temp/features-heg_bcrabl_like.pdf\"\n",
    "ggsave(wpath, feat_bcrabl_like, width = 8, height = 2.5)"
   ]
  },
  {
   "cell_type": "code",
   "execution_count": 290,
   "metadata": {},
   "outputs": [],
   "source": [
    "#' Does not perform PCA transform on data\n",
    "#' Used to predict relapse for all subtypes\n",
    "#' X df containing all subtypes of patients in arg: pid and normal patients\n",
    "#' @param pid vector of pid belonging to both D0 and D8 patients (identically ordered)\n",
    "#' @return list containing prediction plot and vector coordinates\n",
    "predict_pipeline1 <- function(X_subtype, X_normal,\n",
    "                             metadata, metadata_mrd,\n",
    "                             batch_genes = NULL) {\n",
    "  sid_remission <- colnames(X_subtype)[\n",
    "    metadata[colnames(X_subtype), \"label\"] == 0\n",
    "  ]\n",
    "  \n",
    "  class_genes <- getLocalGenes(X_subtype, sid_remission)\n",
    "  \n",
    "  if (is.null(batch_genes)) {\n",
    "    selected_genes <- class_genes\n",
    "  } else {\n",
    "    selected_genes <- setdiff(class_genes, batch_genes)\n",
    "  }\n",
    "  \n",
    "  print(c(\"No. of selected genes = \", length(class_genes)))\n",
    "  print(c(\"No. of final genes = \", length(selected_genes)))\n",
    "  \n",
    "  # Subtype and normal samples\n",
    "  response <- t(X_subtype[selected_genes, ])\n",
    "  normal <- t(X_normal[selected_genes, ])\n",
    "  \n",
    "  # Collate MRD results as well\n",
    "  V <- compute_features(response, normal, colnames(X_subtype), sid_remission)\n",
    "  V$mrd <- metadata_mrd[rownames(V), \"d33_mrd\"]\n",
    "  V <- cbind(V, delta_cd[rownames(V), \"mean\", drop = F])\n",
    "  \n",
    "  prediction_obj <- predict_plot1(\n",
    "    V, metadata,                             \n",
    "    bigpos_names = \"angle_d0d8_d0normal\",\n",
    "    smallpos_names = c(\"erm1_ratio2\", \"l2norm_ratio2\", \"mrd\", \"mean\")\n",
    "  )\n",
    "  \n",
    "  return(prediction_obj)\n",
    "}"
   ]
  },
  {
   "cell_type": "code",
   "execution_count": 291,
   "metadata": {},
   "outputs": [],
   "source": [
    "#' ASSUMPTION: X_train is filtered of NA MRD values and contains all features!\n",
    "#' @param X_train dataframe of training set (incl. MRD) with patients x features\n",
    "#' @param Y dataframe of metadata with samples x info\n",
    "#' @param bigpos_names vector of feature names where bigger is positive\n",
    "#' @param smallpos_names vector of feature names where smaller is positive\n",
    "#' @param X_test dataframe of test set (incl. MRD)\n",
    "predict_plot1 <- function(\n",
    "  X_train, Y, bigpos_names,\n",
    "  smallpos_names, X_test = NULL\n",
    ") {  \n",
    "  # If test set is present, predict test set\n",
    "  if (is.null(X_test)) {\n",
    "    X_predict <- X_train\n",
    "  } else {\n",
    "    X_predict <- X_test\n",
    "  }\n",
    "  \n",
    "  p_remission_x <- calc_p_remission_x(\n",
    "    X_train, Y,\n",
    "    bigpos_names,\n",
    "    smallpos_names,\n",
    "    X_predict\n",
    "  )\n",
    "  proba <- p_remission_x # OPTION!\n",
    "  \n",
    "  # Select features\n",
    "  X_fltr_train <- X_train[, c(bigpos_names, smallpos_names)]\n",
    "  X_fltr_predict <- X_predict[, c(bigpos_names, smallpos_names)]\n",
    "  \n",
    "  # Select p(remission|x)\n",
    "  p <- proba[, \"p\", drop = F] # OPTION!\n",
    "  colnames(p) <- \"p_rem\"\n",
    "  # Concatenate features and probabilities\n",
    "  X_y <- cbind(\n",
    "    X_fltr_predict,\n",
    "    p,\n",
    "    label = proba$label\n",
    "  )\n",
    "  \n",
    "  X_y$mrd <- log10(X_y$mrd) # log-transform mrd\n",
    "  colnames(X_y)[colnames(X_y) == \"mrd\"] <- \"log_mrd\"\n",
    "\n",
    "  long_X_y <- melt(X_y, id = \"label\", variable.name = \"feature\")             \n",
    "  \n",
    "  FEAT_ORDER <- c(\n",
    "    \"erm1_ratio2\", \"l2norm_ratio2\",\n",
    "    \"angle_d0d8_d0normal\", \"log_mrd\", \"mean\", \"p_rem\"\n",
    "  )\n",
    "  FEAT_LABS <- c(\n",
    "    \"'ERM Ratio'\", \"'ARM Ratio'\", \"theta\",\n",
    "    \"log[10](MRD)\", \"delta[mu]\", \"paste('P(Remission|', bold(x), ')')\"\n",
    "  )\n",
    "  long_X_y$feature <- factor(\n",
    "    long_X_y$feature,\n",
    "    levels = FEAT_ORDER,\n",
    "    labels = FEAT_LABS\n",
    "  ) # Reorder levels\n",
    "\n",
    "  ##### PLOTS #####\n",
    "  ax_jitter <- ggplot(\n",
    "    long_X_y,\n",
    "    aes(x = feature, y = value, colour = label)\n",
    "  ) +\n",
    "    geom_boxplot(alpha = 0, show.legend = F) +\n",
    "    geom_point(position = position_jitterdodge(),\n",
    "               cex = 2, show.legend = F) +\n",
    "    scale_color_manual(values = COL_LABEL) +\n",
    "    facet_wrap(\n",
    "      ~feature,\n",
    "      nrow = 1, scales = \"free\",\n",
    "      labeller = label_parsed\n",
    "    ) +\n",
    "    theme(\n",
    "      axis.title.x = element_blank(),\n",
    "      axis.text.x = element_blank(),\n",
    "      axis.title.y = element_blank(),\n",
    "      legend.position = \"none\"\n",
    "    )\n",
    "  \n",
    "  # Jitter plot: p-value label\n",
    "  # Both group sizes must be > 1\n",
    "  if (length(table(X_y$label)) > 1 && min(table(X_y$label)) > 1) {\n",
    "    list_p_rem <- split(X_y$p_rem, X_y$label)\n",
    "    \n",
    "    try({\n",
    "      ttest <- t.test(list_p_rem[[1]], list_p_rem[[2]])\n",
    "      p_lab <- sprintf(\"p = %.3f\", ttest$p.value)\n",
    "      \n",
    "      ann_text <- data.frame(\n",
    "        feature = factor(\n",
    "          FEAT_ORDER[6],\n",
    "          levels = FEAT_ORDER,\n",
    "          labels = FEAT_LABS\n",
    "        ),\n",
    "        value = Inf,\n",
    "        lab =  p_lab\n",
    "      )\n",
    "\n",
    "      ax_jitter <- ax_jitter +\n",
    "        geom_text(data = ann_text,\n",
    "                  aes(x = feature, y = value, label = lab),\n",
    "                  size = 3, colour = \"black\",\n",
    "                  vjust = 3, hjust = -0.1)\n",
    "      })\n",
    "  }\n",
    "  \n",
    "  list(\n",
    "    p_rem = p,\n",
    "    P = proba,\n",
    "    X_y = X_y,\n",
    "    plot = ax_jitter\n",
    "  )\n",
    "}"
   ]
  },
  {
   "cell_type": "markdown",
   "metadata": {},
   "source": [
    "#### LATEST"
   ]
  },
  {
   "cell_type": "code",
   "execution_count": 1338,
   "metadata": {},
   "outputs": [],
   "source": [
    "bcell_sub2 <- all_cd[rownames(all_cd) %in% bcell_markers, ]\n",
    "bcell_mu2 <- colMeans(bcell_sub2)\n",
    "\n",
    "bcell_cd19 <- yeoh_cd['CD19', seq_len(ncol(yeoh_cd) - 3)]\n",
    "bcell_mu2_sub <- bcell_mu2[colnames(bcell_cd19)]\n",
    "bcell_paired <- rbind(bcell_cd19, bcell_mu2_sub)\n",
    "rownames(bcell_paired)[2] <- 'mean'\n",
    "n <- ncol(bcell_paired)\n",
    "D0 <- bcell_paired[, seq_len(n / 2)]\n",
    "D8 <- bcell_paired[, (n / 2 + 1):n]\n",
    "delta_cd <- D0 - D8\n",
    "colnames(delta_cd) <- substring(colnames(delta_cd), 1, 4)\n",
    "delta_cd <- t(delta_cd)"
   ]
  },
  {
   "cell_type": "code",
   "execution_count": 1369,
   "metadata": {},
   "outputs": [
    {
     "name": "stdout",
     "output_type": "stream",
     "text": [
      "[1] \"No. of NaN values in log-fc = 0\"\n",
      "[1] \"No. of probesets excluded by expr threshold = 725\"\n",
      "[1] \"No. of features (p-value) = 170\"\n",
      "[1] \"No. of features (log2-fc) = 214\"\n",
      "[1] \"No. of selected genes = \" \"21\"                      \n",
      "[1] \"No. of final genes = \" \"14\"                   \n",
      " [1] \"P053_D0\" \"P054_D0\" \"P055_D0\" \"P056_D0\" \"P057_D0\" \"P134_D0\" \"P152_D0\"\n",
      " [8] \"P170_D0\" \"P175_D0\" \"P184_D0\" \"P053_D8\" \"P054_D8\" \"P055_D8\" \"P056_D8\"\n",
      "[15] \"P057_D8\" \"P134_D8\" \"P152_D8\" \"P170_D8\" \"P175_D8\" \"P184_D8\"\n",
      " [1] \"P053_D0\" \"P054_D0\" \"P055_D0\" \"P056_D0\" \"P057_D0\" \"P134_D0\" \"P152_D0\"\n",
      " [8] \"P170_D0\" \"P175_D0\" \"P184_D0\"\n",
      "[1] \"NO. OF SAMPLES IN CENTROID: 5\"\n",
      "[1] \"No. of NaN values in log-fc = 0\"\n",
      "[1] \"No. of probesets excluded by expr threshold = 818\"\n",
      "[1] \"No. of features (p-value) = 744\"\n",
      "[1] \"No. of features (log2-fc) = 753\"\n",
      "[1] \"No. of selected genes = \" \"239\"                     \n",
      "[1] \"No. of final genes = \" \"164\"                  \n",
      " [1] \"P049_D0\" \"P050_D0\" \"P051_D0\" \"P102_D0\" \"P145_D0\" \"P161_D0\" \"P049_D8\"\n",
      " [8] \"P050_D8\" \"P051_D8\" \"P102_D8\" \"P145_D8\" \"P161_D8\"\n",
      "[1] \"P049_D0\" \"P050_D0\" \"P051_D0\" \"P102_D0\" \"P145_D0\" \"P161_D0\"\n",
      "[1] \"NO. OF SAMPLES IN CENTROID: 5\"\n",
      "[1] \"No. of NaN values in log-fc = 0\"\n",
      "[1] \"No. of probesets excluded by expr threshold = 718\"\n",
      "[1] \"No. of features (p-value) = 2508\"\n",
      "[1] \"No. of features (log2-fc) = 283\"\n",
      "[1] \"No. of selected genes = \" \"281\"                     \n",
      "[1] \"No. of final genes = \" \"216\"                  \n",
      " [1] \"P037_D0\" \"P038_D0\" \"P039_D0\" \"P040_D0\" \"P041_D0\" \"P043_D0\" \"P044_D0\"\n",
      " [8] \"P046_D0\" \"P047_D0\" \"P048_D0\" \"P098_D0\" \"P100_D0\" \"P109_D0\" \"P129_D0\"\n",
      "[15] \"P133_D0\" \"P138_D0\" \"P139_D0\" \"P140_D0\" \"P148_D0\" \"P153_D0\" \"P154_D0\"\n",
      "[22] \"P155_D0\" \"P157_D0\" \"P159_D0\" \"P162_D0\" \"P164_D0\" \"P169_D0\" \"P176_D0\"\n",
      "[29] \"P178_D0\" \"P182_D0\" \"P189_D0\" \"P195_D0\" \"P196_D0\" \"P207_D0\" \"P208_D0\"\n",
      "[36] \"P037_D8\" \"P038_D8\" \"P039_D8\" \"P040_D8\" \"P041_D8\" \"P043_D8\" \"P044_D8\"\n",
      "[43] \"P046_D8\" \"P047_D8\" \"P048_D8\" \"P098_D8\" \"P100_D8\" \"P109_D8\" \"P129_D8\"\n",
      "[50] \"P133_D8\" \"P138_D8\" \"P139_D8\" \"P140_D8\" \"P148_D8\" \"P153_D8\" \"P154_D8\"\n",
      "[57] \"P155_D8\" \"P157_D8\" \"P159_D8\" \"P162_D8\" \"P164_D8\" \"P169_D8\" \"P176_D8\"\n",
      "[64] \"P178_D8\" \"P182_D8\" \"P189_D8\" \"P195_D8\" \"P196_D8\" \"P207_D8\" \"P208_D8\"\n",
      " [1] \"P037_D0\" \"P038_D0\" \"P039_D0\" \"P040_D0\" \"P041_D0\" \"P043_D0\" \"P044_D0\"\n",
      " [8] \"P046_D0\" \"P047_D0\" \"P048_D0\" \"P098_D0\" \"P100_D0\" \"P109_D0\" \"P129_D0\"\n",
      "[15] \"P133_D0\" \"P138_D0\" \"P139_D0\" \"P140_D0\" \"P148_D0\" \"P153_D0\" \"P154_D0\"\n",
      "[22] \"P155_D0\" \"P157_D0\" \"P159_D0\" \"P162_D0\" \"P164_D0\" \"P169_D0\" \"P176_D0\"\n",
      "[29] \"P178_D0\" \"P182_D0\" \"P189_D0\" \"P195_D0\" \"P196_D0\" \"P207_D0\" \"P208_D0\"\n",
      "[1] \"NO. OF SAMPLES IN CENTROID: 31\"\n",
      "[1] \"No. of NaN values in log-fc = 0\"\n",
      "[1] \"No. of probesets excluded by expr threshold = 487\"\n",
      "[1] \"No. of features (p-value) = 614\"\n",
      "[1] \"No. of features (log2-fc) = 1031\"\n",
      "[1] \"No. of selected genes = \" \"262\"                     \n",
      "[1] \"No. of final genes = \" \"170\"                  \n",
      " [1] \"P058_D0\" \"P122_D0\" \"P131_D0\" \"P137_D0\" \"P160_D0\" \"P167_D0\" \"P211_D0\"\n",
      " [8] \"P058_D8\" \"P122_D8\" \"P131_D8\" \"P137_D8\" \"P160_D8\" \"P167_D8\" \"P211_D8\"\n",
      "[1] \"P058_D0\" \"P122_D0\" \"P131_D0\" \"P137_D0\" \"P160_D0\" \"P167_D0\" \"P211_D0\"\n",
      "[1] \"NO. OF SAMPLES IN CENTROID: 3\"\n",
      "[1] \"No. of NaN values in log-fc = 0\"\n",
      "[1] \"No. of probesets excluded by expr threshold = 822\"\n",
      "[1] \"No. of features (p-value) = 3081\"\n",
      "[1] \"No. of features (log2-fc) = 448\"\n",
      "[1] \"No. of selected genes = \" \"448\"                     \n",
      "[1] \"No. of final genes = \" \"342\"                  \n",
      "  [1] \"P059_D0\" \"P060_D0\" \"P061_D0\" \"P062_D0\" \"P063_D0\" \"P064_D0\" \"P065_D0\"\n",
      "  [8] \"P066_D0\" \"P067_D0\" \"P068_D0\" \"P070_D0\" \"P071_D0\" \"P072_D0\" \"P073_D0\"\n",
      " [15] \"P075_D0\" \"P076_D0\" \"P077_D0\" \"P078_D0\" \"P080_D0\" \"P081_D0\" \"P082_D0\"\n",
      " [22] \"P083_D0\" \"P084_D0\" \"P085_D0\" \"P086_D0\" \"P087_D0\" \"P089_D0\" \"P090_D0\"\n",
      " [29] \"P091_D0\" \"P092_D0\" \"P093_D0\" \"P097_D0\" \"P101_D0\" \"P104_D0\" \"P105_D0\"\n",
      " [36] \"P108_D0\" \"P111_D0\" \"P119_D0\" \"P123_D0\" \"P125_D0\" \"P126_D0\" \"P128_D0\"\n",
      " [43] \"P130_D0\" \"P132_D0\" \"P141_D0\" \"P142_D0\" \"P143_D0\" \"P144_D0\" \"P149_D0\"\n",
      " [50] \"P150_D0\" \"P158_D0\" \"P163_D0\" \"P171_D0\" \"P173_D0\" \"P174_D0\" \"P177_D0\"\n",
      " [57] \"P179_D0\" \"P180_D0\" \"P181_D0\" \"P187_D0\" \"P191_D0\" \"P192_D0\" \"P193_D0\"\n",
      " [64] \"P194_D0\" \"P197_D0\" \"P199_D0\" \"P200_D0\" \"P201_D0\" \"P202_D0\" \"P203_D0\"\n",
      " [71] \"P204_D0\" \"P205_D0\" \"P206_D0\" \"P209_D0\" \"P210_D0\" \"P212_D0\" \"P213_D0\"\n",
      " [78] \"P215_D0\" \"P216_D0\" \"P217_D0\" \"P218_D0\" \"P219_D0\" \"P220_D0\" \"P059_D8\"\n",
      " [85] \"P060_D8\" \"P061_D8\" \"P062_D8\" \"P063_D8\" \"P064_D8\" \"P065_D8\" \"P066_D8\"\n",
      " [92] \"P067_D8\" \"P068_D8\" \"P070_D8\" \"P071_D8\" \"P072_D8\" \"P073_D8\" \"P075_D8\"\n",
      " [99] \"P076_D8\" \"P077_D8\" \"P078_D8\" \"P080_D8\" \"P081_D8\" \"P082_D8\" \"P083_D8\"\n",
      "[106] \"P084_D8\" \"P085_D8\" \"P086_D8\" \"P087_D8\" \"P089_D8\" \"P090_D8\" \"P091_D8\"\n",
      "[113] \"P092_D8\" \"P093_D8\" \"P097_D8\" \"P101_D8\" \"P104_D8\" \"P105_D8\" \"P108_D8\"\n",
      "[120] \"P111_D8\" \"P119_D8\" \"P123_D8\" \"P125_D8\" \"P126_D8\" \"P128_D8\" \"P130_D8\"\n",
      "[127] \"P132_D8\" \"P141_D8\" \"P142_D8\" \"P143_D8\" \"P144_D8\" \"P149_D8\" \"P150_D8\"\n",
      "[134] \"P158_D8\" \"P163_D8\" \"P171_D8\" \"P173_D8\" \"P174_D8\" \"P177_D8\" \"P179_D8\"\n",
      "[141] \"P180_D8\" \"P181_D8\" \"P187_D8\" \"P191_D8\" \"P192_D8\" \"P193_D8\" \"P194_D8\"\n",
      "[148] \"P197_D8\" \"P199_D8\" \"P200_D8\" \"P201_D8\" \"P202_D8\" \"P203_D8\" \"P204_D8\"\n",
      "[155] \"P205_D8\" \"P206_D8\" \"P209_D8\" \"P210_D8\" \"P212_D8\" \"P213_D8\" \"P215_D8\"\n",
      "[162] \"P216_D8\" \"P217_D8\" \"P218_D8\" \"P219_D8\" \"P220_D8\"\n",
      " [1] \"P059_D0\" \"P060_D0\" \"P061_D0\" \"P062_D0\" \"P063_D0\" \"P064_D0\" \"P065_D0\"\n",
      " [8] \"P066_D0\" \"P067_D0\" \"P068_D0\" \"P070_D0\" \"P071_D0\" \"P072_D0\" \"P073_D0\"\n",
      "[15] \"P075_D0\" \"P076_D0\" \"P077_D0\" \"P078_D0\" \"P080_D0\" \"P081_D0\" \"P082_D0\"\n",
      "[22] \"P083_D0\" \"P084_D0\" \"P085_D0\" \"P086_D0\" \"P087_D0\" \"P089_D0\" \"P090_D0\"\n",
      "[29] \"P091_D0\" \"P092_D0\" \"P093_D0\" \"P097_D0\" \"P101_D0\" \"P104_D0\" \"P105_D0\"\n",
      "[36] \"P108_D0\" \"P111_D0\" \"P119_D0\" \"P123_D0\" \"P125_D0\" \"P126_D0\" \"P128_D0\"\n",
      "[43] \"P130_D0\" \"P132_D0\" \"P141_D0\" \"P142_D0\" \"P143_D0\" \"P144_D0\" \"P149_D0\"\n",
      "[50] \"P150_D0\" \"P158_D0\" \"P163_D0\" \"P171_D0\" \"P173_D0\" \"P174_D0\" \"P177_D0\"\n",
      "[57] \"P179_D0\" \"P180_D0\" \"P181_D0\" \"P187_D0\" \"P191_D0\" \"P192_D0\" \"P193_D0\"\n",
      "[64] \"P194_D0\" \"P197_D0\" \"P199_D0\" \"P200_D0\" \"P201_D0\" \"P202_D0\" \"P203_D0\"\n",
      "[71] \"P204_D0\" \"P205_D0\" \"P206_D0\" \"P209_D0\" \"P210_D0\" \"P212_D0\" \"P213_D0\"\n",
      "[78] \"P215_D0\" \"P216_D0\" \"P217_D0\" \"P218_D0\" \"P219_D0\" \"P220_D0\"\n",
      "[1] \"NO. OF SAMPLES IN CENTROID: 63\"\n",
      "[1] \"No. of NaN values in log-fc = 0\"\n",
      "[1] \"No. of probesets excluded by expr threshold = 998\"\n",
      "[1] \"No. of features (p-value) = 606\"\n",
      "[1] \"No. of features (log2-fc) = 342\"\n",
      "[1] \"No. of selected genes = \" \"136\"                     \n",
      "[1] \"No. of final genes = \" \"110\"                  \n",
      " [1] \"P001_D0\" \"P004_D0\" \"P005_D0\" \"P007_D0\" \"P008_D0\" \"P010_D0\" \"P012_D0\"\n",
      " [8] \"P103_D0\" \"P116_D0\" \"P151_D0\" \"P001_D8\" \"P004_D8\" \"P005_D8\" \"P007_D8\"\n",
      "[15] \"P008_D8\" \"P010_D8\" \"P012_D8\" \"P103_D8\" \"P116_D8\" \"P151_D8\"\n",
      " [1] \"P001_D0\" \"P004_D0\" \"P005_D0\" \"P007_D0\" \"P008_D0\" \"P010_D0\" \"P012_D0\"\n",
      " [8] \"P103_D0\" \"P116_D0\" \"P151_D0\"\n",
      "[1] \"NO. OF SAMPLES IN CENTROID: 8\"\n",
      "[1] \"No. of NaN values in log-fc = 0\"\n",
      "[1] \"No. of probesets excluded by expr threshold = 710\"\n",
      "[1] \"No. of features (p-value) = 2765\"\n",
      "[1] \"No. of features (log2-fc) = 507\"\n",
      "[1] \"No. of selected genes = \" \"505\"                     \n",
      "[1] \"No. of final genes = \" \"371\"                  \n",
      " [1] \"P013_D0\" \"P014_D0\" \"P015_D0\" \"P016_D0\" \"P017_D0\" \"P018_D0\" \"P019_D0\"\n",
      " [8] \"P022_D0\" \"P023_D0\" \"P024_D0\" \"P025_D0\" \"P026_D0\" \"P027_D0\" \"P028_D0\"\n",
      "[15] \"P029_D0\" \"P031_D0\" \"P032_D0\" \"P033_D0\" \"P034_D0\" \"P035_D0\" \"P036_D0\"\n",
      "[22] \"P094_D0\" \"P099_D0\" \"P106_D0\" \"P120_D0\" \"P121_D0\" \"P127_D0\" \"P135_D0\"\n",
      "[29] \"P136_D0\" \"P147_D0\" \"P156_D0\" \"P165_D0\" \"P166_D0\" \"P172_D0\" \"P013_D8\"\n",
      "[36] \"P014_D8\" \"P015_D8\" \"P016_D8\" \"P017_D8\" \"P018_D8\" \"P019_D8\" \"P022_D8\"\n",
      "[43] \"P023_D8\" \"P024_D8\" \"P025_D8\" \"P026_D8\" \"P027_D8\" \"P028_D8\" \"P029_D8\"\n",
      "[50] \"P031_D8\" \"P032_D8\" \"P033_D8\" \"P034_D8\" \"P035_D8\" \"P036_D8\" \"P094_D8\"\n",
      "[57] \"P099_D8\" \"P106_D8\" \"P120_D8\" \"P121_D8\" \"P127_D8\" \"P135_D8\" \"P136_D8\"\n",
      "[64] \"P147_D8\" \"P156_D8\" \"P165_D8\" \"P166_D8\" \"P172_D8\"\n",
      " [1] \"P013_D0\" \"P014_D0\" \"P015_D0\" \"P016_D0\" \"P017_D0\" \"P018_D0\" \"P019_D0\"\n",
      " [8] \"P022_D0\" \"P023_D0\" \"P024_D0\" \"P025_D0\" \"P026_D0\" \"P027_D0\" \"P028_D0\"\n",
      "[15] \"P029_D0\" \"P031_D0\" \"P032_D0\" \"P033_D0\" \"P034_D0\" \"P035_D0\" \"P036_D0\"\n",
      "[22] \"P094_D0\" \"P099_D0\" \"P106_D0\" \"P120_D0\" \"P121_D0\" \"P127_D0\" \"P135_D0\"\n",
      "[29] \"P136_D0\" \"P147_D0\" \"P156_D0\" \"P165_D0\" \"P166_D0\" \"P172_D0\"\n",
      "[1] \"NO. OF SAMPLES IN CENTROID: 29\"\n"
     ]
    }
   ],
   "source": [
    "X_normal <- data[, sid_normal]\n",
    "list_X_subtypes7 <- lapply(\n",
    "  subtypes7,\n",
    "  function(subtype) data[,\n",
    "    sid_alltrain_local[annot[sid_alltrain_local, \"subtype\"] == subtype]\n",
    "  ]\n",
    ")\n",
    "list_obj1 <- lapply(\n",
    "  list_X_subtypes7,\n",
    "  predict_pipeline1,\n",
    "  X_normal, Y, yeoh_label,\n",
    "  batch_ps\n",
    ")"
   ]
  },
  {
   "cell_type": "code",
   "execution_count": 1370,
   "metadata": {},
   "outputs": [],
   "source": [
    "list_plots <- lapply(list_obj1, function(obj)obj$plot)"
   ]
  },
  {
   "cell_type": "code",
   "execution_count": 1371,
   "metadata": {},
   "outputs": [],
   "source": [
    "for (i in seq_len(7)) {\n",
    "  wpath <- sprintf('~/Dropbox/temp/boxplot_mu-%s.pdf', subtypes7[i])\n",
    "  ggsave(wpath, list_plots[[i]], width = 10, height = 2.5)\n",
    "}"
   ]
  },
  {
   "cell_type": "markdown",
   "metadata": {},
   "source": [
    "#### DUX4"
   ]
  },
  {
   "cell_type": "code",
   "execution_count": 1339,
   "metadata": {
    "scrolled": true
   },
   "outputs": [
    {
     "name": "stdout",
     "output_type": "stream",
     "text": [
      "[1] \"No. of NaN values in log-fc = 0\"\n",
      "[1] \"No. of probesets excluded by expr threshold = 772\"\n",
      "[1] \"No. of features (p-value) = 2564\"\n",
      "[1] \"No. of features (log2-fc) = 679\"\n",
      "[1] \"No. of selected genes = \" \"660\"                     \n",
      "[1] \"No. of final genes = \" \"480\"                  \n",
      " [1] \"P060_D0\" \"P063_D0\" \"P071_D0\" \"P073_D0\" \"P076_D0\" \"P077_D0\" \"P083_D0\"\n",
      " [8] \"P087_D0\" \"P090_D0\" \"P092_D0\" \"P105_D0\" \"P108_D0\" \"P111_D0\" \"P143_D0\"\n",
      "[15] \"P173_D0\" \"P174_D0\" \"P177_D0\" \"P201_D0\" \"P203_D0\" \"P212_D0\" \"P215_D0\"\n",
      "[22] \"P060_D8\" \"P063_D8\" \"P071_D8\" \"P073_D8\" \"P076_D8\" \"P077_D8\" \"P083_D8\"\n",
      "[29] \"P087_D8\" \"P090_D8\" \"P092_D8\" \"P105_D8\" \"P108_D8\" \"P111_D8\" \"P143_D8\"\n",
      "[36] \"P173_D8\" \"P174_D8\" \"P177_D8\" \"P201_D8\" \"P203_D8\" \"P212_D8\" \"P215_D8\"\n",
      " [1] \"P060_D0\" \"P063_D0\" \"P071_D0\" \"P073_D0\" \"P076_D0\" \"P077_D0\" \"P083_D0\"\n",
      " [8] \"P087_D0\" \"P090_D0\" \"P092_D0\" \"P105_D0\" \"P108_D0\" \"P111_D0\" \"P143_D0\"\n",
      "[15] \"P173_D0\" \"P174_D0\" \"P177_D0\" \"P201_D0\" \"P203_D0\" \"P212_D0\" \"P215_D0\"\n",
      "[1] \"NO. OF SAMPLES IN CENTROID: 19\"\n"
     ]
    }
   ],
   "source": [
    "X_dux4 <- data[, sid_dux4]\n",
    "dux4_pred <- predict_pipeline1(\n",
    "  X_dux4, X_normal,\n",
    "  Y, yeoh_label,\n",
    "  batch_ps\n",
    ")"
   ]
  },
  {
   "cell_type": "code",
   "execution_count": 1706,
   "metadata": {},
   "outputs": [
    {
     "name": "stderr",
     "output_type": "stream",
     "text": [
      "Warning message in wilcox.test.default(list_feat[[1]], list_feat[[2]]):\n",
      "“cannot compute exact p-value with ties”Warning message in wilcox.test.default(list_feat[[1]], list_feat[[2]]):\n",
      "“cannot compute exact p-value with ties”"
     ]
    },
    {
     "name": "stdout",
     "output_type": "stream",
     "text": [
      "[1] 'ERM Ratio'                           \n",
      "[2] 'ARM Ratio'                           \n",
      "[3] theta                                 \n",
      "[4] log[10](MRD)                          \n",
      "[5] paste('P(Remission|', bold(x), ', s)')\n",
      "5 Levels: 'ERM Ratio' 'ARM Ratio' theta ... paste('P(Remission|', bold(x), ', s)')\n"
     ]
    }
   ],
   "source": [
    "dux4_boxplot <- plot_boxplots(dux4_pred$X_y)\n",
    "# wpath <- \"~/Dropbox/temp/features-dux4.pdf\"\n",
    "# ggsave(wpath, dux4_boxplot, width = 7, height = 2.3)"
   ]
  },
  {
   "cell_type": "markdown",
   "metadata": {},
   "source": [
    "#### Predict: All train (TEL-AML1)"
   ]
  },
  {
   "cell_type": "code",
   "execution_count": 485,
   "metadata": {},
   "outputs": [],
   "source": [
    "sid_telaml1 <- rownames(Y)[rownames(Y) %in% sid_alltrain & Y$subtype == 'TEL-AML1']"
   ]
  },
  {
   "cell_type": "code",
   "execution_count": 486,
   "metadata": {},
   "outputs": [
    {
     "name": "stdout",
     "output_type": "stream",
     "text": [
      "[1] \"No. of NaN values in log-fc = 0\"\n",
      "[1] \"No. of probesets excluded by expr threshold = 710\"\n",
      "[1] \"No. of features (p-value) = 2765\"\n",
      "[1] \"No. of features (log2-fc) = 507\"\n",
      "[1] \"No. of selected genes = \" \"505\"                     \n",
      "[1] \"No. of final genes = \" \"371\"                  \n",
      " [1] \"P013_D0\" \"P014_D0\" \"P015_D0\" \"P016_D0\" \"P017_D0\" \"P018_D0\" \"P019_D0\"\n",
      " [8] \"P022_D0\" \"P023_D0\" \"P024_D0\" \"P025_D0\" \"P026_D0\" \"P027_D0\" \"P028_D0\"\n",
      "[15] \"P029_D0\" \"P031_D0\" \"P032_D0\" \"P033_D0\" \"P034_D0\" \"P035_D0\" \"P036_D0\"\n",
      "[22] \"P094_D0\" \"P099_D0\" \"P106_D0\" \"P120_D0\" \"P121_D0\" \"P127_D0\" \"P135_D0\"\n",
      "[29] \"P136_D0\" \"P147_D0\" \"P156_D0\" \"P165_D0\" \"P166_D0\" \"P172_D0\"\n",
      "[1] \"NO. OF SAMPLES IN CENTROID: 29\"\n"
     ]
    }
   ],
   "source": [
    "X_telaml1 <- data[, sid_telaml1]\n",
    "pred <- predict_pipeline(\n",
    "  X_telaml1, X_normal,\n",
    "  Y, yeoh_label,\n",
    "  batch_ps\n",
    ")"
   ]
  },
  {
   "cell_type": "code",
   "execution_count": 505,
   "metadata": {},
   "outputs": [
    {
     "data": {
      "text/html": [
       "<table>\n",
       "<caption>A data.frame: 34 × 1</caption>\n",
       "<thead>\n",
       "\t<tr><th></th><th scope=col>label</th></tr>\n",
       "\t<tr><th></th><th scope=col>&lt;fct&gt;</th></tr>\n",
       "</thead>\n",
       "<tbody>\n",
       "\t<tr><th scope=row>P094_D0</th><td>1</td></tr>\n",
       "\t<tr><th scope=row>P034_D0</th><td>1</td></tr>\n",
       "\t<tr><th scope=row>P018_D0</th><td>0</td></tr>\n",
       "\t<tr><th scope=row>P019_D0</th><td>1</td></tr>\n",
       "\t<tr><th scope=row>P032_D0</th><td>0</td></tr>\n",
       "\t<tr><th scope=row>P023_D0</th><td>0</td></tr>\n",
       "\t<tr><th scope=row>P022_D0</th><td>0</td></tr>\n",
       "\t<tr><th scope=row>P016_D0</th><td>0</td></tr>\n",
       "\t<tr><th scope=row>P026_D0</th><td>0</td></tr>\n",
       "\t<tr><th scope=row>P028_D0</th><td>0</td></tr>\n",
       "\t<tr><th scope=row>P029_D0</th><td>1</td></tr>\n",
       "\t<tr><th scope=row>P136_D0</th><td>1</td></tr>\n",
       "\t<tr><th scope=row>P036_D0</th><td>0</td></tr>\n",
       "\t<tr><th scope=row>P015_D0</th><td>0</td></tr>\n",
       "\t<tr><th scope=row>P024_D0</th><td>0</td></tr>\n",
       "\t<tr><th scope=row>P014_D0</th><td>0</td></tr>\n",
       "\t<tr><th scope=row>P121_D0</th><td>0</td></tr>\n",
       "\t<tr><th scope=row>P172_D0</th><td>0</td></tr>\n",
       "\t<tr><th scope=row>P013_D0</th><td>0</td></tr>\n",
       "\t<tr><th scope=row>P156_D0</th><td>0</td></tr>\n",
       "\t<tr><th scope=row>P025_D0</th><td>0</td></tr>\n",
       "\t<tr><th scope=row>P165_D0</th><td>0</td></tr>\n",
       "\t<tr><th scope=row>P027_D0</th><td>0</td></tr>\n",
       "\t<tr><th scope=row>P017_D0</th><td>0</td></tr>\n",
       "\t<tr><th scope=row>P135_D0</th><td>0</td></tr>\n",
       "\t<tr><th scope=row>P031_D0</th><td>0</td></tr>\n",
       "\t<tr><th scope=row>P035_D0</th><td>0</td></tr>\n",
       "\t<tr><th scope=row>P127_D0</th><td>0</td></tr>\n",
       "\t<tr><th scope=row>P120_D0</th><td>0</td></tr>\n",
       "\t<tr><th scope=row>P033_D0</th><td>0</td></tr>\n",
       "\t<tr><th scope=row>P166_D0</th><td>0</td></tr>\n",
       "\t<tr><th scope=row>P099_D0</th><td>0</td></tr>\n",
       "\t<tr><th scope=row>P147_D0</th><td>0</td></tr>\n",
       "\t<tr><th scope=row>P106_D0</th><td>0</td></tr>\n",
       "</tbody>\n",
       "</table>\n"
      ],
      "text/latex": [
       "A data.frame: 34 × 1\n",
       "\\begin{tabular}{r|l}\n",
       "  & label\\\\\n",
       "  & <fct>\\\\\n",
       "\\hline\n",
       "\tP094\\_D0 & 1\\\\\n",
       "\tP034\\_D0 & 1\\\\\n",
       "\tP018\\_D0 & 0\\\\\n",
       "\tP019\\_D0 & 1\\\\\n",
       "\tP032\\_D0 & 0\\\\\n",
       "\tP023\\_D0 & 0\\\\\n",
       "\tP022\\_D0 & 0\\\\\n",
       "\tP016\\_D0 & 0\\\\\n",
       "\tP026\\_D0 & 0\\\\\n",
       "\tP028\\_D0 & 0\\\\\n",
       "\tP029\\_D0 & 1\\\\\n",
       "\tP136\\_D0 & 1\\\\\n",
       "\tP036\\_D0 & 0\\\\\n",
       "\tP015\\_D0 & 0\\\\\n",
       "\tP024\\_D0 & 0\\\\\n",
       "\tP014\\_D0 & 0\\\\\n",
       "\tP121\\_D0 & 0\\\\\n",
       "\tP172\\_D0 & 0\\\\\n",
       "\tP013\\_D0 & 0\\\\\n",
       "\tP156\\_D0 & 0\\\\\n",
       "\tP025\\_D0 & 0\\\\\n",
       "\tP165\\_D0 & 0\\\\\n",
       "\tP027\\_D0 & 0\\\\\n",
       "\tP017\\_D0 & 0\\\\\n",
       "\tP135\\_D0 & 0\\\\\n",
       "\tP031\\_D0 & 0\\\\\n",
       "\tP035\\_D0 & 0\\\\\n",
       "\tP127\\_D0 & 0\\\\\n",
       "\tP120\\_D0 & 0\\\\\n",
       "\tP033\\_D0 & 0\\\\\n",
       "\tP166\\_D0 & 0\\\\\n",
       "\tP099\\_D0 & 0\\\\\n",
       "\tP147\\_D0 & 0\\\\\n",
       "\tP106\\_D0 & 0\\\\\n",
       "\\end{tabular}\n"
      ],
      "text/markdown": [
       "\n",
       "A data.frame: 34 × 1\n",
       "\n",
       "| <!--/--> | label &lt;fct&gt; |\n",
       "|---|---|\n",
       "| P094_D0 | 1 |\n",
       "| P034_D0 | 1 |\n",
       "| P018_D0 | 0 |\n",
       "| P019_D0 | 1 |\n",
       "| P032_D0 | 0 |\n",
       "| P023_D0 | 0 |\n",
       "| P022_D0 | 0 |\n",
       "| P016_D0 | 0 |\n",
       "| P026_D0 | 0 |\n",
       "| P028_D0 | 0 |\n",
       "| P029_D0 | 1 |\n",
       "| P136_D0 | 1 |\n",
       "| P036_D0 | 0 |\n",
       "| P015_D0 | 0 |\n",
       "| P024_D0 | 0 |\n",
       "| P014_D0 | 0 |\n",
       "| P121_D0 | 0 |\n",
       "| P172_D0 | 0 |\n",
       "| P013_D0 | 0 |\n",
       "| P156_D0 | 0 |\n",
       "| P025_D0 | 0 |\n",
       "| P165_D0 | 0 |\n",
       "| P027_D0 | 0 |\n",
       "| P017_D0 | 0 |\n",
       "| P135_D0 | 0 |\n",
       "| P031_D0 | 0 |\n",
       "| P035_D0 | 0 |\n",
       "| P127_D0 | 0 |\n",
       "| P120_D0 | 0 |\n",
       "| P033_D0 | 0 |\n",
       "| P166_D0 | 0 |\n",
       "| P099_D0 | 0 |\n",
       "| P147_D0 | 0 |\n",
       "| P106_D0 | 0 |\n",
       "\n"
      ],
      "text/plain": [
       "        label\n",
       "P094_D0 1    \n",
       "P034_D0 1    \n",
       "P018_D0 0    \n",
       "P019_D0 1    \n",
       "P032_D0 0    \n",
       "P023_D0 0    \n",
       "P022_D0 0    \n",
       "P016_D0 0    \n",
       "P026_D0 0    \n",
       "P028_D0 0    \n",
       "P029_D0 1    \n",
       "P136_D0 1    \n",
       "P036_D0 0    \n",
       "P015_D0 0    \n",
       "P024_D0 0    \n",
       "P014_D0 0    \n",
       "P121_D0 0    \n",
       "P172_D0 0    \n",
       "P013_D0 0    \n",
       "P156_D0 0    \n",
       "P025_D0 0    \n",
       "P165_D0 0    \n",
       "P027_D0 0    \n",
       "P017_D0 0    \n",
       "P135_D0 0    \n",
       "P031_D0 0    \n",
       "P035_D0 0    \n",
       "P127_D0 0    \n",
       "P120_D0 0    \n",
       "P033_D0 0    \n",
       "P166_D0 0    \n",
       "P099_D0 0    \n",
       "P147_D0 0    \n",
       "P106_D0 0    "
      ]
     },
     "metadata": {},
     "output_type": "display_data"
    }
   ],
   "source": [
    "# Y[sid_outlier, \"label\"]\n",
    "p_rem <- pred$p_rem\n",
    "sid <- paste0(rownames(p_rem[order(p_rem[,1]), , drop=F]), '_D0')\n",
    "Y[sid, 'label', drop=F]"
   ]
  },
  {
   "cell_type": "markdown",
   "metadata": {},
   "source": [
    "#### Cluster together with real TEL-AML1"
   ]
  },
  {
   "cell_type": "code",
   "execution_count": 853,
   "metadata": {},
   "outputs": [],
   "source": [
    "sid_telaml1_d0 <- sid_telaml1[1:34]\n",
    "sid_1 <- c(sid_telaml1_d0, sid_telaml1_like_d0)\n",
    "cluster1_fltr <- select_hvg(data[, sid_1], 300)\n",
    "telaml1_fltr <- select_hvg(data[, sid_telaml1_d0], 300)\n",
    "pca_telaml1 <- plot_pca(telaml1_fltr, Y, col = \"subtype\")\n",
    "pca_cluster1 <- plot_pca(cluster1_fltr, Y, col = \"subtype\")\n",
    "\n",
    "wpath <- \"~/Dropbox/temp/pca_hvg300-telaml1.pdf\"\n",
    "ggsave(wpath, pca_telaml1, width = 7, height = 4)"
   ]
  },
  {
   "cell_type": "markdown",
   "metadata": {},
   "source": [
    "#### Plot: PCA"
   ]
  },
  {
   "cell_type": "code",
   "execution_count": 685,
   "metadata": {},
   "outputs": [],
   "source": [
    "pca_ayeoh_fltr <- plot_pca(ayeoh_fltr, Y, 1.5, .7, col = \"subtype\")\n",
    "wpath <- \"~/Dropbox/temp/pca-d0_signatures.pdf\"\n",
    "ggsave(wpath, pca_ayeoh_fltr, width = 7, height = 4)"
   ]
  },
  {
   "cell_type": "code",
   "execution_count": 385,
   "metadata": {
    "scrolled": true
   },
   "outputs": [
    {
     "data": {
      "text/html": [
       "183"
      ],
      "text/latex": [
       "183"
      ],
      "text/markdown": [
       "183"
      ],
      "text/plain": [
       "[1] 183"
      ]
     },
     "metadata": {},
     "output_type": "display_data"
    },
    {
     "data": {
      "text/html": [
       "280"
      ],
      "text/latex": [
       "280"
      ],
      "text/markdown": [
       "280"
      ],
      "text/plain": [
       "[1] 280"
      ]
     },
     "metadata": {},
     "output_type": "display_data"
    },
    {
     "name": "stdout",
     "output_type": "stream",
     "text": [
      "No. of probesets with no ID removed: 819\n",
      "Total no. of probesets removed (incl. probesets mapping to same gene): 2559\n"
     ]
    }
   ],
   "source": [
    "# ambi_ps <- all_ps[grepl(\"///\", all_ps)]\n",
    "# ambi_ps1 <- sapply(ambi_ps, sub, pattern = \" ///.*\", replacement = \"\")\n",
    "# all_ps[grepl(\"//\", all_ps)] <- ambi_ps1"
   ]
  },
  {
   "cell_type": "markdown",
   "metadata": {},
   "source": [
    "#### Feature selection might lead to overfitting\n",
    "- Selecting highly D.E. features in remission samples\n",
    "- If the D.E. features in relapse samples are independent, then highly unlikely that shift in relapse > remission\n",
    "\n",
    "#### Heterogeneity\n",
    "- Heterogeneity in the starting and ending point?\n",
    "- Heterogeneity in response\n",
    "\n",
    "#### Easy solutions\n",
    "- No feature selection. Plot angle of optimal v.s. own response\n",
    "- Use optimal as vector to project on\n",
    "\n",
    "#### Assumption of states\n",
    "- Assuming that it has to progress towards an end state\n",
    "- Maybe it has to go to an intermediate state first\n",
    "- If the state is the proportion of cells, then the above does not hold. i.e. Should progress towards normal patients\n",
    "- Methotrexate: Antimetabolite\n",
    "- Prednisolone: Steroid\n",
    "- Vincristine: Inhibit cell division\n",
    "- Dexamethasone: Counteract side effects\n",
    "- Daunorubicin: Anthracycline (interfere with DNA metabolism and RNA production)\n",
    "\n",
    "- Initial hypothesis:\n",
    "    - Higher proportion of cancer cells to lower proportion\n",
    "- New hypothesis:\n",
    "    - Leukemia state: 100% blasts\n",
    "        - Restricted to earlier states in developmental trajectory\n",
    "        - Slight perturbation\n",
    "    - Normal state: 100% normal WBCs\n",
    "        - Full range in developmental traj\n",
    "    - Response state: x% normal, (1-x)% blasts\n",
    "        - All WBCs at later stage can be attributed to normal cells?\n",
    "        - Assume that normal cells have the same distribution along developmental traj\n",
    "        - Work out no. of normal cells from the no. of later stage cells\n",
    "        - Total - later stage - normal early = No. of blasts\n",
    "- Extension to bulk data\n",
    "   - Find genes that are indicative of late stage normal cells?\n",
    "   - Use ratios of gene expression to find out number of normal cells?\n",
    "   - Gene expression that exceed that number will represent the blasts??\n",
    "\n",
    "#### Batch effects\n",
    "- Presence of batch effects?\n",
    "- Delete the batch effects genes\n",
    "\n",
    "#### Filtering and Aggregation\n",
    "- Filtering out batch effect genes\n",
    "- Aggregating by pathway info"
   ]
  },
  {
   "cell_type": "markdown",
   "metadata": {},
   "source": [
    "- Proportion of B-cells are much greater than non B-cells in scRNA-Seq data\n",
    "- Perturbed B-cells, monocytes are important"
   ]
  }
 ],
 "metadata": {
  "kernelspec": {
   "display_name": "R",
   "language": "R",
   "name": "ir"
  },
  "language_info": {
   "codemirror_mode": "r",
   "file_extension": ".r",
   "mimetype": "text/x-r-source",
   "name": "R",
   "pygments_lexer": "r",
   "version": "3.5.1"
  }
 },
 "nbformat": 4,
 "nbformat_minor": 2
}
