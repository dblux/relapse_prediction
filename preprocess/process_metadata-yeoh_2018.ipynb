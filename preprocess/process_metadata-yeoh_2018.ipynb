{
 "cells": [
  {
   "cell_type": "markdown",
   "metadata": {},
   "source": [
    "#### Edit MRD and insert TTE column "
   ]
  },
  {
   "cell_type": "code",
   "execution_count": 7,
   "metadata": {},
   "outputs": [],
   "source": [
    "RPATH1 <- \"data/GSE67684/processed/metadata/metadata-label_mrd_subtype.tsv\"\n",
    "RPATH2 <- \"data/GSE67684/processed/metadata/metadata-edited_labels.tsv\"\n",
    "RPATH3 <- \"data/GSE67684/processed/metadata/lab_id.tsv\"\n",
    "RPATH4 <- \"data/GSE67684/README/survival_data.tsv\"\n",
    "\n",
    "metadata <- read.table(RPATH1, sep = \"\\t\", header = T)\n",
    "mrd_info <- read.table(RPATH2, sep = \"\\t\", header = T)\n",
    "id <- read.table(RPATH3, sep = \"\\t\", header = T, row.names = 2)\n",
    "tte <- read.table(RPATH4, sep = \"\\t\", header = T, row.names = 1)"
   ]
  },
  {
   "cell_type": "code",
   "execution_count": 24,
   "metadata": {},
   "outputs": [],
   "source": [
    "# Edit MRD values\n",
    "mrd <- as.character(mrd_info$d33_mrd)\n",
    "mrd[mrd %in% c(\"<1x10-4(+)\", \"5E-05\", \"1E-05\")] <- 1E-6\n",
    "mrd[mrd == \"<1x10-4\"] <- 1E-8\n",
    "metadata$d33_mrd <- as.numeric(mrd)\n",
    "\n",
    "# Insert time-to-event column\n",
    "lab_id <- as.character(id[rownames(metadata), ])\n",
    "metadata1 <- cbind(metadata, years = tte[lab_id, \"years\"])\n",
    "metadata2 <- metadata1[, c(1:5,8,6,7)]"
   ]
  },
  {
   "cell_type": "code",
   "execution_count": 27,
   "metadata": {},
   "outputs": [],
   "source": [
    "# Just need one file instead of two!!\n",
    "WPATH <- \"data/GSE67684/processed/metadata/pid-mrd_label_tte_subtype.tsv\"\n",
    "write.table(metadata2, WPATH, quote = F, sep = \"\\t\")"
   ]
  }
 ],
 "metadata": {
  "kernelspec": {
   "display_name": "R",
   "language": "R",
   "name": "ir"
  },
  "language_info": {
   "codemirror_mode": "r",
   "file_extension": ".r",
   "mimetype": "text/x-r-source",
   "name": "R",
   "pygments_lexer": "r",
   "version": "3.5.1"
  }
 },
 "nbformat": 4,
 "nbformat_minor": 2
}
