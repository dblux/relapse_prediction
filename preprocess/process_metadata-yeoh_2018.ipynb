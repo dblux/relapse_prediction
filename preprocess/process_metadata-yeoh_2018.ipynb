{
 "cells": [
  {
   "cell_type": "code",
   "execution_count": 85,
   "metadata": {},
   "outputs": [],
   "source": [
    "library(magrittr)"
   ]
  },
  {
   "cell_type": "markdown",
   "metadata": {},
   "source": [
    "#### Edit MRD and insert TTE column "
   ]
  },
  {
   "cell_type": "code",
   "execution_count": 7,
   "metadata": {},
   "outputs": [],
   "source": [
    "RPATH1 <- \"data/GSE67684/processed/metadata/metadata-label_mrd_subtype.tsv\"\n",
    "RPATH2 <- \"data/GSE67684/processed/metadata/metadata-edited_labels.tsv\"\n",
    "RPATH3 <- \"data/GSE67684/processed/metadata/lab_id.tsv\"\n",
    "RPATH4 <- \"data/GSE67684/README/survival_data.tsv\"\n",
    "\n",
    "metadata <- read.table(RPATH1, sep = \"\\t\", header = T)\n",
    "mrd_info <- read.table(RPATH2, sep = \"\\t\", header = T)\n",
    "id <- read.table(RPATH3, sep = \"\\t\", header = T, row.names = 2)\n",
    "tte <- read.table(RPATH4, sep = \"\\t\", header = T, row.names = 1)"
   ]
  },
  {
   "cell_type": "code",
   "execution_count": 24,
   "metadata": {},
   "outputs": [],
   "source": [
    "# Edit MRD values\n",
    "mrd <- as.character(mrd_info$d33_mrd)\n",
    "mrd[mrd %in% c(\"<1x10-4(+)\", \"5E-05\", \"1E-05\")] <- 1E-6\n",
    "mrd[mrd == \"<1x10-4\"] <- 1E-8\n",
    "metadata$d33_mrd <- as.numeric(mrd)\n",
    "\n",
    "# Insert time-to-event column\n",
    "lab_id <- as.character(id[rownames(metadata), ])\n",
    "metadata1 <- cbind(metadata, years = tte[lab_id, \"years\"])\n",
    "metadata2 <- metadata1[, c(1:5,8,6,7)]"
   ]
  },
  {
   "cell_type": "code",
   "execution_count": 27,
   "metadata": {},
   "outputs": [],
   "source": [
    "# Just need one file instead of two!!\n",
    "WPATH <- \"data/GSE67684/processed/metadata/pid-mrd_label_tte_subtype.tsv\"\n",
    "write.table(metadata2, WPATH, quote = F, sep = \"\\t\")"
   ]
  },
  {
   "cell_type": "markdown",
   "metadata": {},
   "source": [
    "### V4\n",
    "- Added BMT (bone marrow transplant) column\n",
    "\n",
    "### V5\n",
    "- Added extra comments to status column\n",
    "- Added maspore and treatment columns (minor changes in maspore column from original: \"as per 2003\" changed to 2003)\n",
    "\n",
    "### V6\n",
    "- Added \"treatment_processed\" column\n",
    "    1. SR\n",
    "    2. IR\n",
    "    3. HR1\n",
    "        - HR subtypes (BCR-ABL1, MLL, Hypodiploid)\n",
    "        - PPR\n",
    "    4. HR2\n",
    "    5. BMT\n",
    "- Added \"treatment\" column (treatment + BMT)\n",
    "\n",
    "Note: Down syndrome (SR), MLL: Patients classified as IR are not changed."
   ]
  },
  {
   "cell_type": "code",
   "execution_count": 247,
   "metadata": {},
   "outputs": [],
   "source": [
    "RPATH <- \"../data/GSE67684/processed/metadata/pid-metadata_v5.tsv\"\n",
    "annot_v5 <- read.table(\n",
    "  RPATH, header = T, sep = \"\\t\", quote='\"',\n",
    "  row.names = 1, strip.white = T, stringsAsFactors = F\n",
    ")"
   ]
  },
  {
   "cell_type": "code",
   "execution_count": 248,
   "metadata": {
    "scrolled": true
   },
   "outputs": [],
   "source": [
    "treatment_processed <- substring(annot_v5$treatment_raw, 1, 2)\n",
    "annot_v5 <- cbind(\n",
    "  annot_v5[, 1:4],\n",
    "  treatment_processed,\n",
    "  annot_v5[, 5:11],\n",
    "  stringsAsFactors = F\n",
    ")\n",
    "\n",
    "# Assign HR (PPR) -> HR1\n",
    "annot_v5$treatment_processed[annot_v5$treatment_raw == \"HR (PPR)\"] <- \"HR1\"\n",
    "# Assign HR subtypes and \"treatment_raw\" that starts with HR -> HR1\n",
    "hr_subtypes <- subset(\n",
    "  annot_v5,\n",
    "  subtype %in% c(\"BCR-ABL\", \"MLL\", \"Hypodiploid\") &\n",
    "  startsWith(treatment_raw, \"HR\"),\n",
    "  select = c(\"subtype\", \"treatment_raw\", \"treatment_processed\")\n",
    ")\n",
    "annot_v5[rownames(hr_subtypes), \"treatment_processed\"] <- \"HR1\"\n",
    "annot_v5$treatment_processed[annot_v5$treatment_processed == \"HR\"] <- \"HR2\""
   ]
  },
  {
   "cell_type": "code",
   "execution_count": 249,
   "metadata": {
    "scrolled": false
   },
   "outputs": [],
   "source": [
    "treatment <- annot_v5$treatment_processed\n",
    "treatment[annot_v5$BMT] <- \"BMT\"\n",
    "annot_v6 <- cbind(\n",
    "  annot_v5[, 1:5],\n",
    "  treatment,\n",
    "  annot_v5[, 6:12],\n",
    "  stringsAsFactors = F\n",
    ")"
   ]
  },
  {
   "cell_type": "code",
   "execution_count": 254,
   "metadata": {},
   "outputs": [],
   "source": [
    "# subset(\n",
    "#   annot_v6,\n",
    "#   treatment_processed %in% c(\"HR1\", \"HR2\"),\n",
    "#   select = c(\"subtype\", \"treatment_raw\", \"treatment_processed\")\n",
    "# )"
   ]
  },
  {
   "cell_type": "code",
   "execution_count": 255,
   "metadata": {},
   "outputs": [],
   "source": [
    "WPATH <- \"../data/GSE67684/processed/metadata/pid-metadata_v6.tsv\"\n",
    "write.table(annot_v6, WPATH, quote = F, sep = \"\\t\")"
   ]
  },
  {
   "cell_type": "markdown",
   "metadata": {},
   "source": [
    "### V7\n",
    "- Add in Week 12 MRD column (same changes as Day 33 MRD)\n",
    "- <1x10-3 (+): NA\n",
    "- <1x10-3: NA\n",
    "- <5x10-4 (+): NA\n",
    "- <5x10-4: NA\n",
    "- <1x10-4 (+): 10^-6\n",
    "- Between 10^-5 and 10^-4: 10^-6\n",
    "- 1x10-5: 10^-8\n",
    "- <1x10-4: 10^-8\n",
    "- <1x10-5: 10^-8\n",
    "- <5x10-6: 10^-8"
   ]
  },
  {
   "cell_type": "code",
   "execution_count": 258,
   "metadata": {},
   "outputs": [],
   "source": [
    "rpath <- \"../data/GSE67684/processed/metadata/pid-metadata_v6.tsv\"\n",
    "annot_v6 <- read.table(rpath, sep = \"\\t\", header = T, row.names = 1, quote='\"')"
   ]
  },
  {
   "cell_type": "code",
   "execution_count": 259,
   "metadata": {},
   "outputs": [],
   "source": [
    "rpath <- \"../data/GSE67684/README/patient_metadata_v3.txt\"\n",
    "raw_v3 <- read.table(\n",
    "  rpath, sep = \"\\t\", header = T, row.names = 2,\n",
    "  strip.white = T, comment.char = \"\", quote='\"'\n",
    ")"
   ]
  },
  {
   "cell_type": "code",
   "execution_count": 260,
   "metadata": {
    "scrolled": true
   },
   "outputs": [],
   "source": [
    "wk12_mrd <- as.character(raw_v3[, 4])\n",
    "\n",
    "# Replace matched patterns\n",
    "mrd_levels1 <- c(\"<1x10-3\", \"<1x10-3 (+)\", \"<5x10-4\", \"<5x10-4 (+)\")\n",
    "mrd_levels2 <- c(\"<1x10-4 (+)\", \"<1x10-4(+)\")\n",
    "mrd_levels3 <- c(\"<1x10-4\", \"<1x10-5\", \"<5x10-6\")\n",
    "wk12_mrd[wk12_mrd %in% mrd_levels1] <- NA\n",
    "wk12_mrd[wk12_mrd %in% mrd_levels2] <- 1E-6\n",
    "wk12_mrd[wk12_mrd %in% mrd_levels3] <- 1E-8\n",
    "# Standardise all NA MRD\n",
    "wk12_mrd[substring(wk12_mrd, 1, 2) == \"NA\"] <- NA\n",
    "\n",
    "# Change to compatible exponential notation\n",
    "idx <- grepl(\"x10\", wk12_mrd)\n",
    "wk12_mrd[idx] <- sub(\"x10\", \"e\", wk12_mrd[idx])\n",
    "\n",
    "wk12_mrd <- as.numeric(wk12_mrd)"
   ]
  },
  {
   "cell_type": "code",
   "execution_count": 264,
   "metadata": {
    "scrolled": true
   },
   "outputs": [],
   "source": [
    "annot_v7 <- cbind(\n",
    "  annot_v6[, 1:2],\n",
    "  wk12_mrd,\n",
    "  wk12_mrd_raw = raw_v3[, 4],\n",
    "  annot_v6[, 3:13]\n",
    ")"
   ]
  },
  {
   "cell_type": "code",
   "execution_count": 265,
   "metadata": {},
   "outputs": [],
   "source": [
    "wpath <- \"../data/GSE67684/processed/metadata/pid-metadata_v7.tsv\"\n",
    "write.table(annot_v7, wpath, quote = F, sep = \"\\t\")"
   ]
  },
  {
   "cell_type": "code",
   "execution_count": 269,
   "metadata": {},
   "outputs": [],
   "source": [
    "# Assign HR1 (subtype)\n",
    "hr1_subtype <- subset(\n",
    "  annot_v7,\n",
    "  subtype %in% c(\"BCR-ABL\", \"MLL\", \"Hypodiploid\"),\n",
    "  c(\"subtype\", \"treatment_raw\", \"BMT\", \"treatment\")\n",
    ")"
   ]
  }
 ],
 "metadata": {
  "kernelspec": {
   "display_name": "R",
   "language": "R",
   "name": "ir"
  },
  "language_info": {
   "codemirror_mode": "r",
   "file_extension": ".r",
   "mimetype": "text/x-r-source",
   "name": "R",
   "pygments_lexer": "r",
   "version": "3.5.1"
  }
 },
 "nbformat": 4,
 "nbformat_minor": 2
}
