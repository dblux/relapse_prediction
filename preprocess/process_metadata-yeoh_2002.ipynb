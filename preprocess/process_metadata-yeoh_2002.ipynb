{
 "cells": [
  {
   "cell_type": "markdown",
   "metadata": {},
   "source": [
    "Add subtype info"
   ]
  },
  {
   "cell_type": "code",
   "execution_count": 1,
   "metadata": {},
   "outputs": [],
   "source": [
    "## Metadata\n",
    "METADATA_RPATH <- \"data/yeoh_2002/processed/metadata.tsv\"\n",
    "metadata <- read.table(METADATA_RPATH, header = T, sep = \"\\t\",\n",
    "                        comment.char = \"\", row.names = 1)\n",
    "## Add subtype info\n",
    "class_info <- as.factor(substring(rownames(metadata), 1, 1))\n",
    "levels(class_info) <- c(\"Hyperdiploid\", \"E2A-PBX1\", \"TEL-AML1\",\n",
    "                        \"BCR-ABL\", \"Hypodiploid\", \"Pseudodiploid\",\n",
    "                        \"MLL\", \"T-ALL\", \"Normal\")\n",
    "edited_metadata <- cbind(metadata, class_info)\n",
    "\n",
    "METADATA_WPATH <- \"data/yeoh_2002/processed/metadata1.tsv\"\n",
    "write.table(edited_metadata, METADATA_WPATH,\n",
    "            quote = F, sep = \"\\t\")"
   ]
  },
  {
   "cell_type": "markdown",
   "metadata": {},
   "source": [
    "Further separate hyperdiploid into subtypes (>50) and (47-50) and add relapse info"
   ]
  },
  {
   "cell_type": "code",
   "execution_count": 34,
   "metadata": {},
   "outputs": [],
   "source": [
    "## Metadata\n",
    "METADATA1_RPATH <- \"data/yeoh_2002/processed/metadata1.tsv\"\n",
    "metadata1 <- read.table(METADATA1_RPATH, header = T, sep = \"\\t\",\n",
    "                        comment.char = \"\", row.names = 1)"
   ]
  },
  {
   "cell_type": "code",
   "execution_count": null,
   "metadata": {},
   "outputs": [],
   "source": [
    "## Distinguish hypdip (>50) from (47-50)\n",
    "levels(metadata1$class_info)[3] <- \"Hyperdiploid (>50)\"\n",
    "levels(metadata1$class_info) <- c(levels(metadata1$class_info), \"Hyperdiploid (47-50)\")\n",
    "metadata1$class_info[65:87] <- \"Hyperdiploid (47-50)\""
   ]
  },
  {
   "cell_type": "code",
   "execution_count": 68,
   "metadata": {},
   "outputs": [],
   "source": [
    "split_info <- strsplit(as.character(metadata1$original_names), split = \"-\")\n",
    "raw_label <- sapply(split_info,\n",
    "                    function(x) ifelse(x[length(x)] != \"N\",\n",
    "                                       x[length(x)], x[length(x)-1]))\n",
    "map_label <- function(x) {\n",
    "  if (startsWith(x, \"C\")) {\n",
    "    return(\"CCR\")\n",
    "  } else if (startsWith(x, \"R\")) {\n",
    "    return(\"Heme relapse\")\n",
    "  } else if (startsWith(x, \"2\")) {\n",
    "    return(\"2nd AML\")\n",
    "  } else if (startsWith(x, \"#\")) {\n",
    "    return(NA)\n",
    "  } else {\n",
    "    stop(\"No matching substring!\")\n",
    "  }\n",
    "}\n",
    "                    \n",
    "outcome <- sapply(raw_label, map_label)"
   ]
  },
  {
   "cell_type": "code",
   "execution_count": 79,
   "metadata": {},
   "outputs": [],
   "source": [
    "metadata2 <- cbind(metadata1, outcome)\n",
    "\n",
    "## Manual editing of relapse info according to suppl data\n",
    "subset_pid <- c(\"T-ALL-#1\", \"T-ALL-#2\", \"TEL-AML1-#1\", \"Pseudodip-#1\")\n",
    "idx <- which(metadata2$original_names %in% subset_pid)\n",
    "levels(metadata2$outcome) <- c(levels(metadata2$outcome), \"Other relapse\")\n",
    "metadata2$outcome[idx] <- \"Other relapse\"\n",
    "\n",
    "## Binarise outcome into label relapse: (\"\")\n",
    "label <- ifelse(metadata2$outcome == \"CCR\", 0, 1)\n",
    "metadata3 <- cbind(metadata2, label)\n",
    "\n",
    "METADATA_WPATH <- \"data/yeoh_2002/processed/metadata2.tsv\"\n",
    "write.table(metadata3, METADATA_WPATH,\n",
    "            quote = F, sep = \"\\t\")"
   ]
  }
 ],
 "metadata": {
  "kernelspec": {
   "display_name": "R",
   "language": "R",
   "name": "ir"
  },
  "language_info": {
   "codemirror_mode": "r",
   "file_extension": ".r",
   "mimetype": "text/x-r-source",
   "name": "R",
   "pygments_lexer": "r",
   "version": "3.5.1"
  }
 },
 "nbformat": 4,
 "nbformat_minor": 2
}
