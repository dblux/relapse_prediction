{
 "cells": [
  {
   "cell_type": "code",
   "execution_count": 1,
   "metadata": {},
   "outputs": [
    {
     "name": "stderr",
     "output_type": "stream",
     "text": [
      "\n",
      "Attaching package: ‘dplyr’\n",
      "\n",
      "The following objects are masked from ‘package:stats’:\n",
      "\n",
      "    filter, lag\n",
      "\n",
      "The following objects are masked from ‘package:base’:\n",
      "\n",
      "    intersect, setdiff, setequal, union\n",
      "\n",
      "\n",
      "********************************************************\n",
      "Note: As of version 1.0.0, cowplot does not change the\n",
      "  default ggplot2 theme anymore. To recover the previous\n",
      "  behavior, execute:\n",
      "  theme_set(theme_cowplot())\n",
      "********************************************************\n",
      "\n",
      "Type 'citation(\"pROC\")' for a citation.\n",
      "\n",
      "Attaching package: ‘pROC’\n",
      "\n",
      "The following objects are masked from ‘package:stats’:\n",
      "\n",
      "    cov, smooth, var\n",
      "\n"
     ]
    }
   ],
   "source": [
    "library(dplyr)\n",
    "library(reshape2)\n",
    "library(survival)\n",
    "library(tibble)\n",
    "library(xtable)\n",
    "\n",
    "## Plotting\n",
    "library(RColorBrewer)\n",
    "library(ggplot2)\n",
    "library(cowplot)\n",
    "library(pheatmap)\n",
    "library(pROC)\n",
    "# library(rgl)\n",
    "# library(UpSetR)\n",
    "\n",
    "theme_set(theme_bw())"
   ]
  },
  {
   "cell_type": "code",
   "execution_count": 45,
   "metadata": {},
   "outputs": [],
   "source": [
    "source(\"R/calc.R\")\n",
    "source(\"R/misc.R\")\n",
    "source(\"R/normalise.R\")\n",
    "source(\"R/plot.R\")\n",
    "source(\"R/predict.R\")\n",
    "source(\"R/subset.R\")\n",
    "source(\"R/utils.R\")"
   ]
  },
  {
   "cell_type": "markdown",
   "metadata": {},
   "source": [
    "# Import data"
   ]
  },
  {
   "cell_type": "code",
   "execution_count": 182,
   "metadata": {
    "scrolled": true
   },
   "outputs": [
    {
     "name": "stdout",
     "output_type": "stream",
     "text": [
      "  P001_D0   P004_D0   P005_D0   P007_D0   P008_D0   P009_D0 \n",
      " 5.796952  4.123342  3.981577  6.317643  4.841458 11.978124 \n",
      "[1] \"No. of ambiguous and AFFY probesets removed: 10503\"\n",
      "[1] D0 D0 D0 D0 D0 D0\n",
      "Levels: D0 D8 N\n",
      "           D0    D8     N\n",
      "1053_at  TRUE  TRUE  TRUE\n",
      "117_at  FALSE  TRUE  TRUE\n",
      "121_at   TRUE  TRUE  TRUE\n",
      "1294_at  TRUE  TRUE  TRUE\n",
      "1316_at  TRUE  TRUE  TRUE\n",
      "1320_at FALSE FALSE FALSE\n",
      "[1] \"No. of probesets removed = 6321\"\n"
     ]
    }
   ],
   "source": [
    "### ANNOTATIONS\n",
    "METADATA_SID <- \"data/GSE67684/processed/metadata/sid-metadata_v2.tsv\"\n",
    "METADATA_PID <- \"data/GSE67684/processed/metadata/pid-metadata_v7.tsv\"\n",
    "\n",
    "metadata_sid <- read.table(METADATA_SID, sep = \"\\t\")\n",
    "metadata_pid <- read.table(METADATA_PID, sep = \"\\t\", row.names = 1, quote = '\"')\n",
    "metadata_pid$label <- as.factor(metadata_pid$label)\n",
    "\n",
    "### DATA\n",
    "# Removed outliers, patients with timepoints from different batches and batch 5\n",
    "SUBSET_RPATH <- \"data/GSE67684/processed/subset_yeoh.tsv\"\n",
    "raw_yeoh <- read.table(SUBSET_RPATH, sep = \"\\t\")\n",
    "# SCALE->REMOVE->FILTER->LOG\n",
    "scaled_yeoh <- normaliseMeanScaling(raw_yeoh)\n",
    "selected_yeoh <- removeProbesets(scaled_yeoh)\n",
    "yeoh <- log2_transform(filterProbesets(selected_yeoh, 0.7, metadata_sid))\n",
    "\n",
    "yeoh_allps <- log2_transform(scaled_yeoh)\n",
    "yeoh_unfltr <- log2_transform(selected_yeoh)"
   ]
  },
  {
   "cell_type": "markdown",
   "metadata": {},
   "source": [
    "# Global variables"
   ]
  },
  {
   "cell_type": "code",
   "execution_count": 183,
   "metadata": {},
   "outputs": [],
   "source": [
    "### GLOBAL VARIABLES\n",
    "metadata <- metadata_sid[colnames(yeoh),]\n",
    "heatmap_metadata <- metadata[, c(\"batch_info\", \"label\"), drop = F]\n",
    "COL_LABEL <- c(\"darkolivegreen3\", \"tomato3\")\n",
    "\n",
    "# List subtypes\n",
    "subtypes9 <- levels(metadata_sid$subtype)\n",
    "subtypes7 <- setdiff(subtypes9, c(\"Hypodiploid\", \"Normal\"))\n",
    "subtypes6 <- setdiff(subtypes7, \"Others\")\n",
    "subtypes5 <- setdiff(\n",
    "  subtypes9,\n",
    "  c(\"Hypodiploid\", \"Normal\", \"Hyperdiploid\", \"Others\")\n",
    ")\n",
    "others <- yeoh[, metadata$subtype == \"Others\"]\n",
    "others_normal <- yeoh[, metadata$subtype %in% c(\"Others\", \"Normal\")]\n",
    "\n",
    "# Define train/test split\n",
    "sid_mrd_na <- rownames(metadata_sid)[is.na(metadata_sid$d33_mrd)] %>%\n",
    "  rep(each = 2) %>%\n",
    "  paste0(c(\"_D0\", \"_D8\"))\n",
    "\n",
    "sid_alltrain_local <- rownames(metadata)[\n",
    "  !(metadata$subtype %in% c(\"Hypodiploid\", \"Normal\")) &\n",
    "  !(rownames(metadata) %in% sid_mrd_na)\n",
    "]\n",
    "sid_alltrain <- rownames(metadata)[\n",
    "  !(metadata$subtype %in% c(\"Hypodiploid\", \"Hyperdiploid\", \"Others\", \"Normal\")) &\n",
    "  !(rownames(metadata) %in% sid_mrd_na)\n",
    "]\n",
    "sid_train <- rownames(metadata)[\n",
    "  metadata$batch_info %in% 1:7 &\n",
    "  !(metadata$subtype %in% c(\"Hypodiploid\", \"Hyperdiploid\", \"Others\", \"Normal\")) &\n",
    "  !(rownames(metadata) %in% sid_mrd_na)\n",
    "]\n",
    "sid_test <- rownames(metadata)[\n",
    "  metadata$batch_info %in% 8:10 &\n",
    "  !(metadata$subtype %in% c(\"Hypodiploid\", \"Hyperdiploid\", \"Others\", \"Normal\")) &\n",
    "  !(rownames(metadata) %in% sid_mrd_na)\n",
    "]\n",
    "\n",
    "sid_remission <- rownames(metadata)[metadata$label == 0]\n",
    "sid_normal <- paste0(\"N0\", c(1,2,4))"
   ]
  },
  {
   "cell_type": "markdown",
   "metadata": {},
   "source": [
    "### Batch features"
   ]
  },
  {
   "cell_type": "code",
   "execution_count": 184,
   "metadata": {},
   "outputs": [
    {
     "name": "stdout",
     "output_type": "stream",
     "text": [
      "[1] \"No. of NaNs = 0\"\n"
     ]
    },
    {
     "data": {
      "text/html": [
       "2565"
      ],
      "text/latex": [
       "2565"
      ],
      "text/markdown": [
       "2565"
      ],
      "text/plain": [
       "[1] 2565"
      ]
     },
     "metadata": {},
     "output_type": "display_data"
    }
   ],
   "source": [
    "batch_ps <- identify_batch_features(yeoh, metadata, method = 'aov')\n",
    "length(batch_ps)"
   ]
  },
  {
   "cell_type": "markdown",
   "metadata": {},
   "source": [
    "### Goh (2019): SPS genes\n",
    "- Super proliferative set\n",
    "- Obtained from intersection of 48 sets of breast cancer signatures"
   ]
  },
  {
   "cell_type": "code",
   "execution_count": 163,
   "metadata": {},
   "outputs": [],
   "source": [
    "source(\"R/utils.R\")"
   ]
  },
  {
   "cell_type": "code",
   "execution_count": 23,
   "metadata": {},
   "outputs": [],
   "source": [
    "GOH_RPATH <- \"data/goh_2019/goh_signatures.tsv\"\n",
    "genes_tab <- read.table(GOH_RPATH, sep = \"\\t\", header = T)\n",
    "goh_genes <- genes_tab[, 1]"
   ]
  },
  {
   "cell_type": "code",
   "execution_count": 164,
   "metadata": {},
   "outputs": [
    {
     "name": "stdout",
     "output_type": "stream",
     "text": [
      "No. of probesets with no ID removed = 1314\n",
      "Total no. of probesets removed (incl. probesets mapping to same gene): 9033\n"
     ]
    }
   ],
   "source": [
    "ENTREZ_GPL570 <- \"../info/microarray/HG-U133_Plus_2/annot_entrez-GPL570.tsv\"\n",
    "entrez_yeoh <- affy2id(yeoh_allps, ENTREZ_GPL570)"
   ]
  },
  {
   "cell_type": "code",
   "execution_count": 169,
   "metadata": {},
   "outputs": [],
   "source": [
    "goh_genes1 <- intersect(goh_genes, rownames(entrez_yeoh))"
   ]
  },
  {
   "cell_type": "code",
   "execution_count": 170,
   "metadata": {},
   "outputs": [
    {
     "name": "stdout",
     "output_type": "stream",
     "text": [
      "[1] \"No. of selected genes = \" \"80\"                      \n",
      "[1] \"No. of final genes = \" \"80\"                   \n",
      "[1] \"NO. OF SAMPLES IN CENTROID: 5\"\n",
      "[1] \"No. of selected genes = \" \"80\"                      \n",
      "[1] \"No. of final genes = \" \"80\"                   \n",
      "[1] \"NO. OF SAMPLES IN CENTROID: 5\"\n",
      "[1] \"No. of selected genes = \" \"80\"                      \n",
      "[1] \"No. of final genes = \" \"80\"                   \n",
      "[1] \"NO. OF SAMPLES IN CENTROID: 31\"\n",
      "[1] \"No. of selected genes = \" \"80\"                      \n",
      "[1] \"No. of final genes = \" \"80\"                   \n",
      "[1] \"NO. OF SAMPLES IN CENTROID: 3\"\n",
      "[1] \"No. of selected genes = \" \"80\"                      \n",
      "[1] \"No. of final genes = \" \"80\"                   \n",
      "[1] \"NO. OF SAMPLES IN CENTROID: 63\"\n",
      "[1] \"No. of selected genes = \" \"80\"                      \n",
      "[1] \"No. of final genes = \" \"80\"                   \n",
      "[1] \"NO. OF SAMPLES IN CENTROID: 8\"\n",
      "[1] \"No. of selected genes = \" \"80\"                      \n",
      "[1] \"No. of final genes = \" \"80\"                   \n",
      "[1] \"NO. OF SAMPLES IN CENTROID: 29\"\n"
     ]
    }
   ],
   "source": [
    "X_normal <- entrez_yeoh[, sid_normal]\n",
    "list_X_subtypes7 <- lapply(\n",
    "  subtypes7,\n",
    "  function(subtype) entrez_yeoh[,\n",
    "    sid_alltrain_local[annot[sid_alltrain_local, \"subtype\"] == subtype]\n",
    "  ]\n",
    ")\n",
    "list_obj1 <- lapply(\n",
    "  list_X_subtypes7,\n",
    "  predict_pipeline,\n",
    "  X_normal, annot, annot_pid,\n",
    "  class_genes = goh_genes1\n",
    ")\n",
    "names(list_obj1) <- subtypes7"
   ]
  },
  {
   "cell_type": "code",
   "execution_count": 171,
   "metadata": {},
   "outputs": [
    {
     "name": "stderr",
     "output_type": "stream",
     "text": [
      "Warning message in wilcox.test.default(list_feat[[1]], list_feat[[2]], exact = T):\n",
      "“cannot compute exact p-value with ties”Warning message in wilcox.test.default(list_feat[[1]], list_feat[[2]], exact = T):\n",
      "“cannot compute exact p-value with ties”Warning message in wilcox.test.default(list_feat[[1]], list_feat[[2]], exact = T):\n",
      "“cannot compute exact p-value with ties”Warning message in wilcox.test.default(list_feat[[1]], list_feat[[2]], exact = T):\n",
      "“cannot compute exact p-value with ties”Warning message in wilcox.test.default(list_feat[[1]], list_feat[[2]], exact = T):\n",
      "“cannot compute exact p-value with ties”Warning message in wilcox.test.default(list_feat[[1]], list_feat[[2]], exact = T):\n",
      "“cannot compute exact p-value with ties”Warning message in wilcox.test.default(list_feat[[1]], list_feat[[2]], exact = T):\n",
      "“cannot compute exact p-value with ties”Warning message in wilcox.test.default(list_feat[[1]], list_feat[[2]], exact = T):\n",
      "“cannot compute exact p-value with ties”Warning message in wilcox.test.default(list_feat[[1]], list_feat[[2]], exact = T):\n",
      "“cannot compute exact p-value with ties”Warning message in wilcox.test.default(list_feat[[1]], list_feat[[2]], exact = T):\n",
      "“cannot compute exact p-value with ties”Warning message in wilcox.test.default(list_feat[[1]], list_feat[[2]], exact = T):\n",
      "“cannot compute exact p-value with ties”Warning message in wilcox.test.default(list_feat[[1]], list_feat[[2]], exact = T):\n",
      "“cannot compute exact p-value with ties”"
     ]
    }
   ],
   "source": [
    "boxplots <- lapply(list_obj1, function(obj) plot_boxplots(obj$X_y))\n",
    "names(boxplots) <- subtypes7"
   ]
  },
  {
   "cell_type": "code",
   "execution_count": 172,
   "metadata": {},
   "outputs": [],
   "source": [
    "for (subtype in subtypes7) {\n",
    "  wpath <- sprintf(\"~/Dropbox/tmp/boxplot_sps-%s.pdf\", subtype)\n",
    "  ggsave(wpath, boxplots[[subtype]], width = 8, height = 2.5)\n",
    "}"
   ]
  },
  {
   "cell_type": "code",
   "execution_count": null,
   "metadata": {},
   "outputs": [],
   "source": [
    "# # All D0 samples\n",
    "# ayeoh_fltr <- ann_yeoh[\n",
    "#   gene_signatures,\n",
    "#   Y[colnames(ann_yeoh), \"class_info\"] == \"D0\"\n",
    "# ]\n",
    "# ayeoh_fltr <- ayeoh_fltr[rowSums(ayeoh_fltr) != 0, ]\n",
    "\n",
    "# heatmap_annot <- Y[, c(\"batch_info\", \"label\", \"subtype\"), drop = F]\n",
    "# heatmap_annot$batch_info <- as.double(heatmap_annot$batch_info)\n",
    "\n",
    "# sps_hmap <- pheatmap(\n",
    "#   sps_yeoh,\n",
    "#   col = brewer.pal(n = 11, name = \"RdBu\"),\n",
    "# #   col = brewer.pal(9, \"Blues\"),\n",
    "#   display_numbers = F, legend = T, border_color = NULL,\n",
    "#   cluster_method = \"ward.D2\", cluster_rows = T, cluster_cols = T,\n",
    "# #   cutree_cols = 4,\n",
    "#   scale = \"row\", show_colnames = F, show_rownames = F,\n",
    "#   annotation_col = Y,\n",
    "#   fontsize = 3, cellwidth = 2, cellheight = 5,\n",
    "#   filename = \"~/Dropbox/temp/heatmap-sps_signatures.pdf\"\n",
    "# )"
   ]
  },
  {
   "cell_type": "markdown",
   "metadata": {},
   "source": [
    "### B cell marker proteins"
   ]
  },
  {
   "cell_type": "code",
   "execution_count": 173,
   "metadata": {},
   "outputs": [],
   "source": [
    "strict_bcell <- c('CD19', 'CD38', 'CD72', 'CD79A', 'CD79B')"
   ]
  },
  {
   "cell_type": "code",
   "execution_count": 174,
   "metadata": {},
   "outputs": [
    {
     "name": "stdout",
     "output_type": "stream",
     "text": [
      "No. of probesets with no ID removed = 1052\n",
      "Total no. of probesets removed (incl. probesets mapping to same gene): 8762\n"
     ]
    }
   ],
   "source": [
    "SYMBOL_GPL570 <- \"../info/microarray/HG-U133_Plus_2/annot_genesymbol-GPL570.tsv\"\n",
    "symbol_yeoh <- affy2id(yeoh_allps, SYMBOL_GPL570)"
   ]
  },
  {
   "cell_type": "code",
   "execution_count": 176,
   "metadata": {},
   "outputs": [],
   "source": [
    "strict_bcell1 <- intersect(strict_bcell, rownames(symbol_yeoh))"
   ]
  },
  {
   "cell_type": "code",
   "execution_count": 177,
   "metadata": {},
   "outputs": [
    {
     "name": "stdout",
     "output_type": "stream",
     "text": [
      "[1] \"No. of selected genes = \" \"5\"                       \n",
      "[1] \"No. of final genes = \" \"5\"                    \n",
      "[1] \"NO. OF SAMPLES IN CENTROID: 5\"\n",
      "[1] \"No. of selected genes = \" \"5\"                       \n",
      "[1] \"No. of final genes = \" \"5\"                    \n",
      "[1] \"NO. OF SAMPLES IN CENTROID: 5\"\n",
      "[1] \"No. of selected genes = \" \"5\"                       \n",
      "[1] \"No. of final genes = \" \"5\"                    \n",
      "[1] \"NO. OF SAMPLES IN CENTROID: 31\"\n",
      "[1] \"No. of selected genes = \" \"5\"                       \n",
      "[1] \"No. of final genes = \" \"5\"                    \n",
      "[1] \"NO. OF SAMPLES IN CENTROID: 3\"\n",
      "[1] \"No. of selected genes = \" \"5\"                       \n",
      "[1] \"No. of final genes = \" \"5\"                    \n",
      "[1] \"NO. OF SAMPLES IN CENTROID: 63\"\n",
      "[1] \"No. of selected genes = \" \"5\"                       \n",
      "[1] \"No. of final genes = \" \"5\"                    \n",
      "[1] \"NO. OF SAMPLES IN CENTROID: 8\"\n",
      "[1] \"No. of selected genes = \" \"5\"                       \n",
      "[1] \"No. of final genes = \" \"5\"                    \n",
      "[1] \"NO. OF SAMPLES IN CENTROID: 29\"\n"
     ]
    }
   ],
   "source": [
    "X_normal <- symbol_yeoh[, sid_normal]\n",
    "list_X_subtypes7 <- lapply(\n",
    "  subtypes7,\n",
    "  function(subtype) symbol_yeoh[,\n",
    "    sid_alltrain_local[annot[sid_alltrain_local, \"subtype\"] == subtype]\n",
    "  ]\n",
    ")\n",
    "list_obj1 <- lapply(\n",
    "  list_X_subtypes7,\n",
    "  predict_pipeline,\n",
    "  X_normal, annot, annot_pid,\n",
    "  class_genes = strict_bcell1\n",
    ")\n",
    "names(list_obj1) <- subtypes7"
   ]
  },
  {
   "cell_type": "code",
   "execution_count": 178,
   "metadata": {},
   "outputs": [
    {
     "name": "stderr",
     "output_type": "stream",
     "text": [
      "Warning message in wilcox.test.default(list_feat[[1]], list_feat[[2]], exact = T):\n",
      "“cannot compute exact p-value with ties”Warning message in wilcox.test.default(list_feat[[1]], list_feat[[2]], exact = T):\n",
      "“cannot compute exact p-value with ties”Warning message in wilcox.test.default(list_feat[[1]], list_feat[[2]], exact = T):\n",
      "“cannot compute exact p-value with ties”Warning message in wilcox.test.default(list_feat[[1]], list_feat[[2]], exact = T):\n",
      "“cannot compute exact p-value with ties”Warning message in wilcox.test.default(list_feat[[1]], list_feat[[2]], exact = T):\n",
      "“cannot compute exact p-value with ties”Warning message in wilcox.test.default(list_feat[[1]], list_feat[[2]], exact = T):\n",
      "“cannot compute exact p-value with ties”Warning message in wilcox.test.default(list_feat[[1]], list_feat[[2]], exact = T):\n",
      "“cannot compute exact p-value with ties”Warning message in wilcox.test.default(list_feat[[1]], list_feat[[2]], exact = T):\n",
      "“cannot compute exact p-value with ties”Warning message in wilcox.test.default(list_feat[[1]], list_feat[[2]], exact = T):\n",
      "“cannot compute exact p-value with ties”Warning message in wilcox.test.default(list_feat[[1]], list_feat[[2]], exact = T):\n",
      "“cannot compute exact p-value with ties”Warning message in wilcox.test.default(list_feat[[1]], list_feat[[2]], exact = T):\n",
      "“cannot compute exact p-value with ties”"
     ]
    }
   ],
   "source": [
    "boxplots <- lapply(list_obj1, function(obj) plot_boxplots(obj$X_y))\n",
    "names(boxplots) <- subtypes7"
   ]
  },
  {
   "cell_type": "code",
   "execution_count": 179,
   "metadata": {},
   "outputs": [],
   "source": [
    "for (subtype in subtypes7) {\n",
    "  wpath <- sprintf(\"~/Dropbox/tmp/boxplot_cd-%s.pdf\", subtype)\n",
    "  ggsave(wpath, boxplots[[subtype]], width = 8, height = 2.5)\n",
    "}"
   ]
  }
 ],
 "metadata": {
  "kernelspec": {
   "display_name": "R",
   "language": "R",
   "name": "ir"
  },
  "language_info": {
   "codemirror_mode": "r",
   "file_extension": ".r",
   "mimetype": "text/x-r-source",
   "name": "R",
   "pygments_lexer": "r",
   "version": "3.5.1"
  }
 },
 "nbformat": 4,
 "nbformat_minor": 2
}
