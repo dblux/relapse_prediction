{
 "cells": [
  {
   "cell_type": "code",
   "execution_count": 1,
   "metadata": {},
   "outputs": [
    {
     "name": "stderr",
     "output_type": "stream",
     "text": [
      "\n",
      "Attaching package: ‘dplyr’\n",
      "\n",
      "The following objects are masked from ‘package:stats’:\n",
      "\n",
      "    filter, lag\n",
      "\n",
      "The following objects are masked from ‘package:base’:\n",
      "\n",
      "    intersect, setdiff, setequal, union\n",
      "\n",
      "\n",
      "Attaching package: ‘igraph’\n",
      "\n",
      "The following objects are masked from ‘package:dplyr’:\n",
      "\n",
      "    as_data_frame, groups, union\n",
      "\n",
      "The following objects are masked from ‘package:stats’:\n",
      "\n",
      "    decompose, spectrum\n",
      "\n",
      "The following object is masked from ‘package:base’:\n",
      "\n",
      "    union\n",
      "\n",
      "Type 'citation(\"pROC\")' for a citation.\n",
      "\n",
      "Attaching package: ‘pROC’\n",
      "\n",
      "The following objects are masked from ‘package:stats’:\n",
      "\n",
      "    cov, smooth, var\n",
      "\n",
      "\n",
      "********************************************************\n",
      "Note: As of version 1.0.0, cowplot does not change the\n",
      "  default ggplot2 theme anymore. To recover the previous\n",
      "  behavior, execute:\n",
      "  theme_set(theme_cowplot())\n",
      "********************************************************\n",
      "\n",
      "Warning message in rgl.init(initValue, onlyNULL):\n",
      "“RGL: unable to open X11 display”Warning message:\n",
      "“'rgl_init' failed, running with rgl.useNULL = TRUE”Loading required package: grid\n",
      "Loading required package: futile.logger\n",
      "Loading required package: mgcv\n",
      "Loading required package: nlme\n",
      "\n",
      "Attaching package: ‘nlme’\n",
      "\n",
      "The following object is masked from ‘package:dplyr’:\n",
      "\n",
      "    collapse\n",
      "\n",
      "This is mgcv 1.8-28. For overview type 'help(\"mgcv-package\")'.\n",
      "\n",
      "Attaching package: ‘mgcv’\n",
      "\n",
      "The following object is masked from ‘package:futile.logger’:\n",
      "\n",
      "    scat\n",
      "\n",
      "Loading required package: genefilter\n",
      "Loading required package: BiocParallel\n"
     ]
    }
   ],
   "source": [
    "library(reshape2)\n",
    "library(dplyr)\n",
    "library(igraph)\n",
    "\n",
    "## Plotting\n",
    "library(pROC)\n",
    "library(ggplot2)\n",
    "theme_set(theme_gray())\n",
    "library(cowplot)\n",
    "library(rgl)\n",
    "library(RColorBrewer)\n",
    "library(pheatmap)\n",
    "library(UpSetR)\n",
    "library(VennDiagram)\n",
    "library(xtable)\n",
    "library(Rtsne)\n",
    "# library(dendextend)\n",
    "library(repr)\n",
    "options(repr.plot.width=8, repr.plot.height=4)\n",
    "\n",
    "library(limma)\n",
    "library(sva)\n",
    "\n",
    "## Custom\n",
    "source(\"../functions.R\")"
   ]
  },
  {
   "cell_type": "code",
   "execution_count": 2,
   "metadata": {},
   "outputs": [],
   "source": [
    "# FUNCTIONS ---------------------------------------------------------------\n",
    "plot_mean <- function(df, batch_vec1) {\n",
    "  # Melt dataframe\n",
    "  melt_df <- melt(df, variable.name = \"ID\")\n",
    "  print(head(melt_df))\n",
    "  # Trimmed mean probe intensities for each chip\n",
    "  mean_tibble <- melt_df %>% group_by(ID) %>%\n",
    "    summarise(mean = mean(value))\n",
    "  mean_batch_tibble <- cbind(mean_tibble,\n",
    "                             batch_vec1 = batch_vec1[mean_tibble$ID])\n",
    "  \n",
    "  mean_scatter <- ggplot(mean_batch_tibble, aes(x = ID, y = mean)) +\n",
    "    geom_point(aes(col = factor(batch_vec1)),\n",
    "               show.legend = F, size = 3) +\n",
    "    facet_wrap(factor(batch_vec1), scales = \"free_x\") +\n",
    "    theme(axis.text.x = element_blank(), axis.ticks.x = element_blank())\n",
    "  return(mean_scatter)\n",
    "}\n",
    "\n",
    "# Selecting drug responsive genes between D0 and D8\n",
    "# using paired t-test and logfc\n",
    "selectFeatures <- function(df1, metadata_df,\n",
    "                           alpha = 0.05, logfc_threshold = 1) {\n",
    "  # Subset df according to D0 and D8\n",
    "  class_info <- metadata_df[colnames(df1), \"class_info\"]\n",
    "  df_d0 <- df1[,class_info == \"D0\"]\n",
    "  df_d8 <- df1[,class_info == \"D8\"]\n",
    "  print(head(colnames(df_d0)))\n",
    "  print(head(colnames(df_d8)))\n",
    "  stopifnot(ncol(df_d0) == ncol(df_d8))\n",
    "  \n",
    "  # Identify drug responsive probesets\n",
    "  ttest_pvalue <- calc_ttest(cbind(df_d0, df_d8), ncol(df_d0), is_paired = T)\n",
    "  log_fc <- rowMeans(df_d8) - rowMeans(df_d0)\n",
    "  ttest_probesets <- names(ttest_pvalue)[ttest_pvalue <= alpha]\n",
    "  fc_probesets <- names(log_fc)[log_fc > logfc_threshold]\n",
    "  intersect_probesets <- intersect(ttest_probesets, fc_probesets)\n",
    "  print(paste(\"T-test:\", length(ttest_probesets)))\n",
    "  print(paste(\"Log fold change:\", length(fc_probesets)))\n",
    "  print(paste(\"Intersection:\", length(intersect_probesets)))\n",
    "  return(intersect_probesets)\n",
    "}\n",
    "\n",
    "# 3D PCA plot\n",
    "plotPCA3D <- function(df, colour, pch, pc_labels = NULL,\n",
    "                      ratio_list = list(2,1,1)) {\n",
    "  if (is.null(pc_labels)) {\n",
    "    print(\"PCA performed!\")\n",
    "    pca_obj <- prcomp(t(df), center = T, scale. = F)\n",
    "    pca_df <- as.data.frame(pca_obj$x[,1:3])\n",
    "    eigenvalues <- (pca_obj$sdev)^2\n",
    "    var_pc <- eigenvalues[1:3]/sum(eigenvalues)\n",
    "    print(var_pc)\n",
    "    pc_labels <- sprintf(\"PC%d (%.2f%%)\", 1:3, var_pc*100)\n",
    "  } else {\n",
    "    print(\"No PCA performed!\")\n",
    "    pca_df <- as.data.frame(df)\n",
    "  }\n",
    "  \n",
    "  # RGL plot parameters\n",
    "  rgl.open()\n",
    "  rgl.bg(color=\"white\")\n",
    "  rgl.viewpoint(zoom = 0.8)\n",
    "  # rgl.viewpoint(theta = 110, phi = 5, zoom = 0.8)\n",
    "  par3d(windowRect = c(50, 20, 500, 500))\n",
    "  with(pca_df, pch3d(PC1, PC2, PC3, bg = colour,\n",
    "                     pch = pch, cex = 0.5, lwd = 1.5))\n",
    "  box3d(col = \"black\")\n",
    "  title3d(xlab = pc_labels[1], ylab = pc_labels[2],\n",
    "          zlab = pc_labels[3], col = \"black\")\n",
    "  # Plot aspect ratios of axis according to variance\n",
    "  do.call(aspect3d, ratio_list)\n",
    "}\n",
    "\n",
    "# Plot PCA before selecting features\n",
    "# Batch information of all the timepoints\n",
    "plotPCA3DYeoh <- function(df1, metadata_df) {\n",
    "  batch_info <- metadata_df[colnames(df1), \"batch_info\"]\n",
    "  generate_colour <- colorRampPalette(c(\"lightblue\", \"darkblue\"))\n",
    "  batch_palette <- generate_colour(10)\n",
    "  # batch_palette <- brewer.pal(10, \"Set3\")\n",
    "  batch_colour <- batch_palette[batch_info]\n",
    "  # Shape of all timepoints\n",
    "  class_info <- metadata_df[colnames(df1), \"class_info\"]\n",
    "  print(levels(class_info))\n",
    "  levels(class_info) <- 21:23\n",
    "  timepoint_shape <- as.numeric(as.character(class_info))\n",
    "  plotPCA3D(df1, batch_colour, timepoint_shape)\n",
    "}\n",
    "\n",
    "# Plot PCA before selecting features\n",
    "# Batch information of all the timepoints\n",
    "plotPCA3DYeoh1 <- function(df1, metadata_df) {\n",
    "  batch_info <- metadata_df[colnames(df1), \"batch_info\"]\n",
    "  batch_factor <- droplevels(as.factor(batch_info))\n",
    "  print(batch_factor)\n",
    "  print(levels(batch_factor))\n",
    "  levels(batch_factor) <- 21:22\n",
    "  pch <- as.numeric(as.character(batch_factor))\n",
    "  # generate_colour <- colorRampPalette(c(\"lightblue\", \"darkblue\"))\n",
    "  # batch_palette <- generate_colour(10)\n",
    "  \n",
    "  # Shape of all timepoints\n",
    "  class_info <- metadata_df[colnames(df1), \"subtype\"]\n",
    "  palette <- brewer.pal(10, \"Set3\")\n",
    "  col <- palette[class_info]\n",
    "  \n",
    "  plotPCA3D(df1, col, pch)\n",
    "}\n",
    "\n",
    "plotJitterYeoh <- function(X, metadata_df, n_pc = 10) {\n",
    "  pca_obj <- prcomp(t(X))\n",
    "  X_pca <- data.frame(pca_obj$x)\n",
    "  batch <- as.factor(metadata_df[rownames(X_pca),\"batch_info\"])\n",
    "  class <- as.factor(metadata_df[rownames(X_pca),\"class_info\"])\n",
    "  X_meta <- cbind(batch, class, X_pca[,1:n_pc])\n",
    "  X_long <- melt(X_meta, id = c(\"batch\", \"class\"), variable.name=\"PC\")\n",
    "  \n",
    "  ax_batch <- ggplot(X_long, aes(x=PC, y=value)) +\n",
    "    # geom_boxplot(aes(fill=batch), alpha=0.3, outlier.shape=NA) +\n",
    "    geom_point(aes(colour=batch), position=position_jitterdodge(),\n",
    "               size = 1, alpha = 1.0)\n",
    "  \n",
    "  ax_class <- ggplot(X_long, aes(x=PC, y=value)) +\n",
    "    # geom_boxplot(aes(fill=class), alpha=0.3, outlier.shape=NA) +\n",
    "    geom_point(aes(colour=class), position=position_jitterdodge(),\n",
    "               size = 1, alpha = 1.0)\n",
    "  \n",
    "  fig <- plot_grid(ax_batch, ax_class, nrow = 2)\n",
    "  return(fig)  \n",
    "}\n",
    "\n",
    "plotFeatures <- function(results, metadata_df) {\n",
    "  y <- as.factor(metadata_df[rownames(results),\"label\"])\n",
    "  subset_features1 <- c(\"erm1\", \"angle_d0d8_normal\", \"l2norm_d0_d8\",\n",
    "                        \"l2norm_d0_normal\", \"l2norm_d8_normal\", \"l2norm_diff\",\n",
    "                        \"erm1_ratio1\", \"erm1_ratio2\", \"erm1_ratio3\",\n",
    "                        \"l2norm_ratio1\", \"l2norm_ratio2\", \"l2norm_diff_ratio\")\n",
    "  \n",
    "  features1 <- results[, subset_features1, drop=F]\n",
    "  features1_y <- data.frame(features1, label = y)\n",
    "  long_features1_y <- melt(features1_y, id=\"label\", variable.name = \"feature\")\n",
    "  \n",
    "  # PLOT: FEATURES\n",
    "  jitter_features1 <- ggplot(long_features1_y) +\n",
    "    geom_point(aes(feature, value, colour = label),\n",
    "               position = position_jitterdodge(), cex = 3,\n",
    "               show.legend = F) +\n",
    "    scale_color_manual(values = c(\"darkolivegreen3\", \"tomato3\")) +\n",
    "    facet_wrap(~feature, nrow = 2, ncol = 6,  scales = \"free\") +\n",
    "    theme(axis.title.x=element_blank(),\n",
    "          axis.text.x=element_text(angle = 10, vjust = 0.5))\n",
    "  \n",
    "  return(jitter_features1)\n",
    "}\n",
    "\n",
    "# Factor to split data\n",
    "splitSubtype <- function(X, metadata_df) {\n",
    "  if (!is(X, \"data.frame\"))\n",
    "    X <- data.frame(X)\n",
    "  \n",
    "  subtype_factor <- as.factor(metadata_df[colnames(X), \"subtype\"])\n",
    "  split.default(X, subtype_factor, drop = F) # Split by subtype\n",
    "}"
   ]
  },
  {
   "cell_type": "markdown",
   "metadata": {},
   "source": [
    "## Import data"
   ]
  },
  {
   "cell_type": "code",
   "execution_count": 27,
   "metadata": {
    "scrolled": true
   },
   "outputs": [
    {
     "name": "stdout",
     "output_type": "stream",
     "text": [
      "  P001_D0   P004_D0   P005_D0   P007_D0   P008_D0   P009_D0 \n",
      " 5.796952  4.123342  3.981577  6.317643  4.841458 11.978124 \n",
      "[1] \"No. of ambiguous and AFFY probesets removed: 10503\"\n",
      "[1] D0 D0 D0 D0 D0 D0\n",
      "Levels: D0 D8 N\n",
      "           D0    D8     N\n",
      "1053_at  TRUE  TRUE  TRUE\n",
      "117_at  FALSE  TRUE  TRUE\n",
      "121_at   TRUE  TRUE  TRUE\n",
      "1294_at  TRUE  TRUE  TRUE\n",
      "1316_at  TRUE  TRUE  TRUE\n",
      "1320_at FALSE FALSE FALSE\n",
      "[1] \"No. of probesets removed = 6321\"\n"
     ]
    }
   ],
   "source": [
    "## Metadata\n",
    "METADATA_RPATH <- \"data/GSE67684/processed/metadata/full_metadata.tsv\"\n",
    "metadata_df <- read.table(METADATA_RPATH, sep = \"\\t\")\n",
    "BATCH_RPATH <- \"data/GSE67684/processed/metadata/metadata-batch.tsv\"\n",
    "LABEL_RPATH <- \"data/GSE67684/processed/metadata/metadata-label_mrd_subtype.tsv\"\n",
    "yeoh_batch <- read.table(BATCH_RPATH, sep = \"\\t\", header = T, row.names = 1)\n",
    "yeoh_label <- read.table(LABEL_RPATH, sep = \"\\t\", header = T, row.names = 1)\n",
    "\n",
    "## Subset of original data\n",
    "# Removed outliers, patients with timepoints from different batches and batch 5\n",
    "SUBSET_RPATH <- \"data/GSE67684/processed/subset_yeoh.tsv\"\n",
    "raw_yeoh <- read.table(SUBSET_RPATH, sep = \"\\t\")\n",
    "# SCALE->REMOVE->FILTER->LOG\n",
    "scaled_yeoh <- normaliseMeanScaling(raw_yeoh)\n",
    "selected_yeoh <- removeProbesets(scaled_yeoh)\n",
    "data <- log2_transform(filterProbesets(selected_yeoh, 0.7, metadata_df))"
   ]
  },
  {
   "cell_type": "markdown",
   "metadata": {},
   "source": [
    "#### Import D33 samples"
   ]
  },
  {
   "cell_type": "code",
   "execution_count": 96,
   "metadata": {},
   "outputs": [
    {
     "name": "stdout",
     "output_type": "stream",
     "text": [
      "P001_D33 P006_D33 P007_D33 P008_D33 P009_D33 P010_D33 \n",
      "2.106859 2.132480 1.498776 2.559182 1.576584 2.657973 \n",
      "[1] \"P006_D33\" \"P030_D33\" \"P069_D33\" \"P074_D33\" \"P079_D33\"\n"
     ]
    }
   ],
   "source": [
    "## Metadata\n",
    "METADATA_RPATH1 <- \"data/GSE67684/processed/metadata/all_metadata.tsv\"\n",
    "all_metadata <- read.table(METADATA_RPATH1, sep = \"\\t\")\n",
    "\n",
    "# SCALE->REMOVE->FILTER->LOG\n",
    "D33_RPATH <- \"data/leuk_D33/processed/mas5_filtered.tsv\"\n",
    "raw_d33 <- read.table(D33_RPATH, sep = \"\\t\")\n",
    "log_d33 <- log2_transform(normaliseMeanScaling(raw_d33))\n",
    "fltr_d33 <- log_d33[rownames(data),]\n",
    "\n",
    "## Filter out D33 patients without D0/D8 data\n",
    "pid_d33 <- substring(colnames(fltr_d33), 1, 4)\n",
    "pid_d0d8 <- substring(rownames(metadata_df), 1, 4)\n",
    "rm_d33 <- paste0(pid_d33[!(pid_d33 %in% pid_d0d8)], \"_D33\")\n",
    "data_d33 <- fltr_d33[,!(colnames(fltr_d33) %in% rm_d33)]\n",
    "print(rm_d33)\n",
    "\n",
    "# Combine D33 with the rest\n",
    "data_all <- cbind(data, data_d33)"
   ]
  },
  {
   "cell_type": "markdown",
   "metadata": {},
   "source": [
    "### Commonly used globals"
   ]
  },
  {
   "cell_type": "code",
   "execution_count": 4,
   "metadata": {},
   "outputs": [],
   "source": [
    "Y <- metadata_df[colnames(data),]\n",
    "Y_annot <- Y[,c(\"batch_info\", \"label\")] # heatmap annot\n",
    "# Y_all <- all_metadata[colnames(data_all),]\n",
    "\n",
    "pid_remission <- rownames(Y)[Y$label == 0]\n",
    "\n",
    "# List subtypes\n",
    "all_subtypes <- levels(metadata_df$subtype)\n",
    "subtypes <- setdiff(all_subtypes, c(\"Hypodiploid\", \"Normal\"))"
   ]
  },
  {
   "cell_type": "markdown",
   "metadata": {},
   "source": [
    "## Subsetting data"
   ]
  },
  {
   "cell_type": "code",
   "execution_count": 36,
   "metadata": {},
   "outputs": [],
   "source": [
    "##### SUBSETTING DATA ######\n",
    "## Normal\n",
    "idx_normal <- metadata_df[colnames(data), \"subtype\"] == \"Normal\"\n",
    "normal <- data[,idx_normal]\n",
    "\n",
    "## Hyperdiploid\n",
    "idx_hyp <- metadata_df[colnames(data), \"subtype\"] == \"Hyperdiploid\" &\n",
    "  metadata_df[colnames(data), \"class_info\"] == \"D0\"\n",
    "hyperdiploid <- data[,idx_hyp]\n",
    "colnames(hyperdiploid) <- substring(colnames(hyperdiploid), 1, 4)\n",
    "\n",
    "# ## Hyperdiploid (D8)\n",
    "# idx_hyp_d8 <- metadata_df[colnames(data), \"subtype\"] == \"Hyperdiploid\" &\n",
    "#   metadata_df[colnames(data), \"class_info\"] == \"D8\"\n",
    "# hyperdiploid_d8 <- data[,idx_hyp_d8]\n",
    "# colnames(hyperdiploid_d8) <- substring(colnames(hyperdiploid_d8), 1, 4)\n",
    "\n",
    "# ## TEL-AML1\n",
    "# idx_telaml1 <- metadata_df[colnames(data), \"subtype\"] == \"TEL-AML1\" &\n",
    "#   metadata_df[colnames(data), \"class_info\"] == \"D0\"\n",
    "# telaml1 <- data[,idx_telaml1]\n",
    "# colnames(telaml1) <- substring(colnames(telaml1), 1, 4)\n",
    "\n",
    "# ## MLL\n",
    "# idx_mll <- metadata_df[colnames(data), \"subtype\"] == \"MLL\" &\n",
    "#   metadata_df[colnames(data), \"class_info\"] == \"D0\"\n",
    "# mll <- data[,idx_mll]\n",
    "# colnames(mll) <- substring(colnames(mll), 1, 4)"
   ]
  },
  {
   "cell_type": "markdown",
   "metadata": {},
   "source": [
    "#### Combinations"
   ]
  },
  {
   "cell_type": "code",
   "execution_count": 617,
   "metadata": {},
   "outputs": [],
   "source": [
    "# ## Hyperdiploid (D0 & D8) and Normal\n",
    "# idx_hypall_norm <- (idx_hyp | idx_hyp_d8 | idx_normal)\n",
    "# hypall_norm <- data[,idx_hypall_norm]"
   ]
  },
  {
   "cell_type": "code",
   "execution_count": 282,
   "metadata": {},
   "outputs": [
    {
     "ename": "ERROR",
     "evalue": "Error in cbind(hypall_norm, hyperdiploid_d33): object 'hyperdiploid_d33' not found\n",
     "output_type": "error",
     "traceback": [
      "Error in cbind(hypall_norm, hyperdiploid_d33): object 'hyperdiploid_d33' not found\nTraceback:\n",
      "1. cbind(hypall_norm, hyperdiploid_d33)"
     ]
    }
   ],
   "source": [
    "# ## All hyperdiploid & normal\n",
    "# all_hyp_norm <- cbind(hypall_norm, hyperdiploid_d33)"
   ]
  },
  {
   "cell_type": "markdown",
   "metadata": {},
   "source": [
    "## Remove zeros (across all patients)"
   ]
  },
  {
   "cell_type": "code",
   "execution_count": null,
   "metadata": {},
   "outputs": [],
   "source": [
    "# ##### FILTER OUT ZEROS (ALL PATIENTS) #####\n",
    "# row_pct_nonzero <- rowSums(hyperdiploid != 0)/ncol(hyperdiploid)\n",
    "# PCT_THRESHOLD <- 0.7\n",
    "# ps_idx <- names(row_pct_nonzero)[row_pct_nonzero > PCT_THRESHOLD]\n",
    "\n",
    "# normal1 <- normal[ps_idx,]\n",
    "# hyperdiploid1 <- hyperdiploid[ps_idx,]\n",
    "# hyp_normal1 <- cbind(hyperdiploid1, normal1)"
   ]
  },
  {
   "cell_type": "markdown",
   "metadata": {},
   "source": [
    "## Chr annotation"
   ]
  },
  {
   "cell_type": "code",
   "execution_count": 37,
   "metadata": {},
   "outputs": [
    {
     "name": "stdout",
     "output_type": "stream",
     "text": [
      "[1] 5453\n"
     ]
    }
   ],
   "source": [
    "## Annotation: Chr location\n",
    "ANNOT_RPATH <- \"../info/microarray/HG-U133_Plus_2/affymetrix/HG-U133_Plus_2.na35.annot.csv\"\n",
    "annot <- read.csv(ANNOT_RPATH,  row.names = 1, comment.char = \"#\")\n",
    "\n",
    "get_chrloc <- function(ps, annot) {\n",
    "  ps_chrloc <- annot[ps, \"Chromosomal.Location\"]\n",
    "  ps_chr <- sub(\"(chr.*?)(p|q|c).*\", \"\\\\1\", ps_chrloc)\n",
    "  ps_chr[ps_chr == \"---\"] <- NA\n",
    "  names(ps_chr) <- ps\n",
    "  return(ps_chr)\n",
    "}\n",
    "\n",
    "ps_chr <- get_chrloc(rownames(data), annot)\n",
    "print(length(ps_chr))"
   ]
  },
  {
   "cell_type": "markdown",
   "metadata": {},
   "source": [
    "## Summary statistics"
   ]
  },
  {
   "cell_type": "code",
   "execution_count": 38,
   "metadata": {},
   "outputs": [],
   "source": [
    "##### CHR SUMMARY STATISTICS #####\n",
    "### NORMAL\n",
    "list_chr_norm <- split.data.frame(normal, ps_chr)\n",
    "## MEAN\n",
    "norm_mean <- t(sapply(list_chr_norm, colMeans))[1:22,]\n",
    "## MEDIAN\n",
    "norm_median <- t(sapply(list_chr_norm, apply, 2, median))[1:22,]\n",
    "## MEDIAN (NO ZERO)\n",
    "maspore_norm_fltr_median <- t(sapply(\n",
    "  list_chr_norm,\n",
    "  apply, 2, function(vec) median(vec[vec != 0])\n",
    "))[1:22,]\n",
    "\n",
    "## PCT ZERO\n",
    "norm_pct_zero <- t(sapply(list_chr_norm, apply, 2,\n",
    "                     function(vec) sum(vec == 0)/length(vec)))[1:22,]\n",
    "\n",
    "### HYPERDIPLOID\n",
    "list_chr_hyp <- split.data.frame(hyperdiploid, ps_chr)\n",
    "## MEAN\n",
    "hyp_mean <- t(sapply(list_chr_hyp, colMeans))[1:22,]\n",
    "## MEDIAN\n",
    "hyp_median <- t(sapply(list_chr_hyp, apply, 2, median))[1:22,]\n",
    "## ## MEDIAN (NO ZERO)\n",
    "maspore_hyp_fltr_median <- t(sapply(\n",
    "  list_chr_hyp,\n",
    "  apply, 2, function(vec) median(vec[vec != 0])\n",
    "))[1:22,]\n",
    "\n",
    "## PCT ZERO\n",
    "hyp_pct_zero <- t(sapply(list_chr_hyp, apply, 2,\n",
    "                         function(vec) sum(vec == 0)/length(vec)))[1:22,]"
   ]
  },
  {
   "cell_type": "code",
   "execution_count": 374,
   "metadata": {},
   "outputs": [],
   "source": [
    "## Hyperdiploid (D0 & D8) - Normal\n",
    "list_chr_hypall_norm <- split.data.frame(hypall_norm, ps_chr)\n",
    "## MEDIAN\n",
    "hypall_norm_median <- t(sapply(list_chr_hypall_norm, apply, 2, median))[1:22,]"
   ]
  },
  {
   "cell_type": "code",
   "execution_count": 375,
   "metadata": {},
   "outputs": [],
   "source": [
    "## Hyperdiploid (D0, D8, D33) - Normal\n",
    "list_chr_all_hyp_norm <- split.data.frame(all_hyp_norm, ps_chr)"
   ]
  },
  {
   "cell_type": "code",
   "execution_count": 455,
   "metadata": {},
   "outputs": [],
   "source": [
    "## Entire dataset\n",
    "list_chr_all <- split.data.frame(data_yeoh, ps_chr)\n",
    "## MEDIAN\n",
    "all_median <- t(sapply(list_chr_all, apply, 2, median))[1:22,]"
   ]
  },
  {
   "cell_type": "markdown",
   "metadata": {},
   "source": [
    "#### Plotting"
   ]
  },
  {
   "cell_type": "code",
   "execution_count": 13,
   "metadata": {},
   "outputs": [],
   "source": [
    "## FUNCTIONS\n",
    "plot_chr_hyp <- function(X_subtype, X_norm, wpath1, wpath2) {\n",
    "  X <- cbind(X_subtype, X_norm)\n",
    "  long_chr <- melt(data.matrix(X), varnames = c(\"chr\", \"pid\"))\n",
    "  ## Rearrange levels\n",
    "  long_chr$chr <- factor(long_chr$chr,\n",
    "                         levels = levels(long_chr$chr)[\n",
    "                           c(1,12,16:22,2:11,13:15,23)])\n",
    "  y_lim <- c(floor(min(X)), ceiling(max(X)))\n",
    "\n",
    "  ## Create color map for chr\n",
    "  g1_chr <- c(\"chr4\", \"chr6\", \"chr10\", \"chr14\", \"chr17\",\n",
    "              \"chr18\", \"chr21\", \"chrX\")\n",
    "  g4_chr <- c(\"chr1\", \"chr7\", \"chr13\", \"chr15\", \"chr19\", \"chr20\")\n",
    "  col_chr <- setdiff(g1_chr, \"chrX\")\n",
    "  all_chr <- paste0(\"chr\", 1:22)\n",
    "  nocol_chr <- setdiff(all_chr, col_chr)\n",
    "  nocol_chr <- setdiff(all_chr, c(col_chr, g4_chr))\n",
    "  col_map <- c(rep(\"darkolivegreen3\", length(col_chr)),\n",
    "               rep(\"tomato3\", length(g4_chr)),\n",
    "               rep(\"black\", 22-length(col_chr)-length(g4_chr)))\n",
    "  names(col_map) <- c(col_chr, g4_chr, nocol_chr)\n",
    "\n",
    "  jitter1 <- ggplot(long_chr[1:(20*22),],\n",
    "                        aes(chr, value, color = chr)) +\n",
    "    geom_point(position = position_jitter(width=.1, height=0),\n",
    "               cex = 2, show.legend = F) +\n",
    "    facet_wrap(~pid, nrow = 4, ncol = 5,  scales = \"free_x\") +\n",
    "    theme(axis.title.x=element_blank(),\n",
    "          axis.title.y=element_blank(),\n",
    "          axis.text.x=element_text(angle = 90, vjust = 0.5)) +\n",
    "    scale_color_manual(values = col_map) +\n",
    "    ylim(y_lim[1], y_lim[2])\n",
    "\n",
    "  jitter2 <- ggplot(long_chr[(20*22+1):902,], aes(chr, value, color = chr)) +\n",
    "    geom_point(position = position_jitter(width=.1, height=0),\n",
    "               cex = 2, show.legend = F) +\n",
    "    facet_wrap(~pid, nrow = 4, ncol = 6,  scales = \"free_x\") +\n",
    "    theme(axis.title.x=element_blank(),\n",
    "          axis.title.y=element_blank(),\n",
    "          axis.text.x=element_text(angle = 90, vjust = 0.5)) +\n",
    "    scale_color_manual(values = col_map) +\n",
    "    ylim(y_lim[1], y_lim[2])\n",
    "\n",
    "  ggsave(wpath1, jitter1, width = 16, height = 10)\n",
    "  ggsave(wpath2, jitter2, width = 16, height = 10)\n",
    "}\n",
    "\n",
    "plot_chr_hyp1 <- function(X_subtype, X_norm, wpath1) {\n",
    "  X <- cbind(X_subtype, X_norm)\n",
    "  long_chr <- melt(data.matrix(X), varnames = c(\"chr\", \"pid\"))\n",
    "  long_chr$chr <- factor(long_chr$chr,\n",
    "                         levels = levels(long_chr$chr)[\n",
    "                           c(1,12,16:22,2:11,13:15,23)])\n",
    "  y_lim <- c(floor(min(X)), ceiling(max(X)))\n",
    "\n",
    "  ## Create color map for chr\n",
    "  g1_chr <- c(\"chr4\", \"chr6\", \"chr10\", \"chr14\", \"chr17\",\n",
    "              \"chr18\", \"chr21\", \"chrX\")\n",
    "  g4_chr <- c(\"chr1\", \"chr7\", \"chr13\", \"chr15\", \"chr19\", \"chr20\")\n",
    "  col_chr <- setdiff(g1_chr, \"chrX\")\n",
    "  all_chr <- paste0(\"chr\", 1:22)\n",
    "  nocol_chr <- setdiff(all_chr, col_chr)\n",
    "  nocol_chr <- setdiff(all_chr, c(col_chr, g4_chr))\n",
    "  col_map <- c(rep(\"darkolivegreen3\", length(col_chr)),\n",
    "               rep(\"tomato3\", length(g4_chr)),\n",
    "               rep(\"black\", 22-length(col_chr)-length(g4_chr)))\n",
    "  names(col_map) <- c(col_chr, g4_chr, nocol_chr)\n",
    "\n",
    "  jitter1 <- ggplot(long_chr, aes(chr, value, color = chr)) +\n",
    "    geom_point(position = position_jitter(width=.1, height=0),\n",
    "               cex = 2, show.legend = F) +\n",
    "    facet_wrap(~pid, nrow = 3, ncol = 4,  scales = \"free_x\") +\n",
    "    theme(axis.title.x=element_blank(),\n",
    "          axis.title.y=element_blank(),\n",
    "          axis.text.x=element_text(angle = 90, vjust = 0.5)) +\n",
    "    scale_color_manual(values = col_map) +\n",
    "    ylim(y_lim[1], y_lim[2])\n",
    "  \n",
    "  ggsave(wpath1, jitter1, width = 16, height = 10)\n",
    "}\n",
    "\n",
    "#' @param X_subtype dataframe of chr statistics containing only subtype patients\n",
    "#' @param X_norm dataframe of chr statistics containing only subtype patients\n",
    "plot_heatmap_batch <- function(X_subtype, X_norm, metadata, filename) {\n",
    "  if (endsWith(colnames(X_subtype)[1], \"D0\"))\n",
    "      stop(\"Colnames already suffixed with D0!\")\n",
    "\n",
    "  subset_metadata <- metadata[,c(\"batch_info\", \"subtype\", \"label\"), drop = F]\n",
    "\n",
    "  colnames(X_subtype) <- paste(colnames(X_subtype), \"D0\", sep = \"_\")\n",
    "  ord_idx <- order(metadata[colnames(X_subtype), \"batch_info\"])\n",
    "  X_subtype_ord <- X_subtype[,ord_idx]\n",
    "  gaps <- cumsum(table(metadata[colnames(X_subtype), \"batch_info\"]))\n",
    "  X_ord <- cbind(X_subtype_ord, X_norm)\n",
    "\n",
    "  pheatmap(X_ord, col = brewer.pal(9, \"Blues\"),\n",
    "           display_numbers = F, fontsize = 5.5,\n",
    "           legend = T, border_color = \"black\", scale = \"none\",\n",
    "           cluster_method = \"ward.D2\", cluster_rows = F, cluster_cols = F,\n",
    "           show_colnames = T, show_rownames = T,\n",
    "           annotation_col = subset_metadata,\n",
    "           gaps_col = gaps, cellwidth = 8, cellheight = 10,\n",
    "           filename = filename)\n",
    "  cat(\"Heatmap saved!\\n\")\n",
    "}"
   ]
  },
  {
   "cell_type": "code",
   "execution_count": 118,
   "metadata": {},
   "outputs": [],
   "source": [
    "## Plot heatmap (batch)\n",
    "# plot_heatmap_batch(hyp_combat_median, norm_combat_median, metadata_df,\n",
    "#                    \"~/Dropbox/temp/combat_median.pdf\")\n",
    "\n",
    "## Plot chr summary statistics\n",
    "plot_chr_hyp1(hypd33_median, norm_median,\n",
    "             \"~/Dropbox/temp/hypd33-median1.pdf\")\n",
    "\n",
    "# plot_chr_hyp(fltrdb_hypd8_median, fltrdb_norm_median,\n",
    "#              \"~/Dropbox/temp/hypd8-fltrdb_median1.pdf\",\n",
    "#              \"~/Dropbox/temp/hypd8-fltrdb_median2.pdf\")"
   ]
  },
  {
   "cell_type": "markdown",
   "metadata": {},
   "source": [
    "## Test statistic"
   ]
  },
  {
   "cell_type": "markdown",
   "metadata": {},
   "source": [
    "### Z-score (N01)"
   ]
  },
  {
   "cell_type": "markdown",
   "metadata": {},
   "source": [
    "#### Median (fltr zero)"
   ]
  },
  {
   "cell_type": "code",
   "execution_count": 295,
   "metadata": {
    "scrolled": true
   },
   "outputs": [],
   "source": [
    "# ## Saving table for prof wong\n",
    "# hypd0norm_nozero_median <- cbind(hyp_nozero_median, norm_nozero_median)\n",
    "# colnames(hypd0norm_nozero_median)[1:38] <- paste0(colnames(hypd0norm_nozero_median)[1:38], \"_D0\")\n",
    "# write.table(hypd0norm_nozero_median, \"~/Dropbox/temp/yeoh_2018-nozero_median.tsv\", \n",
    "#             quote = F, sep = \"\\t\")"
   ]
  },
  {
   "cell_type": "code",
   "execution_count": 28,
   "metadata": {},
   "outputs": [
    {
     "name": "stdout",
     "output_type": "stream",
     "text": [
      "[1] 0.1934914\n"
     ]
    }
   ],
   "source": [
    "## Determine mean and sd of chr medians of normal\n",
    "ref_normal <- norm_nozero_median[,\"N01\"]\n",
    "ref_mean <- mean(ref_normal)\n",
    "ref_sd <- sd(ref_normal)\n",
    "print(ref_sd)\n",
    "\n",
    "hyp_nozero_median_std1 <- (hyp_nozero_median-ref_mean)/ref_sd"
   ]
  },
  {
   "cell_type": "markdown",
   "metadata": {},
   "source": [
    "#### Median"
   ]
  },
  {
   "cell_type": "code",
   "execution_count": 30,
   "metadata": {},
   "outputs": [],
   "source": [
    "# hypd0norm_median <- cbind(hyp_median, norm_median)\n",
    "# colnames(hypd0norm_median)[1:38] <- paste0(colnames(hypd0norm_median)[1:38], \"_D0\")\n",
    "\n",
    "# write.table(hypd0norm_median, \"~/Dropbox/temp/yeoh_2018-median.tsv\", \n",
    "#             quote = F, sep = \"\\t\")\n",
    "\n",
    "## Determine mean and sd of chr medians of normal\n",
    "ref_normal <- norm_median[,\"N01\"]\n",
    "ref_mean <- mean(ref_normal)\n",
    "ref_sd <- sd(ref_normal)\n",
    "\n",
    "hyp_median_std1 <- (hyp_median-ref_mean)/ref_sd"
   ]
  },
  {
   "cell_type": "markdown",
   "metadata": {},
   "source": [
    "### Z-score (indv mean & sd)"
   ]
  },
  {
   "cell_type": "code",
   "execution_count": 205,
   "metadata": {},
   "outputs": [],
   "source": [
    "## Every chr has its own normal mu and sd\n",
    "normal_mu_chr <- rowMeans(norm_median)\n",
    "normal_sigma_chr <- apply(norm_median, 1, sd)\n",
    "\n",
    "# ## Hyperdiploid (D8)\n",
    "# hypd8_median1 <- sweep(hypd8_median, MARGIN = 1,\n",
    "#                         STATS = normal_mu_chr, FUN = `-`)\n",
    "# hypd8_median_stdindv1 <- sweep(hypd8_median1, MARGIN = 1,\n",
    "#                                STATS = normal_sigma_chr, FUN = `/`)\n",
    "## Normal\n",
    "norm_median1 <- sweep(norm_median, MARGIN = 1,\n",
    "                      STATS = normal_mu_chr, FUN = `-`)\n",
    "norm_median_stdindv1 <- sweep(norm_median1, MARGIN = 1,\n",
    "                              STATS = normal_sigma_chr, FUN = `/`)\n",
    "\n",
    "# plot_chr_hyp(hypd8_median_stdindv1, norm_median_stdindv1,\n",
    "#              \"~/Dropbox/temp/hypd8_median_std_indv1_1.pdf\",\n",
    "#              \"~/Dropbox/temp/hypd8_median_std_indv1_2.pdf\")"
   ]
  },
  {
   "cell_type": "code",
   "execution_count": 34,
   "metadata": {},
   "outputs": [],
   "source": [
    "## Every chr has its own normal mu and sd\n",
    "normal_mu_chr <- rowMeans(norm_median)\n",
    "normal_sigma_chr <- apply(norm_median, 1, sd)\n",
    "\n",
    "## Hyperdiploid (D8)\n",
    "hyp_median1 <- sweep(hyp_median, MARGIN = 1,\n",
    "                        STATS = normal_mu_chr, FUN = `-`)\n",
    "hyp_median_stdindv1 <- sweep(hyp_median1, MARGIN = 1,\n",
    "                               STATS = normal_sigma_chr, FUN = `/`)\n",
    "## Normal\n",
    "norm_median1 <- sweep(norm_median, MARGIN = 1,\n",
    "                      STATS = normal_mu_chr, FUN = `-`)\n",
    "norm_median_stdindv1 <- sweep(norm_median1, MARGIN = 1,\n",
    "                              STATS = normal_sigma_chr, FUN = `/`)\n",
    "\n",
    "# plot_chr_hyp(hyp_median_stdindv1, norm_median_stdindv1,\n",
    "#              \"~/Dropbox/temp/hyp_median_std_indv1_1.pdf\",\n",
    "#              \"~/Dropbox/temp/hyp_median_std_indv1_2.pdf\")"
   ]
  },
  {
   "cell_type": "markdown",
   "metadata": {},
   "source": [
    "### Z-score (indv mean)"
   ]
  },
  {
   "cell_type": "code",
   "execution_count": null,
   "metadata": {},
   "outputs": [],
   "source": [
    "### Z-SCORE (INDV CHR)\n",
    "## Every chr has its own normal mu\n",
    "normal_mu_chr <- rowMeans(norm_median)\n",
    "normal_sigma_chr <- apply(norm_median, 1, sd)\n",
    "avg_sigma_chr <- mean(normal_sigma_chr)\n",
    "stdindv_hyp_median <- sweep(hyp_median, MARGIN = 1,\n",
    "                            STATS = normal_mu_chr, FUN = `-`)/avg_sigma_chr\n",
    "stdindv_norm_median <- sweep(norm_median, MARGIN = 1,\n",
    "                             STATS = normal_mu_chr, FUN = `-`)/avg_sigma_chr\n",
    "\n",
    "# plot_chr_hyp(stdindv_hyp_median, stdindv_norm_median,\n",
    "#              \"~/Dropbox/temp/fltr70_median-std_indv1.pdf\",\n",
    "#              \"~/Dropbox/temp/fltr70_median-std_indv2.pdf\")"
   ]
  },
  {
   "cell_type": "markdown",
   "metadata": {},
   "source": [
    "## Test statistic engineering"
   ]
  },
  {
   "cell_type": "code",
   "execution_count": 13,
   "metadata": {},
   "outputs": [],
   "source": [
    "##### FEATURE ENGINEERING #####\n",
    "#' @param chr_rank dataframe containing ranked chr of hyp patients only\n",
    "#' @param n_rank number of ranks to consider\n",
    "#' @return number of G4 chr in top n chr of patient\n",
    "calc_n_g4 <- function(chr_rank, n_rank) {\n",
    "  g4_chr <- c(\"chr1\", \"chr7\", \"chr13\", \"chr15\", \"chr19\", \"chr20\")\n",
    "  apply(chr_rank[1:n_rank,], 2, function(x) sum(x %in% g4_chr))\n",
    "}\n",
    "\n",
    "calc_n_g4_threshold <- function(X_chr, threshold, lower = T) {\n",
    "  g4_chr <- c(\"chr1\", \"chr7\", \"chr13\", \"chr15\", \"chr19\", \"chr20\")\n",
    "  if (lower == T) {\n",
    "    idx_logi <- X_chr[rownames(X_chr) %in% g4_chr,] < threshold\n",
    "  }\n",
    "  apply(idx_logi, 2, sum)\n",
    "}\n",
    "\n",
    "# rank_hyp_nozero_median <- rank_chr(std_hyp_nozero_median)\n",
    "# n_g4 <- calc_n_g4(rank_hyp_nozero_median, 4)\n",
    "# n_g4_threshold <- calc_n_g4_threshold(std_hyp_nozero_median, -2)"
   ]
  },
  {
   "cell_type": "markdown",
   "metadata": {},
   "source": [
    "#### Group-level chr statistics"
   ]
  },
  {
   "cell_type": "code",
   "execution_count": 139,
   "metadata": {},
   "outputs": [],
   "source": [
    "# calc_chr_grp <- function(x_chr) {\n",
    "#   g1_chr <- c(\"chr4\", \"chr6\", \"chr10\", \"chr14\", \"chr17\", \"chr18\", \"chr21\", \"chrX\")\n",
    "#   g2_chr <- c(\"chr5\", \"chr8\", \"chr11\", \"chr12\")\n",
    "#   g3_chr <- c(\"chr2\", \"chr3\", \"chr9\", \"chr16\", \"chr22\")\n",
    "#   g4_chr <- c(\"chr1\", \"chr7\", \"chr13\", \"chr15\", \"chr19\", \"chr20\")\n",
    "#   list_grp <- list(g1_chr, g2_chr, g3_chr, g4_chr)\n",
    "#   grp_mean <- sapply(list_grp, function(chr) mean(x_chr[names(x_chr) %in% chr]))\n",
    "#   names(grp_mean) <- c(\"g1_chr\", \"g2_chr\", \"g3_chr\", \"g4_chr\")\n",
    "#   return(grp_mean)\n",
    "# }\n",
    "\n",
    "# norm_chr_mu <- apply(norm_median, 1, mean)\n",
    "# norm_chr_sigma <- apply(norm_median, 1, sd)\n",
    "\n",
    "# ## pdf(\"~/Dropbox/temp/norm_median-mu_sigma.pdf\")\n",
    "# ## plot(norm_chr_mu, norm_chr_sigma)\n",
    "# ## text(norm_chr_mu, norm_chr_sigma, names(norm_chr_mu))\n",
    "# ## dev.off()\n",
    "\n",
    "# ## Mean of grp1-4 for each patient\n",
    "# norm_grpchr_mean <- calc_chr_grp(norm_chr_mu)\n",
    "# hyp_grpchr_mean <- apply(hyp_median, 2, calc_chr_grp)\n",
    "# hyp_batch <- metadata_df[paste(colnames(hyperdiploid), \"D0\", sep = \"_\"), \"batch_info\"]\n",
    "# names(hyp_batch) <- colnames(hyperdiploid)\n",
    "\n",
    "# ### ComBat\n",
    "# norm_chr_mu1 <- apply(norm_combat_median, 1, mean)\n",
    "# norm_chr_sigma1 <- apply(norm_combat_median, 1, sd)\n",
    "\n",
    "# ## Mean of grp1-4 for each patient\n",
    "# norm_grpchr_mean1 <- calc_chr_grp(norm_chr_mu1)\n",
    "# hyp_grpchr_mean1 <- apply(hyp_combat_median, 2, calc_chr_grp)\n",
    "# hyp_batch <- metadata_df[paste(colnames(hyperdiploid), \"D0\", sep = \"_\"), \"batch_info\"]\n",
    "# names(hyp_batch) <- colnames(hyperdiploid)"
   ]
  },
  {
   "cell_type": "markdown",
   "metadata": {},
   "source": [
    "## Risk classification"
   ]
  },
  {
   "cell_type": "code",
   "execution_count": 14,
   "metadata": {},
   "outputs": [],
   "source": [
    "## Hyperdiploid - Risk classification --------------------------------------\n",
    "normal_pid <- paste0(\"N0\", c(1,2,4))\n",
    "\n",
    "#' @param X_chr Chromosomal summary of hyp and normal patients\n",
    "#' @return Ranked chr of hyp patients only (only ranks autosomal chr)\n",
    "rank_chr <- function(X_chr) {\n",
    "  chr_rank <- apply(-X_chr[1:22,], 2, function(x) names(sort(x)))\n",
    "  return(chr_rank)\n",
    "}\n",
    "\n",
    "#' @param chr_rank Ranked chr (does not include normal patients)\n",
    "#' Returns pid of patients with top 4 chr in G4\n",
    "get_pid_toprank <- function(chr_rank, n_rank) {\n",
    "  g4_chr <- c(\"chr1\", \"chr7\", \"chr13\", \"chr15\", \"chr19\", \"chr20\")\n",
    "  top_chr <- chr_rank[1:n_rank,]\n",
    "  list_topchr <- as.list(data.frame(top_chr))\n",
    "  idx_topchr <- sapply(list_topchr, function(x) any(x %in% g4_chr))\n",
    "  return(names(list_topchr[idx_topchr]))\n",
    "}\n",
    "\n",
    "#' @param X_subtype dataframe of chr summary containing only subtype patients\n",
    "#' @param lower logical indicating if only lower threshold is to be used\n",
    "#' @return patient IDs\n",
    "get_pid_threshold <- function(X_subtype, threshold, lower) {\n",
    "  g4_chr <- c(\"chr1\", \"chr7\", \"chr13\", \"chr15\", \"chr19\", \"chr20\")\n",
    "  ## OPTION: Only group 4 chr\n",
    "  ## g4_chr <- \"chr13\"\n",
    "  ## X_fltr <- X_subtype[rownames(X_subtype) == g4_chr, , drop = F]\n",
    "  X_fltr <- X_subtype[rownames(X_subtype) %in% g4_chr,]\n",
    "  if (!lower) {\n",
    "    idx_logi <- abs(X_fltr) > threshold\n",
    "  } else {\n",
    "    stopifnot(threshold < 0)\n",
    "    idx_logi <- X_fltr < threshold\n",
    "  }\n",
    "  pid_idx_logi <- apply(idx_logi, 2, any)\n",
    "  return(names(pid_idx_logi)[pid_idx_logi])\n",
    "}\n",
    "\n",
    "get_list_pid <- function(pid, pid_hyp) {\n",
    "  if (length(pid) == 0) stop(\"Empty list...\")\n",
    "  ## Assumption: Colnames of hyperdiploid has no D0/D8\n",
    "  pid_not <- setdiff(pid_hyp, pid)\n",
    "  return(list(pid, pid_not))\n",
    "}\n",
    "\n",
    "#\" Pastes D0 and D8 to pid\n",
    "convert_list_pid <- function(list_pid) {\n",
    "  lapply(list_pid, function(x) c(paste(x, \"D0\", sep = \"_\"),\n",
    "                                 paste(x, \"D8\", sep = \"_\")))\n",
    "}\n",
    "\n",
    "#' Option to create 2 or 4 column table\n",
    "#' 4 column table categorises into small and large l2norm\n",
    "#' @param list_pid list with first element containing high risk\n",
    "#' patient ids and second element containing low risk patient ids\n",
    "create_table <- function(list_pid, columns = 2) {\n",
    "  relapse_pid <- c(\"P038\", \"P115\", \"P129\", \"P164\", \"P189\")\n",
    "  small_pid <- c(\"P100\", \"P138\", \"P140\", \"P155\", \"P164\", \"P207\")\n",
    "  \n",
    "  if (columns == 2) {\n",
    "    a <- sum(list_pid[[1]] %in% relapse_pid)\n",
    "    b <- length(list_pid[[1]]) - a\n",
    "    c <- sum(list_pid[[2]] %in% relapse_pid)\n",
    "    d <- length(list_pid[[2]]) - c\n",
    "\n",
    "    if (a < 4)\n",
    "      warning(\"list_pid does not contain high risk patients in first element!\")\n",
    "\n",
    "    table_dimnames <- list(c(\"HR\", \"LR\"),\n",
    "                           c(\"Relapse\", \"Remission\"))\n",
    "    return(matrix(c(a, c, b, d), nrow = 2, dimnames = table_dimnames))\n",
    "    \n",
    "  } else {\n",
    "    a <- sum(list_pid[[1]] %in% relapse_pid & !(list_pid[[1]] %in% small_pid))\n",
    "    b <- sum(list_pid[[1]] %in% relapse_pid & list_pid[[1]] %in% small_pid)\n",
    "    c <- sum(!(list_pid[[1]] %in% relapse_pid) & !(list_pid[[1]] %in% small_pid))\n",
    "    d <- sum(!(list_pid[[1]] %in% relapse_pid) & list_pid[[1]] %in% small_pid)\n",
    "    e <- sum(list_pid[[2]] %in% relapse_pid & !(list_pid[[2]] %in% small_pid))\n",
    "    f <- sum(list_pid[[2]] %in% relapse_pid & list_pid[[2]] %in% small_pid)\n",
    "    g <- sum(!(list_pid[[2]] %in% relapse_pid) & !(list_pid[[2]] %in% small_pid))\n",
    "    h <- sum(!(list_pid[[2]] %in% relapse_pid) & list_pid[[2]] %in% small_pid)\n",
    "    \n",
    "    table_dimnames <- list(c(\"HR\", \"LR\"),\n",
    "                           c(\"Relapse (L)\", \"Relapse (S)\", \"Remission (L)\", \"Remission (S)\"))\n",
    "    return(matrix(c(a, e, b, f, c, g, d, h), nrow = 2, dimnames = table_dimnames))\n",
    "  }\n",
    "}\n",
    "\n",
    "#' @return list of 2 with vector of high risk pids and\n",
    "#' vector of low risk pids\n",
    "stratify_risk <- function(p, threshold) {\n",
    "  names(p) <- substring(names(p), 1, 4)\n",
    "  idx <- p > threshold # high risk\n",
    "  list(names(p)[idx], names(p)[!idx])\n",
    "}"
   ]
  },
  {
   "cell_type": "markdown",
   "metadata": {},
   "source": [
    "#### Rule-based classification"
   ]
  },
  {
   "cell_type": "code",
   "execution_count": 38,
   "metadata": {},
   "outputs": [
    {
     "data": {
      "text/html": [
       "<ol class=list-inline>\n",
       "\t<li>'chr1'</li>\n",
       "\t<li>'chr10'</li>\n",
       "\t<li>'chr11'</li>\n",
       "\t<li>'chr12'</li>\n",
       "\t<li>'chr13'</li>\n",
       "\t<li>'chr14'</li>\n",
       "\t<li>'chr15'</li>\n",
       "\t<li>'chr16'</li>\n",
       "\t<li>'chr17'</li>\n",
       "\t<li>'chr18'</li>\n",
       "\t<li>'chr19'</li>\n",
       "\t<li>'chr2'</li>\n",
       "\t<li>'chr20'</li>\n",
       "\t<li>'chr21'</li>\n",
       "\t<li>'chr22'</li>\n",
       "\t<li>'chr3'</li>\n",
       "\t<li>'chr4'</li>\n",
       "\t<li>'chr5'</li>\n",
       "\t<li>'chr6'</li>\n",
       "\t<li>'chr7'</li>\n",
       "\t<li>'chr8'</li>\n",
       "\t<li>'chr9'</li>\n",
       "</ol>\n"
      ],
      "text/latex": [
       "\\begin{enumerate*}\n",
       "\\item 'chr1'\n",
       "\\item 'chr10'\n",
       "\\item 'chr11'\n",
       "\\item 'chr12'\n",
       "\\item 'chr13'\n",
       "\\item 'chr14'\n",
       "\\item 'chr15'\n",
       "\\item 'chr16'\n",
       "\\item 'chr17'\n",
       "\\item 'chr18'\n",
       "\\item 'chr19'\n",
       "\\item 'chr2'\n",
       "\\item 'chr20'\n",
       "\\item 'chr21'\n",
       "\\item 'chr22'\n",
       "\\item 'chr3'\n",
       "\\item 'chr4'\n",
       "\\item 'chr5'\n",
       "\\item 'chr6'\n",
       "\\item 'chr7'\n",
       "\\item 'chr8'\n",
       "\\item 'chr9'\n",
       "\\end{enumerate*}\n"
      ],
      "text/markdown": [
       "1. 'chr1'\n",
       "2. 'chr10'\n",
       "3. 'chr11'\n",
       "4. 'chr12'\n",
       "5. 'chr13'\n",
       "6. 'chr14'\n",
       "7. 'chr15'\n",
       "8. 'chr16'\n",
       "9. 'chr17'\n",
       "10. 'chr18'\n",
       "11. 'chr19'\n",
       "12. 'chr2'\n",
       "13. 'chr20'\n",
       "14. 'chr21'\n",
       "15. 'chr22'\n",
       "16. 'chr3'\n",
       "17. 'chr4'\n",
       "18. 'chr5'\n",
       "19. 'chr6'\n",
       "20. 'chr7'\n",
       "21. 'chr8'\n",
       "22. 'chr9'\n",
       "\n",
       "\n"
      ],
      "text/plain": [
       " [1] \"chr1\"  \"chr10\" \"chr11\" \"chr12\" \"chr13\" \"chr14\" \"chr15\" \"chr16\" \"chr17\"\n",
       "[10] \"chr18\" \"chr19\" \"chr2\"  \"chr20\" \"chr21\" \"chr22\" \"chr3\"  \"chr4\"  \"chr5\" \n",
       "[19] \"chr6\"  \"chr7\"  \"chr8\"  \"chr9\" "
      ]
     },
     "metadata": {},
     "output_type": "display_data"
    }
   ],
   "source": [
    "rownames(X)"
   ]
  },
  {
   "cell_type": "code",
   "execution_count": 40,
   "metadata": {
    "scrolled": true
   },
   "outputs": [
    {
     "name": "stderr",
     "output_type": "stream",
     "text": [
      "Warning message in chisq.test(tab):\n",
      "“Chi-squared approximation may be incorrect”"
     ]
    },
    {
     "name": "stdout",
     "output_type": "stream",
     "text": [
      "[1] \"P129\" \"P196\"\n",
      " [1] \"P038\" \"P039\" \"P040\" \"P043\" \"P046\" \"P115\" \"P154\" \"P155\" \"P157\" \"P159\"\n",
      "[11] \"P164\" \"P169\" \"P176\" \"P182\" \"P189\"\n",
      "   Relapse Remission\n",
      "HR       5        12\n",
      "LR       0        21\n",
      "% latex table generated in R 3.5.1 by xtable 1.8-4 package\n",
      "% Tue Jan 19 14:31:23 2021\n",
      "\\begin{table}[ht]\n",
      "\\centering\n",
      "\\begin{tabular}{rrr}\n",
      "  \\hline\n",
      " & Relapse & Remission \\\\ \n",
      "  \\hline\n",
      "HR &   5 &  12 \\\\ \n",
      "  LR &   0 &  21 \\\\ \n",
      "   \\hline\n",
      "\\end{tabular}\n",
      "\\end{table}\n",
      "\n",
      "\tPearson's Chi-squared test with Yates' continuity correction\n",
      "\n",
      "data:  tab\n",
      "X-squared = 4.7712, df = 1, p-value = 0.02894\n",
      "\n",
      "\n",
      "\tFisher's Exact Test for Count Data\n",
      "\n",
      "data:  tab\n",
      "p-value = 0.01233\n",
      "alternative hypothesis: true odds ratio is not equal to 1\n",
      "95 percent confidence interval:\n",
      " 1.310633      Inf\n",
      "sample estimates:\n",
      "odds ratio \n",
      "       Inf \n",
      "\n"
     ]
    }
   ],
   "source": [
    "X <- hyp_nozero_median_std1 # only contains hyperdiploid patients\n",
    "## HR: Top 4 in G4 OR Any G4 abs(chr) < threshold\n",
    "pid_threshold <- get_pid_threshold(X, -2.7, lower = T)\n",
    "rank_hyp_median <- rank_chr(X)\n",
    "pid_top_hyp <- get_pid_toprank(rank_hyp_median, 4) \n",
    "pid_union <- union(pid_threshold, pid_top_hyp)\n",
    "\n",
    "list_pid <- get_list_pid(pid_union, colnames(X))\n",
    "tab <- create_table(list_pid)\n",
    "fisher <- fisher.test(tab)\n",
    "chisq <- chisq.test(tab)\n",
    "\n",
    "print(pid_threshold)\n",
    "print(pid_top_hyp)\n",
    "print(tab)\n",
    "print(xtable(tab))\n",
    "\n",
    "print(chisq)\n",
    "print(fisher)"
   ]
  },
  {
   "cell_type": "code",
   "execution_count": 18,
   "metadata": {},
   "outputs": [
    {
     "ename": "ERROR",
     "evalue": "Error in eval(expr, envir, enclos): object 'hyp_median_std1' not found\n",
     "output_type": "error",
     "traceback": [
      "Error in eval(expr, envir, enclos): object 'hyp_median_std1' not found\nTraceback:\n"
     ]
    }
   ],
   "source": [
    "X <- hyp_median_std1 # only contains hyperdiploid patients\n",
    "## HR: Top 4 in G4 OR Any G4 abs(chr) < threshold\n",
    "pid_threshold <- get_pid_threshold(X, -2.5, lower = T)\n",
    "rank_hyp_median <- rank_chr(X)\n",
    "pid_top_hyp <- get_pid_toprank(rank_hyp_median, 4) \n",
    "pid_union <- union(pid_threshold, pid_top_hyp)\n",
    "\n",
    "list_pid <- get_list_pid(pid_union, colnames(X))\n",
    "tab <- create_table(list_pid)\n",
    "fisher <- fisher.test(tab)\n",
    "chisq <- chisq.test(tab)\n",
    "\n",
    "print(pid_threshold)\n",
    "print(pid_top_hyp)\n",
    "print(tab)\n",
    "print(chisq)\n",
    "print(fisher)"
   ]
  },
  {
   "cell_type": "markdown",
   "metadata": {},
   "source": [
    "#### 4 column table"
   ]
  },
  {
   "cell_type": "code",
   "execution_count": 328,
   "metadata": {},
   "outputs": [
    {
     "name": "stdout",
     "output_type": "stream",
     "text": [
      "[1] \"P129\" \"P196\"\n",
      " [1] \"P038\" \"P039\" \"P040\" \"P043\" \"P046\" \"P115\" \"P154\" \"P155\" \"P157\" \"P159\"\n",
      "[11] \"P164\" \"P169\" \"P176\" \"P182\" \"P189\"\n",
      "% latex table generated in R 3.5.1 by xtable 1.8-4 package\n",
      "% Wed Sep  9 23:17:12 2020\n",
      "\\begin{table}[ht]\n",
      "\\centering\n",
      "\\begin{tabular}{rrrrr}\n",
      "  \\hline\n",
      " & Relapse (L) & Relapse (S) & Remission (L) & Remission (S) \\\\ \n",
      "  \\hline\n",
      "HR &   4 &   1 &  11 &   1 \\\\ \n",
      "  LR &   0 &   0 &  17 &   4 \\\\ \n",
      "   \\hline\n",
      "\\end{tabular}\n",
      "\\end{table}\n"
     ]
    }
   ],
   "source": [
    "X <- hyp_nozero_median_std1 # only contains hyperdiploid patients\n",
    "## HR: Top 4 in G4 OR Any G4 abs(chr) < threshold\n",
    "pid_threshold <- get_pid_threshold(X, -2.7, lower = T)\n",
    "rank_hyp_median <- rank_chr(X)\n",
    "pid_top_hyp <- get_pid_toprank(rank_hyp_median, 4) \n",
    "pid_union <- union(pid_threshold, pid_top_hyp)\n",
    "\n",
    "list_pid <- get_list_pid(pid_union, colnames(X))\n",
    "tab <- create_table(list_pid, columns = 4)\n",
    "\n",
    "## CHECK 4 column table\n",
    "\n",
    "print(pid_threshold)\n",
    "print(pid_top_hyp)\n",
    "print(xtable(tab))"
   ]
  },
  {
   "cell_type": "markdown",
   "metadata": {},
   "source": [
    "#### Define 2 groups of response (large and small): Hyperdiploid"
   ]
  },
  {
   "cell_type": "code",
   "execution_count": 277,
   "metadata": {},
   "outputs": [
    {
     "name": "stdout",
     "output_type": "stream",
     "text": [
      "[1] \"No. of NaN values in log-fc = 0\"\n",
      "[1] \"No. of probesets excluded by expr threshold = 715\"\n",
      "[1] \"No. of features (p-value) = 2592\"\n",
      "[1] \"No. of features (log2-fc) = 285\"\n",
      "[1] \"No. of selected genes = \" \"284\"                     \n",
      "[1] \"No. of final genes = \" \"217\"                  \n",
      " [1] \"P037_D0\" \"P038_D0\" \"P039_D0\" \"P040_D0\" \"P041_D0\" \"P042_D0\" \"P043_D0\"\n",
      " [8] \"P044_D0\" \"P046_D0\" \"P047_D0\" \"P048_D0\" \"P098_D0\" \"P100_D0\" \"P109_D0\"\n",
      "[15] \"P115_D0\" \"P129_D0\" \"P133_D0\" \"P138_D0\" \"P139_D0\" \"P140_D0\" \"P148_D0\"\n",
      "[22] \"P153_D0\" \"P154_D0\" \"P155_D0\" \"P157_D0\" \"P159_D0\" \"P162_D0\" \"P164_D0\"\n",
      "[29] \"P169_D0\" \"P176_D0\" \"P178_D0\" \"P182_D0\" \"P183_D0\" \"P189_D0\" \"P195_D0\"\n",
      "[36] \"P196_D0\" \"P207_D0\" \"P208_D0\" \"P037_D8\" \"P038_D8\" \"P039_D8\" \"P040_D8\"\n",
      "[43] \"P041_D8\" \"P042_D8\" \"P043_D8\" \"P044_D8\" \"P046_D8\" \"P047_D8\" \"P048_D8\"\n",
      "[50] \"P098_D8\" \"P100_D8\" \"P109_D8\" \"P115_D8\" \"P129_D8\" \"P133_D8\" \"P138_D8\"\n",
      "[57] \"P139_D8\" \"P140_D8\" \"P148_D8\" \"P153_D8\" \"P154_D8\" \"P155_D8\" \"P157_D8\"\n",
      "[64] \"P159_D8\" \"P162_D8\" \"P164_D8\" \"P169_D8\" \"P176_D8\" \"P178_D8\" \"P182_D8\"\n",
      "[71] \"P183_D8\" \"P189_D8\" \"P195_D8\" \"P196_D8\" \"P207_D8\" \"P208_D8\"\n",
      "[1] \"N01\" \"N02\" \"N04\"\n"
     ]
    },
    {
     "name": "stderr",
     "output_type": "stream",
     "text": [
      "Warning message:\n",
      "“Removed 1 rows containing missing values (geom_path).”Warning message:\n",
      "“Removed 1 rows containing missing values (geom_path).”Warning message:\n",
      "“Removed 3 rows containing missing values (geom_path).”Warning message:\n",
      "“Removed 3 rows containing missing values (geom_point).”"
     ]
    },
    {
     "name": "stdout",
     "output_type": "stream",
     "text": [
      " [1] 1 2 1 1 1 1 1 1 1 1 1 1 1 1 2 2 1 1 1 1 1 1 1 1 1 1 1 2 1 1 1 1 1 2 1 1 1 1\n"
     ]
    }
   ],
   "source": [
    "# ## Threshold: L2 norm\n",
    "pid_subtype <- rownames(Y)[Y$subtype == \"Hyperdiploid\"]\n",
    "results <- predict_relapse(pid_subtype, data, pid_remission, metadata_df,\n",
    "                           batch_genes = batch_genes) # variant func\n",
    "l2norm <- results[,\"l2norm_d0_d8\", drop = F]\n",
    "\n",
    "# hist(data.matrix(l2norm), breaks = 20)\n",
    "THRESHOLD <- 40 # ~15th percentile\n",
    "\n",
    "pid_small <- rownames(l2norm)[l2norm < THRESHOLD] # n = 6"
   ]
  },
  {
   "cell_type": "code",
   "execution_count": null,
   "metadata": {},
   "outputs": [],
   "source": [
    "# Investigate top ratios: No pattern\n",
    "sorted_ratio <- apply(ratio_within, 2, sort, decreasing=TRUE)\n",
    "sorted_ratio[1:3, d0_top3_1]\n",
    "sorted_ratio[1:3, not_d0_top3_1]\n",
    "\n",
    "# Plot PCA\n",
    "plotPCA3DYeoh(hyperdiploid, metadata_df)\n",
    "plotPCA3DYeoh(hypdip_no_chrY, metadata_df)\n",
    "sort(table(ps_chr))\n",
    "\n",
    "i <- 2\n",
    "hist(list_chr_hypdip[[i]][,2], breaks = 30)\n",
    "\n",
    "# Investigate hyperdiploid relapse!\n",
    "metadata_df[colnames(hyperdiploid), \"label\", drop=F]\n",
    "hyp_relapse <- c(\"P038_D0\", \"P115_D0\", \"P129_D0\", \"P164_D0\", \"P189_D0\")\n",
    "top5_relapse <- top_5[,hyp_relapse]\n",
    "top5_remission <- top_5[, !(colnames(top_5) %in% hyp_relapse)]\n",
    "xtable(t(top5_relapse))"
   ]
  },
  {
   "cell_type": "markdown",
   "metadata": {},
   "source": [
    "#### Average percentile (ERM1)"
   ]
  },
  {
   "cell_type": "code",
   "execution_count": 39,
   "metadata": {},
   "outputs": [
    {
     "ename": "ERROR",
     "evalue": "Error in substring(names(p), 1, 4): object 'avg_p' not found\n",
     "output_type": "error",
     "traceback": [
      "Error in substring(names(p), 1, 4): object 'avg_p' not found\nTraceback:\n",
      "1. stratify_risk(avg_p, 0.5)",
      "2. substring(names(p), 1, 4)   # at line 93 of file <text>"
     ]
    }
   ],
   "source": [
    "list_pid <- stratify_risk(avg_p, .5)\n",
    "tab <- create_table(list_pid)\n",
    "fisher <- fisher.test(tab)\n",
    "chisq <- chisq.test(tab)\n",
    "\n",
    "print(list_pid)\n",
    "print(tab)\n",
    "print(fisher)\n",
    "print(chisq)"
   ]
  },
  {
   "cell_type": "markdown",
   "metadata": {},
   "source": [
    "# CNV data"
   ]
  },
  {
   "cell_type": "code",
   "execution_count": null,
   "metadata": {},
   "outputs": [],
   "source": [
    "# CNV data ----------------------------------------------------------------\n",
    "# hyp_pid <- substring(colnames(hyperdiploid)[1:38], 1, 4)\n",
    "# ID_RPATH <- \"data/GSE67684/processed/metadata/lab_id.tsv\"\n",
    "# id_annot <- read.table(ID_RPATH, header = T, sep = \"\\t\")\n",
    "# hyp_annot <- id_annot[id_annot$pid %in% hyp_pid,]\n",
    "# HYP_WPATH <- \"~/Dropbox/temp/hyperdiploid_id.tsv\"\n",
    "# write.table(hyp_annot, HYP_WPATH, quote = F, sep = \"\\t\", row.names = F)\n",
    "\n",
    "CNV_RPATH <- \"data/GSE67684/processed/hyperdiploid/hyperdiploid-cnv.txt\"\n",
    "raw_cnv <- read.table(CNV_RPATH, header = T, sep = \"\\t\", row.names = 1,\n",
    "                  strip.white = T)\n",
    "raw_cnv[raw_cnv == \"UPD\"] <- 0 # Uniparental disomy\n",
    "cnv <- trimws(as.matrix(raw_cnv))\n",
    "class(cnv) <- \"numeric\"\n",
    "colnames(cnv) <- substring(colnames(cnv), 4)\n",
    "\n",
    "listCNV <- function(row) {\n",
    "  two <- names(row)[row == 2]\n",
    "  one <- names(row)[row == 1]\n",
    "  zero <- names(row)[row == 0]\n",
    "  neg_one <- names(row)[row == -1]\n",
    "  list(two = two, one = one, zero = zero, neg_one = neg_one)\n",
    "}\n",
    "\n",
    "list_cnv <- apply(cnv, 1, listCNV)\n",
    "paste_chr <- function(list) {\n",
    "  lapply(list, function(vec) do.call(paste,\n",
    "                                     c(as.list(vec), sep = \", \")))\n",
    "}\n",
    "list_concat <- lapply(list_cnv, paste_chr)\n",
    "cnv_summary <- data.frame(sapply(list_concat, as.character))\n",
    "pid_cnv <- paste(colnames(cnv_summary), \"D0\", sep = \"_\")\n",
    "## Only show extra chr and hide P154\n",
    "processed_cnv <- t(cnv_summary[1:2, colnames(cnv_summary) != \"P154\"])\n",
    "print(processed_cnv)\n",
    "\n",
    "## Cytogenetic data\n",
    "raw_cyto_cnv <- merge(final_cyto, processed_cnv, by = \"row.names\")\n",
    "rownames(raw_cyto_cnv) <- raw_cyto_cnv[,1]\n",
    "cyto_cnv <- raw_cyto_cnv[,-1]\n",
    "colnames(cyto_cnv) <- c(\"Cytogenetics\", \"CNV: Extra 2\", \"CNV: Extra 1\")\n",
    "print(xtable(cyto_cnv), type = \"latex\",\n",
    "      file = \"~/Dropbox/temp/cyto_cnv.txt\")\n",
    "\n",
    "## Mean\n",
    "mean_top10 <- substring(ranked_mean[1:10, pid_cnv], 4) # remove char \"chr\"\n",
    "colnames(mean_top10) <- substring(colnames(mean_top10), 1, 4)\n",
    "cnv_mean_top10 <- rbind(cnv_summary, mean_top10)\n",
    "cnv_mean_top10 <- t(cnv_mean_top10[\n",
    "  c(1:2, 5:14), colnames(cnv_mean_top10) != \"P154\"])\n",
    "colnames(cnv_mean_top10) <- c(\"Extra 2\", \"Extra 1\", \"1st\", \"2nd\", \"3rd\",\n",
    "                              paste0(4:10, \"th\"))\n",
    "xtable(cnv_mean_top10)\n",
    "\n",
    "## Median (no filtering)\n",
    "subset_top_10_1 <- substring(ranked_chr_median[1:10, pid_cnv], 4) # remove char \"chr\"\n",
    "colnames(subset_top_10_1) <- substring(colnames(subset_top_10_1), 1, 4)\n",
    "cnv_top_1 <- rbind(cnv_summary, subset_top_10_1)\n",
    "cnv_top10_1 <- t(cnv_top_1[c(1:2, 5:14), colnames(cnv_top_1) != \"P154\"])\n",
    "colnames(cnv_top10_1) <- c(\"Extra 2\", \"Extra 1\", \"1st\", \"2nd\", \"3rd\",\n",
    "                           paste0(4:10, \"th\"))\n",
    "xtable(cnv_top10_1)\n",
    "\n",
    "## Median (filtered zeros)\n",
    "ranked_nozero_median\n",
    "# Remove char \"chr\"\n",
    "nozero_median_top10 <- substring(ranked_nozero_median[1:10, pid_cnv], 4)\n",
    "colnames(nozero_median_top10) <- substring(colnames(nozero_median_top10), 1, 4)\n",
    "cnv_nozero_median <- rbind(cnv_summary, nozero_median_top10)\n",
    "cnv_nozero_median <- t(cnv_nozero_median[\n",
    "  c(1:2, 5:14), colnames(cnv_nozero_median) != \"P154\"])\n",
    "colnames(cnv_nozero_median) <- c(\"Extra 2\", \"Extra 1\", \"1st\", \"2nd\", \"3rd\",\n",
    "                                 paste0(4:10, \"th\"))\n",
    "xtable(cnv_nozero_median)\n",
    "\n",
    "### No CNV results!\n",
    "## Mean\n",
    "not_cnv_mean <- substring(\n",
    "  ranked_mean[1:10, !colnames(ranked_mean) %in% pid_cnv], 4) # remove char \"chr\"\n",
    "not_cnv_mean <- t(not_cnv_mean)\n",
    "colnames(not_cnv_mean) <- c(\"1st\", \"2nd\", \"3rd\",\n",
    "                               paste0(4:10, \"th\"))\n",
    "rownames(not_cnv_mean) <- substring(rownames(not_cnv_mean), 1, 4)\n",
    "xtable(not_cnv_mean)\n",
    "\n",
    "## Median\n",
    "median_not_cnv <- t(substring(\n",
    "  ranked_nozero_median[1:10, !colnames(ranked_nozero_median) %in% pid_cnv],\n",
    "  4)) # remove char \"chr\"\n",
    "colnames(median_not_cnv) <- c(\"1st\", \"2nd\", \"3rd\",\n",
    "                              paste0(4:10, \"th\"))\n",
    "rownames(median_not_cnv) <- substring(rownames(median_not_cnv), 1, 4)\n",
    "xtable(median_not_cnv)"
   ]
  },
  {
   "cell_type": "markdown",
   "metadata": {},
   "source": [
    "# Cytogenetic data"
   ]
  },
  {
   "cell_type": "code",
   "execution_count": null,
   "metadata": {},
   "outputs": [],
   "source": [
    "## CYTOGENETIC DATA -----\n",
    "## ## Parse cytogenetic data\n",
    "## CYTO_RPATH <- \"data/GSE67684/raw/hyperdiploid/cytogenetics.tsv\"\n",
    "## raw_cyto <- read.table(CYTO_RPATH, header = T, sep = \"\\t\", stringsAsFactors = F)\n",
    "## list_raw <- strsplit(raw_cyto$Cytogenetics, \"/\")\n",
    "## clone1 <- sapply(list_raw, function(x) x[1])\n",
    "## clone2 <- sapply(list_raw, function(x) x[2])\n",
    "## clone3 <- sapply(list_raw, function(x) x[3])\n",
    "\n",
    "## list_clone1 <- strsplit(clone1, \",\")\n",
    "## n_chr1 <- sapply(list_clone1, function(x) x[1])\n",
    "## sex_chr1 <- sapply(list_clone1, function(x) x[2])\n",
    "## extra_chr1 <- sapply(list_clone1, function(x) x[-c(1,2)])\n",
    "## cyto1 <- as.character(sapply(extra_chr1,\n",
    "##                              function(x) do.call(paste, c(as.list(x), sep = \", \"))))\n",
    "## cyto1[cyto1 == \"character(0)\"] <- NA\n",
    "\n",
    "## list_clone2 <- strsplit(clone2, \",\")\n",
    "## n_chr2 <- sapply(list_clone2, function(x) x[1])\n",
    "## sex_chr2 <- sapply(list_clone2, function(x) x[2])\n",
    "## extra_chr2 <- sapply(list_clone2, function(x) x[-c(1,2)])\n",
    "## cyto2 <- as.character(sapply(extra_chr2,\n",
    "##                              function(x) do.call(paste, c(as.list(x), sep = \", \"))))\n",
    "## cyto2[cyto2 == \"character(0)\"] <- NA\n",
    "\n",
    "## list_clone3 <- strsplit(clone3, \",\")\n",
    "## n_chr3 <- sapply(list_clone3, function(x) x[1])\n",
    "## sex_chr3 <- sapply(list_clone3, function(x) x[2])\n",
    "## extra_chr3 <- sapply(list_clone3, function(x) x[-c(1,2)])\n",
    "## cyto3 <- as.character(sapply(extra_chr3,\n",
    "##                              function(x) do.call(paste, c(as.list(x), sep = \", \"))))\n",
    "## cyto3[cyto3 == \"character(0)\"] <- NA\n",
    "\n",
    "## ## Write organised table\n",
    "## cyto_clones <- cbind(raw_cyto[,1:2], n_chr1, sex_chr1, cyto1,\n",
    "##                      n_chr2, sex_chr2, cyto2, n_chr3, sex_chr3, cyto3)\n",
    "## rownames(cyto_clones) <- cyto_clones$pid\n",
    "## cyto_clones <- cyto_clones[,-1]\n",
    "## rownames(cyto_clones) <- raw_cyto$pid\n",
    "## CYTO_WPATH <- \"data/GSE67684/processed/hyperdiploid/cytogenetics_clones.tsv\"\n",
    "## write.table(cyto_clones, CYTO_WPATH, quote = F, sep = \"\\t\")\n",
    "\n",
    "## ## Filter out chromosomal aberrations\n",
    "## ## Select char starting with +[0-9|X]\n",
    "## curated_extra_chr1 <- lapply(extra_chr1,\n",
    "##                              function(x) x[grepl(\"^\\\\+[0-9|X|Y]\", x)])\n",
    "## ## Delete square brackets at end of char\n",
    "## deleteBracket <- function(vec) {\n",
    "##   idx <- grepl(\"]$\", vec)\n",
    "##   if (!any(idx)) return(vec)\n",
    "##   edited_vec <- sapply(vec[idx], gsub, pattern = \"\\\\[.*\\\\]$\", replacement = \"\")\n",
    "##   vec[idx] <- edited_vec\n",
    "##   return(vec)\n",
    "##\n",
    "\n",
    "## edited_extra_chr1 <- lapply(curated_extra_chr1, deleteBracket)\n",
    "## ## Delete mar\n",
    "## edited1_extra_chr1 <- lapply(edited_extra_chr1,\n",
    "##                              function(x) x[!grepl(\"mar\", x)])\n",
    "## ## Named pid and get rid of patients with no info\n",
    "## names(edited1_extra_chr1) <- raw_cyto$pid\n",
    "## edited2_extra_chr1 <- Filter(function(x) length(x) != 0, edited1_extra_chr1)\n",
    "## ## Get rid of duplicates and + sign\n",
    "## edited3_extra_chr1 <- lapply(edited2_extra_chr1,\n",
    "##                              function(x) substring(unique(x), 2))\n",
    "## XCHR_WPATH <- \"data/GSE67684/processed/hyperdiploid/cytogenetics_xchr.RDS\"\n",
    "## saveRDS(edited3_extra_chr1, XCHR_WPATH)\n",
    "\n",
    "## Read cyto table and list of extra chr\n",
    "CYTO_RPATH <- \"data/GSE67684/processed/hyperdiploid/cytogenetics_clones.tsv\"\n",
    "cyto_clones <- read.table(CYTO_RPATH, header = T, sep = \"\\t\")\n",
    "XCHR_RPATH <- \"data/GSE67684/processed/hyperdiploid/cytogenetics_xchr.RDS\"\n",
    "extra_chr <- readRDS(XCHR_RPATH)\n",
    "\n",
    "## Cleaned cytogenetics table\n",
    "processed_cyto <- sapply(extra_chr,\n",
    "                         function(x) do.call(paste, c(as.list(x), sep = \", \")))\n",
    "final_cyto <- data.frame(extra_chr = processed_cyto)\n",
    "final_cyto1 <- cbind(cyto_clones[rownames(final_cyto), 1:2], final_cyto)\n",
    "## print(xtable(final_cyto1), type = \"latex\",\n",
    "##       file = \"~/Dropbox/temp/final_cyto.txt\")\n",
    "\n",
    "## TABLE: CYTOGENETICS COMPARISON\n",
    "## Median (filtered)\n",
    "# Remove char \"chr\"\n",
    "pid_cyto <- rownames(final_cyto1)\n",
    "subset_nozero_median_top10 <- substring(ranked_nozero_median[1:10, pid_cyto], 4)\n",
    "incyto_nozero_median <- sapply(colnames(subset_nozero_median_top10),\n",
    "                               function(pid) sum(subset_nozero_median_top10[,pid] %in% extra_chr[[pid]]))\n",
    "avg_incyto_nozero_median <- mean(incyto_nozero_median)\n",
    "cyto_nozero_median_top10 <- cbind(final_cyto, t(subset_nozero_median_top10),\n",
    "                                  incyto_nozero_median)\n",
    "colnames(cyto_nozero_median_top10) <- c(\"Extra chr\", \"1st\", \"2nd\", \"3rd\",\n",
    "                                        paste0(4:10, \"th\"), \"N\")\n",
    "print(xtable(cyto_nozero_median_top10), type = \"latex\",\n",
    "      file = \"~/Dropbox/temp/cyto_nozero_median.txt\")\n",
    "\n",
    "## Mean (filtered)\n",
    "subset_mean_top10 <- substring(ranked_mean[1:10, pid_cyto], 4)\n",
    "incyto_mean <- sapply(colnames(subset_mean_top10),\n",
    "                      function(pid) sum(subset_mean_top10[,pid] %in% extra_chr[[pid]]))\n",
    "avg_incyto_mean <- mean(incyto_mean)\n",
    "cyto_mean_top10 <- cbind(final_cyto, t(subset_mean_top10), incyto_mean)\n",
    "colnames(cyto_mean_top10) <- c(\"Extra chr\", \"1st\", \"2nd\", \"3rd\",\n",
    "                               paste0(4:10, \"th\"), \"N\")\n",
    "print(xtable(cyto_mean_top10), type = \"latex\",\n",
    "      file = \"~/Dropbox/temp/cyto_mean.txt\")\n",
    "\n",
    "## Evaluate CNV using cyto\n",
    "## Ignore sex chr\n",
    "list_cnv_extra <- lapply(list_cnv,\n",
    "                         function(l) c(l$two, l$one))\n",
    "auto_extra_chr <- lapply(extra_chr,\n",
    "                         function(x) setdiff(x, c(\"X\", \"Y\")))\n",
    "auto_cnv_extra <- lapply(list_cnv_extra,\n",
    "                         function(x) setdiff(x, c(\"X\", \"Y\")))\n",
    "recall_cnv <- sapply(rownames(cyto_cnv),\n",
    "                     function(pid) {\n",
    "                       sum(auto_extra_chr[[pid]] %in% auto_cnv_extra[[pid]])/length(auto_extra_chr[[pid]])\n",
    "                     })\n",
    "precision_cnv <- sapply(rownames(cyto_cnv),\n",
    "                        function(pid) {\n",
    "                          sum(auto_cnv_extra[[pid]] %in% auto_extra_chr[[pid]])/length(auto_cnv_extra[[pid]])\n",
    "                        })\n",
    "mean(precision_cnv)"
   ]
  },
  {
   "cell_type": "markdown",
   "metadata": {},
   "source": [
    "## Plots (un-normalised data)"
   ]
  },
  {
   "cell_type": "markdown",
   "metadata": {},
   "source": [
    "### Plot: MA"
   ]
  },
  {
   "cell_type": "code",
   "execution_count": 367,
   "metadata": {},
   "outputs": [],
   "source": [
    "#' @param x1 vector of log2 transformed values of sample x1\n",
    "#' @param x2 vector of log2 transformed values of sample x2\n",
    "plot_ma <- function(x1, x2, trim = .3, title = NULL) {\n",
    "  # Filter out features that are 0 in x1 or x2\n",
    "  idx <- x1*x2 != 0\n",
    "  fltr_x1 <- x1[idx]\n",
    "  fltr_x2 <- x2[idx]\n",
    "  \n",
    "  M <- fltr_x1-fltr_x2\n",
    "  A <- .5*(fltr_x1+fltr_x2)\n",
    "  \n",
    "  # Ignores minority of genes which are DE\n",
    "  TMM <- mean(M, trim = trim) # robust estimator for central tendency\n",
    "  MM <- mean(M)\n",
    "  MedianM <- median(M)\n",
    "  SD <- sd(M)\n",
    "  \n",
    "  main <- sprintf(\"%s [mean = %.3f, sd = %.3f]\",\n",
    "                  title, MM, SD) # include mean and sd in title\n",
    "  \n",
    "  par(mfrow = c(1,2))\n",
    "  plot(A, M, cex = .6, main = main)\n",
    "  abline(h = TMM, col = \"green\")\n",
    "  abline(h = MM, col = \"red\")\n",
    "  abline(h = MedianM, col = \"purple\")\n",
    "  hist(M)\n",
    "  abline(v = TMM, col = \"green\")\n",
    "  abline(v = MM, col = \"red\")\n",
    "  abline(v = MedianM, col = \"purple\")\n",
    "  par(mfrow = c(1,1))\n",
    "}"
   ]
  },
  {
   "cell_type": "code",
   "execution_count": 368,
   "metadata": {},
   "outputs": [
    {
     "data": {
      "image/png": "[encoded data removed]",
      "text/plain": [
       "Plot with title “Histogram of M”"
      ]
     },
     "metadata": {},
     "output_type": "display_data"
    }
   ],
   "source": [
    "# for (pid in colnames(hypall_norm)[1:76]) {  \n",
    "#   wpath <- sprintf(\"~/Dropbox/temp/ma_plot/%s_N01.pdf\", pid)\n",
    "#   pdf(wpath, width = 10, height = 5)\n",
    "#   plot_ma(hypall_norm[,pid],\n",
    "#           hypall_norm[,\"N01\"],\n",
    "#           title = sprintf(\"%s\", pid))\n",
    "#   dev.off()\n",
    "# }\n",
    "\n",
    "pid <- \"N04\"\n",
    "wpath <- sprintf(\"~/Dropbox/temp/ma_plot/%s_N01.pdf\", pid)\n",
    "# pdf(wpath, width = 10, height = 5)\n",
    "plot_ma(hypall_norm[,pid], hypall_norm$N01, title = pid)\n",
    "# dev.off()"
   ]
  },
  {
   "cell_type": "code",
   "execution_count": 329,
   "metadata": {},
   "outputs": [],
   "source": [
    "## Collate MA plot mean values\n",
    "\n",
    "# dir.create(sprintf(\"~/Dropbox/temp/%s\", chr))\n",
    "# wpath <- sprintf(\"~/Dropbox/temp/%s/%s-%s.pdf\", chr, pid, chr)\n",
    "\n",
    "all_chr <- paste0(\"chr\", 1:22)\n",
    "\n",
    "raw_mm_tmm_sd <- sapply(\n",
    "  all_chr,\n",
    "  function(chr) sapply(\n",
    "    colnames(hypall_norm)[1:76],\n",
    "    function(pid) plot_ma(list_chr_all_hyp_norm[[chr]][,pid],\n",
    "                          list_chr_all_hyp_norm[[chr]][,\"N01\"])\n",
    "  )\n",
    ")\n",
    "raw_mm_tmm_sd1 <- sapply(\n",
    "  all_chr,\n",
    "  function(chr) sapply(\n",
    "    colnames(hypall_norm)[77:79],\n",
    "    function(pid) plot_ma(list_chr_all_hyp_norm[[chr]][,pid],\n",
    "                          list_chr_all_hyp_norm[[chr]][,\"N01\"])\n",
    "  )\n",
    ")"
   ]
  },
  {
   "cell_type": "code",
   "execution_count": 343,
   "metadata": {},
   "outputs": [],
   "source": [
    "## Collate MA plot mean values\n",
    "\n",
    "# dir.create(sprintf(\"~/Dropbox/temp/%s\", chr))\n",
    "# wpath <- sprintf(\"~/Dropbox/temp/%s/%s-%s.pdf\", chr, pid, chr)\n",
    "\n",
    "all_chr <- paste0(\"chr\", 1:22)\n",
    "\n",
    "raw_medm_tmm_sd <- sapply(\n",
    "  all_chr,\n",
    "  function(chr) sapply(\n",
    "    colnames(hypall_norm)[1:76],\n",
    "    function(pid) plot_ma(list_chr_all_hyp_norm[[chr]][,pid],\n",
    "                          list_chr_all_hyp_norm[[chr]][,\"N01\"])\n",
    "  )\n",
    ")\n",
    "raw_medm_tmm_sd1 <- sapply(\n",
    "  all_chr,\n",
    "  function(chr) sapply(\n",
    "    colnames(hypall_norm)[77:79],\n",
    "    function(pid) plot_ma(list_chr_all_hyp_norm[[chr]][,pid],\n",
    "                          list_chr_all_hyp_norm[[chr]][,\"N01\"])\n",
    "  )\n",
    ")"
   ]
  },
  {
   "cell_type": "code",
   "execution_count": 350,
   "metadata": {},
   "outputs": [],
   "source": [
    "# plot_chr_hyp(t(raw_mm_tmm_sd[39:76,]), t(raw_mm_tmm_sd1),\n",
    "#              \"~/Dropbox/temp/MM-N01_3.pdf\",\n",
    "#              \"~/Dropbox/temp/MM-N01_4.pdf\")\n",
    "\n",
    "plot_chr_hyp(t(raw_medm_tmm_sd[39:76,]), t(raw_medm_tmm_sd1),\n",
    "             \"~/Dropbox/temp/MedM-N01_3.pdf\",\n",
    "             \"~/Dropbox/temp/MedM-N01_4.pdf\")"
   ]
  },
  {
   "cell_type": "markdown",
   "metadata": {},
   "source": [
    "### Batch info"
   ]
  },
  {
   "cell_type": "code",
   "execution_count": 11,
   "metadata": {
    "scrolled": false
   },
   "outputs": [
    {
     "name": "stdout",
     "output_type": "stream",
     "text": [
      "P037 P038 P039 P040 P041 P042 P043 P044 P046 P047 P048 P098 P100 P109 P115 P129 \n",
      "   1    2    3    3    3    4    4    1    2    2    4    9    9    6    6    9 \n",
      "P133 P138 P139 P140 P148 P153 P154 P155 P157 P159 P162 P164 P169 P176 P178 P182 \n",
      "   9    8    8    8    8    9    3    9    9    8    8    7    7    7    8    8 \n",
      "P183 P189 P195 P196 P207 P208 \n",
      "   6    6   10   10   10   10 \n"
     ]
    }
   ],
   "source": [
    "hyp_batch <- metadata_df[paste(colnames(hyperdiploid), \"D0\", sep = \"_\"), \"batch_info\"]\n",
    "names(hyp_batch) <- colnames(hyperdiploid)\n",
    "print(hyp_batch)"
   ]
  },
  {
   "cell_type": "markdown",
   "metadata": {},
   "source": [
    "#### Clustering"
   ]
  },
  {
   "cell_type": "code",
   "execution_count": 174,
   "metadata": {},
   "outputs": [],
   "source": [
    "## Clustering (T-SNE)\n",
    "# hyp_tsne <- Rtsne(t(hyperdiploid), perplexity = 1)$Y\n",
    "# plot(hyp_tsne[,1], hyp_tsne[,2], pch = 19, col = hyp_batch)\n",
    "# text(hyp_tsne[,1], hyp_tsne[,2], colnames(hyperdiploid))\n",
    "\n",
    "## Clustering (PCA)\n",
    "# hyp_pca <- prcomp(t(hyperdiploid))$x\n",
    "# plot(hyp_pca[,1], hyp_pca[,2], pch = 19, col = hyp_batch)\n",
    "# text(hyp_pca[,1], hyp_pca[,2], colnames(hyperdiploid))\n",
    "\n",
    "# # Filtering drug responsive genes\n",
    "# fltr_hyp1 <- hyperdiploid[hyp_genes,]\n",
    "# fltr_hyp2 <- hyperdiploid[hyp_wobatch_genes,]\n",
    "# fltr_hyp_norm1 <- X_hyp[hyp_wobatch_genes,]\n",
    "# colnames(fltr_hyp2) <- paste(colnames(fltr_hyp2), \"D0\", sep = \"_\")\n",
    "\n",
    "## Clustering with T-SNE does not reveal any pattern\n",
    "\n",
    "# Clustering (Hierachical)\n",
    "heatmap_metadata <- metadata_df[, c(\"batch_info\", \"label\"), drop = F]\n",
    "pheatmap(fltr_hyp2, col = brewer.pal(9, \"Blues\"),\n",
    "       display_numbers = F, fontsize = 5.5,\n",
    "       legend = T, border_color = \"black\", scale = \"none\",\n",
    "       cluster_method = \"ward.D2\", cluster_rows = F, cluster_cols = T,\n",
    "       show_colnames = T, show_rownames = F,\n",
    "       annotation_col = heatmap_metadata,\n",
    "       cellwidth = 10, cellheight = 1,\n",
    "       filename = \"~/Dropbox/temp/heatmap-hyp_drug_wobatch.pdf\")\n",
    "\n",
    "# c1_pid <- sprintf(\"P%03d\", c(44, 155, 140, 207, 154, 40, 39, 100, 178))\n",
    "# c2_pid <- sprintf(\"P%03d\", c(37, 42, 48, 139, 133, 176, 43, 109, 115, 148, 169, 189))\n",
    "# c3_pid <- sprintf(\"P%03d\", c(41, 46, 47, 38, 153, 162, 164, 159, 183, 129, 138, 208, 195, 196, 157, 98, 182))\n",
    "\n",
    "# list_clusters <- list(c1_pid, c2_pid, c3_pid)\n",
    "# list_clusters_all <- convert_list_pid(list_clusters)\n",
    "\n",
    "## Relapse (gene markers)"
   ]
  },
  {
   "cell_type": "code",
   "execution_count": 186,
   "metadata": {},
   "outputs": [
    {
     "name": "stdout",
     "output_type": "stream",
     "text": [
      "[1] 10\n",
      "[1] 28\n"
     ]
    }
   ],
   "source": [
    "# Filtering drug responsive genes\n",
    "fltr_hypd8 <- hyperdiploid_d8[hyp_wobatch_genes,]\n",
    "colnames(fltr_hypd8) <- paste(colnames(fltr_hypd8), \"D8\", sep = \"_\")\n",
    "\n",
    "# Clustering (Hierachical)\n",
    "heatmap_metadata <- metadata_df[, c(\"batch_info\", \"label\"), drop = F]\n",
    "pheatmap(fltr_hypd8, col = brewer.pal(9, \"Blues\"),\n",
    "       display_numbers = F, fontsize = 5.5,\n",
    "       legend = T, border_color = \"black\", scale = \"none\",\n",
    "       cluster_method = \"ward.D2\", cluster_rows = F, cluster_cols = T,\n",
    "       show_colnames = T, show_rownames = F,\n",
    "       annotation_col = heatmap_metadata,\n",
    "       cellwidth = 10, cellheight = 1,\n",
    "       filename = \"~/Dropbox/temp/heatmap-hypd8_drug_wobatch.pdf\")\n",
    "\n",
    "c1_pid1 <- sprintf(\"P%03d\", c(44, 189, 164, 42, 138, 115, 183, 37, 109, 157))\n",
    "c2_pid1 <- setdiff(colnames(hyperdiploid), c1_pid1)\n",
    "print(length(c1_pid1))\n",
    "print(length(c2_pid1))\n",
    "\n",
    "list_clusters1 <- list(c1_pid1, c2_pid1)\n",
    "list_clusters_all1 <- convert_list_pid(list_clusters1)"
   ]
  },
  {
   "cell_type": "markdown",
   "metadata": {},
   "source": [
    "### Plot: Heatmap"
   ]
  },
  {
   "cell_type": "markdown",
   "metadata": {},
   "source": [
    "#### Relapse marker genes"
   ]
  },
  {
   "cell_type": "code",
   "execution_count": 135,
   "metadata": {},
   "outputs": [],
   "source": [
    "Y_ord <- Y[order(Y$label),]\n",
    "Y_annot <- Y[,c(\"batch_info\", \"label\")] # heatmap annot\n",
    "\n",
    "## Hyperdiploid D0\n",
    "hypd0 <- hyperdiploid\n",
    "colnames(hypd0) <- paste0(colnames(hyperdiploid), \"_D0\") # rename pid\n",
    "\n",
    "pid_hypd0 <- rownames(Y_ord)\n",
    "ord_hypd0 <- hypd0[,pid_hypd0] # rearrange columns\n",
    "pvalue1 <- calc_ttest(ord_hypd0, size_a = 33, is_paired = F)\n",
    "ps_relapse <- names(head(sort(pvalue1), 50))\n",
    "\n",
    "# Plot\n",
    "filename <- \"~/Dropbox/temp/heatmap-hyp_d0.pdf\"\n",
    "pheatmap(ord_hypd0[ps_relapse,],\n",
    "         annotation_col = Y_annot,\n",
    "         col = brewer.pal(9, \"Blues\"),\n",
    "         display_numbers = F, fontsize = 5.5,\n",
    "         legend = T, border_color = \"black\", scale = \"none\",\n",
    "         cluster_method = \"ward.D2\", cluster_rows = T, cluster_cols = T,\n",
    "         show_colnames = T, show_rownames = T,\n",
    "         cellwidth = 8, cellheight = 10,\n",
    "         filename = filename)"
   ]
  },
  {
   "cell_type": "markdown",
   "metadata": {},
   "source": [
    "#### Plot density plot (chr)"
   ]
  },
  {
   "cell_type": "code",
   "execution_count": null,
   "metadata": {},
   "outputs": [],
   "source": [
    "### DENSITY PLOT ###\n",
    "## Appending relevant info and converting to long format\n",
    "t_hyp_normal <- t(hyp_normal1[\n",
    "  !is.na(ps_chr) & !(ps_chr %in% c(\"chrX\", \"chrY\")),]) # Filter out unassigned ps\n",
    "batch_idx <- metadata_df[paste(rownames(t_hyp_normal), \"D0\", sep = \"_\"), \"batch_info\"]\n",
    "batch_idx[is.na(batch_idx)] <- \"Normal\"\n",
    "batch_hyp_normal <- data.frame(pid = rownames(t_hyp_normal),\n",
    "                               batch = as.factor(batch_idx),\n",
    "                               t_hyp_normal,\n",
    "                               check.names = F)\n",
    "long_hyp_normal <- melt(batch_hyp_normal,\n",
    "                        id.vars = c(\"pid\", \"batch\"),\n",
    "                        variable.name = \"probeset\")\n",
    "long_hyp_normal$chr <- ps_chr[as.character(long_hyp_normal$probeset)]\n",
    "ps_density <- ggplot(long_hyp_normal) +\n",
    "  geom_density(aes(x = value, group = pid, colour = batch)) +\n",
    "  facet_wrap(~chr, nrow = 4, ncol = 6)\n",
    "ggsave(\"~/Dropbox/temp/ps_density-fltr70.pdf\", ps_density,\n",
    "       width = 12, height = 8)"
   ]
  },
  {
   "cell_type": "markdown",
   "metadata": {},
   "source": [
    "## Ideas"
   ]
  },
  {
   "cell_type": "markdown",
   "metadata": {},
   "source": [
    "#### Hyperdiploid (D8)\n",
    "Hypothesis: Clonal evolution"
   ]
  },
  {
   "cell_type": "code",
   "execution_count": 194,
   "metadata": {},
   "outputs": [],
   "source": [
    "list_chr_hypd8 <- split.data.frame(hyperdiploid_d8, ps_chr)\n",
    "## MEDIAN\n",
    "hypd8_median <- t(sapply(list_chr_hypd8, apply, 2, median))[1:22,]\n",
    "\n",
    "## Filter genes\n",
    "fltrdb_norm <- normal[hyp_wobatch_genes,]\n",
    "fltrdb_hypd8 <- hyperdiploid_d8[hyp_wobatch_genes,]\n",
    "## Chr annotation\n",
    "ps_chr2 <- get_chrloc(hyp_wobatch_genes, annot)\n",
    "\n",
    "### NORMAL\n",
    "list_chr_fltrdb_norm <- split.data.frame(fltrdb_norm, ps_chr2)\n",
    "## MEDIAN\n",
    "fltrdb_norm_median <- t(sapply(list_chr_fltrdb_norm, apply, 2, median))[1:22,]\n",
    "\n",
    "### HYPERDIPLOID\n",
    "list_chr_fltrdb_hypd8 <- split.data.frame(fltrdb_hypd8, ps_chr2)\n",
    "## MEDIAN\n",
    "fltrdb_hypd8_median <- t(sapply(list_chr_fltrdb_hypd8, apply, 2, median))[1:22,]"
   ]
  },
  {
   "cell_type": "markdown",
   "metadata": {},
   "source": [
    "#### Hyperdiploid (D33)"
   ]
  },
  {
   "cell_type": "code",
   "execution_count": 112,
   "metadata": {},
   "outputs": [],
   "source": [
    "list_chr_hypd33 <- split.data.frame(hyperdiploid_d33, ps_chr)\n",
    "## MEDIAN\n",
    "hypd33_median <- t(sapply(list_chr_hypd33, apply, 2, median))[1:22,]"
   ]
  },
  {
   "cell_type": "markdown",
   "metadata": {},
   "source": [
    "#### Drug responsive genes (hyperdiploid)"
   ]
  },
  {
   "cell_type": "code",
   "execution_count": 151,
   "metadata": {},
   "outputs": [],
   "source": [
    "## Filter genes\n",
    "fltr_norm <- normal[hyp_wobatch_genes,]\n",
    "fltr_hyp <- hyperdiploid[hyp_wobatch_genes,]\n",
    "## Chr annotation\n",
    "ps_chr2 <- get_chrloc(hyp_wobatch_genes, annot)\n",
    "\n",
    "### NORMAL\n",
    "list_chr_norm2 <- split.data.frame(fltr_norm, ps_chr2)\n",
    "## MEDIAN\n",
    "norm_median2 <- t(sapply(list_chr_norm, apply, 2, median))[1:22,]\n",
    "\n",
    "### HYPERDIPLOID\n",
    "list_chr_hyp2 <- split.data.frame(fltr_hyp, ps_chr2)\n",
    "## MEDIAN\n",
    "hyp_median2 <- t(sapply(list_chr_hyp, apply, 2, median))[1:22,]"
   ]
  },
  {
   "cell_type": "markdown",
   "metadata": {},
   "source": [
    "#### ComBat"
   ]
  },
  {
   "cell_type": "code",
   "execution_count": 138,
   "metadata": {},
   "outputs": [],
   "source": [
    "### ComBat\n",
    "### NORMAL\n",
    "list_chr_norm_combat <- split.data.frame(norm_combat, ps_chr)\n",
    "## MEDIAN\n",
    "norm_combat_median <- t(sapply(list_chr_norm_combat, apply, 2, median))[1:22,]\n",
    "### HYPERDIPLOID\n",
    "list_chr_hyp_combat <- split.data.frame(hyp_combat, ps_chr)\n",
    "## MEDIAN\n",
    "hyp_combat_median <- t(sapply(list_chr_hyp_combat, apply, 2, median))[1:22,]"
   ]
  },
  {
   "cell_type": "markdown",
   "metadata": {},
   "source": [
    "#### Investigate individual top probesets"
   ]
  },
  {
   "cell_type": "code",
   "execution_count": 371,
   "metadata": {},
   "outputs": [],
   "source": [
    "pid_hypd0d8 <- rownames(Y)[Y$subtype == \"Hyperdiploid\"]\n",
    "\n",
    "# Calculate pairwise logfc\n",
    "logfc <- hyperdiploid - hyperdiploid_d8\n",
    "top50_down <- apply(logfc, 2, function(x) names(head(sort(x), 50)))\n",
    "top50_up <- apply(logfc, 2, function(x) names(head(sort(-x), 50)))\n",
    "top50_down <- as.list(data.frame(top50_down, stringsAsFactors = F))\n",
    "top50_up <- as.list(data.frame(top50_up, stringsAsFactors = F))"
   ]
  },
  {
   "cell_type": "code",
   "execution_count": 376,
   "metadata": {},
   "outputs": [],
   "source": [
    "all_top50_down <- do.call(c, top50_down)\n",
    "all_top50_up <- do.call(c, top50_up)"
   ]
  },
  {
   "cell_type": "code",
   "execution_count": 615,
   "metadata": {},
   "outputs": [],
   "source": [
    "## logfc -> clustering\n",
    "## Filter probesets that occur frequently in up and down regulated genes\n",
    "FREQ_PS <- 10\n",
    "freq_down <- table(all_top50_down)\n",
    "ps_down <- names(freq_down[freq_down > FREQ_PS])\n",
    "\n",
    "FREQ_PS <- 10\n",
    "freq_up <- table(all_top50_up)\n",
    "ps_up <- names(freq_up[freq_up > FREQ_PS])"
   ]
  },
  {
   "cell_type": "code",
   "execution_count": 677,
   "metadata": {},
   "outputs": [
    {
     "data": {
      "text/html": [
       "<strong>png:</strong> 2"
      ],
      "text/latex": [
       "\\textbf{png:} 2"
      ],
      "text/markdown": [
       "**png:** 2"
      ],
      "text/plain": [
       "png \n",
       "  2 "
      ]
     },
     "metadata": {},
     "output_type": "display_data"
    }
   ],
   "source": [
    "## Up and down regulated probesets\n",
    "X <- hyperdiploid[c(ps_down, ps_up),]\n",
    "pca_obj <- prcomp(t(X))\n",
    "X_pca <- pca_obj$x\n",
    "\n",
    "relapse_pid <- c(\"P038\", \"P115\", \"P129\", \"P164\", \"P189\")\n",
    "col <- ifelse(colnames(X) %in% relapse_pid, \"red\", \"black\")\n",
    "\n",
    "pdf(\"~/Dropbox/temp/pca-top50updown.pdf\", width = 10, height = 6)\n",
    "plot(X_pca[,1:2])\n",
    "text(X_pca[,1:2], colnames(X), col = col)\n",
    "dev.off()\n",
    "\n",
    "# ## Log-fc\n",
    "# X <- logfc\n",
    "# pca_obj <- prcomp(t(X))\n",
    "# X_pca <- pca_obj$x\n",
    "\n",
    "# relapse_pid <- c(\"P038\", \"P115\", \"P129\", \"P164\", \"P189\")\n",
    "# col <- ifelse(colnames(X) %in% relapse_pid, \"red\", \"black\")\n",
    "\n",
    "# pdf(\"~/Dropbox/temp/pca-logfc.pdf\", width = 10, height = 6)\n",
    "# plot(X_pca[,1:2], col = \"white\")\n",
    "# text(X_pca[,1:2], colnames(X), cex = .7, col = col)\n",
    "# dev.off()"
   ]
  },
  {
   "cell_type": "code",
   "execution_count": null,
   "metadata": {},
   "outputs": [],
   "source": [
    "# # Heatmap\n",
    "# pheatmap(hypall_norm[c(ps_down, ps_up),],\n",
    "#          col = brewer.pal(9, \"Blues\"),\n",
    "#          display_numbers = F, fontsize = 5.5,\n",
    "#          legend = T, border_color = \"black\", scale = \"none\",\n",
    "#          cluster_method = \"ward.D2\", cluster_rows = F, cluster_cols = T,\n",
    "#          show_colnames = T, show_rownames = F,\n",
    "#          annotation_col = metadata_df,\n",
    "#          cellwidth = 5, cellheight = 5)"
   ]
  },
  {
   "cell_type": "code",
   "execution_count": 406,
   "metadata": {},
   "outputs": [
    {
     "data": {
      "image/png": "[encoded data removed]",
      "text/plain": [
       "Plot with title “Histogram of logfc[, 9]”"
      ]
     },
     "metadata": {},
     "output_type": "display_data"
    }
   ],
   "source": [
    "hist(logfc[,9], breaks = 20)"
   ]
  },
  {
   "cell_type": "markdown",
   "metadata": {},
   "source": [
    "#### Plot graph with (V: Patients, E: Probesests)"
   ]
  },
  {
   "cell_type": "code",
   "execution_count": 598,
   "metadata": {},
   "outputs": [],
   "source": [
    "## Create adjacency matrix (weight is number of shared ps)\n",
    "adj_down <- sapply(top50_down,\n",
    "                   function(x) sapply(top50_down,\n",
    "                                      function(y) length(intersect(x, y))))\n",
    "adj_up <- sapply(top50_up,\n",
    "                 function(x) sapply(top50_up,\n",
    "                                    function(y) length(intersect(x, y))))"
   ]
  },
  {
   "cell_type": "code",
   "execution_count": 698,
   "metadata": {},
   "outputs": [
    {
     "name": "stdout",
     "output_type": "stream",
     "text": [
      "     P037 P038 P039 P040 P041 P042 P043 P044 P046 P047 P048 P098 P100 P109 P115\n",
      "P037 1.00 0.00    0    0    0 0.26 0.00    0 0.00 0.00 0.00 0.00    0    0 0.00\n",
      "P038 0.00 1.00    0    0    0 0.20 0.20    0 0.22 0.00 0.00 0.00    0    0 0.00\n",
      "P039 0.00 0.00    1    0    0 0.00 0.00    0 0.00 0.00 0.00 0.00    0    0 0.00\n",
      "P040 0.00 0.00    0    1    0 0.00 0.00    0 0.00 0.00 0.00 0.00    0    0 0.00\n",
      "P041 0.00 0.00    0    0    1 0.00 0.00    0 0.00 0.00 0.00 0.00    0    0 0.00\n",
      "P042 0.26 0.20    0    0    0 1.00 0.26    0 0.30 0.00 0.20 0.00    0    0 0.30\n",
      "P043 0.00 0.20    0    0    0 0.26 1.00    0 0.20 0.00 0.00 0.00    0    0 0.26\n",
      "P044 0.00 0.00    0    0    0 0.00 0.00    1 0.00 0.00 0.00 0.00    0    0 0.00\n",
      "P046 0.00 0.22    0    0    0 0.30 0.20    0 1.00 0.26 0.28 0.20    0    0 0.30\n",
      "P047 0.00 0.00    0    0    0 0.00 0.00    0 0.26 1.00 0.20 0.00    0    0 0.00\n",
      "P048 0.00 0.00    0    0    0 0.20 0.00    0 0.28 0.20 1.00 0.00    0    0 0.00\n",
      "P098 0.00 0.00    0    0    0 0.00 0.00    0 0.20 0.00 0.00 1.00    0    0 0.00\n",
      "P100 0.00 0.00    0    0    0 0.00 0.00    0 0.00 0.00 0.00 0.00    1    0 0.00\n",
      "P109 0.00 0.00    0    0    0 0.00 0.00    0 0.00 0.00 0.00 0.00    0    1 0.00\n",
      "P115 0.00 0.00    0    0    0 0.30 0.26    0 0.30 0.00 0.00 0.00    0    0 1.00\n",
      "P129 0.00 0.00    0    0    0 0.00 0.00    0 0.26 0.00 0.00 0.24    0    0 0.22\n",
      "P133 0.00 0.00    0    0    0 0.28 0.00    0 0.22 0.22 0.36 0.00    0    0 0.24\n",
      "P138 0.00 0.00    0    0    0 0.00 0.22    0 0.00 0.00 0.00 0.00    0    0 0.00\n",
      "P139 0.28 0.00    0    0    0 0.26 0.26    0 0.28 0.00 0.24 0.00    0    0 0.24\n",
      "P140 0.00 0.00    0    0    0 0.00 0.00    0 0.00 0.00 0.00 0.20    0    0 0.00\n",
      "P148 0.00 0.00    0    0    0 0.00 0.24    0 0.24 0.00 0.00 0.00    0    0 0.24\n",
      "P153 0.00 0.22    0    0    0 0.26 0.32    0 0.24 0.00 0.00 0.22    0    0 0.22\n",
      "P154 0.00 0.00    0    0    0 0.00 0.00    0 0.00 0.00 0.00 0.00    0    0 0.00\n",
      "P155 0.00 0.00    0    0    0 0.00 0.00    0 0.00 0.00 0.00 0.00    0    0 0.00\n",
      "P157 0.00 0.00    0    0    0 0.00 0.00    0 0.00 0.00 0.00 0.00    0    0 0.00\n",
      "P159 0.22 0.00    0    0    0 0.22 0.22    0 0.24 0.32 0.00 0.20    0    0 0.28\n",
      "P162 0.00 0.00    0    0    0 0.00 0.00    0 0.00 0.20 0.00 0.00    0    0 0.00\n",
      "P164 0.00 0.00    0    0    0 0.00 0.00    0 0.00 0.00 0.00 0.00    0    0 0.00\n",
      "P169 0.32 0.00    0    0    0 0.22 0.00    0 0.28 0.24 0.00 0.00    0    0 0.20\n",
      "P176 0.20 0.30    0    0    0 0.32 0.40    0 0.32 0.20 0.00 0.00    0    0 0.32\n",
      "P178 0.00 0.00    0    0    0 0.00 0.20    0 0.00 0.00 0.00 0.00    0    0 0.00\n",
      "P182 0.00 0.00    0    0    0 0.00 0.00    0 0.00 0.00 0.00 0.20    0    0 0.00\n",
      "P183 0.00 0.00    0    0    0 0.00 0.26    0 0.00 0.00 0.00 0.24    0    0 0.00\n",
      "P189 0.00 0.22    0    0    0 0.26 0.00    0 0.26 0.00 0.00 0.00    0    0 0.22\n",
      "P195 0.00 0.00    0    0    0 0.00 0.20    0 0.00 0.20 0.00 0.00    0    0 0.00\n",
      "P196 0.00 0.00    0    0    0 0.00 0.20    0 0.00 0.00 0.00 0.00    0    0 0.00\n",
      "P207 0.00 0.00    0    0    0 0.00 0.00    0 0.00 0.00 0.00 0.00    0    0 0.00\n",
      "P208 0.00 0.00    0    0    0 0.00 0.26    0 0.00 0.00 0.00 0.00    0    0 0.00\n",
      "     P129 P133 P138 P139 P140 P148 P153 P154 P155 P157 P159 P162 P164 P169 P176\n",
      "P037 0.00 0.00 0.00 0.28  0.0 0.00 0.00    0    0    0 0.22 0.00    0 0.32 0.20\n",
      "P038 0.00 0.00 0.00 0.00  0.0 0.00 0.22    0    0    0 0.00 0.00    0 0.00 0.30\n",
      "P039 0.00 0.00 0.00 0.00  0.0 0.00 0.00    0    0    0 0.00 0.00    0 0.00 0.00\n",
      "P040 0.00 0.00 0.00 0.00  0.0 0.00 0.00    0    0    0 0.00 0.00    0 0.00 0.00\n",
      "P041 0.00 0.00 0.00 0.00  0.0 0.00 0.00    0    0    0 0.00 0.00    0 0.00 0.00\n",
      "P042 0.00 0.28 0.00 0.26  0.0 0.00 0.26    0    0    0 0.22 0.00    0 0.22 0.32\n",
      "P043 0.00 0.00 0.22 0.26  0.0 0.24 0.32    0    0    0 0.22 0.00    0 0.00 0.40\n",
      "P044 0.00 0.00 0.00 0.00  0.0 0.00 0.00    0    0    0 0.00 0.00    0 0.00 0.00\n",
      "P046 0.26 0.22 0.00 0.28  0.0 0.24 0.24    0    0    0 0.24 0.00    0 0.28 0.32\n",
      "P047 0.00 0.22 0.00 0.00  0.0 0.00 0.00    0    0    0 0.32 0.20    0 0.24 0.20\n",
      "P048 0.00 0.36 0.00 0.24  0.0 0.00 0.00    0    0    0 0.00 0.00    0 0.00 0.00\n",
      "P098 0.24 0.00 0.00 0.00  0.2 0.00 0.22    0    0    0 0.20 0.00    0 0.00 0.00\n",
      "P100 0.00 0.00 0.00 0.00  0.0 0.00 0.00    0    0    0 0.00 0.00    0 0.00 0.00\n",
      "P109 0.00 0.00 0.00 0.00  0.0 0.00 0.00    0    0    0 0.00 0.00    0 0.00 0.00\n",
      "P115 0.22 0.24 0.00 0.24  0.0 0.24 0.22    0    0    0 0.28 0.00    0 0.20 0.32\n",
      "P129 1.00 0.00 0.00 0.00  0.0 0.00 0.00    0    0    0 0.00 0.00    0 0.00 0.00\n",
      "P133 0.00 1.00 0.00 0.34  0.0 0.00 0.24    0    0    0 0.28 0.00    0 0.24 0.24\n",
      "P138 0.00 0.00 1.00 0.00  0.0 0.00 0.20    0    0    0 0.00 0.00    0 0.00 0.00\n",
      "P139 0.00 0.34 0.00 1.00  0.0 0.26 0.20    0    0    0 0.38 0.00    0 0.42 0.32\n",
      "P140 0.00 0.00 0.00 0.00  1.0 0.00 0.00    0    0    0 0.00 0.00    0 0.00 0.00\n",
      "P148 0.00 0.00 0.00 0.26  0.0 1.00 0.24    0    0    0 0.24 0.00    0 0.24 0.24\n",
      "P153 0.00 0.24 0.20 0.20  0.0 0.24 1.00    0    0    0 0.00 0.28    0 0.20 0.32\n",
      "P154 0.00 0.00 0.00 0.00  0.0 0.00 0.00    1    0    0 0.00 0.00    0 0.00 0.00\n",
      "P155 0.00 0.00 0.00 0.00  0.0 0.00 0.00    0    1    0 0.00 0.00    0 0.00 0.00\n",
      "P157 0.00 0.00 0.00 0.00  0.0 0.00 0.00    0    0    1 0.00 0.00    0 0.00 0.00\n",
      "P159 0.00 0.28 0.00 0.38  0.0 0.24 0.00    0    0    0 1.00 0.00    0 0.30 0.24\n",
      "P162 0.00 0.00 0.00 0.00  0.0 0.00 0.28    0    0    0 0.00 1.00    0 0.00 0.26\n",
      "P164 0.00 0.00 0.00 0.00  0.0 0.00 0.00    0    0    0 0.00 0.00    1 0.00 0.00\n",
      "P169 0.00 0.24 0.00 0.42  0.0 0.24 0.20    0    0    0 0.30 0.00    0 1.00 0.24\n",
      "P176 0.00 0.24 0.00 0.32  0.0 0.24 0.32    0    0    0 0.24 0.26    0 0.24 1.00\n",
      "P178 0.00 0.00 0.00 0.00  0.0 0.00 0.00    0    0    0 0.00 0.00    0 0.00 0.00\n",
      "P182 0.00 0.00 0.00 0.00  0.0 0.00 0.00    0    0    0 0.00 0.00    0 0.00 0.00\n",
      "P183 0.00 0.00 0.00 0.00  0.0 0.00 0.28    0    0    0 0.00 0.00    0 0.00 0.00\n",
      "P189 0.00 0.24 0.00 0.00  0.0 0.00 0.28    0    0    0 0.00 0.00    0 0.00 0.30\n",
      "P195 0.00 0.00 0.00 0.00  0.0 0.00 0.00    0    0    0 0.00 0.00    0 0.00 0.00\n",
      "P196 0.00 0.00 0.00 0.00  0.0 0.20 0.00    0    0    0 0.00 0.00    0 0.00 0.00\n",
      "P207 0.00 0.00 0.00 0.00  0.0 0.00 0.00    0    0    0 0.00 0.00    0 0.00 0.00\n",
      "P208 0.00 0.00 0.00 0.00  0.0 0.00 0.22    0    0    0 0.00 0.00    0 0.00 0.00\n",
      "     P178 P182 P183 P189 P195 P196 P207 P208\n",
      "P037  0.0 0.00 0.00 0.00 0.00  0.0    0 0.00\n",
      "P038  0.0 0.00 0.00 0.22 0.00  0.0    0 0.00\n",
      "P039  0.0 0.00 0.00 0.00 0.00  0.0    0 0.00\n",
      "P040  0.0 0.00 0.00 0.00 0.00  0.0    0 0.00\n",
      "P041  0.0 0.00 0.00 0.00 0.00  0.0    0 0.00\n",
      "P042  0.0 0.00 0.00 0.26 0.00  0.0    0 0.00\n",
      "P043  0.2 0.00 0.26 0.00 0.20  0.2    0 0.26\n",
      "P044  0.0 0.00 0.00 0.00 0.00  0.0    0 0.00\n",
      "P046  0.0 0.00 0.00 0.26 0.00  0.0    0 0.00\n",
      "P047  0.0 0.00 0.00 0.00 0.20  0.0    0 0.00\n",
      "P048  0.0 0.00 0.00 0.00 0.00  0.0    0 0.00\n",
      "P098  0.0 0.20 0.24 0.00 0.00  0.0    0 0.00\n",
      "P100  0.0 0.00 0.00 0.00 0.00  0.0    0 0.00\n",
      "P109  0.0 0.00 0.00 0.00 0.00  0.0    0 0.00\n",
      "P115  0.0 0.00 0.00 0.22 0.00  0.0    0 0.00\n",
      "P129  0.0 0.00 0.00 0.00 0.00  0.0    0 0.00\n",
      "P133  0.0 0.00 0.00 0.24 0.00  0.0    0 0.00\n",
      "P138  0.0 0.00 0.00 0.00 0.00  0.0    0 0.00\n",
      "P139  0.0 0.00 0.00 0.00 0.00  0.0    0 0.00\n",
      "P140  0.0 0.00 0.00 0.00 0.00  0.0    0 0.00\n",
      "P148  0.0 0.00 0.00 0.00 0.00  0.2    0 0.00\n",
      "P153  0.0 0.00 0.28 0.28 0.00  0.0    0 0.22\n",
      "P154  0.0 0.00 0.00 0.00 0.00  0.0    0 0.00\n",
      "P155  0.0 0.00 0.00 0.00 0.00  0.0    0 0.00\n",
      "P157  0.0 0.00 0.00 0.00 0.00  0.0    0 0.00\n",
      "P159  0.0 0.00 0.00 0.00 0.00  0.0    0 0.00\n",
      "P162  0.0 0.00 0.00 0.00 0.00  0.0    0 0.00\n",
      "P164  0.0 0.00 0.00 0.00 0.00  0.0    0 0.00\n",
      "P169  0.0 0.00 0.00 0.00 0.00  0.0    0 0.00\n",
      "P176  0.0 0.00 0.00 0.30 0.00  0.0    0 0.00\n",
      "P178  1.0 0.00 0.00 0.20 0.00  0.0    0 0.00\n",
      "P182  0.0 1.00 0.20 0.00 0.24  0.0    0 0.22\n",
      "P183  0.0 0.20 1.00 0.00 0.00  0.0    0 0.20\n",
      "P189  0.2 0.00 0.00 1.00 0.00  0.0    0 0.00\n",
      "P195  0.0 0.24 0.00 0.00 1.00  0.0    0 0.20\n",
      "P196  0.0 0.00 0.00 0.00 0.00  1.0    0 0.00\n",
      "P207  0.0 0.00 0.00 0.00 0.00  0.0    1 0.00\n",
      "P208  0.0 0.22 0.20 0.00 0.20  0.0    0 1.00\n"
     ]
    }
   ],
   "source": [
    "## Spectral clustering\n",
    "A_down <- adj_down\n",
    "# A_up <- adj_up\n",
    "A <- A_down/50 # Normalised similarity matrix\n",
    "\n",
    "# epsilon-distance graph\n",
    "THRESHOLD <- 0.2\n",
    "A[A < THRESHOLD] <- 0\n",
    "print(A)"
   ]
  },
  {
   "cell_type": "code",
   "execution_count": 699,
   "metadata": {},
   "outputs": [
    {
     "data": {
      "text/html": [
       "<strong>png:</strong> 2"
      ],
      "text/latex": [
       "\\textbf{png:} 2"
      ],
      "text/markdown": [
       "**png:** 2"
      ],
      "text/plain": [
       "png \n",
       "  2 "
      ]
     },
     "metadata": {},
     "output_type": "display_data"
    }
   ],
   "source": [
    "G <- graph_from_adjacency_matrix(A, mode = \"undirected\",\n",
    "                                 weighted = TRUE, diag = FALSE)\n",
    "# edge_attr_names(G)\n",
    "relapse_pid <- c(\"P038\", \"P115\", \"P129\", \"P164\", \"P189\")\n",
    "col <- ifelse(rownames(A) %in% relapse_pid, \"lightsalmon\", \"olivedrab2\")\n",
    "V(G)$color <- col\n",
    "\n",
    "pdf(\"~/Dropbox/temp/graph-top50_down1.pdf\",\n",
    "    width = 12, height = 12)\n",
    "plot(G, vertex.size = 10, vertex.label.cex = 1, edge.width = E(G)$weight*10)\n",
    "dev.off()"
   ]
  },
  {
   "cell_type": "markdown",
   "metadata": {},
   "source": [
    "#### Spectral clustering"
   ]
  },
  {
   "cell_type": "code",
   "execution_count": 538,
   "metadata": {},
   "outputs": [],
   "source": [
    "## Spectral clustering\n",
    "adj <- raw_adj\n",
    "A <- adj/50 # Normalised similarity matrix\n",
    "\n",
    "# epsilon-distance graph\n",
    "THRESHOLD <- 0.2\n",
    "A[A < THRESHOLD] <- 0"
   ]
  },
  {
   "cell_type": "code",
   "execution_count": 549,
   "metadata": {},
   "outputs": [],
   "source": [
    "D <- diag(apply(A, 1, sum)) # degree matrix\n",
    "\n",
    "# Un-normalised laplacian\n",
    "U <- D - A \n",
    "\n",
    "# Normalized Laplacian\n",
    "\"%^%\" <- function(M, power)\n",
    "  with(eigen(M), vectors %*% (values^power * solve(vectors)))\n",
    "L <- (D %^% (-1/2)) %*% A %*% (D %^% (-1/2))\n",
    "\n",
    "# Eigendecomposition\n",
    "evL <- eigen(U, symmetric=TRUE)\n",
    "Z <- evL$vectors\n",
    "k <- 2\n",
    "Z_small <- evL$vectors[,(ncol(evL$vectors)-k+1):ncol(evL$vectors)]"
   ]
  },
  {
   "cell_type": "code",
   "execution_count": 469,
   "metadata": {
    "scrolled": false
   },
   "outputs": [
    {
     "data": {
      "text/html": [
       "<strong>png:</strong> 2"
      ],
      "text/latex": [
       "\\textbf{png:} 2"
      ],
      "text/markdown": [
       "**png:** 2"
      ],
      "text/plain": [
       "png \n",
       "  2 "
      ]
     },
     "metadata": {},
     "output_type": "display_data"
    }
   ],
   "source": [
    "g <- graph_from_adjacency_matrix(adj, mode = \"undirected\", weighted = TRUE)\n",
    "pdf(\"~/Dropbox/temp/graph.pdf\")\n",
    "plot(g, layout = layout_in_circle, vertex.size = 7, vertex.label.cex = .5)\n",
    "dev.off()"
   ]
  },
  {
   "cell_type": "markdown",
   "metadata": {},
   "source": [
    "## Batch effect correction (gene level)"
   ]
  },
  {
   "cell_type": "code",
   "execution_count": 133,
   "metadata": {},
   "outputs": [
    {
     "name": "stderr",
     "output_type": "stream",
     "text": [
      "Found9batches\n",
      "Adjusting for2covariate(s) or covariate level(s)\n"
     ]
    },
    {
     "name": "stdout",
     "output_type": "stream",
     "text": [
      "Standardizing Data across genes\n"
     ]
    },
    {
     "name": "stderr",
     "output_type": "stream",
     "text": [
      "Fitting L/S model and finding priors\n",
      "Finding parametric adjustments\n",
      "Adjusting the Data\n",
      "\n"
     ]
    }
   ],
   "source": [
    "##### BATCH EFFECT CORRECTION #####\n",
    "### ComBat\n",
    "# Obtaining batch information of selected_yeoh df\n",
    "# Rows of metadata are to be in same order as columns of edata\n",
    "batch <- as.factor(metadata_df[colnames(data_yeoh), \"batch_info\"])\n",
    "timepoint <- as.factor(metadata_df[colnames(data_yeoh), \"class_info\"])\n",
    "# Covariates (subtype, label) are confounded\n",
    "yeoh_metadata <- data.frame(batch, timepoint)\n",
    "\n",
    "# Place adjustment/confounding variables in model.matrix (e.g. age)\n",
    "# Do not put batch variables in model.matrix\n",
    "## Put batch variables directly in combat function!\n",
    "# OPTION: Include biological variable of interest as covariate\n",
    "# model_combat <- model.matrix(~1, data = yeoh_metadata)\n",
    "model_combat <- model.matrix(~timepoint, data = yeoh_metadata)\n",
    "combat_yeoh <- ComBat(data.matrix(data_yeoh), batch, model_combat)\n",
    "# Replacing negative values with 0\n",
    "combat_yeoh[combat_yeoh < 0] <- 0\n",
    "\n",
    "## Normal\n",
    "idx_normal <- metadata_df[colnames(data_yeoh), \"subtype\"] == \"Normal\"\n",
    "norm_combat <- combat_yeoh[,idx_normal]\n",
    "\n",
    "## Hyperdiploid\n",
    "idx_hyp <- metadata_df[colnames(data_yeoh), \"subtype\"] == \"Hyperdiploid\" &\n",
    "  metadata_df[colnames(data_yeoh), \"class_info\"] == \"D0\"\n",
    "hyp_combat <- combat_yeoh[,idx_hyp]\n",
    "colnames(hyp_combat) <- substring(colnames(hyp_combat), 1, 4)"
   ]
  },
  {
   "cell_type": "markdown",
   "metadata": {},
   "source": [
    "### Investigate: Hyperdiploid"
   ]
  },
  {
   "cell_type": "code",
   "execution_count": 312,
   "metadata": {},
   "outputs": [],
   "source": [
    "#' @param x vector\n",
    "#' @param y vector\n",
    "#' @param return matrix of n+2 interpolations (features x samples)\n",
    "interpolate <- function(x, y, n) {\n",
    "  stopifnot(length(x) == length(y))\n",
    "  \n",
    "  m <- n + 1\n",
    "  sapply(0:m,\n",
    "         function(i, x, y) (m-i)/m * x + i/m * y,\n",
    "         x, y)\n",
    "}\n",
    "\n",
    "#' Calculates outer product of columns in two dataframes\n",
    "#' For each pair of columns returns a set of interpolated points\n",
    "#' If subsampling, unsampled original points will also be returned\n",
    "#' along with simulated data\n",
    "#' @param X dataframe with features x samples\n",
    "#' @param Y dataframe with features x samples\n",
    "#' @param f function to perform on the 2-tuple\n",
    "#' @param n number of interpolations\n",
    "#' @return dataframe\n",
    "outer_prod <- function(X, Y, n = 3, n_subsample = 0) {\n",
    "  if (n_subsample == 0) {\n",
    "      mat <- do.call(\n",
    "        cbind,\n",
    "        lapply(\n",
    "          X,\n",
    "          function(x) do.call(cbind, lapply(Y, function(y) interpolate(x, y, n)))\n",
    "        )\n",
    "      )\n",
    "\n",
    "    siml_names <- as.vector(t(outer(colnames(X), colnames(Y), paste, sep = \"_\")))\n",
    "    siml_names1 <- paste(rep(siml_names, each = n + 2), 1:(n+2), sep = \"_\")\n",
    "\n",
    "    V <- data.frame(mat)\n",
    "    colnames(V) <- siml_names1\n",
    "    rownames(V) <- rownames(X)\n",
    "    return(V)\n",
    "  \n",
    "  } else {\n",
    "    n_x <- ncol(X)\n",
    "    n_y <- ncol(Y)\n",
    "    idx_x <- sample(1:n_x, n_subsample)\n",
    "    idx_y <- sample(1:n_y, n_subsample)\n",
    "    X_unsampled <- X[, -idx_x, drop = F]\n",
    "    Y_unsampled <- Y[, -idx_y, drop = F]\n",
    "    \n",
    "    mat <- do.call(\n",
    "      cbind,\n",
    "      lapply(\n",
    "        X[, idx_x, drop = F],\n",
    "        function(x) do.call(cbind, lapply(\n",
    "          Y[, idx_y, drop = F],\n",
    "          function(y) interpolate(x, y, n)\n",
    "        ))\n",
    "      )\n",
    "    )\n",
    "    \n",
    "    siml_names <- as.vector(t(outer(\n",
    "      colnames(X[, idx_x, drop = F]),\n",
    "      colnames(Y[, idx_y, drop = F]),\n",
    "      paste,\n",
    "      sep = \"_\"\n",
    "    )))\n",
    "    siml_names1 <- paste(rep(siml_names, each = n + 2),\n",
    "                         1:(n + 2),\n",
    "                         sep = \"_\")\n",
    "\n",
    "    V <- data.frame(mat, X_unsampled, Y_unsampled)\n",
    "    colnames(V) <- c(siml_names1,\n",
    "                     colnames(X_unsampled),\n",
    "                     colnames(Y_unsampled))\n",
    "    rownames(V) <- rownames(X)\n",
    "    return(V)\n",
    "    \n",
    "  }\n",
    "}"
   ]
  },
  {
   "cell_type": "code",
   "execution_count": 293,
   "metadata": {},
   "outputs": [],
   "source": [
    "#' PCA space is defined using Yeoh (D0) data and rest of the datapoints are projected\n",
    "#' @param X dataframe with features x samples and containing\n",
    "#' D0, D8 and 3 Normal patients (ordered correctly)\n",
    "#' @param metadata_df metadata (need not be aligned with X)\n",
    "plot_vectors_d0 <- function(X_d0, X_d8, X_siml, metadata_df,\n",
    "                            cex = 3, n_pc = 3, main = NULL) {\n",
    "  pca_obj <- prcomp(t(X_d0))\n",
    "  d0_pca <- data.frame(pca_obj$x[,1:n_pc])\n",
    "  \n",
    "  d8_pca <- data.frame(predict(pca_obj, t(X_d8))[,1:n_pc])\n",
    "  siml_pca <- data.frame(predict(pca_obj, t(X_siml))[,1:n_pc])\n",
    "\n",
    "  stopifnot(all(substring(rownames(d0_pca), 1, 4) == substring(rownames(d8_pca), 1, 4)))\n",
    "\n",
    "  subtype_pca <- cbind(d0_pca, d8_pca)\n",
    "  colnames(subtype_pca) <- c(\n",
    "    paste(colnames(subtype_pca)[1:n_pc], \"A\", sep = \"_\"),\n",
    "    paste(colnames(subtype_pca)[(n_pc+1):(n_pc*2)], \"B\", sep = \"_\")\n",
    "  )\n",
    "\n",
    "  # Obtaining batch and class annotations\n",
    "  label <- as.numeric(metadata_df[rownames(d0_pca), \"label\"]) + 1\n",
    "  batch <- as.factor(metadata_df[rownames(d0_pca), \"batch_info\"])\n",
    "\n",
    "  # Axis labels\n",
    "  eigenvalues <- (pca_obj$sdev)^2\n",
    "  var_pc <- eigenvalues[1:n_pc]/sum(eigenvalues)\n",
    "  pc_labels <- sprintf(\"PC%d (%.2f%%)\", 1:n_pc, var_pc * 100)\n",
    "  \n",
    "  scatter_pca <- ggplot(data = subtype_pca) +\n",
    "    geom_point(aes(x = PC1_A, y = PC2_A, colour = batch), shape = 15,\n",
    "               size = cex, show.legend = F) +\n",
    "    geom_point(aes(x = PC1_B, y = PC2_B, colour = batch), shape = 16,\n",
    "               size = cex, show.legend = F) +\n",
    "    geom_segment(aes(x = PC1_A, y = PC2_A, xend = PC1_B, yend = PC2_B),\n",
    "                 arrow = arrow(length = unit(0.3, \"cm\")),\n",
    "                 alpha = 0.5, colour = label) +\n",
    "#     geom_text(aes(x = PC1_A, y = PC2_A,\n",
    "#                   label = rownames(subtype_pca)),\n",
    "#               position = position_nudge(x = 4, y = 2), size = 2.5) +\n",
    "#     geom_point(data = norm_pca, aes(x = PC1, y = PC2),\n",
    "#                size = cex, shape = 17, col = \"red\") +\n",
    "    geom_point(data = siml_pca, aes(x = PC1, y = PC2, shape = subtype),\n",
    "               size = cex, alpha = 0.3, col = \"darkblue\", show.legend = F) +\n",
    "    xlab(pc_labels[1]) + ylab(pc_labels[2])\n",
    "  \n",
    "  return(scatter_pca)\n",
    "}"
   ]
  },
  {
   "cell_type": "code",
   "execution_count": 294,
   "metadata": {},
   "outputs": [
    {
     "name": "stdout",
     "output_type": "stream",
     "text": [
      "[1] \"No. of NaN values in log-fc = 0\"\n",
      "[1] \"No. of probesets excluded by expr threshold = 715\"\n",
      "[1] \"No. of features (p-value) = 2592\"\n",
      "[1] \"No. of features (log2-fc) = 285\"\n"
     ]
    }
   ],
   "source": [
    "SUBTYPE <- \"Hyperdiploid\"\n",
    "pid_subtype <- rownames(Y)[Y$subtype == SUBTYPE]\n",
    "pid_normal <- rownames(Y)[Y$subtype == \"Normal\"]\n",
    "drug_genes <- getLocalGenes(data[,pid_subtype], pid_remission)\n",
    "db_genes <- setdiff(drug_genes, batch_genes)\n",
    "\n",
    "normal <- data[db_genes, Y$subtype == \"Normal\"]\n",
    "idx_d0 <- Y$class_info == \"D0\" & Y$subtype == SUBTYPE\n",
    "idx_d8 <- Y$class_info == \"D8\" & Y$subtype == SUBTYPE\n",
    "X_d0 <- data[db_genes, idx_d0, drop = F]\n",
    "X_d8 <- data[db_genes, idx_d8, drop = F]\n",
    "X_siml <- outer_prod(X_d0, normal, n = 3)\n",
    "\n",
    "ax_vectors <- plot_vectors_d0(X_d0, X_d8, X_siml, Y)\n",
    "wpath <- sprintf(\"~/Dropbox/temp/vectors_pca_d0_siml-%s.pdf\", SUBTYPE)\n",
    "ggsave(wpath, ax_vectors, width = 10, height = 5)"
   ]
  },
  {
   "cell_type": "markdown",
   "metadata": {},
   "source": [
    "### Investigate: TEL-AML1"
   ]
  },
  {
   "cell_type": "code",
   "execution_count": 272,
   "metadata": {},
   "outputs": [],
   "source": [
    "#' Plot vectors 2D\n",
    "#' @param X dataframe with features x samples and containing\n",
    "#' @param wrong_labels relapse remission and rem (bad prediction) labels\n",
    "#' D0, D8 and 3 Normal patients (ordered correctly)\n",
    "eval_vectors <- function(X, metadata_df, cex = 3, wrong_labels,\n",
    "                         pc_labels = NULL, main = NULL) {\n",
    "  # PCA\n",
    "  pca_obj <- prcomp(t(X))\n",
    "  pca_df <- data.frame(pca_obj$x[,1:2])\n",
    "  n <- nrow(pca_df)\n",
    "  d0_pca <- pca_df[1:((n-3)/2),]\n",
    "  d8_pca <- pca_df[((n-1)/2):(n-3),]\n",
    "\n",
    "  stopifnot(all(substring(rownames(d0_pca), 1, 4) == substring(rownames(d8_pca), 1, 4)))\n",
    "\n",
    "  subtype_pca <- cbind(d0_pca, d8_pca)\n",
    "  colnames(subtype_pca) <- c(\"PC1_A\", \"PC2_A\", \"PC1_B\", \"PC2_B\")\n",
    "  norm_pca <- pca_df[(n-2):n,]\n",
    "\n",
    "  # Obtaining batch and class annotations\n",
    "  batch <- as.factor(metadata_df[rownames(d8_pca), \"batch_info\"])\n",
    "  pred_label <- wrong_labels[rownames(d8_pca), \"label\"]\n",
    "  print(pred_label)\n",
    "\n",
    "  # Axis labels\n",
    "  eigenvalues <- (pca_obj$sdev)^2\n",
    "  var_pc <- eigenvalues[1:4]/sum(eigenvalues)\n",
    "  pc_labels <- sprintf(\"PC%d (%.2f%%)\", 1:4, var_pc*100)\n",
    "  \n",
    "  scatter_pca <- ggplot(data = subtype_pca) +\n",
    "    geom_point(aes(x = PC1_A, y = PC2_A, fill = batch), shape = 21,\n",
    "               size = cex, show.legend = T) +\n",
    "    geom_point(aes(x = PC1_B, y = PC2_B, fill = batch), shape = 22,\n",
    "               size = cex, show.legend = F) +\n",
    "    geom_segment(aes(x = PC1_A, y = PC2_A, xend = PC1_B, yend = PC2_B, colour = pred_label),\n",
    "                 arrow = arrow(length = unit(0.3, \"cm\")),\n",
    "                 alpha = 0.6) +\n",
    "#     geom_text(aes(x = PC1_A, y = PC2_A,\n",
    "#                   label = rownames(subtype_pca)),\n",
    "#               position = position_nudge(x = 4, y = 2), size = 2.5) +\n",
    "    geom_point(data = norm_pca, aes(x = PC1, y = PC2),\n",
    "               size = cex, shape = 23, fill = \"black\") +\n",
    "    xlab(pc_labels[1]) + ylab(pc_labels[2]) +\n",
    "    scale_color_manual(values = c(\"tomato3\", \"darkolivegreen3\", \"purple\"))\n",
    "  \n",
    "  if (!is.null(main)) {\n",
    "    scatter_pca <- scatter_pca + labs(title = main)\n",
    "  }\n",
    "  \n",
    "  return(scatter_pca)\n",
    "}"
   ]
  },
  {
   "cell_type": "code",
   "execution_count": 274,
   "metadata": {
    "scrolled": true
   },
   "outputs": [
    {
     "name": "stdout",
     "output_type": "stream",
     "text": [
      "[1] \"TEL-AML1\"\n",
      "[1] \"No. of NaN values in log-fc = 0\"\n",
      "[1] \"No. of probesets excluded by expr threshold = 743\"\n",
      "[1] \"No. of features (p-value) = 2818\"\n",
      "[1] \"No. of features (log2-fc) = 521\"\n",
      "[1] \"No. of selected genes = \" \"519\"                     \n",
      "[1] \"No. of final genes = \" \"382\"                  \n",
      " [1] \"P013_D0\" \"P014_D0\" \"P015_D0\" \"P016_D0\" \"P017_D0\" \"P018_D0\" \"P019_D0\"\n",
      " [8] \"P020_D0\" \"P022_D0\" \"P023_D0\" \"P024_D0\" \"P025_D0\" \"P026_D0\" \"P027_D0\"\n",
      "[15] \"P028_D0\" \"P029_D0\" \"P031_D0\" \"P032_D0\" \"P033_D0\" \"P034_D0\" \"P035_D0\"\n",
      "[22] \"P036_D0\" \"P094_D0\" \"P096_D0\" \"P099_D0\" \"P106_D0\" \"P117_D0\" \"P120_D0\"\n",
      "[29] \"P121_D0\" \"P127_D0\" \"P135_D0\" \"P136_D0\" \"P147_D0\" \"P156_D0\" \"P165_D0\"\n",
      "[36] \"P166_D0\" \"P172_D0\" \"P185_D0\" \"P188_D0\" \"P013_D8\" \"P014_D8\" \"P015_D8\"\n",
      "[43] \"P016_D8\" \"P017_D8\" \"P018_D8\" \"P019_D8\" \"P020_D8\" \"P022_D8\" \"P023_D8\"\n",
      "[50] \"P024_D8\" \"P025_D8\" \"P026_D8\" \"P027_D8\" \"P028_D8\" \"P029_D8\" \"P031_D8\"\n",
      "[57] \"P032_D8\" \"P033_D8\" \"P034_D8\" \"P035_D8\" \"P036_D8\" \"P094_D8\" \"P096_D8\"\n",
      "[64] \"P099_D8\" \"P106_D8\" \"P117_D8\" \"P120_D8\" \"P121_D8\" \"P127_D8\" \"P135_D8\"\n",
      "[71] \"P136_D8\" \"P147_D8\" \"P156_D8\" \"P165_D8\" \"P166_D8\" \"P172_D8\" \"P185_D8\"\n",
      "[78] \"P188_D8\"\n",
      "[1] \"N01\" \"N02\" \"N04\"\n",
      " [1] \"erm1\"                \"erm1_ratio1\"         \"erm2\"               \n",
      " [4] \"erm2_ratio\"          \"erm3\"                \"erm3_ratio\"         \n",
      " [7] \"d0_normal_proj\"      \"d8_normal_proj\"      \"l2norm_d0_d8\"       \n",
      "[10] \"diff_l2norm\"         \"angle_d0_d8\"         \"angle_nd0_nd8\"      \n",
      "[13] \"angle_nl_nd8\"        \"angle_d0d8_normal\"   \"angle_d0d8_d0normal\"\n",
      "[16] \"angle_d0_normal\"     \"angle_d8_normal\"     \"l2norm_d0_normal\"   \n",
      "[19] \"l2norm_d8_normal\"    \"l2norm_ratio1\"       \"l2norm_ratio2\"      \n",
      "[22] \"l2norm_diff\"         \"l2norm_diff_ratio\"   \"erm1_ratio2\"        \n",
      "[25] \"erm1_ratio3\"        \n"
     ]
    },
    {
     "name": "stderr",
     "output_type": "stream",
     "text": [
      "Warning message:\n",
      "“Removed 1 rows containing missing values (geom_path).”Warning message:\n",
      "“Removed 1 rows containing missing values (geom_path).”Warning message:\n",
      "“Removed 5 rows containing missing values (geom_path).”Warning message:\n",
      "“Removed 5 rows containing missing values (geom_point).”"
     ]
    },
    {
     "name": "stdout",
     "output_type": "stream",
     "text": [
      " [1] \"remission\"        \"remission\"        \"wrong prediction\" \"wrong prediction\"\n",
      " [5] \"remission\"        \"wrong prediction\" \"relapse\"          \"remission\"       \n",
      " [9] \"wrong prediction\" \"wrong prediction\" \"remission\"        \"remission\"       \n",
      "[13] \"wrong prediction\" \"remission\"        \"wrong prediction\" \"relapse\"         \n",
      "[17] \"remission\"        \"wrong prediction\" \"remission\"        \"relapse\"         \n",
      "[21] \"remission\"        \"wrong prediction\" \"relapse\"          \"relapse\"         \n",
      "[25] \"remission\"        \"remission\"        \"remission\"        \"remission\"       \n",
      "[29] \"remission\"        \"remission\"        \"remission\"        \"relapse\"         \n",
      "[33] \"remission\"        \"remission\"        \"remission\"        \"remission\"       \n",
      "[37] \"remission\"        \"remission\"        \"remission\"       \n"
     ]
    }
   ],
   "source": [
    "#' @param risk df from predict_relapse function that contains\n",
    "#' label and risk of relapse prediction\n",
    "#' @returns dataframe with one factor column containing levels of\n",
    "#' relapse, remission, wrong prediction\n",
    "classify_bad_prediction <- function(risk) {\n",
    "  relapse_min_risk <- min(risk[risk$label == 1, \"risk_relapse\"])\n",
    "  wrong_pred <- risk[, \"label\", drop = F]\n",
    "  wrong_pred$label <- ifelse(wrong_pred$label == 0, \"remission\", \"relapse\")\n",
    "  idx_remission_wrong <- risk$label == 0 & risk$risk_relapse > relapse_min_risk\n",
    "  wrong_pred[idx_remission_wrong, \"label\"] <- \"wrong prediction\"\n",
    "  return(wrong_pred)\n",
    "}\n",
    "\n",
    "subtype <- \"TEL-AML1\"\n",
    "print(subtype)\n",
    "pid_subtype <- rownames(Y)[Y$subtype == subtype]\n",
    "pred_obj <- predict_relapse(pid_subtype, data, pid_remission, Y,\n",
    "                        batch_genes = batch_genes)\n",
    "pred_labels <- classify_bad_prediction(pred_obj[[1]])\n",
    "eval_plot <- eval_vectors(pred_obj[[2]], Y, wrong_labels = pred_labels)\n",
    "wpath <- \"~/Dropbox/temp/eval_vectors-TEL-AML1.pdf\"\n",
    "ggsave(wpath, eval_plot, width = 12, height = 6)"
   ]
  },
  {
   "cell_type": "markdown",
   "metadata": {},
   "source": [
    "Factors of variation: Timepoint, batch, subtype, remission"
   ]
  },
  {
   "cell_type": "markdown",
   "metadata": {},
   "source": [
    "### Marker genes"
   ]
  },
  {
   "cell_type": "code",
   "execution_count": 160,
   "metadata": {
    "scrolled": true
   },
   "outputs": [],
   "source": [
    "marker_genes <- c(\"EBF1\", \"IKZF1\", \"MSH6\", \"BTG1\", \"NR3C1\",\n",
    "                   \"CDKN2A\", \"CDKN2B\", \"PAX5\", \"ETV6\")\n",
    "subset_marker_genes <- marker_genes[marker_genes %in% rownames(ahypall_norm)]\n",
    "# fltrmg_ahypall_norm <- ahypall_norm[subset_marker_genes,] # marker genes\n",
    "fltrmg_aall_hyp_norm <- aall_hyp_norm[subset_marker_genes,] # marker genes"
   ]
  },
  {
   "cell_type": "markdown",
   "metadata": {},
   "source": [
    "#### Prediction (chr median): ERM3 (PC2)"
   ]
  },
  {
   "cell_type": "code",
   "execution_count": 569,
   "metadata": {
    "scrolled": false
   },
   "outputs": [
    {
     "name": "stdout",
     "output_type": "stream",
     "text": [
      "[1] \"No. of PCs: 5\"\n",
      "[1] \"N01\" \"N02\" \"N04\"\n"
     ]
    },
    {
     "name": "stderr",
     "output_type": "stream",
     "text": [
      "Warning message:\n",
      "“Removed 1 rows containing missing values (geom_path).”Warning message:\n",
      "“Removed 1 rows containing missing values (geom_path).”"
     ]
    },
    {
     "name": "stdout",
     "output_type": "stream",
     "text": [
      "[1] \"No. of PCs: 2\"\n",
      "[1] \"N01\" \"N02\" \"N04\"\n"
     ]
    },
    {
     "name": "stderr",
     "output_type": "stream",
     "text": [
      "Warning message:\n",
      "“Removed 1 rows containing missing values (geom_path).”Warning message:\n",
      "“Removed 1 rows containing missing values (geom_path).”Warning message:\n",
      "“Removed 1 rows containing missing values (geom_path).”Warning message:\n",
      "“Removed 1 rows containing missing values (geom_point).”"
     ]
    },
    {
     "name": "stdout",
     "output_type": "stream",
     "text": [
      "[1] \"No. of PCs: 7\"\n",
      "[1] \"N01\" \"N02\" \"N04\"\n"
     ]
    },
    {
     "name": "stderr",
     "output_type": "stream",
     "text": [
      "Warning message:\n",
      "“Removed 1 rows containing missing values (geom_path).”Warning message:\n",
      "“Removed 1 rows containing missing values (geom_path).”Warning message:\n",
      "“Removed 3 rows containing missing values (geom_path).”Warning message:\n",
      "“Removed 3 rows containing missing values (geom_point).”"
     ]
    },
    {
     "name": "stdout",
     "output_type": "stream",
     "text": [
      "[1] \"No. of PCs: 2\"\n",
      "[1] \"N01\" \"N02\" \"N04\"\n"
     ]
    },
    {
     "name": "stderr",
     "output_type": "stream",
     "text": [
      "Warning message:\n",
      "“Removed 1 rows containing missing values (geom_path).”Warning message:\n",
      "“Removed 1 rows containing missing values (geom_path).”Warning message:\n",
      "“Removed 1 rows containing missing values (geom_path).”Warning message:\n",
      "“Removed 1 rows containing missing values (geom_point).”"
     ]
    },
    {
     "name": "stdout",
     "output_type": "stream",
     "text": [
      "[1] \"No. of PCs: 4\"\n",
      "[1] \"N01\" \"N02\" \"N04\"\n"
     ]
    },
    {
     "name": "stderr",
     "output_type": "stream",
     "text": [
      "Warning message:\n",
      "“Removed 1 rows containing missing values (geom_path).”Warning message:\n",
      "“Removed 1 rows containing missing values (geom_path).”Warning message:\n",
      "“Removed 2 rows containing missing values (geom_path).”Warning message:\n",
      "“Removed 2 rows containing missing values (geom_point).”"
     ]
    },
    {
     "name": "stdout",
     "output_type": "stream",
     "text": [
      "[1] \"No. of PCs: 5\"\n",
      "[1] \"N01\" \"N02\" \"N04\"\n"
     ]
    },
    {
     "name": "stderr",
     "output_type": "stream",
     "text": [
      "Warning message:\n",
      "“Removed 1 rows containing missing values (geom_path).”Warning message:\n",
      "“Removed 1 rows containing missing values (geom_path).”Warning message:\n",
      "“Removed 3 rows containing missing values (geom_path).”Warning message:\n",
      "“Removed 3 rows containing missing values (geom_point).”"
     ]
    },
    {
     "name": "stdout",
     "output_type": "stream",
     "text": [
      "[1] \"No. of PCs: 5\"\n",
      "[1] \"N01\" \"N02\" \"N04\"\n"
     ]
    },
    {
     "name": "stderr",
     "output_type": "stream",
     "text": [
      "Warning message:\n",
      "“Removed 1 rows containing missing values (geom_path).”Warning message:\n",
      "“Removed 1 rows containing missing values (geom_path).”Warning message:\n",
      "“Removed 5 rows containing missing values (geom_path).”Warning message:\n",
      "“Removed 5 rows containing missing values (geom_point).”"
     ]
    }
   ],
   "source": [
    "## Prediction (all subtypes)\n",
    "all_subtypes <- levels(metadata_df$subtype)\n",
    "subtypes <- setdiff(all_subtypes, c(\"Hypodiploid\", \"Normal\"))\n",
    "subtype_factor <- metadata_df[colnames(all_median), \"subtype\", drop = F]\n",
    "for (subtype in subtypes) {\n",
    "  subtype_pid <- rownames(subtype_factor)[subtype_factor == subtype]\n",
    "  pid_norm <- paste0(\"N0\", c(1,2,4))\n",
    "  pid <- c(subtype_pid, pid_norm)\n",
    "  wpath <- sprintf(\"~/Dropbox/temp/prediction_chr_median_pc2-%s.pdf\", subtype)\n",
    "  predict_relapse_pca(all_median[,pid], wpath = wpath)\n",
    "}"
   ]
  },
  {
   "cell_type": "markdown",
   "metadata": {},
   "source": [
    "#### Prediction (chr median)"
   ]
  },
  {
   "cell_type": "code",
   "execution_count": 450,
   "metadata": {
    "scrolled": true
   },
   "outputs": [
    {
     "ename": "ERROR",
     "evalue": "Error in convert_list_pid(list(colnames(hyperdiploid))): could not find function \"convert_list_pid\"\n",
     "output_type": "error",
     "traceback": [
      "Error in convert_list_pid(list(colnames(hyperdiploid))): could not find function \"convert_list_pid\"\nTraceback:\n"
     ]
    }
   ],
   "source": [
    "pid_remission <- rownames(metadata_df)[metadata_df$label == 0]\n",
    "pid_allhyp <- convert_list_pid(list(colnames(hyperdiploid)))[[1]]\n",
    "print(pid_allhyp)\n",
    "\n",
    "list_prediction <- predict_relapse(pid_allhyp, hypall_norm_median, pid_remission,\n",
    "                                   class_genes = rownames(hypall_norm_median))"
   ]
  },
  {
   "cell_type": "markdown",
   "metadata": {},
   "source": [
    "#### Predict all subtypes (chr median)"
   ]
  },
  {
   "cell_type": "code",
   "execution_count": 494,
   "metadata": {},
   "outputs": [
    {
     "name": "stdout",
     "output_type": "stream",
     "text": [
      "[1] \"No. of selected genes = \" \"22\"                      \n",
      "[1] \"No. of final genes = \" \"22\"                   \n",
      " [1] \"P053_D0\" \"P054_D0\" \"P055_D0\" \"P056_D0\" \"P057_D0\" \"P134_D0\" \"P152_D0\"\n",
      " [8] \"P170_D0\" \"P175_D0\" \"P184_D0\" \"P053_D8\" \"P054_D8\" \"P055_D8\" \"P056_D8\"\n",
      "[15] \"P057_D8\" \"P134_D8\" \"P152_D8\" \"P170_D8\" \"P175_D8\" \"P184_D8\"\n",
      " [1] \"P053_D0\" \"P054_D0\" \"P055_D0\" \"P056_D0\" \"P057_D0\" \"P134_D0\" \"P152_D0\"\n",
      " [8] \"P170_D0\" \"P175_D0\" \"P184_D0\" \"P053_D8\" \"P054_D8\" \"P055_D8\" \"P056_D8\"\n",
      "[15] \"P057_D8\" \"P134_D8\" \"P152_D8\" \"P170_D8\" \"P175_D8\" \"P184_D8\"\n",
      "[1] \"N01\" \"N02\" \"N04\"\n"
     ]
    },
    {
     "name": "stderr",
     "output_type": "stream",
     "text": [
      "Warning message:\n",
      "“Removed 1 rows containing missing values (geom_path).”Warning message:\n",
      "“Removed 1 rows containing missing values (geom_path).”"
     ]
    },
    {
     "name": "stdout",
     "output_type": "stream",
     "text": [
      "[1] \"No. of selected genes = \" \"22\"                      \n",
      "[1] \"No. of final genes = \" \"22\"                   \n",
      " [1] \"P049_D0\" \"P050_D0\" \"P051_D0\" \"P102_D0\" \"P124_D0\" \"P145_D0\" \"P161_D0\"\n",
      " [8] \"P049_D8\" \"P050_D8\" \"P051_D8\" \"P102_D8\" \"P124_D8\" \"P145_D8\" \"P161_D8\"\n",
      " [1] \"P049_D0\" \"P050_D0\" \"P051_D0\" \"P102_D0\" \"P124_D0\" \"P145_D0\" \"P161_D0\"\n",
      " [8] \"P049_D8\" \"P050_D8\" \"P051_D8\" \"P102_D8\" \"P124_D8\" \"P145_D8\" \"P161_D8\"\n",
      "[1] \"N01\" \"N02\" \"N04\"\n"
     ]
    },
    {
     "name": "stderr",
     "output_type": "stream",
     "text": [
      "Warning message:\n",
      "“Removed 1 rows containing missing values (geom_path).”Warning message:\n",
      "“Removed 1 rows containing missing values (geom_path).”Warning message:\n",
      "“Removed 1 rows containing missing values (geom_path).”Warning message:\n",
      "“Removed 1 rows containing missing values (geom_point).”"
     ]
    },
    {
     "name": "stdout",
     "output_type": "stream",
     "text": [
      "[1] \"No. of selected genes = \" \"22\"                      \n",
      "[1] \"No. of final genes = \" \"22\"                   \n",
      " [1] \"P037_D0\" \"P038_D0\" \"P039_D0\" \"P040_D0\" \"P041_D0\" \"P042_D0\" \"P043_D0\"\n",
      " [8] \"P044_D0\" \"P046_D0\" \"P047_D0\" \"P048_D0\" \"P098_D0\" \"P100_D0\" \"P109_D0\"\n",
      "[15] \"P115_D0\" \"P129_D0\" \"P133_D0\" \"P138_D0\" \"P139_D0\" \"P140_D0\" \"P148_D0\"\n",
      "[22] \"P153_D0\" \"P154_D0\" \"P155_D0\" \"P157_D0\" \"P159_D0\" \"P162_D0\" \"P164_D0\"\n",
      "[29] \"P169_D0\" \"P176_D0\" \"P178_D0\" \"P182_D0\" \"P183_D0\" \"P189_D0\" \"P195_D0\"\n",
      "[36] \"P196_D0\" \"P207_D0\" \"P208_D0\" \"P037_D8\" \"P038_D8\" \"P039_D8\" \"P040_D8\"\n",
      "[43] \"P041_D8\" \"P042_D8\" \"P043_D8\" \"P044_D8\" \"P046_D8\" \"P047_D8\" \"P048_D8\"\n",
      "[50] \"P098_D8\" \"P100_D8\" \"P109_D8\" \"P115_D8\" \"P129_D8\" \"P133_D8\" \"P138_D8\"\n",
      "[57] \"P139_D8\" \"P140_D8\" \"P148_D8\" \"P153_D8\" \"P154_D8\" \"P155_D8\" \"P157_D8\"\n",
      "[64] \"P159_D8\" \"P162_D8\" \"P164_D8\" \"P169_D8\" \"P176_D8\" \"P178_D8\" \"P182_D8\"\n",
      "[71] \"P183_D8\" \"P189_D8\" \"P195_D8\" \"P196_D8\" \"P207_D8\" \"P208_D8\"\n",
      " [1] \"P037_D0\" \"P038_D0\" \"P039_D0\" \"P040_D0\" \"P041_D0\" \"P042_D0\" \"P043_D0\"\n",
      " [8] \"P044_D0\" \"P046_D0\" \"P047_D0\" \"P048_D0\" \"P098_D0\" \"P100_D0\" \"P109_D0\"\n",
      "[15] \"P115_D0\" \"P129_D0\" \"P133_D0\" \"P138_D0\" \"P139_D0\" \"P140_D0\" \"P148_D0\"\n",
      "[22] \"P153_D0\" \"P154_D0\" \"P155_D0\" \"P157_D0\" \"P159_D0\" \"P162_D0\" \"P164_D0\"\n",
      "[29] \"P169_D0\" \"P176_D0\" \"P178_D0\" \"P182_D0\" \"P183_D0\" \"P189_D0\" \"P195_D0\"\n",
      "[36] \"P196_D0\" \"P207_D0\" \"P208_D0\" \"P037_D8\" \"P038_D8\" \"P039_D8\" \"P040_D8\"\n",
      "[43] \"P041_D8\" \"P042_D8\" \"P043_D8\" \"P044_D8\" \"P046_D8\" \"P047_D8\" \"P048_D8\"\n",
      "[50] \"P098_D8\" \"P100_D8\" \"P109_D8\" \"P115_D8\" \"P129_D8\" \"P133_D8\" \"P138_D8\"\n",
      "[57] \"P139_D8\" \"P140_D8\" \"P148_D8\" \"P153_D8\" \"P154_D8\" \"P155_D8\" \"P157_D8\"\n",
      "[64] \"P159_D8\" \"P162_D8\" \"P164_D8\" \"P169_D8\" \"P176_D8\" \"P178_D8\" \"P182_D8\"\n",
      "[71] \"P183_D8\" \"P189_D8\" \"P195_D8\" \"P196_D8\" \"P207_D8\" \"P208_D8\"\n",
      "[1] \"N01\" \"N02\" \"N04\"\n"
     ]
    },
    {
     "name": "stderr",
     "output_type": "stream",
     "text": [
      "Warning message:\n",
      "“Removed 1 rows containing missing values (geom_path).”Warning message:\n",
      "“Removed 1 rows containing missing values (geom_path).”Warning message:\n",
      "“Removed 3 rows containing missing values (geom_path).”Warning message:\n",
      "“Removed 3 rows containing missing values (geom_point).”"
     ]
    },
    {
     "name": "stdout",
     "output_type": "stream",
     "text": [
      "[1] \"No. of selected genes = \" \"22\"                      \n",
      "[1] \"No. of final genes = \" \"22\"                   \n",
      " [1] \"P058_D0\" \"P122_D0\" \"P131_D0\" \"P137_D0\" \"P146_D0\" \"P160_D0\" \"P167_D0\"\n",
      " [8] \"P211_D0\" \"P058_D8\" \"P122_D8\" \"P131_D8\" \"P137_D8\" \"P146_D8\" \"P160_D8\"\n",
      "[15] \"P167_D8\" \"P211_D8\"\n",
      " [1] \"P058_D0\" \"P122_D0\" \"P131_D0\" \"P137_D0\" \"P146_D0\" \"P160_D0\" \"P167_D0\"\n",
      " [8] \"P211_D0\" \"P058_D8\" \"P122_D8\" \"P131_D8\" \"P137_D8\" \"P146_D8\" \"P160_D8\"\n",
      "[15] \"P167_D8\" \"P211_D8\"\n",
      "[1] \"N01\" \"N02\" \"N04\"\n"
     ]
    },
    {
     "name": "stderr",
     "output_type": "stream",
     "text": [
      "Warning message:\n",
      "“Removed 1 rows containing missing values (geom_path).”Warning message:\n",
      "“Removed 1 rows containing missing values (geom_path).”Warning message:\n",
      "“Removed 1 rows containing missing values (geom_path).”Warning message:\n",
      "“Removed 1 rows containing missing values (geom_point).”"
     ]
    },
    {
     "name": "stdout",
     "output_type": "stream",
     "text": [
      "[1] \"No. of selected genes = \" \"22\"                      \n",
      "[1] \"No. of final genes = \" \"22\"                   \n",
      "  [1] \"P059_D0\" \"P060_D0\" \"P061_D0\" \"P062_D0\" \"P063_D0\" \"P064_D0\" \"P065_D0\"\n",
      "  [8] \"P066_D0\" \"P067_D0\" \"P068_D0\" \"P070_D0\" \"P071_D0\" \"P072_D0\" \"P073_D0\"\n",
      " [15] \"P075_D0\" \"P076_D0\" \"P077_D0\" \"P078_D0\" \"P080_D0\" \"P081_D0\" \"P082_D0\"\n",
      " [22] \"P083_D0\" \"P084_D0\" \"P085_D0\" \"P086_D0\" \"P087_D0\" \"P089_D0\" \"P090_D0\"\n",
      " [29] \"P091_D0\" \"P092_D0\" \"P093_D0\" \"P095_D0\" \"P097_D0\" \"P101_D0\" \"P104_D0\"\n",
      " [36] \"P105_D0\" \"P108_D0\" \"P111_D0\" \"P119_D0\" \"P123_D0\" \"P125_D0\" \"P126_D0\"\n",
      " [43] \"P128_D0\" \"P130_D0\" \"P132_D0\" \"P141_D0\" \"P142_D0\" \"P143_D0\" \"P144_D0\"\n",
      " [50] \"P149_D0\" \"P150_D0\" \"P158_D0\" \"P163_D0\" \"P171_D0\" \"P173_D0\" \"P174_D0\"\n",
      " [57] \"P177_D0\" \"P179_D0\" \"P180_D0\" \"P181_D0\" \"P187_D0\" \"P191_D0\" \"P192_D0\"\n",
      " [64] \"P193_D0\" \"P194_D0\" \"P197_D0\" \"P199_D0\" \"P200_D0\" \"P201_D0\" \"P202_D0\"\n",
      " [71] \"P203_D0\" \"P204_D0\" \"P205_D0\" \"P206_D0\" \"P209_D0\" \"P210_D0\" \"P212_D0\"\n",
      " [78] \"P213_D0\" \"P214_D0\" \"P215_D0\" \"P216_D0\" \"P217_D0\" \"P218_D0\" \"P219_D0\"\n",
      " [85] \"P220_D0\" \"P059_D8\" \"P060_D8\" \"P061_D8\" \"P062_D8\" \"P063_D8\" \"P064_D8\"\n",
      " [92] \"P065_D8\" \"P066_D8\" \"P067_D8\" \"P068_D8\" \"P070_D8\" \"P071_D8\" \"P072_D8\"\n",
      " [99] \"P073_D8\" \"P075_D8\" \"P076_D8\" \"P077_D8\" \"P078_D8\" \"P080_D8\" \"P081_D8\"\n",
      "[106] \"P082_D8\" \"P083_D8\" \"P084_D8\" \"P085_D8\" \"P086_D8\" \"P087_D8\" \"P089_D8\"\n",
      "[113] \"P090_D8\" \"P091_D8\" \"P092_D8\" \"P093_D8\" \"P095_D8\" \"P097_D8\" \"P101_D8\"\n",
      "[120] \"P104_D8\" \"P105_D8\" \"P108_D8\" \"P111_D8\" \"P119_D8\" \"P123_D8\" \"P125_D8\"\n",
      "[127] \"P126_D8\" \"P128_D8\" \"P130_D8\" \"P132_D8\" \"P141_D8\" \"P142_D8\" \"P143_D8\"\n",
      "[134] \"P144_D8\" \"P149_D8\" \"P150_D8\" \"P158_D8\" \"P163_D8\" \"P171_D8\" \"P173_D8\"\n",
      "[141] \"P174_D8\" \"P177_D8\" \"P179_D8\" \"P180_D8\" \"P181_D8\" \"P187_D8\" \"P191_D8\"\n",
      "[148] \"P192_D8\" \"P193_D8\" \"P194_D8\" \"P197_D8\" \"P199_D8\" \"P200_D8\" \"P201_D8\"\n",
      "[155] \"P202_D8\" \"P203_D8\" \"P204_D8\" \"P205_D8\" \"P206_D8\" \"P209_D8\" \"P210_D8\"\n",
      "[162] \"P212_D8\" \"P213_D8\" \"P214_D8\" \"P215_D8\" \"P216_D8\" \"P217_D8\" \"P218_D8\"\n",
      "[169] \"P219_D8\" \"P220_D8\"\n",
      "  [1] \"P059_D0\" \"P060_D0\" \"P061_D0\" \"P062_D0\" \"P063_D0\" \"P064_D0\" \"P065_D0\"\n",
      "  [8] \"P066_D0\" \"P067_D0\" \"P068_D0\" \"P070_D0\" \"P071_D0\" \"P072_D0\" \"P073_D0\"\n",
      " [15] \"P075_D0\" \"P076_D0\" \"P077_D0\" \"P078_D0\" \"P080_D0\" \"P081_D0\" \"P082_D0\"\n",
      " [22] \"P083_D0\" \"P084_D0\" \"P085_D0\" \"P086_D0\" \"P087_D0\" \"P089_D0\" \"P090_D0\"\n",
      " [29] \"P091_D0\" \"P092_D0\" \"P093_D0\" \"P095_D0\" \"P097_D0\" \"P101_D0\" \"P104_D0\"\n",
      " [36] \"P105_D0\" \"P108_D0\" \"P111_D0\" \"P119_D0\" \"P123_D0\" \"P125_D0\" \"P126_D0\"\n",
      " [43] \"P128_D0\" \"P130_D0\" \"P132_D0\" \"P141_D0\" \"P142_D0\" \"P143_D0\" \"P144_D0\"\n",
      " [50] \"P149_D0\" \"P150_D0\" \"P158_D0\" \"P163_D0\" \"P171_D0\" \"P173_D0\" \"P174_D0\"\n",
      " [57] \"P177_D0\" \"P179_D0\" \"P180_D0\" \"P181_D0\" \"P187_D0\" \"P191_D0\" \"P192_D0\"\n",
      " [64] \"P193_D0\" \"P194_D0\" \"P197_D0\" \"P199_D0\" \"P200_D0\" \"P201_D0\" \"P202_D0\"\n",
      " [71] \"P203_D0\" \"P204_D0\" \"P205_D0\" \"P206_D0\" \"P209_D0\" \"P210_D0\" \"P212_D0\"\n",
      " [78] \"P213_D0\" \"P214_D0\" \"P215_D0\" \"P216_D0\" \"P217_D0\" \"P218_D0\" \"P219_D0\"\n",
      " [85] \"P220_D0\" \"P059_D8\" \"P060_D8\" \"P061_D8\" \"P062_D8\" \"P063_D8\" \"P064_D8\"\n",
      " [92] \"P065_D8\" \"P066_D8\" \"P067_D8\" \"P068_D8\" \"P070_D8\" \"P071_D8\" \"P072_D8\"\n",
      " [99] \"P073_D8\" \"P075_D8\" \"P076_D8\" \"P077_D8\" \"P078_D8\" \"P080_D8\" \"P081_D8\"\n",
      "[106] \"P082_D8\" \"P083_D8\" \"P084_D8\" \"P085_D8\" \"P086_D8\" \"P087_D8\" \"P089_D8\"\n",
      "[113] \"P090_D8\" \"P091_D8\" \"P092_D8\" \"P093_D8\" \"P095_D8\" \"P097_D8\" \"P101_D8\"\n",
      "[120] \"P104_D8\" \"P105_D8\" \"P108_D8\" \"P111_D8\" \"P119_D8\" \"P123_D8\" \"P125_D8\"\n",
      "[127] \"P126_D8\" \"P128_D8\" \"P130_D8\" \"P132_D8\" \"P141_D8\" \"P142_D8\" \"P143_D8\"\n",
      "[134] \"P144_D8\" \"P149_D8\" \"P150_D8\" \"P158_D8\" \"P163_D8\" \"P171_D8\" \"P173_D8\"\n",
      "[141] \"P174_D8\" \"P177_D8\" \"P179_D8\" \"P180_D8\" \"P181_D8\" \"P187_D8\" \"P191_D8\"\n",
      "[148] \"P192_D8\" \"P193_D8\" \"P194_D8\" \"P197_D8\" \"P199_D8\" \"P200_D8\" \"P201_D8\"\n",
      "[155] \"P202_D8\" \"P203_D8\" \"P204_D8\" \"P205_D8\" \"P206_D8\" \"P209_D8\" \"P210_D8\"\n",
      "[162] \"P212_D8\" \"P213_D8\" \"P214_D8\" \"P215_D8\" \"P216_D8\" \"P217_D8\" \"P218_D8\"\n",
      "[169] \"P219_D8\" \"P220_D8\"\n",
      "[1] \"N01\" \"N02\" \"N04\"\n"
     ]
    },
    {
     "name": "stderr",
     "output_type": "stream",
     "text": [
      "Warning message:\n",
      "“Removed 1 rows containing missing values (geom_path).”Warning message:\n",
      "“Removed 1 rows containing missing values (geom_path).”Warning message:\n",
      "“Removed 2 rows containing missing values (geom_path).”Warning message:\n",
      "“Removed 2 rows containing missing values (geom_point).”"
     ]
    },
    {
     "name": "stdout",
     "output_type": "stream",
     "text": [
      "[1] \"No. of selected genes = \" \"22\"                      \n",
      "[1] \"No. of final genes = \" \"22\"                   \n",
      " [1] \"P001_D0\" \"P004_D0\" \"P005_D0\" \"P007_D0\" \"P008_D0\" \"P009_D0\" \"P010_D0\"\n",
      " [8] \"P011_D0\" \"P012_D0\" \"P103_D0\" \"P116_D0\" \"P151_D0\" \"P190_D0\" \"P001_D8\"\n",
      "[15] \"P004_D8\" \"P005_D8\" \"P007_D8\" \"P008_D8\" \"P009_D8\" \"P010_D8\" \"P011_D8\"\n",
      "[22] \"P012_D8\" \"P103_D8\" \"P116_D8\" \"P151_D8\" \"P190_D8\"\n",
      " [1] \"P001_D0\" \"P004_D0\" \"P005_D0\" \"P007_D0\" \"P008_D0\" \"P009_D0\" \"P010_D0\"\n",
      " [8] \"P011_D0\" \"P012_D0\" \"P103_D0\" \"P116_D0\" \"P151_D0\" \"P190_D0\" \"P001_D8\"\n",
      "[15] \"P004_D8\" \"P005_D8\" \"P007_D8\" \"P008_D8\" \"P009_D8\" \"P010_D8\" \"P011_D8\"\n",
      "[22] \"P012_D8\" \"P103_D8\" \"P116_D8\" \"P151_D8\" \"P190_D8\"\n",
      "[1] \"N01\" \"N02\" \"N04\"\n"
     ]
    },
    {
     "name": "stderr",
     "output_type": "stream",
     "text": [
      "Warning message:\n",
      "“Removed 1 rows containing missing values (geom_path).”Warning message:\n",
      "“Removed 1 rows containing missing values (geom_path).”Warning message:\n",
      "“Removed 3 rows containing missing values (geom_path).”Warning message:\n",
      "“Removed 3 rows containing missing values (geom_point).”"
     ]
    },
    {
     "name": "stdout",
     "output_type": "stream",
     "text": [
      "[1] \"No. of selected genes = \" \"22\"                      \n",
      "[1] \"No. of final genes = \" \"22\"                   \n",
      " [1] \"P013_D0\" \"P014_D0\" \"P015_D0\" \"P016_D0\" \"P017_D0\" \"P018_D0\" \"P019_D0\"\n",
      " [8] \"P020_D0\" \"P022_D0\" \"P023_D0\" \"P024_D0\" \"P025_D0\" \"P026_D0\" \"P027_D0\"\n",
      "[15] \"P028_D0\" \"P029_D0\" \"P031_D0\" \"P032_D0\" \"P033_D0\" \"P034_D0\" \"P035_D0\"\n",
      "[22] \"P036_D0\" \"P094_D0\" \"P096_D0\" \"P099_D0\" \"P106_D0\" \"P117_D0\" \"P120_D0\"\n",
      "[29] \"P121_D0\" \"P127_D0\" \"P135_D0\" \"P136_D0\" \"P147_D0\" \"P156_D0\" \"P165_D0\"\n",
      "[36] \"P166_D0\" \"P172_D0\" \"P185_D0\" \"P188_D0\" \"P013_D8\" \"P014_D8\" \"P015_D8\"\n",
      "[43] \"P016_D8\" \"P017_D8\" \"P018_D8\" \"P019_D8\" \"P020_D8\" \"P022_D8\" \"P023_D8\"\n",
      "[50] \"P024_D8\" \"P025_D8\" \"P026_D8\" \"P027_D8\" \"P028_D8\" \"P029_D8\" \"P031_D8\"\n",
      "[57] \"P032_D8\" \"P033_D8\" \"P034_D8\" \"P035_D8\" \"P036_D8\" \"P094_D8\" \"P096_D8\"\n",
      "[64] \"P099_D8\" \"P106_D8\" \"P117_D8\" \"P120_D8\" \"P121_D8\" \"P127_D8\" \"P135_D8\"\n",
      "[71] \"P136_D8\" \"P147_D8\" \"P156_D8\" \"P165_D8\" \"P166_D8\" \"P172_D8\" \"P185_D8\"\n",
      "[78] \"P188_D8\"\n",
      " [1] \"P013_D0\" \"P014_D0\" \"P015_D0\" \"P016_D0\" \"P017_D0\" \"P018_D0\" \"P019_D0\"\n",
      " [8] \"P020_D0\" \"P022_D0\" \"P023_D0\" \"P024_D0\" \"P025_D0\" \"P026_D0\" \"P027_D0\"\n",
      "[15] \"P028_D0\" \"P029_D0\" \"P031_D0\" \"P032_D0\" \"P033_D0\" \"P034_D0\" \"P035_D0\"\n",
      "[22] \"P036_D0\" \"P094_D0\" \"P096_D0\" \"P099_D0\" \"P106_D0\" \"P117_D0\" \"P120_D0\"\n",
      "[29] \"P121_D0\" \"P127_D0\" \"P135_D0\" \"P136_D0\" \"P147_D0\" \"P156_D0\" \"P165_D0\"\n",
      "[36] \"P166_D0\" \"P172_D0\" \"P185_D0\" \"P188_D0\" \"P013_D8\" \"P014_D8\" \"P015_D8\"\n",
      "[43] \"P016_D8\" \"P017_D8\" \"P018_D8\" \"P019_D8\" \"P020_D8\" \"P022_D8\" \"P023_D8\"\n",
      "[50] \"P024_D8\" \"P025_D8\" \"P026_D8\" \"P027_D8\" \"P028_D8\" \"P029_D8\" \"P031_D8\"\n",
      "[57] \"P032_D8\" \"P033_D8\" \"P034_D8\" \"P035_D8\" \"P036_D8\" \"P094_D8\" \"P096_D8\"\n",
      "[64] \"P099_D8\" \"P106_D8\" \"P117_D8\" \"P120_D8\" \"P121_D8\" \"P127_D8\" \"P135_D8\"\n",
      "[71] \"P136_D8\" \"P147_D8\" \"P156_D8\" \"P165_D8\" \"P166_D8\" \"P172_D8\" \"P185_D8\"\n",
      "[78] \"P188_D8\"\n",
      "[1] \"N01\" \"N02\" \"N04\"\n"
     ]
    },
    {
     "name": "stderr",
     "output_type": "stream",
     "text": [
      "Warning message:\n",
      "“Removed 1 rows containing missing values (geom_path).”Warning message:\n",
      "“Removed 1 rows containing missing values (geom_path).”Warning message:\n",
      "“Removed 5 rows containing missing values (geom_path).”Warning message:\n",
      "“Removed 5 rows containing missing values (geom_point).”"
     ]
    }
   ],
   "source": [
    "# Factor to split data\n",
    "subtypes_yeoh <- splitSubtype(all_median, metadata_df)\n",
    "\n",
    "all_subtypes <- levels(metadata_df$subtype)\n",
    "subtypes <- setdiff(all_subtypes, c(\"Hypodiploid\", \"Normal\"))\n",
    "pid_remission <- rownames(metadata_df)[metadata_df$label == 0]\n",
    "# list_drug_genes <- list()\n",
    "for (subtype in subtypes) {\n",
    "  pid_subtype <- colnames(subtypes_yeoh[[subtype]])\n",
    "  wpath <- sprintf(\"~/Dropbox/temp/prediction_chr_median-%s.pdf\", subtype)\n",
    "  predict_relapse(pid_subtype, all_median, pid_remission, \n",
    "                  class_genes = rownames(all_median), wpath = wpath)\n",
    "}\n",
    "\n",
    "# # Save list of drug responsive genes\n",
    "# names(list_drug_genes) <- subtypes\n",
    "# saveRDS(list_drug_genes, \"temp/list_drug_genes.rds\")"
   ]
  },
  {
   "cell_type": "markdown",
   "metadata": {},
   "source": [
    "#### Prediction (marker genes)"
   ]
  },
  {
   "cell_type": "code",
   "execution_count": 404,
   "metadata": {
    "scrolled": true
   },
   "outputs": [
    {
     "name": "stdout",
     "output_type": "stream",
     "text": [
      "[1] \"No. of selected genes = \" \"4\"                       \n",
      "[1] \"No. of final genes = \" \"4\"                    \n",
      "[1] \"N01\" \"N02\" \"N04\"\n"
     ]
    },
    {
     "name": "stderr",
     "output_type": "stream",
     "text": [
      "Warning message:\n",
      "“Removed 1 rows containing missing values (geom_path).”Warning message:\n",
      "“Removed 1 rows containing missing values (geom_path).”Warning message:\n",
      "“Removed 3 rows containing missing values (geom_path).”Warning message:\n",
      "“Removed 3 rows containing missing values (geom_point).”"
     ]
    },
    {
     "data": {
      "text/html": [
       "<dl class=dl-horizontal>\n",
       "\t<dt>P037_D8</dt>\n",
       "\t\t<dd>0.879323308270677</dd>\n",
       "\t<dt>P038_D8</dt>\n",
       "\t\t<dd>0.461654135338346</dd>\n",
       "\t<dt>P039_D8</dt>\n",
       "\t\t<dd>0.448496240601504</dd>\n",
       "\t<dt>P040_D8</dt>\n",
       "\t\t<dd>0.494548872180451</dd>\n",
       "\t<dt>P041_D8</dt>\n",
       "\t\t<dd>0.356390977443609</dd>\n",
       "\t<dt>P042_D8</dt>\n",
       "\t\t<dd>0.807017543859649</dd>\n",
       "\t<dt>P043_D8</dt>\n",
       "\t\t<dd>0.0669172932330827</dd>\n",
       "\t<dt>P044_D8</dt>\n",
       "\t\t<dd>0.878195488721805</dd>\n",
       "\t<dt>P046_D8</dt>\n",
       "\t\t<dd>0.270864661654135</dd>\n",
       "\t<dt>P047_D8</dt>\n",
       "\t\t<dd>0.198496240601504</dd>\n",
       "\t<dt>P048_D8</dt>\n",
       "\t\t<dd>0.534022556390977</dd>\n",
       "\t<dt>P098_D8</dt>\n",
       "\t\t<dd>0.606390977443609</dd>\n",
       "\t<dt>P100_D8</dt>\n",
       "\t\t<dd>0.639285714285714</dd>\n",
       "\t<dt>P109_D8</dt>\n",
       "\t\t<dd>0.159022556390977</dd>\n",
       "\t<dt>P115_D8</dt>\n",
       "\t\t<dd>0.403508771929825</dd>\n",
       "\t<dt>P129_D8</dt>\n",
       "\t\t<dd>0.684586466165414</dd>\n",
       "\t<dt>P133_D8</dt>\n",
       "\t\t<dd>0.606390977443609</dd>\n",
       "\t<dt>P138_D8</dt>\n",
       "\t\t<dd>0.218233082706767</dd>\n",
       "\t<dt>P139_D8</dt>\n",
       "\t\t<dd>0.356390977443609</dd>\n",
       "\t<dt>P140_D8</dt>\n",
       "\t\t<dd>0.231390977443609</dd>\n",
       "\t<dt>P148_D8</dt>\n",
       "\t\t<dd>0.126127819548872</dd>\n",
       "\t<dt>P153_D8</dt>\n",
       "\t\t<dd>0.42218045112782</dd>\n",
       "\t<dt>P154_D8</dt>\n",
       "\t\t<dd>0.211654135338346</dd>\n",
       "\t<dt>P155_D8</dt>\n",
       "\t\t<dd>0.553759398496241</dd>\n",
       "\t<dt>P157_D8</dt>\n",
       "\t\t<dd>0.573496240601504</dd>\n",
       "\t<dt>P159_D8</dt>\n",
       "\t\t<dd>0.256954887218045</dd>\n",
       "\t<dt>P162_D8</dt>\n",
       "\t\t<dd>0.470864661654135</dd>\n",
       "\t<dt>P164_D8</dt>\n",
       "\t\t<dd>0.683646616541353</dd>\n",
       "\t<dt>P169_D8</dt>\n",
       "\t\t<dd>0.231390977443609</dd>\n",
       "\t<dt>P176_D8</dt>\n",
       "\t\t<dd>0.23796992481203</dd>\n",
       "\t<dt>P178_D8</dt>\n",
       "\t\t<dd>0.330451127819549</dd>\n",
       "\t<dt>P182_D8</dt>\n",
       "\t\t<dd>0.613345864661654</dd>\n",
       "\t<dt>P183_D8</dt>\n",
       "\t\t<dd>0.298245614035088</dd>\n",
       "\t<dt>P189_D8</dt>\n",
       "\t\t<dd>0.88703007518797</dd>\n",
       "\t<dt>P195_D8</dt>\n",
       "\t\t<dd>0.368421052631579</dd>\n",
       "\t<dt>P196_D8</dt>\n",
       "\t\t<dd>0.302631578947368</dd>\n",
       "\t<dt>P207_D8</dt>\n",
       "\t\t<dd>0.649624060150376</dd>\n",
       "\t<dt>P208_D8</dt>\n",
       "\t\t<dd>0.297556390977444</dd>\n",
       "</dl>\n"
      ],
      "text/latex": [
       "\\begin{description*}\n",
       "\\item[P037\\textbackslash{}\\_D8] 0.879323308270677\n",
       "\\item[P038\\textbackslash{}\\_D8] 0.461654135338346\n",
       "\\item[P039\\textbackslash{}\\_D8] 0.448496240601504\n",
       "\\item[P040\\textbackslash{}\\_D8] 0.494548872180451\n",
       "\\item[P041\\textbackslash{}\\_D8] 0.356390977443609\n",
       "\\item[P042\\textbackslash{}\\_D8] 0.807017543859649\n",
       "\\item[P043\\textbackslash{}\\_D8] 0.0669172932330827\n",
       "\\item[P044\\textbackslash{}\\_D8] 0.878195488721805\n",
       "\\item[P046\\textbackslash{}\\_D8] 0.270864661654135\n",
       "\\item[P047\\textbackslash{}\\_D8] 0.198496240601504\n",
       "\\item[P048\\textbackslash{}\\_D8] 0.534022556390977\n",
       "\\item[P098\\textbackslash{}\\_D8] 0.606390977443609\n",
       "\\item[P100\\textbackslash{}\\_D8] 0.639285714285714\n",
       "\\item[P109\\textbackslash{}\\_D8] 0.159022556390977\n",
       "\\item[P115\\textbackslash{}\\_D8] 0.403508771929825\n",
       "\\item[P129\\textbackslash{}\\_D8] 0.684586466165414\n",
       "\\item[P133\\textbackslash{}\\_D8] 0.606390977443609\n",
       "\\item[P138\\textbackslash{}\\_D8] 0.218233082706767\n",
       "\\item[P139\\textbackslash{}\\_D8] 0.356390977443609\n",
       "\\item[P140\\textbackslash{}\\_D8] 0.231390977443609\n",
       "\\item[P148\\textbackslash{}\\_D8] 0.126127819548872\n",
       "\\item[P153\\textbackslash{}\\_D8] 0.42218045112782\n",
       "\\item[P154\\textbackslash{}\\_D8] 0.211654135338346\n",
       "\\item[P155\\textbackslash{}\\_D8] 0.553759398496241\n",
       "\\item[P157\\textbackslash{}\\_D8] 0.573496240601504\n",
       "\\item[P159\\textbackslash{}\\_D8] 0.256954887218045\n",
       "\\item[P162\\textbackslash{}\\_D8] 0.470864661654135\n",
       "\\item[P164\\textbackslash{}\\_D8] 0.683646616541353\n",
       "\\item[P169\\textbackslash{}\\_D8] 0.231390977443609\n",
       "\\item[P176\\textbackslash{}\\_D8] 0.23796992481203\n",
       "\\item[P178\\textbackslash{}\\_D8] 0.330451127819549\n",
       "\\item[P182\\textbackslash{}\\_D8] 0.613345864661654\n",
       "\\item[P183\\textbackslash{}\\_D8] 0.298245614035088\n",
       "\\item[P189\\textbackslash{}\\_D8] 0.88703007518797\n",
       "\\item[P195\\textbackslash{}\\_D8] 0.368421052631579\n",
       "\\item[P196\\textbackslash{}\\_D8] 0.302631578947368\n",
       "\\item[P207\\textbackslash{}\\_D8] 0.649624060150376\n",
       "\\item[P208\\textbackslash{}\\_D8] 0.297556390977444\n",
       "\\end{description*}\n"
      ],
      "text/markdown": [
       "P037_D8\n",
       ":   0.879323308270677P038_D8\n",
       ":   0.461654135338346P039_D8\n",
       ":   0.448496240601504P040_D8\n",
       ":   0.494548872180451P041_D8\n",
       ":   0.356390977443609P042_D8\n",
       ":   0.807017543859649P043_D8\n",
       ":   0.0669172932330827P044_D8\n",
       ":   0.878195488721805P046_D8\n",
       ":   0.270864661654135P047_D8\n",
       ":   0.198496240601504P048_D8\n",
       ":   0.534022556390977P098_D8\n",
       ":   0.606390977443609P100_D8\n",
       ":   0.639285714285714P109_D8\n",
       ":   0.159022556390977P115_D8\n",
       ":   0.403508771929825P129_D8\n",
       ":   0.684586466165414P133_D8\n",
       ":   0.606390977443609P138_D8\n",
       ":   0.218233082706767P139_D8\n",
       ":   0.356390977443609P140_D8\n",
       ":   0.231390977443609P148_D8\n",
       ":   0.126127819548872P153_D8\n",
       ":   0.42218045112782P154_D8\n",
       ":   0.211654135338346P155_D8\n",
       ":   0.553759398496241P157_D8\n",
       ":   0.573496240601504P159_D8\n",
       ":   0.256954887218045P162_D8\n",
       ":   0.470864661654135P164_D8\n",
       ":   0.683646616541353P169_D8\n",
       ":   0.231390977443609P176_D8\n",
       ":   0.23796992481203P178_D8\n",
       ":   0.330451127819549P182_D8\n",
       ":   0.613345864661654P183_D8\n",
       ":   0.298245614035088P189_D8\n",
       ":   0.88703007518797P195_D8\n",
       ":   0.368421052631579P196_D8\n",
       ":   0.302631578947368P207_D8\n",
       ":   0.649624060150376P208_D8\n",
       ":   0.297556390977444\n",
       "\n"
      ],
      "text/plain": [
       "   P037_D8    P038_D8    P039_D8    P040_D8    P041_D8    P042_D8    P043_D8 \n",
       "0.87932331 0.46165414 0.44849624 0.49454887 0.35639098 0.80701754 0.06691729 \n",
       "   P044_D8    P046_D8    P047_D8    P048_D8    P098_D8    P100_D8    P109_D8 \n",
       "0.87819549 0.27086466 0.19849624 0.53402256 0.60639098 0.63928571 0.15902256 \n",
       "   P115_D8    P129_D8    P133_D8    P138_D8    P139_D8    P140_D8    P148_D8 \n",
       "0.40350877 0.68458647 0.60639098 0.21823308 0.35639098 0.23139098 0.12612782 \n",
       "   P153_D8    P154_D8    P155_D8    P157_D8    P159_D8    P162_D8    P164_D8 \n",
       "0.42218045 0.21165414 0.55375940 0.57349624 0.25695489 0.47086466 0.68364662 \n",
       "   P169_D8    P176_D8    P178_D8    P182_D8    P183_D8    P189_D8    P195_D8 \n",
       "0.23139098 0.23796992 0.33045113 0.61334586 0.29824561 0.88703008 0.36842105 \n",
       "   P196_D8    P207_D8    P208_D8 \n",
       "0.30263158 0.64962406 0.29755639 "
      ]
     },
     "metadata": {},
     "output_type": "display_data"
    }
   ],
   "source": [
    "# pid_remission <- rownames(metadata_df)[metadata_df$label == 0]\n",
    "# n_hypall <- ncol(fltrmg_ahypall_norm)\n",
    "# pid_hypall <- colnames(fltrmg_ahypall_norm)[-((n_hypall-2):n_hypall)]\n",
    "\n",
    "predict_relapse(pid_hypall, fltrmg_ahypall_norm, pid_remission,\n",
    "                class_genes = rownames(fltrmg_ahypall_norm),\n",
    "                wpath = \"~/Dropbox/temp/prediction.pdf\")"
   ]
  },
  {
   "cell_type": "markdown",
   "metadata": {},
   "source": [
    "#### Plot: Upset (intersection of drug response genes)"
   ]
  },
  {
   "cell_type": "code",
   "execution_count": null,
   "metadata": {},
   "outputs": [],
   "source": [
    "# ## List of selected genes from each subtype\n",
    "# names(list_selected) <- subtypes\n",
    "# upset(fromList(list_selected),\n",
    "#       nsets = length(list_selected),\n",
    "#       nintersects = NA,\n",
    "#       order.by = \"freq\")\n",
    "# upset_plot <- recordPlot()\n",
    "# upset_plot\n",
    "# save_fig(upset_plot, \"dump/upset-selected_genes.pdf\",\n",
    "#          width = 10, height = 5)\n",
    "\n",
    "# # Subset of intersected genes\n",
    "# subset_selected <- list_selected[-c(1,4)]\n",
    "# intersect_genes <- Reduce(intersect, subset_selected)"
   ]
  },
  {
   "cell_type": "markdown",
   "metadata": {},
   "source": [
    "### Batch effect correction (chr level)"
   ]
  },
  {
   "cell_type": "code",
   "execution_count": null,
   "metadata": {},
   "outputs": [],
   "source": [
    "### ESTIMATE BATCH EFFECTS FROM TEL-AML1\n",
    "## No TEL-AML1 patients in batch 10\n",
    "## Filtering out relapse patients in a batch would not generalise to unseen test batch\n",
    "## TEL-AML1 (Ref batch: 2)\n",
    "## Hyperdiploid is heterogeneous\n",
    "\n",
    "#' @param X_subtype dataframe consisting of only subtype patients\n",
    "calc_correction <- function(X_subtype, metadata, modify = F) {\n",
    "  list_batch <- split.default(\n",
    "    data.frame(X_subtype),\n",
    "    metadata[paste(colnames(X_subtype), \"D0\", sep = \"_\"), \"batch_info\"]\n",
    "  )\n",
    "  batch_chr <- sapply(list_batch, apply, 1, median)\n",
    "  correction <- batch_chr - batch_chr[,\"2\"]\n",
    "\n",
    "  if (!modify) {\n",
    "    return(correction)\n",
    "  } else {\n",
    "    list_corr <- lapply(names(list_batch),\n",
    "                        function(batch) list_batch[[batch]] - correction[,batch])\n",
    "    X_corr <- do.call(cbind, list_corr)\n",
    "    return(X_corr[,colnames(X_subtype)])\n",
    "  }\n",
    "}\n",
    "\n",
    "corr_tel_nozero_median <- calc_correction(telaml1_nozero_median, metadata_df)\n",
    "corr_hyp_nozero_median <- calc_correction(hyp_nozero_median, metadata_df)\n",
    "\n",
    "## Correlation between BE estimated from TEL-AML1 and hyperdiploid\n",
    "for (batch in colnames(corr_tel_nozero_median)) {\n",
    "  pdf(sprintf(\"~/Dropbox/temp/corr_hyp_tel-%s.pdf\", batch))\n",
    "  plot(corr_hyp_nozero_median[,batch],\n",
    "       corr_tel_nozero_median[,batch],\n",
    "       xlab = \"Correction value (Hyperdiploid)\",\n",
    "       ylab = \"Correction value (TEL-AML1)\",\n",
    "       main = sprintf(\"Batch %s\", batch))\n",
    "  dev.off()\n",
    "}\n",
    "\n",
    "## Perform correction using hyp and evaluate\n",
    "X_corr_hyp <- calc_correction(hyp_median, metadata_df, modify = T)\n",
    "plot_heatmap_batch(X_corr_hyp, norm_median, metadata_df,\n",
    "                   \"~/Dropbox/temp/fltr30-corr_hyp_median.pdf\")"
   ]
  },
  {
   "cell_type": "markdown",
   "metadata": {},
   "source": [
    "#### Remove batch effect genes"
   ]
  },
  {
   "cell_type": "code",
   "execution_count": null,
   "metadata": {},
   "outputs": [],
   "source": [
    "### REMOVE BATCH EFFECT GENES ###\n",
    "fltr_tel <- telaml1[!(rownames(telaml1) %in% batch_genes),]\n",
    "fltr_norm <- normal[!(rownames(normal) %in% batch_genes),]\n",
    "\n",
    "## Annotation for fltr dataframe without batch genes\n",
    "ps_chrloc1 <- annot[rownames(fltr_tel), \"Chromosomal.Location\"]\n",
    "ps_chr1 <- sub(\"(chr.*?)(p|q|c).*\", \"\\\\1\", ps_chrloc1)\n",
    "ps_chr1[ps_chr1 == \"---\"] <- NA\n",
    "\n",
    "list_fltr_tel <- split.data.frame(fltr_tel, ps_chr1)\n",
    "list_fltr_norm <- split.data.frame(fltr_norm, ps_chr1)\n",
    "\n",
    "## TEL-AML1 (FILTERED)\n",
    "## MEAN\n",
    "chr_mean <- t(sapply(list_chr_fltr_telaml1, colMeans))[1:22,]\n",
    "## MEDIAN\n",
    "chr_median <- t(sapply(list_chr_fltr_telaml1, apply, 2, median))[1:22,]\n",
    "## MEDIAN (NO ZERO)\n",
    "nozero_median <- t(sapply(list_chr_fltr_telaml1, apply, 2,\n",
    "                          function(vec) median(vec[vec != 0])))[1:22,]\n",
    "\n",
    "## ## Heatmap for batch effects\n",
    "## plot_heatmap_batch(fltr_mean, metadata_df,\n",
    "##                    \"~/Dropbox/temp/heatmap-fltr_telaml1_mean.pdf\")\n",
    "## plot_heatmap_batch(fltr_median, metadata_df,\n",
    "##                    \"~/Dropbox/temp/heatmap-fltr_telaml1_median.pdf\")\n",
    "## plot_heatmap_batch(fltr_nozero_median, metadata_df,\n",
    "##                    \"~/Dropbox/temp/heatmap-fltr_telaml1_nozero_median.pdf\")\n",
    "\n",
    "## PCT ZERO\n",
    "tel_pct_zero <- t(sapply(list_fltr_tel, apply, 2,\n",
    "                         function(vec) sum(vec == 0)/length(vec)))[1:22,]\n",
    "norm_pct_zero <- t(sapply(list_fltr_norm, apply, 2,\n",
    "                          function(vec) sum(vec == 0)/length(vec)))[1:22,]\n",
    "plot_heatmap_batch(tel_pct_zero, norm_pct_zero, metadata_df,\n",
    "                   \"~/Dropbox/temp/heatmap-fltr_telaml1_pct_zero.pdf\")"
   ]
  },
  {
   "cell_type": "code",
   "execution_count": 372,
   "metadata": {},
   "outputs": [
    {
     "name": "stderr",
     "output_type": "stream",
     "text": [
      "Warning message in dir.create(sprintf(\"~/Dropbox/temp/%s\", chr)):\n",
      "“'/home/dblux/Dropbox/temp/chr4' already exists”"
     ]
    }
   ],
   "source": [
    "# # Batch effects\n",
    "# plot_ma(hypall_norm$P100_D0, hypall_norm$N01)\n",
    "# # Technical variation\n",
    "# plot_ma(hypall_norm$N02, hypall_norm$N01)\n",
    "# # Hyperdiploid\n",
    "# plot_ma(hypall_norm$P047_D0, hypall_norm$N01)\n",
    "\n",
    "chr <- \"chr4\"\n",
    "dir.create(sprintf(\"~/Dropbox/temp/%s\", chr))\n",
    "for (pid in colnames(hypall_norm)) {  \n",
    "  wpath <- sprintf(\"~/Dropbox/temp/%s/%s-%s.pdf\", chr, pid, chr)\n",
    "  pdf(wpath, width = 10, height = 5)\n",
    "  plot_ma(list_chr_all_hyp_norm[[chr]][,pid],\n",
    "          list_chr_all_hyp_norm[[chr]][,\"N01\"],\n",
    "          title = sprintf(\"%s (%s)\", pid, chr))\n",
    "  dev.off()\n",
    "}"
   ]
  },
  {
   "cell_type": "markdown",
   "metadata": {},
   "source": [
    "# Yeoh (2002): St. Jude data set"
   ]
  },
  {
   "cell_type": "markdown",
   "metadata": {},
   "source": [
    "#### Majority of the probesets of HG-95Av2 differ from HG-U133"
   ]
  },
  {
   "cell_type": "code",
   "execution_count": 6,
   "metadata": {},
   "outputs": [
    {
     "name": "stdout",
     "output_type": "stream",
     "text": [
      "     N01      N02      N03      N04      N05      N06 \n",
      "34.22921 11.90918 17.29122 16.39706 35.61220 31.38095 \n",
      "[1] \"No. of ambiguous and AFFY probesets removed: 2580\"\n",
      "[1] \"No. of probesets removed = 8721\"\n"
     ]
    }
   ],
   "source": [
    "## Raw data\n",
    "RAW1_RPATH <- \"data/yeoh_2002/processed/mas5_original.tsv\"\n",
    "raw1 <- read.table(RAW1_RPATH, header = T, sep = \"\\t\")\n",
    "\n",
    "## Metadata\n",
    "METADATA1_RPATH <- \"data/yeoh_2002/processed/metadata2.tsv\"\n",
    "metadata1 <- read.table(METADATA1_RPATH, header = T, sep = \"\\t\",\n",
    "                        comment.char = \"\", row.names = 1)\n",
    "\n",
    "# SCALE->REMOVE->FILTER->LOG\n",
    "X_scaled1 <- normaliseMeanScaling(raw1)\n",
    "X_selected1 <- removeProbesets(X_scaled1)\n",
    "data1 <- log2_transform(filterProbesets(X_selected1, 0.7))"
   ]
  },
  {
   "cell_type": "markdown",
   "metadata": {},
   "source": [
    "## Chr annotation"
   ]
  },
  {
   "cell_type": "code",
   "execution_count": 41,
   "metadata": {},
   "outputs": [
    {
     "name": "stdout",
     "output_type": "stream",
     "text": [
      "[1] 1324\n"
     ]
    }
   ],
   "source": [
    "# ## Annotation: Chr location\n",
    "ANNOT_RPATH1 <- \"../info/microarray/HG-U95Av2/affymetrix/HG_U95Av2.na36.annot.csv\"\n",
    "annot1 <- read.csv(ANNOT_RPATH1,  row.names = 1, comment.char = \"#\")\n",
    "\n",
    "get_chrloc <- function(ps, annot) {\n",
    "  ps_chrloc <- annot[ps, \"Chromosomal.Location\"]\n",
    "  ps_chr <- sub(\"(chr.*?)(p|q|c).*\", \"\\\\1\", ps_chrloc)\n",
    "  ps_chr[ps_chr == \"---\"] <- NA\n",
    "  names(ps_chr) <- ps\n",
    "  return(ps_chr)\n",
    "}\n",
    "\n",
    "## Get mapped chr location of probesets\n",
    "ps_chr <- get_chrloc(rownames(data1), annot1)\n",
    "print(length(ps_chr))"
   ]
  },
  {
   "cell_type": "markdown",
   "metadata": {},
   "source": [
    "## Subset data"
   ]
  },
  {
   "cell_type": "markdown",
   "metadata": {},
   "source": [
    "#### NB: Normal refers to karyotype not \"normal patient\""
   ]
  },
  {
   "cell_type": "code",
   "execution_count": 42,
   "metadata": {},
   "outputs": [],
   "source": [
    "## Normal\n",
    "idx_normal <- metadata1[colnames(data1), \"subtype\"] == \"Normal\"\n",
    "normal <- data1[,idx_normal]\n",
    "\n",
    "## Hyperdiploid\n",
    "idx_hyp <- metadata1[colnames(data1), \"subtype\"] == \"Hyperdiploid (>50)\"\n",
    "hyperdiploid <- data1[,idx_hyp]"
   ]
  },
  {
   "cell_type": "markdown",
   "metadata": {},
   "source": [
    "#### Remove patients with high percentage of zeros"
   ]
  },
  {
   "cell_type": "code",
   "execution_count": 43,
   "metadata": {},
   "outputs": [],
   "source": [
    "pid_na <- sprintf(\"A%02d\", 1:14) # no relapse labels\n",
    "# A88 not included for reasons stated in suppl data\n",
    "pid_outlier <- c(\"A39\", \"A62\", \"A88\", \"N01\", \"N05\", \"N07\", \"N11\", \"N13\") # high pct of zeros\n",
    "pid_rm <- c(pid_na, pid_outlier)\n",
    "\n",
    "normal1 <- normal[,!(colnames(normal) %in% pid_rm)]\n",
    "hyperdiploid1 <- hyperdiploid[,!(colnames(hyperdiploid) %in% pid_rm)]"
   ]
  },
  {
   "cell_type": "markdown",
   "metadata": {},
   "source": [
    "## Summary statistics"
   ]
  },
  {
   "cell_type": "code",
   "execution_count": 45,
   "metadata": {},
   "outputs": [],
   "source": [
    "### NORMAL\n",
    "list_chr_norm <- split.data.frame(normal1, ps_chr)\n",
    "## MEDIAN\n",
    "norm_median <- t(sapply(list_chr_norm, apply, 2, median))[1:22,]\n",
    "## MEDIAN (NO ZERO)\n",
    "stjude_norm_fltr_median <- t(sapply(\n",
    "  list_chr_norm, apply, 2,\n",
    "  function(vec) median(vec[vec != 0])\n",
    "))[1:22,]\n",
    "# ## PCT ZERO\n",
    "# norm_pct_zero <- t(sapply(list_chr_norm, apply, 2,\n",
    "#                      function(vec) sum(vec == 0)/length(vec)))[1:22,]\n",
    "\n",
    "### HYPERDIPLOID\n",
    "list_chr_hyp <- split.data.frame(hyperdiploid1, ps_chr)\n",
    "## MEDIAN\n",
    "hyp_median <- t(sapply(list_chr_hyp, apply, 2, median))[1:22,]\n",
    "## MEDIAN (NO ZERO)\n",
    "stjude_hyp_fltr_median <- t(sapply(\n",
    "  list_chr_hyp, apply, 2,\n",
    "  function(vec) median(vec[vec != 0])\n",
    "))[1:22,]\n",
    "# ## PCT ZERO\n",
    "# hyp_pct_zero <- t(sapply(list_chr_hyp, apply, 2,\n",
    "#                          function(vec) sum(vec == 0)/length(vec)))[1:22,]"
   ]
  },
  {
   "cell_type": "code",
   "execution_count": 72,
   "metadata": {},
   "outputs": [],
   "source": [
    "colnames(stjude_norm_fltr_median) <-\n",
    "  paste0(colnames(stjude_norm_fltr_median), \"_SJ\")\n",
    "maspore_stjude_chr <- cbind(\n",
    "  maspore_hyp_fltr_median,\n",
    "  maspore_norm_fltr_median,\n",
    "  stjude_hyp_fltr_median,\n",
    "  stjude_norm_fltr_median\n",
    ")"
   ]
  },
  {
   "cell_type": "code",
   "execution_count": 75,
   "metadata": {},
   "outputs": [],
   "source": [
    "subtype <- ifelse(\n",
    "  substring(colnames(maspore_stjude_chr), 1, 1) == \"N\",\n",
    "  \"Normal\", \"Hyperdiploid\"\n",
    ")\n",
    "batch <- c(\n",
    "  rep(\"maspore\",\n",
    "      ncol(maspore_hyp_fltr_median) +\n",
    "      ncol(maspore_norm_fltr_median)),\n",
    "  rep(\"stjude\",\n",
    "      ncol(stjude_hyp_fltr_median) +\n",
    "      ncol(stjude_norm_fltr_median))\n",
    ")\n",
    "\n",
    "maspore_stjude_metadata <- data.frame(\n",
    "  subtype, batch,\n",
    "  row.names = colnames(maspore_stjude_chr)\n",
    ")"
   ]
  },
  {
   "cell_type": "code",
   "execution_count": 76,
   "metadata": {},
   "outputs": [],
   "source": [
    "plotPCA2D <- function(df, metadata, col, pch, pc_labels = NULL) {\n",
    "  col1 <- as.factor(metadata[colnames(df), col])\n",
    "  pch1 <- as.factor(metadata[colnames(df), pch])\n",
    "  \n",
    "  # PCA\n",
    "  if (is.null(pc_labels)) {\n",
    "    pca_obj <- prcomp(t(df))\n",
    "    pca_df <- data.frame(pca_obj$x[,1:4])\n",
    "    eigenvalues <- (pca_obj$sdev)^2\n",
    "    var_pc <- eigenvalues[1:4]/sum(eigenvalues)\n",
    "    pc_labels <- sprintf(\"PC%d (%.2f%%)\", 1:4, var_pc*100)\n",
    "  } else {\n",
    "    print(\"No PCA performed!\")\n",
    "    pca_df <- data.frame(df1)\n",
    "  }\n",
    "  \n",
    "  pc1_pc2 <- ggplot(pca_df, aes(x = PC1, y = PC2,\n",
    "                                col = col1, pch = pch1)) +\n",
    "    geom_point(size = 3, show.legend = T) +\n",
    "    labs(x = pc_labels[1], y = pc_labels[2]) +\n",
    "    geom_vline(xintercept = 0, color = \"black\", alpha = 0.5) +\n",
    "    geom_hline(yintercept = 0, color = \"black\", alpha = 0.5)\n",
    "  # theme(plot.title = element_text(hjust = 0.5))\n",
    "\n",
    "  #   pc1_pc3 <- ggplot(pca_df, aes(x = PC1, y = PC3, col = batch_factor,\n",
    "  #                                 pch = class_factor)) +\n",
    "  #     geom_point(size = 3, show.legend = F) +\n",
    "  #     labs(x = pc_labels[1], y = pc_labels[3]) +\n",
    "  #     geom_vline(xintercept = 0, color = \"black\", alpha = 0.5) +\n",
    "  #     geom_hline(yintercept = 0, color = \"black\", alpha = 0.5)\n",
    "  \n",
    "  #   pca_plot <- plot_grid(pc1_pc2, pc1_pc3)\n",
    "  \n",
    "  return(pc1_pc2)\n",
    "}"
   ]
  },
  {
   "cell_type": "code",
   "execution_count": 78,
   "metadata": {},
   "outputs": [
    {
     "data": {
      "text/html": [
       "<table>\n",
       "<caption>A matrix: 22 × 103 of type dbl</caption>\n",
       "<thead>\n",
       "\t<tr><th></th><th scope=col>P037</th><th scope=col>P038</th><th scope=col>P039</th><th scope=col>P040</th><th scope=col>P041</th><th scope=col>P042</th><th scope=col>P043</th><th scope=col>P044</th><th scope=col>P046</th><th scope=col>P047</th><th scope=col>⋯</th><th scope=col>N08_SJ</th><th scope=col>N09_SJ</th><th scope=col>N10_SJ</th><th scope=col>N12_SJ</th><th scope=col>N14_SJ</th><th scope=col>N15_SJ</th><th scope=col>N16_SJ</th><th scope=col>N17_SJ</th><th scope=col>N18_SJ</th><th scope=col>N19_SJ</th></tr>\n",
       "</thead>\n",
       "<tbody>\n",
       "\t<tr><th scope=row>chr1</th><td>8.886105</td><td>8.781902</td><td>8.966401</td><td>8.766965</td><td>9.050702</td><td> 8.726170</td><td>8.869192</td><td>8.808000</td><td>8.699137</td><td>8.795194</td><td>⋯</td><td>11.26504</td><td>11.72432</td><td>11.17857</td><td>11.85124</td><td>11.26077</td><td>11.18220</td><td>11.40060</td><td>11.29754</td><td>11.87140</td><td>11.16803</td></tr>\n",
       "\t<tr><th scope=row>chr10</th><td>8.858257</td><td>9.211164</td><td>9.178101</td><td>9.095438</td><td>9.183735</td><td> 9.107345</td><td>8.663747</td><td>9.043509</td><td>8.602009</td><td>9.178632</td><td>⋯</td><td>11.18724</td><td>11.71582</td><td>11.25738</td><td>11.88985</td><td>11.10113</td><td>11.16414</td><td>11.45003</td><td>11.12408</td><td>11.99014</td><td>11.07866</td></tr>\n",
       "\t<tr><th scope=row>chr11</th><td>9.092875</td><td>8.804918</td><td>9.194041</td><td>9.189385</td><td>8.961379</td><td> 8.909059</td><td>9.015970</td><td>8.919864</td><td>8.831765</td><td>8.864939</td><td>⋯</td><td>11.47857</td><td>12.09536</td><td>11.31929</td><td>12.13054</td><td>11.42522</td><td>11.23059</td><td>11.62513</td><td>11.39631</td><td>12.32912</td><td>11.16037</td></tr>\n",
       "\t<tr><th scope=row>chr12</th><td>9.094055</td><td>8.993567</td><td>9.041611</td><td>9.383268</td><td>9.567726</td><td> 9.115342</td><td>9.037220</td><td>8.887654</td><td>8.983257</td><td>9.033678</td><td>⋯</td><td>11.71559</td><td>11.97917</td><td>11.50219</td><td>12.06798</td><td>11.69808</td><td>11.58160</td><td>11.75133</td><td>11.56159</td><td>12.10912</td><td>11.35685</td></tr>\n",
       "\t<tr><th scope=row>chr13</th><td>8.888680</td><td>9.382453</td><td>9.603348</td><td>9.554135</td><td>9.197347</td><td> 9.217262</td><td>9.195625</td><td>8.962639</td><td>9.480301</td><td>9.097588</td><td>⋯</td><td>11.70285</td><td>11.82851</td><td>11.45191</td><td>11.99635</td><td>12.04477</td><td>11.79443</td><td>11.38315</td><td>11.82745</td><td>11.82349</td><td>11.76159</td></tr>\n",
       "\t<tr><th scope=row>chr14</th><td>9.436242</td><td>9.385272</td><td>9.698928</td><td>9.623444</td><td>9.407975</td><td> 9.404010</td><td>9.250607</td><td>9.551405</td><td>9.430265</td><td>9.487349</td><td>⋯</td><td>11.13887</td><td>11.92727</td><td>11.27084</td><td>11.54440</td><td>11.13640</td><td>10.98648</td><td>11.60096</td><td>11.01194</td><td>11.81615</td><td>10.98371</td></tr>\n",
       "\t<tr><th scope=row>chr15</th><td>9.151427</td><td>8.753094</td><td>8.777201</td><td>8.841502</td><td>9.256853</td><td> 9.219916</td><td>8.665853</td><td>8.647394</td><td>8.642990</td><td>8.711173</td><td>⋯</td><td>11.40665</td><td>11.62766</td><td>11.23405</td><td>11.85397</td><td>11.19818</td><td>11.04991</td><td>11.51236</td><td>11.00486</td><td>12.58463</td><td>10.95189</td></tr>\n",
       "\t<tr><th scope=row>chr16</th><td>9.024816</td><td>8.626452</td><td>8.867189</td><td>8.676033</td><td>8.844712</td><td> 8.690308</td><td>8.739927</td><td>8.687470</td><td>8.673374</td><td>8.696626</td><td>⋯</td><td>11.47783</td><td>12.08037</td><td>11.28812</td><td>11.97977</td><td>11.57461</td><td>11.45207</td><td>11.65513</td><td>11.30916</td><td>12.05272</td><td>11.21462</td></tr>\n",
       "\t<tr><th scope=row>chr17</th><td>9.529102</td><td>9.358256</td><td>9.189115</td><td>9.097830</td><td>9.340441</td><td> 9.353402</td><td>9.096754</td><td>9.334769</td><td>9.205080</td><td>9.278946</td><td>⋯</td><td>11.48644</td><td>11.91347</td><td>11.24507</td><td>11.83838</td><td>11.50012</td><td>11.44628</td><td>11.68724</td><td>11.20967</td><td>12.01853</td><td>11.37462</td></tr>\n",
       "\t<tr><th scope=row>chr18</th><td>9.500402</td><td>8.988962</td><td>9.711157</td><td>9.364462</td><td>9.760825</td><td> 8.834300</td><td>9.038494</td><td>9.358458</td><td>9.237919</td><td>9.563939</td><td>⋯</td><td>11.32131</td><td>11.56637</td><td>10.86925</td><td>11.60680</td><td>10.91563</td><td>11.13147</td><td>11.16779</td><td>10.90989</td><td>11.72246</td><td>11.03135</td></tr>\n",
       "\t<tr><th scope=row>chr19</th><td>9.205825</td><td>8.684127</td><td>8.606652</td><td>8.564537</td><td>8.952689</td><td> 8.762928</td><td>8.778973</td><td>8.841099</td><td>8.643514</td><td>8.626127</td><td>⋯</td><td>11.90300</td><td>12.23466</td><td>11.70348</td><td>12.22704</td><td>11.73889</td><td>11.62587</td><td>11.97657</td><td>11.60186</td><td>12.25180</td><td>11.45583</td></tr>\n",
       "\t<tr><th scope=row>chr2</th><td>9.163909</td><td>8.953588</td><td>9.018292</td><td>9.076002</td><td>9.194091</td><td> 8.996657</td><td>9.038865</td><td>8.910884</td><td>8.919735</td><td>9.089288</td><td>⋯</td><td>11.63805</td><td>11.77152</td><td>11.43289</td><td>11.96348</td><td>11.62068</td><td>11.51745</td><td>11.64733</td><td>11.41533</td><td>12.17081</td><td>11.44594</td></tr>\n",
       "\t<tr><th scope=row>chr20</th><td>9.129880</td><td>8.898100</td><td>8.913495</td><td>8.863690</td><td>8.917293</td><td> 8.924373</td><td>8.764147</td><td>8.983457</td><td>8.699729</td><td>8.713017</td><td>⋯</td><td>11.36926</td><td>11.78615</td><td>11.13724</td><td>11.64852</td><td>11.07765</td><td>11.10031</td><td>11.55762</td><td>10.97914</td><td>11.79054</td><td>11.07736</td></tr>\n",
       "\t<tr><th scope=row>chr21</th><td>9.413408</td><td>9.431808</td><td>9.583004</td><td>9.749250</td><td>9.539742</td><td>10.061348</td><td>8.928580</td><td>9.414229</td><td>9.824606</td><td>9.852269</td><td>⋯</td><td>11.37233</td><td>11.44439</td><td>11.21734</td><td>11.51151</td><td>11.22886</td><td>11.32200</td><td>11.09908</td><td>11.42805</td><td>11.74201</td><td>11.39851</td></tr>\n",
       "\t<tr><th scope=row>chr22</th><td>9.679085</td><td>8.924270</td><td>9.006205</td><td>8.722459</td><td>9.007020</td><td> 8.923847</td><td>9.049572</td><td>9.142811</td><td>8.952238</td><td>9.200457</td><td>⋯</td><td>11.55674</td><td>12.40545</td><td>11.50645</td><td>12.40399</td><td>11.79062</td><td>11.48909</td><td>11.89638</td><td>11.45873</td><td>12.28558</td><td>11.62090</td></tr>\n",
       "\t<tr><th scope=row>chr3</th><td>9.260511</td><td>9.020674</td><td>9.215918</td><td>9.116817</td><td>9.016930</td><td> 9.029450</td><td>9.056070</td><td>8.852130</td><td>9.088497</td><td>9.004508</td><td>⋯</td><td>11.14477</td><td>11.80362</td><td>11.14293</td><td>11.81172</td><td>11.16062</td><td>11.28944</td><td>11.16741</td><td>11.10999</td><td>11.81754</td><td>11.17098</td></tr>\n",
       "\t<tr><th scope=row>chr4</th><td>9.357030</td><td>9.306612</td><td>9.290468</td><td>9.524399</td><td>9.411874</td><td> 9.285432</td><td>8.853195</td><td>9.202762</td><td>9.245810</td><td>9.329146</td><td>⋯</td><td>11.52214</td><td>11.72986</td><td>11.16238</td><td>12.29076</td><td>11.22101</td><td>11.19462</td><td>11.12831</td><td>11.15525</td><td>12.28824</td><td>11.15017</td></tr>\n",
       "\t<tr><th scope=row>chr5</th><td>9.179282</td><td>9.138385</td><td>9.551299</td><td>9.253567</td><td>9.280271</td><td> 9.161017</td><td>9.005488</td><td>8.984744</td><td>9.154344</td><td>9.084727</td><td>⋯</td><td>11.18556</td><td>11.48846</td><td>10.90387</td><td>11.83545</td><td>11.18855</td><td>11.19251</td><td>11.44216</td><td>10.93596</td><td>11.84356</td><td>11.15587</td></tr>\n",
       "\t<tr><th scope=row>chr6</th><td>9.255394</td><td>9.384747</td><td>9.326547</td><td>9.202863</td><td>9.465128</td><td> 9.184613</td><td>8.982909</td><td>9.187402</td><td>9.241953</td><td>8.856343</td><td>⋯</td><td>11.41795</td><td>12.09293</td><td>11.29479</td><td>12.09031</td><td>11.21862</td><td>11.23383</td><td>11.46091</td><td>11.23967</td><td>12.08872</td><td>11.20023</td></tr>\n",
       "\t<tr><th scope=row>chr7</th><td>8.725589</td><td>8.527739</td><td>8.515357</td><td>8.570279</td><td>9.054509</td><td> 8.849416</td><td>8.722836</td><td>8.629487</td><td>8.632473</td><td>8.726084</td><td>⋯</td><td>11.21710</td><td>11.73349</td><td>10.96665</td><td>11.80219</td><td>11.17810</td><td>11.33501</td><td>11.04432</td><td>11.07712</td><td>11.78676</td><td>11.12234</td></tr>\n",
       "\t<tr><th scope=row>chr8</th><td>9.070488</td><td>9.160694</td><td>8.890204</td><td>9.497899</td><td>9.101967</td><td> 8.671085</td><td>8.710143</td><td>8.693092</td><td>9.109241</td><td>8.624319</td><td>⋯</td><td>11.49992</td><td>11.65790</td><td>11.59369</td><td>11.95605</td><td>11.57862</td><td>11.51207</td><td>11.50366</td><td>11.48471</td><td>12.21542</td><td>11.36377</td></tr>\n",
       "\t<tr><th scope=row>chr9</th><td>8.710881</td><td>8.771925</td><td>8.677451</td><td>8.673925</td><td>8.934716</td><td> 8.538452</td><td>8.754515</td><td>8.636995</td><td>8.627255</td><td>9.056179</td><td>⋯</td><td>11.23593</td><td>11.71217</td><td>11.03720</td><td>11.63415</td><td>10.90646</td><td>10.92117</td><td>11.25573</td><td>11.03455</td><td>11.93558</td><td>11.07904</td></tr>\n",
       "</tbody>\n",
       "</table>\n"
      ],
      "text/latex": [
       "A matrix: 22 × 103 of type dbl\n",
       "\\begin{tabular}{r|lllllllllllllllllllllllllllllllllllllllllllllllllllllllllllllllllllllllllllllllllllllllllllllllllllllll}\n",
       "  & P037 & P038 & P039 & P040 & P041 & P042 & P043 & P044 & P046 & P047 & P048 & P098 & P100 & P109 & P115 & P129 & P133 & P138 & P139 & P140 & P148 & P153 & P154 & P155 & P157 & P159 & P162 & P164 & P169 & P176 & P178 & P182 & P183 & P189 & P195 & P196 & P207 & P208 & N01 & N02 & N04 & A15 & A16 & A17 & A18 & A19 & A20 & A21 & A22 & A23 & A24 & A25 & A26 & A27 & A28 & A29 & A30 & A31 & A32 & A33 & A34 & A35 & A36 & A37 & A38 & A40 & A41 & A42 & A43 & A44 & A45 & A46 & A47 & A48 & A49 & A50 & A51 & A52 & A53 & A54 & A55 & A56 & A57 & A58 & A59 & A60 & A61 & A63 & A64 & N02\\_SJ & N03\\_SJ & N04\\_SJ & N06\\_SJ & N08\\_SJ & N09\\_SJ & N10\\_SJ & N12\\_SJ & N14\\_SJ & N15\\_SJ & N16\\_SJ & N17\\_SJ & N18\\_SJ & N19\\_SJ\\\\\n",
       "\\hline\n",
       "\tchr1 & 8.886105 & 8.781902 & 8.966401 & 8.766965 & 9.050702 &  8.726170 & 8.869192 & 8.808000 & 8.699137 & 8.795194 & 8.694607 & 8.378106 & 8.617364 &  8.471378 & 8.589927 & 8.350974 &  8.558940 & 8.698386 & 8.809560 & 8.540183 & 9.006397 & 8.668313 & 8.862773 & 8.734207 &  8.731891 & 8.687703 & 8.817001 & 8.514050 & 8.796322 & 8.816491 & 8.794349 & 8.731111 & 8.737093 &  8.822125 & 8.454566 & 8.483513 & 8.676948 & 8.475458 & 8.714082 & 8.696014 & 8.853465 & 11.38178 & 11.50930 & 11.33885 & 11.25348 & 11.21415 & 11.79803 & 11.20283 & 11.65890 & 11.60064 & 11.57201 & 10.78625 & 10.97520 & 11.56500 & 11.46602 & 10.86464 & 11.08778 & 11.47015 & 11.13569 & 11.74532 & 11.20350 & 11.58548 & 12.21808 & 11.90917 & 11.90000 & 10.93455 & 10.95624 & 11.04105 & 11.82021 & 11.44612 & 11.41686 & 10.97519 & 11.47830 & 10.97075 & 11.03788 & 11.15588 & 11.74270 & 10.86596 & 10.92133 & 11.69632 & 11.40020 & 11.57969 & 11.57376 & 11.52153 & 11.43590 & 11.01383 & 11.67617 & 11.40516 & 11.15287 & 11.11295 & 11.23289 & 11.36458 & 11.80126 & 11.26504 & 11.72432 & 11.17857 & 11.85124 & 11.26077 & 11.18220 & 11.40060 & 11.29754 & 11.87140 & 11.16803\\\\\n",
       "\tchr10 & 8.858257 & 9.211164 & 9.178101 & 9.095438 & 9.183735 &  9.107345 & 8.663747 & 9.043509 & 8.602009 & 9.178632 & 9.031221 & 8.744021 & 9.012309 &  8.991819 & 8.510507 & 8.579395 &  9.023266 & 9.133327 & 8.930841 & 8.816070 & 8.878132 & 9.020310 & 9.548312 & 8.804898 &  9.289257 & 9.119388 & 8.885770 & 9.011238 & 9.147934 & 9.161854 & 9.016102 & 9.143372 & 8.946080 &  8.834178 & 8.891621 & 8.535343 & 8.682119 & 8.919322 & 8.561106 & 8.600264 & 8.697389 & 11.35634 & 11.33927 & 11.16332 & 11.64324 & 11.52846 & 11.89846 & 11.62165 & 11.63497 & 11.38936 & 11.82812 & 11.04512 & 11.16602 & 11.22872 & 11.73095 & 10.88172 & 11.21462 & 11.58385 & 11.57476 & 11.58694 & 11.39407 & 11.83466 & 11.95228 & 12.05498 & 11.99314 & 11.21359 & 11.43983 & 11.15667 & 11.85068 & 11.22204 & 11.72864 & 11.51059 & 11.67750 & 11.45398 & 11.49508 & 11.36044 & 11.87530 & 11.39500 & 11.32469 & 11.88636 & 11.50423 & 11.77264 & 11.79942 & 11.74679 & 11.66060 & 11.22496 & 11.50639 & 11.61523 & 11.21637 & 10.94511 & 11.13236 & 11.32553 & 11.78362 & 11.18724 & 11.71582 & 11.25738 & 11.88985 & 11.10113 & 11.16414 & 11.45003 & 11.12408 & 11.99014 & 11.07866\\\\\n",
       "\tchr11 & 9.092875 & 8.804918 & 9.194041 & 9.189385 & 8.961379 &  8.909059 & 9.015970 & 8.919864 & 8.831765 & 8.864939 & 9.320246 & 9.003397 & 8.841720 &  8.852896 & 8.625818 & 8.991145 &  8.787366 & 9.229893 & 9.167940 & 8.817937 & 8.703775 & 8.649291 & 8.804755 & 8.992527 &  8.805760 & 8.882075 & 9.106344 & 8.576901 & 8.875165 & 9.105129 & 9.171299 & 8.879629 & 9.162818 &  9.059039 & 8.668546 & 9.025940 & 8.676619 & 8.634731 & 8.815561 & 8.820209 & 8.871661 & 11.66324 & 11.63345 & 11.51069 & 11.61453 & 11.44676 & 11.91943 & 11.33922 & 11.83593 & 11.74039 & 11.84689 & 11.25593 & 11.18035 & 11.63207 & 11.62149 & 11.13853 & 11.01279 & 11.34988 & 11.35332 & 11.80555 & 11.38753 & 11.70112 & 12.49146 & 12.11425 & 12.34334 & 10.94746 & 11.18469 & 10.94370 & 12.23866 & 11.53197 & 11.66228 & 11.05630 & 11.75735 & 11.11078 & 11.35889 & 11.73063 & 12.11321 & 11.19474 & 11.09860 & 12.05607 & 11.63777 & 11.82136 & 11.90286 & 11.89243 & 12.02123 & 11.19736 & 12.01349 & 11.50877 & 11.52065 & 11.28579 & 11.33444 & 11.41964 & 12.17256 & 11.47857 & 12.09536 & 11.31929 & 12.13054 & 11.42522 & 11.23059 & 11.62513 & 11.39631 & 12.32912 & 11.16037\\\\\n",
       "\tchr12 & 9.094055 & 8.993567 & 9.041611 & 9.383268 & 9.567726 &  9.115342 & 9.037220 & 8.887654 & 8.983257 & 9.033678 & 9.372218 & 8.989861 & 8.939178 &  9.320898 & 8.795460 & 8.451640 &  8.856903 & 8.890891 & 9.209967 & 9.128015 & 9.223743 & 8.727200 & 8.952308 & 9.008988 &  8.831280 & 8.954276 & 9.192007 & 8.772631 & 8.923747 & 9.125109 & 9.169713 & 8.949353 & 9.184787 &  9.141996 & 8.683184 & 9.104111 & 8.819599 & 8.811604 & 9.031800 & 8.969686 & 9.044101 & 11.52085 & 11.82541 & 11.46685 & 11.63571 & 11.57880 & 11.84932 & 11.39819 & 11.94206 & 11.75499 & 11.89156 & 11.71677 & 11.33331 & 11.63440 & 11.63149 & 11.13728 & 11.30375 & 11.46594 & 11.50437 & 12.07871 & 11.42454 & 11.86088 & 12.42741 & 11.99426 & 12.21148 & 11.25732 & 11.40297 & 11.22046 & 11.98516 & 11.82440 & 11.56956 & 11.21524 & 11.91615 & 11.45832 & 11.22851 & 11.43937 & 11.85321 & 11.26945 & 11.24371 & 12.22017 & 11.54622 & 11.91737 & 11.83683 & 11.81226 & 11.73682 & 11.20369 & 11.85935 & 11.68945 & 11.42171 & 11.30201 & 11.45311 & 11.57346 & 12.22427 & 11.71559 & 11.97917 & 11.50219 & 12.06798 & 11.69808 & 11.58160 & 11.75133 & 11.56159 & 12.10912 & 11.35685\\\\\n",
       "\tchr13 & 8.888680 & 9.382453 & 9.603348 & 9.554135 & 9.197347 &  9.217262 & 9.195625 & 8.962639 & 9.480301 & 9.097588 & 8.994612 & 9.048530 & 9.172213 &  9.223698 & 9.057328 & 8.316860 &  8.824170 & 8.881423 & 8.866571 & 8.903807 & 9.151942 & 9.247318 & 9.673335 & 9.279503 &  9.332097 & 9.544376 & 9.505838 & 9.446907 & 9.752647 & 9.433034 & 9.214599 & 9.366026 & 9.043377 &  9.370916 & 8.795118 & 8.793136 & 8.954362 & 8.802999 & 8.627542 & 8.709975 & 8.761970 & 11.39472 & 11.64085 & 11.31916 & 11.69993 & 11.59576 & 11.88526 & 11.37536 & 11.93146 & 11.87697 & 11.50746 & 11.55942 & 11.45707 & 11.45625 & 11.75282 & 11.07872 & 11.30978 & 11.59363 & 11.44130 & 11.95491 & 11.50258 & 11.96513 & 12.15050 & 12.16587 & 11.98183 & 11.16545 & 11.44396 & 11.32494 & 11.75207 & 11.60514 & 11.55366 & 11.56180 & 11.67190 & 11.43302 & 11.69914 & 11.41085 & 11.67313 & 11.34565 & 11.50093 & 11.41729 & 11.94065 & 11.73827 & 11.69143 & 11.92991 & 11.68678 & 11.26558 & 11.76746 & 11.71486 & 11.28740 & 11.25892 & 11.69690 & 11.17960 & 12.00371 & 11.70285 & 11.82851 & 11.45191 & 11.99635 & 12.04477 & 11.79443 & 11.38315 & 11.82745 & 11.82349 & 11.76159\\\\\n",
       "\tchr14 & 9.436242 & 9.385272 & 9.698928 & 9.623444 & 9.407975 &  9.404010 & 9.250607 & 9.551405 & 9.430265 & 9.487349 & 9.287198 & 9.203605 & 9.568635 &  9.354545 & 9.425068 & 9.300974 &  9.351400 & 9.271369 & 9.541181 & 9.242549 & 9.255135 & 9.298526 & 9.277688 & 9.269973 &  9.403818 & 9.437006 & 9.859870 & 9.511628 & 9.493861 & 9.440198 & 9.221506 & 9.311397 & 9.464514 &  9.042650 & 9.281583 & 9.247319 & 9.379484 & 9.376536 & 9.008812 & 8.959086 & 8.973399 & 11.71590 & 11.75172 & 11.47799 & 11.69614 & 11.56649 & 12.04598 & 11.53749 & 11.67717 & 11.67769 & 11.78357 & 11.23596 & 11.49253 & 11.09866 & 11.59511 & 11.26245 & 11.81402 & 11.68555 & 11.54004 & 11.89219 & 11.82132 & 12.03942 & 12.15463 & 11.85994 & 12.12320 & 11.48089 & 11.02514 & 11.29331 & 11.78401 & 12.04475 & 11.55312 & 11.49631 & 11.66626 & 11.54548 & 11.37581 & 11.54765 & 11.85370 & 11.40647 & 11.30576 & 12.08110 & 11.44347 & 11.90005 & 11.69910 & 11.52611 & 11.80162 & 11.17955 & 11.86195 & 11.79109 & 11.42990 & 11.08161 & 11.08729 & 11.36028 & 11.71449 & 11.13887 & 11.92727 & 11.27084 & 11.54440 & 11.13640 & 10.98648 & 11.60096 & 11.01194 & 11.81615 & 10.98371\\\\\n",
       "\tchr15 & 9.151427 & 8.753094 & 8.777201 & 8.841502 & 9.256853 &  9.219916 & 8.665853 & 8.647394 & 8.642990 & 8.711173 & 8.437501 & 8.292544 & 8.656951 &  8.532065 & 8.723940 & 8.259107 &  8.591096 & 8.460299 & 8.605123 & 8.527149 & 8.750421 & 8.699536 & 8.787754 & 8.620504 &  8.612624 & 8.600711 & 8.824879 & 8.544597 & 8.856037 & 8.930267 & 8.588713 & 8.548548 & 8.701512 &  8.886934 & 8.545942 & 8.490958 & 8.416173 & 8.516143 & 8.821701 & 8.782824 & 8.694696 & 11.18960 & 11.44092 & 11.18470 & 11.47637 & 11.28286 & 11.93310 & 11.29642 & 11.73888 & 12.14270 & 11.39918 & 11.08744 & 10.86891 & 10.73313 & 11.49158 & 10.81659 & 11.06102 & 11.19693 & 11.42824 & 11.86646 & 11.26792 & 11.28846 & 12.47181 & 12.40048 & 12.62184 & 11.20028 & 11.37564 & 11.00124 & 11.68138 & 11.50857 & 11.71710 & 10.94838 & 11.29700 & 11.14367 & 11.06043 & 10.95761 & 11.83105 & 11.14297 & 10.97020 & 12.54721 & 11.79403 & 11.53930 & 11.70873 & 11.71128 & 11.63019 & 11.01261 & 11.44433 & 11.51590 & 11.51924 & 11.19271 & 10.77375 & 10.97274 & 12.09216 & 11.40665 & 11.62766 & 11.23405 & 11.85397 & 11.19818 & 11.04991 & 11.51236 & 11.00486 & 12.58463 & 10.95189\\\\\n",
       "\tchr16 & 9.024816 & 8.626452 & 8.867189 & 8.676033 & 8.844712 &  8.690308 & 8.739927 & 8.687470 & 8.673374 & 8.696626 & 9.083277 & 8.775225 & 8.420982 &  8.561830 & 8.425995 & 8.440950 &  8.523899 & 8.941823 & 8.812427 & 8.502102 & 8.509876 & 8.281756 & 8.595532 & 8.652364 &  8.517669 & 8.615127 & 8.835009 & 8.693438 & 8.558519 & 8.378025 & 8.869269 & 8.560630 & 8.851457 &  8.717840 & 8.471333 & 8.295987 & 8.462896 & 8.570146 & 8.476404 & 8.646414 & 8.751608 & 11.59488 & 11.65985 & 11.51854 & 11.44539 & 11.44516 & 11.81946 & 11.33645 & 11.88375 & 11.56482 & 11.52712 & 11.33041 & 11.10639 & 11.00676 & 11.83941 & 11.04236 & 11.19647 & 11.36693 & 11.35568 & 11.78194 & 11.41678 & 11.66094 & 12.22874 & 12.19413 & 12.09718 & 11.47384 & 11.26756 & 11.01838 & 12.02550 & 11.63224 & 11.52397 & 11.02031 & 11.64327 & 11.15844 & 11.36699 & 11.32276 & 11.71831 & 10.95167 & 10.84824 & 11.98847 & 11.48773 & 11.65982 & 11.85224 & 11.53645 & 11.44990 & 11.17507 & 11.75913 & 11.57623 & 11.63886 & 11.16615 & 11.51998 & 11.46240 & 11.89643 & 11.47783 & 12.08037 & 11.28812 & 11.97977 & 11.57461 & 11.45207 & 11.65513 & 11.30916 & 12.05272 & 11.21462\\\\\n",
       "\tchr17 & 9.529102 & 9.358256 & 9.189115 & 9.097830 & 9.340441 &  9.353402 & 9.096754 & 9.334769 & 9.205080 & 9.278946 & 9.348893 & 8.932633 & 8.836818 &  9.024791 & 9.211559 & 9.079573 &  9.356085 & 9.217478 & 9.096890 & 8.904355 & 9.188727 & 8.943033 & 8.916285 & 8.936006 &  9.282655 & 9.377755 & 9.632533 & 8.970772 & 9.179325 & 9.011596 & 9.146206 & 9.210607 & 9.197625 &  9.083229 & 9.138191 & 8.915302 & 8.963405 & 9.171660 & 8.878037 & 8.954357 & 9.090772 & 11.53614 & 11.88792 & 11.38004 & 11.62514 & 11.69864 & 11.85169 & 11.69350 & 11.92680 & 11.98071 & 11.63280 & 11.40633 & 11.66045 & 11.07425 & 11.89345 & 10.90498 & 11.59402 & 11.79940 & 11.52508 & 11.80929 & 11.67915 & 11.90865 & 12.12250 & 11.82569 & 12.27322 & 11.51778 & 11.12518 & 10.94473 & 12.00675 & 11.61278 & 11.85067 & 11.47267 & 11.76667 & 11.28681 & 11.50942 & 11.88703 & 11.97168 & 11.49905 & 11.53731 & 11.98031 & 11.84310 & 11.95226 & 11.68247 & 11.74337 & 11.78483 & 11.25760 & 11.78317 & 11.97252 & 11.69594 & 11.22409 & 11.31065 & 11.40681 & 11.88190 & 11.48644 & 11.91347 & 11.24507 & 11.83838 & 11.50012 & 11.44628 & 11.68724 & 11.20967 & 12.01853 & 11.37462\\\\\n",
       "\tchr18 & 9.500402 & 8.988962 & 9.711157 & 9.364462 & 9.760825 &  8.834300 & 9.038494 & 9.358458 & 9.237919 & 9.563939 & 9.328852 & 9.070181 & 9.314019 &  9.108053 & 9.046194 & 9.352249 &  9.090802 & 9.210104 & 9.549304 & 8.806302 & 8.657224 & 9.462927 & 9.702128 & 8.850911 &  9.283751 & 9.349428 & 9.560182 & 9.534053 & 8.943933 & 9.284208 & 9.116042 & 9.322417 & 9.486012 &  9.173143 & 9.716924 & 9.257326 & 9.090751 & 9.147406 & 8.630003 & 9.014880 & 8.691628 & 11.47708 & 11.58925 & 11.01010 & 11.74711 & 11.48957 & 12.07479 & 11.61489 & 12.05889 & 11.69273 & 11.85419 & 11.12295 & 11.44853 & 10.60477 & 11.59452 & 10.91275 & 11.60864 & 11.91777 & 11.50463 & 12.24529 & 11.28542 & 11.80560 & 11.92758 & 11.87400 & 11.80292 & 11.01461 & 11.31297 & 11.20525 & 12.18857 & 11.09022 & 11.56828 & 11.48614 & 11.30270 & 11.20590 & 11.30260 & 11.42211 & 11.81336 & 11.21842 & 11.09964 & 11.76063 & 11.46140 & 11.71186 & 11.78394 & 11.83576 & 11.58379 & 10.83228 & 11.43172 & 11.90166 & 11.04451 & 11.05312 & 10.82781 & 11.25685 & 11.67754 & 11.32131 & 11.56637 & 10.86925 & 11.60680 & 10.91563 & 11.13147 & 11.16779 & 10.90989 & 11.72246 & 11.03135\\\\\n",
       "\tchr19 & 9.205825 & 8.684127 & 8.606652 & 8.564537 & 8.952689 &  8.762928 & 8.778973 & 8.841099 & 8.643514 & 8.626127 & 8.675374 & 8.535771 & 8.308217 &  8.534371 & 8.435943 & 8.553528 &  8.639398 & 8.775001 & 8.644115 & 8.678716 & 8.341295 & 8.384107 & 8.510534 & 8.366639 &  8.511774 & 8.512991 & 8.856647 & 8.481012 & 8.506366 & 8.365083 & 8.429240 & 8.584654 & 8.483448 &  8.938356 & 8.589236 & 8.262720 & 8.351031 & 8.528483 & 8.568137 & 8.635521 & 8.742366 & 11.91635 & 11.87924 & 11.87704 & 11.85947 & 11.58347 & 12.27215 & 11.78600 & 12.03162 & 12.00162 & 12.08073 & 11.00256 & 11.74143 & 11.93129 & 11.81284 & 11.51832 & 11.29991 & 11.72471 & 11.84068 & 12.08792 & 11.63586 & 12.05936 & 12.49778 & 12.08062 & 12.23782 & 11.44855 & 11.78953 & 11.37576 & 12.06179 & 11.90224 & 11.85678 & 11.48483 & 11.55094 & 11.43185 & 11.59688 & 11.63309 & 11.99397 & 11.34290 & 11.35040 & 12.24876 & 11.71343 & 12.08699 & 12.08446 & 11.95987 & 11.81134 & 11.32978 & 12.09666 & 11.73811 & 11.68843 & 11.82448 & 11.72945 & 11.88448 & 12.13895 & 11.90300 & 12.23466 & 11.70348 & 12.22704 & 11.73889 & 11.62587 & 11.97657 & 11.60186 & 12.25180 & 11.45583\\\\\n",
       "\tchr2 & 9.163909 & 8.953588 & 9.018292 & 9.076002 & 9.194091 &  8.996657 & 9.038865 & 8.910884 & 8.919735 & 9.089288 & 9.335607 & 9.103678 & 8.955240 &  8.905704 & 8.970226 & 8.579260 &  8.742956 & 8.772268 & 9.190628 & 8.777078 & 9.403323 & 8.924569 & 9.042467 & 9.220801 &  9.026531 & 9.118610 & 9.139680 & 8.941273 & 9.069692 & 8.999132 & 8.938872 & 9.006903 & 8.807572 &  9.150905 & 8.874381 & 8.813652 & 8.886256 & 8.771324 & 8.969780 & 8.887402 & 9.011349 & 11.58330 & 11.64384 & 11.42717 & 11.43457 & 11.34883 & 11.76759 & 11.35368 & 11.83830 & 11.72322 & 11.85841 & 11.75126 & 11.16320 & 11.86859 & 11.60728 & 11.14365 & 11.33445 & 11.64174 & 11.33006 & 11.90635 & 11.39700 & 11.77711 & 12.15967 & 11.94584 & 12.02784 & 11.33011 & 11.29181 & 11.54411 & 11.74113 & 11.70451 & 11.57289 & 11.38747 & 11.79757 & 11.36059 & 11.24463 & 11.34151 & 11.63441 & 11.16091 & 11.35384 & 12.01669 & 11.57779 & 11.93642 & 11.66500 & 12.00592 & 11.43333 & 11.26216 & 11.93465 & 11.81064 & 11.31161 & 11.31470 & 11.33487 & 11.55118 & 11.88357 & 11.63805 & 11.77152 & 11.43289 & 11.96348 & 11.62068 & 11.51745 & 11.64733 & 11.41533 & 12.17081 & 11.44594\\\\\n",
       "\tchr20 & 9.129880 & 8.898100 & 8.913495 & 8.863690 & 8.917293 &  8.924373 & 8.764147 & 8.983457 & 8.699729 & 8.713017 & 8.740392 & 8.507967 & 8.765710 &  8.656320 & 8.612132 & 8.806510 &  8.858493 & 8.618600 & 8.674181 & 8.876830 & 8.632519 & 8.598774 & 8.763858 & 8.715037 &  8.670715 & 8.671784 & 8.981592 & 8.608286 & 8.717102 & 8.511261 & 8.614416 & 8.767165 & 8.589275 &  8.915394 & 8.933942 & 8.491821 & 8.604837 & 8.656265 & 8.754410 & 8.852298 & 8.791111 & 11.67480 & 11.48726 & 11.13019 & 11.27228 & 11.41206 & 12.00382 & 11.13111 & 12.18608 & 11.49335 & 11.81678 & 11.22926 & 10.88142 & 10.62677 & 11.81642 & 11.25097 & 10.90141 & 11.14698 & 11.13183 & 11.65940 & 11.54701 & 11.48401 & 12.00156 & 12.16378 & 11.82212 & 10.78945 & 10.85923 & 10.64804 & 11.38875 & 11.07413 & 11.42750 & 11.06108 & 11.29813 & 10.87790 & 11.05298 & 10.98895 & 11.45836 & 11.00042 & 10.91933 & 12.53322 & 11.28772 & 11.73237 & 11.94510 & 11.52574 & 11.43156 & 10.99928 & 11.66467 & 11.29794 & 11.29602 & 11.10193 & 10.97123 & 11.12197 & 11.88149 & 11.36926 & 11.78615 & 11.13724 & 11.64852 & 11.07765 & 11.10031 & 11.55762 & 10.97914 & 11.79054 & 11.07736\\\\\n",
       "\tchr21 & 9.413408 & 9.431808 & 9.583004 & 9.749250 & 9.539742 & 10.061348 & 8.928580 & 9.414229 & 9.824606 & 9.852269 & 9.622613 & 9.438887 & 9.869642 & 10.170388 & 9.439904 & 9.180577 & 10.291690 & 9.333912 & 9.541211 & 9.078441 & 8.424867 & 9.663702 & 9.276825 & 9.430383 & 10.083175 & 9.912958 & 9.885506 & 9.275831 & 9.570163 & 9.865846 & 9.451178 & 9.868038 & 9.814821 & 10.126882 & 9.618654 & 9.540423 & 9.186021 & 9.610960 & 9.096758 & 8.600407 & 9.042232 & 11.79010 & 11.81116 & 12.06155 & 11.96349 & 11.91515 & 11.97096 & 11.86607 & 12.29920 & 12.11995 & 12.05103 & 11.66617 & 11.72074 & 11.74789 & 11.99421 & 11.32790 & 12.08963 & 12.29406 & 12.14399 & 12.15663 & 11.96247 & 12.25804 & 11.72459 & 12.26096 & 12.24312 & 11.24852 & 11.90313 & 11.70681 & 11.85979 & 11.94111 & 11.91165 & 11.86538 & 11.75244 & 11.99941 & 11.99310 & 11.93247 & 12.12950 & 11.42609 & 11.57470 & 12.15814 & 11.95754 & 11.87193 & 12.11845 & 11.78138 & 11.98592 & 11.95392 & 12.38485 & 12.16998 & 11.58460 & 10.79771 & 11.37488 & 11.08207 & 11.80570 & 11.37233 & 11.44439 & 11.21734 & 11.51151 & 11.22886 & 11.32200 & 11.09908 & 11.42805 & 11.74201 & 11.39851\\\\\n",
       "\tchr22 & 9.679085 & 8.924270 & 9.006205 & 8.722459 & 9.007020 &  8.923847 & 9.049572 & 9.142811 & 8.952238 & 9.200457 & 9.290715 & 8.865714 & 8.982351 &  9.070886 & 8.981265 & 9.159834 &  9.247187 & 9.594343 & 9.385943 & 9.255363 & 8.765009 & 8.965219 & 8.869225 & 8.666269 &  8.864888 & 9.052762 & 9.152136 & 8.934818 & 8.726850 & 8.626807 & 8.827930 & 8.973326 & 8.918656 &  9.152671 & 8.974430 & 8.967709 & 8.909232 & 9.152880 & 9.072869 & 9.290743 & 9.071658 & 11.90132 & 11.66340 & 11.61961 & 12.05653 & 11.73579 & 12.25344 & 11.46887 & 11.84444 & 12.15403 & 11.96290 & 11.40402 & 11.55110 & 12.00133 & 11.82730 & 11.47100 & 11.38436 & 11.54612 & 11.48235 & 11.96047 & 11.46504 & 12.29591 & 12.65341 & 11.98600 & 12.61741 & 11.31614 & 11.57906 & 11.33549 & 12.14572 & 11.63812 & 11.83930 & 11.23974 & 11.86952 & 11.14603 & 11.37497 & 11.49655 & 11.97775 & 11.29485 & 11.10953 & 12.59206 & 12.00341 & 11.92747 & 11.88780 & 11.98933 & 11.69712 & 11.46265 & 11.91437 & 11.83115 & 11.49150 & 11.94898 & 11.62469 & 11.66686 & 12.24712 & 11.55674 & 12.40545 & 11.50645 & 12.40399 & 11.79062 & 11.48909 & 11.89638 & 11.45873 & 12.28558 & 11.62090\\\\\n",
       "\tchr3 & 9.260511 & 9.020674 & 9.215918 & 9.116817 & 9.016930 &  9.029450 & 9.056070 & 8.852130 & 9.088497 & 9.004508 & 8.955830 & 8.963029 & 8.944899 &  9.142234 & 8.718114 & 8.541890 &  8.797359 & 8.652189 & 9.115645 & 8.771123 & 8.957865 & 8.881895 & 8.993422 & 9.033932 &  9.072035 & 9.064943 & 9.165424 & 8.861304 & 8.975984 & 8.857437 & 9.272167 & 9.067862 & 8.901698 &  9.151672 & 8.782782 & 8.681124 & 8.741413 & 8.782696 & 8.742043 & 8.960550 & 8.960740 & 11.25877 & 11.52262 & 11.17415 & 11.35060 & 11.05147 & 11.68563 & 11.23295 & 11.58651 & 11.50156 & 11.63582 & 10.77506 & 10.68665 & 10.73691 & 11.51735 & 10.96836 & 10.70386 & 11.01967 & 11.08663 & 11.59107 & 11.23974 & 11.67614 & 12.14656 & 11.77214 & 11.93131 & 10.78042 & 11.05560 & 10.64046 & 11.65470 & 11.28538 & 11.30673 & 10.89612 & 11.46203 & 10.91042 & 10.92710 & 11.16942 & 11.49382 & 10.80515 & 10.94514 & 11.75928 & 11.17190 & 11.51898 & 11.42694 & 11.53169 & 11.22095 & 10.84117 & 11.79759 & 11.16660 & 10.99294 & 10.92139 & 11.28171 & 11.29677 & 11.85337 & 11.14477 & 11.80362 & 11.14293 & 11.81172 & 11.16062 & 11.28944 & 11.16741 & 11.10999 & 11.81754 & 11.17098\\\\\n",
       "\tchr4 & 9.357030 & 9.306612 & 9.290468 & 9.524399 & 9.411874 &  9.285432 & 8.853195 & 9.202762 & 9.245810 & 9.329146 & 9.229674 & 8.905827 & 9.255809 &  8.926865 & 8.993121 & 8.608976 &  9.047217 & 8.845073 & 9.005566 & 8.760639 & 8.565929 & 9.176238 & 9.104684 & 9.059711 &  9.254224 & 8.976069 & 9.450398 & 9.209808 & 9.023662 & 9.377888 & 8.685079 & 8.863259 & 9.499182 &  8.814898 & 8.934635 & 8.925117 & 9.074385 & 9.010375 & 8.940545 & 8.943235 & 8.961361 & 11.33042 & 11.69817 & 11.57126 & 11.48584 & 11.59751 & 12.07396 & 11.30597 & 12.19755 & 11.62540 & 12.03688 & 11.46022 & 11.48793 & 11.30137 & 12.18537 & 11.18409 & 11.45124 & 11.37703 & 11.53744 & 12.19179 & 11.17896 & 12.17837 & 12.38308 & 12.06413 & 12.41180 & 11.32267 & 11.24485 & 11.05864 & 11.98885 & 11.25006 & 11.82780 & 10.98672 & 11.45500 & 11.55097 & 11.61630 & 11.58346 & 11.63427 & 11.37258 & 11.45932 & 12.32992 & 11.73381 & 11.88782 & 11.57476 & 11.67479 & 11.72791 & 11.25748 & 11.90120 & 11.33995 & 11.60627 & 10.97616 & 11.23824 & 11.60238 & 12.29962 & 11.52214 & 11.72986 & 11.16238 & 12.29076 & 11.22101 & 11.19462 & 11.12831 & 11.15525 & 12.28824 & 11.15017\\\\\n",
       "\tchr5 & 9.179282 & 9.138385 & 9.551299 & 9.253567 & 9.280271 &  9.161017 & 9.005488 & 8.984744 & 9.154344 & 9.084727 & 9.426553 & 9.495012 & 9.122494 &  9.309472 & 8.918471 & 9.036527 &  9.126766 & 9.358183 & 9.398475 & 8.992726 & 9.189643 & 9.169769 & 9.457849 & 9.335052 &  9.338305 & 9.341558 & 9.319561 & 9.601068 & 9.293288 & 9.637933 & 9.465016 & 9.234211 & 9.545809 &  9.328385 & 8.941347 & 8.764451 & 8.971545 & 8.926372 & 9.034615 & 9.061029 & 9.156911 & 11.27123 & 11.23509 & 11.02163 & 11.47580 & 11.05303 & 11.58896 & 11.14212 & 11.58512 & 11.43071 & 11.52696 & 11.14962 & 10.90306 & 10.85314 & 11.44238 & 10.73846 & 10.88860 & 11.21834 & 11.04568 & 11.60321 & 11.19192 & 11.40461 & 11.90276 & 11.77134 & 11.95134 & 11.44988 & 10.91657 & 10.80124 & 11.81276 & 11.18554 & 11.40343 & 10.75330 & 11.47616 & 10.89562 & 10.85904 & 11.36702 & 11.50763 & 10.85232 & 10.75646 & 11.56462 & 11.22540 & 11.52149 & 11.40246 & 11.55003 & 11.19816 & 10.87384 & 11.50901 & 11.23176 & 11.02226 & 10.92344 & 11.21332 & 11.09868 & 11.57874 & 11.18556 & 11.48846 & 10.90387 & 11.83545 & 11.18855 & 11.19251 & 11.44216 & 10.93596 & 11.84356 & 11.15587\\\\\n",
       "\tchr6 & 9.255394 & 9.384747 & 9.326547 & 9.202863 & 9.465128 &  9.184613 & 8.982909 & 9.187402 & 9.241953 & 8.856343 & 9.090945 & 9.031281 & 9.199406 &  8.970344 & 8.998214 & 8.825824 &  9.085480 & 9.210710 & 9.240748 & 9.085262 & 9.096746 & 9.428935 & 9.585865 & 8.939259 &  9.270150 & 9.319312 & 8.951779 & 9.305711 & 9.628788 & 9.396233 & 9.214028 & 9.287106 & 9.158559 &  8.957162 & 9.113633 & 9.022177 & 8.783430 & 9.076150 & 8.935508 & 8.763409 & 8.921388 & 11.69124 & 11.79285 & 11.24720 & 11.63319 & 11.52538 & 12.07329 & 11.48520 & 12.02299 & 11.97313 & 11.94423 & 11.06501 & 11.23529 & 11.44813 & 11.75451 & 10.96803 & 11.19159 & 11.55485 & 11.69441 & 11.99594 & 11.48616 & 11.93315 & 12.22949 & 12.05177 & 12.09754 & 11.29158 & 11.61198 & 11.11911 & 12.06902 & 11.47002 & 11.61010 & 11.39162 & 11.59657 & 11.43720 & 11.39085 & 11.51673 & 11.85624 & 11.45194 & 11.22669 & 11.95854 & 11.58362 & 11.80890 & 11.83853 & 11.89281 & 11.72867 & 11.32563 & 11.79706 & 11.60642 & 11.79722 & 10.77403 & 11.12544 & 11.28199 & 11.81100 & 11.41795 & 12.09293 & 11.29479 & 12.09031 & 11.21862 & 11.23383 & 11.46091 & 11.23967 & 12.08872 & 11.20023\\\\\n",
       "\tchr7 & 8.725589 & 8.527739 & 8.515357 & 8.570279 & 9.054509 &  8.849416 & 8.722836 & 8.629487 & 8.632473 & 8.726084 & 8.699430 & 8.484300 & 8.839594 &  8.598582 & 8.582475 & 8.489812 &  8.775516 & 8.648389 & 8.558678 & 8.781285 & 8.748748 & 8.501352 & 8.746681 & 8.604637 &  8.703419 & 8.770067 & 8.907944 & 8.667417 & 8.740491 & 8.571135 & 8.616064 & 8.763949 & 8.634377 &  8.941055 & 8.561974 & 8.295102 & 8.376990 & 8.563431 & 8.541823 & 8.498146 & 8.783202 & 11.21587 & 11.32974 & 11.17929 & 11.59350 & 11.12178 & 11.65998 & 11.30371 & 11.58561 & 11.43824 & 11.50737 & 10.65138 & 11.18387 & 10.95423 & 11.28574 & 10.86125 & 11.01701 & 11.15924 & 11.17646 & 11.63446 & 11.16830 & 11.41868 & 11.94319 & 12.02091 & 11.74897 & 10.80669 & 11.12594 & 10.80613 & 11.55825 & 11.36764 & 11.42317 & 11.06959 & 11.45936 & 10.88804 & 11.07101 & 11.22315 & 11.51918 & 10.90757 & 10.82247 & 11.84871 & 11.27522 & 11.47816 & 11.30094 & 11.41563 & 11.34994 & 11.03522 & 11.61622 & 11.27496 & 11.15437 & 11.06338 & 10.98818 & 11.25725 & 11.72195 & 11.21710 & 11.73349 & 10.96665 & 11.80219 & 11.17810 & 11.33501 & 11.04432 & 11.07712 & 11.78676 & 11.12234\\\\\n",
       "\tchr8 & 9.070488 & 9.160694 & 8.890204 & 9.497899 & 9.101967 &  8.671085 & 8.710143 & 8.693092 & 9.109241 & 8.624319 & 9.199591 & 8.792560 & 8.728156 &  9.173913 & 8.625771 & 8.739120 &  8.663799 & 9.056026 & 9.469468 & 8.877949 & 8.806670 & 8.706886 & 9.094986 & 8.699530 &  9.240786 & 8.649260 & 8.815011 & 9.220524 & 8.855351 & 8.622522 & 9.301409 & 8.786736 & 8.959853 &  8.897785 & 9.008152 & 8.996794 & 8.669403 & 8.562993 & 8.779240 & 8.514908 & 8.771359 & 11.70933 & 11.61577 & 11.47875 & 11.78654 & 11.52082 & 11.93459 & 11.23212 & 11.89311 & 11.67006 & 12.16066 & 11.92059 & 11.69376 & 11.43013 & 11.99652 & 11.46701 & 11.35503 & 11.60125 & 11.90922 & 12.01580 & 11.58864 & 12.35590 & 12.05610 & 11.89205 & 12.30108 & 11.92412 & 11.36767 & 11.01826 & 12.08004 & 11.52873 & 11.78808 & 11.38359 & 11.94791 & 11.30703 & 11.94021 & 11.43560 & 11.93961 & 11.24266 & 11.45807 & 12.49516 & 11.60039 & 11.93224 & 11.60194 & 11.76208 & 11.83221 & 11.13040 & 12.05901 & 12.17587 & 11.92462 & 11.64635 & 11.44048 & 11.40254 & 12.04997 & 11.49992 & 11.65790 & 11.59369 & 11.95605 & 11.57862 & 11.51207 & 11.50366 & 11.48471 & 12.21542 & 11.36377\\\\\n",
       "\tchr9 & 8.710881 & 8.771925 & 8.677451 & 8.673925 & 8.934716 &  8.538452 & 8.754515 & 8.636995 & 8.627255 & 9.056179 & 8.453672 & 8.342718 & 8.551513 &  8.387879 & 8.497385 & 8.201726 &  8.441479 & 8.353820 & 8.893679 & 8.437152 & 8.437413 & 8.394163 & 8.711066 & 8.567316 &  8.536925 & 8.998556 & 8.794545 & 8.667621 & 8.858505 & 8.447198 & 8.511975 & 8.883353 & 8.487113 &  8.745948 & 8.382316 & 8.274368 & 8.320446 & 8.523288 & 8.591473 & 8.462712 & 8.605677 & 11.12969 & 11.44011 & 11.30175 & 11.09231 & 11.13477 & 11.56843 & 11.12060 & 11.73792 & 11.40490 & 11.63382 & 10.76289 & 10.89580 & 10.90897 & 11.25159 & 11.27886 & 11.28141 & 11.15579 & 11.17571 & 11.58185 & 11.21415 & 11.51304 & 11.92624 & 12.06853 & 12.17250 & 10.95135 & 10.93526 & 10.77942 & 11.65029 & 11.93702 & 11.25249 & 11.15512 & 11.23741 & 11.53454 & 11.03434 & 11.08623 & 11.54341 & 10.82677 & 10.72681 & 11.41143 & 11.10568 & 11.43829 & 11.42859 & 11.90033 & 11.40793 & 11.27709 & 11.75183 & 11.25952 & 11.21338 & 10.91203 & 10.92186 & 11.15929 & 11.70552 & 11.23593 & 11.71217 & 11.03720 & 11.63415 & 10.90646 & 10.92117 & 11.25573 & 11.03455 & 11.93558 & 11.07904\\\\\n",
       "\\end{tabular}\n"
      ],
      "text/markdown": [
       "\n",
       "A matrix: 22 × 103 of type dbl\n",
       "\n",
       "| <!--/--> | P037 | P038 | P039 | P040 | P041 | P042 | P043 | P044 | P046 | P047 | ⋯ | N08_SJ | N09_SJ | N10_SJ | N12_SJ | N14_SJ | N15_SJ | N16_SJ | N17_SJ | N18_SJ | N19_SJ |\n",
       "|---|---|---|---|---|---|---|---|---|---|---|---|---|---|---|---|---|---|---|---|---|---|\n",
       "| chr1 | 8.886105 | 8.781902 | 8.966401 | 8.766965 | 9.050702 |  8.726170 | 8.869192 | 8.808000 | 8.699137 | 8.795194 | ⋯ | 11.26504 | 11.72432 | 11.17857 | 11.85124 | 11.26077 | 11.18220 | 11.40060 | 11.29754 | 11.87140 | 11.16803 |\n",
       "| chr10 | 8.858257 | 9.211164 | 9.178101 | 9.095438 | 9.183735 |  9.107345 | 8.663747 | 9.043509 | 8.602009 | 9.178632 | ⋯ | 11.18724 | 11.71582 | 11.25738 | 11.88985 | 11.10113 | 11.16414 | 11.45003 | 11.12408 | 11.99014 | 11.07866 |\n",
       "| chr11 | 9.092875 | 8.804918 | 9.194041 | 9.189385 | 8.961379 |  8.909059 | 9.015970 | 8.919864 | 8.831765 | 8.864939 | ⋯ | 11.47857 | 12.09536 | 11.31929 | 12.13054 | 11.42522 | 11.23059 | 11.62513 | 11.39631 | 12.32912 | 11.16037 |\n",
       "| chr12 | 9.094055 | 8.993567 | 9.041611 | 9.383268 | 9.567726 |  9.115342 | 9.037220 | 8.887654 | 8.983257 | 9.033678 | ⋯ | 11.71559 | 11.97917 | 11.50219 | 12.06798 | 11.69808 | 11.58160 | 11.75133 | 11.56159 | 12.10912 | 11.35685 |\n",
       "| chr13 | 8.888680 | 9.382453 | 9.603348 | 9.554135 | 9.197347 |  9.217262 | 9.195625 | 8.962639 | 9.480301 | 9.097588 | ⋯ | 11.70285 | 11.82851 | 11.45191 | 11.99635 | 12.04477 | 11.79443 | 11.38315 | 11.82745 | 11.82349 | 11.76159 |\n",
       "| chr14 | 9.436242 | 9.385272 | 9.698928 | 9.623444 | 9.407975 |  9.404010 | 9.250607 | 9.551405 | 9.430265 | 9.487349 | ⋯ | 11.13887 | 11.92727 | 11.27084 | 11.54440 | 11.13640 | 10.98648 | 11.60096 | 11.01194 | 11.81615 | 10.98371 |\n",
       "| chr15 | 9.151427 | 8.753094 | 8.777201 | 8.841502 | 9.256853 |  9.219916 | 8.665853 | 8.647394 | 8.642990 | 8.711173 | ⋯ | 11.40665 | 11.62766 | 11.23405 | 11.85397 | 11.19818 | 11.04991 | 11.51236 | 11.00486 | 12.58463 | 10.95189 |\n",
       "| chr16 | 9.024816 | 8.626452 | 8.867189 | 8.676033 | 8.844712 |  8.690308 | 8.739927 | 8.687470 | 8.673374 | 8.696626 | ⋯ | 11.47783 | 12.08037 | 11.28812 | 11.97977 | 11.57461 | 11.45207 | 11.65513 | 11.30916 | 12.05272 | 11.21462 |\n",
       "| chr17 | 9.529102 | 9.358256 | 9.189115 | 9.097830 | 9.340441 |  9.353402 | 9.096754 | 9.334769 | 9.205080 | 9.278946 | ⋯ | 11.48644 | 11.91347 | 11.24507 | 11.83838 | 11.50012 | 11.44628 | 11.68724 | 11.20967 | 12.01853 | 11.37462 |\n",
       "| chr18 | 9.500402 | 8.988962 | 9.711157 | 9.364462 | 9.760825 |  8.834300 | 9.038494 | 9.358458 | 9.237919 | 9.563939 | ⋯ | 11.32131 | 11.56637 | 10.86925 | 11.60680 | 10.91563 | 11.13147 | 11.16779 | 10.90989 | 11.72246 | 11.03135 |\n",
       "| chr19 | 9.205825 | 8.684127 | 8.606652 | 8.564537 | 8.952689 |  8.762928 | 8.778973 | 8.841099 | 8.643514 | 8.626127 | ⋯ | 11.90300 | 12.23466 | 11.70348 | 12.22704 | 11.73889 | 11.62587 | 11.97657 | 11.60186 | 12.25180 | 11.45583 |\n",
       "| chr2 | 9.163909 | 8.953588 | 9.018292 | 9.076002 | 9.194091 |  8.996657 | 9.038865 | 8.910884 | 8.919735 | 9.089288 | ⋯ | 11.63805 | 11.77152 | 11.43289 | 11.96348 | 11.62068 | 11.51745 | 11.64733 | 11.41533 | 12.17081 | 11.44594 |\n",
       "| chr20 | 9.129880 | 8.898100 | 8.913495 | 8.863690 | 8.917293 |  8.924373 | 8.764147 | 8.983457 | 8.699729 | 8.713017 | ⋯ | 11.36926 | 11.78615 | 11.13724 | 11.64852 | 11.07765 | 11.10031 | 11.55762 | 10.97914 | 11.79054 | 11.07736 |\n",
       "| chr21 | 9.413408 | 9.431808 | 9.583004 | 9.749250 | 9.539742 | 10.061348 | 8.928580 | 9.414229 | 9.824606 | 9.852269 | ⋯ | 11.37233 | 11.44439 | 11.21734 | 11.51151 | 11.22886 | 11.32200 | 11.09908 | 11.42805 | 11.74201 | 11.39851 |\n",
       "| chr22 | 9.679085 | 8.924270 | 9.006205 | 8.722459 | 9.007020 |  8.923847 | 9.049572 | 9.142811 | 8.952238 | 9.200457 | ⋯ | 11.55674 | 12.40545 | 11.50645 | 12.40399 | 11.79062 | 11.48909 | 11.89638 | 11.45873 | 12.28558 | 11.62090 |\n",
       "| chr3 | 9.260511 | 9.020674 | 9.215918 | 9.116817 | 9.016930 |  9.029450 | 9.056070 | 8.852130 | 9.088497 | 9.004508 | ⋯ | 11.14477 | 11.80362 | 11.14293 | 11.81172 | 11.16062 | 11.28944 | 11.16741 | 11.10999 | 11.81754 | 11.17098 |\n",
       "| chr4 | 9.357030 | 9.306612 | 9.290468 | 9.524399 | 9.411874 |  9.285432 | 8.853195 | 9.202762 | 9.245810 | 9.329146 | ⋯ | 11.52214 | 11.72986 | 11.16238 | 12.29076 | 11.22101 | 11.19462 | 11.12831 | 11.15525 | 12.28824 | 11.15017 |\n",
       "| chr5 | 9.179282 | 9.138385 | 9.551299 | 9.253567 | 9.280271 |  9.161017 | 9.005488 | 8.984744 | 9.154344 | 9.084727 | ⋯ | 11.18556 | 11.48846 | 10.90387 | 11.83545 | 11.18855 | 11.19251 | 11.44216 | 10.93596 | 11.84356 | 11.15587 |\n",
       "| chr6 | 9.255394 | 9.384747 | 9.326547 | 9.202863 | 9.465128 |  9.184613 | 8.982909 | 9.187402 | 9.241953 | 8.856343 | ⋯ | 11.41795 | 12.09293 | 11.29479 | 12.09031 | 11.21862 | 11.23383 | 11.46091 | 11.23967 | 12.08872 | 11.20023 |\n",
       "| chr7 | 8.725589 | 8.527739 | 8.515357 | 8.570279 | 9.054509 |  8.849416 | 8.722836 | 8.629487 | 8.632473 | 8.726084 | ⋯ | 11.21710 | 11.73349 | 10.96665 | 11.80219 | 11.17810 | 11.33501 | 11.04432 | 11.07712 | 11.78676 | 11.12234 |\n",
       "| chr8 | 9.070488 | 9.160694 | 8.890204 | 9.497899 | 9.101967 |  8.671085 | 8.710143 | 8.693092 | 9.109241 | 8.624319 | ⋯ | 11.49992 | 11.65790 | 11.59369 | 11.95605 | 11.57862 | 11.51207 | 11.50366 | 11.48471 | 12.21542 | 11.36377 |\n",
       "| chr9 | 8.710881 | 8.771925 | 8.677451 | 8.673925 | 8.934716 |  8.538452 | 8.754515 | 8.636995 | 8.627255 | 9.056179 | ⋯ | 11.23593 | 11.71217 | 11.03720 | 11.63415 | 10.90646 | 10.92117 | 11.25573 | 11.03455 | 11.93558 | 11.07904 |\n",
       "\n"
      ],
      "text/plain": [
       "      P037     P038     P039     P040     P041     P042      P043     P044    \n",
       "chr1  8.886105 8.781902 8.966401 8.766965 9.050702  8.726170 8.869192 8.808000\n",
       "chr10 8.858257 9.211164 9.178101 9.095438 9.183735  9.107345 8.663747 9.043509\n",
       "chr11 9.092875 8.804918 9.194041 9.189385 8.961379  8.909059 9.015970 8.919864\n",
       "chr12 9.094055 8.993567 9.041611 9.383268 9.567726  9.115342 9.037220 8.887654\n",
       "chr13 8.888680 9.382453 9.603348 9.554135 9.197347  9.217262 9.195625 8.962639\n",
       "chr14 9.436242 9.385272 9.698928 9.623444 9.407975  9.404010 9.250607 9.551405\n",
       "chr15 9.151427 8.753094 8.777201 8.841502 9.256853  9.219916 8.665853 8.647394\n",
       "chr16 9.024816 8.626452 8.867189 8.676033 8.844712  8.690308 8.739927 8.687470\n",
       "chr17 9.529102 9.358256 9.189115 9.097830 9.340441  9.353402 9.096754 9.334769\n",
       "chr18 9.500402 8.988962 9.711157 9.364462 9.760825  8.834300 9.038494 9.358458\n",
       "chr19 9.205825 8.684127 8.606652 8.564537 8.952689  8.762928 8.778973 8.841099\n",
       "chr2  9.163909 8.953588 9.018292 9.076002 9.194091  8.996657 9.038865 8.910884\n",
       "chr20 9.129880 8.898100 8.913495 8.863690 8.917293  8.924373 8.764147 8.983457\n",
       "chr21 9.413408 9.431808 9.583004 9.749250 9.539742 10.061348 8.928580 9.414229\n",
       "chr22 9.679085 8.924270 9.006205 8.722459 9.007020  8.923847 9.049572 9.142811\n",
       "chr3  9.260511 9.020674 9.215918 9.116817 9.016930  9.029450 9.056070 8.852130\n",
       "chr4  9.357030 9.306612 9.290468 9.524399 9.411874  9.285432 8.853195 9.202762\n",
       "chr5  9.179282 9.138385 9.551299 9.253567 9.280271  9.161017 9.005488 8.984744\n",
       "chr6  9.255394 9.384747 9.326547 9.202863 9.465128  9.184613 8.982909 9.187402\n",
       "chr7  8.725589 8.527739 8.515357 8.570279 9.054509  8.849416 8.722836 8.629487\n",
       "chr8  9.070488 9.160694 8.890204 9.497899 9.101967  8.671085 8.710143 8.693092\n",
       "chr9  8.710881 8.771925 8.677451 8.673925 8.934716  8.538452 8.754515 8.636995\n",
       "      P046     P047     ⋯ N08_SJ   N09_SJ   N10_SJ   N12_SJ   N14_SJ   N15_SJ  \n",
       "chr1  8.699137 8.795194 ⋯ 11.26504 11.72432 11.17857 11.85124 11.26077 11.18220\n",
       "chr10 8.602009 9.178632 ⋯ 11.18724 11.71582 11.25738 11.88985 11.10113 11.16414\n",
       "chr11 8.831765 8.864939 ⋯ 11.47857 12.09536 11.31929 12.13054 11.42522 11.23059\n",
       "chr12 8.983257 9.033678 ⋯ 11.71559 11.97917 11.50219 12.06798 11.69808 11.58160\n",
       "chr13 9.480301 9.097588 ⋯ 11.70285 11.82851 11.45191 11.99635 12.04477 11.79443\n",
       "chr14 9.430265 9.487349 ⋯ 11.13887 11.92727 11.27084 11.54440 11.13640 10.98648\n",
       "chr15 8.642990 8.711173 ⋯ 11.40665 11.62766 11.23405 11.85397 11.19818 11.04991\n",
       "chr16 8.673374 8.696626 ⋯ 11.47783 12.08037 11.28812 11.97977 11.57461 11.45207\n",
       "chr17 9.205080 9.278946 ⋯ 11.48644 11.91347 11.24507 11.83838 11.50012 11.44628\n",
       "chr18 9.237919 9.563939 ⋯ 11.32131 11.56637 10.86925 11.60680 10.91563 11.13147\n",
       "chr19 8.643514 8.626127 ⋯ 11.90300 12.23466 11.70348 12.22704 11.73889 11.62587\n",
       "chr2  8.919735 9.089288 ⋯ 11.63805 11.77152 11.43289 11.96348 11.62068 11.51745\n",
       "chr20 8.699729 8.713017 ⋯ 11.36926 11.78615 11.13724 11.64852 11.07765 11.10031\n",
       "chr21 9.824606 9.852269 ⋯ 11.37233 11.44439 11.21734 11.51151 11.22886 11.32200\n",
       "chr22 8.952238 9.200457 ⋯ 11.55674 12.40545 11.50645 12.40399 11.79062 11.48909\n",
       "chr3  9.088497 9.004508 ⋯ 11.14477 11.80362 11.14293 11.81172 11.16062 11.28944\n",
       "chr4  9.245810 9.329146 ⋯ 11.52214 11.72986 11.16238 12.29076 11.22101 11.19462\n",
       "chr5  9.154344 9.084727 ⋯ 11.18556 11.48846 10.90387 11.83545 11.18855 11.19251\n",
       "chr6  9.241953 8.856343 ⋯ 11.41795 12.09293 11.29479 12.09031 11.21862 11.23383\n",
       "chr7  8.632473 8.726084 ⋯ 11.21710 11.73349 10.96665 11.80219 11.17810 11.33501\n",
       "chr8  9.109241 8.624319 ⋯ 11.49992 11.65790 11.59369 11.95605 11.57862 11.51207\n",
       "chr9  8.627255 9.056179 ⋯ 11.23593 11.71217 11.03720 11.63415 10.90646 10.92117\n",
       "      N16_SJ   N17_SJ   N18_SJ   N19_SJ  \n",
       "chr1  11.40060 11.29754 11.87140 11.16803\n",
       "chr10 11.45003 11.12408 11.99014 11.07866\n",
       "chr11 11.62513 11.39631 12.32912 11.16037\n",
       "chr12 11.75133 11.56159 12.10912 11.35685\n",
       "chr13 11.38315 11.82745 11.82349 11.76159\n",
       "chr14 11.60096 11.01194 11.81615 10.98371\n",
       "chr15 11.51236 11.00486 12.58463 10.95189\n",
       "chr16 11.65513 11.30916 12.05272 11.21462\n",
       "chr17 11.68724 11.20967 12.01853 11.37462\n",
       "chr18 11.16779 10.90989 11.72246 11.03135\n",
       "chr19 11.97657 11.60186 12.25180 11.45583\n",
       "chr2  11.64733 11.41533 12.17081 11.44594\n",
       "chr20 11.55762 10.97914 11.79054 11.07736\n",
       "chr21 11.09908 11.42805 11.74201 11.39851\n",
       "chr22 11.89638 11.45873 12.28558 11.62090\n",
       "chr3  11.16741 11.10999 11.81754 11.17098\n",
       "chr4  11.12831 11.15525 12.28824 11.15017\n",
       "chr5  11.44216 10.93596 11.84356 11.15587\n",
       "chr6  11.46091 11.23967 12.08872 11.20023\n",
       "chr7  11.04432 11.07712 11.78676 11.12234\n",
       "chr8  11.50366 11.48471 12.21542 11.36377\n",
       "chr9  11.25573 11.03455 11.93558 11.07904"
      ]
     },
     "metadata": {},
     "output_type": "display_data"
    },
    {
     "data": {
      "image/png": "[encoded data removed]",
      "text/plain": [
       "plot without title"
      ]
     },
     "metadata": {},
     "output_type": "display_data"
    }
   ],
   "source": [
    "plotPCA2D(maspore_stjude_chr, maspore_stjude_metadata,\n",
    "          \"batch\", \"subtype\")\n",
    "maspore_stjude_chr"
   ]
  },
  {
   "cell_type": "code",
   "execution_count": null,
   "metadata": {},
   "outputs": [],
   "source": []
  }
 ],
 "metadata": {
  "kernelspec": {
   "display_name": "R",
   "language": "R",
   "name": "ir"
  },
  "language_info": {
   "codemirror_mode": "r",
   "file_extension": ".r",
   "mimetype": "text/x-r-source",
   "name": "R",
   "pygments_lexer": "r",
   "version": "3.5.1"
  }
 },
 "nbformat": 4,
 "nbformat_minor": 2
}
